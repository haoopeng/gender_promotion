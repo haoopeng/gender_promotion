{
 "cells": [
  {
   "cell_type": "code",
   "execution_count": 2,
   "metadata": {},
   "outputs": [],
   "source": [
    "import os\n",
    "import math\n",
    "import json\n",
    "import csv\n",
    "import time\n",
    "import random\n",
    "import requests\n",
    "import numpy as np\n",
    "import pandas as pd\n",
    "import seaborn as sns\n",
    "import matplotlib.colors\n",
    "import matplotlib.cm as cm\n",
    "import matplotlib.pyplot as plt\n",
    "import matplotlib.ticker as ticker\n",
    "from datetime import datetime"
   ]
  },
  {
   "cell_type": "code",
   "execution_count": 3,
   "metadata": {},
   "outputs": [],
   "source": [
    "Data_Root = '/Data/Promotion/'"
   ]
  },
  {
   "cell_type": "code",
   "execution_count": 4,
   "metadata": {},
   "outputs": [],
   "source": [
    "# pd.options.display.precision = 20"
   ]
  },
  {
   "cell_type": "code",
   "execution_count": 5,
   "metadata": {},
   "outputs": [],
   "source": [
    "CIs = {'90': 1.645, '95': 1.96, '99': 2.576}"
   ]
  },
  {
   "cell_type": "code",
   "execution_count": 6,
   "metadata": {},
   "outputs": [],
   "source": [
    "labels = ['Male', 'Female']"
   ]
  },
  {
   "cell_type": "code",
   "execution_count": 7,
   "metadata": {},
   "outputs": [],
   "source": [
    "colors = sns.color_palette()[:len(labels)]"
   ]
  },
  {
   "cell_type": "code",
   "execution_count": 7,
   "metadata": {},
   "outputs": [],
   "source": [
    "# load reg data with basic controls\n",
    "utype = {'author_id': str, 'matched_tid': 'str', 'matched_tid_original': 'str', 'matched_tid_retweet': 'str'}\n",
    "reg_data = pd.read_csv(Data_Root+\"revision/reg_data.csv\", header=0, dtype=utype)"
   ]
  },
  {
   "cell_type": "code",
   "execution_count": 10,
   "metadata": {
    "scrolled": false
   },
   "outputs": [
    {
     "data": {
      "text/plain": [
       "(31956185, 58)"
      ]
     },
     "execution_count": 10,
     "metadata": {},
     "output_type": "execute_result"
    }
   ],
   "source": [
    "# before dropping missing values\n",
    "reg_data.shape"
   ]
  },
  {
   "cell_type": "code",
   "execution_count": null,
   "metadata": {
    "scrolled": true
   },
   "outputs": [],
   "source": [
    "reg_data.isna().sum()"
   ]
  },
  {
   "cell_type": "code",
   "execution_count": null,
   "metadata": {},
   "outputs": [],
   "source": [
    "# num of obs in regression after dropping missing data\n",
    "inx = reg_data[reg_data.columns[~reg_data.columns.isin(['matched_tid', 'matched_tid_original', 'matched_tid_retweet'])]].dropna().index\n"
   ]
  },
  {
   "cell_type": "code",
   "execution_count": 13,
   "metadata": {
    "scrolled": true
   },
   "outputs": [
    {
     "data": {
      "text/plain": [
       "14552304"
      ]
     },
     "execution_count": 13,
     "metadata": {},
     "output_type": "execute_result"
    }
   ],
   "source": [
    "# mainly dropped due to missing data on affiliation and journal impact.\n",
    "len(inx)"
   ]
  },
  {
   "cell_type": "code",
   "execution_count": null,
   "metadata": {},
   "outputs": [],
   "source": [
    "reg_data = reg_data.loc[inx]\n",
    "reg_data.index = range(len(reg_data))"
   ]
  },
  {
   "cell_type": "code",
   "execution_count": null,
   "metadata": {},
   "outputs": [],
   "source": [
    "del inx"
   ]
  },
  {
   "cell_type": "markdown",
   "metadata": {},
   "source": [
    "### Add total mentions and self-promotion position"
   ]
  },
  {
   "cell_type": "code",
   "execution_count": 15,
   "metadata": {},
   "outputs": [],
   "source": [
    "dois = set(reg_data.doi)"
   ]
  },
  {
   "cell_type": "code",
   "execution_count": 16,
   "metadata": {
    "scrolled": false
   },
   "outputs": [
    {
     "data": {
      "text/plain": [
       "2986263"
      ]
     },
     "execution_count": 16,
     "metadata": {},
     "output_type": "execute_result"
    }
   ],
   "source": [
    "len(dois)"
   ]
  },
  {
   "cell_type": "code",
   "execution_count": 17,
   "metadata": {},
   "outputs": [],
   "source": [
    "doi_tids = {}\n",
    "with open(Data_Root+'revision/papers_2013_2018.json', 'r') as ifile:\n",
    "    for line in ifile:\n",
    "        res = json.loads(line)\n",
    "        doi = res['doi']\n",
    "        if doi in dois:\n",
    "            doi_tids[doi] = [tweet['tweet_id'] for tweet in res['data']['tweets']]"
   ]
  },
  {
   "cell_type": "code",
   "execution_count": 18,
   "metadata": {},
   "outputs": [
    {
     "data": {
      "text/plain": [
       "2986263"
      ]
     },
     "execution_count": 18,
     "metadata": {},
     "output_type": "execute_result"
    }
   ],
   "source": [
    "len(doi_tids)"
   ]
  },
  {
   "cell_type": "code",
   "execution_count": 19,
   "metadata": {},
   "outputs": [],
   "source": [
    "tids = set()\n",
    "for doi in doi_tids:\n",
    "    for tid in doi_tids[doi]:\n",
    "        tids.add(tid)"
   ]
  },
  {
   "cell_type": "code",
   "execution_count": 20,
   "metadata": {
    "scrolled": true
   },
   "outputs": [
    {
     "data": {
      "text/plain": [
       "23372559"
      ]
     },
     "execution_count": 20,
     "metadata": {},
     "output_type": "execute_result"
    }
   ],
   "source": [
    "len(tids)"
   ]
  },
  {
   "cell_type": "code",
   "execution_count": 21,
   "metadata": {},
   "outputs": [],
   "source": [
    "tid_date_all = {}\n",
    "tid_follow_cn_all = {}\n",
    "\n",
    "with open(Data_Root+'tweets_v2.json', 'r') as ifile:\n",
    "    for line in ifile:\n",
    "        line = json.loads(line)\n",
    "        tid, tdate = line['id_str'], line['created_at']\n",
    "        if tid in tids:\n",
    "            tid_date_all[tid] = datetime.strptime(tdate, '%a %b %d %H:%M:%S +0000 %Y')#.strftime(\"%Y-%m-%d\")\n",
    "            tid_follow_cn_all[tid] = line['user']['followers_count']\n",
    "\n",
    "# this file is collected earlier, but without full text\n",
    "with open(Data_Root+'tweets_v2_non_full_text.json', 'r') as ifile:\n",
    "    for line in ifile:\n",
    "        line = json.loads(line)\n",
    "        tid, tdate = line['id_str'], line['created_at']\n",
    "        if tid in tids:\n",
    "            # tid_name_all[tid] = line['user']['name']\n",
    "            tid_date_all[tid] = datetime.strptime(tdate, '%a %b %d %H:%M:%S +0000 %Y')#.strftime(\"%Y-%m-%d\")\n",
    "            tid_follow_cn_all[tid] = line['user']['followers_count']"
   ]
  },
  {
   "cell_type": "code",
   "execution_count": 22,
   "metadata": {
    "scrolled": false
   },
   "outputs": [
    {
     "data": {
      "text/plain": [
       "21444419"
      ]
     },
     "execution_count": 22,
     "metadata": {},
     "output_type": "execute_result"
    }
   ],
   "source": [
    "len(tid_date_all)"
   ]
  },
  {
   "cell_type": "code",
   "execution_count": 23,
   "metadata": {
    "scrolled": true
   },
   "outputs": [
    {
     "data": {
      "text/plain": [
       "21444419"
      ]
     },
     "execution_count": 23,
     "metadata": {},
     "output_type": "execute_result"
    }
   ],
   "source": [
    "len(tid_follow_cn_all)"
   ]
  },
  {
   "cell_type": "markdown",
   "metadata": {},
   "source": [
    "Count num of tweets for the final set of papers"
   ]
  },
  {
   "cell_type": "code",
   "execution_count": 24,
   "metadata": {
    "scrolled": true
   },
   "outputs": [
    {
     "data": {
      "text/plain": [
       "11420039"
      ]
     },
     "execution_count": 24,
     "metadata": {},
     "output_type": "execute_result"
    }
   ],
   "source": [
    "# focus on Male and Female\n",
    "len(reg_data.loc[reg_data['gender'].isin(['Female', 'Male'])])"
   ]
  },
  {
   "cell_type": "code",
   "execution_count": 25,
   "metadata": {},
   "outputs": [],
   "source": [
    "cn = 0\n",
    "for doi in set(reg_data.loc[reg_data['gender'].isin(['Female', 'Male'])]['doi']):\n",
    "    cn += len(doi_tids[doi])"
   ]
  },
  {
   "cell_type": "code",
   "execution_count": 26,
   "metadata": {
    "scrolled": true
   },
   "outputs": [
    {
     "data": {
      "text/plain": [
       "23082422"
      ]
     },
     "execution_count": 26,
     "metadata": {},
     "output_type": "execute_result"
    }
   ],
   "source": [
    "cn"
   ]
  },
  {
   "cell_type": "code",
   "execution_count": 27,
   "metadata": {},
   "outputs": [],
   "source": [
    "def check_early_self_promo(row):\n",
    "    doi, p_0, mat_tid = row['doi'], row['self_promotion'], row['matched_tid']\n",
    "    valid_tids = [tid for tid in doi_tids[doi] if tid in tid_date_all]\n",
    "    total = len(valid_tids)\n",
    "    if p_0:\n",
    "        sort_tids = sorted(valid_tids, key=lambda tid: tid_date_all[tid])\n",
    "        # valid_users = [tid_name_all[tid] for tid in sort_tids]\n",
    "        # ix = valid_users.index(t_user)\n",
    "        ix = sort_tids.index(mat_tid) + 1\n",
    "        return (total, ix, ix/total)\n",
    "    else:\n",
    "        return (total, -1, -1)"
   ]
  },
  {
   "cell_type": "code",
   "execution_count": 28,
   "metadata": {
    "scrolled": true
   },
   "outputs": [],
   "source": [
    "reg_data['Tem'] = reg_data.apply(lambda row: check_early_self_promo(row), axis = 1)\n",
    "reg_data[['total_num_tweets', 'self_promo_position', 'self_promo_position_frac']] = pd.DataFrame(reg_data.Tem.values.tolist(), index = reg_data.index)\n",
    "reg_data = reg_data.drop(columns=['Tem'])\n"
   ]
  },
  {
   "cell_type": "code",
   "execution_count": 29,
   "metadata": {
    "scrolled": false
   },
   "outputs": [
    {
     "data": {
      "text/plain": [
       "154460"
      ]
     },
     "execution_count": 29,
     "metadata": {},
     "output_type": "execute_result"
    }
   ],
   "source": [
    "np.sum(reg_data['self_promo_position'] == 1)"
   ]
  },
  {
   "cell_type": "code",
   "execution_count": 30,
   "metadata": {
    "scrolled": false
   },
   "outputs": [
    {
     "data": {
      "text/plain": [
       "0.2937104956911305"
      ]
     },
     "execution_count": 30,
     "metadata": {},
     "output_type": "execute_result"
    }
   ],
   "source": [
    "np.sum(reg_data['self_promo_position'] == 1) / np.sum(reg_data['self_promotion'] == True)"
   ]
  },
  {
   "cell_type": "markdown",
   "metadata": {},
   "source": [
    "### Add num. of followers control"
   ]
  },
  {
   "cell_type": "code",
   "execution_count": 31,
   "metadata": {},
   "outputs": [],
   "source": [
    "def get_tid_follower_cn(row):\n",
    "    doi, p_0, mat_tid = row['doi'], row['self_promotion'], row['matched_tid']\n",
    "    if p_0:\n",
    "        return tid_follow_cn_all[mat_tid]\n",
    "    else:\n",
    "        return -1"
   ]
  },
  {
   "cell_type": "code",
   "execution_count": 32,
   "metadata": {},
   "outputs": [],
   "source": [
    "reg_data['matched_tid_follower_cn'] = reg_data.apply(get_tid_follower_cn, axis=1)"
   ]
  },
  {
   "cell_type": "code",
   "execution_count": 33,
   "metadata": {
    "scrolled": true
   },
   "outputs": [
    {
     "data": {
      "text/html": [
       "<div>\n",
       "<style scoped>\n",
       "    .dataframe tbody tr th:only-of-type {\n",
       "        vertical-align: middle;\n",
       "    }\n",
       "\n",
       "    .dataframe tbody tr th {\n",
       "        vertical-align: top;\n",
       "    }\n",
       "\n",
       "    .dataframe thead th {\n",
       "        text-align: right;\n",
       "    }\n",
       "</style>\n",
       "<table border=\"1\" class=\"dataframe\">\n",
       "  <thead>\n",
       "    <tr style=\"text-align: right;\">\n",
       "      <th></th>\n",
       "      <th>doi</th>\n",
       "      <th>pub_year</th>\n",
       "      <th>author_name</th>\n",
       "      <th>authorship_seq</th>\n",
       "      <th>authorship_pos</th>\n",
       "      <th>author_id</th>\n",
       "      <th>affiliation_ids</th>\n",
       "      <th>self_promotion_original</th>\n",
       "      <th>matched_tid_original</th>\n",
       "      <th>self_promotion_retweet</th>\n",
       "      <th>...</th>\n",
       "      <th>General</th>\n",
       "      <th>Life_Sciences</th>\n",
       "      <th>Health_Sciences</th>\n",
       "      <th>Physical_Sciences</th>\n",
       "      <th>affiliation_rank_cate</th>\n",
       "      <th>author_pub_count_cate</th>\n",
       "      <th>total_num_tweets</th>\n",
       "      <th>self_promo_position</th>\n",
       "      <th>self_promo_position_frac</th>\n",
       "      <th>matched_tid_follower_cn</th>\n",
       "    </tr>\n",
       "  </thead>\n",
       "  <tbody>\n",
       "    <tr>\n",
       "      <th>0</th>\n",
       "      <td>10.4202/app.00261.2016</td>\n",
       "      <td>2016</td>\n",
       "      <td>Michal Zaton</td>\n",
       "      <td>2</td>\n",
       "      <td>last_position</td>\n",
       "      <td>2064717215</td>\n",
       "      <td>864159182</td>\n",
       "      <td>False</td>\n",
       "      <td>NaN</td>\n",
       "      <td>False</td>\n",
       "      <td>...</td>\n",
       "      <td>0</td>\n",
       "      <td>0</td>\n",
       "      <td>0</td>\n",
       "      <td>0</td>\n",
       "      <td>8.0</td>\n",
       "      <td>7.0</td>\n",
       "      <td>0</td>\n",
       "      <td>-1</td>\n",
       "      <td>-1.0</td>\n",
       "      <td>-1</td>\n",
       "    </tr>\n",
       "    <tr>\n",
       "      <th>1</th>\n",
       "      <td>10.1016/j.foodchem.2013.11.152</td>\n",
       "      <td>2014</td>\n",
       "      <td>Hee-Woong Kim</td>\n",
       "      <td>2</td>\n",
       "      <td>middle_position</td>\n",
       "      <td>2099457132</td>\n",
       "      <td>165507594</td>\n",
       "      <td>False</td>\n",
       "      <td>NaN</td>\n",
       "      <td>False</td>\n",
       "      <td>...</td>\n",
       "      <td>0</td>\n",
       "      <td>1</td>\n",
       "      <td>0</td>\n",
       "      <td>1</td>\n",
       "      <td>7.0</td>\n",
       "      <td>2.0</td>\n",
       "      <td>1</td>\n",
       "      <td>-1</td>\n",
       "      <td>-1.0</td>\n",
       "      <td>-1</td>\n",
       "    </tr>\n",
       "    <tr>\n",
       "      <th>2</th>\n",
       "      <td>10.1016/j.foodchem.2013.11.152</td>\n",
       "      <td>2014</td>\n",
       "      <td>Deug-Chan Lee</td>\n",
       "      <td>4</td>\n",
       "      <td>middle_position</td>\n",
       "      <td>2322741405</td>\n",
       "      <td>165507594</td>\n",
       "      <td>False</td>\n",
       "      <td>NaN</td>\n",
       "      <td>False</td>\n",
       "      <td>...</td>\n",
       "      <td>0</td>\n",
       "      <td>1</td>\n",
       "      <td>0</td>\n",
       "      <td>1</td>\n",
       "      <td>7.0</td>\n",
       "      <td>2.0</td>\n",
       "      <td>1</td>\n",
       "      <td>-1</td>\n",
       "      <td>-1.0</td>\n",
       "      <td>-1</td>\n",
       "    </tr>\n",
       "    <tr>\n",
       "      <th>3</th>\n",
       "      <td>10.1016/j.foodchem.2013.11.152</td>\n",
       "      <td>2014</td>\n",
       "      <td>Hae-Ik Rhee</td>\n",
       "      <td>5</td>\n",
       "      <td>last_position</td>\n",
       "      <td>2463841131</td>\n",
       "      <td>165507594</td>\n",
       "      <td>False</td>\n",
       "      <td>NaN</td>\n",
       "      <td>False</td>\n",
       "      <td>...</td>\n",
       "      <td>0</td>\n",
       "      <td>1</td>\n",
       "      <td>0</td>\n",
       "      <td>1</td>\n",
       "      <td>7.0</td>\n",
       "      <td>5.0</td>\n",
       "      <td>1</td>\n",
       "      <td>-1</td>\n",
       "      <td>-1.0</td>\n",
       "      <td>-1</td>\n",
       "    </tr>\n",
       "    <tr>\n",
       "      <th>4</th>\n",
       "      <td>10.1016/j.foodchem.2013.11.152</td>\n",
       "      <td>2014</td>\n",
       "      <td>He Li</td>\n",
       "      <td>3</td>\n",
       "      <td>middle_position</td>\n",
       "      <td>2569941301</td>\n",
       "      <td>4750791</td>\n",
       "      <td>False</td>\n",
       "      <td>NaN</td>\n",
       "      <td>False</td>\n",
       "      <td>...</td>\n",
       "      <td>0</td>\n",
       "      <td>1</td>\n",
       "      <td>0</td>\n",
       "      <td>1</td>\n",
       "      <td>9.0</td>\n",
       "      <td>1.0</td>\n",
       "      <td>1</td>\n",
       "      <td>-1</td>\n",
       "      <td>-1.0</td>\n",
       "      <td>-1</td>\n",
       "    </tr>\n",
       "  </tbody>\n",
       "</table>\n",
       "<p>5 rows × 62 columns</p>\n",
       "</div>"
      ],
      "text/plain": [
       "                              doi  pub_year    author_name  authorship_seq  \\\n",
       "0          10.4202/app.00261.2016      2016   Michal Zaton               2   \n",
       "1  10.1016/j.foodchem.2013.11.152      2014  Hee-Woong Kim               2   \n",
       "2  10.1016/j.foodchem.2013.11.152      2014  Deug-Chan Lee               4   \n",
       "3  10.1016/j.foodchem.2013.11.152      2014    Hae-Ik Rhee               5   \n",
       "4  10.1016/j.foodchem.2013.11.152      2014          He Li               3   \n",
       "\n",
       "    authorship_pos   author_id affiliation_ids  self_promotion_original  \\\n",
       "0    last_position  2064717215       864159182                    False   \n",
       "1  middle_position  2099457132       165507594                    False   \n",
       "2  middle_position  2322741405       165507594                    False   \n",
       "3    last_position  2463841131       165507594                    False   \n",
       "4  middle_position  2569941301         4750791                    False   \n",
       "\n",
       "  matched_tid_original  self_promotion_retweet  ... General  Life_Sciences  \\\n",
       "0                  NaN                   False  ...       0              0   \n",
       "1                  NaN                   False  ...       0              1   \n",
       "2                  NaN                   False  ...       0              1   \n",
       "3                  NaN                   False  ...       0              1   \n",
       "4                  NaN                   False  ...       0              1   \n",
       "\n",
       "  Health_Sciences Physical_Sciences  affiliation_rank_cate  \\\n",
       "0               0                 0                    8.0   \n",
       "1               0                 1                    7.0   \n",
       "2               0                 1                    7.0   \n",
       "3               0                 1                    7.0   \n",
       "4               0                 1                    9.0   \n",
       "\n",
       "   author_pub_count_cate  total_num_tweets  self_promo_position  \\\n",
       "0                    7.0                 0                   -1   \n",
       "1                    2.0                 1                   -1   \n",
       "2                    2.0                 1                   -1   \n",
       "3                    5.0                 1                   -1   \n",
       "4                    1.0                 1                   -1   \n",
       "\n",
       "  self_promo_position_frac matched_tid_follower_cn  \n",
       "0                     -1.0                      -1  \n",
       "1                     -1.0                      -1  \n",
       "2                     -1.0                      -1  \n",
       "3                     -1.0                      -1  \n",
       "4                     -1.0                      -1  \n",
       "\n",
       "[5 rows x 62 columns]"
      ]
     },
     "execution_count": 33,
     "metadata": {},
     "output_type": "execute_result"
    }
   ],
   "source": [
    "reg_data.head()"
   ]
  },
  {
   "cell_type": "markdown",
   "metadata": {},
   "source": [
    "### Add num of retweets for self-promotional tweets"
   ]
  },
  {
   "cell_type": "code",
   "execution_count": 9,
   "metadata": {},
   "outputs": [
    {
     "data": {
      "text/plain": [
       "14552304"
      ]
     },
     "execution_count": 9,
     "metadata": {},
     "output_type": "execute_result"
    }
   ],
   "source": [
    "len(reg_data)"
   ]
  },
  {
   "cell_type": "code",
   "execution_count": 10,
   "metadata": {},
   "outputs": [
    {
     "data": {
      "text/plain": [
       "525892"
      ]
     },
     "execution_count": 10,
     "metadata": {},
     "output_type": "execute_result"
    }
   ],
   "source": [
    "len(reg_data.loc[reg_data['self_promotion'] == True])"
   ]
  },
  {
   "cell_type": "code",
   "execution_count": 19,
   "metadata": {},
   "outputs": [
    {
     "data": {
      "text/plain": [
       "0"
      ]
     },
     "execution_count": 19,
     "metadata": {},
     "output_type": "execute_result"
    }
   ],
   "source": [
    "np.sum(reg_data.loc[reg_data['self_promotion'] == True]['total_num_tweets'].isna())"
   ]
  },
  {
   "cell_type": "code",
   "execution_count": 16,
   "metadata": {
    "scrolled": true
   },
   "outputs": [
    {
     "data": {
      "text/plain": [
       "525892"
      ]
     },
     "execution_count": 16,
     "metadata": {},
     "output_type": "execute_result"
    }
   ],
   "source": [
    "len(reg_data.loc[~reg_data['matched_tid'].isna()])"
   ]
  },
  {
   "cell_type": "code",
   "execution_count": 17,
   "metadata": {},
   "outputs": [],
   "source": [
    "tids_ = set(reg_data.loc[~reg_data['matched_tid'].isna()]['matched_tid'])"
   ]
  },
  {
   "cell_type": "code",
   "execution_count": 20,
   "metadata": {
    "scrolled": true
   },
   "outputs": [],
   "source": [
    "tid_engage_stats = {}\n",
    "\n",
    "with open(Data_Root+'tweets_v2.json', 'r') as ifile:\n",
    "    for line in ifile:\n",
    "        line = json.loads(line)\n",
    "        tid = line['id_str']\n",
    "        if tid in tids_:\n",
    "            tid_engage_stats[tid] = (line['retweet_count'], line['favorite_count'])\n",
    "\n",
    "# this file is collected earlier\n",
    "with open(Data_Root+'tweets_v2_non_full_text.json', 'r') as ifile:\n",
    "    for line in ifile:\n",
    "        line = json.loads(line)\n",
    "        tid = line['id_str']\n",
    "        if tid in tids_:\n",
    "            tid_engage_stats[tid] = (line['retweet_count'], line['favorite_count'])"
   ]
  },
  {
   "cell_type": "code",
   "execution_count": 21,
   "metadata": {},
   "outputs": [],
   "source": [
    "reg_data['matched_tid_retweet_cn'] = reg_data['matched_tid'].apply(lambda tid: tid_engage_stats[tid][0] if tid in tid_engage_stats else 0)\n",
    "reg_data['matched_tid_likes_cn'] = reg_data['matched_tid'].apply(lambda tid: tid_engage_stats[tid][1] if tid in tid_engage_stats else 0)"
   ]
  },
  {
   "cell_type": "code",
   "execution_count": 22,
   "metadata": {
    "scrolled": true
   },
   "outputs": [
    {
     "data": {
      "text/html": [
       "<div>\n",
       "<style scoped>\n",
       "    .dataframe tbody tr th:only-of-type {\n",
       "        vertical-align: middle;\n",
       "    }\n",
       "\n",
       "    .dataframe tbody tr th {\n",
       "        vertical-align: top;\n",
       "    }\n",
       "\n",
       "    .dataframe thead th {\n",
       "        text-align: right;\n",
       "    }\n",
       "</style>\n",
       "<table border=\"1\" class=\"dataframe\">\n",
       "  <thead>\n",
       "    <tr style=\"text-align: right;\">\n",
       "      <th></th>\n",
       "      <th>doi</th>\n",
       "      <th>pub_year</th>\n",
       "      <th>author_name</th>\n",
       "      <th>authorship_seq</th>\n",
       "      <th>authorship_pos</th>\n",
       "      <th>author_id</th>\n",
       "      <th>affiliation_ids</th>\n",
       "      <th>self_promotion_original</th>\n",
       "      <th>matched_tid_original</th>\n",
       "      <th>self_promotion_retweet</th>\n",
       "      <th>...</th>\n",
       "      <th>is_active_on_twitter</th>\n",
       "      <th>follower_cn_snapshot</th>\n",
       "      <th>matched_uid</th>\n",
       "      <th>is_active_on_twitter_ours</th>\n",
       "      <th>follower_cn_snapshot_ours</th>\n",
       "      <th>is_active_on_twitter_combine</th>\n",
       "      <th>follower_cn_snapshot_combine</th>\n",
       "      <th>self_promotion_first</th>\n",
       "      <th>matched_tid_retweet_cn</th>\n",
       "      <th>matched_tid_likes_cn</th>\n",
       "    </tr>\n",
       "  </thead>\n",
       "  <tbody>\n",
       "    <tr>\n",
       "      <th>0</th>\n",
       "      <td>10.4202/app.00261.2016</td>\n",
       "      <td>2016</td>\n",
       "      <td>Michal Zaton</td>\n",
       "      <td>2</td>\n",
       "      <td>last_position</td>\n",
       "      <td>2064717215</td>\n",
       "      <td>864159182</td>\n",
       "      <td>False</td>\n",
       "      <td>NaN</td>\n",
       "      <td>False</td>\n",
       "      <td>...</td>\n",
       "      <td>False</td>\n",
       "      <td>-1</td>\n",
       "      <td>NaN</td>\n",
       "      <td>False</td>\n",
       "      <td>-1</td>\n",
       "      <td>False</td>\n",
       "      <td>-1</td>\n",
       "      <td>False</td>\n",
       "      <td>-1</td>\n",
       "      <td>-1</td>\n",
       "    </tr>\n",
       "    <tr>\n",
       "      <th>1</th>\n",
       "      <td>10.1016/j.foodchem.2013.11.152</td>\n",
       "      <td>2014</td>\n",
       "      <td>Hee-Woong Kim</td>\n",
       "      <td>2</td>\n",
       "      <td>middle_position</td>\n",
       "      <td>2099457132</td>\n",
       "      <td>165507594</td>\n",
       "      <td>False</td>\n",
       "      <td>NaN</td>\n",
       "      <td>False</td>\n",
       "      <td>...</td>\n",
       "      <td>False</td>\n",
       "      <td>-1</td>\n",
       "      <td>NaN</td>\n",
       "      <td>False</td>\n",
       "      <td>-1</td>\n",
       "      <td>False</td>\n",
       "      <td>-1</td>\n",
       "      <td>False</td>\n",
       "      <td>-1</td>\n",
       "      <td>-1</td>\n",
       "    </tr>\n",
       "    <tr>\n",
       "      <th>2</th>\n",
       "      <td>10.1016/j.foodchem.2013.11.152</td>\n",
       "      <td>2014</td>\n",
       "      <td>Deug-Chan Lee</td>\n",
       "      <td>4</td>\n",
       "      <td>middle_position</td>\n",
       "      <td>2322741405</td>\n",
       "      <td>165507594</td>\n",
       "      <td>False</td>\n",
       "      <td>NaN</td>\n",
       "      <td>False</td>\n",
       "      <td>...</td>\n",
       "      <td>False</td>\n",
       "      <td>-1</td>\n",
       "      <td>NaN</td>\n",
       "      <td>False</td>\n",
       "      <td>-1</td>\n",
       "      <td>False</td>\n",
       "      <td>-1</td>\n",
       "      <td>False</td>\n",
       "      <td>-1</td>\n",
       "      <td>-1</td>\n",
       "    </tr>\n",
       "    <tr>\n",
       "      <th>3</th>\n",
       "      <td>10.1016/j.foodchem.2013.11.152</td>\n",
       "      <td>2014</td>\n",
       "      <td>Hae-Ik Rhee</td>\n",
       "      <td>5</td>\n",
       "      <td>last_position</td>\n",
       "      <td>2463841131</td>\n",
       "      <td>165507594</td>\n",
       "      <td>False</td>\n",
       "      <td>NaN</td>\n",
       "      <td>False</td>\n",
       "      <td>...</td>\n",
       "      <td>False</td>\n",
       "      <td>-1</td>\n",
       "      <td>NaN</td>\n",
       "      <td>False</td>\n",
       "      <td>-1</td>\n",
       "      <td>False</td>\n",
       "      <td>-1</td>\n",
       "      <td>False</td>\n",
       "      <td>-1</td>\n",
       "      <td>-1</td>\n",
       "    </tr>\n",
       "    <tr>\n",
       "      <th>4</th>\n",
       "      <td>10.1016/j.foodchem.2013.11.152</td>\n",
       "      <td>2014</td>\n",
       "      <td>He Li</td>\n",
       "      <td>3</td>\n",
       "      <td>middle_position</td>\n",
       "      <td>2569941301</td>\n",
       "      <td>4750791</td>\n",
       "      <td>False</td>\n",
       "      <td>NaN</td>\n",
       "      <td>False</td>\n",
       "      <td>...</td>\n",
       "      <td>False</td>\n",
       "      <td>-1</td>\n",
       "      <td>NaN</td>\n",
       "      <td>False</td>\n",
       "      <td>-1</td>\n",
       "      <td>False</td>\n",
       "      <td>-1</td>\n",
       "      <td>False</td>\n",
       "      <td>-1</td>\n",
       "      <td>-1</td>\n",
       "    </tr>\n",
       "  </tbody>\n",
       "</table>\n",
       "<p>5 rows × 83 columns</p>\n",
       "</div>"
      ],
      "text/plain": [
       "                              doi  pub_year    author_name  authorship_seq  \\\n",
       "0          10.4202/app.00261.2016      2016   Michal Zaton               2   \n",
       "1  10.1016/j.foodchem.2013.11.152      2014  Hee-Woong Kim               2   \n",
       "2  10.1016/j.foodchem.2013.11.152      2014  Deug-Chan Lee               4   \n",
       "3  10.1016/j.foodchem.2013.11.152      2014    Hae-Ik Rhee               5   \n",
       "4  10.1016/j.foodchem.2013.11.152      2014          He Li               3   \n",
       "\n",
       "    authorship_pos   author_id affiliation_ids  self_promotion_original  \\\n",
       "0    last_position  2064717215       864159182                    False   \n",
       "1  middle_position  2099457132       165507594                    False   \n",
       "2  middle_position  2322741405       165507594                    False   \n",
       "3    last_position  2463841131       165507594                    False   \n",
       "4  middle_position  2569941301         4750791                    False   \n",
       "\n",
       "  matched_tid_original  self_promotion_retweet  ... is_active_on_twitter  \\\n",
       "0                  NaN                   False  ...                False   \n",
       "1                  NaN                   False  ...                False   \n",
       "2                  NaN                   False  ...                False   \n",
       "3                  NaN                   False  ...                False   \n",
       "4                  NaN                   False  ...                False   \n",
       "\n",
       "   follower_cn_snapshot matched_uid is_active_on_twitter_ours  \\\n",
       "0                    -1         NaN                     False   \n",
       "1                    -1         NaN                     False   \n",
       "2                    -1         NaN                     False   \n",
       "3                    -1         NaN                     False   \n",
       "4                    -1         NaN                     False   \n",
       "\n",
       "   follower_cn_snapshot_ours  is_active_on_twitter_combine  \\\n",
       "0                         -1                         False   \n",
       "1                         -1                         False   \n",
       "2                         -1                         False   \n",
       "3                         -1                         False   \n",
       "4                         -1                         False   \n",
       "\n",
       "   follower_cn_snapshot_combine  self_promotion_first matched_tid_retweet_cn  \\\n",
       "0                            -1                 False                     -1   \n",
       "1                            -1                 False                     -1   \n",
       "2                            -1                 False                     -1   \n",
       "3                            -1                 False                     -1   \n",
       "4                            -1                 False                     -1   \n",
       "\n",
       "  matched_tid_likes_cn  \n",
       "0                   -1  \n",
       "1                   -1  \n",
       "2                   -1  \n",
       "3                   -1  \n",
       "4                   -1  \n",
       "\n",
       "[5 rows x 83 columns]"
      ]
     },
     "execution_count": 22,
     "metadata": {},
     "output_type": "execute_result"
    }
   ],
   "source": [
    "reg_data.head()"
   ]
  },
  {
   "cell_type": "code",
   "execution_count": 23,
   "metadata": {},
   "outputs": [
    {
     "data": {
      "text/plain": [
       "525892"
      ]
     },
     "execution_count": 23,
     "metadata": {},
     "output_type": "execute_result"
    }
   ],
   "source": [
    "len(reg_data.loc[reg_data['matched_tid_retweet_cn'] != -1])"
   ]
  },
  {
   "cell_type": "markdown",
   "metadata": {},
   "source": [
    "### Different definition of self-promotion"
   ]
  },
  {
   "cell_type": "markdown",
   "metadata": {},
   "source": [
    "Define self-promotion timing as the actual time difference between promotion time and publication date"
   ]
  },
  {
   "cell_type": "code",
   "execution_count": 35,
   "metadata": {
    "scrolled": true
   },
   "outputs": [
    {
     "name": "stdout",
     "output_type": "stream",
     "text": [
      "processed 1000000 lines...\n",
      "processed 2000000 lines...\n",
      "processed 3000000 lines...\n",
      "processed 4000000 lines...\n",
      "processed 5000000 lines...\n",
      "processed 6000000 lines...\n",
      "processed 7000000 lines...\n",
      "processed 8000000 lines...\n",
      "processed 9000000 lines...\n",
      "processed 10000000 lines...\n",
      "processed 11000000 lines...\n",
      "processed 12000000 lines...\n",
      "processed 13000000 lines...\n",
      "processed 14000000 lines...\n",
      "processed 15000000 lines...\n",
      "processed 16000000 lines...\n",
      "processed 17000000 lines...\n",
      "processed 18000000 lines...\n",
      "processed 19000000 lines...\n",
      "processed 20000000 lines...\n",
      "processed 21000000 lines...\n",
      "processed 22000000 lines...\n",
      "processed 23000000 lines...\n",
      "processed 24000000 lines...\n",
      "processed 25000000 lines...\n"
     ]
    }
   ],
   "source": [
    "doi_pub_date = {}\n",
    "doi_tw_aud = {}\n",
    "\n",
    "cn_lines = 0\n",
    "with open(Data_Root + 'merged.txt', 'r') as ofile:\n",
    "    for row in ofile:\n",
    "        cn_lines += 1\n",
    "        if cn_lines % 1000000 == 0:\n",
    "            print('processed %d lines...'%cn_lines)\n",
    "        if '}{\"altmetric_id\"' in row:\n",
    "            row = row.replace('}{\"altmetric_id\"', '}\\n{\"altmetric_id\"')\n",
    "        # this way works for both good and bad lines.\n",
    "        records = row.split('\\n')\n",
    "        for record in records:\n",
    "            if record != '':\n",
    "                paper = json.loads(record)\n",
    "                citation = paper['citation']\n",
    "                pubdate = ''\n",
    "                if 'pubdate' in citation:\n",
    "                    pubdate = citation['pubdate']\n",
    "                elif 'epubdate' in citation:\n",
    "                    pubdate = citation['epubdate']\n",
    "                doi = ''\n",
    "                if 'doi' in citation:\n",
    "                    doi = citation['doi']\n",
    "                if doi in dois:\n",
    "                    doi_pub_date[doi] = pubdate\n",
    "                    if 'poster_types' in paper['demographics']:\n",
    "                        doi_tw_aud[doi] = paper['demographics']['poster_types']"
   ]
  },
  {
   "cell_type": "code",
   "execution_count": 36,
   "metadata": {},
   "outputs": [],
   "source": [
    "def cal_self_promo_time(row):\n",
    "    doi, p_0, mat_tid = row['doi'], row['self_promotion'], row['matched_tid']\n",
    "    if p_0:\n",
    "        promo_time = tid_date_all[mat_tid]\n",
    "        pub_time = doi_pub_date[doi]\n",
    "        pub_time = datetime.strptime(pub_time, '%Y-%m-%dT%H:%M:%S+00:00')\n",
    "        delta = (promo_time - pub_time).total_seconds()\n",
    "        # promo time often happens before recorded pub date.\n",
    "        if delta <= 0:\n",
    "            return 0\n",
    "        else:\n",
    "            return delta\n",
    "    else:\n",
    "        return -1"
   ]
  },
  {
   "cell_type": "code",
   "execution_count": 37,
   "metadata": {},
   "outputs": [],
   "source": [
    "reg_data['self_promo_time'] = reg_data.apply(lambda row: cal_self_promo_time(row), axis = 1)"
   ]
  },
  {
   "cell_type": "code",
   "execution_count": 38,
   "metadata": {
    "scrolled": true
   },
   "outputs": [
    {
     "data": {
      "text/html": [
       "<div>\n",
       "<style scoped>\n",
       "    .dataframe tbody tr th:only-of-type {\n",
       "        vertical-align: middle;\n",
       "    }\n",
       "\n",
       "    .dataframe tbody tr th {\n",
       "        vertical-align: top;\n",
       "    }\n",
       "\n",
       "    .dataframe thead th {\n",
       "        text-align: right;\n",
       "    }\n",
       "</style>\n",
       "<table border=\"1\" class=\"dataframe\">\n",
       "  <thead>\n",
       "    <tr style=\"text-align: right;\">\n",
       "      <th></th>\n",
       "      <th>doi</th>\n",
       "      <th>pub_year</th>\n",
       "      <th>author_name</th>\n",
       "      <th>authorship_seq</th>\n",
       "      <th>authorship_pos</th>\n",
       "      <th>author_id</th>\n",
       "      <th>affiliation_ids</th>\n",
       "      <th>self_promotion_original</th>\n",
       "      <th>matched_tid_original</th>\n",
       "      <th>self_promotion_retweet</th>\n",
       "      <th>...</th>\n",
       "      <th>Life_Sciences</th>\n",
       "      <th>Health_Sciences</th>\n",
       "      <th>Physical_Sciences</th>\n",
       "      <th>affiliation_rank_cate</th>\n",
       "      <th>author_pub_count_cate</th>\n",
       "      <th>total_num_tweets</th>\n",
       "      <th>self_promo_position</th>\n",
       "      <th>self_promo_position_frac</th>\n",
       "      <th>matched_tid_follower_cn</th>\n",
       "      <th>self_promo_time</th>\n",
       "    </tr>\n",
       "  </thead>\n",
       "  <tbody>\n",
       "    <tr>\n",
       "      <th>30</th>\n",
       "      <td>10.1111/jofo.12266</td>\n",
       "      <td>2018</td>\n",
       "      <td>David Canal</td>\n",
       "      <td>3</td>\n",
       "      <td>middle_position</td>\n",
       "      <td>2168392039</td>\n",
       "      <td>134820265|151201029</td>\n",
       "      <td>False</td>\n",
       "      <td>NaN</td>\n",
       "      <td>True</td>\n",
       "      <td>...</td>\n",
       "      <td>1</td>\n",
       "      <td>0</td>\n",
       "      <td>0</td>\n",
       "      <td>1.0</td>\n",
       "      <td>5.0</td>\n",
       "      <td>13</td>\n",
       "      <td>13</td>\n",
       "      <td>1.000000</td>\n",
       "      <td>588</td>\n",
       "      <td>1438756.0</td>\n",
       "    </tr>\n",
       "    <tr>\n",
       "      <th>52</th>\n",
       "      <td>10.1016/j.neulet.2017.04.062</td>\n",
       "      <td>2017</td>\n",
       "      <td>Yi Wang</td>\n",
       "      <td>4</td>\n",
       "      <td>middle_position</td>\n",
       "      <td>2549369961</td>\n",
       "      <td>156144747</td>\n",
       "      <td>False</td>\n",
       "      <td>NaN</td>\n",
       "      <td>True</td>\n",
       "      <td>...</td>\n",
       "      <td>1</td>\n",
       "      <td>0</td>\n",
       "      <td>0</td>\n",
       "      <td>8.0</td>\n",
       "      <td>1.0</td>\n",
       "      <td>2</td>\n",
       "      <td>2</td>\n",
       "      <td>1.000000</td>\n",
       "      <td>3609</td>\n",
       "      <td>0.0</td>\n",
       "    </tr>\n",
       "    <tr>\n",
       "      <th>61</th>\n",
       "      <td>10.1111/ejn.13879</td>\n",
       "      <td>2018</td>\n",
       "      <td>Abigail M. Polter</td>\n",
       "      <td>1</td>\n",
       "      <td>first_position</td>\n",
       "      <td>1994828131</td>\n",
       "      <td>27804330</td>\n",
       "      <td>True</td>\n",
       "      <td>973983994038628352</td>\n",
       "      <td>False</td>\n",
       "      <td>...</td>\n",
       "      <td>1</td>\n",
       "      <td>0</td>\n",
       "      <td>0</td>\n",
       "      <td>2.0</td>\n",
       "      <td>3.0</td>\n",
       "      <td>10</td>\n",
       "      <td>1</td>\n",
       "      <td>0.100000</td>\n",
       "      <td>1362</td>\n",
       "      <td>0.0</td>\n",
       "    </tr>\n",
       "    <tr>\n",
       "      <th>149</th>\n",
       "      <td>10.1136/bjsports-2017-098005</td>\n",
       "      <td>2017</td>\n",
       "      <td>Keith A Stokes</td>\n",
       "      <td>5</td>\n",
       "      <td>last_position</td>\n",
       "      <td>2038353575</td>\n",
       "      <td>51601045</td>\n",
       "      <td>False</td>\n",
       "      <td>NaN</td>\n",
       "      <td>True</td>\n",
       "      <td>...</td>\n",
       "      <td>0</td>\n",
       "      <td>1</td>\n",
       "      <td>0</td>\n",
       "      <td>5.0</td>\n",
       "      <td>8.0</td>\n",
       "      <td>141</td>\n",
       "      <td>17</td>\n",
       "      <td>0.120567</td>\n",
       "      <td>1801</td>\n",
       "      <td>123315.0</td>\n",
       "    </tr>\n",
       "    <tr>\n",
       "      <th>150</th>\n",
       "      <td>10.1136/bjsports-2017-098005</td>\n",
       "      <td>2017</td>\n",
       "      <td>Simon P Roberts</td>\n",
       "      <td>2</td>\n",
       "      <td>middle_position</td>\n",
       "      <td>2117520759</td>\n",
       "      <td>51601045</td>\n",
       "      <td>True</td>\n",
       "      <td>922015387457290240</td>\n",
       "      <td>True</td>\n",
       "      <td>...</td>\n",
       "      <td>0</td>\n",
       "      <td>1</td>\n",
       "      <td>0</td>\n",
       "      <td>5.0</td>\n",
       "      <td>4.0</td>\n",
       "      <td>141</td>\n",
       "      <td>9</td>\n",
       "      <td>0.063830</td>\n",
       "      <td>286</td>\n",
       "      <td>116573.0</td>\n",
       "    </tr>\n",
       "    <tr>\n",
       "      <th>...</th>\n",
       "      <td>...</td>\n",
       "      <td>...</td>\n",
       "      <td>...</td>\n",
       "      <td>...</td>\n",
       "      <td>...</td>\n",
       "      <td>...</td>\n",
       "      <td>...</td>\n",
       "      <td>...</td>\n",
       "      <td>...</td>\n",
       "      <td>...</td>\n",
       "      <td>...</td>\n",
       "      <td>...</td>\n",
       "      <td>...</td>\n",
       "      <td>...</td>\n",
       "      <td>...</td>\n",
       "      <td>...</td>\n",
       "      <td>...</td>\n",
       "      <td>...</td>\n",
       "      <td>...</td>\n",
       "      <td>...</td>\n",
       "      <td>...</td>\n",
       "    </tr>\n",
       "    <tr>\n",
       "      <th>14552117</th>\n",
       "      <td>10.1038/ng.2891</td>\n",
       "      <td>2014</td>\n",
       "      <td>Paul A Bates</td>\n",
       "      <td>17</td>\n",
       "      <td>middle_position</td>\n",
       "      <td>2120952471</td>\n",
       "      <td>2801316944</td>\n",
       "      <td>True</td>\n",
       "      <td>464430132246372352</td>\n",
       "      <td>False</td>\n",
       "      <td>...</td>\n",
       "      <td>1</td>\n",
       "      <td>0</td>\n",
       "      <td>0</td>\n",
       "      <td>8.0</td>\n",
       "      <td>7.0</td>\n",
       "      <td>32</td>\n",
       "      <td>18</td>\n",
       "      <td>0.562500</td>\n",
       "      <td>3448</td>\n",
       "      <td>5931746.0</td>\n",
       "    </tr>\n",
       "    <tr>\n",
       "      <th>14552129</th>\n",
       "      <td>10.1038/ng.2891</td>\n",
       "      <td>2014</td>\n",
       "      <td>David L Nicol</td>\n",
       "      <td>21</td>\n",
       "      <td>middle_position</td>\n",
       "      <td>2527823134</td>\n",
       "      <td>1325846038</td>\n",
       "      <td>True</td>\n",
       "      <td>430453624884301824</td>\n",
       "      <td>False</td>\n",
       "      <td>...</td>\n",
       "      <td>1</td>\n",
       "      <td>0</td>\n",
       "      <td>0</td>\n",
       "      <td>7.0</td>\n",
       "      <td>3.0</td>\n",
       "      <td>32</td>\n",
       "      <td>6</td>\n",
       "      <td>0.187500</td>\n",
       "      <td>6341</td>\n",
       "      <td>0.0</td>\n",
       "    </tr>\n",
       "    <tr>\n",
       "      <th>14552138</th>\n",
       "      <td>10.1002/grl.50374</td>\n",
       "      <td>2013</td>\n",
       "      <td>Gemma L. Smith</td>\n",
       "      <td>1</td>\n",
       "      <td>first_position</td>\n",
       "      <td>2150138117</td>\n",
       "      <td>180144235</td>\n",
       "      <td>True</td>\n",
       "      <td>388305956263575552</td>\n",
       "      <td>False</td>\n",
       "      <td>...</td>\n",
       "      <td>0</td>\n",
       "      <td>0</td>\n",
       "      <td>1</td>\n",
       "      <td>9.0</td>\n",
       "      <td>1.0</td>\n",
       "      <td>27</td>\n",
       "      <td>3</td>\n",
       "      <td>0.111111</td>\n",
       "      <td>246</td>\n",
       "      <td>14307129.0</td>\n",
       "    </tr>\n",
       "    <tr>\n",
       "      <th>14552281</th>\n",
       "      <td>10.1016/j.amjsurg.2018.07.064</td>\n",
       "      <td>2018</td>\n",
       "      <td>Arghavan Salles</td>\n",
       "      <td>4</td>\n",
       "      <td>last_position</td>\n",
       "      <td>2115201536</td>\n",
       "      <td>97018004</td>\n",
       "      <td>True</td>\n",
       "      <td>1147915473536737280</td>\n",
       "      <td>True</td>\n",
       "      <td>...</td>\n",
       "      <td>0</td>\n",
       "      <td>1</td>\n",
       "      <td>0</td>\n",
       "      <td>0.0</td>\n",
       "      <td>5.0</td>\n",
       "      <td>18</td>\n",
       "      <td>18</td>\n",
       "      <td>1.000000</td>\n",
       "      <td>43622</td>\n",
       "      <td>24167350.0</td>\n",
       "    </tr>\n",
       "    <tr>\n",
       "      <th>14552287</th>\n",
       "      <td>10.1007/s10657-018-9586-7</td>\n",
       "      <td>2018</td>\n",
       "      <td>Enrico Colombatto</td>\n",
       "      <td>1</td>\n",
       "      <td>first_position</td>\n",
       "      <td>2483218279</td>\n",
       "      <td>55143463</td>\n",
       "      <td>True</td>\n",
       "      <td>1029027406793895936</td>\n",
       "      <td>False</td>\n",
       "      <td>...</td>\n",
       "      <td>0</td>\n",
       "      <td>0</td>\n",
       "      <td>0</td>\n",
       "      <td>4.0</td>\n",
       "      <td>7.0</td>\n",
       "      <td>2</td>\n",
       "      <td>1</td>\n",
       "      <td>0.500000</td>\n",
       "      <td>2332</td>\n",
       "      <td>0.0</td>\n",
       "    </tr>\n",
       "  </tbody>\n",
       "</table>\n",
       "<p>525892 rows × 63 columns</p>\n",
       "</div>"
      ],
      "text/plain": [
       "                                    doi  pub_year        author_name  \\\n",
       "30                   10.1111/jofo.12266      2018        David Canal   \n",
       "52         10.1016/j.neulet.2017.04.062      2017            Yi Wang   \n",
       "61                    10.1111/ejn.13879      2018  Abigail M. Polter   \n",
       "149        10.1136/bjsports-2017-098005      2017     Keith A Stokes   \n",
       "150        10.1136/bjsports-2017-098005      2017    Simon P Roberts   \n",
       "...                                 ...       ...                ...   \n",
       "14552117                10.1038/ng.2891      2014       Paul A Bates   \n",
       "14552129                10.1038/ng.2891      2014      David L Nicol   \n",
       "14552138              10.1002/grl.50374      2013     Gemma L. Smith   \n",
       "14552281  10.1016/j.amjsurg.2018.07.064      2018    Arghavan Salles   \n",
       "14552287      10.1007/s10657-018-9586-7      2018  Enrico Colombatto   \n",
       "\n",
       "          authorship_seq   authorship_pos   author_id      affiliation_ids  \\\n",
       "30                     3  middle_position  2168392039  134820265|151201029   \n",
       "52                     4  middle_position  2549369961            156144747   \n",
       "61                     1   first_position  1994828131             27804330   \n",
       "149                    5    last_position  2038353575             51601045   \n",
       "150                    2  middle_position  2117520759             51601045   \n",
       "...                  ...              ...         ...                  ...   \n",
       "14552117              17  middle_position  2120952471           2801316944   \n",
       "14552129              21  middle_position  2527823134           1325846038   \n",
       "14552138               1   first_position  2150138117            180144235   \n",
       "14552281               4    last_position  2115201536             97018004   \n",
       "14552287               1   first_position  2483218279             55143463   \n",
       "\n",
       "          self_promotion_original matched_tid_original  \\\n",
       "30                          False                  NaN   \n",
       "52                          False                  NaN   \n",
       "61                           True   973983994038628352   \n",
       "149                         False                  NaN   \n",
       "150                          True   922015387457290240   \n",
       "...                           ...                  ...   \n",
       "14552117                     True   464430132246372352   \n",
       "14552129                     True   430453624884301824   \n",
       "14552138                     True   388305956263575552   \n",
       "14552281                     True  1147915473536737280   \n",
       "14552287                     True  1029027406793895936   \n",
       "\n",
       "          self_promotion_retweet  ... Life_Sciences  Health_Sciences  \\\n",
       "30                          True  ...             1                0   \n",
       "52                          True  ...             1                0   \n",
       "61                         False  ...             1                0   \n",
       "149                         True  ...             0                1   \n",
       "150                         True  ...             0                1   \n",
       "...                          ...  ...           ...              ...   \n",
       "14552117                   False  ...             1                0   \n",
       "14552129                   False  ...             1                0   \n",
       "14552138                   False  ...             0                0   \n",
       "14552281                    True  ...             0                1   \n",
       "14552287                   False  ...             0                0   \n",
       "\n",
       "         Physical_Sciences affiliation_rank_cate  author_pub_count_cate  \\\n",
       "30                       0                   1.0                    5.0   \n",
       "52                       0                   8.0                    1.0   \n",
       "61                       0                   2.0                    3.0   \n",
       "149                      0                   5.0                    8.0   \n",
       "150                      0                   5.0                    4.0   \n",
       "...                    ...                   ...                    ...   \n",
       "14552117                 0                   8.0                    7.0   \n",
       "14552129                 0                   7.0                    3.0   \n",
       "14552138                 1                   9.0                    1.0   \n",
       "14552281                 0                   0.0                    5.0   \n",
       "14552287                 0                   4.0                    7.0   \n",
       "\n",
       "          total_num_tweets  self_promo_position  self_promo_position_frac  \\\n",
       "30                      13                   13                  1.000000   \n",
       "52                       2                    2                  1.000000   \n",
       "61                      10                    1                  0.100000   \n",
       "149                    141                   17                  0.120567   \n",
       "150                    141                    9                  0.063830   \n",
       "...                    ...                  ...                       ...   \n",
       "14552117                32                   18                  0.562500   \n",
       "14552129                32                    6                  0.187500   \n",
       "14552138                27                    3                  0.111111   \n",
       "14552281                18                   18                  1.000000   \n",
       "14552287                 2                    1                  0.500000   \n",
       "\n",
       "         matched_tid_follower_cn self_promo_time  \n",
       "30                           588       1438756.0  \n",
       "52                          3609             0.0  \n",
       "61                          1362             0.0  \n",
       "149                         1801        123315.0  \n",
       "150                          286        116573.0  \n",
       "...                          ...             ...  \n",
       "14552117                    3448       5931746.0  \n",
       "14552129                    6341             0.0  \n",
       "14552138                     246      14307129.0  \n",
       "14552281                   43622      24167350.0  \n",
       "14552287                    2332             0.0  \n",
       "\n",
       "[525892 rows x 63 columns]"
      ]
     },
     "execution_count": 38,
     "metadata": {},
     "output_type": "execute_result"
    }
   ],
   "source": [
    "reg_data.loc[reg_data['self_promo_time'] != -1]"
   ]
  },
  {
   "cell_type": "code",
   "execution_count": 39,
   "metadata": {
    "scrolled": false
   },
   "outputs": [
    {
     "data": {
      "text/plain": [
       "0.0"
      ]
     },
     "execution_count": 39,
     "metadata": {},
     "output_type": "execute_result"
    }
   ],
   "source": [
    "np.median(reg_data[reg_data.self_promotion == True]['self_promo_time'])"
   ]
  },
  {
   "cell_type": "code",
   "execution_count": 40,
   "metadata": {
    "scrolled": true
   },
   "outputs": [
    {
     "data": {
      "text/plain": [
       "7122271.972650278"
      ]
     },
     "execution_count": 40,
     "metadata": {},
     "output_type": "execute_result"
    }
   ],
   "source": [
    "np.mean(reg_data[reg_data.self_promotion == True]['self_promo_time'])"
   ]
  },
  {
   "cell_type": "code",
   "execution_count": 41,
   "metadata": {
    "scrolled": true
   },
   "outputs": [
    {
     "data": {
      "text/plain": [
       "9.493099305786904"
      ]
     },
     "execution_count": 41,
     "metadata": {},
     "output_type": "execute_result"
    }
   ],
   "source": [
    "np.mean(reg_data.total_num_tweets)"
   ]
  },
  {
   "cell_type": "markdown",
   "metadata": {},
   "source": [
    "Consider promotion within one day after publication as self-promotion"
   ]
  },
  {
   "cell_type": "code",
   "execution_count": 42,
   "metadata": {},
   "outputs": [],
   "source": [
    "day_sec = 3600*24\n",
    "thsh = 1\n",
    "\n",
    "def promo_fun(delta):\n",
    "    if delta == -1:\n",
    "        return False\n",
    "    else:\n",
    "        if delta <= day_sec * thsh:\n",
    "            return True\n",
    "        else:\n",
    "            return False"
   ]
  },
  {
   "cell_type": "code",
   "execution_count": 43,
   "metadata": {},
   "outputs": [],
   "source": [
    "reg_data['self_promotion_def'] = reg_data['self_promo_time'].apply(promo_fun)"
   ]
  },
  {
   "cell_type": "code",
   "execution_count": 53,
   "metadata": {
    "scrolled": true
   },
   "outputs": [
    {
     "data": {
      "text/html": [
       "<div>\n",
       "<style scoped>\n",
       "    .dataframe tbody tr th:only-of-type {\n",
       "        vertical-align: middle;\n",
       "    }\n",
       "\n",
       "    .dataframe tbody tr th {\n",
       "        vertical-align: top;\n",
       "    }\n",
       "\n",
       "    .dataframe thead th {\n",
       "        text-align: right;\n",
       "    }\n",
       "</style>\n",
       "<table border=\"1\" class=\"dataframe\">\n",
       "  <thead>\n",
       "    <tr style=\"text-align: right;\">\n",
       "      <th></th>\n",
       "      <th>self_promo_time</th>\n",
       "      <th>self_promotion_def</th>\n",
       "    </tr>\n",
       "  </thead>\n",
       "  <tbody>\n",
       "    <tr>\n",
       "      <th>13875592</th>\n",
       "      <td>0.0</td>\n",
       "      <td>True</td>\n",
       "    </tr>\n",
       "    <tr>\n",
       "      <th>12301024</th>\n",
       "      <td>0.0</td>\n",
       "      <td>True</td>\n",
       "    </tr>\n",
       "    <tr>\n",
       "      <th>5982463</th>\n",
       "      <td>0.0</td>\n",
       "      <td>True</td>\n",
       "    </tr>\n",
       "    <tr>\n",
       "      <th>366531</th>\n",
       "      <td>0.0</td>\n",
       "      <td>True</td>\n",
       "    </tr>\n",
       "    <tr>\n",
       "      <th>1338354</th>\n",
       "      <td>0.0</td>\n",
       "      <td>True</td>\n",
       "    </tr>\n",
       "    <tr>\n",
       "      <th>...</th>\n",
       "      <td>...</td>\n",
       "      <td>...</td>\n",
       "    </tr>\n",
       "    <tr>\n",
       "      <th>12900579</th>\n",
       "      <td>0.0</td>\n",
       "      <td>True</td>\n",
       "    </tr>\n",
       "    <tr>\n",
       "      <th>6685511</th>\n",
       "      <td>0.0</td>\n",
       "      <td>True</td>\n",
       "    </tr>\n",
       "    <tr>\n",
       "      <th>10398454</th>\n",
       "      <td>0.0</td>\n",
       "      <td>True</td>\n",
       "    </tr>\n",
       "    <tr>\n",
       "      <th>5676775</th>\n",
       "      <td>0.0</td>\n",
       "      <td>True</td>\n",
       "    </tr>\n",
       "    <tr>\n",
       "      <th>5431496</th>\n",
       "      <td>0.0</td>\n",
       "      <td>True</td>\n",
       "    </tr>\n",
       "  </tbody>\n",
       "</table>\n",
       "<p>100 rows × 2 columns</p>\n",
       "</div>"
      ],
      "text/plain": [
       "          self_promo_time  self_promotion_def\n",
       "13875592              0.0                True\n",
       "12301024              0.0                True\n",
       "5982463               0.0                True\n",
       "366531                0.0                True\n",
       "1338354               0.0                True\n",
       "...                   ...                 ...\n",
       "12900579              0.0                True\n",
       "6685511               0.0                True\n",
       "10398454              0.0                True\n",
       "5676775               0.0                True\n",
       "5431496               0.0                True\n",
       "\n",
       "[100 rows x 2 columns]"
      ]
     },
     "execution_count": 53,
     "metadata": {},
     "output_type": "execute_result"
    }
   ],
   "source": [
    "reg_data.loc[reg_data['self_promotion_def'] == True, ['self_promo_time', 'self_promotion_def']].sample(100)"
   ]
  },
  {
   "cell_type": "markdown",
   "metadata": {},
   "source": [
    "Code DV as whether the author is the first one to self-promote for a paper"
   ]
  },
  {
   "cell_type": "code",
   "execution_count": 31,
   "metadata": {},
   "outputs": [],
   "source": [
    "doi_first_aid = {}\n",
    "\n",
    "for doi, gp in reg_data.groupby('doi'):\n",
    "    gp = gp.loc[gp['self_promo_time'] != -1]\n",
    "    if len(gp) >= 1:\n",
    "        aid, etime = sorted(gp[['author_id', 'self_promo_time']].values.tolist(), key=lambda x: x[1])[0]\n",
    "        doi_first_aid[doi] = aid"
   ]
  },
  {
   "cell_type": "code",
   "execution_count": 32,
   "metadata": {},
   "outputs": [
    {
     "data": {
      "text/plain": [
       "356542"
      ]
     },
     "execution_count": 32,
     "metadata": {},
     "output_type": "execute_result"
    }
   ],
   "source": [
    "len(doi_first_aid)"
   ]
  },
  {
   "cell_type": "code",
   "execution_count": 35,
   "metadata": {},
   "outputs": [
    {
     "data": {
      "text/plain": [
       "356542"
      ]
     },
     "execution_count": 35,
     "metadata": {},
     "output_type": "execute_result"
    }
   ],
   "source": [
    "len(set(reg_data[reg_data['self_promotion'] == True]['doi']))"
   ]
  },
  {
   "cell_type": "code",
   "execution_count": 33,
   "metadata": {},
   "outputs": [],
   "source": [
    "def is_first_to_promo(row):\n",
    "    doi, aid = row['doi'], row['author_id']\n",
    "    if doi in doi_first_aid:\n",
    "        if aid == doi_first_aid[doi]:\n",
    "            return True\n",
    "        else:\n",
    "            return False\n",
    "    else:\n",
    "        return False"
   ]
  },
  {
   "cell_type": "code",
   "execution_count": 34,
   "metadata": {},
   "outputs": [],
   "source": [
    "reg_data['self_promotion_first'] = reg_data.apply(lambda row: is_first_to_promo(row), axis = 1)"
   ]
  },
  {
   "cell_type": "code",
   "execution_count": 38,
   "metadata": {},
   "outputs": [
    {
     "data": {
      "text/plain": [
       "356542"
      ]
     },
     "execution_count": 38,
     "metadata": {},
     "output_type": "execute_result"
    }
   ],
   "source": [
    "sum(reg_data['self_promotion_first']==True)"
   ]
  },
  {
   "cell_type": "code",
   "execution_count": null,
   "metadata": {},
   "outputs": [],
   "source": []
  },
  {
   "cell_type": "markdown",
   "metadata": {},
   "source": [
    "### Add audiences (DV)"
   ]
  },
  {
   "cell_type": "code",
   "execution_count": 55,
   "metadata": {
    "scrolled": true
   },
   "outputs": [
    {
     "data": {
      "text/plain": [
       "2986263"
      ]
     },
     "execution_count": 55,
     "metadata": {},
     "output_type": "execute_result"
    }
   ],
   "source": [
    "len(dois)"
   ]
  },
  {
   "cell_type": "code",
   "execution_count": 56,
   "metadata": {
    "scrolled": true
   },
   "outputs": [
    {
     "data": {
      "text/plain": [
       "2213001"
      ]
     },
     "execution_count": 56,
     "metadata": {},
     "output_type": "execute_result"
    }
   ],
   "source": [
    "len(doi_tw_aud)"
   ]
  },
  {
   "cell_type": "code",
   "execution_count": 47,
   "metadata": {
    "scrolled": true
   },
   "outputs": [
    {
     "data": {
      "text/plain": [
       "{'member_of_the_public': 47,\n",
       " 'researcher': 11,\n",
       " 'practitioner': 21,\n",
       " 'science_communicator': 4}"
      ]
     },
     "execution_count": 47,
     "metadata": {},
     "output_type": "execute_result"
    }
   ],
   "source": [
    "doi_tw_aud['10.1001/jama.2018.17121']"
   ]
  },
  {
   "cell_type": "code",
   "execution_count": 48,
   "metadata": {},
   "outputs": [],
   "source": [
    "def get_num_audiences(doi, kind = 'member_of_the_public'):\n",
    "    if doi in doi_tw_aud and kind in doi_tw_aud[doi]:\n",
    "        return doi_tw_aud[doi][kind]\n",
    "    else:\n",
    "        return 0"
   ]
  },
  {
   "cell_type": "code",
   "execution_count": 49,
   "metadata": {},
   "outputs": [],
   "source": [
    "reg_data['member_of_the_public'] = reg_data['doi'].apply(lambda doi: get_num_audiences(doi, 'member_of_the_public'))\n",
    "reg_data['researcher'] = reg_data['doi'].apply(lambda doi: get_num_audiences(doi, 'researcher'))\n",
    "reg_data['practitioner'] = reg_data['doi'].apply(lambda doi: get_num_audiences(doi, 'practitioner'))\n",
    "reg_data['science_communicator'] = reg_data['doi'].apply(lambda doi: get_num_audiences(doi, 'science_communicator'))"
   ]
  },
  {
   "cell_type": "code",
   "execution_count": 50,
   "metadata": {},
   "outputs": [],
   "source": [
    "reg_data['num_non_scientists'] = reg_data[['member_of_the_public', 'practitioner', 'science_communicator']].sum(axis=1)\n"
   ]
  },
  {
   "cell_type": "code",
   "execution_count": 51,
   "metadata": {},
   "outputs": [
    {
     "data": {
      "text/plain": [
       "28239431"
      ]
     },
     "execution_count": 51,
     "metadata": {},
     "output_type": "execute_result"
    }
   ],
   "source": [
    "np.sum(reg_data['researcher'])"
   ]
  },
  {
   "cell_type": "code",
   "execution_count": 52,
   "metadata": {},
   "outputs": [
    {
     "data": {
      "text/plain": [
       "99928127"
      ]
     },
     "execution_count": 52,
     "metadata": {},
     "output_type": "execute_result"
    }
   ],
   "source": [
    "np.sum(reg_data['num_non_scientists'])"
   ]
  },
  {
   "cell_type": "markdown",
   "metadata": {},
   "source": [
    "### Add author ethnicity (focus on male and female to reduce the number of authors queried)"
   ]
  },
  {
   "cell_type": "code",
   "execution_count": 17,
   "metadata": {},
   "outputs": [],
   "source": [
    "eth_cat_map = {\n",
    " 'ISRAELI': 'MiddleEastern',\n",
    " 'ARAB': 'MiddleEastern',\n",
    " 'TURKISH': 'MiddleEastern',\n",
    " 'ENGLISH': 'English',\n",
    " 'HISPANIC': 'SouthernEuropean',\n",
    " 'ITALIAN': 'SouthernEuropean',    \n",
    " 'GREEK': 'SouthernEuropean',\n",
    " 'GERMAN': 'WesternNorthernEuropean',\n",
    " 'NORDIC': 'WesternNorthernEuropean',\n",
    " 'DUTCH': 'WesternNorthernEuropean',\n",
    " 'FRENCH': 'WesternNorthernEuropean',\n",
    " 'BALTIC': 'WesternNorthernEuropean',\n",
    " 'HUNGARIAN': 'EasternEuropean',\n",
    " 'ROMANIAN': 'EasternEuropean',\n",
    " 'SLAV': 'EasternEuropean',\n",
    " 'CHINESE': 'Chinese',\n",
    " 'INDIAN': 'Indian',\n",
    " 'AFRICAN': 'African',\n",
    " 'KOREAN': 'EastAsian',\n",
    " 'JAPANESE': 'EastAsian',\n",
    " 'THAI': 'EastAsian',\n",
    " 'VIETNAMESE': 'EastAsian',\n",
    " 'INDONESIAN': 'EastAsian',\n",
    " 'MONGOLIAN': 'EastAsian',\n",
    " 'CARIBBEAN': 'CARIBBEAN',\n",
    " 'POLYNESIAN': 'POLYNESIAN',\n",
    " 'org': 'org',\n",
    " 'unknown': 'unknown'}"
   ]
  },
  {
   "cell_type": "code",
   "execution_count": 18,
   "metadata": {},
   "outputs": [],
   "source": [
    "def parse_author_name(name):\n",
    "    words = name.split()\n",
    "    # must has first and last name to query the API\n",
    "    if len(words) <= 1:\n",
    "        payload = 'invalid'\n",
    "    else:\n",
    "        payload = {'Fname': words[0], 'Lname': words[-1]}\n",
    "        # C. Kirabo Jackson\n",
    "        if len(words) >= 3:\n",
    "            # C or C.\n",
    "            if len(words[0]) == 1 or (len(words[0]) == 2 and words[0][1] == '.'):\n",
    "                # not C. J. Jackson; but C. Del Jackson\n",
    "                if len(words[1]) > 2 or (len(words[1]) == 2 and words[1][1] != '.'):\n",
    "                    given = words[1]\n",
    "                    family = words[-1]\n",
    "                    payload = {'Fname': given, 'Lname': family}\n",
    "    return payload\n",
    "\n",
    "name_filter = set(['consortium', 'collaboration', 'collaboration*', 'editor', 'bank'])\n",
    "\n",
    "def get_author_eth_gen(name):\n",
    "    # invalid: single-word-name\n",
    "    feats = ['unknown', 'unknown']\n",
    "    name_tupe = parse_author_name(name)\n",
    "    if type(name_tupe) == dict:\n",
    "        family = name_tupe['Lname']\n",
    "        # The XXX Collaboration would go to API as well since the Lname is Collaboration.\n",
    "        if family.lower() in name_filter:\n",
    "            feats = ['org', 'org']\n",
    "        else:\n",
    "            if name in name_eth_gen:\n",
    "                # ethnicity\n",
    "                major = name_eth_gen[name]['Ethnea'].split('-')[0]\n",
    "                if major != \"ERROR\" and major != 'UNKNOWN' and major != 'TOOSHORT':\n",
    "                    feats[0] = major\n",
    "                # gender\n",
    "                gender = name_eth_gen[name]['Genni']\n",
    "                if gender != '-':\n",
    "                    feats[1] = gender\n",
    "    return feats"
   ]
  },
  {
   "cell_type": "code",
   "execution_count": 57,
   "metadata": {
    "scrolled": true
   },
   "outputs": [
    {
     "data": {
      "text/plain": [
       "11420039"
      ]
     },
     "execution_count": 57,
     "metadata": {},
     "output_type": "execute_result"
    }
   ],
   "source": [
    "# focus on Male and Female\n",
    "len(reg_data.loc[reg_data['gender'].isin(['Female', 'Male'])])"
   ]
  },
  {
   "cell_type": "code",
   "execution_count": 64,
   "metadata": {},
   "outputs": [
    {
     "data": {
      "text/plain": [
       "3454214"
      ]
     },
     "execution_count": 64,
     "metadata": {},
     "output_type": "execute_result"
    }
   ],
   "source": [
    "len(set(reg_data.loc[reg_data['gender'].isin(['Female', 'Male'])]['author_name']))"
   ]
  },
  {
   "cell_type": "code",
   "execution_count": 19,
   "metadata": {},
   "outputs": [],
   "source": [
    "eth_url = 'http://abel.lis.illinois.edu/cgi-bin/ethnea/search.py?format=json'"
   ]
  },
  {
   "cell_type": "code",
   "execution_count": 20,
   "metadata": {
    "scrolled": true
   },
   "outputs": [],
   "source": [
    "name_eth_gen = {}\n",
    "\n",
    "# reuse data collected in the initial submission\n",
    "with open(Data_Root+'name_eth_gen.json', 'r') as ofile:\n",
    "    for row in ofile:\n",
    "        row = json.loads(row)\n",
    "        name, info = row['name'], row['info']\n",
    "        name_eth_gen[name] = info"
   ]
  },
  {
   "cell_type": "code",
   "execution_count": 21,
   "metadata": {
    "scrolled": false
   },
   "outputs": [
    {
     "data": {
      "text/plain": [
       "1309714"
      ]
     },
     "execution_count": 21,
     "metadata": {},
     "output_type": "execute_result"
    }
   ],
   "source": [
    "len(name_eth_gen)"
   ]
  },
  {
   "cell_type": "code",
   "execution_count": 25,
   "metadata": {
    "scrolled": true
   },
   "outputs": [],
   "source": [
    "# focus on Male and Female\n",
    "ix = 0\n",
    "for name in set(reg_data.loc[reg_data['gender'].isin(['Female', 'Male'])]['author_name']):\n",
    "    if name not in name_eth_gen:\n",
    "        payload = parse_author_name(name)\n",
    "        if payload != 'invalid':\n",
    "            ix += 1\n",
    "            if ix%5000 == 0:\n",
    "                time.sleep(5)\n",
    "            response = requests.get(eth_url, params=payload)\n",
    "            try:\n",
    "                j = eval(response.text)\n",
    "                genni = j['Genni']\n",
    "                ethnea = j['Ethnea']\n",
    "                name_eth_gen[name] = {'Ethnea': ethnea, 'Genni': genni}\n",
    "            except:\n",
    "                continue\n",
    "            if ix%100000 == 0:\n",
    "                print(ix)"
   ]
  },
  {
   "cell_type": "code",
   "execution_count": 27,
   "metadata": {},
   "outputs": [],
   "source": [
    "with open(Data_Root+'revision/name_eth_gen.json', 'w') as ofile:\n",
    "    for name, info in name_eth_gen.items():\n",
    "        row = {'name': name, 'info': info}\n",
    "        ofile.write(json.dumps(row) + '\\n')"
   ]
  },
  {
   "cell_type": "code",
   "execution_count": 28,
   "metadata": {
    "scrolled": true
   },
   "outputs": [],
   "source": [
    "name_eth_gen = {}\n",
    "\n",
    "with open(Data_Root+'revision/name_eth_gen.json', 'r') as ofile:\n",
    "    for row in ofile:\n",
    "        row = json.loads(row)\n",
    "        name, info = row['name'], row['info']\n",
    "        name_eth_gen[name] = info"
   ]
  },
  {
   "cell_type": "code",
   "execution_count": 29,
   "metadata": {
    "scrolled": true
   },
   "outputs": [
    {
     "data": {
      "text/plain": [
       "3629470"
      ]
     },
     "execution_count": 29,
     "metadata": {},
     "output_type": "execute_result"
    }
   ],
   "source": [
    "len(name_eth_gen)"
   ]
  },
  {
   "cell_type": "markdown",
   "metadata": {},
   "source": [
    "Add inferred ethnicity (based on Ethnea)"
   ]
  },
  {
   "cell_type": "code",
   "execution_count": 31,
   "metadata": {},
   "outputs": [],
   "source": [
    "reg_data['author_eth_gen'] = reg_data['author_name'].apply(lambda name: get_author_eth_gen(name))\n",
    "reg_data[['author_eth_ethnea', 'author_gender_ethnea']] = pd.DataFrame(reg_data['author_eth_gen'].values.tolist(), index = reg_data.index)\n",
    "reg_data = reg_data.drop(columns = ['author_eth_gen'])\n",
    "reg_data['author_eth_ethnea_broad'] = reg_data['author_eth_ethnea'].map(eth_cat_map)\n"
   ]
  },
  {
   "cell_type": "code",
   "execution_count": 32,
   "metadata": {
    "scrolled": false
   },
   "outputs": [
    {
     "data": {
      "text/plain": [
       "14552304"
      ]
     },
     "execution_count": 32,
     "metadata": {},
     "output_type": "execute_result"
    }
   ],
   "source": [
    "len(reg_data)"
   ]
  },
  {
   "cell_type": "code",
   "execution_count": 33,
   "metadata": {
    "scrolled": true
   },
   "outputs": [
    {
     "data": {
      "text/html": [
       "<div>\n",
       "<style scoped>\n",
       "    .dataframe tbody tr th:only-of-type {\n",
       "        vertical-align: middle;\n",
       "    }\n",
       "\n",
       "    .dataframe tbody tr th {\n",
       "        vertical-align: top;\n",
       "    }\n",
       "\n",
       "    .dataframe thead th {\n",
       "        text-align: right;\n",
       "    }\n",
       "</style>\n",
       "<table border=\"1\" class=\"dataframe\">\n",
       "  <thead>\n",
       "    <tr style=\"text-align: right;\">\n",
       "      <th></th>\n",
       "      <th>doi</th>\n",
       "      <th>pub_year</th>\n",
       "      <th>author_name</th>\n",
       "      <th>authorship_seq</th>\n",
       "      <th>authorship_pos</th>\n",
       "      <th>author_id</th>\n",
       "      <th>affiliation_ids</th>\n",
       "      <th>self_promotion_original</th>\n",
       "      <th>matched_tid_original</th>\n",
       "      <th>self_promotion_retweet</th>\n",
       "      <th>...</th>\n",
       "      <th>self_promo_time</th>\n",
       "      <th>self_promotion_def</th>\n",
       "      <th>member_of_the_public</th>\n",
       "      <th>researcher</th>\n",
       "      <th>practitioner</th>\n",
       "      <th>science_communicator</th>\n",
       "      <th>num_non_scientists</th>\n",
       "      <th>author_eth_ethnea</th>\n",
       "      <th>author_gender_ethnea</th>\n",
       "      <th>author_eth_ethnea_broad</th>\n",
       "    </tr>\n",
       "  </thead>\n",
       "  <tbody>\n",
       "    <tr>\n",
       "      <th>0</th>\n",
       "      <td>10.4202/app.00261.2016</td>\n",
       "      <td>2016</td>\n",
       "      <td>Michal Zaton</td>\n",
       "      <td>2</td>\n",
       "      <td>last_position</td>\n",
       "      <td>2064717215</td>\n",
       "      <td>864159182</td>\n",
       "      <td>False</td>\n",
       "      <td>NaN</td>\n",
       "      <td>False</td>\n",
       "      <td>...</td>\n",
       "      <td>-1.0</td>\n",
       "      <td>False</td>\n",
       "      <td>0</td>\n",
       "      <td>0</td>\n",
       "      <td>0</td>\n",
       "      <td>0</td>\n",
       "      <td>0</td>\n",
       "      <td>SLAV</td>\n",
       "      <td>M</td>\n",
       "      <td>EasternEuropean</td>\n",
       "    </tr>\n",
       "    <tr>\n",
       "      <th>1</th>\n",
       "      <td>10.1016/j.foodchem.2013.11.152</td>\n",
       "      <td>2014</td>\n",
       "      <td>Hee-Woong Kim</td>\n",
       "      <td>2</td>\n",
       "      <td>middle_position</td>\n",
       "      <td>2099457132</td>\n",
       "      <td>165507594</td>\n",
       "      <td>False</td>\n",
       "      <td>NaN</td>\n",
       "      <td>False</td>\n",
       "      <td>...</td>\n",
       "      <td>-1.0</td>\n",
       "      <td>False</td>\n",
       "      <td>1</td>\n",
       "      <td>0</td>\n",
       "      <td>0</td>\n",
       "      <td>0</td>\n",
       "      <td>1</td>\n",
       "      <td>unknown</td>\n",
       "      <td>unknown</td>\n",
       "      <td>unknown</td>\n",
       "    </tr>\n",
       "    <tr>\n",
       "      <th>2</th>\n",
       "      <td>10.1016/j.foodchem.2013.11.152</td>\n",
       "      <td>2014</td>\n",
       "      <td>Deug-Chan Lee</td>\n",
       "      <td>4</td>\n",
       "      <td>middle_position</td>\n",
       "      <td>2322741405</td>\n",
       "      <td>165507594</td>\n",
       "      <td>False</td>\n",
       "      <td>NaN</td>\n",
       "      <td>False</td>\n",
       "      <td>...</td>\n",
       "      <td>-1.0</td>\n",
       "      <td>False</td>\n",
       "      <td>1</td>\n",
       "      <td>0</td>\n",
       "      <td>0</td>\n",
       "      <td>0</td>\n",
       "      <td>1</td>\n",
       "      <td>unknown</td>\n",
       "      <td>unknown</td>\n",
       "      <td>unknown</td>\n",
       "    </tr>\n",
       "  </tbody>\n",
       "</table>\n",
       "<p>3 rows × 72 columns</p>\n",
       "</div>"
      ],
      "text/plain": [
       "                              doi  pub_year    author_name  authorship_seq  \\\n",
       "0          10.4202/app.00261.2016      2016   Michal Zaton               2   \n",
       "1  10.1016/j.foodchem.2013.11.152      2014  Hee-Woong Kim               2   \n",
       "2  10.1016/j.foodchem.2013.11.152      2014  Deug-Chan Lee               4   \n",
       "\n",
       "    authorship_pos   author_id affiliation_ids  self_promotion_original  \\\n",
       "0    last_position  2064717215       864159182                    False   \n",
       "1  middle_position  2099457132       165507594                    False   \n",
       "2  middle_position  2322741405       165507594                    False   \n",
       "\n",
       "  matched_tid_original  self_promotion_retweet  ... self_promo_time  \\\n",
       "0                  NaN                   False  ...            -1.0   \n",
       "1                  NaN                   False  ...            -1.0   \n",
       "2                  NaN                   False  ...            -1.0   \n",
       "\n",
       "   self_promotion_def member_of_the_public researcher  practitioner  \\\n",
       "0               False                    0          0             0   \n",
       "1               False                    1          0             0   \n",
       "2               False                    1          0             0   \n",
       "\n",
       "   science_communicator  num_non_scientists  author_eth_ethnea  \\\n",
       "0                     0                   0               SLAV   \n",
       "1                     0                   1            unknown   \n",
       "2                     0                   1            unknown   \n",
       "\n",
       "  author_gender_ethnea author_eth_ethnea_broad  \n",
       "0                    M         EasternEuropean  \n",
       "1              unknown                 unknown  \n",
       "2              unknown                 unknown  \n",
       "\n",
       "[3 rows x 72 columns]"
      ]
     },
     "execution_count": 33,
     "metadata": {},
     "output_type": "execute_result"
    }
   ],
   "source": [
    "reg_data.head(3)"
   ]
  },
  {
   "cell_type": "code",
   "execution_count": 35,
   "metadata": {},
   "outputs": [
    {
     "data": {
      "text/plain": [
       "Index(['doi', 'pub_year', 'author_name', 'authorship_seq', 'authorship_pos',\n",
       "       'author_id', 'affiliation_ids', 'self_promotion_original',\n",
       "       'matched_tid_original', 'self_promotion_retweet', 'matched_tid_retweet',\n",
       "       'self_promotion', 'matched_tid', 'gender', 'num_authors',\n",
       "       'author_pub_count', 'author_citation', 'author_rank',\n",
       "       'affiliation_name', 'affiliation_cate', 'affiliation_rank',\n",
       "       'journal_title', 'journal_impact', 'top_journal',\n",
       "       'author_num_papers_in_data', 'author_self_promotion_rate',\n",
       "       'Social_Sciences', 'Materials_Science', 'Engineering', 'Chemistry',\n",
       "       'Biochemistry__Genetics_and_Molecular_Biology', 'Medicine', 'Nursing',\n",
       "       'Agricultural_and_Biological_Sciences',\n",
       "       'Pharmacology__Toxicology_and_Pharmaceutics', 'Neuroscience',\n",
       "       'Business__Management_and_Accounting',\n",
       "       'Economics__Econometrics_and_Finance', 'Chemical_Engineering',\n",
       "       'Physics_and_Astronomy', 'Computer_Science', 'Decision_Sciences',\n",
       "       'Health_Professions', 'Psychology', 'Immunology_and_Microbiology',\n",
       "       'Dentistry', 'Earth_and_Planetary_Sciences', 'Environmental_Science',\n",
       "       'Mathematics', 'Arts_and_Humanities', 'Energy', 'Veterinary', 'General',\n",
       "       'Life_Sciences', 'Health_Sciences', 'Physical_Sciences',\n",
       "       'affiliation_rank_cate', 'author_pub_count_cate', 'total_num_tweets',\n",
       "       'self_promo_position', 'self_promo_position_frac',\n",
       "       'matched_tid_follower_cn', 'self_promo_time', 'self_promotion_def',\n",
       "       'member_of_the_public', 'researcher', 'practitioner',\n",
       "       'science_communicator', 'num_non_scientists', 'author_eth_ethnea',\n",
       "       'author_gender_ethnea', 'author_eth_ethnea_broad'],\n",
       "      dtype='object')"
      ]
     },
     "execution_count": 35,
     "metadata": {},
     "output_type": "execute_result"
    }
   ],
   "source": [
    "reg_data.columns"
   ]
  },
  {
   "cell_type": "code",
   "execution_count": 14,
   "metadata": {},
   "outputs": [],
   "source": [
    "reg_data.to_csv(Data_Root+\"revision/reg_data_drop_missing.csv\", index=False, header=True, encoding='utf-8')"
   ]
  },
  {
   "cell_type": "code",
   "execution_count": 13,
   "metadata": {},
   "outputs": [
    {
     "data": {
      "text/plain": [
       "14552304"
      ]
     },
     "execution_count": 13,
     "metadata": {},
     "output_type": "execute_result"
    }
   ],
   "source": [
    "len(reg_data)"
   ]
  },
  {
   "cell_type": "code",
   "execution_count": 8,
   "metadata": {},
   "outputs": [],
   "source": [
    "# utype = {'author_id': str, 'matched_tid': str, 'matched_tid_original': str, 'matched_tid_retweet': str}\n",
    "# reg_data = pd.read_csv(Data_Root + \"revision/reg_data_drop_missing.csv\", header=0, dtype=utype)"
   ]
  },
  {
   "cell_type": "code",
   "execution_count": null,
   "metadata": {},
   "outputs": [],
   "source": []
  }
 ],
 "metadata": {
  "kernelspec": {
   "display_name": "Python 3 (ipykernel)",
   "language": "python",
   "name": "python3"
  },
  "language_info": {
   "codemirror_mode": {
    "name": "ipython",
    "version": 3
   },
   "file_extension": ".py",
   "mimetype": "text/x-python",
   "name": "python",
   "nbconvert_exporter": "python",
   "pygments_lexer": "ipython3",
   "version": "3.8.13"
  }
 },
 "nbformat": 4,
 "nbformat_minor": 4
}
