{
 "cells": [
  {
   "cell_type": "code",
   "execution_count": 22,
   "id": "20faa31c",
   "metadata": {
    "scrolled": true
   },
   "outputs": [],
   "source": [
    "library(\"lme4\")\n",
    "library(\"margins\")\n",
    "library(\"stargazer\")\n",
    "library(\"emmeans\")\n",
    "library(\"ggeffects\")\n",
    "library(\"broom\")\n",
    "library(\"broom.mixed\")\n",
    "library(\"MASS\")\n",
    "library(\"pscl\")"
   ]
  },
  {
   "cell_type": "code",
   "execution_count": 2,
   "id": "2145d0a3",
   "metadata": {},
   "outputs": [],
   "source": [
    "options(repr.matrix.max.rows=500, repr.matrix.max.cols=200)"
   ]
  },
  {
   "cell_type": "code",
   "execution_count": 3,
   "id": "dc8c6d6c",
   "metadata": {},
   "outputs": [],
   "source": [
    "options(dplyr.print_max = 100)"
   ]
  },
  {
   "cell_type": "code",
   "execution_count": 4,
   "id": "49cd412c",
   "metadata": {},
   "outputs": [],
   "source": [
    "Data_Root <- \"/Data/Promotion/revision/\"\n",
    "data_root <- \"/Data/Promotion/revision/reg_results_F_M/\""
   ]
  },
  {
   "cell_type": "code",
   "execution_count": 23,
   "id": "b0c845a6",
   "metadata": {},
   "outputs": [],
   "source": [
    "mydata <- read.csv(paste(Data_Root, \"reg_data_drop_missing.csv\", sep = ''), header = TRUE, stringsAsFactors = TRUE)"
   ]
  },
  {
   "cell_type": "code",
   "execution_count": 24,
   "id": "9f6c2a04",
   "metadata": {
    "scrolled": true
   },
   "outputs": [
    {
     "data": {
      "text/html": [
       "14552304"
      ],
      "text/latex": [
       "14552304"
      ],
      "text/markdown": [
       "14552304"
      ],
      "text/plain": [
       "[1] 14552304"
      ]
     },
     "metadata": {},
     "output_type": "display_data"
    }
   ],
   "source": [
    "nrow(mydata)"
   ]
  },
  {
   "cell_type": "code",
   "execution_count": 25,
   "id": "85ff3ef1",
   "metadata": {
    "scrolled": false
   },
   "outputs": [
    {
     "data": {
      "text/html": [
       "85"
      ],
      "text/latex": [
       "85"
      ],
      "text/markdown": [
       "85"
      ],
      "text/plain": [
       "[1] 85"
      ]
     },
     "metadata": {},
     "output_type": "display_data"
    }
   ],
   "source": [
    "ncol(mydata)"
   ]
  },
  {
   "cell_type": "code",
   "execution_count": 26,
   "id": "30e42c81",
   "metadata": {},
   "outputs": [],
   "source": [
    "mydata = mydata[mydata$gender %in% c(\"Male\", \"Female\"), ]"
   ]
  },
  {
   "cell_type": "code",
   "execution_count": 27,
   "id": "5be5b2b3",
   "metadata": {},
   "outputs": [],
   "source": [
    "mydata = mydata[mydata$affiliation_cate != 'unknown', ]"
   ]
  },
  {
   "cell_type": "code",
   "execution_count": 28,
   "id": "9d192cea",
   "metadata": {
    "scrolled": true
   },
   "outputs": [
    {
     "data": {
      "text/html": [
       "11396752"
      ],
      "text/latex": [
       "11396752"
      ],
      "text/markdown": [
       "11396752"
      ],
      "text/plain": [
       "[1] 11396752"
      ]
     },
     "metadata": {},
     "output_type": "display_data"
    }
   ],
   "source": [
    "# our analytical sample\n",
    "nrow(mydata)"
   ]
  },
  {
   "cell_type": "code",
   "execution_count": 29,
   "id": "cce668f4",
   "metadata": {},
   "outputs": [],
   "source": [
    "mydata$pub_year <- as.factor(mydata$pub_year)"
   ]
  },
  {
   "cell_type": "code",
   "execution_count": 30,
   "id": "301e7e34",
   "metadata": {},
   "outputs": [],
   "source": [
    "mydata <- droplevels(mydata)"
   ]
  },
  {
   "cell_type": "code",
   "execution_count": 31,
   "id": "3401960f",
   "metadata": {},
   "outputs": [
    {
     "data": {
      "text/html": [
       "<style>\n",
       ".dl-inline {width: auto; margin:0; padding: 0}\n",
       ".dl-inline>dt, .dl-inline>dd {float: none; width: auto; display: inline-block}\n",
       ".dl-inline>dt::after {content: \":\\0020\"; padding-right: .5ex}\n",
       ".dl-inline>dt:not(:first-of-type) {padding-left: .5ex}\n",
       "</style><dl class=dl-inline><dt>Female</dt><dd>4025650</dd><dt>Male</dt><dd>7371102</dd></dl>\n"
      ],
      "text/latex": [
       "\\begin{description*}\n",
       "\\item[Female] 4025650\n",
       "\\item[Male] 7371102\n",
       "\\end{description*}\n"
      ],
      "text/markdown": [
       "Female\n",
       ":   4025650Male\n",
       ":   7371102\n",
       "\n"
      ],
      "text/plain": [
       " Female    Male \n",
       "4025650 7371102 "
      ]
     },
     "metadata": {},
     "output_type": "display_data"
    }
   ],
   "source": [
    "summary(mydata$gender)"
   ]
  },
  {
   "cell_type": "code",
   "execution_count": 32,
   "id": "ea404342",
   "metadata": {},
   "outputs": [],
   "source": [
    "mydata <- within(mydata, gender <- relevel(gender, ref = 'Male'))\n",
    "mydata <- within(mydata, authorship_pos <- relevel(authorship_pos, ref = 'last_position'))\n",
    "mydata <- within(mydata, affiliation_cate <- relevel(affiliation_cate, ref = 'domestic'))\n",
    "mydata <- within(mydata, self_promotion <- relevel(self_promotion, ref = 'False'))"
   ]
  },
  {
   "cell_type": "code",
   "execution_count": 33,
   "id": "22406164",
   "metadata": {},
   "outputs": [],
   "source": [
    "keywords <- \" + Social_Sciences + Materials_Science + Engineering + Chemistry + \\\n",
    "        Biochemistry__Genetics_and_Molecular_Biology + Medicine + Nursing + Agricultural_and_Biological_Sciences + \\\n",
    "        Pharmacology__Toxicology_and_Pharmaceutics + Neuroscience + Business__Management_and_Accounting + \\\n",
    "        Economics__Econometrics_and_Finance + Chemical_Engineering + Physics_and_Astronomy + Computer_Science + \\\n",
    "        Decision_Sciences + Health_Professions + Psychology + Immunology_and_Microbiology + Dentistry + \\\n",
    "        Earth_and_Planetary_Sciences + Environmental_Science + Mathematics + Arts_and_Humanities + Energy + \\\n",
    "        Veterinary + General\""
   ]
  },
  {
   "cell_type": "code",
   "execution_count": 34,
   "id": "51d8b0dd",
   "metadata": {},
   "outputs": [],
   "source": [
    "mydata$author_citation_log <- log2(1 + mydata$author_citation)"
   ]
  },
  {
   "cell_type": "code",
   "execution_count": 35,
   "id": "02c847da",
   "metadata": {},
   "outputs": [],
   "source": [
    "mydata$total_num_tweets_log <- log2(1 + mydata$total_num_tweets)"
   ]
  },
  {
   "cell_type": "code",
   "execution_count": 36,
   "id": "819c64f4",
   "metadata": {},
   "outputs": [],
   "source": [
    "mydata$total_retweet_cn_log <- log2(1 + mydata$matched_tid_retweet_cn)"
   ]
  },
  {
   "cell_type": "code",
   "execution_count": 37,
   "id": "e2842bae",
   "metadata": {},
   "outputs": [],
   "source": [
    "mydata$total_likes_cn_log <- log2(1 + mydata$matched_tid_likes_cn)"
   ]
  },
  {
   "cell_type": "code",
   "execution_count": 38,
   "id": "b4650681",
   "metadata": {},
   "outputs": [],
   "source": [
    "mydata$follower_cn_snapshot_log <- log2(1 + mydata$follower_cn_snapshot)\n",
    "mydata$follower_cn_snapshot_ours_log <- log2(1 + mydata$follower_cn_snapshot_ours)\n",
    "mydata$follower_cn_snapshot_combine_log <- log2(1 + mydata$follower_cn_snapshot_combine)"
   ]
  },
  {
   "cell_type": "code",
   "execution_count": 74,
   "id": "7790ed30",
   "metadata": {},
   "outputs": [],
   "source": [
    "mydata$matched_tid_follower_cn_log <- log2(1 + mydata$matched_tid_follower_cn)"
   ]
  },
  {
   "cell_type": "markdown",
   "id": "2d31eb13",
   "metadata": {},
   "source": [
    "## Using the subset of observations where the author is active on Twitter"
   ]
  },
  {
   "cell_type": "markdown",
   "id": "e952524d",
   "metadata": {},
   "source": [
    "1. Remove `on_tw` control\n",
    "2. Still include gender and self_promotion interaction\n",
    "3. Add follower control"
   ]
  },
  {
   "cell_type": "code",
   "execution_count": 75,
   "id": "3c95b418",
   "metadata": {
    "scrolled": true
   },
   "outputs": [
    {
     "data": {
      "text/html": [
       "618742"
      ],
      "text/latex": [
       "618742"
      ],
      "text/markdown": [
       "618742"
      ],
      "text/plain": [
       "[1] 618742"
      ]
     },
     "metadata": {},
     "output_type": "display_data"
    }
   ],
   "source": [
    "nrow(mydata[mydata$is_active_on_twitter == \"True\", ])"
   ]
  },
  {
   "cell_type": "code",
   "execution_count": 76,
   "id": "0e435688",
   "metadata": {
    "scrolled": false
   },
   "outputs": [
    {
     "data": {
      "text/html": [
       "28.2507618279541"
      ],
      "text/latex": [
       "28.2507618279541"
      ],
      "text/markdown": [
       "28.2507618279541"
      ],
      "text/plain": [
       "[1] 28.25076"
      ]
     },
     "metadata": {},
     "output_type": "display_data"
    }
   ],
   "source": [
    "mean(mydata[(mydata$gender == \"Female\") & (mydata$is_active_on_twitter == \"True\"), 'total_num_tweets'])"
   ]
  },
  {
   "cell_type": "code",
   "execution_count": 77,
   "id": "c9174558",
   "metadata": {},
   "outputs": [
    {
     "data": {
      "text/html": [
       "28.9860157745934"
      ],
      "text/latex": [
       "28.9860157745934"
      ],
      "text/markdown": [
       "28.9860157745934"
      ],
      "text/plain": [
       "[1] 28.98602"
      ]
     },
     "metadata": {},
     "output_type": "display_data"
    }
   ],
   "source": [
    "mean(mydata[(mydata$gender == \"Male\") & (mydata$is_active_on_twitter == \"True\"), 'total_num_tweets'])"
   ]
  },
  {
   "cell_type": "markdown",
   "id": "3a1b8f38",
   "metadata": {},
   "source": [
    "#### Fit a model for all years"
   ]
  },
  {
   "cell_type": "code",
   "execution_count": 53,
   "id": "9b4f4916",
   "metadata": {
    "scrolled": true
   },
   "outputs": [
    {
     "data": {
      "text/plain": [
       "    Min.  1st Qu.   Median     Mean  3rd Qu.     Max. \n",
       "    0.00     2.00     7.00    28.77    21.00 34764.00 "
      ]
     },
     "metadata": {},
     "output_type": "display_data"
    }
   ],
   "source": [
    "summary(mydata[mydata$is_active_on_twitter == \"True\", c('total_num_tweets')])"
   ]
  },
  {
   "cell_type": "code",
   "execution_count": 46,
   "id": "4113fa14",
   "metadata": {},
   "outputs": [],
   "source": [
    "base_str <- \"total_num_tweets ~ 1 + gender * self_promotion + authorship_pos + follower_cn_snapshot_log + \\\n",
    "        author_pub_count_cate + affiliation_rank_cate + affiliation_cate + num_authors + journal_impact + \\\n",
    "        author_citation_log + pub_year\"\n",
    "equation <- as.formula(paste(base_str, keywords, sep = \" \"))\n",
    "m_yes <- glm.nb(equation, data = mydata[mydata$is_active_on_twitter == \"True\", ])"
   ]
  },
  {
   "cell_type": "code",
   "execution_count": 47,
   "id": "a2a0b4dd",
   "metadata": {
    "scrolled": true
   },
   "outputs": [
    {
     "data": {
      "text/html": [
       "<table class=\"dataframe\">\n",
       "<caption>A tibble: 46 × 5</caption>\n",
       "<thead>\n",
       "\t<tr><th scope=col>term</th><th scope=col>estimate</th><th scope=col>std.error</th><th scope=col>statistic</th><th scope=col>p.value</th></tr>\n",
       "\t<tr><th scope=col>&lt;chr&gt;</th><th scope=col>&lt;dbl&gt;</th><th scope=col>&lt;dbl&gt;</th><th scope=col>&lt;dbl&gt;</th><th scope=col>&lt;dbl&gt;</th></tr>\n",
       "</thead>\n",
       "<tbody>\n",
       "\t<tr><td>(Intercept)                                 </td><td> 0.363815394</td><td>1.493831e-02</td><td> 24.3545247</td><td>5.191504e-131</td></tr>\n",
       "\t<tr><td>genderFemale                                </td><td> 0.148483596</td><td>5.123532e-03</td><td> 28.9807099</td><td>1.151741e-184</td></tr>\n",
       "\t<tr><td>self_promotionTrue                          </td><td> 1.235314458</td><td>4.404500e-03</td><td>280.4664247</td><td> 0.000000e+00</td></tr>\n",
       "\t<tr><td>authorship_posfirst_position                </td><td> 0.109717974</td><td>5.723529e-03</td><td> 19.1696384</td><td> 6.636843e-82</td></tr>\n",
       "\t<tr><td>authorship_posmiddle_position               </td><td> 0.290013813</td><td>4.421204e-03</td><td> 65.5961202</td><td> 0.000000e+00</td></tr>\n",
       "\t<tr><td>authorship_possolo_author                   </td><td>-0.206360353</td><td>1.066301e-02</td><td>-19.3529261</td><td> 1.925913e-83</td></tr>\n",
       "\t<tr><td>follower_cn_snapshot_log                    </td><td> 0.094976732</td><td>9.391970e-04</td><td>101.1254683</td><td> 0.000000e+00</td></tr>\n",
       "\t<tr><td>author_pub_count_cate                       </td><td>-0.102244042</td><td>1.854771e-03</td><td>-55.1248905</td><td> 0.000000e+00</td></tr>\n",
       "\t<tr><td>affiliation_rank_cate                       </td><td>-0.008475538</td><td>6.624966e-04</td><td>-12.7933298</td><td> 1.786522e-37</td></tr>\n",
       "\t<tr><td>affiliation_cateinternational               </td><td> 0.069202019</td><td>3.874366e-03</td><td> 17.8615099</td><td> 2.351899e-71</td></tr>\n",
       "\t<tr><td>num_authors                                 </td><td> 0.001065926</td><td>1.638762e-05</td><td> 65.0445722</td><td> 0.000000e+00</td></tr>\n",
       "\t<tr><td>journal_impact                              </td><td> 0.064505545</td><td>2.449054e-04</td><td>263.3896564</td><td> 0.000000e+00</td></tr>\n",
       "\t<tr><td>author_citation_log                         </td><td> 0.050177615</td><td>1.090556e-03</td><td> 46.0110407</td><td> 0.000000e+00</td></tr>\n",
       "\t<tr><td>pub_year2014                                </td><td> 0.238528256</td><td>1.081743e-02</td><td> 22.0503547</td><td>9.477808e-108</td></tr>\n",
       "\t<tr><td>pub_year2015                                </td><td> 0.399244646</td><td>1.005926e-02</td><td> 39.6892652</td><td> 0.000000e+00</td></tr>\n",
       "\t<tr><td>pub_year2016                                </td><td> 0.530946323</td><td>9.717643e-03</td><td> 54.6373570</td><td> 0.000000e+00</td></tr>\n",
       "\t<tr><td>pub_year2017                                </td><td> 0.797167824</td><td>9.533948e-03</td><td> 83.6136153</td><td> 0.000000e+00</td></tr>\n",
       "\t<tr><td>pub_year2018                                </td><td> 0.924043325</td><td>9.402497e-03</td><td> 98.2763727</td><td> 0.000000e+00</td></tr>\n",
       "\t<tr><td>Social_Sciences                             </td><td>-0.116067104</td><td>7.841722e-03</td><td>-14.8012266</td><td> 1.438355e-49</td></tr>\n",
       "\t<tr><td>Materials_Science                           </td><td>-0.532215839</td><td>1.627996e-02</td><td>-32.6914690</td><td>2.064734e-234</td></tr>\n",
       "\t<tr><td>Engineering                                 </td><td>-0.263830819</td><td>1.269579e-02</td><td>-20.7809724</td><td> 6.434215e-96</td></tr>\n",
       "\t<tr><td>Chemistry                                   </td><td>-0.971189620</td><td>1.213734e-02</td><td>-80.0166559</td><td> 0.000000e+00</td></tr>\n",
       "\t<tr><td>Biochemistry__Genetics_and_Molecular_Biology</td><td>-0.142976271</td><td>5.034255e-03</td><td>-28.4006819</td><td>1.983288e-177</td></tr>\n",
       "\t<tr><td>Medicine                                    </td><td>-0.035152611</td><td>4.018941e-03</td><td> -8.7467342</td><td> 2.196163e-18</td></tr>\n",
       "\t<tr><td>Nursing                                     </td><td> 0.211853840</td><td>1.092267e-02</td><td> 19.3957996</td><td> 8.374049e-84</td></tr>\n",
       "\t<tr><td>Agricultural_and_Biological_Sciences        </td><td> 0.332355079</td><td>5.864926e-03</td><td> 56.6682494</td><td> 0.000000e+00</td></tr>\n",
       "\t<tr><td>Pharmacology__Toxicology_and_Pharmaceutics  </td><td>-0.420348268</td><td>1.259878e-02</td><td>-33.3642164</td><td>4.531818e-244</td></tr>\n",
       "\t<tr><td>Neuroscience                                </td><td>-0.007812310</td><td>8.330420e-03</td><td> -0.9378050</td><td> 3.483446e-01</td></tr>\n",
       "\t<tr><td>Business__Management_and_Accounting         </td><td>-0.407880624</td><td>1.592653e-02</td><td>-25.6101414</td><td>1.176194e-144</td></tr>\n",
       "\t<tr><td>Economics__Econometrics_and_Finance         </td><td>-0.128938053</td><td>1.747217e-02</td><td> -7.3796229</td><td> 1.587384e-13</td></tr>\n",
       "\t<tr><td>Chemical_Engineering                        </td><td> 0.091392895</td><td>1.772968e-02</td><td>  5.1547980</td><td> 2.539045e-07</td></tr>\n",
       "\t<tr><td>Physics_and_Astronomy                       </td><td>-0.582827996</td><td>1.289462e-02</td><td>-45.1993033</td><td> 0.000000e+00</td></tr>\n",
       "\t<tr><td>Computer_Science                            </td><td>-0.160594092</td><td>1.222516e-02</td><td>-13.1363620</td><td> 2.037914e-39</td></tr>\n",
       "\t<tr><td>Decision_Sciences                           </td><td>-0.437735527</td><td>2.671992e-02</td><td>-16.3823640</td><td> 2.556123e-60</td></tr>\n",
       "\t<tr><td>Health_Professions                          </td><td> 0.671976240</td><td>1.241009e-02</td><td> 54.1475506</td><td> 0.000000e+00</td></tr>\n",
       "\t<tr><td>Psychology                                  </td><td>-0.101346667</td><td>1.123810e-02</td><td> -9.0181295</td><td> 1.913281e-19</td></tr>\n",
       "\t<tr><td>Immunology_and_Microbiology                 </td><td>-0.007371593</td><td>9.565982e-03</td><td> -0.7706049</td><td> 4.409411e-01</td></tr>\n",
       "\t<tr><td>Dentistry                                   </td><td>-0.676922269</td><td>4.847026e-02</td><td>-13.9657226</td><td> 2.523332e-44</td></tr>\n",
       "\t<tr><td>Earth_and_Planetary_Sciences                </td><td>-0.415823893</td><td>1.017796e-02</td><td>-40.8553264</td><td> 0.000000e+00</td></tr>\n",
       "\t<tr><td>Environmental_Science                       </td><td>-0.168298683</td><td>7.483524e-03</td><td>-22.4892289</td><td>5.291099e-112</td></tr>\n",
       "\t<tr><td>Mathematics                                 </td><td> 0.478492131</td><td>1.664358e-02</td><td> 28.7493479</td><td>9.229183e-182</td></tr>\n",
       "\t<tr><td>Arts_and_Humanities                         </td><td>-0.151066110</td><td>2.190772e-02</td><td> -6.8955639</td><td> 5.365156e-12</td></tr>\n",
       "\t<tr><td>Energy                                      </td><td>-0.588432573</td><td>2.227368e-02</td><td>-26.4182914</td><td>8.446636e-154</td></tr>\n",
       "\t<tr><td>Veterinary                                  </td><td>-0.660668816</td><td>2.747264e-02</td><td>-24.0482499</td><td>8.707245e-128</td></tr>\n",
       "\t<tr><td>General                                     </td><td> 0.449464570</td><td>1.268987e-02</td><td> 35.4191761</td><td>8.654174e-275</td></tr>\n",
       "\t<tr><td>genderFemale:self_promotionTrue             </td><td>-0.127307254</td><td>7.612823e-03</td><td>-16.7227400</td><td> 8.950765e-63</td></tr>\n",
       "</tbody>\n",
       "</table>\n"
      ],
      "text/latex": [
       "A tibble: 46 × 5\n",
       "\\begin{tabular}{lllll}\n",
       " term & estimate & std.error & statistic & p.value\\\\\n",
       " <chr> & <dbl> & <dbl> & <dbl> & <dbl>\\\\\n",
       "\\hline\n",
       "\t (Intercept)                                  &  0.363815394 & 1.493831e-02 &  24.3545247 & 5.191504e-131\\\\\n",
       "\t genderFemale                                 &  0.148483596 & 5.123532e-03 &  28.9807099 & 1.151741e-184\\\\\n",
       "\t self\\_promotionTrue                           &  1.235314458 & 4.404500e-03 & 280.4664247 &  0.000000e+00\\\\\n",
       "\t authorship\\_posfirst\\_position                 &  0.109717974 & 5.723529e-03 &  19.1696384 &  6.636843e-82\\\\\n",
       "\t authorship\\_posmiddle\\_position                &  0.290013813 & 4.421204e-03 &  65.5961202 &  0.000000e+00\\\\\n",
       "\t authorship\\_possolo\\_author                    & -0.206360353 & 1.066301e-02 & -19.3529261 &  1.925913e-83\\\\\n",
       "\t follower\\_cn\\_snapshot\\_log                     &  0.094976732 & 9.391970e-04 & 101.1254683 &  0.000000e+00\\\\\n",
       "\t author\\_pub\\_count\\_cate                        & -0.102244042 & 1.854771e-03 & -55.1248905 &  0.000000e+00\\\\\n",
       "\t affiliation\\_rank\\_cate                        & -0.008475538 & 6.624966e-04 & -12.7933298 &  1.786522e-37\\\\\n",
       "\t affiliation\\_cateinternational                &  0.069202019 & 3.874366e-03 &  17.8615099 &  2.351899e-71\\\\\n",
       "\t num\\_authors                                  &  0.001065926 & 1.638762e-05 &  65.0445722 &  0.000000e+00\\\\\n",
       "\t journal\\_impact                               &  0.064505545 & 2.449054e-04 & 263.3896564 &  0.000000e+00\\\\\n",
       "\t author\\_citation\\_log                          &  0.050177615 & 1.090556e-03 &  46.0110407 &  0.000000e+00\\\\\n",
       "\t pub\\_year2014                                 &  0.238528256 & 1.081743e-02 &  22.0503547 & 9.477808e-108\\\\\n",
       "\t pub\\_year2015                                 &  0.399244646 & 1.005926e-02 &  39.6892652 &  0.000000e+00\\\\\n",
       "\t pub\\_year2016                                 &  0.530946323 & 9.717643e-03 &  54.6373570 &  0.000000e+00\\\\\n",
       "\t pub\\_year2017                                 &  0.797167824 & 9.533948e-03 &  83.6136153 &  0.000000e+00\\\\\n",
       "\t pub\\_year2018                                 &  0.924043325 & 9.402497e-03 &  98.2763727 &  0.000000e+00\\\\\n",
       "\t Social\\_Sciences                              & -0.116067104 & 7.841722e-03 & -14.8012266 &  1.438355e-49\\\\\n",
       "\t Materials\\_Science                            & -0.532215839 & 1.627996e-02 & -32.6914690 & 2.064734e-234\\\\\n",
       "\t Engineering                                  & -0.263830819 & 1.269579e-02 & -20.7809724 &  6.434215e-96\\\\\n",
       "\t Chemistry                                    & -0.971189620 & 1.213734e-02 & -80.0166559 &  0.000000e+00\\\\\n",
       "\t Biochemistry\\_\\_Genetics\\_and\\_Molecular\\_Biology & -0.142976271 & 5.034255e-03 & -28.4006819 & 1.983288e-177\\\\\n",
       "\t Medicine                                     & -0.035152611 & 4.018941e-03 &  -8.7467342 &  2.196163e-18\\\\\n",
       "\t Nursing                                      &  0.211853840 & 1.092267e-02 &  19.3957996 &  8.374049e-84\\\\\n",
       "\t Agricultural\\_and\\_Biological\\_Sciences         &  0.332355079 & 5.864926e-03 &  56.6682494 &  0.000000e+00\\\\\n",
       "\t Pharmacology\\_\\_Toxicology\\_and\\_Pharmaceutics   & -0.420348268 & 1.259878e-02 & -33.3642164 & 4.531818e-244\\\\\n",
       "\t Neuroscience                                 & -0.007812310 & 8.330420e-03 &  -0.9378050 &  3.483446e-01\\\\\n",
       "\t Business\\_\\_Management\\_and\\_Accounting          & -0.407880624 & 1.592653e-02 & -25.6101414 & 1.176194e-144\\\\\n",
       "\t Economics\\_\\_Econometrics\\_and\\_Finance          & -0.128938053 & 1.747217e-02 &  -7.3796229 &  1.587384e-13\\\\\n",
       "\t Chemical\\_Engineering                         &  0.091392895 & 1.772968e-02 &   5.1547980 &  2.539045e-07\\\\\n",
       "\t Physics\\_and\\_Astronomy                        & -0.582827996 & 1.289462e-02 & -45.1993033 &  0.000000e+00\\\\\n",
       "\t Computer\\_Science                             & -0.160594092 & 1.222516e-02 & -13.1363620 &  2.037914e-39\\\\\n",
       "\t Decision\\_Sciences                            & -0.437735527 & 2.671992e-02 & -16.3823640 &  2.556123e-60\\\\\n",
       "\t Health\\_Professions                           &  0.671976240 & 1.241009e-02 &  54.1475506 &  0.000000e+00\\\\\n",
       "\t Psychology                                   & -0.101346667 & 1.123810e-02 &  -9.0181295 &  1.913281e-19\\\\\n",
       "\t Immunology\\_and\\_Microbiology                  & -0.007371593 & 9.565982e-03 &  -0.7706049 &  4.409411e-01\\\\\n",
       "\t Dentistry                                    & -0.676922269 & 4.847026e-02 & -13.9657226 &  2.523332e-44\\\\\n",
       "\t Earth\\_and\\_Planetary\\_Sciences                 & -0.415823893 & 1.017796e-02 & -40.8553264 &  0.000000e+00\\\\\n",
       "\t Environmental\\_Science                        & -0.168298683 & 7.483524e-03 & -22.4892289 & 5.291099e-112\\\\\n",
       "\t Mathematics                                  &  0.478492131 & 1.664358e-02 &  28.7493479 & 9.229183e-182\\\\\n",
       "\t Arts\\_and\\_Humanities                          & -0.151066110 & 2.190772e-02 &  -6.8955639 &  5.365156e-12\\\\\n",
       "\t Energy                                       & -0.588432573 & 2.227368e-02 & -26.4182914 & 8.446636e-154\\\\\n",
       "\t Veterinary                                   & -0.660668816 & 2.747264e-02 & -24.0482499 & 8.707245e-128\\\\\n",
       "\t General                                      &  0.449464570 & 1.268987e-02 &  35.4191761 & 8.654174e-275\\\\\n",
       "\t genderFemale:self\\_promotionTrue              & -0.127307254 & 7.612823e-03 & -16.7227400 &  8.950765e-63\\\\\n",
       "\\end{tabular}\n"
      ],
      "text/markdown": [
       "\n",
       "A tibble: 46 × 5\n",
       "\n",
       "| term &lt;chr&gt; | estimate &lt;dbl&gt; | std.error &lt;dbl&gt; | statistic &lt;dbl&gt; | p.value &lt;dbl&gt; |\n",
       "|---|---|---|---|---|\n",
       "| (Intercept)                                  |  0.363815394 | 1.493831e-02 |  24.3545247 | 5.191504e-131 |\n",
       "| genderFemale                                 |  0.148483596 | 5.123532e-03 |  28.9807099 | 1.151741e-184 |\n",
       "| self_promotionTrue                           |  1.235314458 | 4.404500e-03 | 280.4664247 |  0.000000e+00 |\n",
       "| authorship_posfirst_position                 |  0.109717974 | 5.723529e-03 |  19.1696384 |  6.636843e-82 |\n",
       "| authorship_posmiddle_position                |  0.290013813 | 4.421204e-03 |  65.5961202 |  0.000000e+00 |\n",
       "| authorship_possolo_author                    | -0.206360353 | 1.066301e-02 | -19.3529261 |  1.925913e-83 |\n",
       "| follower_cn_snapshot_log                     |  0.094976732 | 9.391970e-04 | 101.1254683 |  0.000000e+00 |\n",
       "| author_pub_count_cate                        | -0.102244042 | 1.854771e-03 | -55.1248905 |  0.000000e+00 |\n",
       "| affiliation_rank_cate                        | -0.008475538 | 6.624966e-04 | -12.7933298 |  1.786522e-37 |\n",
       "| affiliation_cateinternational                |  0.069202019 | 3.874366e-03 |  17.8615099 |  2.351899e-71 |\n",
       "| num_authors                                  |  0.001065926 | 1.638762e-05 |  65.0445722 |  0.000000e+00 |\n",
       "| journal_impact                               |  0.064505545 | 2.449054e-04 | 263.3896564 |  0.000000e+00 |\n",
       "| author_citation_log                          |  0.050177615 | 1.090556e-03 |  46.0110407 |  0.000000e+00 |\n",
       "| pub_year2014                                 |  0.238528256 | 1.081743e-02 |  22.0503547 | 9.477808e-108 |\n",
       "| pub_year2015                                 |  0.399244646 | 1.005926e-02 |  39.6892652 |  0.000000e+00 |\n",
       "| pub_year2016                                 |  0.530946323 | 9.717643e-03 |  54.6373570 |  0.000000e+00 |\n",
       "| pub_year2017                                 |  0.797167824 | 9.533948e-03 |  83.6136153 |  0.000000e+00 |\n",
       "| pub_year2018                                 |  0.924043325 | 9.402497e-03 |  98.2763727 |  0.000000e+00 |\n",
       "| Social_Sciences                              | -0.116067104 | 7.841722e-03 | -14.8012266 |  1.438355e-49 |\n",
       "| Materials_Science                            | -0.532215839 | 1.627996e-02 | -32.6914690 | 2.064734e-234 |\n",
       "| Engineering                                  | -0.263830819 | 1.269579e-02 | -20.7809724 |  6.434215e-96 |\n",
       "| Chemistry                                    | -0.971189620 | 1.213734e-02 | -80.0166559 |  0.000000e+00 |\n",
       "| Biochemistry__Genetics_and_Molecular_Biology | -0.142976271 | 5.034255e-03 | -28.4006819 | 1.983288e-177 |\n",
       "| Medicine                                     | -0.035152611 | 4.018941e-03 |  -8.7467342 |  2.196163e-18 |\n",
       "| Nursing                                      |  0.211853840 | 1.092267e-02 |  19.3957996 |  8.374049e-84 |\n",
       "| Agricultural_and_Biological_Sciences         |  0.332355079 | 5.864926e-03 |  56.6682494 |  0.000000e+00 |\n",
       "| Pharmacology__Toxicology_and_Pharmaceutics   | -0.420348268 | 1.259878e-02 | -33.3642164 | 4.531818e-244 |\n",
       "| Neuroscience                                 | -0.007812310 | 8.330420e-03 |  -0.9378050 |  3.483446e-01 |\n",
       "| Business__Management_and_Accounting          | -0.407880624 | 1.592653e-02 | -25.6101414 | 1.176194e-144 |\n",
       "| Economics__Econometrics_and_Finance          | -0.128938053 | 1.747217e-02 |  -7.3796229 |  1.587384e-13 |\n",
       "| Chemical_Engineering                         |  0.091392895 | 1.772968e-02 |   5.1547980 |  2.539045e-07 |\n",
       "| Physics_and_Astronomy                        | -0.582827996 | 1.289462e-02 | -45.1993033 |  0.000000e+00 |\n",
       "| Computer_Science                             | -0.160594092 | 1.222516e-02 | -13.1363620 |  2.037914e-39 |\n",
       "| Decision_Sciences                            | -0.437735527 | 2.671992e-02 | -16.3823640 |  2.556123e-60 |\n",
       "| Health_Professions                           |  0.671976240 | 1.241009e-02 |  54.1475506 |  0.000000e+00 |\n",
       "| Psychology                                   | -0.101346667 | 1.123810e-02 |  -9.0181295 |  1.913281e-19 |\n",
       "| Immunology_and_Microbiology                  | -0.007371593 | 9.565982e-03 |  -0.7706049 |  4.409411e-01 |\n",
       "| Dentistry                                    | -0.676922269 | 4.847026e-02 | -13.9657226 |  2.523332e-44 |\n",
       "| Earth_and_Planetary_Sciences                 | -0.415823893 | 1.017796e-02 | -40.8553264 |  0.000000e+00 |\n",
       "| Environmental_Science                        | -0.168298683 | 7.483524e-03 | -22.4892289 | 5.291099e-112 |\n",
       "| Mathematics                                  |  0.478492131 | 1.664358e-02 |  28.7493479 | 9.229183e-182 |\n",
       "| Arts_and_Humanities                          | -0.151066110 | 2.190772e-02 |  -6.8955639 |  5.365156e-12 |\n",
       "| Energy                                       | -0.588432573 | 2.227368e-02 | -26.4182914 | 8.446636e-154 |\n",
       "| Veterinary                                   | -0.660668816 | 2.747264e-02 | -24.0482499 | 8.707245e-128 |\n",
       "| General                                      |  0.449464570 | 1.268987e-02 |  35.4191761 | 8.654174e-275 |\n",
       "| genderFemale:self_promotionTrue              | -0.127307254 | 7.612823e-03 | -16.7227400 |  8.950765e-63 |\n",
       "\n"
      ],
      "text/plain": [
       "   term                                         estimate     std.error   \n",
       "1  (Intercept)                                   0.363815394 1.493831e-02\n",
       "2  genderFemale                                  0.148483596 5.123532e-03\n",
       "3  self_promotionTrue                            1.235314458 4.404500e-03\n",
       "4  authorship_posfirst_position                  0.109717974 5.723529e-03\n",
       "5  authorship_posmiddle_position                 0.290013813 4.421204e-03\n",
       "6  authorship_possolo_author                    -0.206360353 1.066301e-02\n",
       "7  follower_cn_snapshot_log                      0.094976732 9.391970e-04\n",
       "8  author_pub_count_cate                        -0.102244042 1.854771e-03\n",
       "9  affiliation_rank_cate                        -0.008475538 6.624966e-04\n",
       "10 affiliation_cateinternational                 0.069202019 3.874366e-03\n",
       "11 num_authors                                   0.001065926 1.638762e-05\n",
       "12 journal_impact                                0.064505545 2.449054e-04\n",
       "13 author_citation_log                           0.050177615 1.090556e-03\n",
       "14 pub_year2014                                  0.238528256 1.081743e-02\n",
       "15 pub_year2015                                  0.399244646 1.005926e-02\n",
       "16 pub_year2016                                  0.530946323 9.717643e-03\n",
       "17 pub_year2017                                  0.797167824 9.533948e-03\n",
       "18 pub_year2018                                  0.924043325 9.402497e-03\n",
       "19 Social_Sciences                              -0.116067104 7.841722e-03\n",
       "20 Materials_Science                            -0.532215839 1.627996e-02\n",
       "21 Engineering                                  -0.263830819 1.269579e-02\n",
       "22 Chemistry                                    -0.971189620 1.213734e-02\n",
       "23 Biochemistry__Genetics_and_Molecular_Biology -0.142976271 5.034255e-03\n",
       "24 Medicine                                     -0.035152611 4.018941e-03\n",
       "25 Nursing                                       0.211853840 1.092267e-02\n",
       "26 Agricultural_and_Biological_Sciences          0.332355079 5.864926e-03\n",
       "27 Pharmacology__Toxicology_and_Pharmaceutics   -0.420348268 1.259878e-02\n",
       "28 Neuroscience                                 -0.007812310 8.330420e-03\n",
       "29 Business__Management_and_Accounting          -0.407880624 1.592653e-02\n",
       "30 Economics__Econometrics_and_Finance          -0.128938053 1.747217e-02\n",
       "31 Chemical_Engineering                          0.091392895 1.772968e-02\n",
       "32 Physics_and_Astronomy                        -0.582827996 1.289462e-02\n",
       "33 Computer_Science                             -0.160594092 1.222516e-02\n",
       "34 Decision_Sciences                            -0.437735527 2.671992e-02\n",
       "35 Health_Professions                            0.671976240 1.241009e-02\n",
       "36 Psychology                                   -0.101346667 1.123810e-02\n",
       "37 Immunology_and_Microbiology                  -0.007371593 9.565982e-03\n",
       "38 Dentistry                                    -0.676922269 4.847026e-02\n",
       "39 Earth_and_Planetary_Sciences                 -0.415823893 1.017796e-02\n",
       "40 Environmental_Science                        -0.168298683 7.483524e-03\n",
       "41 Mathematics                                   0.478492131 1.664358e-02\n",
       "42 Arts_and_Humanities                          -0.151066110 2.190772e-02\n",
       "43 Energy                                       -0.588432573 2.227368e-02\n",
       "44 Veterinary                                   -0.660668816 2.747264e-02\n",
       "45 General                                       0.449464570 1.268987e-02\n",
       "46 genderFemale:self_promotionTrue              -0.127307254 7.612823e-03\n",
       "   statistic   p.value      \n",
       "1   24.3545247 5.191504e-131\n",
       "2   28.9807099 1.151741e-184\n",
       "3  280.4664247  0.000000e+00\n",
       "4   19.1696384  6.636843e-82\n",
       "5   65.5961202  0.000000e+00\n",
       "6  -19.3529261  1.925913e-83\n",
       "7  101.1254683  0.000000e+00\n",
       "8  -55.1248905  0.000000e+00\n",
       "9  -12.7933298  1.786522e-37\n",
       "10  17.8615099  2.351899e-71\n",
       "11  65.0445722  0.000000e+00\n",
       "12 263.3896564  0.000000e+00\n",
       "13  46.0110407  0.000000e+00\n",
       "14  22.0503547 9.477808e-108\n",
       "15  39.6892652  0.000000e+00\n",
       "16  54.6373570  0.000000e+00\n",
       "17  83.6136153  0.000000e+00\n",
       "18  98.2763727  0.000000e+00\n",
       "19 -14.8012266  1.438355e-49\n",
       "20 -32.6914690 2.064734e-234\n",
       "21 -20.7809724  6.434215e-96\n",
       "22 -80.0166559  0.000000e+00\n",
       "23 -28.4006819 1.983288e-177\n",
       "24  -8.7467342  2.196163e-18\n",
       "25  19.3957996  8.374049e-84\n",
       "26  56.6682494  0.000000e+00\n",
       "27 -33.3642164 4.531818e-244\n",
       "28  -0.9378050  3.483446e-01\n",
       "29 -25.6101414 1.176194e-144\n",
       "30  -7.3796229  1.587384e-13\n",
       "31   5.1547980  2.539045e-07\n",
       "32 -45.1993033  0.000000e+00\n",
       "33 -13.1363620  2.037914e-39\n",
       "34 -16.3823640  2.556123e-60\n",
       "35  54.1475506  0.000000e+00\n",
       "36  -9.0181295  1.913281e-19\n",
       "37  -0.7706049  4.409411e-01\n",
       "38 -13.9657226  2.523332e-44\n",
       "39 -40.8553264  0.000000e+00\n",
       "40 -22.4892289 5.291099e-112\n",
       "41  28.7493479 9.229183e-182\n",
       "42  -6.8955639  5.365156e-12\n",
       "43 -26.4182914 8.446636e-154\n",
       "44 -24.0482499 8.707245e-128\n",
       "45  35.4191761 8.654174e-275\n",
       "46 -16.7227400  8.950765e-63"
      ]
     },
     "metadata": {},
     "output_type": "display_data"
    }
   ],
   "source": [
    "tidy(m_yes)"
   ]
  },
  {
   "cell_type": "code",
   "execution_count": 33,
   "id": "a972838c",
   "metadata": {
    "scrolled": true
   },
   "outputs": [
    {
     "name": "stdout",
     "output_type": "stream",
     "text": [
      "\n",
      "% Table created by stargazer v.5.2.3 by Marek Hlavac, Social Policy Institute. E-mail: marek.hlavac at gmail.com\n",
      "% Date and time: Tue, Sep 05, 2023 - 02:14:42 PM\n",
      "\\begin{table}[!htbp] \\centering \n",
      "  \\caption{} \n",
      "  \\label{} \n",
      "\\begin{tabular}{@{\\extracolsep{5pt}}lc} \n",
      "\\\\[-1.8ex]\\hline \n",
      "\\hline \\\\[-1.8ex] \n",
      " & \\multicolumn{1}{c}{\\textit{Dependent variable:}} \\\\ \n",
      "\\cline{2-2} \n",
      "\\\\[-1.8ex] & total\\_num\\_tweets \\\\ \n",
      "\\hline \\\\[-1.8ex] \n",
      " genderFemale & 0.148$^{***}$ \\\\ \n",
      "  & p = 0.000 \\\\ \n",
      "  self\\_promotionTrue & 1.235$^{***}$ \\\\ \n",
      "  & p = 0.000 \\\\ \n",
      "  authorship\\_posfirst\\_position & 0.110$^{***}$ \\\\ \n",
      "  & p = 0.000 \\\\ \n",
      "  authorship\\_posmiddle\\_position & 0.290$^{***}$ \\\\ \n",
      "  & p = 0.000 \\\\ \n",
      "  authorship\\_possolo\\_author & $-$0.206$^{***}$ \\\\ \n",
      "  & p = 0.000 \\\\ \n",
      "  follower\\_cn\\_snapshot\\_log & 0.095$^{***}$ \\\\ \n",
      "  & p = 0.000 \\\\ \n",
      "  author\\_pub\\_count\\_cate & $-$0.102$^{***}$ \\\\ \n",
      "  & p = 0.000 \\\\ \n",
      "  affiliation\\_rank\\_cate & $-$0.008$^{***}$ \\\\ \n",
      "  & p = 0.000 \\\\ \n",
      "  affiliation\\_cateinternational & 0.069$^{***}$ \\\\ \n",
      "  & p = 0.000 \\\\ \n",
      "  num\\_authors & 0.001$^{***}$ \\\\ \n",
      "  & p = 0.000 \\\\ \n",
      "  journal\\_impact & 0.065$^{***}$ \\\\ \n",
      "  & p = 0.000 \\\\ \n",
      "  author\\_citation\\_log & 0.050$^{***}$ \\\\ \n",
      "  & p = 0.000 \\\\ \n",
      "  pub\\_year2014 & 0.239$^{***}$ \\\\ \n",
      "  & p = 0.000 \\\\ \n",
      "  pub\\_year2015 & 0.399$^{***}$ \\\\ \n",
      "  & p = 0.000 \\\\ \n",
      "  pub\\_year2016 & 0.531$^{***}$ \\\\ \n",
      "  & p = 0.000 \\\\ \n",
      "  pub\\_year2017 & 0.797$^{***}$ \\\\ \n",
      "  & p = 0.000 \\\\ \n",
      "  pub\\_year2018 & 0.924$^{***}$ \\\\ \n",
      "  & p = 0.000 \\\\ \n",
      "  Social\\_Sciences & $-$0.116$^{***}$ \\\\ \n",
      "  & p = 0.000 \\\\ \n",
      "  Materials\\_Science & $-$0.532$^{***}$ \\\\ \n",
      "  & p = 0.000 \\\\ \n",
      "  Engineering & $-$0.264$^{***}$ \\\\ \n",
      "  & p = 0.000 \\\\ \n",
      "  Chemistry & $-$0.971$^{***}$ \\\\ \n",
      "  & p = 0.000 \\\\ \n",
      "  Biochemistry\\_\\_Genetics\\_and\\_Molecular\\_Biology & $-$0.143$^{***}$ \\\\ \n",
      "  & p = 0.000 \\\\ \n",
      "  Medicine & $-$0.035$^{***}$ \\\\ \n",
      "  & p = 0.000 \\\\ \n",
      "  Nursing & 0.212$^{***}$ \\\\ \n",
      "  & p = 0.000 \\\\ \n",
      "  Agricultural\\_and\\_Biological\\_Sciences & 0.332$^{***}$ \\\\ \n",
      "  & p = 0.000 \\\\ \n",
      "  Pharmacology\\_\\_Toxicology\\_and\\_Pharmaceutics & $-$0.420$^{***}$ \\\\ \n",
      "  & p = 0.000 \\\\ \n",
      "  Neuroscience & $-$0.008 \\\\ \n",
      "  & p = 0.349 \\\\ \n",
      "  Business\\_\\_Management\\_and\\_Accounting & $-$0.408$^{***}$ \\\\ \n",
      "  & p = 0.000 \\\\ \n",
      "  Economics\\_\\_Econometrics\\_and\\_Finance & $-$0.129$^{***}$ \\\\ \n",
      "  & p = 0.000 \\\\ \n",
      "  Chemical\\_Engineering & 0.091$^{***}$ \\\\ \n",
      "  & p = 0.00000 \\\\ \n",
      "  Physics\\_and\\_Astronomy & $-$0.583$^{***}$ \\\\ \n",
      "  & p = 0.000 \\\\ \n",
      "  Computer\\_Science & $-$0.161$^{***}$ \\\\ \n",
      "  & p = 0.000 \\\\ \n",
      "  Decision\\_Sciences & $-$0.438$^{***}$ \\\\ \n",
      "  & p = 0.000 \\\\ \n",
      "  Health\\_Professions & 0.672$^{***}$ \\\\ \n",
      "  & p = 0.000 \\\\ \n",
      "  Psychology & $-$0.101$^{***}$ \\\\ \n",
      "  & p = 0.000 \\\\ \n",
      "  Immunology\\_and\\_Microbiology & $-$0.007 \\\\ \n",
      "  & p = 0.441 \\\\ \n",
      "  Dentistry & $-$0.677$^{***}$ \\\\ \n",
      "  & p = 0.000 \\\\ \n",
      "  Earth\\_and\\_Planetary\\_Sciences & $-$0.416$^{***}$ \\\\ \n",
      "  & p = 0.000 \\\\ \n",
      "  Environmental\\_Science & $-$0.168$^{***}$ \\\\ \n",
      "  & p = 0.000 \\\\ \n",
      "  Mathematics & 0.478$^{***}$ \\\\ \n",
      "  & p = 0.000 \\\\ \n",
      "  Arts\\_and\\_Humanities & $-$0.151$^{***}$ \\\\ \n",
      "  & p = 0.000 \\\\ \n",
      "  Energy & $-$0.588$^{***}$ \\\\ \n",
      "  & p = 0.000 \\\\ \n",
      "  Veterinary & $-$0.661$^{***}$ \\\\ \n",
      "  & p = 0.000 \\\\ \n",
      "  General & 0.449$^{***}$ \\\\ \n",
      "  & p = 0.000 \\\\ \n",
      "  genderFemale:self\\_promotionTrue & $-$0.127$^{***}$ \\\\ \n",
      "  & p = 0.000 \\\\ \n",
      "  Constant & 0.364$^{***}$ \\\\ \n",
      "  & p = 0.000 \\\\ \n",
      " \\hline \\\\[-1.8ex] \n",
      "Observations & 618,742 \\\\ \n",
      "Log Likelihood & $-$2,335,341.000 \\\\ \n",
      "$\\theta$ & 0.567$^{***}$  (0.001) \\\\ \n",
      "Akaike Inf. Crit. & 4,670,775.000 \\\\ \n",
      "\\hline \n",
      "\\hline \\\\[-1.8ex] \n",
      "\\textit{Note:}  & \\multicolumn{1}{r}{$^{*}$p$<$0.05; $^{**}$p$<$0.01; $^{***}$p$<$0.001} \\\\ \n",
      "\\end{tabular} \n",
      "\\end{table} \n"
     ]
    }
   ],
   "source": [
    "# use this search string in Sublime: \" \\\\\\\\ \\n  &\" with \" &\"\n",
    "stargazer(m_yes, type = \"latex\", single.row=TRUE, ci = FALSE, report = ('vc*p'), star.cutoffs = c(0.05, 0.01, 0.001))"
   ]
  },
  {
   "cell_type": "code",
   "execution_count": 110,
   "id": "03452b85",
   "metadata": {},
   "outputs": [],
   "source": [
    "# weighted average for factor variable, median for non-factor variables\n",
    "MEs = ggemmeans(m_yes, terms=c('self_promotion', 'gender', 'pub_year'), typical='median')"
   ]
  },
  {
   "cell_type": "code",
   "execution_count": 111,
   "id": "1ce6d7db",
   "metadata": {
    "scrolled": true
   },
   "outputs": [
    {
     "data": {
      "text/html": [
       "<table class=\"dataframe\">\n",
       "<caption>A ggeffects: 24 × 7</caption>\n",
       "<thead>\n",
       "\t<tr><th scope=col>x</th><th scope=col>predicted</th><th scope=col>std.error</th><th scope=col>conf.low</th><th scope=col>conf.high</th><th scope=col>group</th><th scope=col>facet</th></tr>\n",
       "\t<tr><th scope=col>&lt;fct&gt;</th><th scope=col>&lt;dbl&gt;</th><th scope=col>&lt;dbl&gt;</th><th scope=col>&lt;dbl&gt;</th><th scope=col>&lt;dbl&gt;</th><th scope=col>&lt;fct&gt;</th><th scope=col>&lt;fct&gt;</th></tr>\n",
       "</thead>\n",
       "<tbody>\n",
       "\t<tr><td>False</td><td> 4.315860</td><td>0.009845945</td><td> 4.233373</td><td> 4.399955</td><td>Male  </td><td>2013</td></tr>\n",
       "\t<tr><td>False</td><td> 5.478465</td><td>0.007727278</td><td> 5.396118</td><td> 5.562069</td><td>Male  </td><td>2014</td></tr>\n",
       "\t<tr><td>False</td><td> 6.433645</td><td>0.006592291</td><td> 6.351053</td><td> 6.517312</td><td>Male  </td><td>2015</td></tr>\n",
       "\t<tr><td>False</td><td> 7.339296</td><td>0.005999963</td><td> 7.253494</td><td> 7.426114</td><td>Male  </td><td>2016</td></tr>\n",
       "\t<tr><td>False</td><td> 9.577959</td><td>0.005632767</td><td> 9.472799</td><td> 9.684285</td><td>Male  </td><td>2017</td></tr>\n",
       "\t<tr><td>False</td><td>10.873623</td><td>0.005405193</td><td>10.759036</td><td>10.989431</td><td>Male  </td><td>2018</td></tr>\n",
       "\t<tr><td>False</td><td> 5.006716</td><td>0.010460461</td><td> 4.905113</td><td> 5.110424</td><td>Female</td><td>2013</td></tr>\n",
       "\t<tr><td>False</td><td> 6.355423</td><td>0.008447499</td><td> 6.251064</td><td> 6.461525</td><td>Female</td><td>2014</td></tr>\n",
       "\t<tr><td>False</td><td> 7.463503</td><td>0.007373746</td><td> 7.356414</td><td> 7.572151</td><td>Female</td><td>2015</td></tr>\n",
       "\t<tr><td>False</td><td> 8.514125</td><td>0.006797265</td><td> 8.401449</td><td> 8.628313</td><td>Female</td><td>2016</td></tr>\n",
       "\t<tr><td>False</td><td>11.111139</td><td>0.006448763</td><td>10.971585</td><td>11.252467</td><td>Female</td><td>2017</td></tr>\n",
       "\t<tr><td>False</td><td>12.614205</td><td>0.006206228</td><td>12.461696</td><td>12.768581</td><td>Female</td><td>2018</td></tr>\n",
       "\t<tr><td>True </td><td>14.844228</td><td>0.010042221</td><td>14.554915</td><td>15.139292</td><td>Male  </td><td>2013</td></tr>\n",
       "\t<tr><td>True </td><td>18.842960</td><td>0.007919486</td><td>18.552740</td><td>19.137720</td><td>Male  </td><td>2014</td></tr>\n",
       "\t<tr><td>True </td><td>22.128265</td><td>0.006747126</td><td>21.837565</td><td>22.422836</td><td>Male  </td><td>2015</td></tr>\n",
       "\t<tr><td>True </td><td>25.243216</td><td>0.006115009</td><td>24.942477</td><td>25.547581</td><td>Male  </td><td>2016</td></tr>\n",
       "\t<tr><td>True </td><td>32.943005</td><td>0.005619966</td><td>32.582131</td><td>33.307876</td><td>Male  </td><td>2017</td></tr>\n",
       "\t<tr><td>True </td><td>37.399392</td><td>0.005241139</td><td>37.017175</td><td>37.785555</td><td>Male  </td><td>2018</td></tr>\n",
       "\t<tr><td>True </td><td>15.161927</td><td>0.010825277</td><td>14.843622</td><td>15.487057</td><td>Female</td><td>2013</td></tr>\n",
       "\t<tr><td>True </td><td>19.246240</td><td>0.008861173</td><td>18.914865</td><td>19.583420</td><td>Female</td><td>2014</td></tr>\n",
       "\t<tr><td>True </td><td>22.601858</td><td>0.007794870</td><td>22.259179</td><td>22.949813</td><td>Female</td><td>2015</td></tr>\n",
       "\t<tr><td>True </td><td>25.783475</td><td>0.007209574</td><td>25.421703</td><td>26.150395</td><td>Female</td><td>2016</td></tr>\n",
       "\t<tr><td>True </td><td>33.648056</td><td>0.006747339</td><td>33.206005</td><td>34.095991</td><td>Female</td><td>2017</td></tr>\n",
       "\t<tr><td>True </td><td>38.199819</td><td>0.006381548</td><td>37.725007</td><td>38.680608</td><td>Female</td><td>2018</td></tr>\n",
       "</tbody>\n",
       "</table>\n"
      ],
      "text/latex": [
       "A ggeffects: 24 × 7\n",
       "\\begin{tabular}{lllllll}\n",
       " x & predicted & std.error & conf.low & conf.high & group & facet\\\\\n",
       " <fct> & <dbl> & <dbl> & <dbl> & <dbl> & <fct> & <fct>\\\\\n",
       "\\hline\n",
       "\t False &  4.315860 & 0.009845945 &  4.233373 &  4.399955 & Male   & 2013\\\\\n",
       "\t False &  5.478465 & 0.007727278 &  5.396118 &  5.562069 & Male   & 2014\\\\\n",
       "\t False &  6.433645 & 0.006592291 &  6.351053 &  6.517312 & Male   & 2015\\\\\n",
       "\t False &  7.339296 & 0.005999963 &  7.253494 &  7.426114 & Male   & 2016\\\\\n",
       "\t False &  9.577959 & 0.005632767 &  9.472799 &  9.684285 & Male   & 2017\\\\\n",
       "\t False & 10.873623 & 0.005405193 & 10.759036 & 10.989431 & Male   & 2018\\\\\n",
       "\t False &  5.006716 & 0.010460461 &  4.905113 &  5.110424 & Female & 2013\\\\\n",
       "\t False &  6.355423 & 0.008447499 &  6.251064 &  6.461525 & Female & 2014\\\\\n",
       "\t False &  7.463503 & 0.007373746 &  7.356414 &  7.572151 & Female & 2015\\\\\n",
       "\t False &  8.514125 & 0.006797265 &  8.401449 &  8.628313 & Female & 2016\\\\\n",
       "\t False & 11.111139 & 0.006448763 & 10.971585 & 11.252467 & Female & 2017\\\\\n",
       "\t False & 12.614205 & 0.006206228 & 12.461696 & 12.768581 & Female & 2018\\\\\n",
       "\t True  & 14.844228 & 0.010042221 & 14.554915 & 15.139292 & Male   & 2013\\\\\n",
       "\t True  & 18.842960 & 0.007919486 & 18.552740 & 19.137720 & Male   & 2014\\\\\n",
       "\t True  & 22.128265 & 0.006747126 & 21.837565 & 22.422836 & Male   & 2015\\\\\n",
       "\t True  & 25.243216 & 0.006115009 & 24.942477 & 25.547581 & Male   & 2016\\\\\n",
       "\t True  & 32.943005 & 0.005619966 & 32.582131 & 33.307876 & Male   & 2017\\\\\n",
       "\t True  & 37.399392 & 0.005241139 & 37.017175 & 37.785555 & Male   & 2018\\\\\n",
       "\t True  & 15.161927 & 0.010825277 & 14.843622 & 15.487057 & Female & 2013\\\\\n",
       "\t True  & 19.246240 & 0.008861173 & 18.914865 & 19.583420 & Female & 2014\\\\\n",
       "\t True  & 22.601858 & 0.007794870 & 22.259179 & 22.949813 & Female & 2015\\\\\n",
       "\t True  & 25.783475 & 0.007209574 & 25.421703 & 26.150395 & Female & 2016\\\\\n",
       "\t True  & 33.648056 & 0.006747339 & 33.206005 & 34.095991 & Female & 2017\\\\\n",
       "\t True  & 38.199819 & 0.006381548 & 37.725007 & 38.680608 & Female & 2018\\\\\n",
       "\\end{tabular}\n"
      ],
      "text/markdown": [
       "\n",
       "A ggeffects: 24 × 7\n",
       "\n",
       "| x &lt;fct&gt; | predicted &lt;dbl&gt; | std.error &lt;dbl&gt; | conf.low &lt;dbl&gt; | conf.high &lt;dbl&gt; | group &lt;fct&gt; | facet &lt;fct&gt; |\n",
       "|---|---|---|---|---|---|---|\n",
       "| False |  4.315860 | 0.009845945 |  4.233373 |  4.399955 | Male   | 2013 |\n",
       "| False |  5.478465 | 0.007727278 |  5.396118 |  5.562069 | Male   | 2014 |\n",
       "| False |  6.433645 | 0.006592291 |  6.351053 |  6.517312 | Male   | 2015 |\n",
       "| False |  7.339296 | 0.005999963 |  7.253494 |  7.426114 | Male   | 2016 |\n",
       "| False |  9.577959 | 0.005632767 |  9.472799 |  9.684285 | Male   | 2017 |\n",
       "| False | 10.873623 | 0.005405193 | 10.759036 | 10.989431 | Male   | 2018 |\n",
       "| False |  5.006716 | 0.010460461 |  4.905113 |  5.110424 | Female | 2013 |\n",
       "| False |  6.355423 | 0.008447499 |  6.251064 |  6.461525 | Female | 2014 |\n",
       "| False |  7.463503 | 0.007373746 |  7.356414 |  7.572151 | Female | 2015 |\n",
       "| False |  8.514125 | 0.006797265 |  8.401449 |  8.628313 | Female | 2016 |\n",
       "| False | 11.111139 | 0.006448763 | 10.971585 | 11.252467 | Female | 2017 |\n",
       "| False | 12.614205 | 0.006206228 | 12.461696 | 12.768581 | Female | 2018 |\n",
       "| True  | 14.844228 | 0.010042221 | 14.554915 | 15.139292 | Male   | 2013 |\n",
       "| True  | 18.842960 | 0.007919486 | 18.552740 | 19.137720 | Male   | 2014 |\n",
       "| True  | 22.128265 | 0.006747126 | 21.837565 | 22.422836 | Male   | 2015 |\n",
       "| True  | 25.243216 | 0.006115009 | 24.942477 | 25.547581 | Male   | 2016 |\n",
       "| True  | 32.943005 | 0.005619966 | 32.582131 | 33.307876 | Male   | 2017 |\n",
       "| True  | 37.399392 | 0.005241139 | 37.017175 | 37.785555 | Male   | 2018 |\n",
       "| True  | 15.161927 | 0.010825277 | 14.843622 | 15.487057 | Female | 2013 |\n",
       "| True  | 19.246240 | 0.008861173 | 18.914865 | 19.583420 | Female | 2014 |\n",
       "| True  | 22.601858 | 0.007794870 | 22.259179 | 22.949813 | Female | 2015 |\n",
       "| True  | 25.783475 | 0.007209574 | 25.421703 | 26.150395 | Female | 2016 |\n",
       "| True  | 33.648056 | 0.006747339 | 33.206005 | 34.095991 | Female | 2017 |\n",
       "| True  | 38.199819 | 0.006381548 | 37.725007 | 38.680608 | Female | 2018 |\n",
       "\n"
      ],
      "text/plain": [
       "   x     predicted std.error   conf.low  conf.high group  facet\n",
       "1  False  4.315860 0.009845945  4.233373  4.399955 Male   2013 \n",
       "2  False  5.478465 0.007727278  5.396118  5.562069 Male   2014 \n",
       "3  False  6.433645 0.006592291  6.351053  6.517312 Male   2015 \n",
       "4  False  7.339296 0.005999963  7.253494  7.426114 Male   2016 \n",
       "5  False  9.577959 0.005632767  9.472799  9.684285 Male   2017 \n",
       "6  False 10.873623 0.005405193 10.759036 10.989431 Male   2018 \n",
       "7  False  5.006716 0.010460461  4.905113  5.110424 Female 2013 \n",
       "8  False  6.355423 0.008447499  6.251064  6.461525 Female 2014 \n",
       "9  False  7.463503 0.007373746  7.356414  7.572151 Female 2015 \n",
       "10 False  8.514125 0.006797265  8.401449  8.628313 Female 2016 \n",
       "11 False 11.111139 0.006448763 10.971585 11.252467 Female 2017 \n",
       "12 False 12.614205 0.006206228 12.461696 12.768581 Female 2018 \n",
       "13 True  14.844228 0.010042221 14.554915 15.139292 Male   2013 \n",
       "14 True  18.842960 0.007919486 18.552740 19.137720 Male   2014 \n",
       "15 True  22.128265 0.006747126 21.837565 22.422836 Male   2015 \n",
       "16 True  25.243216 0.006115009 24.942477 25.547581 Male   2016 \n",
       "17 True  32.943005 0.005619966 32.582131 33.307876 Male   2017 \n",
       "18 True  37.399392 0.005241139 37.017175 37.785555 Male   2018 \n",
       "19 True  15.161927 0.010825277 14.843622 15.487057 Female 2013 \n",
       "20 True  19.246240 0.008861173 18.914865 19.583420 Female 2014 \n",
       "21 True  22.601858 0.007794870 22.259179 22.949813 Female 2015 \n",
       "22 True  25.783475 0.007209574 25.421703 26.150395 Female 2016 \n",
       "23 True  33.648056 0.006747339 33.206005 34.095991 Female 2017 \n",
       "24 True  38.199819 0.006381548 37.725007 38.680608 Female 2018 "
      ]
     },
     "metadata": {},
     "output_type": "display_data"
    }
   ],
   "source": [
    "MEs"
   ]
  },
  {
   "cell_type": "code",
   "execution_count": 112,
   "id": "9b179818",
   "metadata": {},
   "outputs": [],
   "source": [
    "write.csv(MEs, paste(data_root, \"gender_return_on_self_promotion_active_sub.csv\", sep = ''), row.names=FALSE)"
   ]
  },
  {
   "cell_type": "code",
   "execution_count": null,
   "id": "6ef57b20",
   "metadata": {},
   "outputs": [],
   "source": []
  },
  {
   "cell_type": "markdown",
   "id": "34587dce",
   "metadata": {},
   "source": [
    "Marginal effects of self-promotion (using atMedian, not AME)"
   ]
  },
  {
   "cell_type": "code",
   "execution_count": 107,
   "id": "0b52b8bb",
   "metadata": {
    "scrolled": true
   },
   "outputs": [
    {
     "data": {
      "text/html": [
       "<style>\n",
       ".dl-inline {width: auto; margin:0; padding: 0}\n",
       ".dl-inline>dt, .dl-inline>dd {float: none; width: auto; display: inline-block}\n",
       ".dl-inline>dt::after {content: \":\\0020\"; padding-right: .5ex}\n",
       ".dl-inline>dt:not(:first-of-type) {padding-left: .5ex}\n",
       "</style><dl class=dl-inline><dt>follower_cn_snapshot_log</dt><dd>9.73131903102506</dd><dt>author_pub_count_cate</dt><dd>6</dd><dt>affiliation_rank_cate</dt><dd>3</dd><dt>num_authors</dt><dd>6</dd><dt>journal_impact</dt><dd>3.73</dd><dt>author_citation_log</dt><dd>9.62935662007961</dd></dl>\n"
      ],
      "text/latex": [
       "\\begin{description*}\n",
       "\\item[follower\\textbackslash{}\\_cn\\textbackslash{}\\_snapshot\\textbackslash{}\\_log] 9.73131903102506\n",
       "\\item[author\\textbackslash{}\\_pub\\textbackslash{}\\_count\\textbackslash{}\\_cate] 6\n",
       "\\item[affiliation\\textbackslash{}\\_rank\\textbackslash{}\\_cate] 3\n",
       "\\item[num\\textbackslash{}\\_authors] 6\n",
       "\\item[journal\\textbackslash{}\\_impact] 3.73\n",
       "\\item[author\\textbackslash{}\\_citation\\textbackslash{}\\_log] 9.62935662007961\n",
       "\\end{description*}\n"
      ],
      "text/markdown": [
       "follower_cn_snapshot_log\n",
       ":   9.73131903102506author_pub_count_cate\n",
       ":   6affiliation_rank_cate\n",
       ":   3num_authors\n",
       ":   6journal_impact\n",
       ":   3.73author_citation_log\n",
       ":   9.62935662007961\n",
       "\n"
      ],
      "text/plain": [
       "follower_cn_snapshot_log    author_pub_count_cate    affiliation_rank_cate \n",
       "                9.731319                 6.000000                 3.000000 \n",
       "             num_authors           journal_impact      author_citation_log \n",
       "                6.000000                 3.730000                 9.629357 "
      ]
     },
     "metadata": {},
     "output_type": "display_data"
    }
   ],
   "source": [
    "apply(mydata[(mydata$is_active_on_twitter == \"True\"), c('follower_cn_snapshot_log', 'author_pub_count_cate', 'affiliation_rank_cate', 'num_authors', 'journal_impact', 'author_citation_log')], 2, median)\n"
   ]
  },
  {
   "cell_type": "code",
   "execution_count": 108,
   "id": "791e3782",
   "metadata": {},
   "outputs": [],
   "source": [
    "median_data <- mydata[(mydata$is_active_on_twitter == \"True\"), ]"
   ]
  },
  {
   "cell_type": "code",
   "execution_count": 109,
   "id": "df483388",
   "metadata": {},
   "outputs": [],
   "source": [
    "median_data$follower_cn_snapshot_log <- 9.73131903102506\n",
    "median_data$author_pub_count_cate <- 6\n",
    "median_data$affiliation_rank_cate <- 3\n",
    "median_data$num_authors <- 6\n",
    "median_data$journal_impact <- 3.73\n",
    "median_data$author_citation_log <- 9.62935662007961"
   ]
  },
  {
   "cell_type": "code",
   "execution_count": 115,
   "id": "8b3025b1",
   "metadata": {
    "scrolled": true
   },
   "outputs": [
    {
     "data": {
      "text/plain": [
       "         authorship_pos        affiliation_cate \n",
       " last_position  :145139   domestic     :217870  \n",
       " first_position :116814   international:400872  \n",
       " middle_position:336573                         \n",
       " solo_author    : 20216                         "
      ]
     },
     "metadata": {},
     "output_type": "display_data"
    }
   ],
   "source": [
    "summary(median_data[, c('authorship_pos', 'affiliation_cate')])"
   ]
  },
  {
   "cell_type": "code",
   "execution_count": 111,
   "id": "6f1bf619",
   "metadata": {},
   "outputs": [],
   "source": [
    "margins_eff <- margins(m_yes, data = median_data, variables = c(\"self_promotion\"), at = list(gender = c('Male', 'Female'), pub_year = c('2013', '2014', '2015', '2016', '2017', '2018')))\n"
   ]
  },
  {
   "cell_type": "code",
   "execution_count": 112,
   "id": "56874d3a",
   "metadata": {},
   "outputs": [
    {
     "data": {
      "text/html": [
       "<table class=\"dataframe\">\n",
       "<caption>A summary.margins: 12 × 9</caption>\n",
       "<thead>\n",
       "\t<tr><th></th><th scope=col>factor</th><th scope=col>gender</th><th scope=col>pub_year</th><th scope=col>AME</th><th scope=col>SE</th><th scope=col>z</th><th scope=col>p</th><th scope=col>lower</th><th scope=col>upper</th></tr>\n",
       "\t<tr><th></th><th scope=col>&lt;chr&gt;</th><th scope=col>&lt;fct&gt;</th><th scope=col>&lt;fct&gt;</th><th scope=col>&lt;dbl&gt;</th><th scope=col>&lt;dbl&gt;</th><th scope=col>&lt;dbl&gt;</th><th scope=col>&lt;dbl&gt;</th><th scope=col>&lt;dbl&gt;</th><th scope=col>&lt;dbl&gt;</th></tr>\n",
       "</thead>\n",
       "<tbody>\n",
       "\t<tr><th scope=row>1</th><td>self_promotionTrue</td><td>Male  </td><td>2013</td><td>11.60269</td><td>0.1175633</td><td> 98.69317</td><td>0</td><td>11.37227</td><td>11.83311</td></tr>\n",
       "\t<tr><th scope=row>2</th><td>self_promotionTrue</td><td>Male  </td><td>2014</td><td>14.72822</td><td>0.1186471</td><td>124.13466</td><td>0</td><td>14.49568</td><td>14.96076</td></tr>\n",
       "\t<tr><th scope=row>3</th><td>self_promotionTrue</td><td>Male  </td><td>2015</td><td>17.29611</td><td>0.1192600</td><td>145.02856</td><td>0</td><td>17.06237</td><td>17.52986</td></tr>\n",
       "\t<tr><th scope=row>4</th><td>self_promotionTrue</td><td>Male  </td><td>2016</td><td>19.73085</td><td>0.1242635</td><td>158.78232</td><td>0</td><td>19.48730</td><td>19.97440</td></tr>\n",
       "\t<tr><th scope=row>5</th><td>self_promotionTrue</td><td>Male  </td><td>2017</td><td>25.74924</td><td>0.1499301</td><td>171.74164</td><td>0</td><td>25.45538</td><td>26.04309</td></tr>\n",
       "\t<tr><th scope=row>6</th><td>self_promotionTrue</td><td>Male  </td><td>2018</td><td>29.23248</td><td>0.1584127</td><td>184.53366</td><td>0</td><td>28.92200</td><td>29.54296</td></tr>\n",
       "\t<tr><th scope=row>7</th><td>self_promotionTrue</td><td>Female</td><td>2013</td><td>11.19146</td><td>0.1328909</td><td> 84.21537</td><td>0</td><td>10.93100</td><td>11.45192</td></tr>\n",
       "\t<tr><th scope=row>8</th><td>self_promotionTrue</td><td>Female</td><td>2014</td><td>14.20621</td><td>0.1440089</td><td> 98.64808</td><td>0</td><td>13.92395</td><td>14.48846</td></tr>\n",
       "\t<tr><th scope=row>9</th><td>self_promotionTrue</td><td>Female</td><td>2015</td><td>16.68309</td><td>0.1536724</td><td>108.56263</td><td>0</td><td>16.38189</td><td>16.98428</td></tr>\n",
       "\t<tr><th scope=row>10</th><td>self_promotionTrue</td><td>Female</td><td>2016</td><td>19.03153</td><td>0.1662285</td><td>114.49016</td><td>0</td><td>18.70573</td><td>19.35733</td></tr>\n",
       "\t<tr><th scope=row>11</th><td>self_promotionTrue</td><td>Female</td><td>2017</td><td>24.83660</td><td>0.2072225</td><td>119.85479</td><td>0</td><td>24.43046</td><td>25.24275</td></tr>\n",
       "\t<tr><th scope=row>12</th><td>self_promotionTrue</td><td>Female</td><td>2018</td><td>28.19639</td><td>0.2259053</td><td>124.81510</td><td>0</td><td>27.75363</td><td>28.63916</td></tr>\n",
       "</tbody>\n",
       "</table>\n"
      ],
      "text/latex": [
       "A summary.margins: 12 × 9\n",
       "\\begin{tabular}{r|lllllllll}\n",
       "  & factor & gender & pub\\_year & AME & SE & z & p & lower & upper\\\\\n",
       "  & <chr> & <fct> & <fct> & <dbl> & <dbl> & <dbl> & <dbl> & <dbl> & <dbl>\\\\\n",
       "\\hline\n",
       "\t1 & self\\_promotionTrue & Male   & 2013 & 11.60269 & 0.1175633 &  98.69317 & 0 & 11.37227 & 11.83311\\\\\n",
       "\t2 & self\\_promotionTrue & Male   & 2014 & 14.72822 & 0.1186471 & 124.13466 & 0 & 14.49568 & 14.96076\\\\\n",
       "\t3 & self\\_promotionTrue & Male   & 2015 & 17.29611 & 0.1192600 & 145.02856 & 0 & 17.06237 & 17.52986\\\\\n",
       "\t4 & self\\_promotionTrue & Male   & 2016 & 19.73085 & 0.1242635 & 158.78232 & 0 & 19.48730 & 19.97440\\\\\n",
       "\t5 & self\\_promotionTrue & Male   & 2017 & 25.74924 & 0.1499301 & 171.74164 & 0 & 25.45538 & 26.04309\\\\\n",
       "\t6 & self\\_promotionTrue & Male   & 2018 & 29.23248 & 0.1584127 & 184.53366 & 0 & 28.92200 & 29.54296\\\\\n",
       "\t7 & self\\_promotionTrue & Female & 2013 & 11.19146 & 0.1328909 &  84.21537 & 0 & 10.93100 & 11.45192\\\\\n",
       "\t8 & self\\_promotionTrue & Female & 2014 & 14.20621 & 0.1440089 &  98.64808 & 0 & 13.92395 & 14.48846\\\\\n",
       "\t9 & self\\_promotionTrue & Female & 2015 & 16.68309 & 0.1536724 & 108.56263 & 0 & 16.38189 & 16.98428\\\\\n",
       "\t10 & self\\_promotionTrue & Female & 2016 & 19.03153 & 0.1662285 & 114.49016 & 0 & 18.70573 & 19.35733\\\\\n",
       "\t11 & self\\_promotionTrue & Female & 2017 & 24.83660 & 0.2072225 & 119.85479 & 0 & 24.43046 & 25.24275\\\\\n",
       "\t12 & self\\_promotionTrue & Female & 2018 & 28.19639 & 0.2259053 & 124.81510 & 0 & 27.75363 & 28.63916\\\\\n",
       "\\end{tabular}\n"
      ],
      "text/markdown": [
       "\n",
       "A summary.margins: 12 × 9\n",
       "\n",
       "| <!--/--> | factor &lt;chr&gt; | gender &lt;fct&gt; | pub_year &lt;fct&gt; | AME &lt;dbl&gt; | SE &lt;dbl&gt; | z &lt;dbl&gt; | p &lt;dbl&gt; | lower &lt;dbl&gt; | upper &lt;dbl&gt; |\n",
       "|---|---|---|---|---|---|---|---|---|---|\n",
       "| 1 | self_promotionTrue | Male   | 2013 | 11.60269 | 0.1175633 |  98.69317 | 0 | 11.37227 | 11.83311 |\n",
       "| 2 | self_promotionTrue | Male   | 2014 | 14.72822 | 0.1186471 | 124.13466 | 0 | 14.49568 | 14.96076 |\n",
       "| 3 | self_promotionTrue | Male   | 2015 | 17.29611 | 0.1192600 | 145.02856 | 0 | 17.06237 | 17.52986 |\n",
       "| 4 | self_promotionTrue | Male   | 2016 | 19.73085 | 0.1242635 | 158.78232 | 0 | 19.48730 | 19.97440 |\n",
       "| 5 | self_promotionTrue | Male   | 2017 | 25.74924 | 0.1499301 | 171.74164 | 0 | 25.45538 | 26.04309 |\n",
       "| 6 | self_promotionTrue | Male   | 2018 | 29.23248 | 0.1584127 | 184.53366 | 0 | 28.92200 | 29.54296 |\n",
       "| 7 | self_promotionTrue | Female | 2013 | 11.19146 | 0.1328909 |  84.21537 | 0 | 10.93100 | 11.45192 |\n",
       "| 8 | self_promotionTrue | Female | 2014 | 14.20621 | 0.1440089 |  98.64808 | 0 | 13.92395 | 14.48846 |\n",
       "| 9 | self_promotionTrue | Female | 2015 | 16.68309 | 0.1536724 | 108.56263 | 0 | 16.38189 | 16.98428 |\n",
       "| 10 | self_promotionTrue | Female | 2016 | 19.03153 | 0.1662285 | 114.49016 | 0 | 18.70573 | 19.35733 |\n",
       "| 11 | self_promotionTrue | Female | 2017 | 24.83660 | 0.2072225 | 119.85479 | 0 | 24.43046 | 25.24275 |\n",
       "| 12 | self_promotionTrue | Female | 2018 | 28.19639 | 0.2259053 | 124.81510 | 0 | 27.75363 | 28.63916 |\n",
       "\n"
      ],
      "text/plain": [
       "   factor             gender pub_year AME      SE        z         p lower   \n",
       "1  self_promotionTrue Male   2013     11.60269 0.1175633  98.69317 0 11.37227\n",
       "2  self_promotionTrue Male   2014     14.72822 0.1186471 124.13466 0 14.49568\n",
       "3  self_promotionTrue Male   2015     17.29611 0.1192600 145.02856 0 17.06237\n",
       "4  self_promotionTrue Male   2016     19.73085 0.1242635 158.78232 0 19.48730\n",
       "5  self_promotionTrue Male   2017     25.74924 0.1499301 171.74164 0 25.45538\n",
       "6  self_promotionTrue Male   2018     29.23248 0.1584127 184.53366 0 28.92200\n",
       "7  self_promotionTrue Female 2013     11.19146 0.1328909  84.21537 0 10.93100\n",
       "8  self_promotionTrue Female 2014     14.20621 0.1440089  98.64808 0 13.92395\n",
       "9  self_promotionTrue Female 2015     16.68309 0.1536724 108.56263 0 16.38189\n",
       "10 self_promotionTrue Female 2016     19.03153 0.1662285 114.49016 0 18.70573\n",
       "11 self_promotionTrue Female 2017     24.83660 0.2072225 119.85479 0 24.43046\n",
       "12 self_promotionTrue Female 2018     28.19639 0.2259053 124.81510 0 27.75363\n",
       "   upper   \n",
       "1  11.83311\n",
       "2  14.96076\n",
       "3  17.52986\n",
       "4  19.97440\n",
       "5  26.04309\n",
       "6  29.54296\n",
       "7  11.45192\n",
       "8  14.48846\n",
       "9  16.98428\n",
       "10 19.35733\n",
       "11 25.24275\n",
       "12 28.63916"
      ]
     },
     "metadata": {},
     "output_type": "display_data"
    }
   ],
   "source": [
    "summary(margins_eff)"
   ]
  },
  {
   "cell_type": "code",
   "execution_count": 114,
   "id": "909a0401",
   "metadata": {},
   "outputs": [],
   "source": [
    "write.csv(summary(margins_eff), paste(data_root, \"delta_gender_return_on_self_promotion_active_sub.csv\", sep = ''), row.names=FALSE)\n"
   ]
  },
  {
   "cell_type": "markdown",
   "id": "997400f5",
   "metadata": {},
   "source": [
    "#### Fit a model for each year"
   ]
  },
  {
   "cell_type": "code",
   "execution_count": 38,
   "id": "70993e09",
   "metadata": {
    "scrolled": true
   },
   "outputs": [
    {
     "data": {
      "text/html": [
       "209690"
      ],
      "text/latex": [
       "209690"
      ],
      "text/markdown": [
       "209690"
      ],
      "text/plain": [
       "[1] 209690"
      ]
     },
     "metadata": {},
     "output_type": "display_data"
    }
   ],
   "source": [
    "nrow(mydata[(mydata$is_active_on_twitter == \"True\") & (mydata$pub_year == '2018'), ])"
   ]
  },
  {
   "cell_type": "code",
   "execution_count": 21,
   "id": "d8e38e82",
   "metadata": {
    "scrolled": true
   },
   "outputs": [
    {
     "data": {
      "text/html": [
       "148751"
      ],
      "text/latex": [
       "148751"
      ],
      "text/markdown": [
       "148751"
      ],
      "text/plain": [
       "[1] 148751"
      ]
     },
     "metadata": {},
     "output_type": "display_data"
    }
   ],
   "source": [
    "nrow(mydata[(mydata$is_active_on_twitter == \"True\") & (mydata$pub_year == '2017'), ])"
   ]
  },
  {
   "cell_type": "code",
   "execution_count": 22,
   "id": "a3a11228",
   "metadata": {
    "scrolled": true
   },
   "outputs": [
    {
     "data": {
      "text/html": [
       "110544"
      ],
      "text/latex": [
       "110544"
      ],
      "text/markdown": [
       "110544"
      ],
      "text/plain": [
       "[1] 110544"
      ]
     },
     "metadata": {},
     "output_type": "display_data"
    }
   ],
   "source": [
    "nrow(mydata[(mydata$is_active_on_twitter == \"True\") & (mydata$pub_year == '2016'), ])"
   ]
  },
  {
   "cell_type": "code",
   "execution_count": 39,
   "id": "8e132769",
   "metadata": {
    "scrolled": false
   },
   "outputs": [
    {
     "data": {
      "text/html": [
       "77640"
      ],
      "text/latex": [
       "77640"
      ],
      "text/markdown": [
       "77640"
      ],
      "text/plain": [
       "[1] 77640"
      ]
     },
     "metadata": {},
     "output_type": "display_data"
    }
   ],
   "source": [
    "nrow(mydata[(mydata$is_active_on_twitter == \"True\") & (mydata$pub_year == '2015'), ])"
   ]
  },
  {
   "cell_type": "code",
   "execution_count": 23,
   "id": "a28e2287",
   "metadata": {
    "scrolled": true
   },
   "outputs": [
    {
     "data": {
      "text/html": [
       "46947"
      ],
      "text/latex": [
       "46947"
      ],
      "text/markdown": [
       "46947"
      ],
      "text/plain": [
       "[1] 46947"
      ]
     },
     "metadata": {},
     "output_type": "display_data"
    }
   ],
   "source": [
    "nrow(mydata[(mydata$is_active_on_twitter == \"True\") & (mydata$pub_year == '2014'), ])"
   ]
  },
  {
   "cell_type": "code",
   "execution_count": 40,
   "id": "1cefc86d",
   "metadata": {
    "scrolled": true
   },
   "outputs": [
    {
     "data": {
      "text/html": [
       "25170"
      ],
      "text/latex": [
       "25170"
      ],
      "text/markdown": [
       "25170"
      ],
      "text/plain": [
       "[1] 25170"
      ]
     },
     "metadata": {},
     "output_type": "display_data"
    }
   ],
   "source": [
    "nrow(mydata[(mydata$is_active_on_twitter == \"True\") & (mydata$pub_year == '2013'), ])"
   ]
  },
  {
   "cell_type": "code",
   "execution_count": 78,
   "id": "b1986c72",
   "metadata": {
    "scrolled": true
   },
   "outputs": [
    {
     "name": "stdout",
     "output_type": "stream",
     "text": [
      "\u001b[90m# A tibble: 41 x 5\u001b[39m\n",
      "   term                                   estimate std.error statistic   p.value\n",
      "   \u001b[3m\u001b[90m<chr>\u001b[39m\u001b[23m                                     \u001b[3m\u001b[90m<dbl>\u001b[39m\u001b[23m     \u001b[3m\u001b[90m<dbl>\u001b[39m\u001b[23m     \u001b[3m\u001b[90m<dbl>\u001b[39m\u001b[23m     \u001b[3m\u001b[90m<dbl>\u001b[39m\u001b[23m\n",
      "\u001b[90m 1\u001b[39m (Intercept)                             0.016\u001b[4m3\u001b[24m   0.066\u001b[4m9\u001b[24m       0.243 8.08\u001b[90me\u001b[39m\u001b[31m-  1\u001b[39m\n",
      "\u001b[90m 2\u001b[39m genderFemale                            0.272    0.028\u001b[4m4\u001b[24m       9.59  8.96\u001b[90me\u001b[39m\u001b[31m- 22\u001b[39m\n",
      "\u001b[90m 3\u001b[39m self_promotionTrue                      1.44     0.023\u001b[4m4\u001b[24m      61.9   0   \u001b[90m \u001b[39m    \n",
      "\u001b[90m 4\u001b[39m authorship_posfirst_position            0.044\u001b[4m0\u001b[24m   0.030\u001b[4m0\u001b[24m       1.47  1.42\u001b[90me\u001b[39m\u001b[31m-  1\u001b[39m\n",
      "\u001b[90m 5\u001b[39m authorship_posmiddle_position           0.087\u001b[4m3\u001b[24m   0.023\u001b[4m9\u001b[24m       3.65  2.60\u001b[90me\u001b[39m\u001b[31m-  4\u001b[39m\n",
      "\u001b[90m 6\u001b[39m authorship_possolo_author              -\u001b[31m0\u001b[39m\u001b[31m.\u001b[39m\u001b[31m246\u001b[39m    0.050\u001b[4m5\u001b[24m      -\u001b[31m4\u001b[39m\u001b[31m.\u001b[39m\u001b[31m88\u001b[39m  1.07\u001b[90me\u001b[39m\u001b[31m-  6\u001b[39m\n",
      "\u001b[90m 7\u001b[39m follower_cn_snapshot_log                0.117    0.005\u001b[4m0\u001b[24m\u001b[4m6\u001b[24m     23.2   1.16\u001b[90me\u001b[39m\u001b[31m-118\u001b[39m\n",
      "\u001b[90m 8\u001b[39m author_pub_count_cate                  -\u001b[31m0\u001b[39m\u001b[31m.\u001b[39m\u001b[31m0\u001b[39m\u001b[31m45\u001b[4m3\u001b[24m\u001b[39m   0.010\u001b[4m0\u001b[24m      -\u001b[31m4\u001b[39m\u001b[31m.\u001b[39m\u001b[31m52\u001b[39m  6.08\u001b[90me\u001b[39m\u001b[31m-  6\u001b[39m\n",
      "\u001b[90m 9\u001b[39m affiliation_rank_cate                  -\u001b[31m0\u001b[39m\u001b[31m.\u001b[39m\u001b[31m00\u001b[39m\u001b[31m7\u001b[4m1\u001b[24m\u001b[4m3\u001b[24m\u001b[39m  0.003\u001b[4m6\u001b[24m\u001b[4m0\u001b[24m     -\u001b[31m1\u001b[39m\u001b[31m.\u001b[39m\u001b[31m98\u001b[39m  4.75\u001b[90me\u001b[39m\u001b[31m-  2\u001b[39m\n",
      "\u001b[90m10\u001b[39m affiliation_cateinternational           0.023\u001b[4m7\u001b[24m   0.021\u001b[4m4\u001b[24m       1.11  2.69\u001b[90me\u001b[39m\u001b[31m-  1\u001b[39m\n",
      "\u001b[90m11\u001b[39m num_authors                             0.004\u001b[4m8\u001b[24m\u001b[4m6\u001b[24m  0.000\u001b[4m3\u001b[24m\u001b[4m5\u001b[24m\u001b[4m9\u001b[24m    13.5   1.01\u001b[90me\u001b[39m\u001b[31m- 41\u001b[39m\n",
      "\u001b[90m12\u001b[39m journal_impact                          0.049\u001b[4m9\u001b[24m   0.001\u001b[4m3\u001b[24m\u001b[4m7\u001b[24m     36.4   1.40\u001b[90me\u001b[39m\u001b[31m-289\u001b[39m\n",
      "\u001b[90m13\u001b[39m author_citation_log                     0.007\u001b[4m1\u001b[24m\u001b[4m9\u001b[24m  0.006\u001b[4m0\u001b[24m\u001b[4m9\u001b[24m      1.18  2.38\u001b[90me\u001b[39m\u001b[31m-  1\u001b[39m\n",
      "\u001b[90m14\u001b[39m Social_Sciences                        -\u001b[31m0\u001b[39m\u001b[31m.\u001b[39m\u001b[31m0\u001b[39m\u001b[31m93\u001b[4m7\u001b[24m\u001b[39m   0.041\u001b[4m6\u001b[24m      -\u001b[31m2\u001b[39m\u001b[31m.\u001b[39m\u001b[31m25\u001b[39m  2.42\u001b[90me\u001b[39m\u001b[31m-  2\u001b[39m\n",
      "\u001b[90m15\u001b[39m Materials_Science                      -\u001b[31m0\u001b[39m\u001b[31m.\u001b[39m\u001b[31m676\u001b[39m    0.095\u001b[4m8\u001b[24m      -\u001b[31m7\u001b[39m\u001b[31m.\u001b[39m\u001b[31m0\u001b[39m\u001b[31m6\u001b[39m  1.71\u001b[90me\u001b[39m\u001b[31m- 12\u001b[39m\n",
      "\u001b[90m16\u001b[39m Engineering                            -\u001b[31m0\u001b[39m\u001b[31m.\u001b[39m\u001b[31m697\u001b[39m    0.071\u001b[4m4\u001b[24m      -\u001b[31m9\u001b[39m\u001b[31m.\u001b[39m\u001b[31m77\u001b[39m  1.54\u001b[90me\u001b[39m\u001b[31m- 22\u001b[39m\n",
      "\u001b[90m17\u001b[39m Chemistry                              -\u001b[31m0\u001b[39m\u001b[31m.\u001b[39m\u001b[31m861\u001b[39m    0.071\u001b[4m2\u001b[24m     -\u001b[31m12\u001b[39m\u001b[31m.\u001b[39m\u001b[31m1\u001b[39m   1.16\u001b[90me\u001b[39m\u001b[31m- 33\u001b[39m\n",
      "\u001b[90m18\u001b[39m Biochemistry__Genetics_and_Molecular_… -\u001b[31m0\u001b[39m\u001b[31m.\u001b[39m\u001b[31m0\u001b[39m\u001b[31m70\u001b[4m6\u001b[24m\u001b[39m   0.026\u001b[4m6\u001b[24m      -\u001b[31m2\u001b[39m\u001b[31m.\u001b[39m\u001b[31m65\u001b[39m  7.93\u001b[90me\u001b[39m\u001b[31m-  3\u001b[39m\n",
      "\u001b[90m19\u001b[39m Medicine                                0.257    0.022\u001b[4m2\u001b[24m      11.6   3.88\u001b[90me\u001b[39m\u001b[31m- 31\u001b[39m\n",
      "\u001b[90m20\u001b[39m Nursing                                 0.045\u001b[4m9\u001b[24m   0.056\u001b[4m8\u001b[24m       0.807 4.20\u001b[90me\u001b[39m\u001b[31m-  1\u001b[39m\n",
      "\u001b[90m21\u001b[39m Agricultural_and_Biological_Sciences    0.457    0.029\u001b[4m1\u001b[24m      15.7   1.48\u001b[90me\u001b[39m\u001b[31m- 55\u001b[39m\n",
      "\u001b[90m22\u001b[39m Pharmacology__Toxicology_and_Pharmace… -\u001b[31m0\u001b[39m\u001b[31m.\u001b[39m\u001b[31m245\u001b[39m    0.069\u001b[4m0\u001b[24m      -\u001b[31m3\u001b[39m\u001b[31m.\u001b[39m\u001b[31m54\u001b[39m  3.96\u001b[90me\u001b[39m\u001b[31m-  4\u001b[39m\n",
      "\u001b[90m23\u001b[39m Neuroscience                           -\u001b[31m0\u001b[39m\u001b[31m.\u001b[39m\u001b[31m0\u001b[39m\u001b[31m45\u001b[4m0\u001b[24m\u001b[39m   0.042\u001b[4m3\u001b[24m      -\u001b[31m1\u001b[39m\u001b[31m.\u001b[39m\u001b[31m0\u001b[39m\u001b[31m6\u001b[39m  2.88\u001b[90me\u001b[39m\u001b[31m-  1\u001b[39m\n",
      "\u001b[90m24\u001b[39m Business__Management_and_Accounting    -\u001b[31m0\u001b[39m\u001b[31m.\u001b[39m\u001b[31m517\u001b[39m    0.078\u001b[4m9\u001b[24m      -\u001b[31m6\u001b[39m\u001b[31m.\u001b[39m\u001b[31m55\u001b[39m  5.63\u001b[90me\u001b[39m\u001b[31m- 11\u001b[39m\n",
      "\u001b[90m25\u001b[39m Economics__Econometrics_and_Finance    -\u001b[31m0\u001b[39m\u001b[31m.\u001b[39m\u001b[31m0\u001b[39m\u001b[31m19\u001b[4m0\u001b[24m\u001b[39m   0.087\u001b[4m6\u001b[24m      -\u001b[31m0\u001b[39m\u001b[31m.\u001b[39m\u001b[31m217\u001b[39m 8.28\u001b[90me\u001b[39m\u001b[31m-  1\u001b[39m\n",
      "\u001b[90m26\u001b[39m Chemical_Engineering                    0.832    0.099\u001b[4m5\u001b[24m       8.36  6.30\u001b[90me\u001b[39m\u001b[31m- 17\u001b[39m\n",
      "\u001b[90m27\u001b[39m Physics_and_Astronomy                  -\u001b[31m0\u001b[39m\u001b[31m.\u001b[39m\u001b[31m218\u001b[39m    0.064\u001b[4m6\u001b[24m      -\u001b[31m3\u001b[39m\u001b[31m.\u001b[39m\u001b[31m38\u001b[39m  7.27\u001b[90me\u001b[39m\u001b[31m-  4\u001b[39m\n",
      "\u001b[90m28\u001b[39m Computer_Science                        0.026\u001b[4m1\u001b[24m   0.056\u001b[4m1\u001b[24m       0.465 6.42\u001b[90me\u001b[39m\u001b[31m-  1\u001b[39m\n",
      "\u001b[90m29\u001b[39m Decision_Sciences                      -\u001b[31m0\u001b[39m\u001b[31m.\u001b[39m\u001b[31m272\u001b[39m    0.127       -\u001b[31m2\u001b[39m\u001b[31m.\u001b[39m\u001b[31m14\u001b[39m  3.25\u001b[90me\u001b[39m\u001b[31m-  2\u001b[39m\n",
      "\u001b[90m30\u001b[39m Health_Professions                      0.512    0.070\u001b[4m2\u001b[24m       7.29  3.13\u001b[90me\u001b[39m\u001b[31m- 13\u001b[39m\n",
      "\u001b[90m31\u001b[39m Psychology                              0.109    0.058\u001b[4m6\u001b[24m       1.86  6.24\u001b[90me\u001b[39m\u001b[31m-  2\u001b[39m\n",
      "\u001b[90m32\u001b[39m Immunology_and_Microbiology            -\u001b[31m0\u001b[39m\u001b[31m.\u001b[39m\u001b[31m0\u001b[39m\u001b[31m52\u001b[4m8\u001b[24m\u001b[39m   0.051\u001b[4m5\u001b[24m      -\u001b[31m1\u001b[39m\u001b[31m.\u001b[39m\u001b[31m0\u001b[39m\u001b[31m2\u001b[39m  3.06\u001b[90me\u001b[39m\u001b[31m-  1\u001b[39m\n",
      "\u001b[90m33\u001b[39m Dentistry                              -\u001b[31m0\u001b[39m\u001b[31m.\u001b[39m\u001b[31m694\u001b[39m    0.314       -\u001b[31m2\u001b[39m\u001b[31m.\u001b[39m\u001b[31m21\u001b[39m  2.69\u001b[90me\u001b[39m\u001b[31m-  2\u001b[39m\n",
      "\u001b[90m34\u001b[39m Earth_and_Planetary_Sciences           -\u001b[31m0\u001b[39m\u001b[31m.\u001b[39m\u001b[31m405\u001b[39m    0.050\u001b[4m4\u001b[24m      -\u001b[31m8\u001b[39m\u001b[31m.\u001b[39m\u001b[31m0\u001b[39m\u001b[31m5\u001b[39m  8.57\u001b[90me\u001b[39m\u001b[31m- 16\u001b[39m\n",
      "\u001b[90m35\u001b[39m Environmental_Science                  -\u001b[31m0\u001b[39m\u001b[31m.\u001b[39m\u001b[31m118\u001b[39m    0.041\u001b[4m9\u001b[24m      -\u001b[31m2\u001b[39m\u001b[31m.\u001b[39m\u001b[31m82\u001b[39m  4.81\u001b[90me\u001b[39m\u001b[31m-  3\u001b[39m\n",
      "\u001b[90m36\u001b[39m Mathematics                             0.288    0.075\u001b[4m0\u001b[24m       3.85  1.20\u001b[90me\u001b[39m\u001b[31m-  4\u001b[39m\n",
      "\u001b[90m37\u001b[39m Arts_and_Humanities                    -\u001b[31m0\u001b[39m\u001b[31m.\u001b[39m\u001b[31m169\u001b[39m    0.110       -\u001b[31m1\u001b[39m\u001b[31m.\u001b[39m\u001b[31m53\u001b[39m  1.25\u001b[90me\u001b[39m\u001b[31m-  1\u001b[39m\n",
      "\u001b[90m38\u001b[39m Energy                                 -\u001b[31m1\u001b[39m\u001b[31m.\u001b[39m\u001b[31m0\u001b[39m\u001b[31m7\u001b[39m     0.162       -\u001b[31m6\u001b[39m\u001b[31m.\u001b[39m\u001b[31m57\u001b[39m  4.88\u001b[90me\u001b[39m\u001b[31m- 11\u001b[39m\n",
      "\u001b[90m39\u001b[39m Veterinary                             -\u001b[31m0\u001b[39m\u001b[31m.\u001b[39m\u001b[31m907\u001b[39m    0.154       -\u001b[31m5\u001b[39m\u001b[31m.\u001b[39m\u001b[31m88\u001b[39m  4.20\u001b[90me\u001b[39m\u001b[31m-  9\u001b[39m\n",
      "\u001b[90m40\u001b[39m General                                 0.469    0.066\u001b[4m0\u001b[24m       7.11  1.15\u001b[90me\u001b[39m\u001b[31m- 12\u001b[39m\n",
      "\u001b[90m41\u001b[39m genderFemale:self_promotionTrue        -\u001b[31m0\u001b[39m\u001b[31m.\u001b[39m\u001b[31m170\u001b[39m    0.045\u001b[4m7\u001b[24m      -\u001b[31m3\u001b[39m\u001b[31m.\u001b[39m\u001b[31m73\u001b[39m  1.95\u001b[90me\u001b[39m\u001b[31m-  4\u001b[39m\n",
      "\u001b[90m# A tibble: 41 x 5\u001b[39m\n",
      "   term                                   estimate std.error statistic   p.value\n",
      "   \u001b[3m\u001b[90m<chr>\u001b[39m\u001b[23m                                     \u001b[3m\u001b[90m<dbl>\u001b[39m\u001b[23m     \u001b[3m\u001b[90m<dbl>\u001b[39m\u001b[23m     \u001b[3m\u001b[90m<dbl>\u001b[39m\u001b[23m     \u001b[3m\u001b[90m<dbl>\u001b[39m\u001b[23m\n",
      "\u001b[90m 1\u001b[39m (Intercept)                             0.672    0.046\u001b[4m4\u001b[24m      14.5   1.47\u001b[90me\u001b[39m\u001b[31m- 47\u001b[39m\n",
      "\u001b[90m 2\u001b[39m genderFemale                            0.169    0.019\u001b[4m6\u001b[24m       8.64  5.70\u001b[90me\u001b[39m\u001b[31m- 18\u001b[39m\n",
      "\u001b[90m 3\u001b[39m self_promotionTrue                      1.32     0.016\u001b[4m7\u001b[24m      78.9   0   \u001b[90m \u001b[39m    \n",
      "\u001b[90m 4\u001b[39m authorship_posfirst_position            0.010\u001b[4m9\u001b[24m   0.021\u001b[4m3\u001b[24m       0.512 6.09\u001b[90me\u001b[39m\u001b[31m-  1\u001b[39m\n",
      "\u001b[90m 5\u001b[39m authorship_posmiddle_position           0.060\u001b[4m7\u001b[24m   0.016\u001b[4m9\u001b[24m       3.59  3.28\u001b[90me\u001b[39m\u001b[31m-  4\u001b[39m\n",
      "\u001b[90m 6\u001b[39m authorship_possolo_author              -\u001b[31m0\u001b[39m\u001b[31m.\u001b[39m\u001b[31m327\u001b[39m    0.036\u001b[4m2\u001b[24m      -\u001b[31m9\u001b[39m\u001b[31m.\u001b[39m\u001b[31m0\u001b[39m\u001b[31m4\u001b[39m  1.56\u001b[90me\u001b[39m\u001b[31m- 19\u001b[39m\n",
      "\u001b[90m 7\u001b[39m follower_cn_snapshot_log                0.100    0.003\u001b[4m6\u001b[24m\u001b[4m6\u001b[24m     27.4   1.91\u001b[90me\u001b[39m\u001b[31m-165\u001b[39m\n",
      "\u001b[90m 8\u001b[39m author_pub_count_cate                  -\u001b[31m0\u001b[39m\u001b[31m.\u001b[39m\u001b[31m0\u001b[39m\u001b[31m52\u001b[4m6\u001b[24m\u001b[39m   0.007\u001b[4m1\u001b[24m\u001b[4m0\u001b[24m     -\u001b[31m7\u001b[39m\u001b[31m.\u001b[39m\u001b[31m41\u001b[39m  1.24\u001b[90me\u001b[39m\u001b[31m- 13\u001b[39m\n",
      "\u001b[90m 9\u001b[39m affiliation_rank_cate                   0.011\u001b[4m1\u001b[24m   0.002\u001b[4m5\u001b[24m\u001b[4m2\u001b[24m      4.38  1.20\u001b[90me\u001b[39m\u001b[31m-  5\u001b[39m\n",
      "\u001b[90m10\u001b[39m affiliation_cateinternational          -\u001b[31m0\u001b[39m\u001b[31m.\u001b[39m\u001b[31m0\u001b[39m\u001b[31m14\u001b[4m4\u001b[24m\u001b[39m   0.015\u001b[4m0\u001b[24m      -\u001b[31m0\u001b[39m\u001b[31m.\u001b[39m\u001b[31m961\u001b[39m 3.36\u001b[90me\u001b[39m\u001b[31m-  1\u001b[39m\n",
      "\u001b[90m11\u001b[39m num_authors                             0.004\u001b[4m8\u001b[24m\u001b[4m1\u001b[24m  0.000\u001b[4m2\u001b[24m\u001b[4m2\u001b[24m\u001b[4m1\u001b[24m    21.8   5.08\u001b[90me\u001b[39m\u001b[31m-105\u001b[39m\n",
      "\u001b[90m12\u001b[39m journal_impact                          0.045\u001b[4m3\u001b[24m   0.000\u001b[4m9\u001b[24m\u001b[4m6\u001b[24m\u001b[4m3\u001b[24m    47.1   0   \u001b[90m \u001b[39m    \n",
      "\u001b[90m13\u001b[39m author_citation_log                     0.008\u001b[4m1\u001b[24m\u001b[4m1\u001b[24m  0.004\u001b[4m2\u001b[24m\u001b[4m5\u001b[24m      1.91  5.66\u001b[90me\u001b[39m\u001b[31m-  2\u001b[39m\n",
      "\u001b[90m14\u001b[39m Social_Sciences                        -\u001b[31m0\u001b[39m\u001b[31m.\u001b[39m\u001b[31m164\u001b[39m    0.029\u001b[4m0\u001b[24m      -\u001b[31m5\u001b[39m\u001b[31m.\u001b[39m\u001b[31m65\u001b[39m  1.61\u001b[90me\u001b[39m\u001b[31m-  8\u001b[39m\n",
      "\u001b[90m15\u001b[39m Materials_Science                      -\u001b[31m0\u001b[39m\u001b[31m.\u001b[39m\u001b[31m242\u001b[39m    0.069\u001b[4m7\u001b[24m      -\u001b[31m3\u001b[39m\u001b[31m.\u001b[39m\u001b[31m47\u001b[39m  5.13\u001b[90me\u001b[39m\u001b[31m-  4\u001b[39m\n",
      "\u001b[90m16\u001b[39m Engineering                            -\u001b[31m0\u001b[39m\u001b[31m.\u001b[39m\u001b[31m377\u001b[39m    0.050\u001b[4m3\u001b[24m      -\u001b[31m7\u001b[39m\u001b[31m.\u001b[39m\u001b[31m50\u001b[39m  6.24\u001b[90me\u001b[39m\u001b[31m- 14\u001b[39m\n",
      "\u001b[90m17\u001b[39m Chemistry                              -\u001b[31m1\u001b[39m\u001b[31m.\u001b[39m\u001b[31m10\u001b[39m     0.055\u001b[4m2\u001b[24m     -\u001b[31m20\u001b[39m\u001b[31m.\u001b[39m\u001b[31m0\u001b[39m   1.03\u001b[90me\u001b[39m\u001b[31m- 88\u001b[39m\n",
      "\u001b[90m18\u001b[39m Biochemistry__Genetics_and_Molecular_… -\u001b[31m0\u001b[39m\u001b[31m.\u001b[39m\u001b[31m175\u001b[39m    0.018\u001b[4m9\u001b[24m      -\u001b[31m9\u001b[39m\u001b[31m.\u001b[39m\u001b[31m27\u001b[39m  1.83\u001b[90me\u001b[39m\u001b[31m- 20\u001b[39m\n",
      "\u001b[90m19\u001b[39m Medicine                                0.025\u001b[4m1\u001b[24m   0.015\u001b[4m5\u001b[24m       1.62  1.05\u001b[90me\u001b[39m\u001b[31m-  1\u001b[39m\n",
      "\u001b[90m20\u001b[39m Nursing                                 0.187    0.040\u001b[4m2\u001b[24m       4.65  3.37\u001b[90me\u001b[39m\u001b[31m-  6\u001b[39m\n",
      "\u001b[90m21\u001b[39m Agricultural_and_Biological_Sciences    0.569    0.021\u001b[4m0\u001b[24m      27.1   3.56\u001b[90me\u001b[39m\u001b[31m-161\u001b[39m\n",
      "\u001b[90m22\u001b[39m Pharmacology__Toxicology_and_Pharmace… -\u001b[31m0\u001b[39m\u001b[31m.\u001b[39m\u001b[31m307\u001b[39m    0.051\u001b[4m1\u001b[24m      -\u001b[31m6\u001b[39m\u001b[31m.\u001b[39m\u001b[31m0\u001b[39m\u001b[31m1\u001b[39m  1.87\u001b[90me\u001b[39m\u001b[31m-  9\u001b[39m\n",
      "\u001b[90m23\u001b[39m Neuroscience                            0.107    0.031\u001b[4m4\u001b[24m       3.41  6.45\u001b[90me\u001b[39m\u001b[31m-  4\u001b[39m\n",
      "\u001b[90m24\u001b[39m Business__Management_and_Accounting    -\u001b[31m0\u001b[39m\u001b[31m.\u001b[39m\u001b[31m523\u001b[39m    0.058\u001b[4m0\u001b[24m      -\u001b[31m9\u001b[39m\u001b[31m.\u001b[39m\u001b[31m0\u001b[39m\u001b[31m2\u001b[39m  1.89\u001b[90me\u001b[39m\u001b[31m- 19\u001b[39m\n",
      "\u001b[90m25\u001b[39m Economics__Econometrics_and_Finance    -\u001b[31m0\u001b[39m\u001b[31m.\u001b[39m\u001b[31m0\u001b[39m\u001b[31m66\u001b[4m1\u001b[24m\u001b[39m   0.063\u001b[4m8\u001b[24m      -\u001b[31m1\u001b[39m\u001b[31m.\u001b[39m\u001b[31m0\u001b[39m\u001b[31m4\u001b[39m  3.00\u001b[90me\u001b[39m\u001b[31m-  1\u001b[39m\n",
      "\u001b[90m26\u001b[39m Chemical_Engineering                    0.287    0.075\u001b[4m2\u001b[24m       3.82  1.35\u001b[90me\u001b[39m\u001b[31m-  4\u001b[39m\n",
      "\u001b[90m27\u001b[39m Physics_and_Astronomy                  -\u001b[31m0\u001b[39m\u001b[31m.\u001b[39m\u001b[31m608\u001b[39m    0.047\u001b[4m5\u001b[24m     -\u001b[31m12\u001b[39m\u001b[31m.\u001b[39m\u001b[31m8\u001b[39m   1.29\u001b[90me\u001b[39m\u001b[31m- 37\u001b[39m\n",
      "\u001b[90m28\u001b[39m Computer_Science                       -\u001b[31m0\u001b[39m\u001b[31m.\u001b[39m\u001b[31m0\u001b[39m\u001b[31m72\u001b[4m8\u001b[24m\u001b[39m   0.041\u001b[4m3\u001b[24m      -\u001b[31m1\u001b[39m\u001b[31m.\u001b[39m\u001b[31m76\u001b[39m  7.79\u001b[90me\u001b[39m\u001b[31m-  2\u001b[39m\n",
      "\u001b[90m29\u001b[39m Decision_Sciences                      -\u001b[31m0\u001b[39m\u001b[31m.\u001b[39m\u001b[31m519\u001b[39m    0.095\u001b[4m6\u001b[24m      -\u001b[31m5\u001b[39m\u001b[31m.\u001b[39m\u001b[31m42\u001b[39m  5.80\u001b[90me\u001b[39m\u001b[31m-  8\u001b[39m\n",
      "\u001b[90m30\u001b[39m Health_Professions                      0.578    0.044\u001b[4m9\u001b[24m      12.9   6.02\u001b[90me\u001b[39m\u001b[31m- 38\u001b[39m\n",
      "\u001b[90m31\u001b[39m Psychology                              0.035\u001b[4m0\u001b[24m   0.041\u001b[4m7\u001b[24m       0.839 4.01\u001b[90me\u001b[39m\u001b[31m-  1\u001b[39m\n",
      "\u001b[90m32\u001b[39m Immunology_and_Microbiology             0.025\u001b[4m6\u001b[24m   0.035\u001b[4m4\u001b[24m       0.723 4.69\u001b[90me\u001b[39m\u001b[31m-  1\u001b[39m\n",
      "\u001b[90m33\u001b[39m Dentistry                              -\u001b[31m0\u001b[39m\u001b[31m.\u001b[39m\u001b[31m679\u001b[39m    0.197       -\u001b[31m3\u001b[39m\u001b[31m.\u001b[39m\u001b[31m45\u001b[39m  5.64\u001b[90me\u001b[39m\u001b[31m-  4\u001b[39m\n",
      "\u001b[90m34\u001b[39m Earth_and_Planetary_Sciences           -\u001b[31m0\u001b[39m\u001b[31m.\u001b[39m\u001b[31m380\u001b[39m    0.038\u001b[4m2\u001b[24m      -\u001b[31m9\u001b[39m\u001b[31m.\u001b[39m\u001b[31m94\u001b[39m  2.71\u001b[90me\u001b[39m\u001b[31m- 23\u001b[39m\n",
      "\u001b[90m35\u001b[39m Environmental_Science                  -\u001b[31m0\u001b[39m\u001b[31m.\u001b[39m\u001b[31m0\u001b[39m\u001b[31m89\u001b[4m3\u001b[24m\u001b[39m   0.029\u001b[4m3\u001b[24m      -\u001b[31m3\u001b[39m\u001b[31m.\u001b[39m\u001b[31m0\u001b[39m\u001b[31m4\u001b[39m  2.34\u001b[90me\u001b[39m\u001b[31m-  3\u001b[39m\n",
      "\u001b[90m36\u001b[39m Mathematics                             0.432    0.057\u001b[4m7\u001b[24m       7.49  7.03\u001b[90me\u001b[39m\u001b[31m- 14\u001b[39m\n",
      "\u001b[90m37\u001b[39m Arts_and_Humanities                    -\u001b[31m0\u001b[39m\u001b[31m.\u001b[39m\u001b[31m360\u001b[39m    0.077\u001b[4m3\u001b[24m      -\u001b[31m4\u001b[39m\u001b[31m.\u001b[39m\u001b[31m66\u001b[39m  3.16\u001b[90me\u001b[39m\u001b[31m-  6\u001b[39m\n",
      "\u001b[90m38\u001b[39m Energy                                 -\u001b[31m0\u001b[39m\u001b[31m.\u001b[39m\u001b[31m679\u001b[39m    0.090\u001b[4m3\u001b[24m      -\u001b[31m7\u001b[39m\u001b[31m.\u001b[39m\u001b[31m52\u001b[39m  5.38\u001b[90me\u001b[39m\u001b[31m- 14\u001b[39m\n",
      "\u001b[90m39\u001b[39m Veterinary                             -\u001b[31m0\u001b[39m\u001b[31m.\u001b[39m\u001b[31m426\u001b[39m    0.105       -\u001b[31m4\u001b[39m\u001b[31m.\u001b[39m\u001b[31m0\u001b[39m\u001b[31m7\u001b[39m  4.76\u001b[90me\u001b[39m\u001b[31m-  5\u001b[39m\n",
      "\u001b[90m40\u001b[39m General                                 0.743    0.044\u001b[4m4\u001b[24m      16.7   8.92\u001b[90me\u001b[39m\u001b[31m- 63\u001b[39m\n",
      "\u001b[90m41\u001b[39m genderFemale:self_promotionTrue        -\u001b[31m0\u001b[39m\u001b[31m.\u001b[39m\u001b[31m0\u001b[39m\u001b[31m64\u001b[4m4\u001b[24m\u001b[39m   0.031\u001b[4m2\u001b[24m      -\u001b[31m2\u001b[39m\u001b[31m.\u001b[39m\u001b[31m0\u001b[39m\u001b[31m6\u001b[39m  3.92\u001b[90me\u001b[39m\u001b[31m-  2\u001b[39m\n",
      "\u001b[90m# A tibble: 41 x 5\u001b[39m\n",
      "   term                                   estimate std.error statistic   p.value\n",
      "   \u001b[3m\u001b[90m<chr>\u001b[39m\u001b[23m                                     \u001b[3m\u001b[90m<dbl>\u001b[39m\u001b[23m     \u001b[3m\u001b[90m<dbl>\u001b[39m\u001b[23m     \u001b[3m\u001b[90m<dbl>\u001b[39m\u001b[23m     \u001b[3m\u001b[90m<dbl>\u001b[39m\u001b[23m\n",
      "\u001b[90m 1\u001b[39m (Intercept)                             6.88\u001b[90me\u001b[39m\u001b[31m-1\u001b[39m  0.033\u001b[4m7\u001b[24m     20.4    1.10\u001b[90me\u001b[39m\u001b[31m- 92\u001b[39m\n",
      "\u001b[90m 2\u001b[39m genderFemale                            1.58\u001b[90me\u001b[39m\u001b[31m-1\u001b[39m  0.014\u001b[4m2\u001b[24m     11.2    5.31\u001b[90me\u001b[39m\u001b[31m- 29\u001b[39m\n",
      "\u001b[90m 3\u001b[39m self_promotionTrue                      1.27\u001b[90me\u001b[39m+0  0.012\u001b[4m3\u001b[24m    104.     0   \u001b[90m \u001b[39m    \n",
      "\u001b[90m 4\u001b[39m authorship_posfirst_position            8.07\u001b[90me\u001b[39m\u001b[31m-2\u001b[39m  0.015\u001b[4m7\u001b[24m      5.14   2.70\u001b[90me\u001b[39m\u001b[31m-  7\u001b[39m\n",
      "\u001b[90m 5\u001b[39m authorship_posmiddle_position           2.01\u001b[90me\u001b[39m\u001b[31m-1\u001b[39m  0.012\u001b[4m3\u001b[24m     16.3    4.83\u001b[90me\u001b[39m\u001b[31m- 60\u001b[39m\n",
      "\u001b[90m 6\u001b[39m authorship_possolo_author              -\u001b[31m1\u001b[39m\u001b[31m.\u001b[39m\u001b[31m53\u001b[39m\u001b[90me\u001b[39m\u001b[31m-1\u001b[39m  0.027\u001b[4m5\u001b[24m     -\u001b[31m5\u001b[39m\u001b[31m.\u001b[39m\u001b[31m56\u001b[39m   2.73\u001b[90me\u001b[39m\u001b[31m-  8\u001b[39m\n",
      "\u001b[90m 7\u001b[39m follower_cn_snapshot_log                1.03\u001b[90me\u001b[39m\u001b[31m-1\u001b[39m  0.002\u001b[4m7\u001b[24m\u001b[4m0\u001b[24m    38.3    0   \u001b[90m \u001b[39m    \n",
      "\u001b[90m 8\u001b[39m author_pub_count_cate                  -\u001b[31m9\u001b[39m\u001b[31m.\u001b[39m\u001b[31m12\u001b[39m\u001b[90me\u001b[39m\u001b[31m-2\u001b[39m  0.005\u001b[4m1\u001b[24m\u001b[4m9\u001b[24m   -\u001b[31m17\u001b[39m\u001b[31m.\u001b[39m\u001b[31m6\u001b[39m    5.05\u001b[90me\u001b[39m\u001b[31m- 69\u001b[39m\n",
      "\u001b[90m 9\u001b[39m affiliation_rank_cate                  -\u001b[31m3\u001b[39m\u001b[31m.\u001b[39m\u001b[31m71\u001b[39m\u001b[90me\u001b[39m\u001b[31m-4\u001b[39m  0.001\u001b[4m8\u001b[24m\u001b[4m4\u001b[24m    -\u001b[31m0\u001b[39m\u001b[31m.\u001b[39m\u001b[31m201\u001b[39m  8.41\u001b[90me\u001b[39m\u001b[31m-  1\u001b[39m\n",
      "\u001b[90m10\u001b[39m affiliation_cateinternational          -\u001b[31m9\u001b[39m\u001b[31m.\u001b[39m\u001b[31m75\u001b[39m\u001b[90me\u001b[39m\u001b[31m-3\u001b[39m  0.010\u001b[4m9\u001b[24m     -\u001b[31m0\u001b[39m\u001b[31m.\u001b[39m\u001b[31m894\u001b[39m  3.71\u001b[90me\u001b[39m\u001b[31m-  1\u001b[39m\n",
      "\u001b[90m11\u001b[39m num_authors                             4.89\u001b[90me\u001b[39m\u001b[31m-3\u001b[39m  0.000\u001b[4m1\u001b[24m\u001b[4m4\u001b[24m\u001b[4m2\u001b[24m   34.5    3.01\u001b[90me\u001b[39m\u001b[31m-261\u001b[39m\n",
      "\u001b[90m12\u001b[39m journal_impact                          5.56\u001b[90me\u001b[39m\u001b[31m-2\u001b[39m  0.000\u001b[4m7\u001b[24m\u001b[4m1\u001b[24m\u001b[4m7\u001b[24m   77.6    0   \u001b[90m \u001b[39m    \n",
      "\u001b[90m13\u001b[39m author_citation_log                     4.32\u001b[90me\u001b[39m\u001b[31m-2\u001b[39m  0.003\u001b[4m0\u001b[24m\u001b[4m8\u001b[24m    14.0    1.21\u001b[90me\u001b[39m\u001b[31m- 44\u001b[39m\n",
      "\u001b[90m14\u001b[39m Social_Sciences                        -\u001b[31m4\u001b[39m\u001b[31m.\u001b[39m\u001b[31m40\u001b[39m\u001b[90me\u001b[39m\u001b[31m-2\u001b[39m  0.021\u001b[4m5\u001b[24m     -\u001b[31m2\u001b[39m\u001b[31m.\u001b[39m\u001b[31m0\u001b[39m\u001b[31m5\u001b[39m   4.03\u001b[90me\u001b[39m\u001b[31m-  2\u001b[39m\n",
      "\u001b[90m15\u001b[39m Materials_Science                      -\u001b[31m2\u001b[39m\u001b[31m.\u001b[39m\u001b[31m12\u001b[39m\u001b[90me\u001b[39m\u001b[31m-1\u001b[39m  0.051\u001b[4m9\u001b[24m     -\u001b[31m4\u001b[39m\u001b[31m.\u001b[39m\u001b[31m0\u001b[39m\u001b[31m8\u001b[39m   4.54\u001b[90me\u001b[39m\u001b[31m-  5\u001b[39m\n",
      "\u001b[90m16\u001b[39m Engineering                            -\u001b[31m6\u001b[39m\u001b[31m.\u001b[39m\u001b[31m49\u001b[39m\u001b[90me\u001b[39m\u001b[31m-1\u001b[39m  0.037\u001b[4m8\u001b[24m    -\u001b[31m17\u001b[39m\u001b[31m.\u001b[39m\u001b[31m2\u001b[39m    4.70\u001b[90me\u001b[39m\u001b[31m- 66\u001b[39m\n",
      "\u001b[90m17\u001b[39m Chemistry                              -\u001b[31m1\u001b[39m\u001b[31m.\u001b[39m\u001b[31m10\u001b[39m\u001b[90me\u001b[39m+0  0.038\u001b[4m8\u001b[24m    -\u001b[31m28\u001b[39m\u001b[31m.\u001b[39m\u001b[31m3\u001b[39m    3.02\u001b[90me\u001b[39m\u001b[31m-176\u001b[39m\n",
      "\u001b[90m18\u001b[39m Biochemistry__Genetics_and_Molecular_… -\u001b[31m9\u001b[39m\u001b[31m.\u001b[39m\u001b[31m16\u001b[39m\u001b[90me\u001b[39m\u001b[31m-2\u001b[39m  0.013\u001b[4m8\u001b[24m     -\u001b[31m6\u001b[39m\u001b[31m.\u001b[39m\u001b[31m65\u001b[39m   2.96\u001b[90me\u001b[39m\u001b[31m- 11\u001b[39m\n",
      "\u001b[90m19\u001b[39m Medicine                                9.04\u001b[90me\u001b[39m\u001b[31m-3\u001b[39m  0.011\u001b[4m2\u001b[24m      0.808  4.19\u001b[90me\u001b[39m\u001b[31m-  1\u001b[39m\n",
      "\u001b[90m20\u001b[39m Nursing                                 2.48\u001b[90me\u001b[39m\u001b[31m-1\u001b[39m  0.029\u001b[4m7\u001b[24m      8.34   7.58\u001b[90me\u001b[39m\u001b[31m- 17\u001b[39m\n",
      "\u001b[90m21\u001b[39m Agricultural_and_Biological_Sciences    3.44\u001b[90me\u001b[39m\u001b[31m-1\u001b[39m  0.015\u001b[4m3\u001b[24m     22.4    4.10\u001b[90me\u001b[39m\u001b[31m-111\u001b[39m\n",
      "\u001b[90m22\u001b[39m Pharmacology__Toxicology_and_Pharmace… -\u001b[31m4\u001b[39m\u001b[31m.\u001b[39m\u001b[31m0\u001b[39m\u001b[31m4\u001b[39m\u001b[90me\u001b[39m\u001b[31m-1\u001b[39m  0.035\u001b[4m9\u001b[24m    -\u001b[31m11\u001b[39m\u001b[31m.\u001b[39m\u001b[31m3\u001b[39m    2.19\u001b[90me\u001b[39m\u001b[31m- 29\u001b[39m\n",
      "\u001b[90m23\u001b[39m Neuroscience                           -\u001b[31m9\u001b[39m\u001b[31m.\u001b[39m\u001b[31m94\u001b[39m\u001b[90me\u001b[39m\u001b[31m-2\u001b[39m  0.023\u001b[4m1\u001b[24m     -\u001b[31m4\u001b[39m\u001b[31m.\u001b[39m\u001b[31m30\u001b[39m   1.74\u001b[90me\u001b[39m\u001b[31m-  5\u001b[39m\n",
      "\u001b[90m24\u001b[39m Business__Management_and_Accounting    -\u001b[31m5\u001b[39m\u001b[31m.\u001b[39m\u001b[31m48\u001b[39m\u001b[90me\u001b[39m\u001b[31m-1\u001b[39m  0.043\u001b[4m7\u001b[24m    -\u001b[31m12\u001b[39m\u001b[31m.\u001b[39m\u001b[31m5\u001b[39m    5.22\u001b[90me\u001b[39m\u001b[31m- 36\u001b[39m\n",
      "\u001b[90m25\u001b[39m Economics__Econometrics_and_Finance    -\u001b[31m2\u001b[39m\u001b[31m.\u001b[39m\u001b[31m91\u001b[39m\u001b[90me\u001b[39m\u001b[31m-1\u001b[39m  0.048\u001b[4m3\u001b[24m     -\u001b[31m6\u001b[39m\u001b[31m.\u001b[39m\u001b[31m0\u001b[39m\u001b[31m2\u001b[39m   1.74\u001b[90me\u001b[39m\u001b[31m-  9\u001b[39m\n",
      "\u001b[90m26\u001b[39m Chemical_Engineering                    3.68\u001b[90me\u001b[39m\u001b[31m-2\u001b[39m  0.054\u001b[4m6\u001b[24m      0.674  5.00\u001b[90me\u001b[39m\u001b[31m-  1\u001b[39m\n",
      "\u001b[90m27\u001b[39m Physics_and_Astronomy                  -\u001b[31m5\u001b[39m\u001b[31m.\u001b[39m\u001b[31m95\u001b[39m\u001b[90me\u001b[39m\u001b[31m-1\u001b[39m  0.036\u001b[4m6\u001b[24m    -\u001b[31m16\u001b[39m\u001b[31m.\u001b[39m\u001b[31m3\u001b[39m    1.76\u001b[90me\u001b[39m\u001b[31m- 59\u001b[39m\n",
      "\u001b[90m28\u001b[39m Computer_Science                       -\u001b[31m1\u001b[39m\u001b[31m.\u001b[39m\u001b[31m93\u001b[39m\u001b[90me\u001b[39m\u001b[31m-3\u001b[39m  0.032\u001b[4m9\u001b[24m     -\u001b[31m0\u001b[39m\u001b[31m.\u001b[39m\u001b[31m0\u001b[39m\u001b[31m58\u001b[4m7\u001b[24m\u001b[39m 9.53\u001b[90me\u001b[39m\u001b[31m-  1\u001b[39m\n",
      "\u001b[90m29\u001b[39m Decision_Sciences                      -\u001b[31m3\u001b[39m\u001b[31m.\u001b[39m\u001b[31m0\u001b[39m\u001b[31m1\u001b[39m\u001b[90me\u001b[39m\u001b[31m-1\u001b[39m  0.076\u001b[4m6\u001b[24m     -\u001b[31m3\u001b[39m\u001b[31m.\u001b[39m\u001b[31m93\u001b[39m   8.35\u001b[90me\u001b[39m\u001b[31m-  5\u001b[39m\n",
      "\u001b[90m30\u001b[39m Health_Professions                      8.07\u001b[90me\u001b[39m\u001b[31m-1\u001b[39m  0.034\u001b[4m8\u001b[24m     23.2    5.09\u001b[90me\u001b[39m\u001b[31m-119\u001b[39m\n",
      "\u001b[90m31\u001b[39m Psychology                             -\u001b[31m4\u001b[39m\u001b[31m.\u001b[39m\u001b[31m72\u001b[39m\u001b[90me\u001b[39m\u001b[31m-2\u001b[39m  0.030\u001b[4m7\u001b[24m     -\u001b[31m1\u001b[39m\u001b[31m.\u001b[39m\u001b[31m53\u001b[39m   1.25\u001b[90me\u001b[39m\u001b[31m-  1\u001b[39m\n",
      "\u001b[90m32\u001b[39m Immunology_and_Microbiology            -\u001b[31m2\u001b[39m\u001b[31m.\u001b[39m\u001b[31m97\u001b[39m\u001b[90me\u001b[39m\u001b[31m-3\u001b[39m  0.025\u001b[4m1\u001b[24m     -\u001b[31m0\u001b[39m\u001b[31m.\u001b[39m\u001b[31m118\u001b[39m  9.06\u001b[90me\u001b[39m\u001b[31m-  1\u001b[39m\n",
      "\u001b[90m33\u001b[39m Dentistry                              -\u001b[31m8\u001b[39m\u001b[31m.\u001b[39m\u001b[31m78\u001b[39m\u001b[90me\u001b[39m\u001b[31m-1\u001b[39m  0.158      -\u001b[31m5\u001b[39m\u001b[31m.\u001b[39m\u001b[31m56\u001b[39m   2.69\u001b[90me\u001b[39m\u001b[31m-  8\u001b[39m\n",
      "\u001b[90m34\u001b[39m Earth_and_Planetary_Sciences           -\u001b[31m5\u001b[39m\u001b[31m.\u001b[39m\u001b[31m45\u001b[39m\u001b[90me\u001b[39m\u001b[31m-1\u001b[39m  0.028\u001b[4m3\u001b[24m    -\u001b[31m19\u001b[39m\u001b[31m.\u001b[39m\u001b[31m3\u001b[39m    1.05\u001b[90me\u001b[39m\u001b[31m- 82\u001b[39m\n",
      "\u001b[90m35\u001b[39m Environmental_Science                  -\u001b[31m1\u001b[39m\u001b[31m.\u001b[39m\u001b[31m20\u001b[39m\u001b[90me\u001b[39m\u001b[31m-1\u001b[39m  0.021\u001b[4m0\u001b[24m     -\u001b[31m5\u001b[39m\u001b[31m.\u001b[39m\u001b[31m71\u001b[39m   1.15\u001b[90me\u001b[39m\u001b[31m-  8\u001b[39m\n",
      "\u001b[90m36\u001b[39m Mathematics                             1.99\u001b[90me\u001b[39m\u001b[31m-1\u001b[39m  0.044\u001b[4m5\u001b[24m      4.48   7.38\u001b[90me\u001b[39m\u001b[31m-  6\u001b[39m\n",
      "\u001b[90m37\u001b[39m Arts_and_Humanities                    -\u001b[31m4\u001b[39m\u001b[31m.\u001b[39m\u001b[31m42\u001b[39m\u001b[90me\u001b[39m\u001b[31m-1\u001b[39m  0.060\u001b[4m4\u001b[24m     -\u001b[31m7\u001b[39m\u001b[31m.\u001b[39m\u001b[31m31\u001b[39m   2.70\u001b[90me\u001b[39m\u001b[31m- 13\u001b[39m\n",
      "\u001b[90m38\u001b[39m Energy                                  4.19\u001b[90me\u001b[39m\u001b[31m-1\u001b[39m  0.064\u001b[4m2\u001b[24m      6.53   6.77\u001b[90me\u001b[39m\u001b[31m- 11\u001b[39m\n",
      "\u001b[90m39\u001b[39m Veterinary                             -\u001b[31m7\u001b[39m\u001b[31m.\u001b[39m\u001b[31m70\u001b[39m\u001b[90me\u001b[39m\u001b[31m-1\u001b[39m  0.074\u001b[4m6\u001b[24m    -\u001b[31m10\u001b[39m\u001b[31m.\u001b[39m\u001b[31m3\u001b[39m    5.22\u001b[90me\u001b[39m\u001b[31m- 25\u001b[39m\n",
      "\u001b[90m40\u001b[39m General                                 6.92\u001b[90me\u001b[39m\u001b[31m-1\u001b[39m  0.034\u001b[4m2\u001b[24m     20.2    7.44\u001b[90me\u001b[39m\u001b[31m- 91\u001b[39m\n",
      "\u001b[90m41\u001b[39m genderFemale:self_promotionTrue        -\u001b[31m1\u001b[39m\u001b[31m.\u001b[39m\u001b[31m31\u001b[39m\u001b[90me\u001b[39m\u001b[31m-1\u001b[39m  0.022\u001b[4m1\u001b[24m     -\u001b[31m5\u001b[39m\u001b[31m.\u001b[39m\u001b[31m93\u001b[39m   3.03\u001b[90me\u001b[39m\u001b[31m-  9\u001b[39m\n",
      "\u001b[90m# A tibble: 41 x 5\u001b[39m\n",
      "   term                                   estimate std.error statistic   p.value\n",
      "   \u001b[3m\u001b[90m<chr>\u001b[39m\u001b[23m                                     \u001b[3m\u001b[90m<dbl>\u001b[39m\u001b[23m     \u001b[3m\u001b[90m<dbl>\u001b[39m\u001b[23m     \u001b[3m\u001b[90m<dbl>\u001b[39m\u001b[23m     \u001b[3m\u001b[90m<dbl>\u001b[39m\u001b[23m\n",
      "\u001b[90m 1\u001b[39m (Intercept)                             0.830   0.027\u001b[4m7\u001b[24m       30.0   2.81\u001b[90me\u001b[39m\u001b[31m-197\u001b[39m\n",
      "\u001b[90m 2\u001b[39m genderFemale                            0.179   0.011\u001b[4m6\u001b[24m       15.4   1.25\u001b[90me\u001b[39m\u001b[31m- 53\u001b[39m\n",
      "\u001b[90m 3\u001b[39m self_promotionTrue                      1.24    0.010\u001b[4m3\u001b[24m      120.    0   \u001b[90m \u001b[39m    \n",
      "\u001b[90m 4\u001b[39m authorship_posfirst_position            0.112   0.013\u001b[4m2\u001b[24m        8.47  2.48\u001b[90me\u001b[39m\u001b[31m- 17\u001b[39m\n",
      "\u001b[90m 5\u001b[39m authorship_posmiddle_position           0.251   0.010\u001b[4m3\u001b[24m       24.4   1.08\u001b[90me\u001b[39m\u001b[31m-131\u001b[39m\n",
      "\u001b[90m 6\u001b[39m authorship_possolo_author              -\u001b[31m0\u001b[39m\u001b[31m.\u001b[39m\u001b[31m231\u001b[39m   0.024\u001b[4m2\u001b[24m       -\u001b[31m9\u001b[39m\u001b[31m.\u001b[39m\u001b[31m53\u001b[39m  1.51\u001b[90me\u001b[39m\u001b[31m- 21\u001b[39m\n",
      "\u001b[90m 7\u001b[39m follower_cn_snapshot_log                0.101   0.002\u001b[4m2\u001b[24m\u001b[4m5\u001b[24m      44.7   0   \u001b[90m \u001b[39m    \n",
      "\u001b[90m 8\u001b[39m author_pub_count_cate                  -\u001b[31m0\u001b[39m\u001b[31m.\u001b[39m\u001b[31m121\u001b[39m   0.004\u001b[4m3\u001b[24m\u001b[4m5\u001b[24m     -\u001b[31m27\u001b[39m\u001b[31m.\u001b[39m\u001b[31m8\u001b[39m   5.12\u001b[90me\u001b[39m\u001b[31m-170\u001b[39m\n",
      "\u001b[90m 9\u001b[39m affiliation_rank_cate                  -\u001b[31m0\u001b[39m\u001b[31m.\u001b[39m\u001b[31m0\u001b[39m\u001b[31m11\u001b[4m1\u001b[24m\u001b[39m  0.001\u001b[4m5\u001b[24m\u001b[4m4\u001b[24m      -\u001b[31m7\u001b[39m\u001b[31m.\u001b[39m\u001b[31m16\u001b[39m  7.87\u001b[90me\u001b[39m\u001b[31m- 13\u001b[39m\n",
      "\u001b[90m10\u001b[39m affiliation_cateinternational           0.086\u001b[4m5\u001b[24m  0.009\u001b[4m0\u001b[24m\u001b[4m5\u001b[24m       9.55  1.25\u001b[90me\u001b[39m\u001b[31m- 21\u001b[39m\n",
      "\u001b[90m11\u001b[39m num_authors                             0.002\u001b[4m3\u001b[24m\u001b[4m8\u001b[24m 0.000\u001b[4m0\u001b[24m\u001b[4m4\u001b[24m\u001b[4m8\u001b[24m1    49.6   0   \u001b[90m \u001b[39m    \n",
      "\u001b[90m12\u001b[39m journal_impact                          0.059\u001b[4m0\u001b[24m  0.000\u001b[4m5\u001b[24m\u001b[4m7\u001b[24m\u001b[4m3\u001b[24m    103.    0   \u001b[90m \u001b[39m    \n",
      "\u001b[90m13\u001b[39m author_citation_log                     0.061\u001b[4m8\u001b[24m  0.002\u001b[4m5\u001b[24m\u001b[4m6\u001b[24m      24.1   2.57\u001b[90me\u001b[39m\u001b[31m-128\u001b[39m\n",
      "\u001b[90m14\u001b[39m Social_Sciences                        -\u001b[31m0\u001b[39m\u001b[31m.\u001b[39m\u001b[31m169\u001b[39m   0.017\u001b[4m9\u001b[24m       -\u001b[31m9\u001b[39m\u001b[31m.\u001b[39m\u001b[31m41\u001b[39m  5.15\u001b[90me\u001b[39m\u001b[31m- 21\u001b[39m\n",
      "\u001b[90m15\u001b[39m Materials_Science                      -\u001b[31m0\u001b[39m\u001b[31m.\u001b[39m\u001b[31m429\u001b[39m   0.041\u001b[4m3\u001b[24m      -\u001b[31m10\u001b[39m\u001b[31m.\u001b[39m\u001b[31m4\u001b[39m   2.69\u001b[90me\u001b[39m\u001b[31m- 25\u001b[39m\n",
      "\u001b[90m16\u001b[39m Engineering                            -\u001b[31m0\u001b[39m\u001b[31m.\u001b[39m\u001b[31m611\u001b[39m   0.030\u001b[4m8\u001b[24m      -\u001b[31m19\u001b[39m\u001b[31m.\u001b[39m\u001b[31m8\u001b[39m   1.27\u001b[90me\u001b[39m\u001b[31m- 87\u001b[39m\n",
      "\u001b[90m17\u001b[39m Chemistry                              -\u001b[31m0\u001b[39m\u001b[31m.\u001b[39m\u001b[31m841\u001b[39m   0.031\u001b[4m4\u001b[24m      -\u001b[31m26\u001b[39m\u001b[31m.\u001b[39m\u001b[31m8\u001b[39m   2.60\u001b[90me\u001b[39m\u001b[31m-158\u001b[39m\n",
      "\u001b[90m18\u001b[39m Biochemistry__Genetics_and_Molecular_… -\u001b[31m0\u001b[39m\u001b[31m.\u001b[39m\u001b[31m0\u001b[39m\u001b[31m99\u001b[4m3\u001b[24m\u001b[39m  0.011\u001b[4m6\u001b[24m       -\u001b[31m8\u001b[39m\u001b[31m.\u001b[39m\u001b[31m60\u001b[39m  8.16\u001b[90me\u001b[39m\u001b[31m- 18\u001b[39m\n",
      "\u001b[90m19\u001b[39m Medicine                                0.039\u001b[4m9\u001b[24m  0.009\u001b[4m3\u001b[24m\u001b[4m1\u001b[24m       4.29  1.78\u001b[90me\u001b[39m\u001b[31m-  5\u001b[39m\n",
      "\u001b[90m20\u001b[39m Nursing                                 0.282   0.024\u001b[4m7\u001b[24m       11.5   2.21\u001b[90me\u001b[39m\u001b[31m- 30\u001b[39m\n",
      "\u001b[90m21\u001b[39m Agricultural_and_Biological_Sciences    0.314   0.013\u001b[4m2\u001b[24m       23.7   2.76\u001b[90me\u001b[39m\u001b[31m-124\u001b[39m\n",
      "\u001b[90m22\u001b[39m Pharmacology__Toxicology_and_Pharmace… -\u001b[31m0\u001b[39m\u001b[31m.\u001b[39m\u001b[31m464\u001b[39m   0.029\u001b[4m8\u001b[24m      -\u001b[31m15\u001b[39m\u001b[31m.\u001b[39m\u001b[31m6\u001b[39m   1.38\u001b[90me\u001b[39m\u001b[31m- 54\u001b[39m\n",
      "\u001b[90m23\u001b[39m Neuroscience                            0.115   0.019\u001b[4m6\u001b[24m        5.88  4.13\u001b[90me\u001b[39m\u001b[31m-  9\u001b[39m\n",
      "\u001b[90m24\u001b[39m Business__Management_and_Accounting    -\u001b[31m0\u001b[39m\u001b[31m.\u001b[39m\u001b[31m176\u001b[39m   0.036\u001b[4m8\u001b[24m       -\u001b[31m4\u001b[39m\u001b[31m.\u001b[39m\u001b[31m78\u001b[39m  1.78\u001b[90me\u001b[39m\u001b[31m-  6\u001b[39m\n",
      "\u001b[90m25\u001b[39m Economics__Econometrics_and_Finance    -\u001b[31m0\u001b[39m\u001b[31m.\u001b[39m\u001b[31m0\u001b[39m\u001b[31m48\u001b[4m7\u001b[24m\u001b[39m  0.040\u001b[4m0\u001b[24m       -\u001b[31m1\u001b[39m\u001b[31m.\u001b[39m\u001b[31m22\u001b[39m  2.23\u001b[90me\u001b[39m\u001b[31m-  1\u001b[39m\n",
      "\u001b[90m26\u001b[39m Chemical_Engineering                    0.200   0.044\u001b[4m4\u001b[24m        4.51  6.41\u001b[90me\u001b[39m\u001b[31m-  6\u001b[39m\n",
      "\u001b[90m27\u001b[39m Physics_and_Astronomy                  -\u001b[31m0\u001b[39m\u001b[31m.\u001b[39m\u001b[31m453\u001b[39m   0.029\u001b[4m4\u001b[24m      -\u001b[31m15\u001b[39m\u001b[31m.\u001b[39m\u001b[31m4\u001b[39m   1.01\u001b[90me\u001b[39m\u001b[31m- 53\u001b[39m\n",
      "\u001b[90m28\u001b[39m Computer_Science                       -\u001b[31m0\u001b[39m\u001b[31m.\u001b[39m\u001b[31m198\u001b[39m   0.028\u001b[4m1\u001b[24m       -\u001b[31m7\u001b[39m\u001b[31m.\u001b[39m\u001b[31m0\u001b[39m\u001b[31m4\u001b[39m  1.97\u001b[90me\u001b[39m\u001b[31m- 12\u001b[39m\n",
      "\u001b[90m29\u001b[39m Decision_Sciences                      -\u001b[31m0\u001b[39m\u001b[31m.\u001b[39m\u001b[31m478\u001b[39m   0.064\u001b[4m8\u001b[24m       -\u001b[31m7\u001b[39m\u001b[31m.\u001b[39m\u001b[31m38\u001b[39m  1.55\u001b[90me\u001b[39m\u001b[31m- 13\u001b[39m\n",
      "\u001b[90m30\u001b[39m Health_Professions                      0.765   0.028\u001b[4m2\u001b[24m       27.1   3.05\u001b[90me\u001b[39m\u001b[31m-162\u001b[39m\n",
      "\u001b[90m31\u001b[39m Psychology                             -\u001b[31m0\u001b[39m\u001b[31m.\u001b[39m\u001b[31m0\u001b[39m\u001b[31m84\u001b[4m7\u001b[24m\u001b[39m  0.025\u001b[4m9\u001b[24m       -\u001b[31m3\u001b[39m\u001b[31m.\u001b[39m\u001b[31m27\u001b[39m  1.09\u001b[90me\u001b[39m\u001b[31m-  3\u001b[39m\n",
      "\u001b[90m32\u001b[39m Immunology_and_Microbiology            -\u001b[31m0\u001b[39m\u001b[31m.\u001b[39m\u001b[31m0\u001b[39m\u001b[31m25\u001b[4m9\u001b[24m\u001b[39m  0.022\u001b[4m1\u001b[24m       -\u001b[31m1\u001b[39m\u001b[31m.\u001b[39m\u001b[31m17\u001b[39m  2.42\u001b[90me\u001b[39m\u001b[31m-  1\u001b[39m\n",
      "\u001b[90m33\u001b[39m Dentistry                              -\u001b[31m1\u001b[39m\u001b[31m.\u001b[39m\u001b[31m0\u001b[39m\u001b[31m3\u001b[39m    0.128        -\u001b[31m8\u001b[39m\u001b[31m.\u001b[39m\u001b[31m10\u001b[39m  5.68\u001b[90me\u001b[39m\u001b[31m- 16\u001b[39m\n",
      "\u001b[90m34\u001b[39m Earth_and_Planetary_Sciences           -\u001b[31m0\u001b[39m\u001b[31m.\u001b[39m\u001b[31m395\u001b[39m   0.024\u001b[4m2\u001b[24m      -\u001b[31m16\u001b[39m\u001b[31m.\u001b[39m\u001b[31m4\u001b[39m   3.77\u001b[90me\u001b[39m\u001b[31m- 60\u001b[39m\n",
      "\u001b[90m35\u001b[39m Environmental_Science                  -\u001b[31m0\u001b[39m\u001b[31m.\u001b[39m\u001b[31m168\u001b[39m   0.017\u001b[4m4\u001b[24m       -\u001b[31m9\u001b[39m\u001b[31m.\u001b[39m\u001b[31m65\u001b[39m  5.07\u001b[90me\u001b[39m\u001b[31m- 22\u001b[39m\n",
      "\u001b[90m36\u001b[39m Mathematics                             0.215   0.039\u001b[4m5\u001b[24m        5.44  5.33\u001b[90me\u001b[39m\u001b[31m-  8\u001b[39m\n",
      "\u001b[90m37\u001b[39m Arts_and_Humanities                    -\u001b[31m0\u001b[39m\u001b[31m.\u001b[39m\u001b[31m0\u001b[39m\u001b[31m25\u001b[4m2\u001b[24m\u001b[39m  0.050\u001b[4m2\u001b[24m       -\u001b[31m0\u001b[39m\u001b[31m.\u001b[39m\u001b[31m502\u001b[39m 6.15\u001b[90me\u001b[39m\u001b[31m-  1\u001b[39m\n",
      "\u001b[90m38\u001b[39m Energy                                 -\u001b[31m0\u001b[39m\u001b[31m.\u001b[39m\u001b[31m809\u001b[39m   0.054\u001b[4m2\u001b[24m      -\u001b[31m14\u001b[39m\u001b[31m.\u001b[39m\u001b[31m9\u001b[39m   2.15\u001b[90me\u001b[39m\u001b[31m- 50\u001b[39m\n",
      "\u001b[90m39\u001b[39m Veterinary                             -\u001b[31m0\u001b[39m\u001b[31m.\u001b[39m\u001b[31m788\u001b[39m   0.061\u001b[4m8\u001b[24m      -\u001b[31m12\u001b[39m\u001b[31m.\u001b[39m\u001b[31m7\u001b[39m   3.45\u001b[90me\u001b[39m\u001b[31m- 37\u001b[39m\n",
      "\u001b[90m40\u001b[39m General                                 0.477   0.029\u001b[4m8\u001b[24m       16.0   1.35\u001b[90me\u001b[39m\u001b[31m- 57\u001b[39m\n",
      "\u001b[90m41\u001b[39m genderFemale:self_promotionTrue        -\u001b[31m0\u001b[39m\u001b[31m.\u001b[39m\u001b[31m191\u001b[39m   0.018\u001b[4m0\u001b[24m      -\u001b[31m10\u001b[39m\u001b[31m.\u001b[39m\u001b[31m6\u001b[39m   3.38\u001b[90me\u001b[39m\u001b[31m- 26\u001b[39m\n",
      "\u001b[90m# A tibble: 41 x 5\u001b[39m\n",
      "   term                                   estimate std.error statistic   p.value\n",
      "   \u001b[3m\u001b[90m<chr>\u001b[39m\u001b[23m                                     \u001b[3m\u001b[90m<dbl>\u001b[39m\u001b[23m     \u001b[3m\u001b[90m<dbl>\u001b[39m\u001b[23m     \u001b[3m\u001b[90m<dbl>\u001b[39m\u001b[23m     \u001b[3m\u001b[90m<dbl>\u001b[39m\u001b[23m\n",
      "\u001b[90m 1\u001b[39m (Intercept)                             1.19\u001b[90me\u001b[39m+0 0.023\u001b[4m2\u001b[24m       51.3   0   \u001b[90m \u001b[39m    \n",
      "\u001b[90m 2\u001b[39m genderFemale                            1.30\u001b[90me\u001b[39m\u001b[31m-1\u001b[39m 0.010\u001b[4m3\u001b[24m       12.5   4.08\u001b[90me\u001b[39m\u001b[31m- 36\u001b[39m\n",
      "\u001b[90m 3\u001b[39m self_promotionTrue                      1.22\u001b[90me\u001b[39m+0 0.008\u001b[4m9\u001b[24m\u001b[4m4\u001b[24m     136.    0   \u001b[90m \u001b[39m    \n",
      "\u001b[90m 4\u001b[39m authorship_posfirst_position            1.11\u001b[90me\u001b[39m\u001b[31m-1\u001b[39m 0.011\u001b[4m7\u001b[24m        9.53  1.54\u001b[90me\u001b[39m\u001b[31m- 21\u001b[39m\n",
      "\u001b[90m 5\u001b[39m authorship_posmiddle_position           3.46\u001b[90me\u001b[39m\u001b[31m-1\u001b[39m 0.008\u001b[4m9\u001b[24m\u001b[4m8\u001b[24m      38.6   0   \u001b[90m \u001b[39m    \n",
      "\u001b[90m 6\u001b[39m authorship_possolo_author              -\u001b[31m2\u001b[39m\u001b[31m.\u001b[39m\u001b[31m43\u001b[39m\u001b[90me\u001b[39m\u001b[31m-1\u001b[39m 0.022\u001b[4m2\u001b[24m      -\u001b[31m10\u001b[39m\u001b[31m.\u001b[39m\u001b[31m9\u001b[39m   8.04\u001b[90me\u001b[39m\u001b[31m- 28\u001b[39m\n",
      "\u001b[90m 7\u001b[39m follower_cn_snapshot_log                9.03\u001b[90me\u001b[39m\u001b[31m-2\u001b[39m 0.001\u001b[4m9\u001b[24m\u001b[4m0\u001b[24m      47.5   0   \u001b[90m \u001b[39m    \n",
      "\u001b[90m 8\u001b[39m author_pub_count_cate                  -\u001b[31m1\u001b[39m\u001b[31m.\u001b[39m\u001b[31m14\u001b[39m\u001b[90me\u001b[39m\u001b[31m-1\u001b[39m 0.003\u001b[4m7\u001b[24m\u001b[4m4\u001b[24m     -\u001b[31m30\u001b[39m\u001b[31m.\u001b[39m\u001b[31m5\u001b[39m   2.77\u001b[90me\u001b[39m\u001b[31m-204\u001b[39m\n",
      "\u001b[90m 9\u001b[39m affiliation_rank_cate                  -\u001b[31m1\u001b[39m\u001b[31m.\u001b[39m\u001b[31m11\u001b[39m\u001b[90me\u001b[39m\u001b[31m-2\u001b[39m 0.001\u001b[4m3\u001b[24m\u001b[4m4\u001b[24m      -\u001b[31m8\u001b[39m\u001b[31m.\u001b[39m\u001b[31m29\u001b[39m  1.10\u001b[90me\u001b[39m\u001b[31m- 16\u001b[39m\n",
      "\u001b[90m10\u001b[39m affiliation_cateinternational           9.62\u001b[90me\u001b[39m\u001b[31m-2\u001b[39m 0.007\u001b[4m8\u001b[24m\u001b[4m4\u001b[24m      12.3   1.12\u001b[90me\u001b[39m\u001b[31m- 34\u001b[39m\n",
      "\u001b[90m11\u001b[39m num_authors                             3.74\u001b[90me\u001b[39m\u001b[31m-4\u001b[39m 0.000\u001b[4m0\u001b[24m\u001b[4m3\u001b[24m\u001b[4m0\u001b[24m6    12.2   2.22\u001b[90me\u001b[39m\u001b[31m- 34\u001b[39m\n",
      "\u001b[90m12\u001b[39m journal_impact                          7.06\u001b[90me\u001b[39m\u001b[31m-2\u001b[39m 0.000\u001b[4m5\u001b[24m\u001b[4m0\u001b[24m\u001b[4m6\u001b[24m    139.    0   \u001b[90m \u001b[39m    \n",
      "\u001b[90m13\u001b[39m author_citation_log                     5.78\u001b[90me\u001b[39m\u001b[31m-2\u001b[39m 0.002\u001b[4m1\u001b[24m\u001b[4m8\u001b[24m      26.4   4.68\u001b[90me\u001b[39m\u001b[31m-154\u001b[39m\n",
      "\u001b[90m14\u001b[39m Social_Sciences                        -\u001b[31m1\u001b[39m\u001b[31m.\u001b[39m\u001b[31m10\u001b[39m\u001b[90me\u001b[39m\u001b[31m-1\u001b[39m 0.016\u001b[4m1\u001b[24m       -\u001b[31m6\u001b[39m\u001b[31m.\u001b[39m\u001b[31m80\u001b[39m  1.02\u001b[90me\u001b[39m\u001b[31m- 11\u001b[39m\n",
      "\u001b[90m15\u001b[39m Materials_Science                      -\u001b[31m6\u001b[39m\u001b[31m.\u001b[39m\u001b[31m20\u001b[39m\u001b[90me\u001b[39m\u001b[31m-1\u001b[39m 0.033\u001b[4m8\u001b[24m      -\u001b[31m18\u001b[39m\u001b[31m.\u001b[39m\u001b[31m4\u001b[39m   2.91\u001b[90me\u001b[39m\u001b[31m- 75\u001b[39m\n",
      "\u001b[90m16\u001b[39m Engineering                             2.80\u001b[90me\u001b[39m\u001b[31m-2\u001b[39m 0.025\u001b[4m6\u001b[24m        1.09  2.75\u001b[90me\u001b[39m\u001b[31m-  1\u001b[39m\n",
      "\u001b[90m17\u001b[39m Chemistry                              -\u001b[31m9\u001b[39m\u001b[31m.\u001b[39m\u001b[31m73\u001b[39m\u001b[90me\u001b[39m\u001b[31m-1\u001b[39m 0.025\u001b[4m8\u001b[24m      -\u001b[31m37\u001b[39m\u001b[31m.\u001b[39m\u001b[31m8\u001b[39m   0   \u001b[90m \u001b[39m    \n",
      "\u001b[90m18\u001b[39m Biochemistry__Genetics_and_Molecular_… -\u001b[31m2\u001b[39m\u001b[31m.\u001b[39m\u001b[31m42\u001b[39m\u001b[90me\u001b[39m\u001b[31m-1\u001b[39m 0.010\u001b[4m4\u001b[24m      -\u001b[31m23\u001b[39m\u001b[31m.\u001b[39m\u001b[31m2\u001b[39m   1.89\u001b[90me\u001b[39m\u001b[31m-119\u001b[39m\n",
      "\u001b[90m19\u001b[39m Medicine                               -\u001b[31m8\u001b[39m\u001b[31m.\u001b[39m\u001b[31m56\u001b[39m\u001b[90me\u001b[39m\u001b[31m-2\u001b[39m 0.008\u001b[4m1\u001b[24m\u001b[4m1\u001b[24m     -\u001b[31m10\u001b[39m\u001b[31m.\u001b[39m\u001b[31m5\u001b[39m   5.28\u001b[90me\u001b[39m\u001b[31m- 26\u001b[39m\n",
      "\u001b[90m20\u001b[39m Nursing                                 2.67\u001b[90me\u001b[39m\u001b[31m-1\u001b[39m 0.022\u001b[4m1\u001b[24m       12.1   1.11\u001b[90me\u001b[39m\u001b[31m- 33\u001b[39m\n",
      "\u001b[90m21\u001b[39m Agricultural_and_Biological_Sciences    2.95\u001b[90me\u001b[39m\u001b[31m-1\u001b[39m 0.012\u001b[4m1\u001b[24m       24.4   4.71\u001b[90me\u001b[39m\u001b[31m-131\u001b[39m\n",
      "\u001b[90m22\u001b[39m Pharmacology__Toxicology_and_Pharmace… -\u001b[31m4\u001b[39m\u001b[31m.\u001b[39m\u001b[31m56\u001b[39m\u001b[90me\u001b[39m\u001b[31m-1\u001b[39m 0.024\u001b[4m9\u001b[24m      -\u001b[31m18\u001b[39m\u001b[31m.\u001b[39m\u001b[31m3\u001b[39m   4.06\u001b[90me\u001b[39m\u001b[31m- 75\u001b[39m\n",
      "\u001b[90m23\u001b[39m Neuroscience                           -\u001b[31m5\u001b[39m\u001b[31m.\u001b[39m\u001b[31m18\u001b[39m\u001b[90me\u001b[39m\u001b[31m-2\u001b[39m 0.016\u001b[4m9\u001b[24m       -\u001b[31m3\u001b[39m\u001b[31m.\u001b[39m\u001b[31m0\u001b[39m\u001b[31m6\u001b[39m  2.25\u001b[90me\u001b[39m\u001b[31m-  3\u001b[39m\n",
      "\u001b[90m24\u001b[39m Business__Management_and_Accounting    -\u001b[31m4\u001b[39m\u001b[31m.\u001b[39m\u001b[31m00\u001b[39m\u001b[90me\u001b[39m\u001b[31m-1\u001b[39m 0.033\u001b[4m5\u001b[24m      -\u001b[31m12\u001b[39m\u001b[31m.\u001b[39m\u001b[31m0\u001b[39m   6.45\u001b[90me\u001b[39m\u001b[31m- 33\u001b[39m\n",
      "\u001b[90m25\u001b[39m Economics__Econometrics_and_Finance    -\u001b[31m1\u001b[39m\u001b[31m.\u001b[39m\u001b[31m34\u001b[39m\u001b[90me\u001b[39m\u001b[31m-1\u001b[39m 0.036\u001b[4m7\u001b[24m       -\u001b[31m3\u001b[39m\u001b[31m.\u001b[39m\u001b[31m65\u001b[39m  2.60\u001b[90me\u001b[39m\u001b[31m-  4\u001b[39m\n",
      "\u001b[90m26\u001b[39m Chemical_Engineering                   -\u001b[31m2\u001b[39m\u001b[31m.\u001b[39m\u001b[31m30\u001b[39m\u001b[90me\u001b[39m\u001b[31m-1\u001b[39m 0.037\u001b[4m7\u001b[24m       -\u001b[31m6\u001b[39m\u001b[31m.\u001b[39m\u001b[31m10\u001b[39m  1.03\u001b[90me\u001b[39m\u001b[31m-  9\u001b[39m\n",
      "\u001b[90m27\u001b[39m Physics_and_Astronomy                  -\u001b[31m6\u001b[39m\u001b[31m.\u001b[39m\u001b[31m61\u001b[39m\u001b[90me\u001b[39m\u001b[31m-1\u001b[39m 0.027\u001b[4m8\u001b[24m      -\u001b[31m23\u001b[39m\u001b[31m.\u001b[39m\u001b[31m7\u001b[39m   1.23\u001b[90me\u001b[39m\u001b[31m-124\u001b[39m\n",
      "\u001b[90m28\u001b[39m Computer_Science                       -\u001b[31m1\u001b[39m\u001b[31m.\u001b[39m\u001b[31m69\u001b[39m\u001b[90me\u001b[39m\u001b[31m-1\u001b[39m 0.025\u001b[4m7\u001b[24m       -\u001b[31m6\u001b[39m\u001b[31m.\u001b[39m\u001b[31m58\u001b[39m  4.77\u001b[90me\u001b[39m\u001b[31m- 11\u001b[39m\n",
      "\u001b[90m29\u001b[39m Decision_Sciences                      -\u001b[31m3\u001b[39m\u001b[31m.\u001b[39m\u001b[31m59\u001b[39m\u001b[90me\u001b[39m\u001b[31m-1\u001b[39m 0.055\u001b[4m4\u001b[24m       -\u001b[31m6\u001b[39m\u001b[31m.\u001b[39m\u001b[31m47\u001b[39m  9.89\u001b[90me\u001b[39m\u001b[31m- 11\u001b[39m\n",
      "\u001b[90m30\u001b[39m Health_Professions                      6.45\u001b[90me\u001b[39m\u001b[31m-1\u001b[39m 0.024\u001b[4m7\u001b[24m       26.1   7.71\u001b[90me\u001b[39m\u001b[31m-150\u001b[39m\n",
      "\u001b[90m31\u001b[39m Psychology                             -\u001b[31m1\u001b[39m\u001b[31m.\u001b[39m\u001b[31m51\u001b[39m\u001b[90me\u001b[39m\u001b[31m-1\u001b[39m 0.023\u001b[4m1\u001b[24m       -\u001b[31m6\u001b[39m\u001b[31m.\u001b[39m\u001b[31m55\u001b[39m  5.78\u001b[90me\u001b[39m\u001b[31m- 11\u001b[39m\n",
      "\u001b[90m32\u001b[39m Immunology_and_Microbiology             6.64\u001b[90me\u001b[39m\u001b[31m-2\u001b[39m 0.019\u001b[4m2\u001b[24m        3.45  5.60\u001b[90me\u001b[39m\u001b[31m-  4\u001b[39m\n",
      "\u001b[90m33\u001b[39m Dentistry                               3.75\u001b[90me\u001b[39m\u001b[31m-2\u001b[39m 0.090\u001b[4m1\u001b[24m        0.416 6.77\u001b[90me\u001b[39m\u001b[31m-  1\u001b[39m\n",
      "\u001b[90m34\u001b[39m Earth_and_Planetary_Sciences           -\u001b[31m4\u001b[39m\u001b[31m.\u001b[39m\u001b[31m37\u001b[39m\u001b[90me\u001b[39m\u001b[31m-1\u001b[39m 0.021\u001b[4m5\u001b[24m      -\u001b[31m20\u001b[39m\u001b[31m.\u001b[39m\u001b[31m4\u001b[39m   4.19\u001b[90me\u001b[39m\u001b[31m- 92\u001b[39m\n",
      "\u001b[90m35\u001b[39m Environmental_Science                  -\u001b[31m1\u001b[39m\u001b[31m.\u001b[39m\u001b[31m96\u001b[39m\u001b[90me\u001b[39m\u001b[31m-1\u001b[39m 0.015\u001b[4m1\u001b[24m      -\u001b[31m13\u001b[39m\u001b[31m.\u001b[39m\u001b[31m0\u001b[39m   2.28\u001b[90me\u001b[39m\u001b[31m- 38\u001b[39m\n",
      "\u001b[90m36\u001b[39m Mathematics                             9.28\u001b[90me\u001b[39m\u001b[31m-1\u001b[39m 0.034\u001b[4m3\u001b[24m       27.0   4.35\u001b[90me\u001b[39m\u001b[31m-161\u001b[39m\n",
      "\u001b[90m37\u001b[39m Arts_and_Humanities                    -\u001b[31m1\u001b[39m\u001b[31m.\u001b[39m\u001b[31m37\u001b[39m\u001b[90me\u001b[39m\u001b[31m-1\u001b[39m 0.046\u001b[4m0\u001b[24m       -\u001b[31m2\u001b[39m\u001b[31m.\u001b[39m\u001b[31m97\u001b[39m  2.98\u001b[90me\u001b[39m\u001b[31m-  3\u001b[39m\n",
      "\u001b[90m38\u001b[39m Energy                                 -\u001b[31m7\u001b[39m\u001b[31m.\u001b[39m\u001b[31m86\u001b[39m\u001b[90me\u001b[39m\u001b[31m-1\u001b[39m 0.042\u001b[4m9\u001b[24m      -\u001b[31m18\u001b[39m\u001b[31m.\u001b[39m\u001b[31m3\u001b[39m   3.87\u001b[90me\u001b[39m\u001b[31m- 75\u001b[39m\n",
      "\u001b[90m39\u001b[39m Veterinary                             -\u001b[31m4\u001b[39m\u001b[31m.\u001b[39m\u001b[31m99\u001b[39m\u001b[90me\u001b[39m\u001b[31m-1\u001b[39m 0.056\u001b[4m8\u001b[24m       -\u001b[31m8\u001b[39m\u001b[31m.\u001b[39m\u001b[31m79\u001b[39m  1.46\u001b[90me\u001b[39m\u001b[31m- 18\u001b[39m\n",
      "\u001b[90m40\u001b[39m General                                 2.20\u001b[90me\u001b[39m\u001b[31m-1\u001b[39m 0.026\u001b[4m7\u001b[24m        8.25  1.55\u001b[90me\u001b[39m\u001b[31m- 16\u001b[39m\n",
      "\u001b[90m41\u001b[39m genderFemale:self_promotionTrue        -\u001b[31m9\u001b[39m\u001b[31m.\u001b[39m\u001b[31m54\u001b[39m\u001b[90me\u001b[39m\u001b[31m-2\u001b[39m 0.015\u001b[4m3\u001b[24m       -\u001b[31m6\u001b[39m\u001b[31m.\u001b[39m\u001b[31m26\u001b[39m  3.97\u001b[90me\u001b[39m\u001b[31m- 10\u001b[39m\n",
      "\u001b[90m# A tibble: 41 x 5\u001b[39m\n",
      "   term                                   estimate std.error statistic   p.value\n",
      "   \u001b[3m\u001b[90m<chr>\u001b[39m\u001b[23m                                     \u001b[3m\u001b[90m<dbl>\u001b[39m\u001b[23m     \u001b[3m\u001b[90m<dbl>\u001b[39m\u001b[23m     \u001b[3m\u001b[90m<dbl>\u001b[39m\u001b[23m     \u001b[3m\u001b[90m<dbl>\u001b[39m\u001b[23m\n",
      "\u001b[90m 1\u001b[39m (Intercept)                             1.28\u001b[90me\u001b[39m+0 0.019\u001b[4m1\u001b[24m       67.3   0   \u001b[90m \u001b[39m    \n",
      "\u001b[90m 2\u001b[39m genderFemale                            1.10\u001b[90me\u001b[39m\u001b[31m-1\u001b[39m 0.008\u001b[4m8\u001b[24m\u001b[4m5\u001b[24m      12.4   2.22\u001b[90me\u001b[39m\u001b[31m- 35\u001b[39m\n",
      "\u001b[90m 3\u001b[39m self_promotionTrue                      1.14\u001b[90me\u001b[39m+0 0.007\u001b[4m4\u001b[24m\u001b[4m6\u001b[24m     153.    0   \u001b[90m \u001b[39m    \n",
      "\u001b[90m 4\u001b[39m authorship_posfirst_position            1.30\u001b[90me\u001b[39m\u001b[31m-1\u001b[39m 0.009\u001b[4m8\u001b[24m\u001b[4m2\u001b[24m      13.2   7.86\u001b[90me\u001b[39m\u001b[31m- 40\u001b[39m\n",
      "\u001b[90m 5\u001b[39m authorship_posmiddle_position           3.46\u001b[90me\u001b[39m\u001b[31m-1\u001b[39m 0.007\u001b[4m4\u001b[24m\u001b[4m8\u001b[24m      46.3   0   \u001b[90m \u001b[39m    \n",
      "\u001b[90m 6\u001b[39m authorship_possolo_author              -\u001b[31m1\u001b[39m\u001b[31m.\u001b[39m\u001b[31m74\u001b[39m\u001b[90me\u001b[39m\u001b[31m-1\u001b[39m 0.019\u001b[4m6\u001b[24m       -\u001b[31m8\u001b[39m\u001b[31m.\u001b[39m\u001b[31m88\u001b[39m  6.62\u001b[90me\u001b[39m\u001b[31m- 19\u001b[39m\n",
      "\u001b[90m 7\u001b[39m follower_cn_snapshot_log                9.76\u001b[90me\u001b[39m\u001b[31m-2\u001b[39m 0.001\u001b[4m5\u001b[24m\u001b[4m5\u001b[24m      63.1   0   \u001b[90m \u001b[39m    \n",
      "\u001b[90m 8\u001b[39m author_pub_count_cate                  -\u001b[31m1\u001b[39m\u001b[31m.\u001b[39m\u001b[31m0\u001b[39m\u001b[31m5\u001b[39m\u001b[90me\u001b[39m\u001b[31m-1\u001b[39m 0.003\u001b[4m1\u001b[24m\u001b[4m4\u001b[24m     -\u001b[31m33\u001b[39m\u001b[31m.\u001b[39m\u001b[31m5\u001b[39m   1.21\u001b[90me\u001b[39m\u001b[31m-245\u001b[39m\n",
      "\u001b[90m 9\u001b[39m affiliation_rank_cate                  -\u001b[31m1\u001b[39m\u001b[31m.\u001b[39m\u001b[31m55\u001b[39m\u001b[90me\u001b[39m\u001b[31m-2\u001b[39m 0.001\u001b[4m1\u001b[24m\u001b[4m3\u001b[24m     -\u001b[31m13\u001b[39m\u001b[31m.\u001b[39m\u001b[31m8\u001b[39m   2.11\u001b[90me\u001b[39m\u001b[31m- 43\u001b[39m\n",
      "\u001b[90m10\u001b[39m affiliation_cateinternational           8.31\u001b[90me\u001b[39m\u001b[31m-2\u001b[39m 0.006\u001b[4m5\u001b[24m\u001b[4m0\u001b[24m      12.8   1.94\u001b[90me\u001b[39m\u001b[31m- 37\u001b[39m\n",
      "\u001b[90m11\u001b[39m num_authors                             4.82\u001b[90me\u001b[39m\u001b[31m-4\u001b[39m 0.000\u001b[4m0\u001b[24m\u001b[4m2\u001b[24m\u001b[4m2\u001b[24m4    21.5   1.09\u001b[90me\u001b[39m\u001b[31m-102\u001b[39m\n",
      "\u001b[90m12\u001b[39m journal_impact                          6.90\u001b[90me\u001b[39m\u001b[31m-2\u001b[39m 0.000\u001b[4m4\u001b[24m\u001b[4m0\u001b[24m\u001b[4m0\u001b[24m    172.    0   \u001b[90m \u001b[39m    \n",
      "\u001b[90m13\u001b[39m author_citation_log                     5.48\u001b[90me\u001b[39m\u001b[31m-2\u001b[39m 0.001\u001b[4m8\u001b[24m\u001b[4m3\u001b[24m      29.9   4.68\u001b[90me\u001b[39m\u001b[31m-197\u001b[39m\n",
      "\u001b[90m14\u001b[39m Social_Sciences                        -\u001b[31m1\u001b[39m\u001b[31m.\u001b[39m\u001b[31m00\u001b[39m\u001b[90me\u001b[39m\u001b[31m-1\u001b[39m 0.013\u001b[4m5\u001b[24m       -\u001b[31m7\u001b[39m\u001b[31m.\u001b[39m\u001b[31m45\u001b[39m  9.40\u001b[90me\u001b[39m\u001b[31m- 14\u001b[39m\n",
      "\u001b[90m15\u001b[39m Materials_Science                      -\u001b[31m4\u001b[39m\u001b[31m.\u001b[39m\u001b[31m78\u001b[39m\u001b[90me\u001b[39m\u001b[31m-1\u001b[39m 0.024\u001b[4m7\u001b[24m      -\u001b[31m19\u001b[39m\u001b[31m.\u001b[39m\u001b[31m3\u001b[39m   2.08\u001b[90me\u001b[39m\u001b[31m- 83\u001b[39m\n",
      "\u001b[90m16\u001b[39m Engineering                            -\u001b[31m3\u001b[39m\u001b[31m.\u001b[39m\u001b[31m40\u001b[39m\u001b[90me\u001b[39m\u001b[31m-1\u001b[39m 0.020\u001b[4m8\u001b[24m      -\u001b[31m16\u001b[39m\u001b[31m.\u001b[39m\u001b[31m3\u001b[39m   5.15\u001b[90me\u001b[39m\u001b[31m- 60\u001b[39m\n",
      "\u001b[90m17\u001b[39m Chemistry                              -\u001b[31m9\u001b[39m\u001b[31m.\u001b[39m\u001b[31m84\u001b[39m\u001b[90me\u001b[39m\u001b[31m-1\u001b[39m 0.018\u001b[4m0\u001b[24m      -\u001b[31m54\u001b[39m\u001b[31m.\u001b[39m\u001b[31m8\u001b[39m   0   \u001b[90m \u001b[39m    \n",
      "\u001b[90m18\u001b[39m Biochemistry__Genetics_and_Molecular_… -\u001b[31m1\u001b[39m\u001b[31m.\u001b[39m\u001b[31m27\u001b[39m\u001b[90me\u001b[39m\u001b[31m-1\u001b[39m 0.008\u001b[4m6\u001b[24m\u001b[4m3\u001b[24m     -\u001b[31m14\u001b[39m\u001b[31m.\u001b[39m\u001b[31m7\u001b[39m   8.69\u001b[90me\u001b[39m\u001b[31m- 49\u001b[39m\n",
      "\u001b[90m19\u001b[39m Medicine                               -\u001b[31m9\u001b[39m\u001b[31m.\u001b[39m\u001b[31m93\u001b[39m\u001b[90me\u001b[39m\u001b[31m-2\u001b[39m 0.006\u001b[4m8\u001b[24m\u001b[4m7\u001b[24m     -\u001b[31m14\u001b[39m\u001b[31m.\u001b[39m\u001b[31m5\u001b[39m   2.03\u001b[90me\u001b[39m\u001b[31m- 47\u001b[39m\n",
      "\u001b[90m20\u001b[39m Nursing                                 1.57\u001b[90me\u001b[39m\u001b[31m-1\u001b[39m 0.019\u001b[4m2\u001b[24m        8.14  4.04\u001b[90me\u001b[39m\u001b[31m- 16\u001b[39m\n",
      "\u001b[90m21\u001b[39m Agricultural_and_Biological_Sciences    2.25\u001b[90me\u001b[39m\u001b[31m-1\u001b[39m 0.010\u001b[4m6\u001b[24m       21.2   1.70\u001b[90me\u001b[39m\u001b[31m- 99\u001b[39m\n",
      "\u001b[90m22\u001b[39m Pharmacology__Toxicology_and_Pharmace… -\u001b[31m4\u001b[39m\u001b[31m.\u001b[39m\u001b[31m20\u001b[39m\u001b[90me\u001b[39m\u001b[31m-1\u001b[39m 0.021\u001b[4m1\u001b[24m      -\u001b[31m19\u001b[39m\u001b[31m.\u001b[39m\u001b[31m9\u001b[39m   4.91\u001b[90me\u001b[39m\u001b[31m- 88\u001b[39m\n",
      "\u001b[90m23\u001b[39m Neuroscience                            1.31\u001b[90me\u001b[39m\u001b[31m-2\u001b[39m 0.014\u001b[4m2\u001b[24m        0.923 3.56\u001b[90me\u001b[39m\u001b[31m-  1\u001b[39m\n",
      "\u001b[90m24\u001b[39m Business__Management_and_Accounting    -\u001b[31m4\u001b[39m\u001b[31m.\u001b[39m\u001b[31m00\u001b[39m\u001b[90me\u001b[39m\u001b[31m-1\u001b[39m 0.027\u001b[4m3\u001b[24m      -\u001b[31m14\u001b[39m\u001b[31m.\u001b[39m\u001b[31m7\u001b[39m   1.23\u001b[90me\u001b[39m\u001b[31m- 48\u001b[39m\n",
      "\u001b[90m25\u001b[39m Economics__Econometrics_and_Finance    -\u001b[31m1\u001b[39m\u001b[31m.\u001b[39m\u001b[31m12\u001b[39m\u001b[90me\u001b[39m\u001b[31m-1\u001b[39m 0.029\u001b[4m8\u001b[24m       -\u001b[31m3\u001b[39m\u001b[31m.\u001b[39m\u001b[31m77\u001b[39m  1.64\u001b[90me\u001b[39m\u001b[31m-  4\u001b[39m\n",
      "\u001b[90m26\u001b[39m Chemical_Engineering                    1.31\u001b[90me\u001b[39m\u001b[31m-1\u001b[39m 0.027\u001b[4m0\u001b[24m        4.84  1.30\u001b[90me\u001b[39m\u001b[31m-  6\u001b[39m\n",
      "\u001b[90m27\u001b[39m Physics_and_Astronomy                  -\u001b[31m6\u001b[39m\u001b[31m.\u001b[39m\u001b[31m51\u001b[39m\u001b[90me\u001b[39m\u001b[31m-1\u001b[39m 0.021\u001b[4m6\u001b[24m      -\u001b[31m30\u001b[39m\u001b[31m.\u001b[39m\u001b[31m2\u001b[39m   3.47\u001b[90me\u001b[39m\u001b[31m-200\u001b[39m\n",
      "\u001b[90m28\u001b[39m Computer_Science                       -\u001b[31m3\u001b[39m\u001b[31m.\u001b[39m\u001b[31m0\u001b[39m\u001b[31m8\u001b[39m\u001b[90me\u001b[39m\u001b[31m-1\u001b[39m 0.022\u001b[4m0\u001b[24m      -\u001b[31m14\u001b[39m\u001b[31m.\u001b[39m\u001b[31m0\u001b[39m   1.23\u001b[90me\u001b[39m\u001b[31m- 44\u001b[39m\n",
      "\u001b[90m29\u001b[39m Decision_Sciences                      -\u001b[31m3\u001b[39m\u001b[31m.\u001b[39m\u001b[31m75\u001b[39m\u001b[90me\u001b[39m\u001b[31m-1\u001b[39m 0.044\u001b[4m9\u001b[24m       -\u001b[31m8\u001b[39m\u001b[31m.\u001b[39m\u001b[31m35\u001b[39m  6.74\u001b[90me\u001b[39m\u001b[31m- 17\u001b[39m\n",
      "\u001b[90m30\u001b[39m Health_Professions                      6.85\u001b[90me\u001b[39m\u001b[31m-1\u001b[39m 0.021\u001b[4m6\u001b[24m       31.6   8.43\u001b[90me\u001b[39m\u001b[31m-220\u001b[39m\n",
      "\u001b[90m31\u001b[39m Psychology                             -\u001b[31m1\u001b[39m\u001b[31m.\u001b[39m\u001b[31m45\u001b[39m\u001b[90me\u001b[39m\u001b[31m-1\u001b[39m 0.019\u001b[4m3\u001b[24m       -\u001b[31m7\u001b[39m\u001b[31m.\u001b[39m\u001b[31m50\u001b[39m  6.46\u001b[90me\u001b[39m\u001b[31m- 14\u001b[39m\n",
      "\u001b[90m32\u001b[39m Immunology_and_Microbiology            -\u001b[31m2\u001b[39m\u001b[31m.\u001b[39m\u001b[31m43\u001b[39m\u001b[90me\u001b[39m\u001b[31m-2\u001b[39m 0.016\u001b[4m9\u001b[24m       -\u001b[31m1\u001b[39m\u001b[31m.\u001b[39m\u001b[31m44\u001b[39m  1.50\u001b[90me\u001b[39m\u001b[31m-  1\u001b[39m\n",
      "\u001b[90m33\u001b[39m Dentistry                              -\u001b[31m1\u001b[39m\u001b[31m.\u001b[39m\u001b[31m19\u001b[39m\u001b[90me\u001b[39m+0 0.078\u001b[4m6\u001b[24m      -\u001b[31m15\u001b[39m\u001b[31m.\u001b[39m\u001b[31m1\u001b[39m   8.77\u001b[90me\u001b[39m\u001b[31m- 52\u001b[39m\n",
      "\u001b[90m34\u001b[39m Earth_and_Planetary_Sciences           -\u001b[31m3\u001b[39m\u001b[31m.\u001b[39m\u001b[31m58\u001b[39m\u001b[90me\u001b[39m\u001b[31m-1\u001b[39m 0.016\u001b[4m9\u001b[24m      -\u001b[31m21\u001b[39m\u001b[31m.\u001b[39m\u001b[31m2\u001b[39m   1.52\u001b[90me\u001b[39m\u001b[31m- 99\u001b[39m\n",
      "\u001b[90m35\u001b[39m Environmental_Science                  -\u001b[31m1\u001b[39m\u001b[31m.\u001b[39m\u001b[31m12\u001b[39m\u001b[90me\u001b[39m\u001b[31m-1\u001b[39m 0.012\u001b[4m6\u001b[24m       -\u001b[31m8\u001b[39m\u001b[31m.\u001b[39m\u001b[31m94\u001b[39m  4.04\u001b[90me\u001b[39m\u001b[31m- 19\u001b[39m\n",
      "\u001b[90m36\u001b[39m Mathematics                             1.10\u001b[90me\u001b[39m\u001b[31m-1\u001b[39m 0.029\u001b[4m8\u001b[24m        3.67  2.40\u001b[90me\u001b[39m\u001b[31m-  4\u001b[39m\n",
      "\u001b[90m37\u001b[39m Arts_and_Humanities                    -\u001b[31m3\u001b[39m\u001b[31m.\u001b[39m\u001b[31m14\u001b[39m\u001b[90me\u001b[39m\u001b[31m-2\u001b[39m 0.037\u001b[4m7\u001b[24m       -\u001b[31m0\u001b[39m\u001b[31m.\u001b[39m\u001b[31m833\u001b[39m 4.05\u001b[90me\u001b[39m\u001b[31m-  1\u001b[39m\n",
      "\u001b[90m38\u001b[39m Energy                                 -\u001b[31m8\u001b[39m\u001b[31m.\u001b[39m\u001b[31m33\u001b[39m\u001b[90me\u001b[39m\u001b[31m-1\u001b[39m 0.037\u001b[4m2\u001b[24m      -\u001b[31m22\u001b[39m\u001b[31m.\u001b[39m\u001b[31m4\u001b[39m   4.39\u001b[90me\u001b[39m\u001b[31m-111\u001b[39m\n",
      "\u001b[90m39\u001b[39m Veterinary                             -\u001b[31m6\u001b[39m\u001b[31m.\u001b[39m\u001b[31m65\u001b[39m\u001b[90me\u001b[39m\u001b[31m-1\u001b[39m 0.047\u001b[4m1\u001b[24m      -\u001b[31m14\u001b[39m\u001b[31m.\u001b[39m\u001b[31m1\u001b[39m   3.08\u001b[90me\u001b[39m\u001b[31m- 45\u001b[39m\n",
      "\u001b[90m40\u001b[39m General                                 4.67\u001b[90me\u001b[39m\u001b[31m-1\u001b[39m 0.021\u001b[4m7\u001b[24m       21.5   3.06\u001b[90me\u001b[39m\u001b[31m-102\u001b[39m\n",
      "\u001b[90m41\u001b[39m genderFemale:self_promotionTrue        -\u001b[31m6\u001b[39m\u001b[31m.\u001b[39m\u001b[31m56\u001b[39m\u001b[90me\u001b[39m\u001b[31m-2\u001b[39m 0.012\u001b[4m5\u001b[24m       -\u001b[31m5\u001b[39m\u001b[31m.\u001b[39m\u001b[31m24\u001b[39m  1.59\u001b[90me\u001b[39m\u001b[31m-  7\u001b[39m\n"
     ]
    }
   ],
   "source": [
    "for (year in c('2013', '2014', '2015', '2016', '2017', '2018')){\n",
    "    base_str <- \"total_num_tweets ~ 1 + gender * self_promotion + authorship_pos + follower_cn_snapshot_log + \\\n",
    "        author_pub_count_cate + affiliation_rank_cate + affiliation_cate + num_authors + journal_impact + \\\n",
    "        author_citation_log\"\n",
    "    equation <- as.formula(paste(base_str, keywords, sep = \" \"))\n",
    "    m_yes <- glm.nb(equation, data = mydata[(mydata$is_active_on_twitter == \"True\") & (mydata$pub_year == year), ])\n",
    "    print(tidy(m_yes))\n",
    "    MEs = ggemmeans(m_yes, terms=c('self_promotion', 'gender'), typical='median')\n",
    "    write.csv(MEs, paste(data_root, \"gender_return_on_self_promotion_\", year, \"_active_sub.csv\", sep = ''), row.names=FALSE)\n",
    "}"
   ]
  },
  {
   "cell_type": "markdown",
   "id": "a85b62af",
   "metadata": {},
   "source": [
    "#### DV = no. retweets / likes (self-promo obs)"
   ]
  },
  {
   "cell_type": "code",
   "execution_count": 54,
   "id": "359ceeda",
   "metadata": {
    "scrolled": true
   },
   "outputs": [
    {
     "data": {
      "text/html": [
       "480622"
      ],
      "text/latex": [
       "480622"
      ],
      "text/markdown": [
       "480622"
      ],
      "text/plain": [
       "[1] 480622"
      ]
     },
     "metadata": {},
     "output_type": "display_data"
    }
   ],
   "source": [
    "nrow(mydata[mydata$self_promotion == \"True\", ])"
   ]
  },
  {
   "cell_type": "code",
   "execution_count": 72,
   "id": "914bc402",
   "metadata": {
    "scrolled": true
   },
   "outputs": [
    {
     "data": {
      "text/html": [
       "263945"
      ],
      "text/latex": [
       "263945"
      ],
      "text/markdown": [
       "263945"
      ],
      "text/plain": [
       "[1] 263945"
      ]
     },
     "metadata": {},
     "output_type": "display_data"
    }
   ],
   "source": [
    "# Ideally, self_promo == True should be a subset of active obs. \n",
    "# But the two variables are coded differently - the latter is based on their matching.\n",
    "nrow(mydata[(mydata$self_promotion == \"True\") & (mydata$is_active_on_twitter == \"True\"), ])"
   ]
  },
  {
   "cell_type": "code",
   "execution_count": 71,
   "id": "a7c9047e",
   "metadata": {},
   "outputs": [
    {
     "data": {
      "text/plain": [
       "   Min. 1st Qu.  Median    Mean 3rd Qu.    Max. \n",
       "   -Inf    -Inf   7.358    -Inf  10.177  20.927 "
      ]
     },
     "metadata": {},
     "output_type": "display_data"
    }
   ],
   "source": [
    "summary(mydata[mydata$self_promotion == \"True\", c('follower_cn_snapshot_log')])"
   ]
  },
  {
   "cell_type": "code",
   "execution_count": 69,
   "id": "ba4e537f",
   "metadata": {},
   "outputs": [
    {
     "data": {
      "text/plain": [
       "    Min.  1st Qu.   Median     Mean  3rd Qu.     Max. \n",
       "   0.000    0.000    2.000    6.968    6.000 9892.000 "
      ]
     },
     "metadata": {},
     "output_type": "display_data"
    }
   ],
   "source": [
    "summary(mydata[mydata$self_promotion == \"True\", c('matched_tid_retweet_cn')])"
   ]
  },
  {
   "cell_type": "code",
   "execution_count": 75,
   "id": "c3dae6a9",
   "metadata": {
    "scrolled": true
   },
   "outputs": [
    {
     "data": {
      "text/plain": [
       "   Min. 1st Qu.  Median    Mean 3rd Qu.    Max. \n",
       "  0.000   8.344   9.767   9.676  11.102  21.533 "
      ]
     },
     "metadata": {},
     "output_type": "display_data"
    }
   ],
   "source": [
    "summary(mydata[mydata$self_promotion == \"True\", c('matched_tid_follower_cn_log')])"
   ]
  },
  {
   "cell_type": "code",
   "execution_count": 76,
   "id": "30178187",
   "metadata": {},
   "outputs": [],
   "source": [
    "base_str <- \"matched_tid_retweet_cn ~ 1 + gender + authorship_pos + matched_tid_follower_cn_log + \\\n",
    "        author_pub_count_cate + affiliation_rank_cate + affiliation_cate + num_authors + journal_impact + \\\n",
    "        author_citation_log + pub_year\"\n",
    "equation <- as.formula(paste(base_str, keywords, sep = \" \"))\n",
    "m_yes <- glm.nb(equation, data = mydata[mydata$self_promotion == \"True\", ])"
   ]
  },
  {
   "cell_type": "code",
   "execution_count": 77,
   "id": "19e81585",
   "metadata": {
    "scrolled": true
   },
   "outputs": [
    {
     "data": {
      "text/html": [
       "<table class=\"dataframe\">\n",
       "<caption>A tibble: 44 × 5</caption>\n",
       "<thead>\n",
       "\t<tr><th scope=col>term</th><th scope=col>estimate</th><th scope=col>std.error</th><th scope=col>statistic</th><th scope=col>p.value</th></tr>\n",
       "\t<tr><th scope=col>&lt;chr&gt;</th><th scope=col>&lt;dbl&gt;</th><th scope=col>&lt;dbl&gt;</th><th scope=col>&lt;dbl&gt;</th><th scope=col>&lt;dbl&gt;</th></tr>\n",
       "</thead>\n",
       "<tbody>\n",
       "\t<tr><td>(Intercept)                                 </td><td>-0.0813030013</td><td>1.744444e-02</td><td> -4.6606840</td><td> 3.151603e-06</td></tr>\n",
       "\t<tr><td>genderFemale                                </td><td> 0.0860748021</td><td>5.166126e-03</td><td> 16.6613831</td><td> 2.501716e-62</td></tr>\n",
       "\t<tr><td>authorship_posfirst_position                </td><td>-0.0438423046</td><td>6.996887e-03</td><td> -6.2659726</td><td> 3.705056e-10</td></tr>\n",
       "\t<tr><td>authorship_posmiddle_position               </td><td> 0.2626570015</td><td>6.020518e-03</td><td> 43.6269764</td><td> 0.000000e+00</td></tr>\n",
       "\t<tr><td>authorship_possolo_author                   </td><td>-0.0838597125</td><td>1.261229e-02</td><td> -6.6490475</td><td> 2.949958e-11</td></tr>\n",
       "\t<tr><td>matched_tid_follower_cn_log                 </td><td> 0.0647284856</td><td>1.078771e-03</td><td> 60.0020650</td><td> 0.000000e+00</td></tr>\n",
       "\t<tr><td>author_pub_count_cate                       </td><td>-0.0328771556</td><td>2.258674e-03</td><td>-14.5559535</td><td> 5.353429e-48</td></tr>\n",
       "\t<tr><td>affiliation_rank_cate                       </td><td>-0.0071030045</td><td>8.420734e-04</td><td> -8.4351368</td><td> 3.308156e-17</td></tr>\n",
       "\t<tr><td>affiliation_cateinternational               </td><td>-0.0006082174</td><td>5.009095e-03</td><td> -0.1214226</td><td> 9.033563e-01</td></tr>\n",
       "\t<tr><td>num_authors                                 </td><td> 0.0008936561</td><td>2.562804e-05</td><td> 34.8702553</td><td>2.100206e-266</td></tr>\n",
       "\t<tr><td>journal_impact                              </td><td> 0.0237377091</td><td>2.414903e-04</td><td> 98.2967468</td><td> 0.000000e+00</td></tr>\n",
       "\t<tr><td>author_citation_log                         </td><td> 0.0293824699</td><td>1.346260e-03</td><td> 21.8252557</td><td>1.335886e-105</td></tr>\n",
       "\t<tr><td>pub_year2014                                </td><td> 0.2480860145</td><td>1.303671e-02</td><td> 19.0297951</td><td> 9.662978e-81</td></tr>\n",
       "\t<tr><td>pub_year2015                                </td><td> 0.5353886632</td><td>1.209512e-02</td><td> 44.2648390</td><td> 0.000000e+00</td></tr>\n",
       "\t<tr><td>pub_year2016                                </td><td> 0.7945081371</td><td>1.165170e-02</td><td> 68.1881880</td><td> 0.000000e+00</td></tr>\n",
       "\t<tr><td>pub_year2017                                </td><td> 0.9966900902</td><td>1.130302e-02</td><td> 88.1790801</td><td> 0.000000e+00</td></tr>\n",
       "\t<tr><td>pub_year2018                                </td><td> 1.2985470894</td><td>1.106293e-02</td><td>117.3782042</td><td> 0.000000e+00</td></tr>\n",
       "\t<tr><td>Social_Sciences                             </td><td>-0.2097605023</td><td>9.927892e-03</td><td>-21.1284027</td><td> 4.360504e-99</td></tr>\n",
       "\t<tr><td>Materials_Science                           </td><td>-0.6087868008</td><td>2.137296e-02</td><td>-28.4839682</td><td>1.850699e-178</td></tr>\n",
       "\t<tr><td>Engineering                                 </td><td> 0.0848329822</td><td>1.683806e-02</td><td>  5.0381678</td><td> 4.700092e-07</td></tr>\n",
       "\t<tr><td>Chemistry                                   </td><td>-0.6287922932</td><td>1.579949e-02</td><td>-39.7982605</td><td> 0.000000e+00</td></tr>\n",
       "\t<tr><td>Biochemistry__Genetics_and_Molecular_Biology</td><td> 0.1499604343</td><td>6.747953e-03</td><td> 22.2231009</td><td>2.053879e-109</td></tr>\n",
       "\t<tr><td>Medicine                                    </td><td>-0.0684755781</td><td>5.397673e-03</td><td>-12.6861285</td><td> 7.058971e-37</td></tr>\n",
       "\t<tr><td>Nursing                                     </td><td> 0.0259323687</td><td>1.574125e-02</td><td>  1.6474148</td><td> 9.947282e-02</td></tr>\n",
       "\t<tr><td>Agricultural_and_Biological_Sciences        </td><td> 0.0869749138</td><td>7.534373e-03</td><td> 11.5437496</td><td> 7.938755e-31</td></tr>\n",
       "\t<tr><td>Pharmacology__Toxicology_and_Pharmaceutics  </td><td>-0.2241250877</td><td>1.858309e-02</td><td>-12.0607009</td><td> 1.703272e-33</td></tr>\n",
       "\t<tr><td>Neuroscience                                </td><td> 0.0344299244</td><td>1.143189e-02</td><td>  3.0117432</td><td> 2.597523e-03</td></tr>\n",
       "\t<tr><td>Business__Management_and_Accounting         </td><td> 0.0819907677</td><td>1.995739e-02</td><td>  4.1082912</td><td> 3.985974e-05</td></tr>\n",
       "\t<tr><td>Economics__Econometrics_and_Finance         </td><td> 0.1904955997</td><td>2.127741e-02</td><td>  8.9529504</td><td> 3.461053e-19</td></tr>\n",
       "\t<tr><td>Chemical_Engineering                        </td><td> 0.4204814616</td><td>2.210157e-02</td><td> 19.0249631</td><td> 1.059619e-80</td></tr>\n",
       "\t<tr><td>Physics_and_Astronomy                       </td><td>-0.4694252965</td><td>1.766036e-02</td><td>-26.5807344</td><td>1.133805e-155</td></tr>\n",
       "\t<tr><td>Computer_Science                            </td><td>-0.1319531366</td><td>1.660228e-02</td><td> -7.9478928</td><td> 1.897107e-15</td></tr>\n",
       "\t<tr><td>Decision_Sciences                           </td><td>-0.3244067055</td><td>3.636643e-02</td><td> -8.9204992</td><td> 4.641910e-19</td></tr>\n",
       "\t<tr><td>Health_Professions                          </td><td> 0.5595399901</td><td>1.558631e-02</td><td> 35.8994447</td><td>3.116292e-282</td></tr>\n",
       "\t<tr><td>Psychology                                  </td><td> 0.0408750466</td><td>1.523260e-02</td><td>  2.6833931</td><td> 7.287926e-03</td></tr>\n",
       "\t<tr><td>Immunology_and_Microbiology                 </td><td>-0.1775375610</td><td>1.280695e-02</td><td>-13.8625902</td><td> 1.067515e-43</td></tr>\n",
       "\t<tr><td>Dentistry                                   </td><td>-0.9589954231</td><td>7.987112e-02</td><td>-12.0067858</td><td> 3.273211e-33</td></tr>\n",
       "\t<tr><td>Earth_and_Planetary_Sciences                </td><td>-0.1107685808</td><td>1.364959e-02</td><td> -8.1151559</td><td> 4.851616e-16</td></tr>\n",
       "\t<tr><td>Environmental_Science                       </td><td>-0.0502470995</td><td>9.721349e-03</td><td> -5.1687375</td><td> 2.356807e-07</td></tr>\n",
       "\t<tr><td>Mathematics                                 </td><td>-0.1271212059</td><td>2.250312e-02</td><td> -5.6490476</td><td> 1.613392e-08</td></tr>\n",
       "\t<tr><td>Arts_and_Humanities                         </td><td>-0.0365913008</td><td>2.608312e-02</td><td> -1.4028726</td><td> 1.606548e-01</td></tr>\n",
       "\t<tr><td>Energy                                      </td><td>-0.7750253657</td><td>2.898220e-02</td><td>-26.7414229</td><td>1.553658e-157</td></tr>\n",
       "\t<tr><td>Veterinary                                  </td><td> 0.0318946390</td><td>4.097399e-02</td><td>  0.7784119</td><td> 4.363262e-01</td></tr>\n",
       "\t<tr><td>General                                     </td><td> 0.3970890746</td><td>1.232646e-02</td><td> 32.2143748</td><td>1.110353e-227</td></tr>\n",
       "</tbody>\n",
       "</table>\n"
      ],
      "text/latex": [
       "A tibble: 44 × 5\n",
       "\\begin{tabular}{lllll}\n",
       " term & estimate & std.error & statistic & p.value\\\\\n",
       " <chr> & <dbl> & <dbl> & <dbl> & <dbl>\\\\\n",
       "\\hline\n",
       "\t (Intercept)                                  & -0.0813030013 & 1.744444e-02 &  -4.6606840 &  3.151603e-06\\\\\n",
       "\t genderFemale                                 &  0.0860748021 & 5.166126e-03 &  16.6613831 &  2.501716e-62\\\\\n",
       "\t authorship\\_posfirst\\_position                 & -0.0438423046 & 6.996887e-03 &  -6.2659726 &  3.705056e-10\\\\\n",
       "\t authorship\\_posmiddle\\_position                &  0.2626570015 & 6.020518e-03 &  43.6269764 &  0.000000e+00\\\\\n",
       "\t authorship\\_possolo\\_author                    & -0.0838597125 & 1.261229e-02 &  -6.6490475 &  2.949958e-11\\\\\n",
       "\t matched\\_tid\\_follower\\_cn\\_log                  &  0.0647284856 & 1.078771e-03 &  60.0020650 &  0.000000e+00\\\\\n",
       "\t author\\_pub\\_count\\_cate                        & -0.0328771556 & 2.258674e-03 & -14.5559535 &  5.353429e-48\\\\\n",
       "\t affiliation\\_rank\\_cate                        & -0.0071030045 & 8.420734e-04 &  -8.4351368 &  3.308156e-17\\\\\n",
       "\t affiliation\\_cateinternational                & -0.0006082174 & 5.009095e-03 &  -0.1214226 &  9.033563e-01\\\\\n",
       "\t num\\_authors                                  &  0.0008936561 & 2.562804e-05 &  34.8702553 & 2.100206e-266\\\\\n",
       "\t journal\\_impact                               &  0.0237377091 & 2.414903e-04 &  98.2967468 &  0.000000e+00\\\\\n",
       "\t author\\_citation\\_log                          &  0.0293824699 & 1.346260e-03 &  21.8252557 & 1.335886e-105\\\\\n",
       "\t pub\\_year2014                                 &  0.2480860145 & 1.303671e-02 &  19.0297951 &  9.662978e-81\\\\\n",
       "\t pub\\_year2015                                 &  0.5353886632 & 1.209512e-02 &  44.2648390 &  0.000000e+00\\\\\n",
       "\t pub\\_year2016                                 &  0.7945081371 & 1.165170e-02 &  68.1881880 &  0.000000e+00\\\\\n",
       "\t pub\\_year2017                                 &  0.9966900902 & 1.130302e-02 &  88.1790801 &  0.000000e+00\\\\\n",
       "\t pub\\_year2018                                 &  1.2985470894 & 1.106293e-02 & 117.3782042 &  0.000000e+00\\\\\n",
       "\t Social\\_Sciences                              & -0.2097605023 & 9.927892e-03 & -21.1284027 &  4.360504e-99\\\\\n",
       "\t Materials\\_Science                            & -0.6087868008 & 2.137296e-02 & -28.4839682 & 1.850699e-178\\\\\n",
       "\t Engineering                                  &  0.0848329822 & 1.683806e-02 &   5.0381678 &  4.700092e-07\\\\\n",
       "\t Chemistry                                    & -0.6287922932 & 1.579949e-02 & -39.7982605 &  0.000000e+00\\\\\n",
       "\t Biochemistry\\_\\_Genetics\\_and\\_Molecular\\_Biology &  0.1499604343 & 6.747953e-03 &  22.2231009 & 2.053879e-109\\\\\n",
       "\t Medicine                                     & -0.0684755781 & 5.397673e-03 & -12.6861285 &  7.058971e-37\\\\\n",
       "\t Nursing                                      &  0.0259323687 & 1.574125e-02 &   1.6474148 &  9.947282e-02\\\\\n",
       "\t Agricultural\\_and\\_Biological\\_Sciences         &  0.0869749138 & 7.534373e-03 &  11.5437496 &  7.938755e-31\\\\\n",
       "\t Pharmacology\\_\\_Toxicology\\_and\\_Pharmaceutics   & -0.2241250877 & 1.858309e-02 & -12.0607009 &  1.703272e-33\\\\\n",
       "\t Neuroscience                                 &  0.0344299244 & 1.143189e-02 &   3.0117432 &  2.597523e-03\\\\\n",
       "\t Business\\_\\_Management\\_and\\_Accounting          &  0.0819907677 & 1.995739e-02 &   4.1082912 &  3.985974e-05\\\\\n",
       "\t Economics\\_\\_Econometrics\\_and\\_Finance          &  0.1904955997 & 2.127741e-02 &   8.9529504 &  3.461053e-19\\\\\n",
       "\t Chemical\\_Engineering                         &  0.4204814616 & 2.210157e-02 &  19.0249631 &  1.059619e-80\\\\\n",
       "\t Physics\\_and\\_Astronomy                        & -0.4694252965 & 1.766036e-02 & -26.5807344 & 1.133805e-155\\\\\n",
       "\t Computer\\_Science                             & -0.1319531366 & 1.660228e-02 &  -7.9478928 &  1.897107e-15\\\\\n",
       "\t Decision\\_Sciences                            & -0.3244067055 & 3.636643e-02 &  -8.9204992 &  4.641910e-19\\\\\n",
       "\t Health\\_Professions                           &  0.5595399901 & 1.558631e-02 &  35.8994447 & 3.116292e-282\\\\\n",
       "\t Psychology                                   &  0.0408750466 & 1.523260e-02 &   2.6833931 &  7.287926e-03\\\\\n",
       "\t Immunology\\_and\\_Microbiology                  & -0.1775375610 & 1.280695e-02 & -13.8625902 &  1.067515e-43\\\\\n",
       "\t Dentistry                                    & -0.9589954231 & 7.987112e-02 & -12.0067858 &  3.273211e-33\\\\\n",
       "\t Earth\\_and\\_Planetary\\_Sciences                 & -0.1107685808 & 1.364959e-02 &  -8.1151559 &  4.851616e-16\\\\\n",
       "\t Environmental\\_Science                        & -0.0502470995 & 9.721349e-03 &  -5.1687375 &  2.356807e-07\\\\\n",
       "\t Mathematics                                  & -0.1271212059 & 2.250312e-02 &  -5.6490476 &  1.613392e-08\\\\\n",
       "\t Arts\\_and\\_Humanities                          & -0.0365913008 & 2.608312e-02 &  -1.4028726 &  1.606548e-01\\\\\n",
       "\t Energy                                       & -0.7750253657 & 2.898220e-02 & -26.7414229 & 1.553658e-157\\\\\n",
       "\t Veterinary                                   &  0.0318946390 & 4.097399e-02 &   0.7784119 &  4.363262e-01\\\\\n",
       "\t General                                      &  0.3970890746 & 1.232646e-02 &  32.2143748 & 1.110353e-227\\\\\n",
       "\\end{tabular}\n"
      ],
      "text/markdown": [
       "\n",
       "A tibble: 44 × 5\n",
       "\n",
       "| term &lt;chr&gt; | estimate &lt;dbl&gt; | std.error &lt;dbl&gt; | statistic &lt;dbl&gt; | p.value &lt;dbl&gt; |\n",
       "|---|---|---|---|---|\n",
       "| (Intercept)                                  | -0.0813030013 | 1.744444e-02 |  -4.6606840 |  3.151603e-06 |\n",
       "| genderFemale                                 |  0.0860748021 | 5.166126e-03 |  16.6613831 |  2.501716e-62 |\n",
       "| authorship_posfirst_position                 | -0.0438423046 | 6.996887e-03 |  -6.2659726 |  3.705056e-10 |\n",
       "| authorship_posmiddle_position                |  0.2626570015 | 6.020518e-03 |  43.6269764 |  0.000000e+00 |\n",
       "| authorship_possolo_author                    | -0.0838597125 | 1.261229e-02 |  -6.6490475 |  2.949958e-11 |\n",
       "| matched_tid_follower_cn_log                  |  0.0647284856 | 1.078771e-03 |  60.0020650 |  0.000000e+00 |\n",
       "| author_pub_count_cate                        | -0.0328771556 | 2.258674e-03 | -14.5559535 |  5.353429e-48 |\n",
       "| affiliation_rank_cate                        | -0.0071030045 | 8.420734e-04 |  -8.4351368 |  3.308156e-17 |\n",
       "| affiliation_cateinternational                | -0.0006082174 | 5.009095e-03 |  -0.1214226 |  9.033563e-01 |\n",
       "| num_authors                                  |  0.0008936561 | 2.562804e-05 |  34.8702553 | 2.100206e-266 |\n",
       "| journal_impact                               |  0.0237377091 | 2.414903e-04 |  98.2967468 |  0.000000e+00 |\n",
       "| author_citation_log                          |  0.0293824699 | 1.346260e-03 |  21.8252557 | 1.335886e-105 |\n",
       "| pub_year2014                                 |  0.2480860145 | 1.303671e-02 |  19.0297951 |  9.662978e-81 |\n",
       "| pub_year2015                                 |  0.5353886632 | 1.209512e-02 |  44.2648390 |  0.000000e+00 |\n",
       "| pub_year2016                                 |  0.7945081371 | 1.165170e-02 |  68.1881880 |  0.000000e+00 |\n",
       "| pub_year2017                                 |  0.9966900902 | 1.130302e-02 |  88.1790801 |  0.000000e+00 |\n",
       "| pub_year2018                                 |  1.2985470894 | 1.106293e-02 | 117.3782042 |  0.000000e+00 |\n",
       "| Social_Sciences                              | -0.2097605023 | 9.927892e-03 | -21.1284027 |  4.360504e-99 |\n",
       "| Materials_Science                            | -0.6087868008 | 2.137296e-02 | -28.4839682 | 1.850699e-178 |\n",
       "| Engineering                                  |  0.0848329822 | 1.683806e-02 |   5.0381678 |  4.700092e-07 |\n",
       "| Chemistry                                    | -0.6287922932 | 1.579949e-02 | -39.7982605 |  0.000000e+00 |\n",
       "| Biochemistry__Genetics_and_Molecular_Biology |  0.1499604343 | 6.747953e-03 |  22.2231009 | 2.053879e-109 |\n",
       "| Medicine                                     | -0.0684755781 | 5.397673e-03 | -12.6861285 |  7.058971e-37 |\n",
       "| Nursing                                      |  0.0259323687 | 1.574125e-02 |   1.6474148 |  9.947282e-02 |\n",
       "| Agricultural_and_Biological_Sciences         |  0.0869749138 | 7.534373e-03 |  11.5437496 |  7.938755e-31 |\n",
       "| Pharmacology__Toxicology_and_Pharmaceutics   | -0.2241250877 | 1.858309e-02 | -12.0607009 |  1.703272e-33 |\n",
       "| Neuroscience                                 |  0.0344299244 | 1.143189e-02 |   3.0117432 |  2.597523e-03 |\n",
       "| Business__Management_and_Accounting          |  0.0819907677 | 1.995739e-02 |   4.1082912 |  3.985974e-05 |\n",
       "| Economics__Econometrics_and_Finance          |  0.1904955997 | 2.127741e-02 |   8.9529504 |  3.461053e-19 |\n",
       "| Chemical_Engineering                         |  0.4204814616 | 2.210157e-02 |  19.0249631 |  1.059619e-80 |\n",
       "| Physics_and_Astronomy                        | -0.4694252965 | 1.766036e-02 | -26.5807344 | 1.133805e-155 |\n",
       "| Computer_Science                             | -0.1319531366 | 1.660228e-02 |  -7.9478928 |  1.897107e-15 |\n",
       "| Decision_Sciences                            | -0.3244067055 | 3.636643e-02 |  -8.9204992 |  4.641910e-19 |\n",
       "| Health_Professions                           |  0.5595399901 | 1.558631e-02 |  35.8994447 | 3.116292e-282 |\n",
       "| Psychology                                   |  0.0408750466 | 1.523260e-02 |   2.6833931 |  7.287926e-03 |\n",
       "| Immunology_and_Microbiology                  | -0.1775375610 | 1.280695e-02 | -13.8625902 |  1.067515e-43 |\n",
       "| Dentistry                                    | -0.9589954231 | 7.987112e-02 | -12.0067858 |  3.273211e-33 |\n",
       "| Earth_and_Planetary_Sciences                 | -0.1107685808 | 1.364959e-02 |  -8.1151559 |  4.851616e-16 |\n",
       "| Environmental_Science                        | -0.0502470995 | 9.721349e-03 |  -5.1687375 |  2.356807e-07 |\n",
       "| Mathematics                                  | -0.1271212059 | 2.250312e-02 |  -5.6490476 |  1.613392e-08 |\n",
       "| Arts_and_Humanities                          | -0.0365913008 | 2.608312e-02 |  -1.4028726 |  1.606548e-01 |\n",
       "| Energy                                       | -0.7750253657 | 2.898220e-02 | -26.7414229 | 1.553658e-157 |\n",
       "| Veterinary                                   |  0.0318946390 | 4.097399e-02 |   0.7784119 |  4.363262e-01 |\n",
       "| General                                      |  0.3970890746 | 1.232646e-02 |  32.2143748 | 1.110353e-227 |\n",
       "\n"
      ],
      "text/plain": [
       "   term                                         estimate      std.error   \n",
       "1  (Intercept)                                  -0.0813030013 1.744444e-02\n",
       "2  genderFemale                                  0.0860748021 5.166126e-03\n",
       "3  authorship_posfirst_position                 -0.0438423046 6.996887e-03\n",
       "4  authorship_posmiddle_position                 0.2626570015 6.020518e-03\n",
       "5  authorship_possolo_author                    -0.0838597125 1.261229e-02\n",
       "6  matched_tid_follower_cn_log                   0.0647284856 1.078771e-03\n",
       "7  author_pub_count_cate                        -0.0328771556 2.258674e-03\n",
       "8  affiliation_rank_cate                        -0.0071030045 8.420734e-04\n",
       "9  affiliation_cateinternational                -0.0006082174 5.009095e-03\n",
       "10 num_authors                                   0.0008936561 2.562804e-05\n",
       "11 journal_impact                                0.0237377091 2.414903e-04\n",
       "12 author_citation_log                           0.0293824699 1.346260e-03\n",
       "13 pub_year2014                                  0.2480860145 1.303671e-02\n",
       "14 pub_year2015                                  0.5353886632 1.209512e-02\n",
       "15 pub_year2016                                  0.7945081371 1.165170e-02\n",
       "16 pub_year2017                                  0.9966900902 1.130302e-02\n",
       "17 pub_year2018                                  1.2985470894 1.106293e-02\n",
       "18 Social_Sciences                              -0.2097605023 9.927892e-03\n",
       "19 Materials_Science                            -0.6087868008 2.137296e-02\n",
       "20 Engineering                                   0.0848329822 1.683806e-02\n",
       "21 Chemistry                                    -0.6287922932 1.579949e-02\n",
       "22 Biochemistry__Genetics_and_Molecular_Biology  0.1499604343 6.747953e-03\n",
       "23 Medicine                                     -0.0684755781 5.397673e-03\n",
       "24 Nursing                                       0.0259323687 1.574125e-02\n",
       "25 Agricultural_and_Biological_Sciences          0.0869749138 7.534373e-03\n",
       "26 Pharmacology__Toxicology_and_Pharmaceutics   -0.2241250877 1.858309e-02\n",
       "27 Neuroscience                                  0.0344299244 1.143189e-02\n",
       "28 Business__Management_and_Accounting           0.0819907677 1.995739e-02\n",
       "29 Economics__Econometrics_and_Finance           0.1904955997 2.127741e-02\n",
       "30 Chemical_Engineering                          0.4204814616 2.210157e-02\n",
       "31 Physics_and_Astronomy                        -0.4694252965 1.766036e-02\n",
       "32 Computer_Science                             -0.1319531366 1.660228e-02\n",
       "33 Decision_Sciences                            -0.3244067055 3.636643e-02\n",
       "34 Health_Professions                            0.5595399901 1.558631e-02\n",
       "35 Psychology                                    0.0408750466 1.523260e-02\n",
       "36 Immunology_and_Microbiology                  -0.1775375610 1.280695e-02\n",
       "37 Dentistry                                    -0.9589954231 7.987112e-02\n",
       "38 Earth_and_Planetary_Sciences                 -0.1107685808 1.364959e-02\n",
       "39 Environmental_Science                        -0.0502470995 9.721349e-03\n",
       "40 Mathematics                                  -0.1271212059 2.250312e-02\n",
       "41 Arts_and_Humanities                          -0.0365913008 2.608312e-02\n",
       "42 Energy                                       -0.7750253657 2.898220e-02\n",
       "43 Veterinary                                    0.0318946390 4.097399e-02\n",
       "44 General                                       0.3970890746 1.232646e-02\n",
       "   statistic   p.value      \n",
       "1   -4.6606840  3.151603e-06\n",
       "2   16.6613831  2.501716e-62\n",
       "3   -6.2659726  3.705056e-10\n",
       "4   43.6269764  0.000000e+00\n",
       "5   -6.6490475  2.949958e-11\n",
       "6   60.0020650  0.000000e+00\n",
       "7  -14.5559535  5.353429e-48\n",
       "8   -8.4351368  3.308156e-17\n",
       "9   -0.1214226  9.033563e-01\n",
       "10  34.8702553 2.100206e-266\n",
       "11  98.2967468  0.000000e+00\n",
       "12  21.8252557 1.335886e-105\n",
       "13  19.0297951  9.662978e-81\n",
       "14  44.2648390  0.000000e+00\n",
       "15  68.1881880  0.000000e+00\n",
       "16  88.1790801  0.000000e+00\n",
       "17 117.3782042  0.000000e+00\n",
       "18 -21.1284027  4.360504e-99\n",
       "19 -28.4839682 1.850699e-178\n",
       "20   5.0381678  4.700092e-07\n",
       "21 -39.7982605  0.000000e+00\n",
       "22  22.2231009 2.053879e-109\n",
       "23 -12.6861285  7.058971e-37\n",
       "24   1.6474148  9.947282e-02\n",
       "25  11.5437496  7.938755e-31\n",
       "26 -12.0607009  1.703272e-33\n",
       "27   3.0117432  2.597523e-03\n",
       "28   4.1082912  3.985974e-05\n",
       "29   8.9529504  3.461053e-19\n",
       "30  19.0249631  1.059619e-80\n",
       "31 -26.5807344 1.133805e-155\n",
       "32  -7.9478928  1.897107e-15\n",
       "33  -8.9204992  4.641910e-19\n",
       "34  35.8994447 3.116292e-282\n",
       "35   2.6833931  7.287926e-03\n",
       "36 -13.8625902  1.067515e-43\n",
       "37 -12.0067858  3.273211e-33\n",
       "38  -8.1151559  4.851616e-16\n",
       "39  -5.1687375  2.356807e-07\n",
       "40  -5.6490476  1.613392e-08\n",
       "41  -1.4028726  1.606548e-01\n",
       "42 -26.7414229 1.553658e-157\n",
       "43   0.7784119  4.363262e-01\n",
       "44  32.2143748 1.110353e-227"
      ]
     },
     "metadata": {},
     "output_type": "display_data"
    }
   ],
   "source": [
    "tidy(m_yes)"
   ]
  },
  {
   "cell_type": "code",
   "execution_count": 78,
   "id": "c921523a",
   "metadata": {},
   "outputs": [],
   "source": [
    "base_str <- \"matched_tid_likes_cn ~ 1 + gender + authorship_pos + matched_tid_follower_cn_log + \\\n",
    "        author_pub_count_cate + affiliation_rank_cate + affiliation_cate + num_authors + journal_impact + \\\n",
    "        author_citation_log + pub_year\"\n",
    "equation <- as.formula(paste(base_str, keywords, sep = \" \"))\n",
    "m_yes <- glm.nb(equation, data = mydata[mydata$self_promotion == \"True\", ])"
   ]
  },
  {
   "cell_type": "code",
   "execution_count": 79,
   "id": "c9f2c2f8",
   "metadata": {
    "scrolled": true
   },
   "outputs": [
    {
     "data": {
      "text/html": [
       "<table class=\"dataframe\">\n",
       "<caption>A tibble: 44 × 5</caption>\n",
       "<thead>\n",
       "\t<tr><th scope=col>term</th><th scope=col>estimate</th><th scope=col>std.error</th><th scope=col>statistic</th><th scope=col>p.value</th></tr>\n",
       "\t<tr><th scope=col>&lt;chr&gt;</th><th scope=col>&lt;dbl&gt;</th><th scope=col>&lt;dbl&gt;</th><th scope=col>&lt;dbl&gt;</th><th scope=col>&lt;dbl&gt;</th></tr>\n",
       "</thead>\n",
       "<tbody>\n",
       "\t<tr><td>(Intercept)                                 </td><td>-3.401968395</td><td>2.263772e-02</td><td>-150.2787470</td><td> 0.000000e+00</td></tr>\n",
       "\t<tr><td>genderFemale                                </td><td>-0.007769829</td><td>6.269427e-03</td><td>  -1.2393204</td><td> 2.152268e-01</td></tr>\n",
       "\t<tr><td>authorship_posfirst_position                </td><td> 0.233097077</td><td>8.337462e-03</td><td>  27.9577968</td><td>5.299814e-172</td></tr>\n",
       "\t<tr><td>authorship_posmiddle_position               </td><td>-0.529048931</td><td>7.271317e-03</td><td> -72.7583355</td><td> 0.000000e+00</td></tr>\n",
       "\t<tr><td>authorship_possolo_author                   </td><td> 0.103497134</td><td>1.490003e-02</td><td>   6.9461034</td><td> 3.755136e-12</td></tr>\n",
       "\t<tr><td>matched_tid_follower_cn_log                 </td><td> 0.330007299</td><td>1.379526e-03</td><td> 239.2179288</td><td> 0.000000e+00</td></tr>\n",
       "\t<tr><td>author_pub_count_cate                       </td><td>-0.092543157</td><td>2.752762e-03</td><td> -33.6182918</td><td>9.066507e-248</td></tr>\n",
       "\t<tr><td>affiliation_rank_cate                       </td><td>-0.017660526</td><td>1.023400e-03</td><td> -17.2567134</td><td> 9.962217e-67</td></tr>\n",
       "\t<tr><td>affiliation_cateinternational               </td><td> 0.085721273</td><td>6.084129e-03</td><td>  14.0893250</td><td> 4.417641e-45</td></tr>\n",
       "\t<tr><td>num_authors                                 </td><td>-0.000843462</td><td>3.735627e-05</td><td> -22.5788585</td><td>6.993155e-113</td></tr>\n",
       "\t<tr><td>journal_impact                              </td><td> 0.001590993</td><td>3.017030e-04</td><td>   5.2733757</td><td> 1.339369e-07</td></tr>\n",
       "\t<tr><td>author_citation_log                         </td><td> 0.033280636</td><td>1.638766e-03</td><td>  20.3083560</td><td> 1.084748e-91</td></tr>\n",
       "\t<tr><td>pub_year2014                                </td><td> 0.319854399</td><td>1.716410e-02</td><td>  18.6350858</td><td> 1.668867e-77</td></tr>\n",
       "\t<tr><td>pub_year2015                                </td><td> 0.693512433</td><td>1.588297e-02</td><td>  43.6638931</td><td> 0.000000e+00</td></tr>\n",
       "\t<tr><td>pub_year2016                                </td><td> 1.257733734</td><td>1.524120e-02</td><td>  82.5219735</td><td> 0.000000e+00</td></tr>\n",
       "\t<tr><td>pub_year2017                                </td><td> 1.920004929</td><td>1.479638e-02</td><td> 129.7617766</td><td> 0.000000e+00</td></tr>\n",
       "\t<tr><td>pub_year2018                                </td><td> 2.662801805</td><td>1.453942e-02</td><td> 183.1435884</td><td> 0.000000e+00</td></tr>\n",
       "\t<tr><td>Social_Sciences                             </td><td>-0.182599634</td><td>1.186524e-02</td><td> -15.3894553</td><td> 1.926471e-53</td></tr>\n",
       "\t<tr><td>Materials_Science                           </td><td>-0.022871666</td><td>2.520479e-02</td><td>  -0.9074332</td><td> 3.641778e-01</td></tr>\n",
       "\t<tr><td>Engineering                                 </td><td>-0.091986769</td><td>2.048905e-02</td><td>  -4.4895568</td><td> 7.137151e-06</td></tr>\n",
       "\t<tr><td>Chemistry                                   </td><td>-0.047826927</td><td>1.865880e-02</td><td>  -2.5632367</td><td> 1.037013e-02</td></tr>\n",
       "\t<tr><td>Biochemistry__Genetics_and_Molecular_Biology</td><td> 0.131097292</td><td>8.241178e-03</td><td>  15.9075918</td><td> 5.613141e-57</td></tr>\n",
       "\t<tr><td>Medicine                                    </td><td>-0.282903750</td><td>6.596777e-03</td><td> -42.8851496</td><td> 0.000000e+00</td></tr>\n",
       "\t<tr><td>Nursing                                     </td><td>-0.046721684</td><td>1.933220e-02</td><td>  -2.4167799</td><td> 1.565848e-02</td></tr>\n",
       "\t<tr><td>Agricultural_and_Biological_Sciences        </td><td> 0.236815543</td><td>9.109080e-03</td><td>  25.9977446</td><td>5.251650e-149</td></tr>\n",
       "\t<tr><td>Pharmacology__Toxicology_and_Pharmaceutics  </td><td>-0.243047226</td><td>2.295545e-02</td><td> -10.5877799</td><td> 3.395493e-26</td></tr>\n",
       "\t<tr><td>Neuroscience                                </td><td> 0.110936804</td><td>1.376381e-02</td><td>   8.0600354</td><td> 7.627235e-16</td></tr>\n",
       "\t<tr><td>Business__Management_and_Accounting         </td><td> 0.004892154</td><td>2.410288e-02</td><td>   0.2029697</td><td> 8.391587e-01</td></tr>\n",
       "\t<tr><td>Economics__Econometrics_and_Finance         </td><td>-0.103642301</td><td>2.567659e-02</td><td>  -4.0364509</td><td> 5.426587e-05</td></tr>\n",
       "\t<tr><td>Chemical_Engineering                        </td><td> 0.109858204</td><td>2.652848e-02</td><td>   4.1411421</td><td> 3.455808e-05</td></tr>\n",
       "\t<tr><td>Physics_and_Astronomy                       </td><td>-0.074309463</td><td>2.111352e-02</td><td>  -3.5195205</td><td> 4.323276e-04</td></tr>\n",
       "\t<tr><td>Computer_Science                            </td><td>-0.094763268</td><td>2.019869e-02</td><td>  -4.6915546</td><td> 2.711369e-06</td></tr>\n",
       "\t<tr><td>Decision_Sciences                           </td><td> 0.025030913</td><td>4.331855e-02</td><td>   0.5778336</td><td> 5.633765e-01</td></tr>\n",
       "\t<tr><td>Health_Professions                          </td><td> 0.571658432</td><td>1.875803e-02</td><td>  30.4754025</td><td>5.520650e-204</td></tr>\n",
       "\t<tr><td>Psychology                                  </td><td> 0.070669231</td><td>1.825048e-02</td><td>   3.8721856</td><td> 1.078638e-04</td></tr>\n",
       "\t<tr><td>Immunology_and_Microbiology                 </td><td> 0.011911474</td><td>1.554939e-02</td><td>   0.7660413</td><td> 4.436517e-01</td></tr>\n",
       "\t<tr><td>Dentistry                                   </td><td>-0.248246819</td><td>9.442563e-02</td><td>  -2.6290195</td><td> 8.563146e-03</td></tr>\n",
       "\t<tr><td>Earth_and_Planetary_Sciences                </td><td> 0.007389019</td><td>1.633149e-02</td><td>   0.4524400</td><td> 6.509520e-01</td></tr>\n",
       "\t<tr><td>Environmental_Science                       </td><td>-0.098069068</td><td>1.169717e-02</td><td>  -8.3839973</td><td> 5.115997e-17</td></tr>\n",
       "\t<tr><td>Mathematics                                 </td><td> 0.053124218</td><td>2.718640e-02</td><td>   1.9540736</td><td> 5.069252e-02</td></tr>\n",
       "\t<tr><td>Arts_and_Humanities                         </td><td> 0.141733776</td><td>3.053591e-02</td><td>   4.6415448</td><td> 3.458140e-06</td></tr>\n",
       "\t<tr><td>Energy                                      </td><td>-0.271854852</td><td>3.450276e-02</td><td>  -7.8792212</td><td> 3.294280e-15</td></tr>\n",
       "\t<tr><td>Veterinary                                  </td><td>-0.523209006</td><td>5.181646e-02</td><td> -10.0973522</td><td> 5.675384e-24</td></tr>\n",
       "\t<tr><td>General                                     </td><td> 0.343951702</td><td>1.513540e-02</td><td>  22.7249885</td><td>2.536960e-114</td></tr>\n",
       "</tbody>\n",
       "</table>\n"
      ],
      "text/latex": [
       "A tibble: 44 × 5\n",
       "\\begin{tabular}{lllll}\n",
       " term & estimate & std.error & statistic & p.value\\\\\n",
       " <chr> & <dbl> & <dbl> & <dbl> & <dbl>\\\\\n",
       "\\hline\n",
       "\t (Intercept)                                  & -3.401968395 & 2.263772e-02 & -150.2787470 &  0.000000e+00\\\\\n",
       "\t genderFemale                                 & -0.007769829 & 6.269427e-03 &   -1.2393204 &  2.152268e-01\\\\\n",
       "\t authorship\\_posfirst\\_position                 &  0.233097077 & 8.337462e-03 &   27.9577968 & 5.299814e-172\\\\\n",
       "\t authorship\\_posmiddle\\_position                & -0.529048931 & 7.271317e-03 &  -72.7583355 &  0.000000e+00\\\\\n",
       "\t authorship\\_possolo\\_author                    &  0.103497134 & 1.490003e-02 &    6.9461034 &  3.755136e-12\\\\\n",
       "\t matched\\_tid\\_follower\\_cn\\_log                  &  0.330007299 & 1.379526e-03 &  239.2179288 &  0.000000e+00\\\\\n",
       "\t author\\_pub\\_count\\_cate                        & -0.092543157 & 2.752762e-03 &  -33.6182918 & 9.066507e-248\\\\\n",
       "\t affiliation\\_rank\\_cate                        & -0.017660526 & 1.023400e-03 &  -17.2567134 &  9.962217e-67\\\\\n",
       "\t affiliation\\_cateinternational                &  0.085721273 & 6.084129e-03 &   14.0893250 &  4.417641e-45\\\\\n",
       "\t num\\_authors                                  & -0.000843462 & 3.735627e-05 &  -22.5788585 & 6.993155e-113\\\\\n",
       "\t journal\\_impact                               &  0.001590993 & 3.017030e-04 &    5.2733757 &  1.339369e-07\\\\\n",
       "\t author\\_citation\\_log                          &  0.033280636 & 1.638766e-03 &   20.3083560 &  1.084748e-91\\\\\n",
       "\t pub\\_year2014                                 &  0.319854399 & 1.716410e-02 &   18.6350858 &  1.668867e-77\\\\\n",
       "\t pub\\_year2015                                 &  0.693512433 & 1.588297e-02 &   43.6638931 &  0.000000e+00\\\\\n",
       "\t pub\\_year2016                                 &  1.257733734 & 1.524120e-02 &   82.5219735 &  0.000000e+00\\\\\n",
       "\t pub\\_year2017                                 &  1.920004929 & 1.479638e-02 &  129.7617766 &  0.000000e+00\\\\\n",
       "\t pub\\_year2018                                 &  2.662801805 & 1.453942e-02 &  183.1435884 &  0.000000e+00\\\\\n",
       "\t Social\\_Sciences                              & -0.182599634 & 1.186524e-02 &  -15.3894553 &  1.926471e-53\\\\\n",
       "\t Materials\\_Science                            & -0.022871666 & 2.520479e-02 &   -0.9074332 &  3.641778e-01\\\\\n",
       "\t Engineering                                  & -0.091986769 & 2.048905e-02 &   -4.4895568 &  7.137151e-06\\\\\n",
       "\t Chemistry                                    & -0.047826927 & 1.865880e-02 &   -2.5632367 &  1.037013e-02\\\\\n",
       "\t Biochemistry\\_\\_Genetics\\_and\\_Molecular\\_Biology &  0.131097292 & 8.241178e-03 &   15.9075918 &  5.613141e-57\\\\\n",
       "\t Medicine                                     & -0.282903750 & 6.596777e-03 &  -42.8851496 &  0.000000e+00\\\\\n",
       "\t Nursing                                      & -0.046721684 & 1.933220e-02 &   -2.4167799 &  1.565848e-02\\\\\n",
       "\t Agricultural\\_and\\_Biological\\_Sciences         &  0.236815543 & 9.109080e-03 &   25.9977446 & 5.251650e-149\\\\\n",
       "\t Pharmacology\\_\\_Toxicology\\_and\\_Pharmaceutics   & -0.243047226 & 2.295545e-02 &  -10.5877799 &  3.395493e-26\\\\\n",
       "\t Neuroscience                                 &  0.110936804 & 1.376381e-02 &    8.0600354 &  7.627235e-16\\\\\n",
       "\t Business\\_\\_Management\\_and\\_Accounting          &  0.004892154 & 2.410288e-02 &    0.2029697 &  8.391587e-01\\\\\n",
       "\t Economics\\_\\_Econometrics\\_and\\_Finance          & -0.103642301 & 2.567659e-02 &   -4.0364509 &  5.426587e-05\\\\\n",
       "\t Chemical\\_Engineering                         &  0.109858204 & 2.652848e-02 &    4.1411421 &  3.455808e-05\\\\\n",
       "\t Physics\\_and\\_Astronomy                        & -0.074309463 & 2.111352e-02 &   -3.5195205 &  4.323276e-04\\\\\n",
       "\t Computer\\_Science                             & -0.094763268 & 2.019869e-02 &   -4.6915546 &  2.711369e-06\\\\\n",
       "\t Decision\\_Sciences                            &  0.025030913 & 4.331855e-02 &    0.5778336 &  5.633765e-01\\\\\n",
       "\t Health\\_Professions                           &  0.571658432 & 1.875803e-02 &   30.4754025 & 5.520650e-204\\\\\n",
       "\t Psychology                                   &  0.070669231 & 1.825048e-02 &    3.8721856 &  1.078638e-04\\\\\n",
       "\t Immunology\\_and\\_Microbiology                  &  0.011911474 & 1.554939e-02 &    0.7660413 &  4.436517e-01\\\\\n",
       "\t Dentistry                                    & -0.248246819 & 9.442563e-02 &   -2.6290195 &  8.563146e-03\\\\\n",
       "\t Earth\\_and\\_Planetary\\_Sciences                 &  0.007389019 & 1.633149e-02 &    0.4524400 &  6.509520e-01\\\\\n",
       "\t Environmental\\_Science                        & -0.098069068 & 1.169717e-02 &   -8.3839973 &  5.115997e-17\\\\\n",
       "\t Mathematics                                  &  0.053124218 & 2.718640e-02 &    1.9540736 &  5.069252e-02\\\\\n",
       "\t Arts\\_and\\_Humanities                          &  0.141733776 & 3.053591e-02 &    4.6415448 &  3.458140e-06\\\\\n",
       "\t Energy                                       & -0.271854852 & 3.450276e-02 &   -7.8792212 &  3.294280e-15\\\\\n",
       "\t Veterinary                                   & -0.523209006 & 5.181646e-02 &  -10.0973522 &  5.675384e-24\\\\\n",
       "\t General                                      &  0.343951702 & 1.513540e-02 &   22.7249885 & 2.536960e-114\\\\\n",
       "\\end{tabular}\n"
      ],
      "text/markdown": [
       "\n",
       "A tibble: 44 × 5\n",
       "\n",
       "| term &lt;chr&gt; | estimate &lt;dbl&gt; | std.error &lt;dbl&gt; | statistic &lt;dbl&gt; | p.value &lt;dbl&gt; |\n",
       "|---|---|---|---|---|\n",
       "| (Intercept)                                  | -3.401968395 | 2.263772e-02 | -150.2787470 |  0.000000e+00 |\n",
       "| genderFemale                                 | -0.007769829 | 6.269427e-03 |   -1.2393204 |  2.152268e-01 |\n",
       "| authorship_posfirst_position                 |  0.233097077 | 8.337462e-03 |   27.9577968 | 5.299814e-172 |\n",
       "| authorship_posmiddle_position                | -0.529048931 | 7.271317e-03 |  -72.7583355 |  0.000000e+00 |\n",
       "| authorship_possolo_author                    |  0.103497134 | 1.490003e-02 |    6.9461034 |  3.755136e-12 |\n",
       "| matched_tid_follower_cn_log                  |  0.330007299 | 1.379526e-03 |  239.2179288 |  0.000000e+00 |\n",
       "| author_pub_count_cate                        | -0.092543157 | 2.752762e-03 |  -33.6182918 | 9.066507e-248 |\n",
       "| affiliation_rank_cate                        | -0.017660526 | 1.023400e-03 |  -17.2567134 |  9.962217e-67 |\n",
       "| affiliation_cateinternational                |  0.085721273 | 6.084129e-03 |   14.0893250 |  4.417641e-45 |\n",
       "| num_authors                                  | -0.000843462 | 3.735627e-05 |  -22.5788585 | 6.993155e-113 |\n",
       "| journal_impact                               |  0.001590993 | 3.017030e-04 |    5.2733757 |  1.339369e-07 |\n",
       "| author_citation_log                          |  0.033280636 | 1.638766e-03 |   20.3083560 |  1.084748e-91 |\n",
       "| pub_year2014                                 |  0.319854399 | 1.716410e-02 |   18.6350858 |  1.668867e-77 |\n",
       "| pub_year2015                                 |  0.693512433 | 1.588297e-02 |   43.6638931 |  0.000000e+00 |\n",
       "| pub_year2016                                 |  1.257733734 | 1.524120e-02 |   82.5219735 |  0.000000e+00 |\n",
       "| pub_year2017                                 |  1.920004929 | 1.479638e-02 |  129.7617766 |  0.000000e+00 |\n",
       "| pub_year2018                                 |  2.662801805 | 1.453942e-02 |  183.1435884 |  0.000000e+00 |\n",
       "| Social_Sciences                              | -0.182599634 | 1.186524e-02 |  -15.3894553 |  1.926471e-53 |\n",
       "| Materials_Science                            | -0.022871666 | 2.520479e-02 |   -0.9074332 |  3.641778e-01 |\n",
       "| Engineering                                  | -0.091986769 | 2.048905e-02 |   -4.4895568 |  7.137151e-06 |\n",
       "| Chemistry                                    | -0.047826927 | 1.865880e-02 |   -2.5632367 |  1.037013e-02 |\n",
       "| Biochemistry__Genetics_and_Molecular_Biology |  0.131097292 | 8.241178e-03 |   15.9075918 |  5.613141e-57 |\n",
       "| Medicine                                     | -0.282903750 | 6.596777e-03 |  -42.8851496 |  0.000000e+00 |\n",
       "| Nursing                                      | -0.046721684 | 1.933220e-02 |   -2.4167799 |  1.565848e-02 |\n",
       "| Agricultural_and_Biological_Sciences         |  0.236815543 | 9.109080e-03 |   25.9977446 | 5.251650e-149 |\n",
       "| Pharmacology__Toxicology_and_Pharmaceutics   | -0.243047226 | 2.295545e-02 |  -10.5877799 |  3.395493e-26 |\n",
       "| Neuroscience                                 |  0.110936804 | 1.376381e-02 |    8.0600354 |  7.627235e-16 |\n",
       "| Business__Management_and_Accounting          |  0.004892154 | 2.410288e-02 |    0.2029697 |  8.391587e-01 |\n",
       "| Economics__Econometrics_and_Finance          | -0.103642301 | 2.567659e-02 |   -4.0364509 |  5.426587e-05 |\n",
       "| Chemical_Engineering                         |  0.109858204 | 2.652848e-02 |    4.1411421 |  3.455808e-05 |\n",
       "| Physics_and_Astronomy                        | -0.074309463 | 2.111352e-02 |   -3.5195205 |  4.323276e-04 |\n",
       "| Computer_Science                             | -0.094763268 | 2.019869e-02 |   -4.6915546 |  2.711369e-06 |\n",
       "| Decision_Sciences                            |  0.025030913 | 4.331855e-02 |    0.5778336 |  5.633765e-01 |\n",
       "| Health_Professions                           |  0.571658432 | 1.875803e-02 |   30.4754025 | 5.520650e-204 |\n",
       "| Psychology                                   |  0.070669231 | 1.825048e-02 |    3.8721856 |  1.078638e-04 |\n",
       "| Immunology_and_Microbiology                  |  0.011911474 | 1.554939e-02 |    0.7660413 |  4.436517e-01 |\n",
       "| Dentistry                                    | -0.248246819 | 9.442563e-02 |   -2.6290195 |  8.563146e-03 |\n",
       "| Earth_and_Planetary_Sciences                 |  0.007389019 | 1.633149e-02 |    0.4524400 |  6.509520e-01 |\n",
       "| Environmental_Science                        | -0.098069068 | 1.169717e-02 |   -8.3839973 |  5.115997e-17 |\n",
       "| Mathematics                                  |  0.053124218 | 2.718640e-02 |    1.9540736 |  5.069252e-02 |\n",
       "| Arts_and_Humanities                          |  0.141733776 | 3.053591e-02 |    4.6415448 |  3.458140e-06 |\n",
       "| Energy                                       | -0.271854852 | 3.450276e-02 |   -7.8792212 |  3.294280e-15 |\n",
       "| Veterinary                                   | -0.523209006 | 5.181646e-02 |  -10.0973522 |  5.675384e-24 |\n",
       "| General                                      |  0.343951702 | 1.513540e-02 |   22.7249885 | 2.536960e-114 |\n",
       "\n"
      ],
      "text/plain": [
       "   term                                         estimate     std.error   \n",
       "1  (Intercept)                                  -3.401968395 2.263772e-02\n",
       "2  genderFemale                                 -0.007769829 6.269427e-03\n",
       "3  authorship_posfirst_position                  0.233097077 8.337462e-03\n",
       "4  authorship_posmiddle_position                -0.529048931 7.271317e-03\n",
       "5  authorship_possolo_author                     0.103497134 1.490003e-02\n",
       "6  matched_tid_follower_cn_log                   0.330007299 1.379526e-03\n",
       "7  author_pub_count_cate                        -0.092543157 2.752762e-03\n",
       "8  affiliation_rank_cate                        -0.017660526 1.023400e-03\n",
       "9  affiliation_cateinternational                 0.085721273 6.084129e-03\n",
       "10 num_authors                                  -0.000843462 3.735627e-05\n",
       "11 journal_impact                                0.001590993 3.017030e-04\n",
       "12 author_citation_log                           0.033280636 1.638766e-03\n",
       "13 pub_year2014                                  0.319854399 1.716410e-02\n",
       "14 pub_year2015                                  0.693512433 1.588297e-02\n",
       "15 pub_year2016                                  1.257733734 1.524120e-02\n",
       "16 pub_year2017                                  1.920004929 1.479638e-02\n",
       "17 pub_year2018                                  2.662801805 1.453942e-02\n",
       "18 Social_Sciences                              -0.182599634 1.186524e-02\n",
       "19 Materials_Science                            -0.022871666 2.520479e-02\n",
       "20 Engineering                                  -0.091986769 2.048905e-02\n",
       "21 Chemistry                                    -0.047826927 1.865880e-02\n",
       "22 Biochemistry__Genetics_and_Molecular_Biology  0.131097292 8.241178e-03\n",
       "23 Medicine                                     -0.282903750 6.596777e-03\n",
       "24 Nursing                                      -0.046721684 1.933220e-02\n",
       "25 Agricultural_and_Biological_Sciences          0.236815543 9.109080e-03\n",
       "26 Pharmacology__Toxicology_and_Pharmaceutics   -0.243047226 2.295545e-02\n",
       "27 Neuroscience                                  0.110936804 1.376381e-02\n",
       "28 Business__Management_and_Accounting           0.004892154 2.410288e-02\n",
       "29 Economics__Econometrics_and_Finance          -0.103642301 2.567659e-02\n",
       "30 Chemical_Engineering                          0.109858204 2.652848e-02\n",
       "31 Physics_and_Astronomy                        -0.074309463 2.111352e-02\n",
       "32 Computer_Science                             -0.094763268 2.019869e-02\n",
       "33 Decision_Sciences                             0.025030913 4.331855e-02\n",
       "34 Health_Professions                            0.571658432 1.875803e-02\n",
       "35 Psychology                                    0.070669231 1.825048e-02\n",
       "36 Immunology_and_Microbiology                   0.011911474 1.554939e-02\n",
       "37 Dentistry                                    -0.248246819 9.442563e-02\n",
       "38 Earth_and_Planetary_Sciences                  0.007389019 1.633149e-02\n",
       "39 Environmental_Science                        -0.098069068 1.169717e-02\n",
       "40 Mathematics                                   0.053124218 2.718640e-02\n",
       "41 Arts_and_Humanities                           0.141733776 3.053591e-02\n",
       "42 Energy                                       -0.271854852 3.450276e-02\n",
       "43 Veterinary                                   -0.523209006 5.181646e-02\n",
       "44 General                                       0.343951702 1.513540e-02\n",
       "   statistic    p.value      \n",
       "1  -150.2787470  0.000000e+00\n",
       "2    -1.2393204  2.152268e-01\n",
       "3    27.9577968 5.299814e-172\n",
       "4   -72.7583355  0.000000e+00\n",
       "5     6.9461034  3.755136e-12\n",
       "6   239.2179288  0.000000e+00\n",
       "7   -33.6182918 9.066507e-248\n",
       "8   -17.2567134  9.962217e-67\n",
       "9    14.0893250  4.417641e-45\n",
       "10  -22.5788585 6.993155e-113\n",
       "11    5.2733757  1.339369e-07\n",
       "12   20.3083560  1.084748e-91\n",
       "13   18.6350858  1.668867e-77\n",
       "14   43.6638931  0.000000e+00\n",
       "15   82.5219735  0.000000e+00\n",
       "16  129.7617766  0.000000e+00\n",
       "17  183.1435884  0.000000e+00\n",
       "18  -15.3894553  1.926471e-53\n",
       "19   -0.9074332  3.641778e-01\n",
       "20   -4.4895568  7.137151e-06\n",
       "21   -2.5632367  1.037013e-02\n",
       "22   15.9075918  5.613141e-57\n",
       "23  -42.8851496  0.000000e+00\n",
       "24   -2.4167799  1.565848e-02\n",
       "25   25.9977446 5.251650e-149\n",
       "26  -10.5877799  3.395493e-26\n",
       "27    8.0600354  7.627235e-16\n",
       "28    0.2029697  8.391587e-01\n",
       "29   -4.0364509  5.426587e-05\n",
       "30    4.1411421  3.455808e-05\n",
       "31   -3.5195205  4.323276e-04\n",
       "32   -4.6915546  2.711369e-06\n",
       "33    0.5778336  5.633765e-01\n",
       "34   30.4754025 5.520650e-204\n",
       "35    3.8721856  1.078638e-04\n",
       "36    0.7660413  4.436517e-01\n",
       "37   -2.6290195  8.563146e-03\n",
       "38    0.4524400  6.509520e-01\n",
       "39   -8.3839973  5.115997e-17\n",
       "40    1.9540736  5.069252e-02\n",
       "41    4.6415448  3.458140e-06\n",
       "42   -7.8792212  3.294280e-15\n",
       "43  -10.0973522  5.675384e-24\n",
       "44   22.7249885 2.536960e-114"
      ]
     },
     "metadata": {},
     "output_type": "display_data"
    }
   ],
   "source": [
    "tidy(m_yes)"
   ]
  },
  {
   "cell_type": "code",
   "execution_count": 33,
   "id": "f8f9b6b7",
   "metadata": {
    "scrolled": true
   },
   "outputs": [
    {
     "name": "stdout",
     "output_type": "stream",
     "text": [
      "\n",
      "% Table created by stargazer v.5.2.3 by Marek Hlavac, Social Policy Institute. E-mail: marek.hlavac at gmail.com\n",
      "% Date and time: Tue, Sep 05, 2023 - 02:14:42 PM\n",
      "\\begin{table}[!htbp] \\centering \n",
      "  \\caption{} \n",
      "  \\label{} \n",
      "\\begin{tabular}{@{\\extracolsep{5pt}}lc} \n",
      "\\\\[-1.8ex]\\hline \n",
      "\\hline \\\\[-1.8ex] \n",
      " & \\multicolumn{1}{c}{\\textit{Dependent variable:}} \\\\ \n",
      "\\cline{2-2} \n",
      "\\\\[-1.8ex] & total\\_num\\_tweets \\\\ \n",
      "\\hline \\\\[-1.8ex] \n",
      " genderFemale & 0.148$^{***}$ \\\\ \n",
      "  & p = 0.000 \\\\ \n",
      "  self\\_promotionTrue & 1.235$^{***}$ \\\\ \n",
      "  & p = 0.000 \\\\ \n",
      "  authorship\\_posfirst\\_position & 0.110$^{***}$ \\\\ \n",
      "  & p = 0.000 \\\\ \n",
      "  authorship\\_posmiddle\\_position & 0.290$^{***}$ \\\\ \n",
      "  & p = 0.000 \\\\ \n",
      "  authorship\\_possolo\\_author & $-$0.206$^{***}$ \\\\ \n",
      "  & p = 0.000 \\\\ \n",
      "  follower\\_cn\\_snapshot\\_log & 0.095$^{***}$ \\\\ \n",
      "  & p = 0.000 \\\\ \n",
      "  author\\_pub\\_count\\_cate & $-$0.102$^{***}$ \\\\ \n",
      "  & p = 0.000 \\\\ \n",
      "  affiliation\\_rank\\_cate & $-$0.008$^{***}$ \\\\ \n",
      "  & p = 0.000 \\\\ \n",
      "  affiliation\\_cateinternational & 0.069$^{***}$ \\\\ \n",
      "  & p = 0.000 \\\\ \n",
      "  num\\_authors & 0.001$^{***}$ \\\\ \n",
      "  & p = 0.000 \\\\ \n",
      "  journal\\_impact & 0.065$^{***}$ \\\\ \n",
      "  & p = 0.000 \\\\ \n",
      "  author\\_citation\\_log & 0.050$^{***}$ \\\\ \n",
      "  & p = 0.000 \\\\ \n",
      "  pub\\_year2014 & 0.239$^{***}$ \\\\ \n",
      "  & p = 0.000 \\\\ \n",
      "  pub\\_year2015 & 0.399$^{***}$ \\\\ \n",
      "  & p = 0.000 \\\\ \n",
      "  pub\\_year2016 & 0.531$^{***}$ \\\\ \n",
      "  & p = 0.000 \\\\ \n",
      "  pub\\_year2017 & 0.797$^{***}$ \\\\ \n",
      "  & p = 0.000 \\\\ \n",
      "  pub\\_year2018 & 0.924$^{***}$ \\\\ \n",
      "  & p = 0.000 \\\\ \n",
      "  Social\\_Sciences & $-$0.116$^{***}$ \\\\ \n",
      "  & p = 0.000 \\\\ \n",
      "  Materials\\_Science & $-$0.532$^{***}$ \\\\ \n",
      "  & p = 0.000 \\\\ \n",
      "  Engineering & $-$0.264$^{***}$ \\\\ \n",
      "  & p = 0.000 \\\\ \n",
      "  Chemistry & $-$0.971$^{***}$ \\\\ \n",
      "  & p = 0.000 \\\\ \n",
      "  Biochemistry\\_\\_Genetics\\_and\\_Molecular\\_Biology & $-$0.143$^{***}$ \\\\ \n",
      "  & p = 0.000 \\\\ \n",
      "  Medicine & $-$0.035$^{***}$ \\\\ \n",
      "  & p = 0.000 \\\\ \n",
      "  Nursing & 0.212$^{***}$ \\\\ \n",
      "  & p = 0.000 \\\\ \n",
      "  Agricultural\\_and\\_Biological\\_Sciences & 0.332$^{***}$ \\\\ \n",
      "  & p = 0.000 \\\\ \n",
      "  Pharmacology\\_\\_Toxicology\\_and\\_Pharmaceutics & $-$0.420$^{***}$ \\\\ \n",
      "  & p = 0.000 \\\\ \n",
      "  Neuroscience & $-$0.008 \\\\ \n",
      "  & p = 0.349 \\\\ \n",
      "  Business\\_\\_Management\\_and\\_Accounting & $-$0.408$^{***}$ \\\\ \n",
      "  & p = 0.000 \\\\ \n",
      "  Economics\\_\\_Econometrics\\_and\\_Finance & $-$0.129$^{***}$ \\\\ \n",
      "  & p = 0.000 \\\\ \n",
      "  Chemical\\_Engineering & 0.091$^{***}$ \\\\ \n",
      "  & p = 0.00000 \\\\ \n",
      "  Physics\\_and\\_Astronomy & $-$0.583$^{***}$ \\\\ \n",
      "  & p = 0.000 \\\\ \n",
      "  Computer\\_Science & $-$0.161$^{***}$ \\\\ \n",
      "  & p = 0.000 \\\\ \n",
      "  Decision\\_Sciences & $-$0.438$^{***}$ \\\\ \n",
      "  & p = 0.000 \\\\ \n",
      "  Health\\_Professions & 0.672$^{***}$ \\\\ \n",
      "  & p = 0.000 \\\\ \n",
      "  Psychology & $-$0.101$^{***}$ \\\\ \n",
      "  & p = 0.000 \\\\ \n",
      "  Immunology\\_and\\_Microbiology & $-$0.007 \\\\ \n",
      "  & p = 0.441 \\\\ \n",
      "  Dentistry & $-$0.677$^{***}$ \\\\ \n",
      "  & p = 0.000 \\\\ \n",
      "  Earth\\_and\\_Planetary\\_Sciences & $-$0.416$^{***}$ \\\\ \n",
      "  & p = 0.000 \\\\ \n",
      "  Environmental\\_Science & $-$0.168$^{***}$ \\\\ \n",
      "  & p = 0.000 \\\\ \n",
      "  Mathematics & 0.478$^{***}$ \\\\ \n",
      "  & p = 0.000 \\\\ \n",
      "  Arts\\_and\\_Humanities & $-$0.151$^{***}$ \\\\ \n",
      "  & p = 0.000 \\\\ \n",
      "  Energy & $-$0.588$^{***}$ \\\\ \n",
      "  & p = 0.000 \\\\ \n",
      "  Veterinary & $-$0.661$^{***}$ \\\\ \n",
      "  & p = 0.000 \\\\ \n",
      "  General & 0.449$^{***}$ \\\\ \n",
      "  & p = 0.000 \\\\ \n",
      "  genderFemale:self\\_promotionTrue & $-$0.127$^{***}$ \\\\ \n",
      "  & p = 0.000 \\\\ \n",
      "  Constant & 0.364$^{***}$ \\\\ \n",
      "  & p = 0.000 \\\\ \n",
      " \\hline \\\\[-1.8ex] \n",
      "Observations & 618,742 \\\\ \n",
      "Log Likelihood & $-$2,335,341.000 \\\\ \n",
      "$\\theta$ & 0.567$^{***}$  (0.001) \\\\ \n",
      "Akaike Inf. Crit. & 4,670,775.000 \\\\ \n",
      "\\hline \n",
      "\\hline \\\\[-1.8ex] \n",
      "\\textit{Note:}  & \\multicolumn{1}{r}{$^{*}$p$<$0.05; $^{**}$p$<$0.01; $^{***}$p$<$0.001} \\\\ \n",
      "\\end{tabular} \n",
      "\\end{table} \n"
     ]
    }
   ],
   "source": [
    "# use this search string in Sublime: \" \\\\\\\\ \\n  &\" with \" &\"\n",
    "stargazer(m_yes, type = \"latex\", single.row=TRUE, ci = FALSE, report = ('vc*p'), star.cutoffs = c(0.05, 0.01, 0.001))"
   ]
  },
  {
   "cell_type": "code",
   "execution_count": null,
   "id": "60b1c6b5",
   "metadata": {},
   "outputs": [],
   "source": []
  },
  {
   "cell_type": "markdown",
   "id": "ac2c4f98",
   "metadata": {},
   "source": [
    "## Robustness check 1 (not due to coauthors' self-promotion)"
   ]
  },
  {
   "cell_type": "markdown",
   "id": "5e9d7b4b",
   "metadata": {},
   "source": [
    "Solo-author papers (active subset)"
   ]
  },
  {
   "cell_type": "code",
   "execution_count": 28,
   "id": "49630a1b",
   "metadata": {},
   "outputs": [],
   "source": [
    "subdata = mydata[mydata$authorship_pos == \"solo_author\", ]"
   ]
  },
  {
   "cell_type": "code",
   "execution_count": 29,
   "id": "87cce1a7",
   "metadata": {
    "scrolled": false
   },
   "outputs": [
    {
     "data": {
      "text/html": [
       "176097"
      ],
      "text/latex": [
       "176097"
      ],
      "text/markdown": [
       "176097"
      ],
      "text/plain": [
       "[1] 176097"
      ]
     },
     "metadata": {},
     "output_type": "display_data"
    }
   ],
   "source": [
    "nrow(subdata)"
   ]
  },
  {
   "cell_type": "code",
   "execution_count": 41,
   "id": "a26a71e7",
   "metadata": {
    "scrolled": false
   },
   "outputs": [
    {
     "data": {
      "text/html": [
       "20216"
      ],
      "text/latex": [
       "20216"
      ],
      "text/markdown": [
       "20216"
      ],
      "text/plain": [
       "[1] 20216"
      ]
     },
     "metadata": {},
     "output_type": "display_data"
    }
   ],
   "source": [
    "nrow(subdata[subdata$is_active_on_twitter == \"True\", ])"
   ]
  },
  {
   "cell_type": "code",
   "execution_count": 30,
   "id": "697fdaba",
   "metadata": {
    "scrolled": true
   },
   "outputs": [],
   "source": [
    "base_str <- \"total_num_tweets ~ 1 + gender * self_promotion + follower_cn_snapshot_combine_log + \\\n",
    "    author_pub_count_cate + affiliation_rank_cate + affiliation_cate + journal_impact + author_citation_log + pub_year\"\n",
    "equation <- as.formula(paste(base_str, keywords, sep = \" \"))\n",
    "m_yes <- glm.nb(equation, data = subdata[subdata$is_active_on_twitter == \"True\", ])\n"
   ]
  },
  {
   "cell_type": "code",
   "execution_count": 31,
   "id": "56c6d04a",
   "metadata": {
    "scrolled": true
   },
   "outputs": [
    {
     "data": {
      "text/html": [
       "<table class=\"dataframe\">\n",
       "<caption>A tibble: 42 × 5</caption>\n",
       "<thead>\n",
       "\t<tr><th scope=col>term</th><th scope=col>estimate</th><th scope=col>std.error</th><th scope=col>statistic</th><th scope=col>p.value</th></tr>\n",
       "\t<tr><th scope=col>&lt;chr&gt;</th><th scope=col>&lt;dbl&gt;</th><th scope=col>&lt;dbl&gt;</th><th scope=col>&lt;dbl&gt;</th><th scope=col>&lt;dbl&gt;</th></tr>\n",
       "</thead>\n",
       "<tbody>\n",
       "\t<tr><td>(Intercept)                                 </td><td>-0.842860669</td><td>0.073260625</td><td>-11.5049615</td><td> 1.245450e-30</td></tr>\n",
       "\t<tr><td>genderFemale                                </td><td> 0.143961977</td><td>0.032576421</td><td>  4.4192079</td><td> 9.906331e-06</td></tr>\n",
       "\t<tr><td>self_promotionTrue                          </td><td> 1.450545095</td><td>0.023872792</td><td> 60.7614352</td><td> 0.000000e+00</td></tr>\n",
       "\t<tr><td>follower_cn_snapshot_combine_log            </td><td> 0.154236002</td><td>0.004749847</td><td> 32.4717836</td><td>2.668945e-231</td></tr>\n",
       "\t<tr><td>author_pub_count_cate                       </td><td>-0.077241269</td><td>0.009035480</td><td> -8.5486624</td><td> 1.245232e-17</td></tr>\n",
       "\t<tr><td>affiliation_rank_cate                       </td><td>-0.013902025</td><td>0.003198486</td><td> -4.3464390</td><td> 1.383655e-05</td></tr>\n",
       "\t<tr><td>affiliation_cateinternational               </td><td> 0.004329114</td><td>0.019766420</td><td>  0.2190136</td><td> 8.266395e-01</td></tr>\n",
       "\t<tr><td>journal_impact                              </td><td> 0.035265962</td><td>0.001275587</td><td> 27.6468570</td><td>3.044504e-168</td></tr>\n",
       "\t<tr><td>author_citation_log                         </td><td> 0.064260873</td><td>0.005172701</td><td> 12.4230800</td><td> 1.958727e-35</td></tr>\n",
       "\t<tr><td>pub_year2014                                </td><td> 0.211180372</td><td>0.047724704</td><td>  4.4249697</td><td> 9.645581e-06</td></tr>\n",
       "\t<tr><td>pub_year2015                                </td><td> 0.457772769</td><td>0.044923234</td><td> 10.1901116</td><td> 2.195122e-24</td></tr>\n",
       "\t<tr><td>pub_year2016                                </td><td> 0.526332483</td><td>0.043847489</td><td> 12.0037087</td><td> 3.397251e-33</td></tr>\n",
       "\t<tr><td>pub_year2017                                </td><td> 0.790052394</td><td>0.043296179</td><td> 18.2476238</td><td> 2.161068e-74</td></tr>\n",
       "\t<tr><td>pub_year2018                                </td><td> 0.963782365</td><td>0.042705390</td><td> 22.5681668</td><td>8.906249e-113</td></tr>\n",
       "\t<tr><td>Social_Sciences                             </td><td>-0.038774377</td><td>0.023422881</td><td> -1.6554060</td><td> 9.784217e-02</td></tr>\n",
       "\t<tr><td>Materials_Science                           </td><td>-0.754271373</td><td>0.143903229</td><td> -5.2415180</td><td> 1.592609e-07</td></tr>\n",
       "\t<tr><td>Engineering                                 </td><td>-0.273040239</td><td>0.071473083</td><td> -3.8201827</td><td> 1.333528e-04</td></tr>\n",
       "\t<tr><td>Chemistry                                   </td><td>-0.868343627</td><td>0.112895118</td><td> -7.6915959</td><td> 1.453110e-14</td></tr>\n",
       "\t<tr><td>Biochemistry__Genetics_and_Molecular_Biology</td><td> 0.071529266</td><td>0.037822885</td><td>  1.8911636</td><td> 5.860250e-02</td></tr>\n",
       "\t<tr><td>Medicine                                    </td><td>-0.028104673</td><td>0.025704129</td><td> -1.0933914</td><td> 2.742220e-01</td></tr>\n",
       "\t<tr><td>Nursing                                     </td><td> 0.194529207</td><td>0.064754960</td><td>  3.0040820</td><td> 2.663836e-03</td></tr>\n",
       "\t<tr><td>Agricultural_and_Biological_Sciences        </td><td> 0.249626436</td><td>0.039212063</td><td>  6.3660622</td><td> 1.939428e-10</td></tr>\n",
       "\t<tr><td>Pharmacology__Toxicology_and_Pharmaceutics  </td><td> 0.187686919</td><td>0.103371647</td><td>  1.8156518</td><td> 6.942380e-02</td></tr>\n",
       "\t<tr><td>Neuroscience                                </td><td> 0.311114360</td><td>0.062358904</td><td>  4.9890929</td><td> 6.066349e-07</td></tr>\n",
       "\t<tr><td>Business__Management_and_Accounting         </td><td>-0.173800116</td><td>0.049420984</td><td> -3.5167272</td><td> 4.369026e-04</td></tr>\n",
       "\t<tr><td>Economics__Econometrics_and_Finance         </td><td> 0.165727365</td><td>0.047390871</td><td>  3.4970315</td><td> 4.704663e-04</td></tr>\n",
       "\t<tr><td>Chemical_Engineering                        </td><td> 1.121446258</td><td>0.145088641</td><td>  7.7293870</td><td> 1.080657e-14</td></tr>\n",
       "\t<tr><td>Physics_and_Astronomy                       </td><td>-0.102745112</td><td>0.082926475</td><td> -1.2389905</td><td> 2.153490e-01</td></tr>\n",
       "\t<tr><td>Computer_Science                            </td><td> 0.400107328</td><td>0.052789658</td><td>  7.5792749</td><td> 3.474915e-14</td></tr>\n",
       "\t<tr><td>Decision_Sciences                           </td><td>-0.353294849</td><td>0.125557847</td><td> -2.8138014</td><td> 4.895946e-03</td></tr>\n",
       "\t<tr><td>Health_Professions                          </td><td> 1.102865700</td><td>0.090378433</td><td> 12.2027530</td><td> 3.004896e-34</td></tr>\n",
       "\t<tr><td>Psychology                                  </td><td> 0.138816033</td><td>0.045767002</td><td>  3.0331030</td><td> 2.420529e-03</td></tr>\n",
       "\t<tr><td>Immunology_and_Microbiology                 </td><td> 0.330365592</td><td>0.072837970</td><td>  4.5356233</td><td> 5.743362e-06</td></tr>\n",
       "\t<tr><td>Dentistry                                   </td><td>-0.472957802</td><td>0.417169053</td><td> -1.1337318</td><td> 2.569071e-01</td></tr>\n",
       "\t<tr><td>Earth_and_Planetary_Sciences                </td><td>-0.069722872</td><td>0.059928900</td><td> -1.1634265</td><td> 2.446565e-01</td></tr>\n",
       "\t<tr><td>Environmental_Science                       </td><td>-0.031013903</td><td>0.044350199</td><td> -0.6992957</td><td> 4.843673e-01</td></tr>\n",
       "\t<tr><td>Mathematics                                 </td><td> 0.003322238</td><td>0.081132097</td><td>  0.0409485</td><td> 9.673370e-01</td></tr>\n",
       "\t<tr><td>Arts_and_Humanities                         </td><td>-0.317633024</td><td>0.038088421</td><td> -8.3393592</td><td> 7.469422e-17</td></tr>\n",
       "\t<tr><td>Energy                                      </td><td>-0.413116021</td><td>0.119929390</td><td> -3.4446604</td><td> 5.717773e-04</td></tr>\n",
       "\t<tr><td>Veterinary                                  </td><td>-0.337233800</td><td>0.248568759</td><td> -1.3567023</td><td> 1.748758e-01</td></tr>\n",
       "\t<tr><td>General                                     </td><td> 0.343065437</td><td>0.070625262</td><td>  4.8575457</td><td> 1.188497e-06</td></tr>\n",
       "\t<tr><td>genderFemale:self_promotionTrue             </td><td>-0.053226845</td><td>0.039749455</td><td> -1.3390585</td><td> 1.805516e-01</td></tr>\n",
       "</tbody>\n",
       "</table>\n"
      ],
      "text/latex": [
       "A tibble: 42 × 5\n",
       "\\begin{tabular}{lllll}\n",
       " term & estimate & std.error & statistic & p.value\\\\\n",
       " <chr> & <dbl> & <dbl> & <dbl> & <dbl>\\\\\n",
       "\\hline\n",
       "\t (Intercept)                                  & -0.842860669 & 0.073260625 & -11.5049615 &  1.245450e-30\\\\\n",
       "\t genderFemale                                 &  0.143961977 & 0.032576421 &   4.4192079 &  9.906331e-06\\\\\n",
       "\t self\\_promotionTrue                           &  1.450545095 & 0.023872792 &  60.7614352 &  0.000000e+00\\\\\n",
       "\t follower\\_cn\\_snapshot\\_combine\\_log             &  0.154236002 & 0.004749847 &  32.4717836 & 2.668945e-231\\\\\n",
       "\t author\\_pub\\_count\\_cate                        & -0.077241269 & 0.009035480 &  -8.5486624 &  1.245232e-17\\\\\n",
       "\t affiliation\\_rank\\_cate                        & -0.013902025 & 0.003198486 &  -4.3464390 &  1.383655e-05\\\\\n",
       "\t affiliation\\_cateinternational                &  0.004329114 & 0.019766420 &   0.2190136 &  8.266395e-01\\\\\n",
       "\t journal\\_impact                               &  0.035265962 & 0.001275587 &  27.6468570 & 3.044504e-168\\\\\n",
       "\t author\\_citation\\_log                          &  0.064260873 & 0.005172701 &  12.4230800 &  1.958727e-35\\\\\n",
       "\t pub\\_year2014                                 &  0.211180372 & 0.047724704 &   4.4249697 &  9.645581e-06\\\\\n",
       "\t pub\\_year2015                                 &  0.457772769 & 0.044923234 &  10.1901116 &  2.195122e-24\\\\\n",
       "\t pub\\_year2016                                 &  0.526332483 & 0.043847489 &  12.0037087 &  3.397251e-33\\\\\n",
       "\t pub\\_year2017                                 &  0.790052394 & 0.043296179 &  18.2476238 &  2.161068e-74\\\\\n",
       "\t pub\\_year2018                                 &  0.963782365 & 0.042705390 &  22.5681668 & 8.906249e-113\\\\\n",
       "\t Social\\_Sciences                              & -0.038774377 & 0.023422881 &  -1.6554060 &  9.784217e-02\\\\\n",
       "\t Materials\\_Science                            & -0.754271373 & 0.143903229 &  -5.2415180 &  1.592609e-07\\\\\n",
       "\t Engineering                                  & -0.273040239 & 0.071473083 &  -3.8201827 &  1.333528e-04\\\\\n",
       "\t Chemistry                                    & -0.868343627 & 0.112895118 &  -7.6915959 &  1.453110e-14\\\\\n",
       "\t Biochemistry\\_\\_Genetics\\_and\\_Molecular\\_Biology &  0.071529266 & 0.037822885 &   1.8911636 &  5.860250e-02\\\\\n",
       "\t Medicine                                     & -0.028104673 & 0.025704129 &  -1.0933914 &  2.742220e-01\\\\\n",
       "\t Nursing                                      &  0.194529207 & 0.064754960 &   3.0040820 &  2.663836e-03\\\\\n",
       "\t Agricultural\\_and\\_Biological\\_Sciences         &  0.249626436 & 0.039212063 &   6.3660622 &  1.939428e-10\\\\\n",
       "\t Pharmacology\\_\\_Toxicology\\_and\\_Pharmaceutics   &  0.187686919 & 0.103371647 &   1.8156518 &  6.942380e-02\\\\\n",
       "\t Neuroscience                                 &  0.311114360 & 0.062358904 &   4.9890929 &  6.066349e-07\\\\\n",
       "\t Business\\_\\_Management\\_and\\_Accounting          & -0.173800116 & 0.049420984 &  -3.5167272 &  4.369026e-04\\\\\n",
       "\t Economics\\_\\_Econometrics\\_and\\_Finance          &  0.165727365 & 0.047390871 &   3.4970315 &  4.704663e-04\\\\\n",
       "\t Chemical\\_Engineering                         &  1.121446258 & 0.145088641 &   7.7293870 &  1.080657e-14\\\\\n",
       "\t Physics\\_and\\_Astronomy                        & -0.102745112 & 0.082926475 &  -1.2389905 &  2.153490e-01\\\\\n",
       "\t Computer\\_Science                             &  0.400107328 & 0.052789658 &   7.5792749 &  3.474915e-14\\\\\n",
       "\t Decision\\_Sciences                            & -0.353294849 & 0.125557847 &  -2.8138014 &  4.895946e-03\\\\\n",
       "\t Health\\_Professions                           &  1.102865700 & 0.090378433 &  12.2027530 &  3.004896e-34\\\\\n",
       "\t Psychology                                   &  0.138816033 & 0.045767002 &   3.0331030 &  2.420529e-03\\\\\n",
       "\t Immunology\\_and\\_Microbiology                  &  0.330365592 & 0.072837970 &   4.5356233 &  5.743362e-06\\\\\n",
       "\t Dentistry                                    & -0.472957802 & 0.417169053 &  -1.1337318 &  2.569071e-01\\\\\n",
       "\t Earth\\_and\\_Planetary\\_Sciences                 & -0.069722872 & 0.059928900 &  -1.1634265 &  2.446565e-01\\\\\n",
       "\t Environmental\\_Science                        & -0.031013903 & 0.044350199 &  -0.6992957 &  4.843673e-01\\\\\n",
       "\t Mathematics                                  &  0.003322238 & 0.081132097 &   0.0409485 &  9.673370e-01\\\\\n",
       "\t Arts\\_and\\_Humanities                          & -0.317633024 & 0.038088421 &  -8.3393592 &  7.469422e-17\\\\\n",
       "\t Energy                                       & -0.413116021 & 0.119929390 &  -3.4446604 &  5.717773e-04\\\\\n",
       "\t Veterinary                                   & -0.337233800 & 0.248568759 &  -1.3567023 &  1.748758e-01\\\\\n",
       "\t General                                      &  0.343065437 & 0.070625262 &   4.8575457 &  1.188497e-06\\\\\n",
       "\t genderFemale:self\\_promotionTrue              & -0.053226845 & 0.039749455 &  -1.3390585 &  1.805516e-01\\\\\n",
       "\\end{tabular}\n"
      ],
      "text/markdown": [
       "\n",
       "A tibble: 42 × 5\n",
       "\n",
       "| term &lt;chr&gt; | estimate &lt;dbl&gt; | std.error &lt;dbl&gt; | statistic &lt;dbl&gt; | p.value &lt;dbl&gt; |\n",
       "|---|---|---|---|---|\n",
       "| (Intercept)                                  | -0.842860669 | 0.073260625 | -11.5049615 |  1.245450e-30 |\n",
       "| genderFemale                                 |  0.143961977 | 0.032576421 |   4.4192079 |  9.906331e-06 |\n",
       "| self_promotionTrue                           |  1.450545095 | 0.023872792 |  60.7614352 |  0.000000e+00 |\n",
       "| follower_cn_snapshot_combine_log             |  0.154236002 | 0.004749847 |  32.4717836 | 2.668945e-231 |\n",
       "| author_pub_count_cate                        | -0.077241269 | 0.009035480 |  -8.5486624 |  1.245232e-17 |\n",
       "| affiliation_rank_cate                        | -0.013902025 | 0.003198486 |  -4.3464390 |  1.383655e-05 |\n",
       "| affiliation_cateinternational                |  0.004329114 | 0.019766420 |   0.2190136 |  8.266395e-01 |\n",
       "| journal_impact                               |  0.035265962 | 0.001275587 |  27.6468570 | 3.044504e-168 |\n",
       "| author_citation_log                          |  0.064260873 | 0.005172701 |  12.4230800 |  1.958727e-35 |\n",
       "| pub_year2014                                 |  0.211180372 | 0.047724704 |   4.4249697 |  9.645581e-06 |\n",
       "| pub_year2015                                 |  0.457772769 | 0.044923234 |  10.1901116 |  2.195122e-24 |\n",
       "| pub_year2016                                 |  0.526332483 | 0.043847489 |  12.0037087 |  3.397251e-33 |\n",
       "| pub_year2017                                 |  0.790052394 | 0.043296179 |  18.2476238 |  2.161068e-74 |\n",
       "| pub_year2018                                 |  0.963782365 | 0.042705390 |  22.5681668 | 8.906249e-113 |\n",
       "| Social_Sciences                              | -0.038774377 | 0.023422881 |  -1.6554060 |  9.784217e-02 |\n",
       "| Materials_Science                            | -0.754271373 | 0.143903229 |  -5.2415180 |  1.592609e-07 |\n",
       "| Engineering                                  | -0.273040239 | 0.071473083 |  -3.8201827 |  1.333528e-04 |\n",
       "| Chemistry                                    | -0.868343627 | 0.112895118 |  -7.6915959 |  1.453110e-14 |\n",
       "| Biochemistry__Genetics_and_Molecular_Biology |  0.071529266 | 0.037822885 |   1.8911636 |  5.860250e-02 |\n",
       "| Medicine                                     | -0.028104673 | 0.025704129 |  -1.0933914 |  2.742220e-01 |\n",
       "| Nursing                                      |  0.194529207 | 0.064754960 |   3.0040820 |  2.663836e-03 |\n",
       "| Agricultural_and_Biological_Sciences         |  0.249626436 | 0.039212063 |   6.3660622 |  1.939428e-10 |\n",
       "| Pharmacology__Toxicology_and_Pharmaceutics   |  0.187686919 | 0.103371647 |   1.8156518 |  6.942380e-02 |\n",
       "| Neuroscience                                 |  0.311114360 | 0.062358904 |   4.9890929 |  6.066349e-07 |\n",
       "| Business__Management_and_Accounting          | -0.173800116 | 0.049420984 |  -3.5167272 |  4.369026e-04 |\n",
       "| Economics__Econometrics_and_Finance          |  0.165727365 | 0.047390871 |   3.4970315 |  4.704663e-04 |\n",
       "| Chemical_Engineering                         |  1.121446258 | 0.145088641 |   7.7293870 |  1.080657e-14 |\n",
       "| Physics_and_Astronomy                        | -0.102745112 | 0.082926475 |  -1.2389905 |  2.153490e-01 |\n",
       "| Computer_Science                             |  0.400107328 | 0.052789658 |   7.5792749 |  3.474915e-14 |\n",
       "| Decision_Sciences                            | -0.353294849 | 0.125557847 |  -2.8138014 |  4.895946e-03 |\n",
       "| Health_Professions                           |  1.102865700 | 0.090378433 |  12.2027530 |  3.004896e-34 |\n",
       "| Psychology                                   |  0.138816033 | 0.045767002 |   3.0331030 |  2.420529e-03 |\n",
       "| Immunology_and_Microbiology                  |  0.330365592 | 0.072837970 |   4.5356233 |  5.743362e-06 |\n",
       "| Dentistry                                    | -0.472957802 | 0.417169053 |  -1.1337318 |  2.569071e-01 |\n",
       "| Earth_and_Planetary_Sciences                 | -0.069722872 | 0.059928900 |  -1.1634265 |  2.446565e-01 |\n",
       "| Environmental_Science                        | -0.031013903 | 0.044350199 |  -0.6992957 |  4.843673e-01 |\n",
       "| Mathematics                                  |  0.003322238 | 0.081132097 |   0.0409485 |  9.673370e-01 |\n",
       "| Arts_and_Humanities                          | -0.317633024 | 0.038088421 |  -8.3393592 |  7.469422e-17 |\n",
       "| Energy                                       | -0.413116021 | 0.119929390 |  -3.4446604 |  5.717773e-04 |\n",
       "| Veterinary                                   | -0.337233800 | 0.248568759 |  -1.3567023 |  1.748758e-01 |\n",
       "| General                                      |  0.343065437 | 0.070625262 |   4.8575457 |  1.188497e-06 |\n",
       "| genderFemale:self_promotionTrue              | -0.053226845 | 0.039749455 |  -1.3390585 |  1.805516e-01 |\n",
       "\n"
      ],
      "text/plain": [
       "   term                                         estimate     std.error  \n",
       "1  (Intercept)                                  -0.842860669 0.073260625\n",
       "2  genderFemale                                  0.143961977 0.032576421\n",
       "3  self_promotionTrue                            1.450545095 0.023872792\n",
       "4  follower_cn_snapshot_combine_log              0.154236002 0.004749847\n",
       "5  author_pub_count_cate                        -0.077241269 0.009035480\n",
       "6  affiliation_rank_cate                        -0.013902025 0.003198486\n",
       "7  affiliation_cateinternational                 0.004329114 0.019766420\n",
       "8  journal_impact                                0.035265962 0.001275587\n",
       "9  author_citation_log                           0.064260873 0.005172701\n",
       "10 pub_year2014                                  0.211180372 0.047724704\n",
       "11 pub_year2015                                  0.457772769 0.044923234\n",
       "12 pub_year2016                                  0.526332483 0.043847489\n",
       "13 pub_year2017                                  0.790052394 0.043296179\n",
       "14 pub_year2018                                  0.963782365 0.042705390\n",
       "15 Social_Sciences                              -0.038774377 0.023422881\n",
       "16 Materials_Science                            -0.754271373 0.143903229\n",
       "17 Engineering                                  -0.273040239 0.071473083\n",
       "18 Chemistry                                    -0.868343627 0.112895118\n",
       "19 Biochemistry__Genetics_and_Molecular_Biology  0.071529266 0.037822885\n",
       "20 Medicine                                     -0.028104673 0.025704129\n",
       "21 Nursing                                       0.194529207 0.064754960\n",
       "22 Agricultural_and_Biological_Sciences          0.249626436 0.039212063\n",
       "23 Pharmacology__Toxicology_and_Pharmaceutics    0.187686919 0.103371647\n",
       "24 Neuroscience                                  0.311114360 0.062358904\n",
       "25 Business__Management_and_Accounting          -0.173800116 0.049420984\n",
       "26 Economics__Econometrics_and_Finance           0.165727365 0.047390871\n",
       "27 Chemical_Engineering                          1.121446258 0.145088641\n",
       "28 Physics_and_Astronomy                        -0.102745112 0.082926475\n",
       "29 Computer_Science                              0.400107328 0.052789658\n",
       "30 Decision_Sciences                            -0.353294849 0.125557847\n",
       "31 Health_Professions                            1.102865700 0.090378433\n",
       "32 Psychology                                    0.138816033 0.045767002\n",
       "33 Immunology_and_Microbiology                   0.330365592 0.072837970\n",
       "34 Dentistry                                    -0.472957802 0.417169053\n",
       "35 Earth_and_Planetary_Sciences                 -0.069722872 0.059928900\n",
       "36 Environmental_Science                        -0.031013903 0.044350199\n",
       "37 Mathematics                                   0.003322238 0.081132097\n",
       "38 Arts_and_Humanities                          -0.317633024 0.038088421\n",
       "39 Energy                                       -0.413116021 0.119929390\n",
       "40 Veterinary                                   -0.337233800 0.248568759\n",
       "41 General                                       0.343065437 0.070625262\n",
       "42 genderFemale:self_promotionTrue              -0.053226845 0.039749455\n",
       "   statistic   p.value      \n",
       "1  -11.5049615  1.245450e-30\n",
       "2    4.4192079  9.906331e-06\n",
       "3   60.7614352  0.000000e+00\n",
       "4   32.4717836 2.668945e-231\n",
       "5   -8.5486624  1.245232e-17\n",
       "6   -4.3464390  1.383655e-05\n",
       "7    0.2190136  8.266395e-01\n",
       "8   27.6468570 3.044504e-168\n",
       "9   12.4230800  1.958727e-35\n",
       "10   4.4249697  9.645581e-06\n",
       "11  10.1901116  2.195122e-24\n",
       "12  12.0037087  3.397251e-33\n",
       "13  18.2476238  2.161068e-74\n",
       "14  22.5681668 8.906249e-113\n",
       "15  -1.6554060  9.784217e-02\n",
       "16  -5.2415180  1.592609e-07\n",
       "17  -3.8201827  1.333528e-04\n",
       "18  -7.6915959  1.453110e-14\n",
       "19   1.8911636  5.860250e-02\n",
       "20  -1.0933914  2.742220e-01\n",
       "21   3.0040820  2.663836e-03\n",
       "22   6.3660622  1.939428e-10\n",
       "23   1.8156518  6.942380e-02\n",
       "24   4.9890929  6.066349e-07\n",
       "25  -3.5167272  4.369026e-04\n",
       "26   3.4970315  4.704663e-04\n",
       "27   7.7293870  1.080657e-14\n",
       "28  -1.2389905  2.153490e-01\n",
       "29   7.5792749  3.474915e-14\n",
       "30  -2.8138014  4.895946e-03\n",
       "31  12.2027530  3.004896e-34\n",
       "32   3.0331030  2.420529e-03\n",
       "33   4.5356233  5.743362e-06\n",
       "34  -1.1337318  2.569071e-01\n",
       "35  -1.1634265  2.446565e-01\n",
       "36  -0.6992957  4.843673e-01\n",
       "37   0.0409485  9.673370e-01\n",
       "38  -8.3393592  7.469422e-17\n",
       "39  -3.4446604  5.717773e-04\n",
       "40  -1.3567023  1.748758e-01\n",
       "41   4.8575457  1.188497e-06\n",
       "42  -1.3390585  1.805516e-01"
      ]
     },
     "metadata": {},
     "output_type": "display_data"
    }
   ],
   "source": [
    "tidy(m_yes)"
   ]
  },
  {
   "cell_type": "code",
   "execution_count": 32,
   "id": "64bad47e",
   "metadata": {
    "scrolled": true
   },
   "outputs": [
    {
     "name": "stdout",
     "output_type": "stream",
     "text": [
      "\n",
      "% Table created by stargazer v.5.2.3 by Marek Hlavac, Social Policy Institute. E-mail: marek.hlavac at gmail.com\n",
      "% Date and time: Tue, Nov 29, 2022 - 04:35:30 PM\n",
      "\\begin{table}[!htbp] \\centering \n",
      "  \\caption{} \n",
      "  \\label{} \n",
      "\\begin{tabular}{@{\\extracolsep{5pt}}lc} \n",
      "\\\\[-1.8ex]\\hline \n",
      "\\hline \\\\[-1.8ex] \n",
      " & \\multicolumn{1}{c}{\\textit{Dependent variable:}} \\\\ \n",
      "\\cline{2-2} \n",
      "\\\\[-1.8ex] & total\\_num\\_tweets \\\\ \n",
      "\\hline \\\\[-1.8ex] \n",
      " genderFemale & 0.144$^{***}$ \\\\ \n",
      "  & p = 0.00001 \\\\ \n",
      "  self\\_promotionTrue & 1.451$^{***}$ \\\\ \n",
      "  & p = 0.000 \\\\ \n",
      "  follower\\_cn\\_snapshot\\_combine\\_log & 0.154$^{***}$ \\\\ \n",
      "  & p = 0.000 \\\\ \n",
      "  author\\_pub\\_count\\_cate & $-$0.077$^{***}$ \\\\ \n",
      "  & p = 0.000 \\\\ \n",
      "  affiliation\\_rank\\_cate & $-$0.014$^{***}$ \\\\ \n",
      "  & p = 0.00002 \\\\ \n",
      "  affiliation\\_cateinternational & 0.004 \\\\ \n",
      "  & p = 0.827 \\\\ \n",
      "  journal\\_impact & 0.035$^{***}$ \\\\ \n",
      "  & p = 0.000 \\\\ \n",
      "  author\\_citation\\_log & 0.064$^{***}$ \\\\ \n",
      "  & p = 0.000 \\\\ \n",
      "  pub\\_year2014 & 0.211$^{***}$ \\\\ \n",
      "  & p = 0.00001 \\\\ \n",
      "  pub\\_year2015 & 0.458$^{***}$ \\\\ \n",
      "  & p = 0.000 \\\\ \n",
      "  pub\\_year2016 & 0.526$^{***}$ \\\\ \n",
      "  & p = 0.000 \\\\ \n",
      "  pub\\_year2017 & 0.790$^{***}$ \\\\ \n",
      "  & p = 0.000 \\\\ \n",
      "  pub\\_year2018 & 0.964$^{***}$ \\\\ \n",
      "  & p = 0.000 \\\\ \n",
      "  Social\\_Sciences & $-$0.039 \\\\ \n",
      "  & p = 0.098 \\\\ \n",
      "  Materials\\_Science & $-$0.754$^{***}$ \\\\ \n",
      "  & p = 0.00000 \\\\ \n",
      "  Engineering & $-$0.273$^{***}$ \\\\ \n",
      "  & p = 0.0002 \\\\ \n",
      "  Chemistry & $-$0.868$^{***}$ \\\\ \n",
      "  & p = 0.000 \\\\ \n",
      "  Biochemistry\\_\\_Genetics\\_and\\_Molecular\\_Biology & 0.072 \\\\ \n",
      "  & p = 0.059 \\\\ \n",
      "  Medicine & $-$0.028 \\\\ \n",
      "  & p = 0.275 \\\\ \n",
      "  Nursing & 0.195$^{**}$ \\\\ \n",
      "  & p = 0.003 \\\\ \n",
      "  Agricultural\\_and\\_Biological\\_Sciences & 0.250$^{***}$ \\\\ \n",
      "  & p = 0.000 \\\\ \n",
      "  Pharmacology\\_\\_Toxicology\\_and\\_Pharmaceutics & 0.188 \\\\ \n",
      "  & p = 0.070 \\\\ \n",
      "  Neuroscience & 0.311$^{***}$ \\\\ \n",
      "  & p = 0.00000 \\\\ \n",
      "  Business\\_\\_Management\\_and\\_Accounting & $-$0.174$^{***}$ \\\\ \n",
      "  & p = 0.0005 \\\\ \n",
      "  Economics\\_\\_Econometrics\\_and\\_Finance & 0.166$^{***}$ \\\\ \n",
      "  & p = 0.0005 \\\\ \n",
      "  Chemical\\_Engineering & 1.121$^{***}$ \\\\ \n",
      "  & p = 0.000 \\\\ \n",
      "  Physics\\_and\\_Astronomy & $-$0.103 \\\\ \n",
      "  & p = 0.216 \\\\ \n",
      "  Computer\\_Science & 0.400$^{***}$ \\\\ \n",
      "  & p = 0.000 \\\\ \n",
      "  Decision\\_Sciences & $-$0.353$^{**}$ \\\\ \n",
      "  & p = 0.005 \\\\ \n",
      "  Health\\_Professions & 1.103$^{***}$ \\\\ \n",
      "  & p = 0.000 \\\\ \n",
      "  Psychology & 0.139$^{**}$ \\\\ \n",
      "  & p = 0.003 \\\\ \n",
      "  Immunology\\_and\\_Microbiology & 0.330$^{***}$ \\\\ \n",
      "  & p = 0.00001 \\\\ \n",
      "  Dentistry & $-$0.473 \\\\ \n",
      "  & p = 0.257 \\\\ \n",
      "  Earth\\_and\\_Planetary\\_Sciences & $-$0.070 \\\\ \n",
      "  & p = 0.245 \\\\ \n",
      "  Environmental\\_Science & $-$0.031 \\\\ \n",
      "  & p = 0.485 \\\\ \n",
      "  Mathematics & 0.003 \\\\ \n",
      "  & p = 0.968 \\\\ \n",
      "  Arts\\_and\\_Humanities & $-$0.318$^{***}$ \\\\ \n",
      "  & p = 0.000 \\\\ \n",
      "  Energy & $-$0.413$^{***}$ \\\\ \n",
      "  & p = 0.001 \\\\ \n",
      "  Veterinary & $-$0.337 \\\\ \n",
      "  & p = 0.175 \\\\ \n",
      "  General & 0.343$^{***}$ \\\\ \n",
      "  & p = 0.00001 \\\\ \n",
      "  genderFemale:self\\_promotionTrue & $-$0.053 \\\\ \n",
      "  & p = 0.181 \\\\ \n",
      "  Constant & $-$0.843$^{***}$ \\\\ \n",
      "  & p = 0.000 \\\\ \n",
      " \\hline \\\\[-1.8ex] \n",
      "Observations & 20,216 \\\\ \n",
      "Log Likelihood & $-$71,923.590 \\\\ \n",
      "$\\theta$ & 0.673$^{***}$  (0.007) \\\\ \n",
      "Akaike Inf. Crit. & 143,931.200 \\\\ \n",
      "\\hline \n",
      "\\hline \\\\[-1.8ex] \n",
      "\\textit{Note:}  & \\multicolumn{1}{r}{$^{*}$p$<$0.05; $^{**}$p$<$0.01; $^{***}$p$<$0.001} \\\\ \n",
      "\\end{tabular} \n",
      "\\end{table} \n"
     ]
    }
   ],
   "source": [
    "# use this search string in Sublime: \" \\\\\\\\ \\n  &\" with \" &\"\n",
    "stargazer(m_yes, type = \"latex\", single.row=TRUE, ci = FALSE, report = ('vc*p'), star.cutoffs = c(0.05, 0.01, 0.001))"
   ]
  },
  {
   "cell_type": "code",
   "execution_count": null,
   "id": "f30974c8",
   "metadata": {},
   "outputs": [],
   "source": []
  },
  {
   "cell_type": "markdown",
   "id": "a7b4ff33",
   "metadata": {},
   "source": [
    "## Robustness check 2 (different definition of self-promotion)"
   ]
  },
  {
   "cell_type": "markdown",
   "id": "8c2dd23d",
   "metadata": {},
   "source": [
    "Define self-promotion as those happen in less than a day (fitted to active subset)"
   ]
  },
  {
   "cell_type": "code",
   "execution_count": 37,
   "id": "cbc8d0c9",
   "metadata": {
    "scrolled": true
   },
   "outputs": [],
   "source": [
    "base_str <- \"total_num_tweets ~ 1 + gender * self_promotion_def + authorship_pos + follower_cn_snapshot_combine_log + \\\n",
    "        author_pub_count_cate + affiliation_rank_cate + affiliation_cate + num_authors + journal_impact + \\\n",
    "        author_citation_log + pub_year\"\n",
    "equation <- as.formula(paste(base_str, keywords, sep = \" \"))\n",
    "m_yes <- glm.nb(equation, data = mydata[mydata$is_active_on_twitter == \"True\", ])\n"
   ]
  },
  {
   "cell_type": "code",
   "execution_count": 38,
   "id": "c21f3015",
   "metadata": {
    "scrolled": true
   },
   "outputs": [
    {
     "data": {
      "text/html": [
       "<table class=\"dataframe\">\n",
       "<caption>A tibble: 46 × 5</caption>\n",
       "<thead>\n",
       "\t<tr><th scope=col>term</th><th scope=col>estimate</th><th scope=col>std.error</th><th scope=col>statistic</th><th scope=col>p.value</th></tr>\n",
       "\t<tr><th scope=col>&lt;chr&gt;</th><th scope=col>&lt;dbl&gt;</th><th scope=col>&lt;dbl&gt;</th><th scope=col>&lt;dbl&gt;</th><th scope=col>&lt;dbl&gt;</th></tr>\n",
       "</thead>\n",
       "<tbody>\n",
       "\t<tr><td>(Intercept)                                 </td><td> 0.599030622</td><td>1.542346e-02</td><td> 38.8389345</td><td> 0.000000e+00</td></tr>\n",
       "\t<tr><td>genderFemale                                </td><td> 0.093046541</td><td>4.799430e-03</td><td> 19.3869971</td><td> 9.937172e-84</td></tr>\n",
       "\t<tr><td>self_promotion_defTrue                      </td><td> 0.744199211</td><td>4.879306e-03</td><td>152.5215365</td><td> 0.000000e+00</td></tr>\n",
       "\t<tr><td>authorship_posfirst_position                </td><td> 0.179590733</td><td>5.958296e-03</td><td> 30.1412905</td><td>1.395080e-199</td></tr>\n",
       "\t<tr><td>authorship_posmiddle_position               </td><td> 0.171725548</td><td>4.583121e-03</td><td> 37.4691292</td><td>2.932282e-307</td></tr>\n",
       "\t<tr><td>authorship_possolo_author                   </td><td>-0.099390986</td><td>1.108423e-02</td><td> -8.9668857</td><td> 3.050164e-19</td></tr>\n",
       "\t<tr><td>follower_cn_snapshot_combine_log            </td><td> 0.134726568</td><td>9.485293e-04</td><td>142.0373237</td><td> 0.000000e+00</td></tr>\n",
       "\t<tr><td>author_pub_count_cate                       </td><td>-0.109338019</td><td>1.930348e-03</td><td>-56.6416235</td><td> 0.000000e+00</td></tr>\n",
       "\t<tr><td>affiliation_rank_cate                       </td><td>-0.006754288</td><td>6.900955e-04</td><td> -9.7874679</td><td> 1.274475e-22</td></tr>\n",
       "\t<tr><td>affiliation_cateinternational               </td><td> 0.096719994</td><td>4.031231e-03</td><td> 23.9926704</td><td>3.316538e-127</td></tr>\n",
       "\t<tr><td>num_authors                                 </td><td> 0.001049370</td><td>1.712553e-05</td><td> 61.2751968</td><td> 0.000000e+00</td></tr>\n",
       "\t<tr><td>journal_impact                              </td><td> 0.065728775</td><td>2.559688e-04</td><td>256.7843438</td><td> 0.000000e+00</td></tr>\n",
       "\t<tr><td>author_citation_log                         </td><td> 0.039080808</td><td>1.135760e-03</td><td> 34.4093846</td><td>1.825222e-259</td></tr>\n",
       "\t<tr><td>pub_year2014                                </td><td> 0.211899387</td><td>1.120671e-02</td><td> 18.9082532</td><td> 9.753447e-80</td></tr>\n",
       "\t<tr><td>pub_year2015                                </td><td> 0.351031645</td><td>1.042523e-02</td><td> 33.6713479</td><td>1.518844e-248</td></tr>\n",
       "\t<tr><td>pub_year2016                                </td><td> 0.487344747</td><td>1.006940e-02</td><td> 48.3985859</td><td> 0.000000e+00</td></tr>\n",
       "\t<tr><td>pub_year2017                                </td><td> 0.775702568</td><td>9.878207e-03</td><td> 78.5266601</td><td> 0.000000e+00</td></tr>\n",
       "\t<tr><td>pub_year2018                                </td><td> 0.904023250</td><td>9.741637e-03</td><td> 92.7999309</td><td> 0.000000e+00</td></tr>\n",
       "\t<tr><td>Social_Sciences                             </td><td>-0.096416169</td><td>8.163568e-03</td><td>-11.8105424</td><td> 3.443328e-32</td></tr>\n",
       "\t<tr><td>Materials_Science                           </td><td>-0.490002190</td><td>1.682990e-02</td><td>-29.1149832</td><td>2.319803e-186</td></tr>\n",
       "\t<tr><td>Engineering                                 </td><td>-0.344838540</td><td>1.317246e-02</td><td>-26.1787457</td><td>4.640366e-151</td></tr>\n",
       "\t<tr><td>Chemistry                                   </td><td>-0.989549718</td><td>1.255235e-02</td><td>-78.8338218</td><td> 0.000000e+00</td></tr>\n",
       "\t<tr><td>Biochemistry__Genetics_and_Molecular_Biology</td><td>-0.115906700</td><td>5.243872e-03</td><td>-22.1032678</td><td>2.940011e-108</td></tr>\n",
       "\t<tr><td>Medicine                                    </td><td>-0.102738453</td><td>4.181154e-03</td><td>-24.5717935</td><td>2.530102e-133</td></tr>\n",
       "\t<tr><td>Nursing                                     </td><td> 0.154741892</td><td>1.139665e-02</td><td> 13.5778453</td><td> 5.419748e-42</td></tr>\n",
       "\t<tr><td>Agricultural_and_Biological_Sciences        </td><td> 0.429054556</td><td>6.107761e-03</td><td> 70.2474386</td><td> 0.000000e+00</td></tr>\n",
       "\t<tr><td>Pharmacology__Toxicology_and_Pharmaceutics  </td><td>-0.480035234</td><td>1.309022e-02</td><td>-36.6712779</td><td>2.096310e-294</td></tr>\n",
       "\t<tr><td>Neuroscience                                </td><td>-0.008244831</td><td>8.680110e-03</td><td> -0.9498533</td><td> 3.421868e-01</td></tr>\n",
       "\t<tr><td>Business__Management_and_Accounting         </td><td>-0.389244785</td><td>1.651145e-02</td><td>-23.5742386</td><td>7.084197e-123</td></tr>\n",
       "\t<tr><td>Economics__Econometrics_and_Finance         </td><td>-0.080307086</td><td>1.813708e-02</td><td> -4.4277844</td><td> 9.520598e-06</td></tr>\n",
       "\t<tr><td>Chemical_Engineering                        </td><td> 0.121279438</td><td>1.838143e-02</td><td>  6.5979309</td><td> 4.169354e-11</td></tr>\n",
       "\t<tr><td>Physics_and_Astronomy                       </td><td>-0.612914951</td><td>1.334265e-02</td><td>-45.9365178</td><td> 0.000000e+00</td></tr>\n",
       "\t<tr><td>Computer_Science                            </td><td>-0.147400455</td><td>1.269553e-02</td><td>-11.6104196</td><td> 3.648211e-31</td></tr>\n",
       "\t<tr><td>Decision_Sciences                           </td><td>-0.484739177</td><td>2.770858e-02</td><td>-17.4941880</td><td> 1.586575e-68</td></tr>\n",
       "\t<tr><td>Health_Professions                          </td><td> 0.726386421</td><td>1.296571e-02</td><td> 56.0236592</td><td> 0.000000e+00</td></tr>\n",
       "\t<tr><td>Psychology                                  </td><td>-0.191364202</td><td>1.169639e-02</td><td>-16.3609680</td><td> 3.633070e-60</td></tr>\n",
       "\t<tr><td>Immunology_and_Microbiology                 </td><td>-0.013878163</td><td>9.971693e-03</td><td> -1.3917559</td><td> 1.639963e-01</td></tr>\n",
       "\t<tr><td>Dentistry                                   </td><td>-0.691332442</td><td>5.007116e-02</td><td>-13.8069981</td><td> 2.312697e-43</td></tr>\n",
       "\t<tr><td>Earth_and_Planetary_Sciences                </td><td>-0.483941390</td><td>1.058701e-02</td><td>-45.7108455</td><td> 0.000000e+00</td></tr>\n",
       "\t<tr><td>Environmental_Science                       </td><td>-0.250554411</td><td>7.807026e-03</td><td>-32.0934500</td><td>5.441494e-226</td></tr>\n",
       "\t<tr><td>Mathematics                                 </td><td> 0.557056229</td><td>1.731590e-02</td><td> 32.1702238</td><td>4.606049e-227</td></tr>\n",
       "\t<tr><td>Arts_and_Humanities                         </td><td>-0.147198283</td><td>2.277516e-02</td><td> -6.4631064</td><td> 1.025751e-10</td></tr>\n",
       "\t<tr><td>Energy                                      </td><td>-0.367180390</td><td>2.295982e-02</td><td>-15.9923036</td><td> 1.445841e-57</td></tr>\n",
       "\t<tr><td>Veterinary                                  </td><td>-0.801115503</td><td>2.852378e-02</td><td>-28.0858856</td><td>1.457048e-173</td></tr>\n",
       "\t<tr><td>General                                     </td><td> 0.477921898</td><td>1.327928e-02</td><td> 35.9900358</td><td>1.197741e-283</td></tr>\n",
       "\t<tr><td>genderFemale:self_promotion_defTrue         </td><td>-0.089287573</td><td>8.607948e-03</td><td>-10.3726891</td><td> 3.301023e-25</td></tr>\n",
       "</tbody>\n",
       "</table>\n"
      ],
      "text/latex": [
       "A tibble: 46 × 5\n",
       "\\begin{tabular}{lllll}\n",
       " term & estimate & std.error & statistic & p.value\\\\\n",
       " <chr> & <dbl> & <dbl> & <dbl> & <dbl>\\\\\n",
       "\\hline\n",
       "\t (Intercept)                                  &  0.599030622 & 1.542346e-02 &  38.8389345 &  0.000000e+00\\\\\n",
       "\t genderFemale                                 &  0.093046541 & 4.799430e-03 &  19.3869971 &  9.937172e-84\\\\\n",
       "\t self\\_promotion\\_defTrue                       &  0.744199211 & 4.879306e-03 & 152.5215365 &  0.000000e+00\\\\\n",
       "\t authorship\\_posfirst\\_position                 &  0.179590733 & 5.958296e-03 &  30.1412905 & 1.395080e-199\\\\\n",
       "\t authorship\\_posmiddle\\_position                &  0.171725548 & 4.583121e-03 &  37.4691292 & 2.932282e-307\\\\\n",
       "\t authorship\\_possolo\\_author                    & -0.099390986 & 1.108423e-02 &  -8.9668857 &  3.050164e-19\\\\\n",
       "\t follower\\_cn\\_snapshot\\_combine\\_log             &  0.134726568 & 9.485293e-04 & 142.0373237 &  0.000000e+00\\\\\n",
       "\t author\\_pub\\_count\\_cate                        & -0.109338019 & 1.930348e-03 & -56.6416235 &  0.000000e+00\\\\\n",
       "\t affiliation\\_rank\\_cate                        & -0.006754288 & 6.900955e-04 &  -9.7874679 &  1.274475e-22\\\\\n",
       "\t affiliation\\_cateinternational                &  0.096719994 & 4.031231e-03 &  23.9926704 & 3.316538e-127\\\\\n",
       "\t num\\_authors                                  &  0.001049370 & 1.712553e-05 &  61.2751968 &  0.000000e+00\\\\\n",
       "\t journal\\_impact                               &  0.065728775 & 2.559688e-04 & 256.7843438 &  0.000000e+00\\\\\n",
       "\t author\\_citation\\_log                          &  0.039080808 & 1.135760e-03 &  34.4093846 & 1.825222e-259\\\\\n",
       "\t pub\\_year2014                                 &  0.211899387 & 1.120671e-02 &  18.9082532 &  9.753447e-80\\\\\n",
       "\t pub\\_year2015                                 &  0.351031645 & 1.042523e-02 &  33.6713479 & 1.518844e-248\\\\\n",
       "\t pub\\_year2016                                 &  0.487344747 & 1.006940e-02 &  48.3985859 &  0.000000e+00\\\\\n",
       "\t pub\\_year2017                                 &  0.775702568 & 9.878207e-03 &  78.5266601 &  0.000000e+00\\\\\n",
       "\t pub\\_year2018                                 &  0.904023250 & 9.741637e-03 &  92.7999309 &  0.000000e+00\\\\\n",
       "\t Social\\_Sciences                              & -0.096416169 & 8.163568e-03 & -11.8105424 &  3.443328e-32\\\\\n",
       "\t Materials\\_Science                            & -0.490002190 & 1.682990e-02 & -29.1149832 & 2.319803e-186\\\\\n",
       "\t Engineering                                  & -0.344838540 & 1.317246e-02 & -26.1787457 & 4.640366e-151\\\\\n",
       "\t Chemistry                                    & -0.989549718 & 1.255235e-02 & -78.8338218 &  0.000000e+00\\\\\n",
       "\t Biochemistry\\_\\_Genetics\\_and\\_Molecular\\_Biology & -0.115906700 & 5.243872e-03 & -22.1032678 & 2.940011e-108\\\\\n",
       "\t Medicine                                     & -0.102738453 & 4.181154e-03 & -24.5717935 & 2.530102e-133\\\\\n",
       "\t Nursing                                      &  0.154741892 & 1.139665e-02 &  13.5778453 &  5.419748e-42\\\\\n",
       "\t Agricultural\\_and\\_Biological\\_Sciences         &  0.429054556 & 6.107761e-03 &  70.2474386 &  0.000000e+00\\\\\n",
       "\t Pharmacology\\_\\_Toxicology\\_and\\_Pharmaceutics   & -0.480035234 & 1.309022e-02 & -36.6712779 & 2.096310e-294\\\\\n",
       "\t Neuroscience                                 & -0.008244831 & 8.680110e-03 &  -0.9498533 &  3.421868e-01\\\\\n",
       "\t Business\\_\\_Management\\_and\\_Accounting          & -0.389244785 & 1.651145e-02 & -23.5742386 & 7.084197e-123\\\\\n",
       "\t Economics\\_\\_Econometrics\\_and\\_Finance          & -0.080307086 & 1.813708e-02 &  -4.4277844 &  9.520598e-06\\\\\n",
       "\t Chemical\\_Engineering                         &  0.121279438 & 1.838143e-02 &   6.5979309 &  4.169354e-11\\\\\n",
       "\t Physics\\_and\\_Astronomy                        & -0.612914951 & 1.334265e-02 & -45.9365178 &  0.000000e+00\\\\\n",
       "\t Computer\\_Science                             & -0.147400455 & 1.269553e-02 & -11.6104196 &  3.648211e-31\\\\\n",
       "\t Decision\\_Sciences                            & -0.484739177 & 2.770858e-02 & -17.4941880 &  1.586575e-68\\\\\n",
       "\t Health\\_Professions                           &  0.726386421 & 1.296571e-02 &  56.0236592 &  0.000000e+00\\\\\n",
       "\t Psychology                                   & -0.191364202 & 1.169639e-02 & -16.3609680 &  3.633070e-60\\\\\n",
       "\t Immunology\\_and\\_Microbiology                  & -0.013878163 & 9.971693e-03 &  -1.3917559 &  1.639963e-01\\\\\n",
       "\t Dentistry                                    & -0.691332442 & 5.007116e-02 & -13.8069981 &  2.312697e-43\\\\\n",
       "\t Earth\\_and\\_Planetary\\_Sciences                 & -0.483941390 & 1.058701e-02 & -45.7108455 &  0.000000e+00\\\\\n",
       "\t Environmental\\_Science                        & -0.250554411 & 7.807026e-03 & -32.0934500 & 5.441494e-226\\\\\n",
       "\t Mathematics                                  &  0.557056229 & 1.731590e-02 &  32.1702238 & 4.606049e-227\\\\\n",
       "\t Arts\\_and\\_Humanities                          & -0.147198283 & 2.277516e-02 &  -6.4631064 &  1.025751e-10\\\\\n",
       "\t Energy                                       & -0.367180390 & 2.295982e-02 & -15.9923036 &  1.445841e-57\\\\\n",
       "\t Veterinary                                   & -0.801115503 & 2.852378e-02 & -28.0858856 & 1.457048e-173\\\\\n",
       "\t General                                      &  0.477921898 & 1.327928e-02 &  35.9900358 & 1.197741e-283\\\\\n",
       "\t genderFemale:self\\_promotion\\_defTrue          & -0.089287573 & 8.607948e-03 & -10.3726891 &  3.301023e-25\\\\\n",
       "\\end{tabular}\n"
      ],
      "text/markdown": [
       "\n",
       "A tibble: 46 × 5\n",
       "\n",
       "| term &lt;chr&gt; | estimate &lt;dbl&gt; | std.error &lt;dbl&gt; | statistic &lt;dbl&gt; | p.value &lt;dbl&gt; |\n",
       "|---|---|---|---|---|\n",
       "| (Intercept)                                  |  0.599030622 | 1.542346e-02 |  38.8389345 |  0.000000e+00 |\n",
       "| genderFemale                                 |  0.093046541 | 4.799430e-03 |  19.3869971 |  9.937172e-84 |\n",
       "| self_promotion_defTrue                       |  0.744199211 | 4.879306e-03 | 152.5215365 |  0.000000e+00 |\n",
       "| authorship_posfirst_position                 |  0.179590733 | 5.958296e-03 |  30.1412905 | 1.395080e-199 |\n",
       "| authorship_posmiddle_position                |  0.171725548 | 4.583121e-03 |  37.4691292 | 2.932282e-307 |\n",
       "| authorship_possolo_author                    | -0.099390986 | 1.108423e-02 |  -8.9668857 |  3.050164e-19 |\n",
       "| follower_cn_snapshot_combine_log             |  0.134726568 | 9.485293e-04 | 142.0373237 |  0.000000e+00 |\n",
       "| author_pub_count_cate                        | -0.109338019 | 1.930348e-03 | -56.6416235 |  0.000000e+00 |\n",
       "| affiliation_rank_cate                        | -0.006754288 | 6.900955e-04 |  -9.7874679 |  1.274475e-22 |\n",
       "| affiliation_cateinternational                |  0.096719994 | 4.031231e-03 |  23.9926704 | 3.316538e-127 |\n",
       "| num_authors                                  |  0.001049370 | 1.712553e-05 |  61.2751968 |  0.000000e+00 |\n",
       "| journal_impact                               |  0.065728775 | 2.559688e-04 | 256.7843438 |  0.000000e+00 |\n",
       "| author_citation_log                          |  0.039080808 | 1.135760e-03 |  34.4093846 | 1.825222e-259 |\n",
       "| pub_year2014                                 |  0.211899387 | 1.120671e-02 |  18.9082532 |  9.753447e-80 |\n",
       "| pub_year2015                                 |  0.351031645 | 1.042523e-02 |  33.6713479 | 1.518844e-248 |\n",
       "| pub_year2016                                 |  0.487344747 | 1.006940e-02 |  48.3985859 |  0.000000e+00 |\n",
       "| pub_year2017                                 |  0.775702568 | 9.878207e-03 |  78.5266601 |  0.000000e+00 |\n",
       "| pub_year2018                                 |  0.904023250 | 9.741637e-03 |  92.7999309 |  0.000000e+00 |\n",
       "| Social_Sciences                              | -0.096416169 | 8.163568e-03 | -11.8105424 |  3.443328e-32 |\n",
       "| Materials_Science                            | -0.490002190 | 1.682990e-02 | -29.1149832 | 2.319803e-186 |\n",
       "| Engineering                                  | -0.344838540 | 1.317246e-02 | -26.1787457 | 4.640366e-151 |\n",
       "| Chemistry                                    | -0.989549718 | 1.255235e-02 | -78.8338218 |  0.000000e+00 |\n",
       "| Biochemistry__Genetics_and_Molecular_Biology | -0.115906700 | 5.243872e-03 | -22.1032678 | 2.940011e-108 |\n",
       "| Medicine                                     | -0.102738453 | 4.181154e-03 | -24.5717935 | 2.530102e-133 |\n",
       "| Nursing                                      |  0.154741892 | 1.139665e-02 |  13.5778453 |  5.419748e-42 |\n",
       "| Agricultural_and_Biological_Sciences         |  0.429054556 | 6.107761e-03 |  70.2474386 |  0.000000e+00 |\n",
       "| Pharmacology__Toxicology_and_Pharmaceutics   | -0.480035234 | 1.309022e-02 | -36.6712779 | 2.096310e-294 |\n",
       "| Neuroscience                                 | -0.008244831 | 8.680110e-03 |  -0.9498533 |  3.421868e-01 |\n",
       "| Business__Management_and_Accounting          | -0.389244785 | 1.651145e-02 | -23.5742386 | 7.084197e-123 |\n",
       "| Economics__Econometrics_and_Finance          | -0.080307086 | 1.813708e-02 |  -4.4277844 |  9.520598e-06 |\n",
       "| Chemical_Engineering                         |  0.121279438 | 1.838143e-02 |   6.5979309 |  4.169354e-11 |\n",
       "| Physics_and_Astronomy                        | -0.612914951 | 1.334265e-02 | -45.9365178 |  0.000000e+00 |\n",
       "| Computer_Science                             | -0.147400455 | 1.269553e-02 | -11.6104196 |  3.648211e-31 |\n",
       "| Decision_Sciences                            | -0.484739177 | 2.770858e-02 | -17.4941880 |  1.586575e-68 |\n",
       "| Health_Professions                           |  0.726386421 | 1.296571e-02 |  56.0236592 |  0.000000e+00 |\n",
       "| Psychology                                   | -0.191364202 | 1.169639e-02 | -16.3609680 |  3.633070e-60 |\n",
       "| Immunology_and_Microbiology                  | -0.013878163 | 9.971693e-03 |  -1.3917559 |  1.639963e-01 |\n",
       "| Dentistry                                    | -0.691332442 | 5.007116e-02 | -13.8069981 |  2.312697e-43 |\n",
       "| Earth_and_Planetary_Sciences                 | -0.483941390 | 1.058701e-02 | -45.7108455 |  0.000000e+00 |\n",
       "| Environmental_Science                        | -0.250554411 | 7.807026e-03 | -32.0934500 | 5.441494e-226 |\n",
       "| Mathematics                                  |  0.557056229 | 1.731590e-02 |  32.1702238 | 4.606049e-227 |\n",
       "| Arts_and_Humanities                          | -0.147198283 | 2.277516e-02 |  -6.4631064 |  1.025751e-10 |\n",
       "| Energy                                       | -0.367180390 | 2.295982e-02 | -15.9923036 |  1.445841e-57 |\n",
       "| Veterinary                                   | -0.801115503 | 2.852378e-02 | -28.0858856 | 1.457048e-173 |\n",
       "| General                                      |  0.477921898 | 1.327928e-02 |  35.9900358 | 1.197741e-283 |\n",
       "| genderFemale:self_promotion_defTrue          | -0.089287573 | 8.607948e-03 | -10.3726891 |  3.301023e-25 |\n",
       "\n"
      ],
      "text/plain": [
       "   term                                         estimate     std.error   \n",
       "1  (Intercept)                                   0.599030622 1.542346e-02\n",
       "2  genderFemale                                  0.093046541 4.799430e-03\n",
       "3  self_promotion_defTrue                        0.744199211 4.879306e-03\n",
       "4  authorship_posfirst_position                  0.179590733 5.958296e-03\n",
       "5  authorship_posmiddle_position                 0.171725548 4.583121e-03\n",
       "6  authorship_possolo_author                    -0.099390986 1.108423e-02\n",
       "7  follower_cn_snapshot_combine_log              0.134726568 9.485293e-04\n",
       "8  author_pub_count_cate                        -0.109338019 1.930348e-03\n",
       "9  affiliation_rank_cate                        -0.006754288 6.900955e-04\n",
       "10 affiliation_cateinternational                 0.096719994 4.031231e-03\n",
       "11 num_authors                                   0.001049370 1.712553e-05\n",
       "12 journal_impact                                0.065728775 2.559688e-04\n",
       "13 author_citation_log                           0.039080808 1.135760e-03\n",
       "14 pub_year2014                                  0.211899387 1.120671e-02\n",
       "15 pub_year2015                                  0.351031645 1.042523e-02\n",
       "16 pub_year2016                                  0.487344747 1.006940e-02\n",
       "17 pub_year2017                                  0.775702568 9.878207e-03\n",
       "18 pub_year2018                                  0.904023250 9.741637e-03\n",
       "19 Social_Sciences                              -0.096416169 8.163568e-03\n",
       "20 Materials_Science                            -0.490002190 1.682990e-02\n",
       "21 Engineering                                  -0.344838540 1.317246e-02\n",
       "22 Chemistry                                    -0.989549718 1.255235e-02\n",
       "23 Biochemistry__Genetics_and_Molecular_Biology -0.115906700 5.243872e-03\n",
       "24 Medicine                                     -0.102738453 4.181154e-03\n",
       "25 Nursing                                       0.154741892 1.139665e-02\n",
       "26 Agricultural_and_Biological_Sciences          0.429054556 6.107761e-03\n",
       "27 Pharmacology__Toxicology_and_Pharmaceutics   -0.480035234 1.309022e-02\n",
       "28 Neuroscience                                 -0.008244831 8.680110e-03\n",
       "29 Business__Management_and_Accounting          -0.389244785 1.651145e-02\n",
       "30 Economics__Econometrics_and_Finance          -0.080307086 1.813708e-02\n",
       "31 Chemical_Engineering                          0.121279438 1.838143e-02\n",
       "32 Physics_and_Astronomy                        -0.612914951 1.334265e-02\n",
       "33 Computer_Science                             -0.147400455 1.269553e-02\n",
       "34 Decision_Sciences                            -0.484739177 2.770858e-02\n",
       "35 Health_Professions                            0.726386421 1.296571e-02\n",
       "36 Psychology                                   -0.191364202 1.169639e-02\n",
       "37 Immunology_and_Microbiology                  -0.013878163 9.971693e-03\n",
       "38 Dentistry                                    -0.691332442 5.007116e-02\n",
       "39 Earth_and_Planetary_Sciences                 -0.483941390 1.058701e-02\n",
       "40 Environmental_Science                        -0.250554411 7.807026e-03\n",
       "41 Mathematics                                   0.557056229 1.731590e-02\n",
       "42 Arts_and_Humanities                          -0.147198283 2.277516e-02\n",
       "43 Energy                                       -0.367180390 2.295982e-02\n",
       "44 Veterinary                                   -0.801115503 2.852378e-02\n",
       "45 General                                       0.477921898 1.327928e-02\n",
       "46 genderFemale:self_promotion_defTrue          -0.089287573 8.607948e-03\n",
       "   statistic   p.value      \n",
       "1   38.8389345  0.000000e+00\n",
       "2   19.3869971  9.937172e-84\n",
       "3  152.5215365  0.000000e+00\n",
       "4   30.1412905 1.395080e-199\n",
       "5   37.4691292 2.932282e-307\n",
       "6   -8.9668857  3.050164e-19\n",
       "7  142.0373237  0.000000e+00\n",
       "8  -56.6416235  0.000000e+00\n",
       "9   -9.7874679  1.274475e-22\n",
       "10  23.9926704 3.316538e-127\n",
       "11  61.2751968  0.000000e+00\n",
       "12 256.7843438  0.000000e+00\n",
       "13  34.4093846 1.825222e-259\n",
       "14  18.9082532  9.753447e-80\n",
       "15  33.6713479 1.518844e-248\n",
       "16  48.3985859  0.000000e+00\n",
       "17  78.5266601  0.000000e+00\n",
       "18  92.7999309  0.000000e+00\n",
       "19 -11.8105424  3.443328e-32\n",
       "20 -29.1149832 2.319803e-186\n",
       "21 -26.1787457 4.640366e-151\n",
       "22 -78.8338218  0.000000e+00\n",
       "23 -22.1032678 2.940011e-108\n",
       "24 -24.5717935 2.530102e-133\n",
       "25  13.5778453  5.419748e-42\n",
       "26  70.2474386  0.000000e+00\n",
       "27 -36.6712779 2.096310e-294\n",
       "28  -0.9498533  3.421868e-01\n",
       "29 -23.5742386 7.084197e-123\n",
       "30  -4.4277844  9.520598e-06\n",
       "31   6.5979309  4.169354e-11\n",
       "32 -45.9365178  0.000000e+00\n",
       "33 -11.6104196  3.648211e-31\n",
       "34 -17.4941880  1.586575e-68\n",
       "35  56.0236592  0.000000e+00\n",
       "36 -16.3609680  3.633070e-60\n",
       "37  -1.3917559  1.639963e-01\n",
       "38 -13.8069981  2.312697e-43\n",
       "39 -45.7108455  0.000000e+00\n",
       "40 -32.0934500 5.441494e-226\n",
       "41  32.1702238 4.606049e-227\n",
       "42  -6.4631064  1.025751e-10\n",
       "43 -15.9923036  1.445841e-57\n",
       "44 -28.0858856 1.457048e-173\n",
       "45  35.9900358 1.197741e-283\n",
       "46 -10.3726891  3.301023e-25"
      ]
     },
     "metadata": {},
     "output_type": "display_data"
    }
   ],
   "source": [
    "tidy(m_yes)"
   ]
  },
  {
   "cell_type": "code",
   "execution_count": 39,
   "id": "8a5c99dc",
   "metadata": {
    "scrolled": true
   },
   "outputs": [
    {
     "name": "stdout",
     "output_type": "stream",
     "text": [
      "\n",
      "% Table created by stargazer v.5.2.3 by Marek Hlavac, Social Policy Institute. E-mail: marek.hlavac at gmail.com\n",
      "% Date and time: Tue, Nov 29, 2022 - 04:40:09 PM\n",
      "\\begin{table}[!htbp] \\centering \n",
      "  \\caption{} \n",
      "  \\label{} \n",
      "\\begin{tabular}{@{\\extracolsep{5pt}}lc} \n",
      "\\\\[-1.8ex]\\hline \n",
      "\\hline \\\\[-1.8ex] \n",
      " & \\multicolumn{1}{c}{\\textit{Dependent variable:}} \\\\ \n",
      "\\cline{2-2} \n",
      "\\\\[-1.8ex] & total\\_num\\_tweets \\\\ \n",
      "\\hline \\\\[-1.8ex] \n",
      " genderFemale & 0.093$^{***}$ \\\\ \n",
      "  & p = 0.000 \\\\ \n",
      "  self\\_promotion\\_defTrue & 0.744$^{***}$ \\\\ \n",
      "  & p = 0.000 \\\\ \n",
      "  authorship\\_posfirst\\_position & 0.180$^{***}$ \\\\ \n",
      "  & p = 0.000 \\\\ \n",
      "  authorship\\_posmiddle\\_position & 0.172$^{***}$ \\\\ \n",
      "  & p = 0.000 \\\\ \n",
      "  authorship\\_possolo\\_author & $-$0.099$^{***}$ \\\\ \n",
      "  & p = 0.000 \\\\ \n",
      "  follower\\_cn\\_snapshot\\_combine\\_log & 0.135$^{***}$ \\\\ \n",
      "  & p = 0.000 \\\\ \n",
      "  author\\_pub\\_count\\_cate & $-$0.109$^{***}$ \\\\ \n",
      "  & p = 0.000 \\\\ \n",
      "  affiliation\\_rank\\_cate & $-$0.007$^{***}$ \\\\ \n",
      "  & p = 0.000 \\\\ \n",
      "  affiliation\\_cateinternational & 0.097$^{***}$ \\\\ \n",
      "  & p = 0.000 \\\\ \n",
      "  num\\_authors & 0.001$^{***}$ \\\\ \n",
      "  & p = 0.000 \\\\ \n",
      "  journal\\_impact & 0.066$^{***}$ \\\\ \n",
      "  & p = 0.000 \\\\ \n",
      "  author\\_citation\\_log & 0.039$^{***}$ \\\\ \n",
      "  & p = 0.000 \\\\ \n",
      "  pub\\_year2014 & 0.212$^{***}$ \\\\ \n",
      "  & p = 0.000 \\\\ \n",
      "  pub\\_year2015 & 0.351$^{***}$ \\\\ \n",
      "  & p = 0.000 \\\\ \n",
      "  pub\\_year2016 & 0.487$^{***}$ \\\\ \n",
      "  & p = 0.000 \\\\ \n",
      "  pub\\_year2017 & 0.776$^{***}$ \\\\ \n",
      "  & p = 0.000 \\\\ \n",
      "  pub\\_year2018 & 0.904$^{***}$ \\\\ \n",
      "  & p = 0.000 \\\\ \n",
      "  Social\\_Sciences & $-$0.096$^{***}$ \\\\ \n",
      "  & p = 0.000 \\\\ \n",
      "  Materials\\_Science & $-$0.490$^{***}$ \\\\ \n",
      "  & p = 0.000 \\\\ \n",
      "  Engineering & $-$0.345$^{***}$ \\\\ \n",
      "  & p = 0.000 \\\\ \n",
      "  Chemistry & $-$0.990$^{***}$ \\\\ \n",
      "  & p = 0.000 \\\\ \n",
      "  Biochemistry\\_\\_Genetics\\_and\\_Molecular\\_Biology & $-$0.116$^{***}$ \\\\ \n",
      "  & p = 0.000 \\\\ \n",
      "  Medicine & $-$0.103$^{***}$ \\\\ \n",
      "  & p = 0.000 \\\\ \n",
      "  Nursing & 0.155$^{***}$ \\\\ \n",
      "  & p = 0.000 \\\\ \n",
      "  Agricultural\\_and\\_Biological\\_Sciences & 0.429$^{***}$ \\\\ \n",
      "  & p = 0.000 \\\\ \n",
      "  Pharmacology\\_\\_Toxicology\\_and\\_Pharmaceutics & $-$0.480$^{***}$ \\\\ \n",
      "  & p = 0.000 \\\\ \n",
      "  Neuroscience & $-$0.008 \\\\ \n",
      "  & p = 0.343 \\\\ \n",
      "  Business\\_\\_Management\\_and\\_Accounting & $-$0.389$^{***}$ \\\\ \n",
      "  & p = 0.000 \\\\ \n",
      "  Economics\\_\\_Econometrics\\_and\\_Finance & $-$0.080$^{***}$ \\\\ \n",
      "  & p = 0.00001 \\\\ \n",
      "  Chemical\\_Engineering & 0.121$^{***}$ \\\\ \n",
      "  & p = 0.000 \\\\ \n",
      "  Physics\\_and\\_Astronomy & $-$0.613$^{***}$ \\\\ \n",
      "  & p = 0.000 \\\\ \n",
      "  Computer\\_Science & $-$0.147$^{***}$ \\\\ \n",
      "  & p = 0.000 \\\\ \n",
      "  Decision\\_Sciences & $-$0.485$^{***}$ \\\\ \n",
      "  & p = 0.000 \\\\ \n",
      "  Health\\_Professions & 0.726$^{***}$ \\\\ \n",
      "  & p = 0.000 \\\\ \n",
      "  Psychology & $-$0.191$^{***}$ \\\\ \n",
      "  & p = 0.000 \\\\ \n",
      "  Immunology\\_and\\_Microbiology & $-$0.014 \\\\ \n",
      "  & p = 0.164 \\\\ \n",
      "  Dentistry & $-$0.691$^{***}$ \\\\ \n",
      "  & p = 0.000 \\\\ \n",
      "  Earth\\_and\\_Planetary\\_Sciences & $-$0.484$^{***}$ \\\\ \n",
      "  & p = 0.000 \\\\ \n",
      "  Environmental\\_Science & $-$0.251$^{***}$ \\\\ \n",
      "  & p = 0.000 \\\\ \n",
      "  Mathematics & 0.557$^{***}$ \\\\ \n",
      "  & p = 0.000 \\\\ \n",
      "  Arts\\_and\\_Humanities & $-$0.147$^{***}$ \\\\ \n",
      "  & p = 0.000 \\\\ \n",
      "  Energy & $-$0.367$^{***}$ \\\\ \n",
      "  & p = 0.000 \\\\ \n",
      "  Veterinary & $-$0.801$^{***}$ \\\\ \n",
      "  & p = 0.000 \\\\ \n",
      "  General & 0.478$^{***}$ \\\\ \n",
      "  & p = 0.000 \\\\ \n",
      "  genderFemale:self\\_promotion\\_defTrue & $-$0.089$^{***}$ \\\\ \n",
      "  & p = 0.000 \\\\ \n",
      "  Constant & 0.599$^{***}$ \\\\ \n",
      "  & p = 0.000 \\\\ \n",
      " \\hline \\\\[-1.8ex] \n",
      "Observations & 618,742 \\\\ \n",
      "Log Likelihood & $-$2,367,462.000 \\\\ \n",
      "$\\theta$ & 0.516$^{***}$  (0.001) \\\\ \n",
      "Akaike Inf. Crit. & 4,735,016.000 \\\\ \n",
      "\\hline \n",
      "\\hline \\\\[-1.8ex] \n",
      "\\textit{Note:}  & \\multicolumn{1}{r}{$^{*}$p$<$0.05; $^{**}$p$<$0.01; $^{***}$p$<$0.001} \\\\ \n",
      "\\end{tabular} \n",
      "\\end{table} \n"
     ]
    }
   ],
   "source": [
    "# use this search string in Sublime: \" \\\\\\\\ \\n  &\" with \" &\"\n",
    "stargazer(m_yes, type = \"latex\", single.row=TRUE, ci = FALSE, report = ('vc*p'), star.cutoffs = c(0.05, 0.01, 0.001))"
   ]
  },
  {
   "cell_type": "code",
   "execution_count": null,
   "id": "e5adc407",
   "metadata": {},
   "outputs": [],
   "source": []
  }
 ],
 "metadata": {
  "kernelspec": {
   "display_name": "R",
   "language": "R",
   "name": "ir"
  },
  "language_info": {
   "codemirror_mode": "r",
   "file_extension": ".r",
   "mimetype": "text/x-r-source",
   "name": "R",
   "pygments_lexer": "r",
   "version": "4.2.0"
  }
 },
 "nbformat": 4,
 "nbformat_minor": 5
}
