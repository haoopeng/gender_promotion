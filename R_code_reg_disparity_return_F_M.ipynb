{
 "cells": [
  {
   "cell_type": "code",
   "execution_count": 10,
   "id": "20faa31c",
   "metadata": {
    "scrolled": true
   },
   "outputs": [],
   "source": [
    "library(\"lme4\")\n",
    "library(\"margins\")\n",
    "library(\"stargazer\")\n",
    "library(\"emmeans\")\n",
    "library(\"ggeffects\")\n",
    "library(\"broom\")\n",
    "library(\"broom.mixed\")\n",
    "library(\"MASS\")\n",
    "library(\"pscl\")"
   ]
  },
  {
   "cell_type": "code",
   "execution_count": 4,
   "id": "2145d0a3",
   "metadata": {},
   "outputs": [],
   "source": [
    "options(repr.matrix.max.rows=500, repr.matrix.max.cols=200)"
   ]
  },
  {
   "cell_type": "code",
   "execution_count": 5,
   "id": "dc8c6d6c",
   "metadata": {},
   "outputs": [],
   "source": [
    "options(dplyr.print_max = 100)"
   ]
  },
  {
   "cell_type": "code",
   "execution_count": 6,
   "id": "49cd412c",
   "metadata": {},
   "outputs": [],
   "source": [
    "Data_Root <- \"/Data/Promotion/revision/\"\n",
    "data_root <- \"/Data/Promotion/revision/reg_results_F_M/\""
   ]
  },
  {
   "cell_type": "code",
   "execution_count": 7,
   "id": "b0c845a6",
   "metadata": {},
   "outputs": [],
   "source": [
    "mydata <- read.csv(paste(Data_Root, \"reg_data_drop_missing.csv\", sep = ''), header = TRUE, stringsAsFactors = TRUE)"
   ]
  },
  {
   "cell_type": "code",
   "execution_count": 8,
   "id": "9f6c2a04",
   "metadata": {
    "scrolled": false
   },
   "outputs": [
    {
     "data": {
      "text/html": [
       "14552304"
      ],
      "text/latex": [
       "14552304"
      ],
      "text/markdown": [
       "14552304"
      ],
      "text/plain": [
       "[1] 14552304"
      ]
     },
     "metadata": {},
     "output_type": "display_data"
    }
   ],
   "source": [
    "nrow(mydata)"
   ]
  },
  {
   "cell_type": "code",
   "execution_count": 9,
   "id": "85ff3ef1",
   "metadata": {
    "scrolled": false
   },
   "outputs": [
    {
     "data": {
      "text/html": [
       "81"
      ],
      "text/latex": [
       "81"
      ],
      "text/markdown": [
       "81"
      ],
      "text/plain": [
       "[1] 81"
      ]
     },
     "metadata": {},
     "output_type": "display_data"
    }
   ],
   "source": [
    "ncol(mydata)"
   ]
  },
  {
   "cell_type": "code",
   "execution_count": 11,
   "id": "30e42c81",
   "metadata": {},
   "outputs": [],
   "source": [
    "mydata = mydata[mydata$gender %in% c(\"Male\", \"Female\"), ]"
   ]
  },
  {
   "cell_type": "code",
   "execution_count": 12,
   "id": "5be5b2b3",
   "metadata": {},
   "outputs": [],
   "source": [
    "mydata = mydata[mydata$affiliation_cate != 'unknown', ]"
   ]
  },
  {
   "cell_type": "code",
   "execution_count": 13,
   "id": "8520197d",
   "metadata": {
    "scrolled": false
   },
   "outputs": [
    {
     "data": {
      "text/html": [
       "11396752"
      ],
      "text/latex": [
       "11396752"
      ],
      "text/markdown": [
       "11396752"
      ],
      "text/plain": [
       "[1] 11396752"
      ]
     },
     "metadata": {},
     "output_type": "display_data"
    }
   ],
   "source": [
    "nrow(mydata)"
   ]
  },
  {
   "cell_type": "code",
   "execution_count": 14,
   "id": "cce668f4",
   "metadata": {},
   "outputs": [],
   "source": [
    "mydata$pub_year <- as.factor(mydata$pub_year)"
   ]
  },
  {
   "cell_type": "code",
   "execution_count": 15,
   "id": "ea404342",
   "metadata": {},
   "outputs": [],
   "source": [
    "mydata <- within(mydata, gender <- relevel(gender, ref = 'Male'))\n",
    "mydata <- within(mydata, authorship_pos <- relevel(authorship_pos, ref = 'last_position'))\n",
    "mydata <- within(mydata, affiliation_cate <- relevel(affiliation_cate, ref = 'domestic'))"
   ]
  },
  {
   "cell_type": "code",
   "execution_count": 16,
   "id": "22406164",
   "metadata": {},
   "outputs": [],
   "source": [
    "keywords <- \" + Social_Sciences + Materials_Science + Engineering + Chemistry + \\\n",
    "        Biochemistry__Genetics_and_Molecular_Biology + Medicine + Nursing + Agricultural_and_Biological_Sciences + \\\n",
    "        Pharmacology__Toxicology_and_Pharmaceutics + Neuroscience + Business__Management_and_Accounting + \\\n",
    "        Economics__Econometrics_and_Finance + Chemical_Engineering + Physics_and_Astronomy + Computer_Science + \\\n",
    "        Decision_Sciences + Health_Professions + Psychology + Immunology_and_Microbiology + Dentistry + \\\n",
    "        Earth_and_Planetary_Sciences + Environmental_Science + Mathematics + Arts_and_Humanities + Energy + \\\n",
    "        Veterinary + General\""
   ]
  },
  {
   "cell_type": "code",
   "execution_count": 17,
   "id": "51d8b0dd",
   "metadata": {},
   "outputs": [],
   "source": [
    "mydata$author_citation_log <- log2(1 + mydata$author_citation)"
   ]
  },
  {
   "cell_type": "code",
   "execution_count": 18,
   "id": "02c847da",
   "metadata": {},
   "outputs": [],
   "source": [
    "mydata$total_num_tweets_log <- log2(1 + mydata$total_num_tweets)"
   ]
  },
  {
   "cell_type": "code",
   "execution_count": 19,
   "id": "b4650681",
   "metadata": {},
   "outputs": [],
   "source": [
    "mydata$follower_cn_snapshot_log <- log2(1 + mydata$follower_cn_snapshot)\n",
    "mydata$follower_cn_snapshot_ours_log <- log2(1 + mydata$follower_cn_snapshot_ours)\n",
    "mydata$follower_cn_snapshot_combine_log <- log2(1 + mydata$follower_cn_snapshot_combine)"
   ]
  },
  {
   "cell_type": "markdown",
   "id": "2d31eb13",
   "metadata": {},
   "source": [
    "## Subset of observations where the author is active on Twitter"
   ]
  },
  {
   "cell_type": "markdown",
   "id": "4623353d",
   "metadata": {},
   "source": [
    "### Theirs matching"
   ]
  },
  {
   "cell_type": "markdown",
   "id": "e952524d",
   "metadata": {},
   "source": [
    "1. Remove on_tw control\n",
    "2. Still include gender and self_promotion interaction\n",
    "3. Add follower control"
   ]
  },
  {
   "cell_type": "code",
   "execution_count": 42,
   "id": "3532c750",
   "metadata": {
    "scrolled": true
   },
   "outputs": [
    {
     "data": {
      "text/html": [
       "618742"
      ],
      "text/latex": [
       "618742"
      ],
      "text/markdown": [
       "618742"
      ],
      "text/plain": [
       "[1] 618742"
      ]
     },
     "metadata": {},
     "output_type": "display_data"
    }
   ],
   "source": [
    "nrow(mydata[mydata$is_active_on_twitter == \"True\", ])"
   ]
  },
  {
   "cell_type": "markdown",
   "id": "3a1b8f38",
   "metadata": {},
   "source": [
    "Fit a model for all years"
   ]
  },
  {
   "cell_type": "code",
   "execution_count": 107,
   "id": "4113fa14",
   "metadata": {},
   "outputs": [],
   "source": [
    "base_str <- \"total_num_tweets ~ 1 + gender * self_promotion + authorship_pos + follower_cn_snapshot_log + \\\n",
    "        author_pub_count_cate + affiliation_rank_cate + affiliation_cate + num_authors + journal_impact + \\\n",
    "        author_citation_log + pub_year\"\n",
    "equation <- as.formula(paste(base_str, keywords, sep = \" \"))\n",
    "m_yes <- glm.nb(equation, data = mydata[mydata$is_active_on_twitter == \"True\", ])"
   ]
  },
  {
   "cell_type": "code",
   "execution_count": 108,
   "id": "19de9914",
   "metadata": {
    "scrolled": true
   },
   "outputs": [
    {
     "data": {
      "text/html": [
       "<table class=\"dataframe\">\n",
       "<caption>A tibble: 46 × 5</caption>\n",
       "<thead>\n",
       "\t<tr><th scope=col>term</th><th scope=col>estimate</th><th scope=col>std.error</th><th scope=col>statistic</th><th scope=col>p.value</th></tr>\n",
       "\t<tr><th scope=col>&lt;chr&gt;</th><th scope=col>&lt;dbl&gt;</th><th scope=col>&lt;dbl&gt;</th><th scope=col>&lt;dbl&gt;</th><th scope=col>&lt;dbl&gt;</th></tr>\n",
       "</thead>\n",
       "<tbody>\n",
       "\t<tr><td>(Intercept)                                 </td><td> 0.363815394</td><td>1.493831e-02</td><td> 24.3545247</td><td>5.191504e-131</td></tr>\n",
       "\t<tr><td>genderFemale                                </td><td> 0.148483596</td><td>5.123532e-03</td><td> 28.9807099</td><td>1.151741e-184</td></tr>\n",
       "\t<tr><td>self_promotionTrue                          </td><td> 1.235314458</td><td>4.404500e-03</td><td>280.4664247</td><td> 0.000000e+00</td></tr>\n",
       "\t<tr><td>authorship_posfirst_position                </td><td> 0.109717974</td><td>5.723529e-03</td><td> 19.1696384</td><td> 6.636843e-82</td></tr>\n",
       "\t<tr><td>authorship_posmiddle_position               </td><td> 0.290013813</td><td>4.421204e-03</td><td> 65.5961202</td><td> 0.000000e+00</td></tr>\n",
       "\t<tr><td>authorship_possolo_author                   </td><td>-0.206360353</td><td>1.066301e-02</td><td>-19.3529261</td><td> 1.925913e-83</td></tr>\n",
       "\t<tr><td>follower_cn_snapshot_log                    </td><td> 0.094976732</td><td>9.391970e-04</td><td>101.1254683</td><td> 0.000000e+00</td></tr>\n",
       "\t<tr><td>author_pub_count_cate                       </td><td>-0.102244042</td><td>1.854771e-03</td><td>-55.1248905</td><td> 0.000000e+00</td></tr>\n",
       "\t<tr><td>affiliation_rank_cate                       </td><td>-0.008475538</td><td>6.624966e-04</td><td>-12.7933298</td><td> 1.786522e-37</td></tr>\n",
       "\t<tr><td>affiliation_cateinternational               </td><td> 0.069202019</td><td>3.874366e-03</td><td> 17.8615099</td><td> 2.351899e-71</td></tr>\n",
       "\t<tr><td>num_authors                                 </td><td> 0.001065926</td><td>1.638762e-05</td><td> 65.0445722</td><td> 0.000000e+00</td></tr>\n",
       "\t<tr><td>journal_impact                              </td><td> 0.064505545</td><td>2.449054e-04</td><td>263.3896564</td><td> 0.000000e+00</td></tr>\n",
       "\t<tr><td>author_citation_log                         </td><td> 0.050177615</td><td>1.090556e-03</td><td> 46.0110407</td><td> 0.000000e+00</td></tr>\n",
       "\t<tr><td>pub_year2014                                </td><td> 0.238528256</td><td>1.081743e-02</td><td> 22.0503547</td><td>9.477808e-108</td></tr>\n",
       "\t<tr><td>pub_year2015                                </td><td> 0.399244646</td><td>1.005926e-02</td><td> 39.6892652</td><td> 0.000000e+00</td></tr>\n",
       "\t<tr><td>pub_year2016                                </td><td> 0.530946323</td><td>9.717643e-03</td><td> 54.6373570</td><td> 0.000000e+00</td></tr>\n",
       "\t<tr><td>pub_year2017                                </td><td> 0.797167824</td><td>9.533948e-03</td><td> 83.6136153</td><td> 0.000000e+00</td></tr>\n",
       "\t<tr><td>pub_year2018                                </td><td> 0.924043325</td><td>9.402497e-03</td><td> 98.2763727</td><td> 0.000000e+00</td></tr>\n",
       "\t<tr><td>Social_Sciences                             </td><td>-0.116067104</td><td>7.841722e-03</td><td>-14.8012266</td><td> 1.438355e-49</td></tr>\n",
       "\t<tr><td>Materials_Science                           </td><td>-0.532215839</td><td>1.627996e-02</td><td>-32.6914690</td><td>2.064734e-234</td></tr>\n",
       "\t<tr><td>Engineering                                 </td><td>-0.263830819</td><td>1.269579e-02</td><td>-20.7809724</td><td> 6.434215e-96</td></tr>\n",
       "\t<tr><td>Chemistry                                   </td><td>-0.971189620</td><td>1.213734e-02</td><td>-80.0166559</td><td> 0.000000e+00</td></tr>\n",
       "\t<tr><td>Biochemistry__Genetics_and_Molecular_Biology</td><td>-0.142976271</td><td>5.034255e-03</td><td>-28.4006819</td><td>1.983288e-177</td></tr>\n",
       "\t<tr><td>Medicine                                    </td><td>-0.035152611</td><td>4.018941e-03</td><td> -8.7467342</td><td> 2.196163e-18</td></tr>\n",
       "\t<tr><td>Nursing                                     </td><td> 0.211853840</td><td>1.092267e-02</td><td> 19.3957996</td><td> 8.374049e-84</td></tr>\n",
       "\t<tr><td>Agricultural_and_Biological_Sciences        </td><td> 0.332355079</td><td>5.864926e-03</td><td> 56.6682494</td><td> 0.000000e+00</td></tr>\n",
       "\t<tr><td>Pharmacology__Toxicology_and_Pharmaceutics  </td><td>-0.420348268</td><td>1.259878e-02</td><td>-33.3642164</td><td>4.531818e-244</td></tr>\n",
       "\t<tr><td>Neuroscience                                </td><td>-0.007812310</td><td>8.330420e-03</td><td> -0.9378050</td><td> 3.483446e-01</td></tr>\n",
       "\t<tr><td>Business__Management_and_Accounting         </td><td>-0.407880624</td><td>1.592653e-02</td><td>-25.6101414</td><td>1.176194e-144</td></tr>\n",
       "\t<tr><td>Economics__Econometrics_and_Finance         </td><td>-0.128938053</td><td>1.747217e-02</td><td> -7.3796229</td><td> 1.587384e-13</td></tr>\n",
       "\t<tr><td>Chemical_Engineering                        </td><td> 0.091392895</td><td>1.772968e-02</td><td>  5.1547980</td><td> 2.539045e-07</td></tr>\n",
       "\t<tr><td>Physics_and_Astronomy                       </td><td>-0.582827996</td><td>1.289462e-02</td><td>-45.1993033</td><td> 0.000000e+00</td></tr>\n",
       "\t<tr><td>Computer_Science                            </td><td>-0.160594092</td><td>1.222516e-02</td><td>-13.1363620</td><td> 2.037914e-39</td></tr>\n",
       "\t<tr><td>Decision_Sciences                           </td><td>-0.437735527</td><td>2.671992e-02</td><td>-16.3823640</td><td> 2.556123e-60</td></tr>\n",
       "\t<tr><td>Health_Professions                          </td><td> 0.671976240</td><td>1.241009e-02</td><td> 54.1475506</td><td> 0.000000e+00</td></tr>\n",
       "\t<tr><td>Psychology                                  </td><td>-0.101346667</td><td>1.123810e-02</td><td> -9.0181295</td><td> 1.913281e-19</td></tr>\n",
       "\t<tr><td>Immunology_and_Microbiology                 </td><td>-0.007371593</td><td>9.565982e-03</td><td> -0.7706049</td><td> 4.409411e-01</td></tr>\n",
       "\t<tr><td>Dentistry                                   </td><td>-0.676922269</td><td>4.847026e-02</td><td>-13.9657226</td><td> 2.523332e-44</td></tr>\n",
       "\t<tr><td>Earth_and_Planetary_Sciences                </td><td>-0.415823893</td><td>1.017796e-02</td><td>-40.8553264</td><td> 0.000000e+00</td></tr>\n",
       "\t<tr><td>Environmental_Science                       </td><td>-0.168298683</td><td>7.483524e-03</td><td>-22.4892289</td><td>5.291099e-112</td></tr>\n",
       "\t<tr><td>Mathematics                                 </td><td> 0.478492131</td><td>1.664358e-02</td><td> 28.7493479</td><td>9.229183e-182</td></tr>\n",
       "\t<tr><td>Arts_and_Humanities                         </td><td>-0.151066110</td><td>2.190772e-02</td><td> -6.8955639</td><td> 5.365156e-12</td></tr>\n",
       "\t<tr><td>Energy                                      </td><td>-0.588432573</td><td>2.227368e-02</td><td>-26.4182914</td><td>8.446636e-154</td></tr>\n",
       "\t<tr><td>Veterinary                                  </td><td>-0.660668816</td><td>2.747264e-02</td><td>-24.0482499</td><td>8.707245e-128</td></tr>\n",
       "\t<tr><td>General                                     </td><td> 0.449464570</td><td>1.268987e-02</td><td> 35.4191761</td><td>8.654174e-275</td></tr>\n",
       "\t<tr><td>genderFemale:self_promotionTrue             </td><td>-0.127307254</td><td>7.612823e-03</td><td>-16.7227400</td><td> 8.950765e-63</td></tr>\n",
       "</tbody>\n",
       "</table>\n"
      ],
      "text/latex": [
       "A tibble: 46 × 5\n",
       "\\begin{tabular}{lllll}\n",
       " term & estimate & std.error & statistic & p.value\\\\\n",
       " <chr> & <dbl> & <dbl> & <dbl> & <dbl>\\\\\n",
       "\\hline\n",
       "\t (Intercept)                                  &  0.363815394 & 1.493831e-02 &  24.3545247 & 5.191504e-131\\\\\n",
       "\t genderFemale                                 &  0.148483596 & 5.123532e-03 &  28.9807099 & 1.151741e-184\\\\\n",
       "\t self\\_promotionTrue                           &  1.235314458 & 4.404500e-03 & 280.4664247 &  0.000000e+00\\\\\n",
       "\t authorship\\_posfirst\\_position                 &  0.109717974 & 5.723529e-03 &  19.1696384 &  6.636843e-82\\\\\n",
       "\t authorship\\_posmiddle\\_position                &  0.290013813 & 4.421204e-03 &  65.5961202 &  0.000000e+00\\\\\n",
       "\t authorship\\_possolo\\_author                    & -0.206360353 & 1.066301e-02 & -19.3529261 &  1.925913e-83\\\\\n",
       "\t follower\\_cn\\_snapshot\\_log                     &  0.094976732 & 9.391970e-04 & 101.1254683 &  0.000000e+00\\\\\n",
       "\t author\\_pub\\_count\\_cate                        & -0.102244042 & 1.854771e-03 & -55.1248905 &  0.000000e+00\\\\\n",
       "\t affiliation\\_rank\\_cate                        & -0.008475538 & 6.624966e-04 & -12.7933298 &  1.786522e-37\\\\\n",
       "\t affiliation\\_cateinternational                &  0.069202019 & 3.874366e-03 &  17.8615099 &  2.351899e-71\\\\\n",
       "\t num\\_authors                                  &  0.001065926 & 1.638762e-05 &  65.0445722 &  0.000000e+00\\\\\n",
       "\t journal\\_impact                               &  0.064505545 & 2.449054e-04 & 263.3896564 &  0.000000e+00\\\\\n",
       "\t author\\_citation\\_log                          &  0.050177615 & 1.090556e-03 &  46.0110407 &  0.000000e+00\\\\\n",
       "\t pub\\_year2014                                 &  0.238528256 & 1.081743e-02 &  22.0503547 & 9.477808e-108\\\\\n",
       "\t pub\\_year2015                                 &  0.399244646 & 1.005926e-02 &  39.6892652 &  0.000000e+00\\\\\n",
       "\t pub\\_year2016                                 &  0.530946323 & 9.717643e-03 &  54.6373570 &  0.000000e+00\\\\\n",
       "\t pub\\_year2017                                 &  0.797167824 & 9.533948e-03 &  83.6136153 &  0.000000e+00\\\\\n",
       "\t pub\\_year2018                                 &  0.924043325 & 9.402497e-03 &  98.2763727 &  0.000000e+00\\\\\n",
       "\t Social\\_Sciences                              & -0.116067104 & 7.841722e-03 & -14.8012266 &  1.438355e-49\\\\\n",
       "\t Materials\\_Science                            & -0.532215839 & 1.627996e-02 & -32.6914690 & 2.064734e-234\\\\\n",
       "\t Engineering                                  & -0.263830819 & 1.269579e-02 & -20.7809724 &  6.434215e-96\\\\\n",
       "\t Chemistry                                    & -0.971189620 & 1.213734e-02 & -80.0166559 &  0.000000e+00\\\\\n",
       "\t Biochemistry\\_\\_Genetics\\_and\\_Molecular\\_Biology & -0.142976271 & 5.034255e-03 & -28.4006819 & 1.983288e-177\\\\\n",
       "\t Medicine                                     & -0.035152611 & 4.018941e-03 &  -8.7467342 &  2.196163e-18\\\\\n",
       "\t Nursing                                      &  0.211853840 & 1.092267e-02 &  19.3957996 &  8.374049e-84\\\\\n",
       "\t Agricultural\\_and\\_Biological\\_Sciences         &  0.332355079 & 5.864926e-03 &  56.6682494 &  0.000000e+00\\\\\n",
       "\t Pharmacology\\_\\_Toxicology\\_and\\_Pharmaceutics   & -0.420348268 & 1.259878e-02 & -33.3642164 & 4.531818e-244\\\\\n",
       "\t Neuroscience                                 & -0.007812310 & 8.330420e-03 &  -0.9378050 &  3.483446e-01\\\\\n",
       "\t Business\\_\\_Management\\_and\\_Accounting          & -0.407880624 & 1.592653e-02 & -25.6101414 & 1.176194e-144\\\\\n",
       "\t Economics\\_\\_Econometrics\\_and\\_Finance          & -0.128938053 & 1.747217e-02 &  -7.3796229 &  1.587384e-13\\\\\n",
       "\t Chemical\\_Engineering                         &  0.091392895 & 1.772968e-02 &   5.1547980 &  2.539045e-07\\\\\n",
       "\t Physics\\_and\\_Astronomy                        & -0.582827996 & 1.289462e-02 & -45.1993033 &  0.000000e+00\\\\\n",
       "\t Computer\\_Science                             & -0.160594092 & 1.222516e-02 & -13.1363620 &  2.037914e-39\\\\\n",
       "\t Decision\\_Sciences                            & -0.437735527 & 2.671992e-02 & -16.3823640 &  2.556123e-60\\\\\n",
       "\t Health\\_Professions                           &  0.671976240 & 1.241009e-02 &  54.1475506 &  0.000000e+00\\\\\n",
       "\t Psychology                                   & -0.101346667 & 1.123810e-02 &  -9.0181295 &  1.913281e-19\\\\\n",
       "\t Immunology\\_and\\_Microbiology                  & -0.007371593 & 9.565982e-03 &  -0.7706049 &  4.409411e-01\\\\\n",
       "\t Dentistry                                    & -0.676922269 & 4.847026e-02 & -13.9657226 &  2.523332e-44\\\\\n",
       "\t Earth\\_and\\_Planetary\\_Sciences                 & -0.415823893 & 1.017796e-02 & -40.8553264 &  0.000000e+00\\\\\n",
       "\t Environmental\\_Science                        & -0.168298683 & 7.483524e-03 & -22.4892289 & 5.291099e-112\\\\\n",
       "\t Mathematics                                  &  0.478492131 & 1.664358e-02 &  28.7493479 & 9.229183e-182\\\\\n",
       "\t Arts\\_and\\_Humanities                          & -0.151066110 & 2.190772e-02 &  -6.8955639 &  5.365156e-12\\\\\n",
       "\t Energy                                       & -0.588432573 & 2.227368e-02 & -26.4182914 & 8.446636e-154\\\\\n",
       "\t Veterinary                                   & -0.660668816 & 2.747264e-02 & -24.0482499 & 8.707245e-128\\\\\n",
       "\t General                                      &  0.449464570 & 1.268987e-02 &  35.4191761 & 8.654174e-275\\\\\n",
       "\t genderFemale:self\\_promotionTrue              & -0.127307254 & 7.612823e-03 & -16.7227400 &  8.950765e-63\\\\\n",
       "\\end{tabular}\n"
      ],
      "text/markdown": [
       "\n",
       "A tibble: 46 × 5\n",
       "\n",
       "| term &lt;chr&gt; | estimate &lt;dbl&gt; | std.error &lt;dbl&gt; | statistic &lt;dbl&gt; | p.value &lt;dbl&gt; |\n",
       "|---|---|---|---|---|\n",
       "| (Intercept)                                  |  0.363815394 | 1.493831e-02 |  24.3545247 | 5.191504e-131 |\n",
       "| genderFemale                                 |  0.148483596 | 5.123532e-03 |  28.9807099 | 1.151741e-184 |\n",
       "| self_promotionTrue                           |  1.235314458 | 4.404500e-03 | 280.4664247 |  0.000000e+00 |\n",
       "| authorship_posfirst_position                 |  0.109717974 | 5.723529e-03 |  19.1696384 |  6.636843e-82 |\n",
       "| authorship_posmiddle_position                |  0.290013813 | 4.421204e-03 |  65.5961202 |  0.000000e+00 |\n",
       "| authorship_possolo_author                    | -0.206360353 | 1.066301e-02 | -19.3529261 |  1.925913e-83 |\n",
       "| follower_cn_snapshot_log                     |  0.094976732 | 9.391970e-04 | 101.1254683 |  0.000000e+00 |\n",
       "| author_pub_count_cate                        | -0.102244042 | 1.854771e-03 | -55.1248905 |  0.000000e+00 |\n",
       "| affiliation_rank_cate                        | -0.008475538 | 6.624966e-04 | -12.7933298 |  1.786522e-37 |\n",
       "| affiliation_cateinternational                |  0.069202019 | 3.874366e-03 |  17.8615099 |  2.351899e-71 |\n",
       "| num_authors                                  |  0.001065926 | 1.638762e-05 |  65.0445722 |  0.000000e+00 |\n",
       "| journal_impact                               |  0.064505545 | 2.449054e-04 | 263.3896564 |  0.000000e+00 |\n",
       "| author_citation_log                          |  0.050177615 | 1.090556e-03 |  46.0110407 |  0.000000e+00 |\n",
       "| pub_year2014                                 |  0.238528256 | 1.081743e-02 |  22.0503547 | 9.477808e-108 |\n",
       "| pub_year2015                                 |  0.399244646 | 1.005926e-02 |  39.6892652 |  0.000000e+00 |\n",
       "| pub_year2016                                 |  0.530946323 | 9.717643e-03 |  54.6373570 |  0.000000e+00 |\n",
       "| pub_year2017                                 |  0.797167824 | 9.533948e-03 |  83.6136153 |  0.000000e+00 |\n",
       "| pub_year2018                                 |  0.924043325 | 9.402497e-03 |  98.2763727 |  0.000000e+00 |\n",
       "| Social_Sciences                              | -0.116067104 | 7.841722e-03 | -14.8012266 |  1.438355e-49 |\n",
       "| Materials_Science                            | -0.532215839 | 1.627996e-02 | -32.6914690 | 2.064734e-234 |\n",
       "| Engineering                                  | -0.263830819 | 1.269579e-02 | -20.7809724 |  6.434215e-96 |\n",
       "| Chemistry                                    | -0.971189620 | 1.213734e-02 | -80.0166559 |  0.000000e+00 |\n",
       "| Biochemistry__Genetics_and_Molecular_Biology | -0.142976271 | 5.034255e-03 | -28.4006819 | 1.983288e-177 |\n",
       "| Medicine                                     | -0.035152611 | 4.018941e-03 |  -8.7467342 |  2.196163e-18 |\n",
       "| Nursing                                      |  0.211853840 | 1.092267e-02 |  19.3957996 |  8.374049e-84 |\n",
       "| Agricultural_and_Biological_Sciences         |  0.332355079 | 5.864926e-03 |  56.6682494 |  0.000000e+00 |\n",
       "| Pharmacology__Toxicology_and_Pharmaceutics   | -0.420348268 | 1.259878e-02 | -33.3642164 | 4.531818e-244 |\n",
       "| Neuroscience                                 | -0.007812310 | 8.330420e-03 |  -0.9378050 |  3.483446e-01 |\n",
       "| Business__Management_and_Accounting          | -0.407880624 | 1.592653e-02 | -25.6101414 | 1.176194e-144 |\n",
       "| Economics__Econometrics_and_Finance          | -0.128938053 | 1.747217e-02 |  -7.3796229 |  1.587384e-13 |\n",
       "| Chemical_Engineering                         |  0.091392895 | 1.772968e-02 |   5.1547980 |  2.539045e-07 |\n",
       "| Physics_and_Astronomy                        | -0.582827996 | 1.289462e-02 | -45.1993033 |  0.000000e+00 |\n",
       "| Computer_Science                             | -0.160594092 | 1.222516e-02 | -13.1363620 |  2.037914e-39 |\n",
       "| Decision_Sciences                            | -0.437735527 | 2.671992e-02 | -16.3823640 |  2.556123e-60 |\n",
       "| Health_Professions                           |  0.671976240 | 1.241009e-02 |  54.1475506 |  0.000000e+00 |\n",
       "| Psychology                                   | -0.101346667 | 1.123810e-02 |  -9.0181295 |  1.913281e-19 |\n",
       "| Immunology_and_Microbiology                  | -0.007371593 | 9.565982e-03 |  -0.7706049 |  4.409411e-01 |\n",
       "| Dentistry                                    | -0.676922269 | 4.847026e-02 | -13.9657226 |  2.523332e-44 |\n",
       "| Earth_and_Planetary_Sciences                 | -0.415823893 | 1.017796e-02 | -40.8553264 |  0.000000e+00 |\n",
       "| Environmental_Science                        | -0.168298683 | 7.483524e-03 | -22.4892289 | 5.291099e-112 |\n",
       "| Mathematics                                  |  0.478492131 | 1.664358e-02 |  28.7493479 | 9.229183e-182 |\n",
       "| Arts_and_Humanities                          | -0.151066110 | 2.190772e-02 |  -6.8955639 |  5.365156e-12 |\n",
       "| Energy                                       | -0.588432573 | 2.227368e-02 | -26.4182914 | 8.446636e-154 |\n",
       "| Veterinary                                   | -0.660668816 | 2.747264e-02 | -24.0482499 | 8.707245e-128 |\n",
       "| General                                      |  0.449464570 | 1.268987e-02 |  35.4191761 | 8.654174e-275 |\n",
       "| genderFemale:self_promotionTrue              | -0.127307254 | 7.612823e-03 | -16.7227400 |  8.950765e-63 |\n",
       "\n"
      ],
      "text/plain": [
       "   term                                         estimate     std.error   \n",
       "1  (Intercept)                                   0.363815394 1.493831e-02\n",
       "2  genderFemale                                  0.148483596 5.123532e-03\n",
       "3  self_promotionTrue                            1.235314458 4.404500e-03\n",
       "4  authorship_posfirst_position                  0.109717974 5.723529e-03\n",
       "5  authorship_posmiddle_position                 0.290013813 4.421204e-03\n",
       "6  authorship_possolo_author                    -0.206360353 1.066301e-02\n",
       "7  follower_cn_snapshot_log                      0.094976732 9.391970e-04\n",
       "8  author_pub_count_cate                        -0.102244042 1.854771e-03\n",
       "9  affiliation_rank_cate                        -0.008475538 6.624966e-04\n",
       "10 affiliation_cateinternational                 0.069202019 3.874366e-03\n",
       "11 num_authors                                   0.001065926 1.638762e-05\n",
       "12 journal_impact                                0.064505545 2.449054e-04\n",
       "13 author_citation_log                           0.050177615 1.090556e-03\n",
       "14 pub_year2014                                  0.238528256 1.081743e-02\n",
       "15 pub_year2015                                  0.399244646 1.005926e-02\n",
       "16 pub_year2016                                  0.530946323 9.717643e-03\n",
       "17 pub_year2017                                  0.797167824 9.533948e-03\n",
       "18 pub_year2018                                  0.924043325 9.402497e-03\n",
       "19 Social_Sciences                              -0.116067104 7.841722e-03\n",
       "20 Materials_Science                            -0.532215839 1.627996e-02\n",
       "21 Engineering                                  -0.263830819 1.269579e-02\n",
       "22 Chemistry                                    -0.971189620 1.213734e-02\n",
       "23 Biochemistry__Genetics_and_Molecular_Biology -0.142976271 5.034255e-03\n",
       "24 Medicine                                     -0.035152611 4.018941e-03\n",
       "25 Nursing                                       0.211853840 1.092267e-02\n",
       "26 Agricultural_and_Biological_Sciences          0.332355079 5.864926e-03\n",
       "27 Pharmacology__Toxicology_and_Pharmaceutics   -0.420348268 1.259878e-02\n",
       "28 Neuroscience                                 -0.007812310 8.330420e-03\n",
       "29 Business__Management_and_Accounting          -0.407880624 1.592653e-02\n",
       "30 Economics__Econometrics_and_Finance          -0.128938053 1.747217e-02\n",
       "31 Chemical_Engineering                          0.091392895 1.772968e-02\n",
       "32 Physics_and_Astronomy                        -0.582827996 1.289462e-02\n",
       "33 Computer_Science                             -0.160594092 1.222516e-02\n",
       "34 Decision_Sciences                            -0.437735527 2.671992e-02\n",
       "35 Health_Professions                            0.671976240 1.241009e-02\n",
       "36 Psychology                                   -0.101346667 1.123810e-02\n",
       "37 Immunology_and_Microbiology                  -0.007371593 9.565982e-03\n",
       "38 Dentistry                                    -0.676922269 4.847026e-02\n",
       "39 Earth_and_Planetary_Sciences                 -0.415823893 1.017796e-02\n",
       "40 Environmental_Science                        -0.168298683 7.483524e-03\n",
       "41 Mathematics                                   0.478492131 1.664358e-02\n",
       "42 Arts_and_Humanities                          -0.151066110 2.190772e-02\n",
       "43 Energy                                       -0.588432573 2.227368e-02\n",
       "44 Veterinary                                   -0.660668816 2.747264e-02\n",
       "45 General                                       0.449464570 1.268987e-02\n",
       "46 genderFemale:self_promotionTrue              -0.127307254 7.612823e-03\n",
       "   statistic   p.value      \n",
       "1   24.3545247 5.191504e-131\n",
       "2   28.9807099 1.151741e-184\n",
       "3  280.4664247  0.000000e+00\n",
       "4   19.1696384  6.636843e-82\n",
       "5   65.5961202  0.000000e+00\n",
       "6  -19.3529261  1.925913e-83\n",
       "7  101.1254683  0.000000e+00\n",
       "8  -55.1248905  0.000000e+00\n",
       "9  -12.7933298  1.786522e-37\n",
       "10  17.8615099  2.351899e-71\n",
       "11  65.0445722  0.000000e+00\n",
       "12 263.3896564  0.000000e+00\n",
       "13  46.0110407  0.000000e+00\n",
       "14  22.0503547 9.477808e-108\n",
       "15  39.6892652  0.000000e+00\n",
       "16  54.6373570  0.000000e+00\n",
       "17  83.6136153  0.000000e+00\n",
       "18  98.2763727  0.000000e+00\n",
       "19 -14.8012266  1.438355e-49\n",
       "20 -32.6914690 2.064734e-234\n",
       "21 -20.7809724  6.434215e-96\n",
       "22 -80.0166559  0.000000e+00\n",
       "23 -28.4006819 1.983288e-177\n",
       "24  -8.7467342  2.196163e-18\n",
       "25  19.3957996  8.374049e-84\n",
       "26  56.6682494  0.000000e+00\n",
       "27 -33.3642164 4.531818e-244\n",
       "28  -0.9378050  3.483446e-01\n",
       "29 -25.6101414 1.176194e-144\n",
       "30  -7.3796229  1.587384e-13\n",
       "31   5.1547980  2.539045e-07\n",
       "32 -45.1993033  0.000000e+00\n",
       "33 -13.1363620  2.037914e-39\n",
       "34 -16.3823640  2.556123e-60\n",
       "35  54.1475506  0.000000e+00\n",
       "36  -9.0181295  1.913281e-19\n",
       "37  -0.7706049  4.409411e-01\n",
       "38 -13.9657226  2.523332e-44\n",
       "39 -40.8553264  0.000000e+00\n",
       "40 -22.4892289 5.291099e-112\n",
       "41  28.7493479 9.229183e-182\n",
       "42  -6.8955639  5.365156e-12\n",
       "43 -26.4182914 8.446636e-154\n",
       "44 -24.0482499 8.707245e-128\n",
       "45  35.4191761 8.654174e-275\n",
       "46 -16.7227400  8.950765e-63"
      ]
     },
     "metadata": {},
     "output_type": "display_data"
    }
   ],
   "source": [
    "tidy(m_yes)"
   ]
  },
  {
   "cell_type": "code",
   "execution_count": 109,
   "id": "a972838c",
   "metadata": {
    "scrolled": true
   },
   "outputs": [
    {
     "name": "stdout",
     "output_type": "stream",
     "text": [
      "\n",
      "% Table created by stargazer v.5.2.2 by Marek Hlavac, Harvard University. E-mail: hlavac at fas.harvard.edu\n",
      "% Date and time: Thu, Oct 06, 2022 - 12:07:58 PM\n",
      "\\begin{table}[!htbp] \\centering \n",
      "  \\caption{} \n",
      "  \\label{} \n",
      "\\begin{tabular}{@{\\extracolsep{5pt}}lc} \n",
      "\\\\[-1.8ex]\\hline \n",
      "\\hline \\\\[-1.8ex] \n",
      " & \\multicolumn{1}{c}{\\textit{Dependent variable:}} \\\\ \n",
      "\\cline{2-2} \n",
      "\\\\[-1.8ex] & total\\_num\\_tweets \\\\ \n",
      "\\hline \\\\[-1.8ex] \n",
      " genderFemale & 0.148$^{***}$ \\\\ \n",
      "  & p = 0.000 \\\\ \n",
      "  self\\_promotionTrue & 1.235$^{***}$ \\\\ \n",
      "  & p = 0.000 \\\\ \n",
      "  authorship\\_posfirst\\_position & 0.110$^{***}$ \\\\ \n",
      "  & p = 0.000 \\\\ \n",
      "  authorship\\_posmiddle\\_position & 0.290$^{***}$ \\\\ \n",
      "  & p = 0.000 \\\\ \n",
      "  authorship\\_possolo\\_author & $-$0.206$^{***}$ \\\\ \n",
      "  & p = 0.000 \\\\ \n",
      "  follower\\_cn\\_snapshot\\_log & 0.095$^{***}$ \\\\ \n",
      "  & p = 0.000 \\\\ \n",
      "  author\\_pub\\_count\\_cate & $-$0.102$^{***}$ \\\\ \n",
      "  & p = 0.000 \\\\ \n",
      "  affiliation\\_rank\\_cate & $-$0.008$^{***}$ \\\\ \n",
      "  & p = 0.000 \\\\ \n",
      "  affiliation\\_cateinternational & 0.069$^{***}$ \\\\ \n",
      "  & p = 0.000 \\\\ \n",
      "  num\\_authors & 0.001$^{***}$ \\\\ \n",
      "  & p = 0.000 \\\\ \n",
      "  journal\\_impact & 0.065$^{***}$ \\\\ \n",
      "  & p = 0.000 \\\\ \n",
      "  author\\_citation\\_log & 0.050$^{***}$ \\\\ \n",
      "  & p = 0.000 \\\\ \n",
      "  pub\\_year2014 & 0.239$^{***}$ \\\\ \n",
      "  & p = 0.000 \\\\ \n",
      "  pub\\_year2015 & 0.399$^{***}$ \\\\ \n",
      "  & p = 0.000 \\\\ \n",
      "  pub\\_year2016 & 0.531$^{***}$ \\\\ \n",
      "  & p = 0.000 \\\\ \n",
      "  pub\\_year2017 & 0.797$^{***}$ \\\\ \n",
      "  & p = 0.000 \\\\ \n",
      "  pub\\_year2018 & 0.924$^{***}$ \\\\ \n",
      "  & p = 0.000 \\\\ \n",
      "  Social\\_Sciences & $-$0.116$^{***}$ \\\\ \n",
      "  & p = 0.000 \\\\ \n",
      "  Materials\\_Science & $-$0.532$^{***}$ \\\\ \n",
      "  & p = 0.000 \\\\ \n",
      "  Engineering & $-$0.264$^{***}$ \\\\ \n",
      "  & p = 0.000 \\\\ \n",
      "  Chemistry & $-$0.971$^{***}$ \\\\ \n",
      "  & p = 0.000 \\\\ \n",
      "  Biochemistry\\_\\_Genetics\\_and\\_Molecular\\_Biology & $-$0.143$^{***}$ \\\\ \n",
      "  & p = 0.000 \\\\ \n",
      "  Medicine & $-$0.035$^{***}$ \\\\ \n",
      "  & p = 0.000 \\\\ \n",
      "  Nursing & 0.212$^{***}$ \\\\ \n",
      "  & p = 0.000 \\\\ \n",
      "  Agricultural\\_and\\_Biological\\_Sciences & 0.332$^{***}$ \\\\ \n",
      "  & p = 0.000 \\\\ \n",
      "  Pharmacology\\_\\_Toxicology\\_and\\_Pharmaceutics & $-$0.420$^{***}$ \\\\ \n",
      "  & p = 0.000 \\\\ \n",
      "  Neuroscience & $-$0.008 \\\\ \n",
      "  & p = 0.349 \\\\ \n",
      "  Business\\_\\_Management\\_and\\_Accounting & $-$0.408$^{***}$ \\\\ \n",
      "  & p = 0.000 \\\\ \n",
      "  Economics\\_\\_Econometrics\\_and\\_Finance & $-$0.129$^{***}$ \\\\ \n",
      "  & p = 0.000 \\\\ \n",
      "  Chemical\\_Engineering & 0.091$^{***}$ \\\\ \n",
      "  & p = 0.00000 \\\\ \n",
      "  Physics\\_and\\_Astronomy & $-$0.583$^{***}$ \\\\ \n",
      "  & p = 0.000 \\\\ \n",
      "  Computer\\_Science & $-$0.161$^{***}$ \\\\ \n",
      "  & p = 0.000 \\\\ \n",
      "  Decision\\_Sciences & $-$0.438$^{***}$ \\\\ \n",
      "  & p = 0.000 \\\\ \n",
      "  Health\\_Professions & 0.672$^{***}$ \\\\ \n",
      "  & p = 0.000 \\\\ \n",
      "  Psychology & $-$0.101$^{***}$ \\\\ \n",
      "  & p = 0.000 \\\\ \n",
      "  Immunology\\_and\\_Microbiology & $-$0.007 \\\\ \n",
      "  & p = 0.441 \\\\ \n",
      "  Dentistry & $-$0.677$^{***}$ \\\\ \n",
      "  & p = 0.000 \\\\ \n",
      "  Earth\\_and\\_Planetary\\_Sciences & $-$0.416$^{***}$ \\\\ \n",
      "  & p = 0.000 \\\\ \n",
      "  Environmental\\_Science & $-$0.168$^{***}$ \\\\ \n",
      "  & p = 0.000 \\\\ \n",
      "  Mathematics & 0.478$^{***}$ \\\\ \n",
      "  & p = 0.000 \\\\ \n",
      "  Arts\\_and\\_Humanities & $-$0.151$^{***}$ \\\\ \n",
      "  & p = 0.000 \\\\ \n",
      "  Energy & $-$0.588$^{***}$ \\\\ \n",
      "  & p = 0.000 \\\\ \n",
      "  Veterinary & $-$0.661$^{***}$ \\\\ \n",
      "  & p = 0.000 \\\\ \n",
      "  General & 0.449$^{***}$ \\\\ \n",
      "  & p = 0.000 \\\\ \n",
      "  genderFemale:self\\_promotionTrue & $-$0.127$^{***}$ \\\\ \n",
      "  & p = 0.000 \\\\ \n",
      "  Constant & 0.364$^{***}$ \\\\ \n",
      "  & p = 0.000 \\\\ \n",
      " \\hline \\\\[-1.8ex] \n",
      "Observations & 618,742 \\\\ \n",
      "Log Likelihood & $-$2,335,341.000 \\\\ \n",
      "$\\theta$ & 0.567$^{***}$  (0.001) \\\\ \n",
      "Akaike Inf. Crit. & 4,670,775.000 \\\\ \n",
      "\\hline \n",
      "\\hline \\\\[-1.8ex] \n",
      "\\textit{Note:}  & \\multicolumn{1}{r}{$^{*}$p$<$0.05; $^{**}$p$<$0.01; $^{***}$p$<$0.001} \\\\ \n",
      "\\end{tabular} \n",
      "\\end{table} \n"
     ]
    }
   ],
   "source": [
    "# use this search string in Sublime: \" \\\\\\\\ \\n  &\" with \" &\"\n",
    "stargazer(m_yes, type = \"latex\", single.row=TRUE, ci = FALSE, report = ('vc*p'), star.cutoffs = c(0.05, 0.01, 0.001))"
   ]
  },
  {
   "cell_type": "code",
   "execution_count": 110,
   "id": "03452b85",
   "metadata": {},
   "outputs": [],
   "source": [
    "# weighted average for factor variable, median for non-factor variables\n",
    "MEs = ggemmeans(m_yes, terms=c('self_promotion', 'gender', 'pub_year'), typical='median')"
   ]
  },
  {
   "cell_type": "code",
   "execution_count": 111,
   "id": "1ce6d7db",
   "metadata": {
    "scrolled": true
   },
   "outputs": [
    {
     "data": {
      "text/html": [
       "<table class=\"dataframe\">\n",
       "<caption>A ggeffects: 24 × 7</caption>\n",
       "<thead>\n",
       "\t<tr><th scope=col>x</th><th scope=col>predicted</th><th scope=col>std.error</th><th scope=col>conf.low</th><th scope=col>conf.high</th><th scope=col>group</th><th scope=col>facet</th></tr>\n",
       "\t<tr><th scope=col>&lt;fct&gt;</th><th scope=col>&lt;dbl&gt;</th><th scope=col>&lt;dbl&gt;</th><th scope=col>&lt;dbl&gt;</th><th scope=col>&lt;dbl&gt;</th><th scope=col>&lt;fct&gt;</th><th scope=col>&lt;fct&gt;</th></tr>\n",
       "</thead>\n",
       "<tbody>\n",
       "\t<tr><td>False</td><td> 4.315860</td><td>0.009845945</td><td> 4.233373</td><td> 4.399955</td><td>Male  </td><td>2013</td></tr>\n",
       "\t<tr><td>False</td><td> 5.478465</td><td>0.007727278</td><td> 5.396118</td><td> 5.562069</td><td>Male  </td><td>2014</td></tr>\n",
       "\t<tr><td>False</td><td> 6.433645</td><td>0.006592291</td><td> 6.351053</td><td> 6.517312</td><td>Male  </td><td>2015</td></tr>\n",
       "\t<tr><td>False</td><td> 7.339296</td><td>0.005999963</td><td> 7.253494</td><td> 7.426114</td><td>Male  </td><td>2016</td></tr>\n",
       "\t<tr><td>False</td><td> 9.577959</td><td>0.005632767</td><td> 9.472799</td><td> 9.684285</td><td>Male  </td><td>2017</td></tr>\n",
       "\t<tr><td>False</td><td>10.873623</td><td>0.005405193</td><td>10.759036</td><td>10.989431</td><td>Male  </td><td>2018</td></tr>\n",
       "\t<tr><td>False</td><td> 5.006716</td><td>0.010460461</td><td> 4.905113</td><td> 5.110424</td><td>Female</td><td>2013</td></tr>\n",
       "\t<tr><td>False</td><td> 6.355423</td><td>0.008447499</td><td> 6.251064</td><td> 6.461525</td><td>Female</td><td>2014</td></tr>\n",
       "\t<tr><td>False</td><td> 7.463503</td><td>0.007373746</td><td> 7.356414</td><td> 7.572151</td><td>Female</td><td>2015</td></tr>\n",
       "\t<tr><td>False</td><td> 8.514125</td><td>0.006797265</td><td> 8.401449</td><td> 8.628313</td><td>Female</td><td>2016</td></tr>\n",
       "\t<tr><td>False</td><td>11.111139</td><td>0.006448763</td><td>10.971585</td><td>11.252467</td><td>Female</td><td>2017</td></tr>\n",
       "\t<tr><td>False</td><td>12.614205</td><td>0.006206228</td><td>12.461696</td><td>12.768581</td><td>Female</td><td>2018</td></tr>\n",
       "\t<tr><td>True </td><td>14.844228</td><td>0.010042221</td><td>14.554915</td><td>15.139292</td><td>Male  </td><td>2013</td></tr>\n",
       "\t<tr><td>True </td><td>18.842960</td><td>0.007919486</td><td>18.552740</td><td>19.137720</td><td>Male  </td><td>2014</td></tr>\n",
       "\t<tr><td>True </td><td>22.128265</td><td>0.006747126</td><td>21.837565</td><td>22.422836</td><td>Male  </td><td>2015</td></tr>\n",
       "\t<tr><td>True </td><td>25.243216</td><td>0.006115009</td><td>24.942477</td><td>25.547581</td><td>Male  </td><td>2016</td></tr>\n",
       "\t<tr><td>True </td><td>32.943005</td><td>0.005619966</td><td>32.582131</td><td>33.307876</td><td>Male  </td><td>2017</td></tr>\n",
       "\t<tr><td>True </td><td>37.399392</td><td>0.005241139</td><td>37.017175</td><td>37.785555</td><td>Male  </td><td>2018</td></tr>\n",
       "\t<tr><td>True </td><td>15.161927</td><td>0.010825277</td><td>14.843622</td><td>15.487057</td><td>Female</td><td>2013</td></tr>\n",
       "\t<tr><td>True </td><td>19.246240</td><td>0.008861173</td><td>18.914865</td><td>19.583420</td><td>Female</td><td>2014</td></tr>\n",
       "\t<tr><td>True </td><td>22.601858</td><td>0.007794870</td><td>22.259179</td><td>22.949813</td><td>Female</td><td>2015</td></tr>\n",
       "\t<tr><td>True </td><td>25.783475</td><td>0.007209574</td><td>25.421703</td><td>26.150395</td><td>Female</td><td>2016</td></tr>\n",
       "\t<tr><td>True </td><td>33.648056</td><td>0.006747339</td><td>33.206005</td><td>34.095991</td><td>Female</td><td>2017</td></tr>\n",
       "\t<tr><td>True </td><td>38.199819</td><td>0.006381548</td><td>37.725007</td><td>38.680608</td><td>Female</td><td>2018</td></tr>\n",
       "</tbody>\n",
       "</table>\n"
      ],
      "text/latex": [
       "A ggeffects: 24 × 7\n",
       "\\begin{tabular}{lllllll}\n",
       " x & predicted & std.error & conf.low & conf.high & group & facet\\\\\n",
       " <fct> & <dbl> & <dbl> & <dbl> & <dbl> & <fct> & <fct>\\\\\n",
       "\\hline\n",
       "\t False &  4.315860 & 0.009845945 &  4.233373 &  4.399955 & Male   & 2013\\\\\n",
       "\t False &  5.478465 & 0.007727278 &  5.396118 &  5.562069 & Male   & 2014\\\\\n",
       "\t False &  6.433645 & 0.006592291 &  6.351053 &  6.517312 & Male   & 2015\\\\\n",
       "\t False &  7.339296 & 0.005999963 &  7.253494 &  7.426114 & Male   & 2016\\\\\n",
       "\t False &  9.577959 & 0.005632767 &  9.472799 &  9.684285 & Male   & 2017\\\\\n",
       "\t False & 10.873623 & 0.005405193 & 10.759036 & 10.989431 & Male   & 2018\\\\\n",
       "\t False &  5.006716 & 0.010460461 &  4.905113 &  5.110424 & Female & 2013\\\\\n",
       "\t False &  6.355423 & 0.008447499 &  6.251064 &  6.461525 & Female & 2014\\\\\n",
       "\t False &  7.463503 & 0.007373746 &  7.356414 &  7.572151 & Female & 2015\\\\\n",
       "\t False &  8.514125 & 0.006797265 &  8.401449 &  8.628313 & Female & 2016\\\\\n",
       "\t False & 11.111139 & 0.006448763 & 10.971585 & 11.252467 & Female & 2017\\\\\n",
       "\t False & 12.614205 & 0.006206228 & 12.461696 & 12.768581 & Female & 2018\\\\\n",
       "\t True  & 14.844228 & 0.010042221 & 14.554915 & 15.139292 & Male   & 2013\\\\\n",
       "\t True  & 18.842960 & 0.007919486 & 18.552740 & 19.137720 & Male   & 2014\\\\\n",
       "\t True  & 22.128265 & 0.006747126 & 21.837565 & 22.422836 & Male   & 2015\\\\\n",
       "\t True  & 25.243216 & 0.006115009 & 24.942477 & 25.547581 & Male   & 2016\\\\\n",
       "\t True  & 32.943005 & 0.005619966 & 32.582131 & 33.307876 & Male   & 2017\\\\\n",
       "\t True  & 37.399392 & 0.005241139 & 37.017175 & 37.785555 & Male   & 2018\\\\\n",
       "\t True  & 15.161927 & 0.010825277 & 14.843622 & 15.487057 & Female & 2013\\\\\n",
       "\t True  & 19.246240 & 0.008861173 & 18.914865 & 19.583420 & Female & 2014\\\\\n",
       "\t True  & 22.601858 & 0.007794870 & 22.259179 & 22.949813 & Female & 2015\\\\\n",
       "\t True  & 25.783475 & 0.007209574 & 25.421703 & 26.150395 & Female & 2016\\\\\n",
       "\t True  & 33.648056 & 0.006747339 & 33.206005 & 34.095991 & Female & 2017\\\\\n",
       "\t True  & 38.199819 & 0.006381548 & 37.725007 & 38.680608 & Female & 2018\\\\\n",
       "\\end{tabular}\n"
      ],
      "text/markdown": [
       "\n",
       "A ggeffects: 24 × 7\n",
       "\n",
       "| x &lt;fct&gt; | predicted &lt;dbl&gt; | std.error &lt;dbl&gt; | conf.low &lt;dbl&gt; | conf.high &lt;dbl&gt; | group &lt;fct&gt; | facet &lt;fct&gt; |\n",
       "|---|---|---|---|---|---|---|\n",
       "| False |  4.315860 | 0.009845945 |  4.233373 |  4.399955 | Male   | 2013 |\n",
       "| False |  5.478465 | 0.007727278 |  5.396118 |  5.562069 | Male   | 2014 |\n",
       "| False |  6.433645 | 0.006592291 |  6.351053 |  6.517312 | Male   | 2015 |\n",
       "| False |  7.339296 | 0.005999963 |  7.253494 |  7.426114 | Male   | 2016 |\n",
       "| False |  9.577959 | 0.005632767 |  9.472799 |  9.684285 | Male   | 2017 |\n",
       "| False | 10.873623 | 0.005405193 | 10.759036 | 10.989431 | Male   | 2018 |\n",
       "| False |  5.006716 | 0.010460461 |  4.905113 |  5.110424 | Female | 2013 |\n",
       "| False |  6.355423 | 0.008447499 |  6.251064 |  6.461525 | Female | 2014 |\n",
       "| False |  7.463503 | 0.007373746 |  7.356414 |  7.572151 | Female | 2015 |\n",
       "| False |  8.514125 | 0.006797265 |  8.401449 |  8.628313 | Female | 2016 |\n",
       "| False | 11.111139 | 0.006448763 | 10.971585 | 11.252467 | Female | 2017 |\n",
       "| False | 12.614205 | 0.006206228 | 12.461696 | 12.768581 | Female | 2018 |\n",
       "| True  | 14.844228 | 0.010042221 | 14.554915 | 15.139292 | Male   | 2013 |\n",
       "| True  | 18.842960 | 0.007919486 | 18.552740 | 19.137720 | Male   | 2014 |\n",
       "| True  | 22.128265 | 0.006747126 | 21.837565 | 22.422836 | Male   | 2015 |\n",
       "| True  | 25.243216 | 0.006115009 | 24.942477 | 25.547581 | Male   | 2016 |\n",
       "| True  | 32.943005 | 0.005619966 | 32.582131 | 33.307876 | Male   | 2017 |\n",
       "| True  | 37.399392 | 0.005241139 | 37.017175 | 37.785555 | Male   | 2018 |\n",
       "| True  | 15.161927 | 0.010825277 | 14.843622 | 15.487057 | Female | 2013 |\n",
       "| True  | 19.246240 | 0.008861173 | 18.914865 | 19.583420 | Female | 2014 |\n",
       "| True  | 22.601858 | 0.007794870 | 22.259179 | 22.949813 | Female | 2015 |\n",
       "| True  | 25.783475 | 0.007209574 | 25.421703 | 26.150395 | Female | 2016 |\n",
       "| True  | 33.648056 | 0.006747339 | 33.206005 | 34.095991 | Female | 2017 |\n",
       "| True  | 38.199819 | 0.006381548 | 37.725007 | 38.680608 | Female | 2018 |\n",
       "\n"
      ],
      "text/plain": [
       "   x     predicted std.error   conf.low  conf.high group  facet\n",
       "1  False  4.315860 0.009845945  4.233373  4.399955 Male   2013 \n",
       "2  False  5.478465 0.007727278  5.396118  5.562069 Male   2014 \n",
       "3  False  6.433645 0.006592291  6.351053  6.517312 Male   2015 \n",
       "4  False  7.339296 0.005999963  7.253494  7.426114 Male   2016 \n",
       "5  False  9.577959 0.005632767  9.472799  9.684285 Male   2017 \n",
       "6  False 10.873623 0.005405193 10.759036 10.989431 Male   2018 \n",
       "7  False  5.006716 0.010460461  4.905113  5.110424 Female 2013 \n",
       "8  False  6.355423 0.008447499  6.251064  6.461525 Female 2014 \n",
       "9  False  7.463503 0.007373746  7.356414  7.572151 Female 2015 \n",
       "10 False  8.514125 0.006797265  8.401449  8.628313 Female 2016 \n",
       "11 False 11.111139 0.006448763 10.971585 11.252467 Female 2017 \n",
       "12 False 12.614205 0.006206228 12.461696 12.768581 Female 2018 \n",
       "13 True  14.844228 0.010042221 14.554915 15.139292 Male   2013 \n",
       "14 True  18.842960 0.007919486 18.552740 19.137720 Male   2014 \n",
       "15 True  22.128265 0.006747126 21.837565 22.422836 Male   2015 \n",
       "16 True  25.243216 0.006115009 24.942477 25.547581 Male   2016 \n",
       "17 True  32.943005 0.005619966 32.582131 33.307876 Male   2017 \n",
       "18 True  37.399392 0.005241139 37.017175 37.785555 Male   2018 \n",
       "19 True  15.161927 0.010825277 14.843622 15.487057 Female 2013 \n",
       "20 True  19.246240 0.008861173 18.914865 19.583420 Female 2014 \n",
       "21 True  22.601858 0.007794870 22.259179 22.949813 Female 2015 \n",
       "22 True  25.783475 0.007209574 25.421703 26.150395 Female 2016 \n",
       "23 True  33.648056 0.006747339 33.206005 34.095991 Female 2017 \n",
       "24 True  38.199819 0.006381548 37.725007 38.680608 Female 2018 "
      ]
     },
     "metadata": {},
     "output_type": "display_data"
    }
   ],
   "source": [
    "MEs"
   ]
  },
  {
   "cell_type": "code",
   "execution_count": 112,
   "id": "9b179818",
   "metadata": {},
   "outputs": [],
   "source": [
    "write.csv(MEs, paste(data_root, \"gender_return_on_self_promotion_active_sub.csv\", sep = ''), row.names=FALSE)"
   ]
  },
  {
   "cell_type": "markdown",
   "id": "997400f5",
   "metadata": {},
   "source": [
    "Fit a model for each year"
   ]
  },
  {
   "cell_type": "code",
   "execution_count": 38,
   "id": "70993e09",
   "metadata": {
    "scrolled": false
   },
   "outputs": [
    {
     "data": {
      "text/html": [
       "209690"
      ],
      "text/latex": [
       "209690"
      ],
      "text/markdown": [
       "209690"
      ],
      "text/plain": [
       "[1] 209690"
      ]
     },
     "metadata": {},
     "output_type": "display_data"
    }
   ],
   "source": [
    "nrow(mydata[(mydata$is_active_on_twitter == \"True\") & (mydata$pub_year == '2018'), ])"
   ]
  },
  {
   "cell_type": "code",
   "execution_count": 21,
   "id": "d8e38e82",
   "metadata": {
    "scrolled": true
   },
   "outputs": [
    {
     "data": {
      "text/html": [
       "148751"
      ],
      "text/latex": [
       "148751"
      ],
      "text/markdown": [
       "148751"
      ],
      "text/plain": [
       "[1] 148751"
      ]
     },
     "metadata": {},
     "output_type": "display_data"
    }
   ],
   "source": [
    "nrow(mydata[(mydata$is_active_on_twitter == \"True\") & (mydata$pub_year == '2017'), ])"
   ]
  },
  {
   "cell_type": "code",
   "execution_count": 22,
   "id": "a3a11228",
   "metadata": {
    "scrolled": true
   },
   "outputs": [
    {
     "data": {
      "text/html": [
       "110544"
      ],
      "text/latex": [
       "110544"
      ],
      "text/markdown": [
       "110544"
      ],
      "text/plain": [
       "[1] 110544"
      ]
     },
     "metadata": {},
     "output_type": "display_data"
    }
   ],
   "source": [
    "nrow(mydata[(mydata$is_active_on_twitter == \"True\") & (mydata$pub_year == '2016'), ])"
   ]
  },
  {
   "cell_type": "code",
   "execution_count": 39,
   "id": "8e132769",
   "metadata": {
    "scrolled": false
   },
   "outputs": [
    {
     "data": {
      "text/html": [
       "77640"
      ],
      "text/latex": [
       "77640"
      ],
      "text/markdown": [
       "77640"
      ],
      "text/plain": [
       "[1] 77640"
      ]
     },
     "metadata": {},
     "output_type": "display_data"
    }
   ],
   "source": [
    "nrow(mydata[(mydata$is_active_on_twitter == \"True\") & (mydata$pub_year == '2015'), ])"
   ]
  },
  {
   "cell_type": "code",
   "execution_count": 23,
   "id": "a28e2287",
   "metadata": {
    "scrolled": true
   },
   "outputs": [
    {
     "data": {
      "text/html": [
       "46947"
      ],
      "text/latex": [
       "46947"
      ],
      "text/markdown": [
       "46947"
      ],
      "text/plain": [
       "[1] 46947"
      ]
     },
     "metadata": {},
     "output_type": "display_data"
    }
   ],
   "source": [
    "nrow(mydata[(mydata$is_active_on_twitter == \"True\") & (mydata$pub_year == '2014'), ])"
   ]
  },
  {
   "cell_type": "code",
   "execution_count": 40,
   "id": "1cefc86d",
   "metadata": {
    "scrolled": true
   },
   "outputs": [
    {
     "data": {
      "text/html": [
       "25170"
      ],
      "text/latex": [
       "25170"
      ],
      "text/markdown": [
       "25170"
      ],
      "text/plain": [
       "[1] 25170"
      ]
     },
     "metadata": {},
     "output_type": "display_data"
    }
   ],
   "source": [
    "nrow(mydata[(mydata$is_active_on_twitter == \"True\") & (mydata$pub_year == '2013'), ])"
   ]
  },
  {
   "cell_type": "code",
   "execution_count": 78,
   "id": "b1986c72",
   "metadata": {
    "scrolled": true
   },
   "outputs": [
    {
     "name": "stdout",
     "output_type": "stream",
     "text": [
      "\u001b[90m# A tibble: 41 x 5\u001b[39m\n",
      "   term                                   estimate std.error statistic   p.value\n",
      "   \u001b[3m\u001b[90m<chr>\u001b[39m\u001b[23m                                     \u001b[3m\u001b[90m<dbl>\u001b[39m\u001b[23m     \u001b[3m\u001b[90m<dbl>\u001b[39m\u001b[23m     \u001b[3m\u001b[90m<dbl>\u001b[39m\u001b[23m     \u001b[3m\u001b[90m<dbl>\u001b[39m\u001b[23m\n",
      "\u001b[90m 1\u001b[39m (Intercept)                             0.016\u001b[4m3\u001b[24m   0.066\u001b[4m9\u001b[24m       0.243 8.08\u001b[90me\u001b[39m\u001b[31m-  1\u001b[39m\n",
      "\u001b[90m 2\u001b[39m genderFemale                            0.272    0.028\u001b[4m4\u001b[24m       9.59  8.96\u001b[90me\u001b[39m\u001b[31m- 22\u001b[39m\n",
      "\u001b[90m 3\u001b[39m self_promotionTrue                      1.44     0.023\u001b[4m4\u001b[24m      61.9   0   \u001b[90m \u001b[39m    \n",
      "\u001b[90m 4\u001b[39m authorship_posfirst_position            0.044\u001b[4m0\u001b[24m   0.030\u001b[4m0\u001b[24m       1.47  1.42\u001b[90me\u001b[39m\u001b[31m-  1\u001b[39m\n",
      "\u001b[90m 5\u001b[39m authorship_posmiddle_position           0.087\u001b[4m3\u001b[24m   0.023\u001b[4m9\u001b[24m       3.65  2.60\u001b[90me\u001b[39m\u001b[31m-  4\u001b[39m\n",
      "\u001b[90m 6\u001b[39m authorship_possolo_author              -\u001b[31m0\u001b[39m\u001b[31m.\u001b[39m\u001b[31m246\u001b[39m    0.050\u001b[4m5\u001b[24m      -\u001b[31m4\u001b[39m\u001b[31m.\u001b[39m\u001b[31m88\u001b[39m  1.07\u001b[90me\u001b[39m\u001b[31m-  6\u001b[39m\n",
      "\u001b[90m 7\u001b[39m follower_cn_snapshot_log                0.117    0.005\u001b[4m0\u001b[24m\u001b[4m6\u001b[24m     23.2   1.16\u001b[90me\u001b[39m\u001b[31m-118\u001b[39m\n",
      "\u001b[90m 8\u001b[39m author_pub_count_cate                  -\u001b[31m0\u001b[39m\u001b[31m.\u001b[39m\u001b[31m0\u001b[39m\u001b[31m45\u001b[4m3\u001b[24m\u001b[39m   0.010\u001b[4m0\u001b[24m      -\u001b[31m4\u001b[39m\u001b[31m.\u001b[39m\u001b[31m52\u001b[39m  6.08\u001b[90me\u001b[39m\u001b[31m-  6\u001b[39m\n",
      "\u001b[90m 9\u001b[39m affiliation_rank_cate                  -\u001b[31m0\u001b[39m\u001b[31m.\u001b[39m\u001b[31m00\u001b[39m\u001b[31m7\u001b[4m1\u001b[24m\u001b[4m3\u001b[24m\u001b[39m  0.003\u001b[4m6\u001b[24m\u001b[4m0\u001b[24m     -\u001b[31m1\u001b[39m\u001b[31m.\u001b[39m\u001b[31m98\u001b[39m  4.75\u001b[90me\u001b[39m\u001b[31m-  2\u001b[39m\n",
      "\u001b[90m10\u001b[39m affiliation_cateinternational           0.023\u001b[4m7\u001b[24m   0.021\u001b[4m4\u001b[24m       1.11  2.69\u001b[90me\u001b[39m\u001b[31m-  1\u001b[39m\n",
      "\u001b[90m11\u001b[39m num_authors                             0.004\u001b[4m8\u001b[24m\u001b[4m6\u001b[24m  0.000\u001b[4m3\u001b[24m\u001b[4m5\u001b[24m\u001b[4m9\u001b[24m    13.5   1.01\u001b[90me\u001b[39m\u001b[31m- 41\u001b[39m\n",
      "\u001b[90m12\u001b[39m journal_impact                          0.049\u001b[4m9\u001b[24m   0.001\u001b[4m3\u001b[24m\u001b[4m7\u001b[24m     36.4   1.40\u001b[90me\u001b[39m\u001b[31m-289\u001b[39m\n",
      "\u001b[90m13\u001b[39m author_citation_log                     0.007\u001b[4m1\u001b[24m\u001b[4m9\u001b[24m  0.006\u001b[4m0\u001b[24m\u001b[4m9\u001b[24m      1.18  2.38\u001b[90me\u001b[39m\u001b[31m-  1\u001b[39m\n",
      "\u001b[90m14\u001b[39m Social_Sciences                        -\u001b[31m0\u001b[39m\u001b[31m.\u001b[39m\u001b[31m0\u001b[39m\u001b[31m93\u001b[4m7\u001b[24m\u001b[39m   0.041\u001b[4m6\u001b[24m      -\u001b[31m2\u001b[39m\u001b[31m.\u001b[39m\u001b[31m25\u001b[39m  2.42\u001b[90me\u001b[39m\u001b[31m-  2\u001b[39m\n",
      "\u001b[90m15\u001b[39m Materials_Science                      -\u001b[31m0\u001b[39m\u001b[31m.\u001b[39m\u001b[31m676\u001b[39m    0.095\u001b[4m8\u001b[24m      -\u001b[31m7\u001b[39m\u001b[31m.\u001b[39m\u001b[31m0\u001b[39m\u001b[31m6\u001b[39m  1.71\u001b[90me\u001b[39m\u001b[31m- 12\u001b[39m\n",
      "\u001b[90m16\u001b[39m Engineering                            -\u001b[31m0\u001b[39m\u001b[31m.\u001b[39m\u001b[31m697\u001b[39m    0.071\u001b[4m4\u001b[24m      -\u001b[31m9\u001b[39m\u001b[31m.\u001b[39m\u001b[31m77\u001b[39m  1.54\u001b[90me\u001b[39m\u001b[31m- 22\u001b[39m\n",
      "\u001b[90m17\u001b[39m Chemistry                              -\u001b[31m0\u001b[39m\u001b[31m.\u001b[39m\u001b[31m861\u001b[39m    0.071\u001b[4m2\u001b[24m     -\u001b[31m12\u001b[39m\u001b[31m.\u001b[39m\u001b[31m1\u001b[39m   1.16\u001b[90me\u001b[39m\u001b[31m- 33\u001b[39m\n",
      "\u001b[90m18\u001b[39m Biochemistry__Genetics_and_Molecular_… -\u001b[31m0\u001b[39m\u001b[31m.\u001b[39m\u001b[31m0\u001b[39m\u001b[31m70\u001b[4m6\u001b[24m\u001b[39m   0.026\u001b[4m6\u001b[24m      -\u001b[31m2\u001b[39m\u001b[31m.\u001b[39m\u001b[31m65\u001b[39m  7.93\u001b[90me\u001b[39m\u001b[31m-  3\u001b[39m\n",
      "\u001b[90m19\u001b[39m Medicine                                0.257    0.022\u001b[4m2\u001b[24m      11.6   3.88\u001b[90me\u001b[39m\u001b[31m- 31\u001b[39m\n",
      "\u001b[90m20\u001b[39m Nursing                                 0.045\u001b[4m9\u001b[24m   0.056\u001b[4m8\u001b[24m       0.807 4.20\u001b[90me\u001b[39m\u001b[31m-  1\u001b[39m\n",
      "\u001b[90m21\u001b[39m Agricultural_and_Biological_Sciences    0.457    0.029\u001b[4m1\u001b[24m      15.7   1.48\u001b[90me\u001b[39m\u001b[31m- 55\u001b[39m\n",
      "\u001b[90m22\u001b[39m Pharmacology__Toxicology_and_Pharmace… -\u001b[31m0\u001b[39m\u001b[31m.\u001b[39m\u001b[31m245\u001b[39m    0.069\u001b[4m0\u001b[24m      -\u001b[31m3\u001b[39m\u001b[31m.\u001b[39m\u001b[31m54\u001b[39m  3.96\u001b[90me\u001b[39m\u001b[31m-  4\u001b[39m\n",
      "\u001b[90m23\u001b[39m Neuroscience                           -\u001b[31m0\u001b[39m\u001b[31m.\u001b[39m\u001b[31m0\u001b[39m\u001b[31m45\u001b[4m0\u001b[24m\u001b[39m   0.042\u001b[4m3\u001b[24m      -\u001b[31m1\u001b[39m\u001b[31m.\u001b[39m\u001b[31m0\u001b[39m\u001b[31m6\u001b[39m  2.88\u001b[90me\u001b[39m\u001b[31m-  1\u001b[39m\n",
      "\u001b[90m24\u001b[39m Business__Management_and_Accounting    -\u001b[31m0\u001b[39m\u001b[31m.\u001b[39m\u001b[31m517\u001b[39m    0.078\u001b[4m9\u001b[24m      -\u001b[31m6\u001b[39m\u001b[31m.\u001b[39m\u001b[31m55\u001b[39m  5.63\u001b[90me\u001b[39m\u001b[31m- 11\u001b[39m\n",
      "\u001b[90m25\u001b[39m Economics__Econometrics_and_Finance    -\u001b[31m0\u001b[39m\u001b[31m.\u001b[39m\u001b[31m0\u001b[39m\u001b[31m19\u001b[4m0\u001b[24m\u001b[39m   0.087\u001b[4m6\u001b[24m      -\u001b[31m0\u001b[39m\u001b[31m.\u001b[39m\u001b[31m217\u001b[39m 8.28\u001b[90me\u001b[39m\u001b[31m-  1\u001b[39m\n",
      "\u001b[90m26\u001b[39m Chemical_Engineering                    0.832    0.099\u001b[4m5\u001b[24m       8.36  6.30\u001b[90me\u001b[39m\u001b[31m- 17\u001b[39m\n",
      "\u001b[90m27\u001b[39m Physics_and_Astronomy                  -\u001b[31m0\u001b[39m\u001b[31m.\u001b[39m\u001b[31m218\u001b[39m    0.064\u001b[4m6\u001b[24m      -\u001b[31m3\u001b[39m\u001b[31m.\u001b[39m\u001b[31m38\u001b[39m  7.27\u001b[90me\u001b[39m\u001b[31m-  4\u001b[39m\n",
      "\u001b[90m28\u001b[39m Computer_Science                        0.026\u001b[4m1\u001b[24m   0.056\u001b[4m1\u001b[24m       0.465 6.42\u001b[90me\u001b[39m\u001b[31m-  1\u001b[39m\n",
      "\u001b[90m29\u001b[39m Decision_Sciences                      -\u001b[31m0\u001b[39m\u001b[31m.\u001b[39m\u001b[31m272\u001b[39m    0.127       -\u001b[31m2\u001b[39m\u001b[31m.\u001b[39m\u001b[31m14\u001b[39m  3.25\u001b[90me\u001b[39m\u001b[31m-  2\u001b[39m\n",
      "\u001b[90m30\u001b[39m Health_Professions                      0.512    0.070\u001b[4m2\u001b[24m       7.29  3.13\u001b[90me\u001b[39m\u001b[31m- 13\u001b[39m\n",
      "\u001b[90m31\u001b[39m Psychology                              0.109    0.058\u001b[4m6\u001b[24m       1.86  6.24\u001b[90me\u001b[39m\u001b[31m-  2\u001b[39m\n",
      "\u001b[90m32\u001b[39m Immunology_and_Microbiology            -\u001b[31m0\u001b[39m\u001b[31m.\u001b[39m\u001b[31m0\u001b[39m\u001b[31m52\u001b[4m8\u001b[24m\u001b[39m   0.051\u001b[4m5\u001b[24m      -\u001b[31m1\u001b[39m\u001b[31m.\u001b[39m\u001b[31m0\u001b[39m\u001b[31m2\u001b[39m  3.06\u001b[90me\u001b[39m\u001b[31m-  1\u001b[39m\n",
      "\u001b[90m33\u001b[39m Dentistry                              -\u001b[31m0\u001b[39m\u001b[31m.\u001b[39m\u001b[31m694\u001b[39m    0.314       -\u001b[31m2\u001b[39m\u001b[31m.\u001b[39m\u001b[31m21\u001b[39m  2.69\u001b[90me\u001b[39m\u001b[31m-  2\u001b[39m\n",
      "\u001b[90m34\u001b[39m Earth_and_Planetary_Sciences           -\u001b[31m0\u001b[39m\u001b[31m.\u001b[39m\u001b[31m405\u001b[39m    0.050\u001b[4m4\u001b[24m      -\u001b[31m8\u001b[39m\u001b[31m.\u001b[39m\u001b[31m0\u001b[39m\u001b[31m5\u001b[39m  8.57\u001b[90me\u001b[39m\u001b[31m- 16\u001b[39m\n",
      "\u001b[90m35\u001b[39m Environmental_Science                  -\u001b[31m0\u001b[39m\u001b[31m.\u001b[39m\u001b[31m118\u001b[39m    0.041\u001b[4m9\u001b[24m      -\u001b[31m2\u001b[39m\u001b[31m.\u001b[39m\u001b[31m82\u001b[39m  4.81\u001b[90me\u001b[39m\u001b[31m-  3\u001b[39m\n",
      "\u001b[90m36\u001b[39m Mathematics                             0.288    0.075\u001b[4m0\u001b[24m       3.85  1.20\u001b[90me\u001b[39m\u001b[31m-  4\u001b[39m\n",
      "\u001b[90m37\u001b[39m Arts_and_Humanities                    -\u001b[31m0\u001b[39m\u001b[31m.\u001b[39m\u001b[31m169\u001b[39m    0.110       -\u001b[31m1\u001b[39m\u001b[31m.\u001b[39m\u001b[31m53\u001b[39m  1.25\u001b[90me\u001b[39m\u001b[31m-  1\u001b[39m\n",
      "\u001b[90m38\u001b[39m Energy                                 -\u001b[31m1\u001b[39m\u001b[31m.\u001b[39m\u001b[31m0\u001b[39m\u001b[31m7\u001b[39m     0.162       -\u001b[31m6\u001b[39m\u001b[31m.\u001b[39m\u001b[31m57\u001b[39m  4.88\u001b[90me\u001b[39m\u001b[31m- 11\u001b[39m\n",
      "\u001b[90m39\u001b[39m Veterinary                             -\u001b[31m0\u001b[39m\u001b[31m.\u001b[39m\u001b[31m907\u001b[39m    0.154       -\u001b[31m5\u001b[39m\u001b[31m.\u001b[39m\u001b[31m88\u001b[39m  4.20\u001b[90me\u001b[39m\u001b[31m-  9\u001b[39m\n",
      "\u001b[90m40\u001b[39m General                                 0.469    0.066\u001b[4m0\u001b[24m       7.11  1.15\u001b[90me\u001b[39m\u001b[31m- 12\u001b[39m\n",
      "\u001b[90m41\u001b[39m genderFemale:self_promotionTrue        -\u001b[31m0\u001b[39m\u001b[31m.\u001b[39m\u001b[31m170\u001b[39m    0.045\u001b[4m7\u001b[24m      -\u001b[31m3\u001b[39m\u001b[31m.\u001b[39m\u001b[31m73\u001b[39m  1.95\u001b[90me\u001b[39m\u001b[31m-  4\u001b[39m\n",
      "\u001b[90m# A tibble: 41 x 5\u001b[39m\n",
      "   term                                   estimate std.error statistic   p.value\n",
      "   \u001b[3m\u001b[90m<chr>\u001b[39m\u001b[23m                                     \u001b[3m\u001b[90m<dbl>\u001b[39m\u001b[23m     \u001b[3m\u001b[90m<dbl>\u001b[39m\u001b[23m     \u001b[3m\u001b[90m<dbl>\u001b[39m\u001b[23m     \u001b[3m\u001b[90m<dbl>\u001b[39m\u001b[23m\n",
      "\u001b[90m 1\u001b[39m (Intercept)                             0.672    0.046\u001b[4m4\u001b[24m      14.5   1.47\u001b[90me\u001b[39m\u001b[31m- 47\u001b[39m\n",
      "\u001b[90m 2\u001b[39m genderFemale                            0.169    0.019\u001b[4m6\u001b[24m       8.64  5.70\u001b[90me\u001b[39m\u001b[31m- 18\u001b[39m\n",
      "\u001b[90m 3\u001b[39m self_promotionTrue                      1.32     0.016\u001b[4m7\u001b[24m      78.9   0   \u001b[90m \u001b[39m    \n",
      "\u001b[90m 4\u001b[39m authorship_posfirst_position            0.010\u001b[4m9\u001b[24m   0.021\u001b[4m3\u001b[24m       0.512 6.09\u001b[90me\u001b[39m\u001b[31m-  1\u001b[39m\n",
      "\u001b[90m 5\u001b[39m authorship_posmiddle_position           0.060\u001b[4m7\u001b[24m   0.016\u001b[4m9\u001b[24m       3.59  3.28\u001b[90me\u001b[39m\u001b[31m-  4\u001b[39m\n",
      "\u001b[90m 6\u001b[39m authorship_possolo_author              -\u001b[31m0\u001b[39m\u001b[31m.\u001b[39m\u001b[31m327\u001b[39m    0.036\u001b[4m2\u001b[24m      -\u001b[31m9\u001b[39m\u001b[31m.\u001b[39m\u001b[31m0\u001b[39m\u001b[31m4\u001b[39m  1.56\u001b[90me\u001b[39m\u001b[31m- 19\u001b[39m\n",
      "\u001b[90m 7\u001b[39m follower_cn_snapshot_log                0.100    0.003\u001b[4m6\u001b[24m\u001b[4m6\u001b[24m     27.4   1.91\u001b[90me\u001b[39m\u001b[31m-165\u001b[39m\n",
      "\u001b[90m 8\u001b[39m author_pub_count_cate                  -\u001b[31m0\u001b[39m\u001b[31m.\u001b[39m\u001b[31m0\u001b[39m\u001b[31m52\u001b[4m6\u001b[24m\u001b[39m   0.007\u001b[4m1\u001b[24m\u001b[4m0\u001b[24m     -\u001b[31m7\u001b[39m\u001b[31m.\u001b[39m\u001b[31m41\u001b[39m  1.24\u001b[90me\u001b[39m\u001b[31m- 13\u001b[39m\n",
      "\u001b[90m 9\u001b[39m affiliation_rank_cate                   0.011\u001b[4m1\u001b[24m   0.002\u001b[4m5\u001b[24m\u001b[4m2\u001b[24m      4.38  1.20\u001b[90me\u001b[39m\u001b[31m-  5\u001b[39m\n",
      "\u001b[90m10\u001b[39m affiliation_cateinternational          -\u001b[31m0\u001b[39m\u001b[31m.\u001b[39m\u001b[31m0\u001b[39m\u001b[31m14\u001b[4m4\u001b[24m\u001b[39m   0.015\u001b[4m0\u001b[24m      -\u001b[31m0\u001b[39m\u001b[31m.\u001b[39m\u001b[31m961\u001b[39m 3.36\u001b[90me\u001b[39m\u001b[31m-  1\u001b[39m\n",
      "\u001b[90m11\u001b[39m num_authors                             0.004\u001b[4m8\u001b[24m\u001b[4m1\u001b[24m  0.000\u001b[4m2\u001b[24m\u001b[4m2\u001b[24m\u001b[4m1\u001b[24m    21.8   5.08\u001b[90me\u001b[39m\u001b[31m-105\u001b[39m\n",
      "\u001b[90m12\u001b[39m journal_impact                          0.045\u001b[4m3\u001b[24m   0.000\u001b[4m9\u001b[24m\u001b[4m6\u001b[24m\u001b[4m3\u001b[24m    47.1   0   \u001b[90m \u001b[39m    \n",
      "\u001b[90m13\u001b[39m author_citation_log                     0.008\u001b[4m1\u001b[24m\u001b[4m1\u001b[24m  0.004\u001b[4m2\u001b[24m\u001b[4m5\u001b[24m      1.91  5.66\u001b[90me\u001b[39m\u001b[31m-  2\u001b[39m\n",
      "\u001b[90m14\u001b[39m Social_Sciences                        -\u001b[31m0\u001b[39m\u001b[31m.\u001b[39m\u001b[31m164\u001b[39m    0.029\u001b[4m0\u001b[24m      -\u001b[31m5\u001b[39m\u001b[31m.\u001b[39m\u001b[31m65\u001b[39m  1.61\u001b[90me\u001b[39m\u001b[31m-  8\u001b[39m\n",
      "\u001b[90m15\u001b[39m Materials_Science                      -\u001b[31m0\u001b[39m\u001b[31m.\u001b[39m\u001b[31m242\u001b[39m    0.069\u001b[4m7\u001b[24m      -\u001b[31m3\u001b[39m\u001b[31m.\u001b[39m\u001b[31m47\u001b[39m  5.13\u001b[90me\u001b[39m\u001b[31m-  4\u001b[39m\n",
      "\u001b[90m16\u001b[39m Engineering                            -\u001b[31m0\u001b[39m\u001b[31m.\u001b[39m\u001b[31m377\u001b[39m    0.050\u001b[4m3\u001b[24m      -\u001b[31m7\u001b[39m\u001b[31m.\u001b[39m\u001b[31m50\u001b[39m  6.24\u001b[90me\u001b[39m\u001b[31m- 14\u001b[39m\n",
      "\u001b[90m17\u001b[39m Chemistry                              -\u001b[31m1\u001b[39m\u001b[31m.\u001b[39m\u001b[31m10\u001b[39m     0.055\u001b[4m2\u001b[24m     -\u001b[31m20\u001b[39m\u001b[31m.\u001b[39m\u001b[31m0\u001b[39m   1.03\u001b[90me\u001b[39m\u001b[31m- 88\u001b[39m\n",
      "\u001b[90m18\u001b[39m Biochemistry__Genetics_and_Molecular_… -\u001b[31m0\u001b[39m\u001b[31m.\u001b[39m\u001b[31m175\u001b[39m    0.018\u001b[4m9\u001b[24m      -\u001b[31m9\u001b[39m\u001b[31m.\u001b[39m\u001b[31m27\u001b[39m  1.83\u001b[90me\u001b[39m\u001b[31m- 20\u001b[39m\n",
      "\u001b[90m19\u001b[39m Medicine                                0.025\u001b[4m1\u001b[24m   0.015\u001b[4m5\u001b[24m       1.62  1.05\u001b[90me\u001b[39m\u001b[31m-  1\u001b[39m\n",
      "\u001b[90m20\u001b[39m Nursing                                 0.187    0.040\u001b[4m2\u001b[24m       4.65  3.37\u001b[90me\u001b[39m\u001b[31m-  6\u001b[39m\n",
      "\u001b[90m21\u001b[39m Agricultural_and_Biological_Sciences    0.569    0.021\u001b[4m0\u001b[24m      27.1   3.56\u001b[90me\u001b[39m\u001b[31m-161\u001b[39m\n",
      "\u001b[90m22\u001b[39m Pharmacology__Toxicology_and_Pharmace… -\u001b[31m0\u001b[39m\u001b[31m.\u001b[39m\u001b[31m307\u001b[39m    0.051\u001b[4m1\u001b[24m      -\u001b[31m6\u001b[39m\u001b[31m.\u001b[39m\u001b[31m0\u001b[39m\u001b[31m1\u001b[39m  1.87\u001b[90me\u001b[39m\u001b[31m-  9\u001b[39m\n",
      "\u001b[90m23\u001b[39m Neuroscience                            0.107    0.031\u001b[4m4\u001b[24m       3.41  6.45\u001b[90me\u001b[39m\u001b[31m-  4\u001b[39m\n",
      "\u001b[90m24\u001b[39m Business__Management_and_Accounting    -\u001b[31m0\u001b[39m\u001b[31m.\u001b[39m\u001b[31m523\u001b[39m    0.058\u001b[4m0\u001b[24m      -\u001b[31m9\u001b[39m\u001b[31m.\u001b[39m\u001b[31m0\u001b[39m\u001b[31m2\u001b[39m  1.89\u001b[90me\u001b[39m\u001b[31m- 19\u001b[39m\n",
      "\u001b[90m25\u001b[39m Economics__Econometrics_and_Finance    -\u001b[31m0\u001b[39m\u001b[31m.\u001b[39m\u001b[31m0\u001b[39m\u001b[31m66\u001b[4m1\u001b[24m\u001b[39m   0.063\u001b[4m8\u001b[24m      -\u001b[31m1\u001b[39m\u001b[31m.\u001b[39m\u001b[31m0\u001b[39m\u001b[31m4\u001b[39m  3.00\u001b[90me\u001b[39m\u001b[31m-  1\u001b[39m\n",
      "\u001b[90m26\u001b[39m Chemical_Engineering                    0.287    0.075\u001b[4m2\u001b[24m       3.82  1.35\u001b[90me\u001b[39m\u001b[31m-  4\u001b[39m\n",
      "\u001b[90m27\u001b[39m Physics_and_Astronomy                  -\u001b[31m0\u001b[39m\u001b[31m.\u001b[39m\u001b[31m608\u001b[39m    0.047\u001b[4m5\u001b[24m     -\u001b[31m12\u001b[39m\u001b[31m.\u001b[39m\u001b[31m8\u001b[39m   1.29\u001b[90me\u001b[39m\u001b[31m- 37\u001b[39m\n",
      "\u001b[90m28\u001b[39m Computer_Science                       -\u001b[31m0\u001b[39m\u001b[31m.\u001b[39m\u001b[31m0\u001b[39m\u001b[31m72\u001b[4m8\u001b[24m\u001b[39m   0.041\u001b[4m3\u001b[24m      -\u001b[31m1\u001b[39m\u001b[31m.\u001b[39m\u001b[31m76\u001b[39m  7.79\u001b[90me\u001b[39m\u001b[31m-  2\u001b[39m\n",
      "\u001b[90m29\u001b[39m Decision_Sciences                      -\u001b[31m0\u001b[39m\u001b[31m.\u001b[39m\u001b[31m519\u001b[39m    0.095\u001b[4m6\u001b[24m      -\u001b[31m5\u001b[39m\u001b[31m.\u001b[39m\u001b[31m42\u001b[39m  5.80\u001b[90me\u001b[39m\u001b[31m-  8\u001b[39m\n",
      "\u001b[90m30\u001b[39m Health_Professions                      0.578    0.044\u001b[4m9\u001b[24m      12.9   6.02\u001b[90me\u001b[39m\u001b[31m- 38\u001b[39m\n",
      "\u001b[90m31\u001b[39m Psychology                              0.035\u001b[4m0\u001b[24m   0.041\u001b[4m7\u001b[24m       0.839 4.01\u001b[90me\u001b[39m\u001b[31m-  1\u001b[39m\n",
      "\u001b[90m32\u001b[39m Immunology_and_Microbiology             0.025\u001b[4m6\u001b[24m   0.035\u001b[4m4\u001b[24m       0.723 4.69\u001b[90me\u001b[39m\u001b[31m-  1\u001b[39m\n",
      "\u001b[90m33\u001b[39m Dentistry                              -\u001b[31m0\u001b[39m\u001b[31m.\u001b[39m\u001b[31m679\u001b[39m    0.197       -\u001b[31m3\u001b[39m\u001b[31m.\u001b[39m\u001b[31m45\u001b[39m  5.64\u001b[90me\u001b[39m\u001b[31m-  4\u001b[39m\n",
      "\u001b[90m34\u001b[39m Earth_and_Planetary_Sciences           -\u001b[31m0\u001b[39m\u001b[31m.\u001b[39m\u001b[31m380\u001b[39m    0.038\u001b[4m2\u001b[24m      -\u001b[31m9\u001b[39m\u001b[31m.\u001b[39m\u001b[31m94\u001b[39m  2.71\u001b[90me\u001b[39m\u001b[31m- 23\u001b[39m\n",
      "\u001b[90m35\u001b[39m Environmental_Science                  -\u001b[31m0\u001b[39m\u001b[31m.\u001b[39m\u001b[31m0\u001b[39m\u001b[31m89\u001b[4m3\u001b[24m\u001b[39m   0.029\u001b[4m3\u001b[24m      -\u001b[31m3\u001b[39m\u001b[31m.\u001b[39m\u001b[31m0\u001b[39m\u001b[31m4\u001b[39m  2.34\u001b[90me\u001b[39m\u001b[31m-  3\u001b[39m\n",
      "\u001b[90m36\u001b[39m Mathematics                             0.432    0.057\u001b[4m7\u001b[24m       7.49  7.03\u001b[90me\u001b[39m\u001b[31m- 14\u001b[39m\n",
      "\u001b[90m37\u001b[39m Arts_and_Humanities                    -\u001b[31m0\u001b[39m\u001b[31m.\u001b[39m\u001b[31m360\u001b[39m    0.077\u001b[4m3\u001b[24m      -\u001b[31m4\u001b[39m\u001b[31m.\u001b[39m\u001b[31m66\u001b[39m  3.16\u001b[90me\u001b[39m\u001b[31m-  6\u001b[39m\n",
      "\u001b[90m38\u001b[39m Energy                                 -\u001b[31m0\u001b[39m\u001b[31m.\u001b[39m\u001b[31m679\u001b[39m    0.090\u001b[4m3\u001b[24m      -\u001b[31m7\u001b[39m\u001b[31m.\u001b[39m\u001b[31m52\u001b[39m  5.38\u001b[90me\u001b[39m\u001b[31m- 14\u001b[39m\n",
      "\u001b[90m39\u001b[39m Veterinary                             -\u001b[31m0\u001b[39m\u001b[31m.\u001b[39m\u001b[31m426\u001b[39m    0.105       -\u001b[31m4\u001b[39m\u001b[31m.\u001b[39m\u001b[31m0\u001b[39m\u001b[31m7\u001b[39m  4.76\u001b[90me\u001b[39m\u001b[31m-  5\u001b[39m\n",
      "\u001b[90m40\u001b[39m General                                 0.743    0.044\u001b[4m4\u001b[24m      16.7   8.92\u001b[90me\u001b[39m\u001b[31m- 63\u001b[39m\n",
      "\u001b[90m41\u001b[39m genderFemale:self_promotionTrue        -\u001b[31m0\u001b[39m\u001b[31m.\u001b[39m\u001b[31m0\u001b[39m\u001b[31m64\u001b[4m4\u001b[24m\u001b[39m   0.031\u001b[4m2\u001b[24m      -\u001b[31m2\u001b[39m\u001b[31m.\u001b[39m\u001b[31m0\u001b[39m\u001b[31m6\u001b[39m  3.92\u001b[90me\u001b[39m\u001b[31m-  2\u001b[39m\n",
      "\u001b[90m# A tibble: 41 x 5\u001b[39m\n",
      "   term                                   estimate std.error statistic   p.value\n",
      "   \u001b[3m\u001b[90m<chr>\u001b[39m\u001b[23m                                     \u001b[3m\u001b[90m<dbl>\u001b[39m\u001b[23m     \u001b[3m\u001b[90m<dbl>\u001b[39m\u001b[23m     \u001b[3m\u001b[90m<dbl>\u001b[39m\u001b[23m     \u001b[3m\u001b[90m<dbl>\u001b[39m\u001b[23m\n",
      "\u001b[90m 1\u001b[39m (Intercept)                             6.88\u001b[90me\u001b[39m\u001b[31m-1\u001b[39m  0.033\u001b[4m7\u001b[24m     20.4    1.10\u001b[90me\u001b[39m\u001b[31m- 92\u001b[39m\n",
      "\u001b[90m 2\u001b[39m genderFemale                            1.58\u001b[90me\u001b[39m\u001b[31m-1\u001b[39m  0.014\u001b[4m2\u001b[24m     11.2    5.31\u001b[90me\u001b[39m\u001b[31m- 29\u001b[39m\n",
      "\u001b[90m 3\u001b[39m self_promotionTrue                      1.27\u001b[90me\u001b[39m+0  0.012\u001b[4m3\u001b[24m    104.     0   \u001b[90m \u001b[39m    \n",
      "\u001b[90m 4\u001b[39m authorship_posfirst_position            8.07\u001b[90me\u001b[39m\u001b[31m-2\u001b[39m  0.015\u001b[4m7\u001b[24m      5.14   2.70\u001b[90me\u001b[39m\u001b[31m-  7\u001b[39m\n",
      "\u001b[90m 5\u001b[39m authorship_posmiddle_position           2.01\u001b[90me\u001b[39m\u001b[31m-1\u001b[39m  0.012\u001b[4m3\u001b[24m     16.3    4.83\u001b[90me\u001b[39m\u001b[31m- 60\u001b[39m\n",
      "\u001b[90m 6\u001b[39m authorship_possolo_author              -\u001b[31m1\u001b[39m\u001b[31m.\u001b[39m\u001b[31m53\u001b[39m\u001b[90me\u001b[39m\u001b[31m-1\u001b[39m  0.027\u001b[4m5\u001b[24m     -\u001b[31m5\u001b[39m\u001b[31m.\u001b[39m\u001b[31m56\u001b[39m   2.73\u001b[90me\u001b[39m\u001b[31m-  8\u001b[39m\n",
      "\u001b[90m 7\u001b[39m follower_cn_snapshot_log                1.03\u001b[90me\u001b[39m\u001b[31m-1\u001b[39m  0.002\u001b[4m7\u001b[24m\u001b[4m0\u001b[24m    38.3    0   \u001b[90m \u001b[39m    \n",
      "\u001b[90m 8\u001b[39m author_pub_count_cate                  -\u001b[31m9\u001b[39m\u001b[31m.\u001b[39m\u001b[31m12\u001b[39m\u001b[90me\u001b[39m\u001b[31m-2\u001b[39m  0.005\u001b[4m1\u001b[24m\u001b[4m9\u001b[24m   -\u001b[31m17\u001b[39m\u001b[31m.\u001b[39m\u001b[31m6\u001b[39m    5.05\u001b[90me\u001b[39m\u001b[31m- 69\u001b[39m\n",
      "\u001b[90m 9\u001b[39m affiliation_rank_cate                  -\u001b[31m3\u001b[39m\u001b[31m.\u001b[39m\u001b[31m71\u001b[39m\u001b[90me\u001b[39m\u001b[31m-4\u001b[39m  0.001\u001b[4m8\u001b[24m\u001b[4m4\u001b[24m    -\u001b[31m0\u001b[39m\u001b[31m.\u001b[39m\u001b[31m201\u001b[39m  8.41\u001b[90me\u001b[39m\u001b[31m-  1\u001b[39m\n",
      "\u001b[90m10\u001b[39m affiliation_cateinternational          -\u001b[31m9\u001b[39m\u001b[31m.\u001b[39m\u001b[31m75\u001b[39m\u001b[90me\u001b[39m\u001b[31m-3\u001b[39m  0.010\u001b[4m9\u001b[24m     -\u001b[31m0\u001b[39m\u001b[31m.\u001b[39m\u001b[31m894\u001b[39m  3.71\u001b[90me\u001b[39m\u001b[31m-  1\u001b[39m\n",
      "\u001b[90m11\u001b[39m num_authors                             4.89\u001b[90me\u001b[39m\u001b[31m-3\u001b[39m  0.000\u001b[4m1\u001b[24m\u001b[4m4\u001b[24m\u001b[4m2\u001b[24m   34.5    3.01\u001b[90me\u001b[39m\u001b[31m-261\u001b[39m\n",
      "\u001b[90m12\u001b[39m journal_impact                          5.56\u001b[90me\u001b[39m\u001b[31m-2\u001b[39m  0.000\u001b[4m7\u001b[24m\u001b[4m1\u001b[24m\u001b[4m7\u001b[24m   77.6    0   \u001b[90m \u001b[39m    \n",
      "\u001b[90m13\u001b[39m author_citation_log                     4.32\u001b[90me\u001b[39m\u001b[31m-2\u001b[39m  0.003\u001b[4m0\u001b[24m\u001b[4m8\u001b[24m    14.0    1.21\u001b[90me\u001b[39m\u001b[31m- 44\u001b[39m\n",
      "\u001b[90m14\u001b[39m Social_Sciences                        -\u001b[31m4\u001b[39m\u001b[31m.\u001b[39m\u001b[31m40\u001b[39m\u001b[90me\u001b[39m\u001b[31m-2\u001b[39m  0.021\u001b[4m5\u001b[24m     -\u001b[31m2\u001b[39m\u001b[31m.\u001b[39m\u001b[31m0\u001b[39m\u001b[31m5\u001b[39m   4.03\u001b[90me\u001b[39m\u001b[31m-  2\u001b[39m\n",
      "\u001b[90m15\u001b[39m Materials_Science                      -\u001b[31m2\u001b[39m\u001b[31m.\u001b[39m\u001b[31m12\u001b[39m\u001b[90me\u001b[39m\u001b[31m-1\u001b[39m  0.051\u001b[4m9\u001b[24m     -\u001b[31m4\u001b[39m\u001b[31m.\u001b[39m\u001b[31m0\u001b[39m\u001b[31m8\u001b[39m   4.54\u001b[90me\u001b[39m\u001b[31m-  5\u001b[39m\n",
      "\u001b[90m16\u001b[39m Engineering                            -\u001b[31m6\u001b[39m\u001b[31m.\u001b[39m\u001b[31m49\u001b[39m\u001b[90me\u001b[39m\u001b[31m-1\u001b[39m  0.037\u001b[4m8\u001b[24m    -\u001b[31m17\u001b[39m\u001b[31m.\u001b[39m\u001b[31m2\u001b[39m    4.70\u001b[90me\u001b[39m\u001b[31m- 66\u001b[39m\n",
      "\u001b[90m17\u001b[39m Chemistry                              -\u001b[31m1\u001b[39m\u001b[31m.\u001b[39m\u001b[31m10\u001b[39m\u001b[90me\u001b[39m+0  0.038\u001b[4m8\u001b[24m    -\u001b[31m28\u001b[39m\u001b[31m.\u001b[39m\u001b[31m3\u001b[39m    3.02\u001b[90me\u001b[39m\u001b[31m-176\u001b[39m\n",
      "\u001b[90m18\u001b[39m Biochemistry__Genetics_and_Molecular_… -\u001b[31m9\u001b[39m\u001b[31m.\u001b[39m\u001b[31m16\u001b[39m\u001b[90me\u001b[39m\u001b[31m-2\u001b[39m  0.013\u001b[4m8\u001b[24m     -\u001b[31m6\u001b[39m\u001b[31m.\u001b[39m\u001b[31m65\u001b[39m   2.96\u001b[90me\u001b[39m\u001b[31m- 11\u001b[39m\n",
      "\u001b[90m19\u001b[39m Medicine                                9.04\u001b[90me\u001b[39m\u001b[31m-3\u001b[39m  0.011\u001b[4m2\u001b[24m      0.808  4.19\u001b[90me\u001b[39m\u001b[31m-  1\u001b[39m\n",
      "\u001b[90m20\u001b[39m Nursing                                 2.48\u001b[90me\u001b[39m\u001b[31m-1\u001b[39m  0.029\u001b[4m7\u001b[24m      8.34   7.58\u001b[90me\u001b[39m\u001b[31m- 17\u001b[39m\n",
      "\u001b[90m21\u001b[39m Agricultural_and_Biological_Sciences    3.44\u001b[90me\u001b[39m\u001b[31m-1\u001b[39m  0.015\u001b[4m3\u001b[24m     22.4    4.10\u001b[90me\u001b[39m\u001b[31m-111\u001b[39m\n",
      "\u001b[90m22\u001b[39m Pharmacology__Toxicology_and_Pharmace… -\u001b[31m4\u001b[39m\u001b[31m.\u001b[39m\u001b[31m0\u001b[39m\u001b[31m4\u001b[39m\u001b[90me\u001b[39m\u001b[31m-1\u001b[39m  0.035\u001b[4m9\u001b[24m    -\u001b[31m11\u001b[39m\u001b[31m.\u001b[39m\u001b[31m3\u001b[39m    2.19\u001b[90me\u001b[39m\u001b[31m- 29\u001b[39m\n",
      "\u001b[90m23\u001b[39m Neuroscience                           -\u001b[31m9\u001b[39m\u001b[31m.\u001b[39m\u001b[31m94\u001b[39m\u001b[90me\u001b[39m\u001b[31m-2\u001b[39m  0.023\u001b[4m1\u001b[24m     -\u001b[31m4\u001b[39m\u001b[31m.\u001b[39m\u001b[31m30\u001b[39m   1.74\u001b[90me\u001b[39m\u001b[31m-  5\u001b[39m\n",
      "\u001b[90m24\u001b[39m Business__Management_and_Accounting    -\u001b[31m5\u001b[39m\u001b[31m.\u001b[39m\u001b[31m48\u001b[39m\u001b[90me\u001b[39m\u001b[31m-1\u001b[39m  0.043\u001b[4m7\u001b[24m    -\u001b[31m12\u001b[39m\u001b[31m.\u001b[39m\u001b[31m5\u001b[39m    5.22\u001b[90me\u001b[39m\u001b[31m- 36\u001b[39m\n",
      "\u001b[90m25\u001b[39m Economics__Econometrics_and_Finance    -\u001b[31m2\u001b[39m\u001b[31m.\u001b[39m\u001b[31m91\u001b[39m\u001b[90me\u001b[39m\u001b[31m-1\u001b[39m  0.048\u001b[4m3\u001b[24m     -\u001b[31m6\u001b[39m\u001b[31m.\u001b[39m\u001b[31m0\u001b[39m\u001b[31m2\u001b[39m   1.74\u001b[90me\u001b[39m\u001b[31m-  9\u001b[39m\n",
      "\u001b[90m26\u001b[39m Chemical_Engineering                    3.68\u001b[90me\u001b[39m\u001b[31m-2\u001b[39m  0.054\u001b[4m6\u001b[24m      0.674  5.00\u001b[90me\u001b[39m\u001b[31m-  1\u001b[39m\n",
      "\u001b[90m27\u001b[39m Physics_and_Astronomy                  -\u001b[31m5\u001b[39m\u001b[31m.\u001b[39m\u001b[31m95\u001b[39m\u001b[90me\u001b[39m\u001b[31m-1\u001b[39m  0.036\u001b[4m6\u001b[24m    -\u001b[31m16\u001b[39m\u001b[31m.\u001b[39m\u001b[31m3\u001b[39m    1.76\u001b[90me\u001b[39m\u001b[31m- 59\u001b[39m\n",
      "\u001b[90m28\u001b[39m Computer_Science                       -\u001b[31m1\u001b[39m\u001b[31m.\u001b[39m\u001b[31m93\u001b[39m\u001b[90me\u001b[39m\u001b[31m-3\u001b[39m  0.032\u001b[4m9\u001b[24m     -\u001b[31m0\u001b[39m\u001b[31m.\u001b[39m\u001b[31m0\u001b[39m\u001b[31m58\u001b[4m7\u001b[24m\u001b[39m 9.53\u001b[90me\u001b[39m\u001b[31m-  1\u001b[39m\n",
      "\u001b[90m29\u001b[39m Decision_Sciences                      -\u001b[31m3\u001b[39m\u001b[31m.\u001b[39m\u001b[31m0\u001b[39m\u001b[31m1\u001b[39m\u001b[90me\u001b[39m\u001b[31m-1\u001b[39m  0.076\u001b[4m6\u001b[24m     -\u001b[31m3\u001b[39m\u001b[31m.\u001b[39m\u001b[31m93\u001b[39m   8.35\u001b[90me\u001b[39m\u001b[31m-  5\u001b[39m\n",
      "\u001b[90m30\u001b[39m Health_Professions                      8.07\u001b[90me\u001b[39m\u001b[31m-1\u001b[39m  0.034\u001b[4m8\u001b[24m     23.2    5.09\u001b[90me\u001b[39m\u001b[31m-119\u001b[39m\n",
      "\u001b[90m31\u001b[39m Psychology                             -\u001b[31m4\u001b[39m\u001b[31m.\u001b[39m\u001b[31m72\u001b[39m\u001b[90me\u001b[39m\u001b[31m-2\u001b[39m  0.030\u001b[4m7\u001b[24m     -\u001b[31m1\u001b[39m\u001b[31m.\u001b[39m\u001b[31m53\u001b[39m   1.25\u001b[90me\u001b[39m\u001b[31m-  1\u001b[39m\n",
      "\u001b[90m32\u001b[39m Immunology_and_Microbiology            -\u001b[31m2\u001b[39m\u001b[31m.\u001b[39m\u001b[31m97\u001b[39m\u001b[90me\u001b[39m\u001b[31m-3\u001b[39m  0.025\u001b[4m1\u001b[24m     -\u001b[31m0\u001b[39m\u001b[31m.\u001b[39m\u001b[31m118\u001b[39m  9.06\u001b[90me\u001b[39m\u001b[31m-  1\u001b[39m\n",
      "\u001b[90m33\u001b[39m Dentistry                              -\u001b[31m8\u001b[39m\u001b[31m.\u001b[39m\u001b[31m78\u001b[39m\u001b[90me\u001b[39m\u001b[31m-1\u001b[39m  0.158      -\u001b[31m5\u001b[39m\u001b[31m.\u001b[39m\u001b[31m56\u001b[39m   2.69\u001b[90me\u001b[39m\u001b[31m-  8\u001b[39m\n",
      "\u001b[90m34\u001b[39m Earth_and_Planetary_Sciences           -\u001b[31m5\u001b[39m\u001b[31m.\u001b[39m\u001b[31m45\u001b[39m\u001b[90me\u001b[39m\u001b[31m-1\u001b[39m  0.028\u001b[4m3\u001b[24m    -\u001b[31m19\u001b[39m\u001b[31m.\u001b[39m\u001b[31m3\u001b[39m    1.05\u001b[90me\u001b[39m\u001b[31m- 82\u001b[39m\n",
      "\u001b[90m35\u001b[39m Environmental_Science                  -\u001b[31m1\u001b[39m\u001b[31m.\u001b[39m\u001b[31m20\u001b[39m\u001b[90me\u001b[39m\u001b[31m-1\u001b[39m  0.021\u001b[4m0\u001b[24m     -\u001b[31m5\u001b[39m\u001b[31m.\u001b[39m\u001b[31m71\u001b[39m   1.15\u001b[90me\u001b[39m\u001b[31m-  8\u001b[39m\n",
      "\u001b[90m36\u001b[39m Mathematics                             1.99\u001b[90me\u001b[39m\u001b[31m-1\u001b[39m  0.044\u001b[4m5\u001b[24m      4.48   7.38\u001b[90me\u001b[39m\u001b[31m-  6\u001b[39m\n",
      "\u001b[90m37\u001b[39m Arts_and_Humanities                    -\u001b[31m4\u001b[39m\u001b[31m.\u001b[39m\u001b[31m42\u001b[39m\u001b[90me\u001b[39m\u001b[31m-1\u001b[39m  0.060\u001b[4m4\u001b[24m     -\u001b[31m7\u001b[39m\u001b[31m.\u001b[39m\u001b[31m31\u001b[39m   2.70\u001b[90me\u001b[39m\u001b[31m- 13\u001b[39m\n",
      "\u001b[90m38\u001b[39m Energy                                  4.19\u001b[90me\u001b[39m\u001b[31m-1\u001b[39m  0.064\u001b[4m2\u001b[24m      6.53   6.77\u001b[90me\u001b[39m\u001b[31m- 11\u001b[39m\n",
      "\u001b[90m39\u001b[39m Veterinary                             -\u001b[31m7\u001b[39m\u001b[31m.\u001b[39m\u001b[31m70\u001b[39m\u001b[90me\u001b[39m\u001b[31m-1\u001b[39m  0.074\u001b[4m6\u001b[24m    -\u001b[31m10\u001b[39m\u001b[31m.\u001b[39m\u001b[31m3\u001b[39m    5.22\u001b[90me\u001b[39m\u001b[31m- 25\u001b[39m\n",
      "\u001b[90m40\u001b[39m General                                 6.92\u001b[90me\u001b[39m\u001b[31m-1\u001b[39m  0.034\u001b[4m2\u001b[24m     20.2    7.44\u001b[90me\u001b[39m\u001b[31m- 91\u001b[39m\n",
      "\u001b[90m41\u001b[39m genderFemale:self_promotionTrue        -\u001b[31m1\u001b[39m\u001b[31m.\u001b[39m\u001b[31m31\u001b[39m\u001b[90me\u001b[39m\u001b[31m-1\u001b[39m  0.022\u001b[4m1\u001b[24m     -\u001b[31m5\u001b[39m\u001b[31m.\u001b[39m\u001b[31m93\u001b[39m   3.03\u001b[90me\u001b[39m\u001b[31m-  9\u001b[39m\n",
      "\u001b[90m# A tibble: 41 x 5\u001b[39m\n",
      "   term                                   estimate std.error statistic   p.value\n",
      "   \u001b[3m\u001b[90m<chr>\u001b[39m\u001b[23m                                     \u001b[3m\u001b[90m<dbl>\u001b[39m\u001b[23m     \u001b[3m\u001b[90m<dbl>\u001b[39m\u001b[23m     \u001b[3m\u001b[90m<dbl>\u001b[39m\u001b[23m     \u001b[3m\u001b[90m<dbl>\u001b[39m\u001b[23m\n",
      "\u001b[90m 1\u001b[39m (Intercept)                             0.830   0.027\u001b[4m7\u001b[24m       30.0   2.81\u001b[90me\u001b[39m\u001b[31m-197\u001b[39m\n",
      "\u001b[90m 2\u001b[39m genderFemale                            0.179   0.011\u001b[4m6\u001b[24m       15.4   1.25\u001b[90me\u001b[39m\u001b[31m- 53\u001b[39m\n",
      "\u001b[90m 3\u001b[39m self_promotionTrue                      1.24    0.010\u001b[4m3\u001b[24m      120.    0   \u001b[90m \u001b[39m    \n",
      "\u001b[90m 4\u001b[39m authorship_posfirst_position            0.112   0.013\u001b[4m2\u001b[24m        8.47  2.48\u001b[90me\u001b[39m\u001b[31m- 17\u001b[39m\n",
      "\u001b[90m 5\u001b[39m authorship_posmiddle_position           0.251   0.010\u001b[4m3\u001b[24m       24.4   1.08\u001b[90me\u001b[39m\u001b[31m-131\u001b[39m\n",
      "\u001b[90m 6\u001b[39m authorship_possolo_author              -\u001b[31m0\u001b[39m\u001b[31m.\u001b[39m\u001b[31m231\u001b[39m   0.024\u001b[4m2\u001b[24m       -\u001b[31m9\u001b[39m\u001b[31m.\u001b[39m\u001b[31m53\u001b[39m  1.51\u001b[90me\u001b[39m\u001b[31m- 21\u001b[39m\n",
      "\u001b[90m 7\u001b[39m follower_cn_snapshot_log                0.101   0.002\u001b[4m2\u001b[24m\u001b[4m5\u001b[24m      44.7   0   \u001b[90m \u001b[39m    \n",
      "\u001b[90m 8\u001b[39m author_pub_count_cate                  -\u001b[31m0\u001b[39m\u001b[31m.\u001b[39m\u001b[31m121\u001b[39m   0.004\u001b[4m3\u001b[24m\u001b[4m5\u001b[24m     -\u001b[31m27\u001b[39m\u001b[31m.\u001b[39m\u001b[31m8\u001b[39m   5.12\u001b[90me\u001b[39m\u001b[31m-170\u001b[39m\n",
      "\u001b[90m 9\u001b[39m affiliation_rank_cate                  -\u001b[31m0\u001b[39m\u001b[31m.\u001b[39m\u001b[31m0\u001b[39m\u001b[31m11\u001b[4m1\u001b[24m\u001b[39m  0.001\u001b[4m5\u001b[24m\u001b[4m4\u001b[24m      -\u001b[31m7\u001b[39m\u001b[31m.\u001b[39m\u001b[31m16\u001b[39m  7.87\u001b[90me\u001b[39m\u001b[31m- 13\u001b[39m\n",
      "\u001b[90m10\u001b[39m affiliation_cateinternational           0.086\u001b[4m5\u001b[24m  0.009\u001b[4m0\u001b[24m\u001b[4m5\u001b[24m       9.55  1.25\u001b[90me\u001b[39m\u001b[31m- 21\u001b[39m\n",
      "\u001b[90m11\u001b[39m num_authors                             0.002\u001b[4m3\u001b[24m\u001b[4m8\u001b[24m 0.000\u001b[4m0\u001b[24m\u001b[4m4\u001b[24m\u001b[4m8\u001b[24m1    49.6   0   \u001b[90m \u001b[39m    \n",
      "\u001b[90m12\u001b[39m journal_impact                          0.059\u001b[4m0\u001b[24m  0.000\u001b[4m5\u001b[24m\u001b[4m7\u001b[24m\u001b[4m3\u001b[24m    103.    0   \u001b[90m \u001b[39m    \n",
      "\u001b[90m13\u001b[39m author_citation_log                     0.061\u001b[4m8\u001b[24m  0.002\u001b[4m5\u001b[24m\u001b[4m6\u001b[24m      24.1   2.57\u001b[90me\u001b[39m\u001b[31m-128\u001b[39m\n",
      "\u001b[90m14\u001b[39m Social_Sciences                        -\u001b[31m0\u001b[39m\u001b[31m.\u001b[39m\u001b[31m169\u001b[39m   0.017\u001b[4m9\u001b[24m       -\u001b[31m9\u001b[39m\u001b[31m.\u001b[39m\u001b[31m41\u001b[39m  5.15\u001b[90me\u001b[39m\u001b[31m- 21\u001b[39m\n",
      "\u001b[90m15\u001b[39m Materials_Science                      -\u001b[31m0\u001b[39m\u001b[31m.\u001b[39m\u001b[31m429\u001b[39m   0.041\u001b[4m3\u001b[24m      -\u001b[31m10\u001b[39m\u001b[31m.\u001b[39m\u001b[31m4\u001b[39m   2.69\u001b[90me\u001b[39m\u001b[31m- 25\u001b[39m\n",
      "\u001b[90m16\u001b[39m Engineering                            -\u001b[31m0\u001b[39m\u001b[31m.\u001b[39m\u001b[31m611\u001b[39m   0.030\u001b[4m8\u001b[24m      -\u001b[31m19\u001b[39m\u001b[31m.\u001b[39m\u001b[31m8\u001b[39m   1.27\u001b[90me\u001b[39m\u001b[31m- 87\u001b[39m\n",
      "\u001b[90m17\u001b[39m Chemistry                              -\u001b[31m0\u001b[39m\u001b[31m.\u001b[39m\u001b[31m841\u001b[39m   0.031\u001b[4m4\u001b[24m      -\u001b[31m26\u001b[39m\u001b[31m.\u001b[39m\u001b[31m8\u001b[39m   2.60\u001b[90me\u001b[39m\u001b[31m-158\u001b[39m\n",
      "\u001b[90m18\u001b[39m Biochemistry__Genetics_and_Molecular_… -\u001b[31m0\u001b[39m\u001b[31m.\u001b[39m\u001b[31m0\u001b[39m\u001b[31m99\u001b[4m3\u001b[24m\u001b[39m  0.011\u001b[4m6\u001b[24m       -\u001b[31m8\u001b[39m\u001b[31m.\u001b[39m\u001b[31m60\u001b[39m  8.16\u001b[90me\u001b[39m\u001b[31m- 18\u001b[39m\n",
      "\u001b[90m19\u001b[39m Medicine                                0.039\u001b[4m9\u001b[24m  0.009\u001b[4m3\u001b[24m\u001b[4m1\u001b[24m       4.29  1.78\u001b[90me\u001b[39m\u001b[31m-  5\u001b[39m\n",
      "\u001b[90m20\u001b[39m Nursing                                 0.282   0.024\u001b[4m7\u001b[24m       11.5   2.21\u001b[90me\u001b[39m\u001b[31m- 30\u001b[39m\n",
      "\u001b[90m21\u001b[39m Agricultural_and_Biological_Sciences    0.314   0.013\u001b[4m2\u001b[24m       23.7   2.76\u001b[90me\u001b[39m\u001b[31m-124\u001b[39m\n",
      "\u001b[90m22\u001b[39m Pharmacology__Toxicology_and_Pharmace… -\u001b[31m0\u001b[39m\u001b[31m.\u001b[39m\u001b[31m464\u001b[39m   0.029\u001b[4m8\u001b[24m      -\u001b[31m15\u001b[39m\u001b[31m.\u001b[39m\u001b[31m6\u001b[39m   1.38\u001b[90me\u001b[39m\u001b[31m- 54\u001b[39m\n",
      "\u001b[90m23\u001b[39m Neuroscience                            0.115   0.019\u001b[4m6\u001b[24m        5.88  4.13\u001b[90me\u001b[39m\u001b[31m-  9\u001b[39m\n",
      "\u001b[90m24\u001b[39m Business__Management_and_Accounting    -\u001b[31m0\u001b[39m\u001b[31m.\u001b[39m\u001b[31m176\u001b[39m   0.036\u001b[4m8\u001b[24m       -\u001b[31m4\u001b[39m\u001b[31m.\u001b[39m\u001b[31m78\u001b[39m  1.78\u001b[90me\u001b[39m\u001b[31m-  6\u001b[39m\n",
      "\u001b[90m25\u001b[39m Economics__Econometrics_and_Finance    -\u001b[31m0\u001b[39m\u001b[31m.\u001b[39m\u001b[31m0\u001b[39m\u001b[31m48\u001b[4m7\u001b[24m\u001b[39m  0.040\u001b[4m0\u001b[24m       -\u001b[31m1\u001b[39m\u001b[31m.\u001b[39m\u001b[31m22\u001b[39m  2.23\u001b[90me\u001b[39m\u001b[31m-  1\u001b[39m\n",
      "\u001b[90m26\u001b[39m Chemical_Engineering                    0.200   0.044\u001b[4m4\u001b[24m        4.51  6.41\u001b[90me\u001b[39m\u001b[31m-  6\u001b[39m\n",
      "\u001b[90m27\u001b[39m Physics_and_Astronomy                  -\u001b[31m0\u001b[39m\u001b[31m.\u001b[39m\u001b[31m453\u001b[39m   0.029\u001b[4m4\u001b[24m      -\u001b[31m15\u001b[39m\u001b[31m.\u001b[39m\u001b[31m4\u001b[39m   1.01\u001b[90me\u001b[39m\u001b[31m- 53\u001b[39m\n",
      "\u001b[90m28\u001b[39m Computer_Science                       -\u001b[31m0\u001b[39m\u001b[31m.\u001b[39m\u001b[31m198\u001b[39m   0.028\u001b[4m1\u001b[24m       -\u001b[31m7\u001b[39m\u001b[31m.\u001b[39m\u001b[31m0\u001b[39m\u001b[31m4\u001b[39m  1.97\u001b[90me\u001b[39m\u001b[31m- 12\u001b[39m\n",
      "\u001b[90m29\u001b[39m Decision_Sciences                      -\u001b[31m0\u001b[39m\u001b[31m.\u001b[39m\u001b[31m478\u001b[39m   0.064\u001b[4m8\u001b[24m       -\u001b[31m7\u001b[39m\u001b[31m.\u001b[39m\u001b[31m38\u001b[39m  1.55\u001b[90me\u001b[39m\u001b[31m- 13\u001b[39m\n",
      "\u001b[90m30\u001b[39m Health_Professions                      0.765   0.028\u001b[4m2\u001b[24m       27.1   3.05\u001b[90me\u001b[39m\u001b[31m-162\u001b[39m\n",
      "\u001b[90m31\u001b[39m Psychology                             -\u001b[31m0\u001b[39m\u001b[31m.\u001b[39m\u001b[31m0\u001b[39m\u001b[31m84\u001b[4m7\u001b[24m\u001b[39m  0.025\u001b[4m9\u001b[24m       -\u001b[31m3\u001b[39m\u001b[31m.\u001b[39m\u001b[31m27\u001b[39m  1.09\u001b[90me\u001b[39m\u001b[31m-  3\u001b[39m\n",
      "\u001b[90m32\u001b[39m Immunology_and_Microbiology            -\u001b[31m0\u001b[39m\u001b[31m.\u001b[39m\u001b[31m0\u001b[39m\u001b[31m25\u001b[4m9\u001b[24m\u001b[39m  0.022\u001b[4m1\u001b[24m       -\u001b[31m1\u001b[39m\u001b[31m.\u001b[39m\u001b[31m17\u001b[39m  2.42\u001b[90me\u001b[39m\u001b[31m-  1\u001b[39m\n",
      "\u001b[90m33\u001b[39m Dentistry                              -\u001b[31m1\u001b[39m\u001b[31m.\u001b[39m\u001b[31m0\u001b[39m\u001b[31m3\u001b[39m    0.128        -\u001b[31m8\u001b[39m\u001b[31m.\u001b[39m\u001b[31m10\u001b[39m  5.68\u001b[90me\u001b[39m\u001b[31m- 16\u001b[39m\n",
      "\u001b[90m34\u001b[39m Earth_and_Planetary_Sciences           -\u001b[31m0\u001b[39m\u001b[31m.\u001b[39m\u001b[31m395\u001b[39m   0.024\u001b[4m2\u001b[24m      -\u001b[31m16\u001b[39m\u001b[31m.\u001b[39m\u001b[31m4\u001b[39m   3.77\u001b[90me\u001b[39m\u001b[31m- 60\u001b[39m\n",
      "\u001b[90m35\u001b[39m Environmental_Science                  -\u001b[31m0\u001b[39m\u001b[31m.\u001b[39m\u001b[31m168\u001b[39m   0.017\u001b[4m4\u001b[24m       -\u001b[31m9\u001b[39m\u001b[31m.\u001b[39m\u001b[31m65\u001b[39m  5.07\u001b[90me\u001b[39m\u001b[31m- 22\u001b[39m\n",
      "\u001b[90m36\u001b[39m Mathematics                             0.215   0.039\u001b[4m5\u001b[24m        5.44  5.33\u001b[90me\u001b[39m\u001b[31m-  8\u001b[39m\n",
      "\u001b[90m37\u001b[39m Arts_and_Humanities                    -\u001b[31m0\u001b[39m\u001b[31m.\u001b[39m\u001b[31m0\u001b[39m\u001b[31m25\u001b[4m2\u001b[24m\u001b[39m  0.050\u001b[4m2\u001b[24m       -\u001b[31m0\u001b[39m\u001b[31m.\u001b[39m\u001b[31m502\u001b[39m 6.15\u001b[90me\u001b[39m\u001b[31m-  1\u001b[39m\n",
      "\u001b[90m38\u001b[39m Energy                                 -\u001b[31m0\u001b[39m\u001b[31m.\u001b[39m\u001b[31m809\u001b[39m   0.054\u001b[4m2\u001b[24m      -\u001b[31m14\u001b[39m\u001b[31m.\u001b[39m\u001b[31m9\u001b[39m   2.15\u001b[90me\u001b[39m\u001b[31m- 50\u001b[39m\n",
      "\u001b[90m39\u001b[39m Veterinary                             -\u001b[31m0\u001b[39m\u001b[31m.\u001b[39m\u001b[31m788\u001b[39m   0.061\u001b[4m8\u001b[24m      -\u001b[31m12\u001b[39m\u001b[31m.\u001b[39m\u001b[31m7\u001b[39m   3.45\u001b[90me\u001b[39m\u001b[31m- 37\u001b[39m\n",
      "\u001b[90m40\u001b[39m General                                 0.477   0.029\u001b[4m8\u001b[24m       16.0   1.35\u001b[90me\u001b[39m\u001b[31m- 57\u001b[39m\n",
      "\u001b[90m41\u001b[39m genderFemale:self_promotionTrue        -\u001b[31m0\u001b[39m\u001b[31m.\u001b[39m\u001b[31m191\u001b[39m   0.018\u001b[4m0\u001b[24m      -\u001b[31m10\u001b[39m\u001b[31m.\u001b[39m\u001b[31m6\u001b[39m   3.38\u001b[90me\u001b[39m\u001b[31m- 26\u001b[39m\n",
      "\u001b[90m# A tibble: 41 x 5\u001b[39m\n",
      "   term                                   estimate std.error statistic   p.value\n",
      "   \u001b[3m\u001b[90m<chr>\u001b[39m\u001b[23m                                     \u001b[3m\u001b[90m<dbl>\u001b[39m\u001b[23m     \u001b[3m\u001b[90m<dbl>\u001b[39m\u001b[23m     \u001b[3m\u001b[90m<dbl>\u001b[39m\u001b[23m     \u001b[3m\u001b[90m<dbl>\u001b[39m\u001b[23m\n",
      "\u001b[90m 1\u001b[39m (Intercept)                             1.19\u001b[90me\u001b[39m+0 0.023\u001b[4m2\u001b[24m       51.3   0   \u001b[90m \u001b[39m    \n",
      "\u001b[90m 2\u001b[39m genderFemale                            1.30\u001b[90me\u001b[39m\u001b[31m-1\u001b[39m 0.010\u001b[4m3\u001b[24m       12.5   4.08\u001b[90me\u001b[39m\u001b[31m- 36\u001b[39m\n",
      "\u001b[90m 3\u001b[39m self_promotionTrue                      1.22\u001b[90me\u001b[39m+0 0.008\u001b[4m9\u001b[24m\u001b[4m4\u001b[24m     136.    0   \u001b[90m \u001b[39m    \n",
      "\u001b[90m 4\u001b[39m authorship_posfirst_position            1.11\u001b[90me\u001b[39m\u001b[31m-1\u001b[39m 0.011\u001b[4m7\u001b[24m        9.53  1.54\u001b[90me\u001b[39m\u001b[31m- 21\u001b[39m\n",
      "\u001b[90m 5\u001b[39m authorship_posmiddle_position           3.46\u001b[90me\u001b[39m\u001b[31m-1\u001b[39m 0.008\u001b[4m9\u001b[24m\u001b[4m8\u001b[24m      38.6   0   \u001b[90m \u001b[39m    \n",
      "\u001b[90m 6\u001b[39m authorship_possolo_author              -\u001b[31m2\u001b[39m\u001b[31m.\u001b[39m\u001b[31m43\u001b[39m\u001b[90me\u001b[39m\u001b[31m-1\u001b[39m 0.022\u001b[4m2\u001b[24m      -\u001b[31m10\u001b[39m\u001b[31m.\u001b[39m\u001b[31m9\u001b[39m   8.04\u001b[90me\u001b[39m\u001b[31m- 28\u001b[39m\n",
      "\u001b[90m 7\u001b[39m follower_cn_snapshot_log                9.03\u001b[90me\u001b[39m\u001b[31m-2\u001b[39m 0.001\u001b[4m9\u001b[24m\u001b[4m0\u001b[24m      47.5   0   \u001b[90m \u001b[39m    \n",
      "\u001b[90m 8\u001b[39m author_pub_count_cate                  -\u001b[31m1\u001b[39m\u001b[31m.\u001b[39m\u001b[31m14\u001b[39m\u001b[90me\u001b[39m\u001b[31m-1\u001b[39m 0.003\u001b[4m7\u001b[24m\u001b[4m4\u001b[24m     -\u001b[31m30\u001b[39m\u001b[31m.\u001b[39m\u001b[31m5\u001b[39m   2.77\u001b[90me\u001b[39m\u001b[31m-204\u001b[39m\n",
      "\u001b[90m 9\u001b[39m affiliation_rank_cate                  -\u001b[31m1\u001b[39m\u001b[31m.\u001b[39m\u001b[31m11\u001b[39m\u001b[90me\u001b[39m\u001b[31m-2\u001b[39m 0.001\u001b[4m3\u001b[24m\u001b[4m4\u001b[24m      -\u001b[31m8\u001b[39m\u001b[31m.\u001b[39m\u001b[31m29\u001b[39m  1.10\u001b[90me\u001b[39m\u001b[31m- 16\u001b[39m\n",
      "\u001b[90m10\u001b[39m affiliation_cateinternational           9.62\u001b[90me\u001b[39m\u001b[31m-2\u001b[39m 0.007\u001b[4m8\u001b[24m\u001b[4m4\u001b[24m      12.3   1.12\u001b[90me\u001b[39m\u001b[31m- 34\u001b[39m\n",
      "\u001b[90m11\u001b[39m num_authors                             3.74\u001b[90me\u001b[39m\u001b[31m-4\u001b[39m 0.000\u001b[4m0\u001b[24m\u001b[4m3\u001b[24m\u001b[4m0\u001b[24m6    12.2   2.22\u001b[90me\u001b[39m\u001b[31m- 34\u001b[39m\n",
      "\u001b[90m12\u001b[39m journal_impact                          7.06\u001b[90me\u001b[39m\u001b[31m-2\u001b[39m 0.000\u001b[4m5\u001b[24m\u001b[4m0\u001b[24m\u001b[4m6\u001b[24m    139.    0   \u001b[90m \u001b[39m    \n",
      "\u001b[90m13\u001b[39m author_citation_log                     5.78\u001b[90me\u001b[39m\u001b[31m-2\u001b[39m 0.002\u001b[4m1\u001b[24m\u001b[4m8\u001b[24m      26.4   4.68\u001b[90me\u001b[39m\u001b[31m-154\u001b[39m\n",
      "\u001b[90m14\u001b[39m Social_Sciences                        -\u001b[31m1\u001b[39m\u001b[31m.\u001b[39m\u001b[31m10\u001b[39m\u001b[90me\u001b[39m\u001b[31m-1\u001b[39m 0.016\u001b[4m1\u001b[24m       -\u001b[31m6\u001b[39m\u001b[31m.\u001b[39m\u001b[31m80\u001b[39m  1.02\u001b[90me\u001b[39m\u001b[31m- 11\u001b[39m\n",
      "\u001b[90m15\u001b[39m Materials_Science                      -\u001b[31m6\u001b[39m\u001b[31m.\u001b[39m\u001b[31m20\u001b[39m\u001b[90me\u001b[39m\u001b[31m-1\u001b[39m 0.033\u001b[4m8\u001b[24m      -\u001b[31m18\u001b[39m\u001b[31m.\u001b[39m\u001b[31m4\u001b[39m   2.91\u001b[90me\u001b[39m\u001b[31m- 75\u001b[39m\n",
      "\u001b[90m16\u001b[39m Engineering                             2.80\u001b[90me\u001b[39m\u001b[31m-2\u001b[39m 0.025\u001b[4m6\u001b[24m        1.09  2.75\u001b[90me\u001b[39m\u001b[31m-  1\u001b[39m\n",
      "\u001b[90m17\u001b[39m Chemistry                              -\u001b[31m9\u001b[39m\u001b[31m.\u001b[39m\u001b[31m73\u001b[39m\u001b[90me\u001b[39m\u001b[31m-1\u001b[39m 0.025\u001b[4m8\u001b[24m      -\u001b[31m37\u001b[39m\u001b[31m.\u001b[39m\u001b[31m8\u001b[39m   0   \u001b[90m \u001b[39m    \n",
      "\u001b[90m18\u001b[39m Biochemistry__Genetics_and_Molecular_… -\u001b[31m2\u001b[39m\u001b[31m.\u001b[39m\u001b[31m42\u001b[39m\u001b[90me\u001b[39m\u001b[31m-1\u001b[39m 0.010\u001b[4m4\u001b[24m      -\u001b[31m23\u001b[39m\u001b[31m.\u001b[39m\u001b[31m2\u001b[39m   1.89\u001b[90me\u001b[39m\u001b[31m-119\u001b[39m\n",
      "\u001b[90m19\u001b[39m Medicine                               -\u001b[31m8\u001b[39m\u001b[31m.\u001b[39m\u001b[31m56\u001b[39m\u001b[90me\u001b[39m\u001b[31m-2\u001b[39m 0.008\u001b[4m1\u001b[24m\u001b[4m1\u001b[24m     -\u001b[31m10\u001b[39m\u001b[31m.\u001b[39m\u001b[31m5\u001b[39m   5.28\u001b[90me\u001b[39m\u001b[31m- 26\u001b[39m\n",
      "\u001b[90m20\u001b[39m Nursing                                 2.67\u001b[90me\u001b[39m\u001b[31m-1\u001b[39m 0.022\u001b[4m1\u001b[24m       12.1   1.11\u001b[90me\u001b[39m\u001b[31m- 33\u001b[39m\n",
      "\u001b[90m21\u001b[39m Agricultural_and_Biological_Sciences    2.95\u001b[90me\u001b[39m\u001b[31m-1\u001b[39m 0.012\u001b[4m1\u001b[24m       24.4   4.71\u001b[90me\u001b[39m\u001b[31m-131\u001b[39m\n",
      "\u001b[90m22\u001b[39m Pharmacology__Toxicology_and_Pharmace… -\u001b[31m4\u001b[39m\u001b[31m.\u001b[39m\u001b[31m56\u001b[39m\u001b[90me\u001b[39m\u001b[31m-1\u001b[39m 0.024\u001b[4m9\u001b[24m      -\u001b[31m18\u001b[39m\u001b[31m.\u001b[39m\u001b[31m3\u001b[39m   4.06\u001b[90me\u001b[39m\u001b[31m- 75\u001b[39m\n",
      "\u001b[90m23\u001b[39m Neuroscience                           -\u001b[31m5\u001b[39m\u001b[31m.\u001b[39m\u001b[31m18\u001b[39m\u001b[90me\u001b[39m\u001b[31m-2\u001b[39m 0.016\u001b[4m9\u001b[24m       -\u001b[31m3\u001b[39m\u001b[31m.\u001b[39m\u001b[31m0\u001b[39m\u001b[31m6\u001b[39m  2.25\u001b[90me\u001b[39m\u001b[31m-  3\u001b[39m\n",
      "\u001b[90m24\u001b[39m Business__Management_and_Accounting    -\u001b[31m4\u001b[39m\u001b[31m.\u001b[39m\u001b[31m00\u001b[39m\u001b[90me\u001b[39m\u001b[31m-1\u001b[39m 0.033\u001b[4m5\u001b[24m      -\u001b[31m12\u001b[39m\u001b[31m.\u001b[39m\u001b[31m0\u001b[39m   6.45\u001b[90me\u001b[39m\u001b[31m- 33\u001b[39m\n",
      "\u001b[90m25\u001b[39m Economics__Econometrics_and_Finance    -\u001b[31m1\u001b[39m\u001b[31m.\u001b[39m\u001b[31m34\u001b[39m\u001b[90me\u001b[39m\u001b[31m-1\u001b[39m 0.036\u001b[4m7\u001b[24m       -\u001b[31m3\u001b[39m\u001b[31m.\u001b[39m\u001b[31m65\u001b[39m  2.60\u001b[90me\u001b[39m\u001b[31m-  4\u001b[39m\n",
      "\u001b[90m26\u001b[39m Chemical_Engineering                   -\u001b[31m2\u001b[39m\u001b[31m.\u001b[39m\u001b[31m30\u001b[39m\u001b[90me\u001b[39m\u001b[31m-1\u001b[39m 0.037\u001b[4m7\u001b[24m       -\u001b[31m6\u001b[39m\u001b[31m.\u001b[39m\u001b[31m10\u001b[39m  1.03\u001b[90me\u001b[39m\u001b[31m-  9\u001b[39m\n",
      "\u001b[90m27\u001b[39m Physics_and_Astronomy                  -\u001b[31m6\u001b[39m\u001b[31m.\u001b[39m\u001b[31m61\u001b[39m\u001b[90me\u001b[39m\u001b[31m-1\u001b[39m 0.027\u001b[4m8\u001b[24m      -\u001b[31m23\u001b[39m\u001b[31m.\u001b[39m\u001b[31m7\u001b[39m   1.23\u001b[90me\u001b[39m\u001b[31m-124\u001b[39m\n",
      "\u001b[90m28\u001b[39m Computer_Science                       -\u001b[31m1\u001b[39m\u001b[31m.\u001b[39m\u001b[31m69\u001b[39m\u001b[90me\u001b[39m\u001b[31m-1\u001b[39m 0.025\u001b[4m7\u001b[24m       -\u001b[31m6\u001b[39m\u001b[31m.\u001b[39m\u001b[31m58\u001b[39m  4.77\u001b[90me\u001b[39m\u001b[31m- 11\u001b[39m\n",
      "\u001b[90m29\u001b[39m Decision_Sciences                      -\u001b[31m3\u001b[39m\u001b[31m.\u001b[39m\u001b[31m59\u001b[39m\u001b[90me\u001b[39m\u001b[31m-1\u001b[39m 0.055\u001b[4m4\u001b[24m       -\u001b[31m6\u001b[39m\u001b[31m.\u001b[39m\u001b[31m47\u001b[39m  9.89\u001b[90me\u001b[39m\u001b[31m- 11\u001b[39m\n",
      "\u001b[90m30\u001b[39m Health_Professions                      6.45\u001b[90me\u001b[39m\u001b[31m-1\u001b[39m 0.024\u001b[4m7\u001b[24m       26.1   7.71\u001b[90me\u001b[39m\u001b[31m-150\u001b[39m\n",
      "\u001b[90m31\u001b[39m Psychology                             -\u001b[31m1\u001b[39m\u001b[31m.\u001b[39m\u001b[31m51\u001b[39m\u001b[90me\u001b[39m\u001b[31m-1\u001b[39m 0.023\u001b[4m1\u001b[24m       -\u001b[31m6\u001b[39m\u001b[31m.\u001b[39m\u001b[31m55\u001b[39m  5.78\u001b[90me\u001b[39m\u001b[31m- 11\u001b[39m\n",
      "\u001b[90m32\u001b[39m Immunology_and_Microbiology             6.64\u001b[90me\u001b[39m\u001b[31m-2\u001b[39m 0.019\u001b[4m2\u001b[24m        3.45  5.60\u001b[90me\u001b[39m\u001b[31m-  4\u001b[39m\n",
      "\u001b[90m33\u001b[39m Dentistry                               3.75\u001b[90me\u001b[39m\u001b[31m-2\u001b[39m 0.090\u001b[4m1\u001b[24m        0.416 6.77\u001b[90me\u001b[39m\u001b[31m-  1\u001b[39m\n",
      "\u001b[90m34\u001b[39m Earth_and_Planetary_Sciences           -\u001b[31m4\u001b[39m\u001b[31m.\u001b[39m\u001b[31m37\u001b[39m\u001b[90me\u001b[39m\u001b[31m-1\u001b[39m 0.021\u001b[4m5\u001b[24m      -\u001b[31m20\u001b[39m\u001b[31m.\u001b[39m\u001b[31m4\u001b[39m   4.19\u001b[90me\u001b[39m\u001b[31m- 92\u001b[39m\n",
      "\u001b[90m35\u001b[39m Environmental_Science                  -\u001b[31m1\u001b[39m\u001b[31m.\u001b[39m\u001b[31m96\u001b[39m\u001b[90me\u001b[39m\u001b[31m-1\u001b[39m 0.015\u001b[4m1\u001b[24m      -\u001b[31m13\u001b[39m\u001b[31m.\u001b[39m\u001b[31m0\u001b[39m   2.28\u001b[90me\u001b[39m\u001b[31m- 38\u001b[39m\n",
      "\u001b[90m36\u001b[39m Mathematics                             9.28\u001b[90me\u001b[39m\u001b[31m-1\u001b[39m 0.034\u001b[4m3\u001b[24m       27.0   4.35\u001b[90me\u001b[39m\u001b[31m-161\u001b[39m\n",
      "\u001b[90m37\u001b[39m Arts_and_Humanities                    -\u001b[31m1\u001b[39m\u001b[31m.\u001b[39m\u001b[31m37\u001b[39m\u001b[90me\u001b[39m\u001b[31m-1\u001b[39m 0.046\u001b[4m0\u001b[24m       -\u001b[31m2\u001b[39m\u001b[31m.\u001b[39m\u001b[31m97\u001b[39m  2.98\u001b[90me\u001b[39m\u001b[31m-  3\u001b[39m\n",
      "\u001b[90m38\u001b[39m Energy                                 -\u001b[31m7\u001b[39m\u001b[31m.\u001b[39m\u001b[31m86\u001b[39m\u001b[90me\u001b[39m\u001b[31m-1\u001b[39m 0.042\u001b[4m9\u001b[24m      -\u001b[31m18\u001b[39m\u001b[31m.\u001b[39m\u001b[31m3\u001b[39m   3.87\u001b[90me\u001b[39m\u001b[31m- 75\u001b[39m\n",
      "\u001b[90m39\u001b[39m Veterinary                             -\u001b[31m4\u001b[39m\u001b[31m.\u001b[39m\u001b[31m99\u001b[39m\u001b[90me\u001b[39m\u001b[31m-1\u001b[39m 0.056\u001b[4m8\u001b[24m       -\u001b[31m8\u001b[39m\u001b[31m.\u001b[39m\u001b[31m79\u001b[39m  1.46\u001b[90me\u001b[39m\u001b[31m- 18\u001b[39m\n",
      "\u001b[90m40\u001b[39m General                                 2.20\u001b[90me\u001b[39m\u001b[31m-1\u001b[39m 0.026\u001b[4m7\u001b[24m        8.25  1.55\u001b[90me\u001b[39m\u001b[31m- 16\u001b[39m\n",
      "\u001b[90m41\u001b[39m genderFemale:self_promotionTrue        -\u001b[31m9\u001b[39m\u001b[31m.\u001b[39m\u001b[31m54\u001b[39m\u001b[90me\u001b[39m\u001b[31m-2\u001b[39m 0.015\u001b[4m3\u001b[24m       -\u001b[31m6\u001b[39m\u001b[31m.\u001b[39m\u001b[31m26\u001b[39m  3.97\u001b[90me\u001b[39m\u001b[31m- 10\u001b[39m\n",
      "\u001b[90m# A tibble: 41 x 5\u001b[39m\n",
      "   term                                   estimate std.error statistic   p.value\n",
      "   \u001b[3m\u001b[90m<chr>\u001b[39m\u001b[23m                                     \u001b[3m\u001b[90m<dbl>\u001b[39m\u001b[23m     \u001b[3m\u001b[90m<dbl>\u001b[39m\u001b[23m     \u001b[3m\u001b[90m<dbl>\u001b[39m\u001b[23m     \u001b[3m\u001b[90m<dbl>\u001b[39m\u001b[23m\n",
      "\u001b[90m 1\u001b[39m (Intercept)                             1.28\u001b[90me\u001b[39m+0 0.019\u001b[4m1\u001b[24m       67.3   0   \u001b[90m \u001b[39m    \n",
      "\u001b[90m 2\u001b[39m genderFemale                            1.10\u001b[90me\u001b[39m\u001b[31m-1\u001b[39m 0.008\u001b[4m8\u001b[24m\u001b[4m5\u001b[24m      12.4   2.22\u001b[90me\u001b[39m\u001b[31m- 35\u001b[39m\n",
      "\u001b[90m 3\u001b[39m self_promotionTrue                      1.14\u001b[90me\u001b[39m+0 0.007\u001b[4m4\u001b[24m\u001b[4m6\u001b[24m     153.    0   \u001b[90m \u001b[39m    \n",
      "\u001b[90m 4\u001b[39m authorship_posfirst_position            1.30\u001b[90me\u001b[39m\u001b[31m-1\u001b[39m 0.009\u001b[4m8\u001b[24m\u001b[4m2\u001b[24m      13.2   7.86\u001b[90me\u001b[39m\u001b[31m- 40\u001b[39m\n",
      "\u001b[90m 5\u001b[39m authorship_posmiddle_position           3.46\u001b[90me\u001b[39m\u001b[31m-1\u001b[39m 0.007\u001b[4m4\u001b[24m\u001b[4m8\u001b[24m      46.3   0   \u001b[90m \u001b[39m    \n",
      "\u001b[90m 6\u001b[39m authorship_possolo_author              -\u001b[31m1\u001b[39m\u001b[31m.\u001b[39m\u001b[31m74\u001b[39m\u001b[90me\u001b[39m\u001b[31m-1\u001b[39m 0.019\u001b[4m6\u001b[24m       -\u001b[31m8\u001b[39m\u001b[31m.\u001b[39m\u001b[31m88\u001b[39m  6.62\u001b[90me\u001b[39m\u001b[31m- 19\u001b[39m\n",
      "\u001b[90m 7\u001b[39m follower_cn_snapshot_log                9.76\u001b[90me\u001b[39m\u001b[31m-2\u001b[39m 0.001\u001b[4m5\u001b[24m\u001b[4m5\u001b[24m      63.1   0   \u001b[90m \u001b[39m    \n",
      "\u001b[90m 8\u001b[39m author_pub_count_cate                  -\u001b[31m1\u001b[39m\u001b[31m.\u001b[39m\u001b[31m0\u001b[39m\u001b[31m5\u001b[39m\u001b[90me\u001b[39m\u001b[31m-1\u001b[39m 0.003\u001b[4m1\u001b[24m\u001b[4m4\u001b[24m     -\u001b[31m33\u001b[39m\u001b[31m.\u001b[39m\u001b[31m5\u001b[39m   1.21\u001b[90me\u001b[39m\u001b[31m-245\u001b[39m\n",
      "\u001b[90m 9\u001b[39m affiliation_rank_cate                  -\u001b[31m1\u001b[39m\u001b[31m.\u001b[39m\u001b[31m55\u001b[39m\u001b[90me\u001b[39m\u001b[31m-2\u001b[39m 0.001\u001b[4m1\u001b[24m\u001b[4m3\u001b[24m     -\u001b[31m13\u001b[39m\u001b[31m.\u001b[39m\u001b[31m8\u001b[39m   2.11\u001b[90me\u001b[39m\u001b[31m- 43\u001b[39m\n",
      "\u001b[90m10\u001b[39m affiliation_cateinternational           8.31\u001b[90me\u001b[39m\u001b[31m-2\u001b[39m 0.006\u001b[4m5\u001b[24m\u001b[4m0\u001b[24m      12.8   1.94\u001b[90me\u001b[39m\u001b[31m- 37\u001b[39m\n",
      "\u001b[90m11\u001b[39m num_authors                             4.82\u001b[90me\u001b[39m\u001b[31m-4\u001b[39m 0.000\u001b[4m0\u001b[24m\u001b[4m2\u001b[24m\u001b[4m2\u001b[24m4    21.5   1.09\u001b[90me\u001b[39m\u001b[31m-102\u001b[39m\n",
      "\u001b[90m12\u001b[39m journal_impact                          6.90\u001b[90me\u001b[39m\u001b[31m-2\u001b[39m 0.000\u001b[4m4\u001b[24m\u001b[4m0\u001b[24m\u001b[4m0\u001b[24m    172.    0   \u001b[90m \u001b[39m    \n",
      "\u001b[90m13\u001b[39m author_citation_log                     5.48\u001b[90me\u001b[39m\u001b[31m-2\u001b[39m 0.001\u001b[4m8\u001b[24m\u001b[4m3\u001b[24m      29.9   4.68\u001b[90me\u001b[39m\u001b[31m-197\u001b[39m\n",
      "\u001b[90m14\u001b[39m Social_Sciences                        -\u001b[31m1\u001b[39m\u001b[31m.\u001b[39m\u001b[31m00\u001b[39m\u001b[90me\u001b[39m\u001b[31m-1\u001b[39m 0.013\u001b[4m5\u001b[24m       -\u001b[31m7\u001b[39m\u001b[31m.\u001b[39m\u001b[31m45\u001b[39m  9.40\u001b[90me\u001b[39m\u001b[31m- 14\u001b[39m\n",
      "\u001b[90m15\u001b[39m Materials_Science                      -\u001b[31m4\u001b[39m\u001b[31m.\u001b[39m\u001b[31m78\u001b[39m\u001b[90me\u001b[39m\u001b[31m-1\u001b[39m 0.024\u001b[4m7\u001b[24m      -\u001b[31m19\u001b[39m\u001b[31m.\u001b[39m\u001b[31m3\u001b[39m   2.08\u001b[90me\u001b[39m\u001b[31m- 83\u001b[39m\n",
      "\u001b[90m16\u001b[39m Engineering                            -\u001b[31m3\u001b[39m\u001b[31m.\u001b[39m\u001b[31m40\u001b[39m\u001b[90me\u001b[39m\u001b[31m-1\u001b[39m 0.020\u001b[4m8\u001b[24m      -\u001b[31m16\u001b[39m\u001b[31m.\u001b[39m\u001b[31m3\u001b[39m   5.15\u001b[90me\u001b[39m\u001b[31m- 60\u001b[39m\n",
      "\u001b[90m17\u001b[39m Chemistry                              -\u001b[31m9\u001b[39m\u001b[31m.\u001b[39m\u001b[31m84\u001b[39m\u001b[90me\u001b[39m\u001b[31m-1\u001b[39m 0.018\u001b[4m0\u001b[24m      -\u001b[31m54\u001b[39m\u001b[31m.\u001b[39m\u001b[31m8\u001b[39m   0   \u001b[90m \u001b[39m    \n",
      "\u001b[90m18\u001b[39m Biochemistry__Genetics_and_Molecular_… -\u001b[31m1\u001b[39m\u001b[31m.\u001b[39m\u001b[31m27\u001b[39m\u001b[90me\u001b[39m\u001b[31m-1\u001b[39m 0.008\u001b[4m6\u001b[24m\u001b[4m3\u001b[24m     -\u001b[31m14\u001b[39m\u001b[31m.\u001b[39m\u001b[31m7\u001b[39m   8.69\u001b[90me\u001b[39m\u001b[31m- 49\u001b[39m\n",
      "\u001b[90m19\u001b[39m Medicine                               -\u001b[31m9\u001b[39m\u001b[31m.\u001b[39m\u001b[31m93\u001b[39m\u001b[90me\u001b[39m\u001b[31m-2\u001b[39m 0.006\u001b[4m8\u001b[24m\u001b[4m7\u001b[24m     -\u001b[31m14\u001b[39m\u001b[31m.\u001b[39m\u001b[31m5\u001b[39m   2.03\u001b[90me\u001b[39m\u001b[31m- 47\u001b[39m\n",
      "\u001b[90m20\u001b[39m Nursing                                 1.57\u001b[90me\u001b[39m\u001b[31m-1\u001b[39m 0.019\u001b[4m2\u001b[24m        8.14  4.04\u001b[90me\u001b[39m\u001b[31m- 16\u001b[39m\n",
      "\u001b[90m21\u001b[39m Agricultural_and_Biological_Sciences    2.25\u001b[90me\u001b[39m\u001b[31m-1\u001b[39m 0.010\u001b[4m6\u001b[24m       21.2   1.70\u001b[90me\u001b[39m\u001b[31m- 99\u001b[39m\n",
      "\u001b[90m22\u001b[39m Pharmacology__Toxicology_and_Pharmace… -\u001b[31m4\u001b[39m\u001b[31m.\u001b[39m\u001b[31m20\u001b[39m\u001b[90me\u001b[39m\u001b[31m-1\u001b[39m 0.021\u001b[4m1\u001b[24m      -\u001b[31m19\u001b[39m\u001b[31m.\u001b[39m\u001b[31m9\u001b[39m   4.91\u001b[90me\u001b[39m\u001b[31m- 88\u001b[39m\n",
      "\u001b[90m23\u001b[39m Neuroscience                            1.31\u001b[90me\u001b[39m\u001b[31m-2\u001b[39m 0.014\u001b[4m2\u001b[24m        0.923 3.56\u001b[90me\u001b[39m\u001b[31m-  1\u001b[39m\n",
      "\u001b[90m24\u001b[39m Business__Management_and_Accounting    -\u001b[31m4\u001b[39m\u001b[31m.\u001b[39m\u001b[31m00\u001b[39m\u001b[90me\u001b[39m\u001b[31m-1\u001b[39m 0.027\u001b[4m3\u001b[24m      -\u001b[31m14\u001b[39m\u001b[31m.\u001b[39m\u001b[31m7\u001b[39m   1.23\u001b[90me\u001b[39m\u001b[31m- 48\u001b[39m\n",
      "\u001b[90m25\u001b[39m Economics__Econometrics_and_Finance    -\u001b[31m1\u001b[39m\u001b[31m.\u001b[39m\u001b[31m12\u001b[39m\u001b[90me\u001b[39m\u001b[31m-1\u001b[39m 0.029\u001b[4m8\u001b[24m       -\u001b[31m3\u001b[39m\u001b[31m.\u001b[39m\u001b[31m77\u001b[39m  1.64\u001b[90me\u001b[39m\u001b[31m-  4\u001b[39m\n",
      "\u001b[90m26\u001b[39m Chemical_Engineering                    1.31\u001b[90me\u001b[39m\u001b[31m-1\u001b[39m 0.027\u001b[4m0\u001b[24m        4.84  1.30\u001b[90me\u001b[39m\u001b[31m-  6\u001b[39m\n",
      "\u001b[90m27\u001b[39m Physics_and_Astronomy                  -\u001b[31m6\u001b[39m\u001b[31m.\u001b[39m\u001b[31m51\u001b[39m\u001b[90me\u001b[39m\u001b[31m-1\u001b[39m 0.021\u001b[4m6\u001b[24m      -\u001b[31m30\u001b[39m\u001b[31m.\u001b[39m\u001b[31m2\u001b[39m   3.47\u001b[90me\u001b[39m\u001b[31m-200\u001b[39m\n",
      "\u001b[90m28\u001b[39m Computer_Science                       -\u001b[31m3\u001b[39m\u001b[31m.\u001b[39m\u001b[31m0\u001b[39m\u001b[31m8\u001b[39m\u001b[90me\u001b[39m\u001b[31m-1\u001b[39m 0.022\u001b[4m0\u001b[24m      -\u001b[31m14\u001b[39m\u001b[31m.\u001b[39m\u001b[31m0\u001b[39m   1.23\u001b[90me\u001b[39m\u001b[31m- 44\u001b[39m\n",
      "\u001b[90m29\u001b[39m Decision_Sciences                      -\u001b[31m3\u001b[39m\u001b[31m.\u001b[39m\u001b[31m75\u001b[39m\u001b[90me\u001b[39m\u001b[31m-1\u001b[39m 0.044\u001b[4m9\u001b[24m       -\u001b[31m8\u001b[39m\u001b[31m.\u001b[39m\u001b[31m35\u001b[39m  6.74\u001b[90me\u001b[39m\u001b[31m- 17\u001b[39m\n",
      "\u001b[90m30\u001b[39m Health_Professions                      6.85\u001b[90me\u001b[39m\u001b[31m-1\u001b[39m 0.021\u001b[4m6\u001b[24m       31.6   8.43\u001b[90me\u001b[39m\u001b[31m-220\u001b[39m\n",
      "\u001b[90m31\u001b[39m Psychology                             -\u001b[31m1\u001b[39m\u001b[31m.\u001b[39m\u001b[31m45\u001b[39m\u001b[90me\u001b[39m\u001b[31m-1\u001b[39m 0.019\u001b[4m3\u001b[24m       -\u001b[31m7\u001b[39m\u001b[31m.\u001b[39m\u001b[31m50\u001b[39m  6.46\u001b[90me\u001b[39m\u001b[31m- 14\u001b[39m\n",
      "\u001b[90m32\u001b[39m Immunology_and_Microbiology            -\u001b[31m2\u001b[39m\u001b[31m.\u001b[39m\u001b[31m43\u001b[39m\u001b[90me\u001b[39m\u001b[31m-2\u001b[39m 0.016\u001b[4m9\u001b[24m       -\u001b[31m1\u001b[39m\u001b[31m.\u001b[39m\u001b[31m44\u001b[39m  1.50\u001b[90me\u001b[39m\u001b[31m-  1\u001b[39m\n",
      "\u001b[90m33\u001b[39m Dentistry                              -\u001b[31m1\u001b[39m\u001b[31m.\u001b[39m\u001b[31m19\u001b[39m\u001b[90me\u001b[39m+0 0.078\u001b[4m6\u001b[24m      -\u001b[31m15\u001b[39m\u001b[31m.\u001b[39m\u001b[31m1\u001b[39m   8.77\u001b[90me\u001b[39m\u001b[31m- 52\u001b[39m\n",
      "\u001b[90m34\u001b[39m Earth_and_Planetary_Sciences           -\u001b[31m3\u001b[39m\u001b[31m.\u001b[39m\u001b[31m58\u001b[39m\u001b[90me\u001b[39m\u001b[31m-1\u001b[39m 0.016\u001b[4m9\u001b[24m      -\u001b[31m21\u001b[39m\u001b[31m.\u001b[39m\u001b[31m2\u001b[39m   1.52\u001b[90me\u001b[39m\u001b[31m- 99\u001b[39m\n",
      "\u001b[90m35\u001b[39m Environmental_Science                  -\u001b[31m1\u001b[39m\u001b[31m.\u001b[39m\u001b[31m12\u001b[39m\u001b[90me\u001b[39m\u001b[31m-1\u001b[39m 0.012\u001b[4m6\u001b[24m       -\u001b[31m8\u001b[39m\u001b[31m.\u001b[39m\u001b[31m94\u001b[39m  4.04\u001b[90me\u001b[39m\u001b[31m- 19\u001b[39m\n",
      "\u001b[90m36\u001b[39m Mathematics                             1.10\u001b[90me\u001b[39m\u001b[31m-1\u001b[39m 0.029\u001b[4m8\u001b[24m        3.67  2.40\u001b[90me\u001b[39m\u001b[31m-  4\u001b[39m\n",
      "\u001b[90m37\u001b[39m Arts_and_Humanities                    -\u001b[31m3\u001b[39m\u001b[31m.\u001b[39m\u001b[31m14\u001b[39m\u001b[90me\u001b[39m\u001b[31m-2\u001b[39m 0.037\u001b[4m7\u001b[24m       -\u001b[31m0\u001b[39m\u001b[31m.\u001b[39m\u001b[31m833\u001b[39m 4.05\u001b[90me\u001b[39m\u001b[31m-  1\u001b[39m\n",
      "\u001b[90m38\u001b[39m Energy                                 -\u001b[31m8\u001b[39m\u001b[31m.\u001b[39m\u001b[31m33\u001b[39m\u001b[90me\u001b[39m\u001b[31m-1\u001b[39m 0.037\u001b[4m2\u001b[24m      -\u001b[31m22\u001b[39m\u001b[31m.\u001b[39m\u001b[31m4\u001b[39m   4.39\u001b[90me\u001b[39m\u001b[31m-111\u001b[39m\n",
      "\u001b[90m39\u001b[39m Veterinary                             -\u001b[31m6\u001b[39m\u001b[31m.\u001b[39m\u001b[31m65\u001b[39m\u001b[90me\u001b[39m\u001b[31m-1\u001b[39m 0.047\u001b[4m1\u001b[24m      -\u001b[31m14\u001b[39m\u001b[31m.\u001b[39m\u001b[31m1\u001b[39m   3.08\u001b[90me\u001b[39m\u001b[31m- 45\u001b[39m\n",
      "\u001b[90m40\u001b[39m General                                 4.67\u001b[90me\u001b[39m\u001b[31m-1\u001b[39m 0.021\u001b[4m7\u001b[24m       21.5   3.06\u001b[90me\u001b[39m\u001b[31m-102\u001b[39m\n",
      "\u001b[90m41\u001b[39m genderFemale:self_promotionTrue        -\u001b[31m6\u001b[39m\u001b[31m.\u001b[39m\u001b[31m56\u001b[39m\u001b[90me\u001b[39m\u001b[31m-2\u001b[39m 0.012\u001b[4m5\u001b[24m       -\u001b[31m5\u001b[39m\u001b[31m.\u001b[39m\u001b[31m24\u001b[39m  1.59\u001b[90me\u001b[39m\u001b[31m-  7\u001b[39m\n"
     ]
    }
   ],
   "source": [
    "for (year in c('2013', '2014', '2015', '2016', '2017', '2018')){\n",
    "    base_str <- \"total_num_tweets ~ 1 + gender * self_promotion + authorship_pos + follower_cn_snapshot_log + \\\n",
    "        author_pub_count_cate + affiliation_rank_cate + affiliation_cate + num_authors + journal_impact + \\\n",
    "        author_citation_log\"\n",
    "    equation <- as.formula(paste(base_str, keywords, sep = \" \"))\n",
    "    m_yes <- glm.nb(equation, data = mydata[(mydata$is_active_on_twitter == \"True\") & (mydata$pub_year == year), ])\n",
    "    print(tidy(m_yes))\n",
    "    MEs = ggemmeans(m_yes, terms=c('self_promotion', 'gender'), typical='median')\n",
    "    write.csv(MEs, paste(data_root, \"gender_return_on_self_promotion_\", year, \"_active_sub.csv\", sep = ''), row.names=FALSE)\n",
    "}"
   ]
  },
  {
   "cell_type": "code",
   "execution_count": null,
   "id": "35025919",
   "metadata": {},
   "outputs": [],
   "source": []
  },
  {
   "cell_type": "markdown",
   "id": "ac2c4f98",
   "metadata": {},
   "source": [
    "## Robustness check 1 (not due to coauthors' self-promotion)"
   ]
  },
  {
   "cell_type": "markdown",
   "id": "5e9d7b4b",
   "metadata": {},
   "source": [
    "### Solo-author papers (active subset)"
   ]
  },
  {
   "cell_type": "code",
   "execution_count": 28,
   "id": "49630a1b",
   "metadata": {},
   "outputs": [],
   "source": [
    "subdata = mydata[mydata$authorship_pos == \"solo_author\", ]"
   ]
  },
  {
   "cell_type": "code",
   "execution_count": 29,
   "id": "87cce1a7",
   "metadata": {
    "scrolled": true
   },
   "outputs": [
    {
     "data": {
      "text/html": [
       "176097"
      ],
      "text/latex": [
       "176097"
      ],
      "text/markdown": [
       "176097"
      ],
      "text/plain": [
       "[1] 176097"
      ]
     },
     "metadata": {},
     "output_type": "display_data"
    }
   ],
   "source": [
    "nrow(subdata)"
   ]
  },
  {
   "cell_type": "code",
   "execution_count": 41,
   "id": "a26a71e7",
   "metadata": {
    "scrolled": false
   },
   "outputs": [
    {
     "data": {
      "text/html": [
       "20216"
      ],
      "text/latex": [
       "20216"
      ],
      "text/markdown": [
       "20216"
      ],
      "text/plain": [
       "[1] 20216"
      ]
     },
     "metadata": {},
     "output_type": "display_data"
    }
   ],
   "source": [
    "nrow(subdata[subdata$is_active_on_twitter == \"True\", ])"
   ]
  },
  {
   "cell_type": "markdown",
   "id": "66ef33ac",
   "metadata": {},
   "source": [
    "One big model"
   ]
  },
  {
   "cell_type": "code",
   "execution_count": 30,
   "id": "697fdaba",
   "metadata": {
    "scrolled": true
   },
   "outputs": [],
   "source": [
    "base_str <- \"total_num_tweets ~ 1 + gender * self_promotion + follower_cn_snapshot_combine_log + \\\n",
    "    author_pub_count_cate + affiliation_rank_cate + affiliation_cate + journal_impact + author_citation_log + pub_year\"\n",
    "equation <- as.formula(paste(base_str, keywords, sep = \" \"))\n",
    "m_yes <- glm.nb(equation, data = subdata[subdata$is_active_on_twitter == \"True\", ])\n"
   ]
  },
  {
   "cell_type": "code",
   "execution_count": 31,
   "id": "56c6d04a",
   "metadata": {
    "scrolled": true
   },
   "outputs": [
    {
     "data": {
      "text/html": [
       "<table class=\"dataframe\">\n",
       "<caption>A tibble: 42 × 5</caption>\n",
       "<thead>\n",
       "\t<tr><th scope=col>term</th><th scope=col>estimate</th><th scope=col>std.error</th><th scope=col>statistic</th><th scope=col>p.value</th></tr>\n",
       "\t<tr><th scope=col>&lt;chr&gt;</th><th scope=col>&lt;dbl&gt;</th><th scope=col>&lt;dbl&gt;</th><th scope=col>&lt;dbl&gt;</th><th scope=col>&lt;dbl&gt;</th></tr>\n",
       "</thead>\n",
       "<tbody>\n",
       "\t<tr><td>(Intercept)                                 </td><td>-0.842860669</td><td>0.073260625</td><td>-11.5049615</td><td> 1.245450e-30</td></tr>\n",
       "\t<tr><td>genderFemale                                </td><td> 0.143961977</td><td>0.032576421</td><td>  4.4192079</td><td> 9.906331e-06</td></tr>\n",
       "\t<tr><td>self_promotionTrue                          </td><td> 1.450545095</td><td>0.023872792</td><td> 60.7614352</td><td> 0.000000e+00</td></tr>\n",
       "\t<tr><td>follower_cn_snapshot_combine_log            </td><td> 0.154236002</td><td>0.004749847</td><td> 32.4717836</td><td>2.668945e-231</td></tr>\n",
       "\t<tr><td>author_pub_count_cate                       </td><td>-0.077241269</td><td>0.009035480</td><td> -8.5486624</td><td> 1.245232e-17</td></tr>\n",
       "\t<tr><td>affiliation_rank_cate                       </td><td>-0.013902025</td><td>0.003198486</td><td> -4.3464390</td><td> 1.383655e-05</td></tr>\n",
       "\t<tr><td>affiliation_cateinternational               </td><td> 0.004329114</td><td>0.019766420</td><td>  0.2190136</td><td> 8.266395e-01</td></tr>\n",
       "\t<tr><td>journal_impact                              </td><td> 0.035265962</td><td>0.001275587</td><td> 27.6468570</td><td>3.044504e-168</td></tr>\n",
       "\t<tr><td>author_citation_log                         </td><td> 0.064260873</td><td>0.005172701</td><td> 12.4230800</td><td> 1.958727e-35</td></tr>\n",
       "\t<tr><td>pub_year2014                                </td><td> 0.211180372</td><td>0.047724704</td><td>  4.4249697</td><td> 9.645581e-06</td></tr>\n",
       "\t<tr><td>pub_year2015                                </td><td> 0.457772769</td><td>0.044923234</td><td> 10.1901116</td><td> 2.195122e-24</td></tr>\n",
       "\t<tr><td>pub_year2016                                </td><td> 0.526332483</td><td>0.043847489</td><td> 12.0037087</td><td> 3.397251e-33</td></tr>\n",
       "\t<tr><td>pub_year2017                                </td><td> 0.790052394</td><td>0.043296179</td><td> 18.2476238</td><td> 2.161068e-74</td></tr>\n",
       "\t<tr><td>pub_year2018                                </td><td> 0.963782365</td><td>0.042705390</td><td> 22.5681668</td><td>8.906249e-113</td></tr>\n",
       "\t<tr><td>Social_Sciences                             </td><td>-0.038774377</td><td>0.023422881</td><td> -1.6554060</td><td> 9.784217e-02</td></tr>\n",
       "\t<tr><td>Materials_Science                           </td><td>-0.754271373</td><td>0.143903229</td><td> -5.2415180</td><td> 1.592609e-07</td></tr>\n",
       "\t<tr><td>Engineering                                 </td><td>-0.273040239</td><td>0.071473083</td><td> -3.8201827</td><td> 1.333528e-04</td></tr>\n",
       "\t<tr><td>Chemistry                                   </td><td>-0.868343627</td><td>0.112895118</td><td> -7.6915959</td><td> 1.453110e-14</td></tr>\n",
       "\t<tr><td>Biochemistry__Genetics_and_Molecular_Biology</td><td> 0.071529266</td><td>0.037822885</td><td>  1.8911636</td><td> 5.860250e-02</td></tr>\n",
       "\t<tr><td>Medicine                                    </td><td>-0.028104673</td><td>0.025704129</td><td> -1.0933914</td><td> 2.742220e-01</td></tr>\n",
       "\t<tr><td>Nursing                                     </td><td> 0.194529207</td><td>0.064754960</td><td>  3.0040820</td><td> 2.663836e-03</td></tr>\n",
       "\t<tr><td>Agricultural_and_Biological_Sciences        </td><td> 0.249626436</td><td>0.039212063</td><td>  6.3660622</td><td> 1.939428e-10</td></tr>\n",
       "\t<tr><td>Pharmacology__Toxicology_and_Pharmaceutics  </td><td> 0.187686919</td><td>0.103371647</td><td>  1.8156518</td><td> 6.942380e-02</td></tr>\n",
       "\t<tr><td>Neuroscience                                </td><td> 0.311114360</td><td>0.062358904</td><td>  4.9890929</td><td> 6.066349e-07</td></tr>\n",
       "\t<tr><td>Business__Management_and_Accounting         </td><td>-0.173800116</td><td>0.049420984</td><td> -3.5167272</td><td> 4.369026e-04</td></tr>\n",
       "\t<tr><td>Economics__Econometrics_and_Finance         </td><td> 0.165727365</td><td>0.047390871</td><td>  3.4970315</td><td> 4.704663e-04</td></tr>\n",
       "\t<tr><td>Chemical_Engineering                        </td><td> 1.121446258</td><td>0.145088641</td><td>  7.7293870</td><td> 1.080657e-14</td></tr>\n",
       "\t<tr><td>Physics_and_Astronomy                       </td><td>-0.102745112</td><td>0.082926475</td><td> -1.2389905</td><td> 2.153490e-01</td></tr>\n",
       "\t<tr><td>Computer_Science                            </td><td> 0.400107328</td><td>0.052789658</td><td>  7.5792749</td><td> 3.474915e-14</td></tr>\n",
       "\t<tr><td>Decision_Sciences                           </td><td>-0.353294849</td><td>0.125557847</td><td> -2.8138014</td><td> 4.895946e-03</td></tr>\n",
       "\t<tr><td>Health_Professions                          </td><td> 1.102865700</td><td>0.090378433</td><td> 12.2027530</td><td> 3.004896e-34</td></tr>\n",
       "\t<tr><td>Psychology                                  </td><td> 0.138816033</td><td>0.045767002</td><td>  3.0331030</td><td> 2.420529e-03</td></tr>\n",
       "\t<tr><td>Immunology_and_Microbiology                 </td><td> 0.330365592</td><td>0.072837970</td><td>  4.5356233</td><td> 5.743362e-06</td></tr>\n",
       "\t<tr><td>Dentistry                                   </td><td>-0.472957802</td><td>0.417169053</td><td> -1.1337318</td><td> 2.569071e-01</td></tr>\n",
       "\t<tr><td>Earth_and_Planetary_Sciences                </td><td>-0.069722872</td><td>0.059928900</td><td> -1.1634265</td><td> 2.446565e-01</td></tr>\n",
       "\t<tr><td>Environmental_Science                       </td><td>-0.031013903</td><td>0.044350199</td><td> -0.6992957</td><td> 4.843673e-01</td></tr>\n",
       "\t<tr><td>Mathematics                                 </td><td> 0.003322238</td><td>0.081132097</td><td>  0.0409485</td><td> 9.673370e-01</td></tr>\n",
       "\t<tr><td>Arts_and_Humanities                         </td><td>-0.317633024</td><td>0.038088421</td><td> -8.3393592</td><td> 7.469422e-17</td></tr>\n",
       "\t<tr><td>Energy                                      </td><td>-0.413116021</td><td>0.119929390</td><td> -3.4446604</td><td> 5.717773e-04</td></tr>\n",
       "\t<tr><td>Veterinary                                  </td><td>-0.337233800</td><td>0.248568759</td><td> -1.3567023</td><td> 1.748758e-01</td></tr>\n",
       "\t<tr><td>General                                     </td><td> 0.343065437</td><td>0.070625262</td><td>  4.8575457</td><td> 1.188497e-06</td></tr>\n",
       "\t<tr><td>genderFemale:self_promotionTrue             </td><td>-0.053226845</td><td>0.039749455</td><td> -1.3390585</td><td> 1.805516e-01</td></tr>\n",
       "</tbody>\n",
       "</table>\n"
      ],
      "text/latex": [
       "A tibble: 42 × 5\n",
       "\\begin{tabular}{lllll}\n",
       " term & estimate & std.error & statistic & p.value\\\\\n",
       " <chr> & <dbl> & <dbl> & <dbl> & <dbl>\\\\\n",
       "\\hline\n",
       "\t (Intercept)                                  & -0.842860669 & 0.073260625 & -11.5049615 &  1.245450e-30\\\\\n",
       "\t genderFemale                                 &  0.143961977 & 0.032576421 &   4.4192079 &  9.906331e-06\\\\\n",
       "\t self\\_promotionTrue                           &  1.450545095 & 0.023872792 &  60.7614352 &  0.000000e+00\\\\\n",
       "\t follower\\_cn\\_snapshot\\_combine\\_log             &  0.154236002 & 0.004749847 &  32.4717836 & 2.668945e-231\\\\\n",
       "\t author\\_pub\\_count\\_cate                        & -0.077241269 & 0.009035480 &  -8.5486624 &  1.245232e-17\\\\\n",
       "\t affiliation\\_rank\\_cate                        & -0.013902025 & 0.003198486 &  -4.3464390 &  1.383655e-05\\\\\n",
       "\t affiliation\\_cateinternational                &  0.004329114 & 0.019766420 &   0.2190136 &  8.266395e-01\\\\\n",
       "\t journal\\_impact                               &  0.035265962 & 0.001275587 &  27.6468570 & 3.044504e-168\\\\\n",
       "\t author\\_citation\\_log                          &  0.064260873 & 0.005172701 &  12.4230800 &  1.958727e-35\\\\\n",
       "\t pub\\_year2014                                 &  0.211180372 & 0.047724704 &   4.4249697 &  9.645581e-06\\\\\n",
       "\t pub\\_year2015                                 &  0.457772769 & 0.044923234 &  10.1901116 &  2.195122e-24\\\\\n",
       "\t pub\\_year2016                                 &  0.526332483 & 0.043847489 &  12.0037087 &  3.397251e-33\\\\\n",
       "\t pub\\_year2017                                 &  0.790052394 & 0.043296179 &  18.2476238 &  2.161068e-74\\\\\n",
       "\t pub\\_year2018                                 &  0.963782365 & 0.042705390 &  22.5681668 & 8.906249e-113\\\\\n",
       "\t Social\\_Sciences                              & -0.038774377 & 0.023422881 &  -1.6554060 &  9.784217e-02\\\\\n",
       "\t Materials\\_Science                            & -0.754271373 & 0.143903229 &  -5.2415180 &  1.592609e-07\\\\\n",
       "\t Engineering                                  & -0.273040239 & 0.071473083 &  -3.8201827 &  1.333528e-04\\\\\n",
       "\t Chemistry                                    & -0.868343627 & 0.112895118 &  -7.6915959 &  1.453110e-14\\\\\n",
       "\t Biochemistry\\_\\_Genetics\\_and\\_Molecular\\_Biology &  0.071529266 & 0.037822885 &   1.8911636 &  5.860250e-02\\\\\n",
       "\t Medicine                                     & -0.028104673 & 0.025704129 &  -1.0933914 &  2.742220e-01\\\\\n",
       "\t Nursing                                      &  0.194529207 & 0.064754960 &   3.0040820 &  2.663836e-03\\\\\n",
       "\t Agricultural\\_and\\_Biological\\_Sciences         &  0.249626436 & 0.039212063 &   6.3660622 &  1.939428e-10\\\\\n",
       "\t Pharmacology\\_\\_Toxicology\\_and\\_Pharmaceutics   &  0.187686919 & 0.103371647 &   1.8156518 &  6.942380e-02\\\\\n",
       "\t Neuroscience                                 &  0.311114360 & 0.062358904 &   4.9890929 &  6.066349e-07\\\\\n",
       "\t Business\\_\\_Management\\_and\\_Accounting          & -0.173800116 & 0.049420984 &  -3.5167272 &  4.369026e-04\\\\\n",
       "\t Economics\\_\\_Econometrics\\_and\\_Finance          &  0.165727365 & 0.047390871 &   3.4970315 &  4.704663e-04\\\\\n",
       "\t Chemical\\_Engineering                         &  1.121446258 & 0.145088641 &   7.7293870 &  1.080657e-14\\\\\n",
       "\t Physics\\_and\\_Astronomy                        & -0.102745112 & 0.082926475 &  -1.2389905 &  2.153490e-01\\\\\n",
       "\t Computer\\_Science                             &  0.400107328 & 0.052789658 &   7.5792749 &  3.474915e-14\\\\\n",
       "\t Decision\\_Sciences                            & -0.353294849 & 0.125557847 &  -2.8138014 &  4.895946e-03\\\\\n",
       "\t Health\\_Professions                           &  1.102865700 & 0.090378433 &  12.2027530 &  3.004896e-34\\\\\n",
       "\t Psychology                                   &  0.138816033 & 0.045767002 &   3.0331030 &  2.420529e-03\\\\\n",
       "\t Immunology\\_and\\_Microbiology                  &  0.330365592 & 0.072837970 &   4.5356233 &  5.743362e-06\\\\\n",
       "\t Dentistry                                    & -0.472957802 & 0.417169053 &  -1.1337318 &  2.569071e-01\\\\\n",
       "\t Earth\\_and\\_Planetary\\_Sciences                 & -0.069722872 & 0.059928900 &  -1.1634265 &  2.446565e-01\\\\\n",
       "\t Environmental\\_Science                        & -0.031013903 & 0.044350199 &  -0.6992957 &  4.843673e-01\\\\\n",
       "\t Mathematics                                  &  0.003322238 & 0.081132097 &   0.0409485 &  9.673370e-01\\\\\n",
       "\t Arts\\_and\\_Humanities                          & -0.317633024 & 0.038088421 &  -8.3393592 &  7.469422e-17\\\\\n",
       "\t Energy                                       & -0.413116021 & 0.119929390 &  -3.4446604 &  5.717773e-04\\\\\n",
       "\t Veterinary                                   & -0.337233800 & 0.248568759 &  -1.3567023 &  1.748758e-01\\\\\n",
       "\t General                                      &  0.343065437 & 0.070625262 &   4.8575457 &  1.188497e-06\\\\\n",
       "\t genderFemale:self\\_promotionTrue              & -0.053226845 & 0.039749455 &  -1.3390585 &  1.805516e-01\\\\\n",
       "\\end{tabular}\n"
      ],
      "text/markdown": [
       "\n",
       "A tibble: 42 × 5\n",
       "\n",
       "| term &lt;chr&gt; | estimate &lt;dbl&gt; | std.error &lt;dbl&gt; | statistic &lt;dbl&gt; | p.value &lt;dbl&gt; |\n",
       "|---|---|---|---|---|\n",
       "| (Intercept)                                  | -0.842860669 | 0.073260625 | -11.5049615 |  1.245450e-30 |\n",
       "| genderFemale                                 |  0.143961977 | 0.032576421 |   4.4192079 |  9.906331e-06 |\n",
       "| self_promotionTrue                           |  1.450545095 | 0.023872792 |  60.7614352 |  0.000000e+00 |\n",
       "| follower_cn_snapshot_combine_log             |  0.154236002 | 0.004749847 |  32.4717836 | 2.668945e-231 |\n",
       "| author_pub_count_cate                        | -0.077241269 | 0.009035480 |  -8.5486624 |  1.245232e-17 |\n",
       "| affiliation_rank_cate                        | -0.013902025 | 0.003198486 |  -4.3464390 |  1.383655e-05 |\n",
       "| affiliation_cateinternational                |  0.004329114 | 0.019766420 |   0.2190136 |  8.266395e-01 |\n",
       "| journal_impact                               |  0.035265962 | 0.001275587 |  27.6468570 | 3.044504e-168 |\n",
       "| author_citation_log                          |  0.064260873 | 0.005172701 |  12.4230800 |  1.958727e-35 |\n",
       "| pub_year2014                                 |  0.211180372 | 0.047724704 |   4.4249697 |  9.645581e-06 |\n",
       "| pub_year2015                                 |  0.457772769 | 0.044923234 |  10.1901116 |  2.195122e-24 |\n",
       "| pub_year2016                                 |  0.526332483 | 0.043847489 |  12.0037087 |  3.397251e-33 |\n",
       "| pub_year2017                                 |  0.790052394 | 0.043296179 |  18.2476238 |  2.161068e-74 |\n",
       "| pub_year2018                                 |  0.963782365 | 0.042705390 |  22.5681668 | 8.906249e-113 |\n",
       "| Social_Sciences                              | -0.038774377 | 0.023422881 |  -1.6554060 |  9.784217e-02 |\n",
       "| Materials_Science                            | -0.754271373 | 0.143903229 |  -5.2415180 |  1.592609e-07 |\n",
       "| Engineering                                  | -0.273040239 | 0.071473083 |  -3.8201827 |  1.333528e-04 |\n",
       "| Chemistry                                    | -0.868343627 | 0.112895118 |  -7.6915959 |  1.453110e-14 |\n",
       "| Biochemistry__Genetics_and_Molecular_Biology |  0.071529266 | 0.037822885 |   1.8911636 |  5.860250e-02 |\n",
       "| Medicine                                     | -0.028104673 | 0.025704129 |  -1.0933914 |  2.742220e-01 |\n",
       "| Nursing                                      |  0.194529207 | 0.064754960 |   3.0040820 |  2.663836e-03 |\n",
       "| Agricultural_and_Biological_Sciences         |  0.249626436 | 0.039212063 |   6.3660622 |  1.939428e-10 |\n",
       "| Pharmacology__Toxicology_and_Pharmaceutics   |  0.187686919 | 0.103371647 |   1.8156518 |  6.942380e-02 |\n",
       "| Neuroscience                                 |  0.311114360 | 0.062358904 |   4.9890929 |  6.066349e-07 |\n",
       "| Business__Management_and_Accounting          | -0.173800116 | 0.049420984 |  -3.5167272 |  4.369026e-04 |\n",
       "| Economics__Econometrics_and_Finance          |  0.165727365 | 0.047390871 |   3.4970315 |  4.704663e-04 |\n",
       "| Chemical_Engineering                         |  1.121446258 | 0.145088641 |   7.7293870 |  1.080657e-14 |\n",
       "| Physics_and_Astronomy                        | -0.102745112 | 0.082926475 |  -1.2389905 |  2.153490e-01 |\n",
       "| Computer_Science                             |  0.400107328 | 0.052789658 |   7.5792749 |  3.474915e-14 |\n",
       "| Decision_Sciences                            | -0.353294849 | 0.125557847 |  -2.8138014 |  4.895946e-03 |\n",
       "| Health_Professions                           |  1.102865700 | 0.090378433 |  12.2027530 |  3.004896e-34 |\n",
       "| Psychology                                   |  0.138816033 | 0.045767002 |   3.0331030 |  2.420529e-03 |\n",
       "| Immunology_and_Microbiology                  |  0.330365592 | 0.072837970 |   4.5356233 |  5.743362e-06 |\n",
       "| Dentistry                                    | -0.472957802 | 0.417169053 |  -1.1337318 |  2.569071e-01 |\n",
       "| Earth_and_Planetary_Sciences                 | -0.069722872 | 0.059928900 |  -1.1634265 |  2.446565e-01 |\n",
       "| Environmental_Science                        | -0.031013903 | 0.044350199 |  -0.6992957 |  4.843673e-01 |\n",
       "| Mathematics                                  |  0.003322238 | 0.081132097 |   0.0409485 |  9.673370e-01 |\n",
       "| Arts_and_Humanities                          | -0.317633024 | 0.038088421 |  -8.3393592 |  7.469422e-17 |\n",
       "| Energy                                       | -0.413116021 | 0.119929390 |  -3.4446604 |  5.717773e-04 |\n",
       "| Veterinary                                   | -0.337233800 | 0.248568759 |  -1.3567023 |  1.748758e-01 |\n",
       "| General                                      |  0.343065437 | 0.070625262 |   4.8575457 |  1.188497e-06 |\n",
       "| genderFemale:self_promotionTrue              | -0.053226845 | 0.039749455 |  -1.3390585 |  1.805516e-01 |\n",
       "\n"
      ],
      "text/plain": [
       "   term                                         estimate     std.error  \n",
       "1  (Intercept)                                  -0.842860669 0.073260625\n",
       "2  genderFemale                                  0.143961977 0.032576421\n",
       "3  self_promotionTrue                            1.450545095 0.023872792\n",
       "4  follower_cn_snapshot_combine_log              0.154236002 0.004749847\n",
       "5  author_pub_count_cate                        -0.077241269 0.009035480\n",
       "6  affiliation_rank_cate                        -0.013902025 0.003198486\n",
       "7  affiliation_cateinternational                 0.004329114 0.019766420\n",
       "8  journal_impact                                0.035265962 0.001275587\n",
       "9  author_citation_log                           0.064260873 0.005172701\n",
       "10 pub_year2014                                  0.211180372 0.047724704\n",
       "11 pub_year2015                                  0.457772769 0.044923234\n",
       "12 pub_year2016                                  0.526332483 0.043847489\n",
       "13 pub_year2017                                  0.790052394 0.043296179\n",
       "14 pub_year2018                                  0.963782365 0.042705390\n",
       "15 Social_Sciences                              -0.038774377 0.023422881\n",
       "16 Materials_Science                            -0.754271373 0.143903229\n",
       "17 Engineering                                  -0.273040239 0.071473083\n",
       "18 Chemistry                                    -0.868343627 0.112895118\n",
       "19 Biochemistry__Genetics_and_Molecular_Biology  0.071529266 0.037822885\n",
       "20 Medicine                                     -0.028104673 0.025704129\n",
       "21 Nursing                                       0.194529207 0.064754960\n",
       "22 Agricultural_and_Biological_Sciences          0.249626436 0.039212063\n",
       "23 Pharmacology__Toxicology_and_Pharmaceutics    0.187686919 0.103371647\n",
       "24 Neuroscience                                  0.311114360 0.062358904\n",
       "25 Business__Management_and_Accounting          -0.173800116 0.049420984\n",
       "26 Economics__Econometrics_and_Finance           0.165727365 0.047390871\n",
       "27 Chemical_Engineering                          1.121446258 0.145088641\n",
       "28 Physics_and_Astronomy                        -0.102745112 0.082926475\n",
       "29 Computer_Science                              0.400107328 0.052789658\n",
       "30 Decision_Sciences                            -0.353294849 0.125557847\n",
       "31 Health_Professions                            1.102865700 0.090378433\n",
       "32 Psychology                                    0.138816033 0.045767002\n",
       "33 Immunology_and_Microbiology                   0.330365592 0.072837970\n",
       "34 Dentistry                                    -0.472957802 0.417169053\n",
       "35 Earth_and_Planetary_Sciences                 -0.069722872 0.059928900\n",
       "36 Environmental_Science                        -0.031013903 0.044350199\n",
       "37 Mathematics                                   0.003322238 0.081132097\n",
       "38 Arts_and_Humanities                          -0.317633024 0.038088421\n",
       "39 Energy                                       -0.413116021 0.119929390\n",
       "40 Veterinary                                   -0.337233800 0.248568759\n",
       "41 General                                       0.343065437 0.070625262\n",
       "42 genderFemale:self_promotionTrue              -0.053226845 0.039749455\n",
       "   statistic   p.value      \n",
       "1  -11.5049615  1.245450e-30\n",
       "2    4.4192079  9.906331e-06\n",
       "3   60.7614352  0.000000e+00\n",
       "4   32.4717836 2.668945e-231\n",
       "5   -8.5486624  1.245232e-17\n",
       "6   -4.3464390  1.383655e-05\n",
       "7    0.2190136  8.266395e-01\n",
       "8   27.6468570 3.044504e-168\n",
       "9   12.4230800  1.958727e-35\n",
       "10   4.4249697  9.645581e-06\n",
       "11  10.1901116  2.195122e-24\n",
       "12  12.0037087  3.397251e-33\n",
       "13  18.2476238  2.161068e-74\n",
       "14  22.5681668 8.906249e-113\n",
       "15  -1.6554060  9.784217e-02\n",
       "16  -5.2415180  1.592609e-07\n",
       "17  -3.8201827  1.333528e-04\n",
       "18  -7.6915959  1.453110e-14\n",
       "19   1.8911636  5.860250e-02\n",
       "20  -1.0933914  2.742220e-01\n",
       "21   3.0040820  2.663836e-03\n",
       "22   6.3660622  1.939428e-10\n",
       "23   1.8156518  6.942380e-02\n",
       "24   4.9890929  6.066349e-07\n",
       "25  -3.5167272  4.369026e-04\n",
       "26   3.4970315  4.704663e-04\n",
       "27   7.7293870  1.080657e-14\n",
       "28  -1.2389905  2.153490e-01\n",
       "29   7.5792749  3.474915e-14\n",
       "30  -2.8138014  4.895946e-03\n",
       "31  12.2027530  3.004896e-34\n",
       "32   3.0331030  2.420529e-03\n",
       "33   4.5356233  5.743362e-06\n",
       "34  -1.1337318  2.569071e-01\n",
       "35  -1.1634265  2.446565e-01\n",
       "36  -0.6992957  4.843673e-01\n",
       "37   0.0409485  9.673370e-01\n",
       "38  -8.3393592  7.469422e-17\n",
       "39  -3.4446604  5.717773e-04\n",
       "40  -1.3567023  1.748758e-01\n",
       "41   4.8575457  1.188497e-06\n",
       "42  -1.3390585  1.805516e-01"
      ]
     },
     "metadata": {},
     "output_type": "display_data"
    }
   ],
   "source": [
    "tidy(m_yes)"
   ]
  },
  {
   "cell_type": "code",
   "execution_count": 32,
   "id": "64bad47e",
   "metadata": {
    "scrolled": true
   },
   "outputs": [
    {
     "name": "stdout",
     "output_type": "stream",
     "text": [
      "\n",
      "% Table created by stargazer v.5.2.3 by Marek Hlavac, Social Policy Institute. E-mail: marek.hlavac at gmail.com\n",
      "% Date and time: Tue, Nov 29, 2022 - 04:35:30 PM\n",
      "\\begin{table}[!htbp] \\centering \n",
      "  \\caption{} \n",
      "  \\label{} \n",
      "\\begin{tabular}{@{\\extracolsep{5pt}}lc} \n",
      "\\\\[-1.8ex]\\hline \n",
      "\\hline \\\\[-1.8ex] \n",
      " & \\multicolumn{1}{c}{\\textit{Dependent variable:}} \\\\ \n",
      "\\cline{2-2} \n",
      "\\\\[-1.8ex] & total\\_num\\_tweets \\\\ \n",
      "\\hline \\\\[-1.8ex] \n",
      " genderFemale & 0.144$^{***}$ \\\\ \n",
      "  & p = 0.00001 \\\\ \n",
      "  self\\_promotionTrue & 1.451$^{***}$ \\\\ \n",
      "  & p = 0.000 \\\\ \n",
      "  follower\\_cn\\_snapshot\\_combine\\_log & 0.154$^{***}$ \\\\ \n",
      "  & p = 0.000 \\\\ \n",
      "  author\\_pub\\_count\\_cate & $-$0.077$^{***}$ \\\\ \n",
      "  & p = 0.000 \\\\ \n",
      "  affiliation\\_rank\\_cate & $-$0.014$^{***}$ \\\\ \n",
      "  & p = 0.00002 \\\\ \n",
      "  affiliation\\_cateinternational & 0.004 \\\\ \n",
      "  & p = 0.827 \\\\ \n",
      "  journal\\_impact & 0.035$^{***}$ \\\\ \n",
      "  & p = 0.000 \\\\ \n",
      "  author\\_citation\\_log & 0.064$^{***}$ \\\\ \n",
      "  & p = 0.000 \\\\ \n",
      "  pub\\_year2014 & 0.211$^{***}$ \\\\ \n",
      "  & p = 0.00001 \\\\ \n",
      "  pub\\_year2015 & 0.458$^{***}$ \\\\ \n",
      "  & p = 0.000 \\\\ \n",
      "  pub\\_year2016 & 0.526$^{***}$ \\\\ \n",
      "  & p = 0.000 \\\\ \n",
      "  pub\\_year2017 & 0.790$^{***}$ \\\\ \n",
      "  & p = 0.000 \\\\ \n",
      "  pub\\_year2018 & 0.964$^{***}$ \\\\ \n",
      "  & p = 0.000 \\\\ \n",
      "  Social\\_Sciences & $-$0.039 \\\\ \n",
      "  & p = 0.098 \\\\ \n",
      "  Materials\\_Science & $-$0.754$^{***}$ \\\\ \n",
      "  & p = 0.00000 \\\\ \n",
      "  Engineering & $-$0.273$^{***}$ \\\\ \n",
      "  & p = 0.0002 \\\\ \n",
      "  Chemistry & $-$0.868$^{***}$ \\\\ \n",
      "  & p = 0.000 \\\\ \n",
      "  Biochemistry\\_\\_Genetics\\_and\\_Molecular\\_Biology & 0.072 \\\\ \n",
      "  & p = 0.059 \\\\ \n",
      "  Medicine & $-$0.028 \\\\ \n",
      "  & p = 0.275 \\\\ \n",
      "  Nursing & 0.195$^{**}$ \\\\ \n",
      "  & p = 0.003 \\\\ \n",
      "  Agricultural\\_and\\_Biological\\_Sciences & 0.250$^{***}$ \\\\ \n",
      "  & p = 0.000 \\\\ \n",
      "  Pharmacology\\_\\_Toxicology\\_and\\_Pharmaceutics & 0.188 \\\\ \n",
      "  & p = 0.070 \\\\ \n",
      "  Neuroscience & 0.311$^{***}$ \\\\ \n",
      "  & p = 0.00000 \\\\ \n",
      "  Business\\_\\_Management\\_and\\_Accounting & $-$0.174$^{***}$ \\\\ \n",
      "  & p = 0.0005 \\\\ \n",
      "  Economics\\_\\_Econometrics\\_and\\_Finance & 0.166$^{***}$ \\\\ \n",
      "  & p = 0.0005 \\\\ \n",
      "  Chemical\\_Engineering & 1.121$^{***}$ \\\\ \n",
      "  & p = 0.000 \\\\ \n",
      "  Physics\\_and\\_Astronomy & $-$0.103 \\\\ \n",
      "  & p = 0.216 \\\\ \n",
      "  Computer\\_Science & 0.400$^{***}$ \\\\ \n",
      "  & p = 0.000 \\\\ \n",
      "  Decision\\_Sciences & $-$0.353$^{**}$ \\\\ \n",
      "  & p = 0.005 \\\\ \n",
      "  Health\\_Professions & 1.103$^{***}$ \\\\ \n",
      "  & p = 0.000 \\\\ \n",
      "  Psychology & 0.139$^{**}$ \\\\ \n",
      "  & p = 0.003 \\\\ \n",
      "  Immunology\\_and\\_Microbiology & 0.330$^{***}$ \\\\ \n",
      "  & p = 0.00001 \\\\ \n",
      "  Dentistry & $-$0.473 \\\\ \n",
      "  & p = 0.257 \\\\ \n",
      "  Earth\\_and\\_Planetary\\_Sciences & $-$0.070 \\\\ \n",
      "  & p = 0.245 \\\\ \n",
      "  Environmental\\_Science & $-$0.031 \\\\ \n",
      "  & p = 0.485 \\\\ \n",
      "  Mathematics & 0.003 \\\\ \n",
      "  & p = 0.968 \\\\ \n",
      "  Arts\\_and\\_Humanities & $-$0.318$^{***}$ \\\\ \n",
      "  & p = 0.000 \\\\ \n",
      "  Energy & $-$0.413$^{***}$ \\\\ \n",
      "  & p = 0.001 \\\\ \n",
      "  Veterinary & $-$0.337 \\\\ \n",
      "  & p = 0.175 \\\\ \n",
      "  General & 0.343$^{***}$ \\\\ \n",
      "  & p = 0.00001 \\\\ \n",
      "  genderFemale:self\\_promotionTrue & $-$0.053 \\\\ \n",
      "  & p = 0.181 \\\\ \n",
      "  Constant & $-$0.843$^{***}$ \\\\ \n",
      "  & p = 0.000 \\\\ \n",
      " \\hline \\\\[-1.8ex] \n",
      "Observations & 20,216 \\\\ \n",
      "Log Likelihood & $-$71,923.590 \\\\ \n",
      "$\\theta$ & 0.673$^{***}$  (0.007) \\\\ \n",
      "Akaike Inf. Crit. & 143,931.200 \\\\ \n",
      "\\hline \n",
      "\\hline \\\\[-1.8ex] \n",
      "\\textit{Note:}  & \\multicolumn{1}{r}{$^{*}$p$<$0.05; $^{**}$p$<$0.01; $^{***}$p$<$0.001} \\\\ \n",
      "\\end{tabular} \n",
      "\\end{table} \n"
     ]
    }
   ],
   "source": [
    "# use this search string in Sublime: \" \\\\\\\\ \\n  &\" with \" &\"\n",
    "stargazer(m_yes, type = \"latex\", single.row=TRUE, ci = FALSE, report = ('vc*p'), star.cutoffs = c(0.05, 0.01, 0.001))"
   ]
  },
  {
   "cell_type": "code",
   "execution_count": null,
   "id": "f30974c8",
   "metadata": {},
   "outputs": [],
   "source": []
  },
  {
   "cell_type": "markdown",
   "id": "a7b4ff33",
   "metadata": {},
   "source": [
    "## Robustness check 2 (different definition of self-promotion)"
   ]
  },
  {
   "cell_type": "markdown",
   "id": "c0979f11",
   "metadata": {},
   "source": [
    "### Active subset"
   ]
  },
  {
   "cell_type": "markdown",
   "id": "27e1f61b",
   "metadata": {},
   "source": [
    "Their matching"
   ]
  },
  {
   "cell_type": "code",
   "execution_count": 37,
   "id": "cbc8d0c9",
   "metadata": {
    "scrolled": true
   },
   "outputs": [],
   "source": [
    "base_str <- \"total_num_tweets ~ 1 + gender * self_promotion_def + authorship_pos + follower_cn_snapshot_combine_log + \\\n",
    "        author_pub_count_cate + affiliation_rank_cate + affiliation_cate + num_authors + journal_impact + \\\n",
    "        author_citation_log + pub_year\"\n",
    "equation <- as.formula(paste(base_str, keywords, sep = \" \"))\n",
    "m_yes <- glm.nb(equation, data = mydata[mydata$is_active_on_twitter == \"True\", ])\n"
   ]
  },
  {
   "cell_type": "code",
   "execution_count": 38,
   "id": "c21f3015",
   "metadata": {
    "scrolled": true
   },
   "outputs": [
    {
     "data": {
      "text/html": [
       "<table class=\"dataframe\">\n",
       "<caption>A tibble: 46 × 5</caption>\n",
       "<thead>\n",
       "\t<tr><th scope=col>term</th><th scope=col>estimate</th><th scope=col>std.error</th><th scope=col>statistic</th><th scope=col>p.value</th></tr>\n",
       "\t<tr><th scope=col>&lt;chr&gt;</th><th scope=col>&lt;dbl&gt;</th><th scope=col>&lt;dbl&gt;</th><th scope=col>&lt;dbl&gt;</th><th scope=col>&lt;dbl&gt;</th></tr>\n",
       "</thead>\n",
       "<tbody>\n",
       "\t<tr><td>(Intercept)                                 </td><td> 0.599030622</td><td>1.542346e-02</td><td> 38.8389345</td><td> 0.000000e+00</td></tr>\n",
       "\t<tr><td>genderFemale                                </td><td> 0.093046541</td><td>4.799430e-03</td><td> 19.3869971</td><td> 9.937172e-84</td></tr>\n",
       "\t<tr><td>self_promotion_defTrue                      </td><td> 0.744199211</td><td>4.879306e-03</td><td>152.5215365</td><td> 0.000000e+00</td></tr>\n",
       "\t<tr><td>authorship_posfirst_position                </td><td> 0.179590733</td><td>5.958296e-03</td><td> 30.1412905</td><td>1.395080e-199</td></tr>\n",
       "\t<tr><td>authorship_posmiddle_position               </td><td> 0.171725548</td><td>4.583121e-03</td><td> 37.4691292</td><td>2.932282e-307</td></tr>\n",
       "\t<tr><td>authorship_possolo_author                   </td><td>-0.099390986</td><td>1.108423e-02</td><td> -8.9668857</td><td> 3.050164e-19</td></tr>\n",
       "\t<tr><td>follower_cn_snapshot_combine_log            </td><td> 0.134726568</td><td>9.485293e-04</td><td>142.0373237</td><td> 0.000000e+00</td></tr>\n",
       "\t<tr><td>author_pub_count_cate                       </td><td>-0.109338019</td><td>1.930348e-03</td><td>-56.6416235</td><td> 0.000000e+00</td></tr>\n",
       "\t<tr><td>affiliation_rank_cate                       </td><td>-0.006754288</td><td>6.900955e-04</td><td> -9.7874679</td><td> 1.274475e-22</td></tr>\n",
       "\t<tr><td>affiliation_cateinternational               </td><td> 0.096719994</td><td>4.031231e-03</td><td> 23.9926704</td><td>3.316538e-127</td></tr>\n",
       "\t<tr><td>num_authors                                 </td><td> 0.001049370</td><td>1.712553e-05</td><td> 61.2751968</td><td> 0.000000e+00</td></tr>\n",
       "\t<tr><td>journal_impact                              </td><td> 0.065728775</td><td>2.559688e-04</td><td>256.7843438</td><td> 0.000000e+00</td></tr>\n",
       "\t<tr><td>author_citation_log                         </td><td> 0.039080808</td><td>1.135760e-03</td><td> 34.4093846</td><td>1.825222e-259</td></tr>\n",
       "\t<tr><td>pub_year2014                                </td><td> 0.211899387</td><td>1.120671e-02</td><td> 18.9082532</td><td> 9.753447e-80</td></tr>\n",
       "\t<tr><td>pub_year2015                                </td><td> 0.351031645</td><td>1.042523e-02</td><td> 33.6713479</td><td>1.518844e-248</td></tr>\n",
       "\t<tr><td>pub_year2016                                </td><td> 0.487344747</td><td>1.006940e-02</td><td> 48.3985859</td><td> 0.000000e+00</td></tr>\n",
       "\t<tr><td>pub_year2017                                </td><td> 0.775702568</td><td>9.878207e-03</td><td> 78.5266601</td><td> 0.000000e+00</td></tr>\n",
       "\t<tr><td>pub_year2018                                </td><td> 0.904023250</td><td>9.741637e-03</td><td> 92.7999309</td><td> 0.000000e+00</td></tr>\n",
       "\t<tr><td>Social_Sciences                             </td><td>-0.096416169</td><td>8.163568e-03</td><td>-11.8105424</td><td> 3.443328e-32</td></tr>\n",
       "\t<tr><td>Materials_Science                           </td><td>-0.490002190</td><td>1.682990e-02</td><td>-29.1149832</td><td>2.319803e-186</td></tr>\n",
       "\t<tr><td>Engineering                                 </td><td>-0.344838540</td><td>1.317246e-02</td><td>-26.1787457</td><td>4.640366e-151</td></tr>\n",
       "\t<tr><td>Chemistry                                   </td><td>-0.989549718</td><td>1.255235e-02</td><td>-78.8338218</td><td> 0.000000e+00</td></tr>\n",
       "\t<tr><td>Biochemistry__Genetics_and_Molecular_Biology</td><td>-0.115906700</td><td>5.243872e-03</td><td>-22.1032678</td><td>2.940011e-108</td></tr>\n",
       "\t<tr><td>Medicine                                    </td><td>-0.102738453</td><td>4.181154e-03</td><td>-24.5717935</td><td>2.530102e-133</td></tr>\n",
       "\t<tr><td>Nursing                                     </td><td> 0.154741892</td><td>1.139665e-02</td><td> 13.5778453</td><td> 5.419748e-42</td></tr>\n",
       "\t<tr><td>Agricultural_and_Biological_Sciences        </td><td> 0.429054556</td><td>6.107761e-03</td><td> 70.2474386</td><td> 0.000000e+00</td></tr>\n",
       "\t<tr><td>Pharmacology__Toxicology_and_Pharmaceutics  </td><td>-0.480035234</td><td>1.309022e-02</td><td>-36.6712779</td><td>2.096310e-294</td></tr>\n",
       "\t<tr><td>Neuroscience                                </td><td>-0.008244831</td><td>8.680110e-03</td><td> -0.9498533</td><td> 3.421868e-01</td></tr>\n",
       "\t<tr><td>Business__Management_and_Accounting         </td><td>-0.389244785</td><td>1.651145e-02</td><td>-23.5742386</td><td>7.084197e-123</td></tr>\n",
       "\t<tr><td>Economics__Econometrics_and_Finance         </td><td>-0.080307086</td><td>1.813708e-02</td><td> -4.4277844</td><td> 9.520598e-06</td></tr>\n",
       "\t<tr><td>Chemical_Engineering                        </td><td> 0.121279438</td><td>1.838143e-02</td><td>  6.5979309</td><td> 4.169354e-11</td></tr>\n",
       "\t<tr><td>Physics_and_Astronomy                       </td><td>-0.612914951</td><td>1.334265e-02</td><td>-45.9365178</td><td> 0.000000e+00</td></tr>\n",
       "\t<tr><td>Computer_Science                            </td><td>-0.147400455</td><td>1.269553e-02</td><td>-11.6104196</td><td> 3.648211e-31</td></tr>\n",
       "\t<tr><td>Decision_Sciences                           </td><td>-0.484739177</td><td>2.770858e-02</td><td>-17.4941880</td><td> 1.586575e-68</td></tr>\n",
       "\t<tr><td>Health_Professions                          </td><td> 0.726386421</td><td>1.296571e-02</td><td> 56.0236592</td><td> 0.000000e+00</td></tr>\n",
       "\t<tr><td>Psychology                                  </td><td>-0.191364202</td><td>1.169639e-02</td><td>-16.3609680</td><td> 3.633070e-60</td></tr>\n",
       "\t<tr><td>Immunology_and_Microbiology                 </td><td>-0.013878163</td><td>9.971693e-03</td><td> -1.3917559</td><td> 1.639963e-01</td></tr>\n",
       "\t<tr><td>Dentistry                                   </td><td>-0.691332442</td><td>5.007116e-02</td><td>-13.8069981</td><td> 2.312697e-43</td></tr>\n",
       "\t<tr><td>Earth_and_Planetary_Sciences                </td><td>-0.483941390</td><td>1.058701e-02</td><td>-45.7108455</td><td> 0.000000e+00</td></tr>\n",
       "\t<tr><td>Environmental_Science                       </td><td>-0.250554411</td><td>7.807026e-03</td><td>-32.0934500</td><td>5.441494e-226</td></tr>\n",
       "\t<tr><td>Mathematics                                 </td><td> 0.557056229</td><td>1.731590e-02</td><td> 32.1702238</td><td>4.606049e-227</td></tr>\n",
       "\t<tr><td>Arts_and_Humanities                         </td><td>-0.147198283</td><td>2.277516e-02</td><td> -6.4631064</td><td> 1.025751e-10</td></tr>\n",
       "\t<tr><td>Energy                                      </td><td>-0.367180390</td><td>2.295982e-02</td><td>-15.9923036</td><td> 1.445841e-57</td></tr>\n",
       "\t<tr><td>Veterinary                                  </td><td>-0.801115503</td><td>2.852378e-02</td><td>-28.0858856</td><td>1.457048e-173</td></tr>\n",
       "\t<tr><td>General                                     </td><td> 0.477921898</td><td>1.327928e-02</td><td> 35.9900358</td><td>1.197741e-283</td></tr>\n",
       "\t<tr><td>genderFemale:self_promotion_defTrue         </td><td>-0.089287573</td><td>8.607948e-03</td><td>-10.3726891</td><td> 3.301023e-25</td></tr>\n",
       "</tbody>\n",
       "</table>\n"
      ],
      "text/latex": [
       "A tibble: 46 × 5\n",
       "\\begin{tabular}{lllll}\n",
       " term & estimate & std.error & statistic & p.value\\\\\n",
       " <chr> & <dbl> & <dbl> & <dbl> & <dbl>\\\\\n",
       "\\hline\n",
       "\t (Intercept)                                  &  0.599030622 & 1.542346e-02 &  38.8389345 &  0.000000e+00\\\\\n",
       "\t genderFemale                                 &  0.093046541 & 4.799430e-03 &  19.3869971 &  9.937172e-84\\\\\n",
       "\t self\\_promotion\\_defTrue                       &  0.744199211 & 4.879306e-03 & 152.5215365 &  0.000000e+00\\\\\n",
       "\t authorship\\_posfirst\\_position                 &  0.179590733 & 5.958296e-03 &  30.1412905 & 1.395080e-199\\\\\n",
       "\t authorship\\_posmiddle\\_position                &  0.171725548 & 4.583121e-03 &  37.4691292 & 2.932282e-307\\\\\n",
       "\t authorship\\_possolo\\_author                    & -0.099390986 & 1.108423e-02 &  -8.9668857 &  3.050164e-19\\\\\n",
       "\t follower\\_cn\\_snapshot\\_combine\\_log             &  0.134726568 & 9.485293e-04 & 142.0373237 &  0.000000e+00\\\\\n",
       "\t author\\_pub\\_count\\_cate                        & -0.109338019 & 1.930348e-03 & -56.6416235 &  0.000000e+00\\\\\n",
       "\t affiliation\\_rank\\_cate                        & -0.006754288 & 6.900955e-04 &  -9.7874679 &  1.274475e-22\\\\\n",
       "\t affiliation\\_cateinternational                &  0.096719994 & 4.031231e-03 &  23.9926704 & 3.316538e-127\\\\\n",
       "\t num\\_authors                                  &  0.001049370 & 1.712553e-05 &  61.2751968 &  0.000000e+00\\\\\n",
       "\t journal\\_impact                               &  0.065728775 & 2.559688e-04 & 256.7843438 &  0.000000e+00\\\\\n",
       "\t author\\_citation\\_log                          &  0.039080808 & 1.135760e-03 &  34.4093846 & 1.825222e-259\\\\\n",
       "\t pub\\_year2014                                 &  0.211899387 & 1.120671e-02 &  18.9082532 &  9.753447e-80\\\\\n",
       "\t pub\\_year2015                                 &  0.351031645 & 1.042523e-02 &  33.6713479 & 1.518844e-248\\\\\n",
       "\t pub\\_year2016                                 &  0.487344747 & 1.006940e-02 &  48.3985859 &  0.000000e+00\\\\\n",
       "\t pub\\_year2017                                 &  0.775702568 & 9.878207e-03 &  78.5266601 &  0.000000e+00\\\\\n",
       "\t pub\\_year2018                                 &  0.904023250 & 9.741637e-03 &  92.7999309 &  0.000000e+00\\\\\n",
       "\t Social\\_Sciences                              & -0.096416169 & 8.163568e-03 & -11.8105424 &  3.443328e-32\\\\\n",
       "\t Materials\\_Science                            & -0.490002190 & 1.682990e-02 & -29.1149832 & 2.319803e-186\\\\\n",
       "\t Engineering                                  & -0.344838540 & 1.317246e-02 & -26.1787457 & 4.640366e-151\\\\\n",
       "\t Chemistry                                    & -0.989549718 & 1.255235e-02 & -78.8338218 &  0.000000e+00\\\\\n",
       "\t Biochemistry\\_\\_Genetics\\_and\\_Molecular\\_Biology & -0.115906700 & 5.243872e-03 & -22.1032678 & 2.940011e-108\\\\\n",
       "\t Medicine                                     & -0.102738453 & 4.181154e-03 & -24.5717935 & 2.530102e-133\\\\\n",
       "\t Nursing                                      &  0.154741892 & 1.139665e-02 &  13.5778453 &  5.419748e-42\\\\\n",
       "\t Agricultural\\_and\\_Biological\\_Sciences         &  0.429054556 & 6.107761e-03 &  70.2474386 &  0.000000e+00\\\\\n",
       "\t Pharmacology\\_\\_Toxicology\\_and\\_Pharmaceutics   & -0.480035234 & 1.309022e-02 & -36.6712779 & 2.096310e-294\\\\\n",
       "\t Neuroscience                                 & -0.008244831 & 8.680110e-03 &  -0.9498533 &  3.421868e-01\\\\\n",
       "\t Business\\_\\_Management\\_and\\_Accounting          & -0.389244785 & 1.651145e-02 & -23.5742386 & 7.084197e-123\\\\\n",
       "\t Economics\\_\\_Econometrics\\_and\\_Finance          & -0.080307086 & 1.813708e-02 &  -4.4277844 &  9.520598e-06\\\\\n",
       "\t Chemical\\_Engineering                         &  0.121279438 & 1.838143e-02 &   6.5979309 &  4.169354e-11\\\\\n",
       "\t Physics\\_and\\_Astronomy                        & -0.612914951 & 1.334265e-02 & -45.9365178 &  0.000000e+00\\\\\n",
       "\t Computer\\_Science                             & -0.147400455 & 1.269553e-02 & -11.6104196 &  3.648211e-31\\\\\n",
       "\t Decision\\_Sciences                            & -0.484739177 & 2.770858e-02 & -17.4941880 &  1.586575e-68\\\\\n",
       "\t Health\\_Professions                           &  0.726386421 & 1.296571e-02 &  56.0236592 &  0.000000e+00\\\\\n",
       "\t Psychology                                   & -0.191364202 & 1.169639e-02 & -16.3609680 &  3.633070e-60\\\\\n",
       "\t Immunology\\_and\\_Microbiology                  & -0.013878163 & 9.971693e-03 &  -1.3917559 &  1.639963e-01\\\\\n",
       "\t Dentistry                                    & -0.691332442 & 5.007116e-02 & -13.8069981 &  2.312697e-43\\\\\n",
       "\t Earth\\_and\\_Planetary\\_Sciences                 & -0.483941390 & 1.058701e-02 & -45.7108455 &  0.000000e+00\\\\\n",
       "\t Environmental\\_Science                        & -0.250554411 & 7.807026e-03 & -32.0934500 & 5.441494e-226\\\\\n",
       "\t Mathematics                                  &  0.557056229 & 1.731590e-02 &  32.1702238 & 4.606049e-227\\\\\n",
       "\t Arts\\_and\\_Humanities                          & -0.147198283 & 2.277516e-02 &  -6.4631064 &  1.025751e-10\\\\\n",
       "\t Energy                                       & -0.367180390 & 2.295982e-02 & -15.9923036 &  1.445841e-57\\\\\n",
       "\t Veterinary                                   & -0.801115503 & 2.852378e-02 & -28.0858856 & 1.457048e-173\\\\\n",
       "\t General                                      &  0.477921898 & 1.327928e-02 &  35.9900358 & 1.197741e-283\\\\\n",
       "\t genderFemale:self\\_promotion\\_defTrue          & -0.089287573 & 8.607948e-03 & -10.3726891 &  3.301023e-25\\\\\n",
       "\\end{tabular}\n"
      ],
      "text/markdown": [
       "\n",
       "A tibble: 46 × 5\n",
       "\n",
       "| term &lt;chr&gt; | estimate &lt;dbl&gt; | std.error &lt;dbl&gt; | statistic &lt;dbl&gt; | p.value &lt;dbl&gt; |\n",
       "|---|---|---|---|---|\n",
       "| (Intercept)                                  |  0.599030622 | 1.542346e-02 |  38.8389345 |  0.000000e+00 |\n",
       "| genderFemale                                 |  0.093046541 | 4.799430e-03 |  19.3869971 |  9.937172e-84 |\n",
       "| self_promotion_defTrue                       |  0.744199211 | 4.879306e-03 | 152.5215365 |  0.000000e+00 |\n",
       "| authorship_posfirst_position                 |  0.179590733 | 5.958296e-03 |  30.1412905 | 1.395080e-199 |\n",
       "| authorship_posmiddle_position                |  0.171725548 | 4.583121e-03 |  37.4691292 | 2.932282e-307 |\n",
       "| authorship_possolo_author                    | -0.099390986 | 1.108423e-02 |  -8.9668857 |  3.050164e-19 |\n",
       "| follower_cn_snapshot_combine_log             |  0.134726568 | 9.485293e-04 | 142.0373237 |  0.000000e+00 |\n",
       "| author_pub_count_cate                        | -0.109338019 | 1.930348e-03 | -56.6416235 |  0.000000e+00 |\n",
       "| affiliation_rank_cate                        | -0.006754288 | 6.900955e-04 |  -9.7874679 |  1.274475e-22 |\n",
       "| affiliation_cateinternational                |  0.096719994 | 4.031231e-03 |  23.9926704 | 3.316538e-127 |\n",
       "| num_authors                                  |  0.001049370 | 1.712553e-05 |  61.2751968 |  0.000000e+00 |\n",
       "| journal_impact                               |  0.065728775 | 2.559688e-04 | 256.7843438 |  0.000000e+00 |\n",
       "| author_citation_log                          |  0.039080808 | 1.135760e-03 |  34.4093846 | 1.825222e-259 |\n",
       "| pub_year2014                                 |  0.211899387 | 1.120671e-02 |  18.9082532 |  9.753447e-80 |\n",
       "| pub_year2015                                 |  0.351031645 | 1.042523e-02 |  33.6713479 | 1.518844e-248 |\n",
       "| pub_year2016                                 |  0.487344747 | 1.006940e-02 |  48.3985859 |  0.000000e+00 |\n",
       "| pub_year2017                                 |  0.775702568 | 9.878207e-03 |  78.5266601 |  0.000000e+00 |\n",
       "| pub_year2018                                 |  0.904023250 | 9.741637e-03 |  92.7999309 |  0.000000e+00 |\n",
       "| Social_Sciences                              | -0.096416169 | 8.163568e-03 | -11.8105424 |  3.443328e-32 |\n",
       "| Materials_Science                            | -0.490002190 | 1.682990e-02 | -29.1149832 | 2.319803e-186 |\n",
       "| Engineering                                  | -0.344838540 | 1.317246e-02 | -26.1787457 | 4.640366e-151 |\n",
       "| Chemistry                                    | -0.989549718 | 1.255235e-02 | -78.8338218 |  0.000000e+00 |\n",
       "| Biochemistry__Genetics_and_Molecular_Biology | -0.115906700 | 5.243872e-03 | -22.1032678 | 2.940011e-108 |\n",
       "| Medicine                                     | -0.102738453 | 4.181154e-03 | -24.5717935 | 2.530102e-133 |\n",
       "| Nursing                                      |  0.154741892 | 1.139665e-02 |  13.5778453 |  5.419748e-42 |\n",
       "| Agricultural_and_Biological_Sciences         |  0.429054556 | 6.107761e-03 |  70.2474386 |  0.000000e+00 |\n",
       "| Pharmacology__Toxicology_and_Pharmaceutics   | -0.480035234 | 1.309022e-02 | -36.6712779 | 2.096310e-294 |\n",
       "| Neuroscience                                 | -0.008244831 | 8.680110e-03 |  -0.9498533 |  3.421868e-01 |\n",
       "| Business__Management_and_Accounting          | -0.389244785 | 1.651145e-02 | -23.5742386 | 7.084197e-123 |\n",
       "| Economics__Econometrics_and_Finance          | -0.080307086 | 1.813708e-02 |  -4.4277844 |  9.520598e-06 |\n",
       "| Chemical_Engineering                         |  0.121279438 | 1.838143e-02 |   6.5979309 |  4.169354e-11 |\n",
       "| Physics_and_Astronomy                        | -0.612914951 | 1.334265e-02 | -45.9365178 |  0.000000e+00 |\n",
       "| Computer_Science                             | -0.147400455 | 1.269553e-02 | -11.6104196 |  3.648211e-31 |\n",
       "| Decision_Sciences                            | -0.484739177 | 2.770858e-02 | -17.4941880 |  1.586575e-68 |\n",
       "| Health_Professions                           |  0.726386421 | 1.296571e-02 |  56.0236592 |  0.000000e+00 |\n",
       "| Psychology                                   | -0.191364202 | 1.169639e-02 | -16.3609680 |  3.633070e-60 |\n",
       "| Immunology_and_Microbiology                  | -0.013878163 | 9.971693e-03 |  -1.3917559 |  1.639963e-01 |\n",
       "| Dentistry                                    | -0.691332442 | 5.007116e-02 | -13.8069981 |  2.312697e-43 |\n",
       "| Earth_and_Planetary_Sciences                 | -0.483941390 | 1.058701e-02 | -45.7108455 |  0.000000e+00 |\n",
       "| Environmental_Science                        | -0.250554411 | 7.807026e-03 | -32.0934500 | 5.441494e-226 |\n",
       "| Mathematics                                  |  0.557056229 | 1.731590e-02 |  32.1702238 | 4.606049e-227 |\n",
       "| Arts_and_Humanities                          | -0.147198283 | 2.277516e-02 |  -6.4631064 |  1.025751e-10 |\n",
       "| Energy                                       | -0.367180390 | 2.295982e-02 | -15.9923036 |  1.445841e-57 |\n",
       "| Veterinary                                   | -0.801115503 | 2.852378e-02 | -28.0858856 | 1.457048e-173 |\n",
       "| General                                      |  0.477921898 | 1.327928e-02 |  35.9900358 | 1.197741e-283 |\n",
       "| genderFemale:self_promotion_defTrue          | -0.089287573 | 8.607948e-03 | -10.3726891 |  3.301023e-25 |\n",
       "\n"
      ],
      "text/plain": [
       "   term                                         estimate     std.error   \n",
       "1  (Intercept)                                   0.599030622 1.542346e-02\n",
       "2  genderFemale                                  0.093046541 4.799430e-03\n",
       "3  self_promotion_defTrue                        0.744199211 4.879306e-03\n",
       "4  authorship_posfirst_position                  0.179590733 5.958296e-03\n",
       "5  authorship_posmiddle_position                 0.171725548 4.583121e-03\n",
       "6  authorship_possolo_author                    -0.099390986 1.108423e-02\n",
       "7  follower_cn_snapshot_combine_log              0.134726568 9.485293e-04\n",
       "8  author_pub_count_cate                        -0.109338019 1.930348e-03\n",
       "9  affiliation_rank_cate                        -0.006754288 6.900955e-04\n",
       "10 affiliation_cateinternational                 0.096719994 4.031231e-03\n",
       "11 num_authors                                   0.001049370 1.712553e-05\n",
       "12 journal_impact                                0.065728775 2.559688e-04\n",
       "13 author_citation_log                           0.039080808 1.135760e-03\n",
       "14 pub_year2014                                  0.211899387 1.120671e-02\n",
       "15 pub_year2015                                  0.351031645 1.042523e-02\n",
       "16 pub_year2016                                  0.487344747 1.006940e-02\n",
       "17 pub_year2017                                  0.775702568 9.878207e-03\n",
       "18 pub_year2018                                  0.904023250 9.741637e-03\n",
       "19 Social_Sciences                              -0.096416169 8.163568e-03\n",
       "20 Materials_Science                            -0.490002190 1.682990e-02\n",
       "21 Engineering                                  -0.344838540 1.317246e-02\n",
       "22 Chemistry                                    -0.989549718 1.255235e-02\n",
       "23 Biochemistry__Genetics_and_Molecular_Biology -0.115906700 5.243872e-03\n",
       "24 Medicine                                     -0.102738453 4.181154e-03\n",
       "25 Nursing                                       0.154741892 1.139665e-02\n",
       "26 Agricultural_and_Biological_Sciences          0.429054556 6.107761e-03\n",
       "27 Pharmacology__Toxicology_and_Pharmaceutics   -0.480035234 1.309022e-02\n",
       "28 Neuroscience                                 -0.008244831 8.680110e-03\n",
       "29 Business__Management_and_Accounting          -0.389244785 1.651145e-02\n",
       "30 Economics__Econometrics_and_Finance          -0.080307086 1.813708e-02\n",
       "31 Chemical_Engineering                          0.121279438 1.838143e-02\n",
       "32 Physics_and_Astronomy                        -0.612914951 1.334265e-02\n",
       "33 Computer_Science                             -0.147400455 1.269553e-02\n",
       "34 Decision_Sciences                            -0.484739177 2.770858e-02\n",
       "35 Health_Professions                            0.726386421 1.296571e-02\n",
       "36 Psychology                                   -0.191364202 1.169639e-02\n",
       "37 Immunology_and_Microbiology                  -0.013878163 9.971693e-03\n",
       "38 Dentistry                                    -0.691332442 5.007116e-02\n",
       "39 Earth_and_Planetary_Sciences                 -0.483941390 1.058701e-02\n",
       "40 Environmental_Science                        -0.250554411 7.807026e-03\n",
       "41 Mathematics                                   0.557056229 1.731590e-02\n",
       "42 Arts_and_Humanities                          -0.147198283 2.277516e-02\n",
       "43 Energy                                       -0.367180390 2.295982e-02\n",
       "44 Veterinary                                   -0.801115503 2.852378e-02\n",
       "45 General                                       0.477921898 1.327928e-02\n",
       "46 genderFemale:self_promotion_defTrue          -0.089287573 8.607948e-03\n",
       "   statistic   p.value      \n",
       "1   38.8389345  0.000000e+00\n",
       "2   19.3869971  9.937172e-84\n",
       "3  152.5215365  0.000000e+00\n",
       "4   30.1412905 1.395080e-199\n",
       "5   37.4691292 2.932282e-307\n",
       "6   -8.9668857  3.050164e-19\n",
       "7  142.0373237  0.000000e+00\n",
       "8  -56.6416235  0.000000e+00\n",
       "9   -9.7874679  1.274475e-22\n",
       "10  23.9926704 3.316538e-127\n",
       "11  61.2751968  0.000000e+00\n",
       "12 256.7843438  0.000000e+00\n",
       "13  34.4093846 1.825222e-259\n",
       "14  18.9082532  9.753447e-80\n",
       "15  33.6713479 1.518844e-248\n",
       "16  48.3985859  0.000000e+00\n",
       "17  78.5266601  0.000000e+00\n",
       "18  92.7999309  0.000000e+00\n",
       "19 -11.8105424  3.443328e-32\n",
       "20 -29.1149832 2.319803e-186\n",
       "21 -26.1787457 4.640366e-151\n",
       "22 -78.8338218  0.000000e+00\n",
       "23 -22.1032678 2.940011e-108\n",
       "24 -24.5717935 2.530102e-133\n",
       "25  13.5778453  5.419748e-42\n",
       "26  70.2474386  0.000000e+00\n",
       "27 -36.6712779 2.096310e-294\n",
       "28  -0.9498533  3.421868e-01\n",
       "29 -23.5742386 7.084197e-123\n",
       "30  -4.4277844  9.520598e-06\n",
       "31   6.5979309  4.169354e-11\n",
       "32 -45.9365178  0.000000e+00\n",
       "33 -11.6104196  3.648211e-31\n",
       "34 -17.4941880  1.586575e-68\n",
       "35  56.0236592  0.000000e+00\n",
       "36 -16.3609680  3.633070e-60\n",
       "37  -1.3917559  1.639963e-01\n",
       "38 -13.8069981  2.312697e-43\n",
       "39 -45.7108455  0.000000e+00\n",
       "40 -32.0934500 5.441494e-226\n",
       "41  32.1702238 4.606049e-227\n",
       "42  -6.4631064  1.025751e-10\n",
       "43 -15.9923036  1.445841e-57\n",
       "44 -28.0858856 1.457048e-173\n",
       "45  35.9900358 1.197741e-283\n",
       "46 -10.3726891  3.301023e-25"
      ]
     },
     "metadata": {},
     "output_type": "display_data"
    }
   ],
   "source": [
    "tidy(m_yes)"
   ]
  },
  {
   "cell_type": "code",
   "execution_count": 39,
   "id": "8a5c99dc",
   "metadata": {
    "scrolled": true
   },
   "outputs": [
    {
     "name": "stdout",
     "output_type": "stream",
     "text": [
      "\n",
      "% Table created by stargazer v.5.2.3 by Marek Hlavac, Social Policy Institute. E-mail: marek.hlavac at gmail.com\n",
      "% Date and time: Tue, Nov 29, 2022 - 04:40:09 PM\n",
      "\\begin{table}[!htbp] \\centering \n",
      "  \\caption{} \n",
      "  \\label{} \n",
      "\\begin{tabular}{@{\\extracolsep{5pt}}lc} \n",
      "\\\\[-1.8ex]\\hline \n",
      "\\hline \\\\[-1.8ex] \n",
      " & \\multicolumn{1}{c}{\\textit{Dependent variable:}} \\\\ \n",
      "\\cline{2-2} \n",
      "\\\\[-1.8ex] & total\\_num\\_tweets \\\\ \n",
      "\\hline \\\\[-1.8ex] \n",
      " genderFemale & 0.093$^{***}$ \\\\ \n",
      "  & p = 0.000 \\\\ \n",
      "  self\\_promotion\\_defTrue & 0.744$^{***}$ \\\\ \n",
      "  & p = 0.000 \\\\ \n",
      "  authorship\\_posfirst\\_position & 0.180$^{***}$ \\\\ \n",
      "  & p = 0.000 \\\\ \n",
      "  authorship\\_posmiddle\\_position & 0.172$^{***}$ \\\\ \n",
      "  & p = 0.000 \\\\ \n",
      "  authorship\\_possolo\\_author & $-$0.099$^{***}$ \\\\ \n",
      "  & p = 0.000 \\\\ \n",
      "  follower\\_cn\\_snapshot\\_combine\\_log & 0.135$^{***}$ \\\\ \n",
      "  & p = 0.000 \\\\ \n",
      "  author\\_pub\\_count\\_cate & $-$0.109$^{***}$ \\\\ \n",
      "  & p = 0.000 \\\\ \n",
      "  affiliation\\_rank\\_cate & $-$0.007$^{***}$ \\\\ \n",
      "  & p = 0.000 \\\\ \n",
      "  affiliation\\_cateinternational & 0.097$^{***}$ \\\\ \n",
      "  & p = 0.000 \\\\ \n",
      "  num\\_authors & 0.001$^{***}$ \\\\ \n",
      "  & p = 0.000 \\\\ \n",
      "  journal\\_impact & 0.066$^{***}$ \\\\ \n",
      "  & p = 0.000 \\\\ \n",
      "  author\\_citation\\_log & 0.039$^{***}$ \\\\ \n",
      "  & p = 0.000 \\\\ \n",
      "  pub\\_year2014 & 0.212$^{***}$ \\\\ \n",
      "  & p = 0.000 \\\\ \n",
      "  pub\\_year2015 & 0.351$^{***}$ \\\\ \n",
      "  & p = 0.000 \\\\ \n",
      "  pub\\_year2016 & 0.487$^{***}$ \\\\ \n",
      "  & p = 0.000 \\\\ \n",
      "  pub\\_year2017 & 0.776$^{***}$ \\\\ \n",
      "  & p = 0.000 \\\\ \n",
      "  pub\\_year2018 & 0.904$^{***}$ \\\\ \n",
      "  & p = 0.000 \\\\ \n",
      "  Social\\_Sciences & $-$0.096$^{***}$ \\\\ \n",
      "  & p = 0.000 \\\\ \n",
      "  Materials\\_Science & $-$0.490$^{***}$ \\\\ \n",
      "  & p = 0.000 \\\\ \n",
      "  Engineering & $-$0.345$^{***}$ \\\\ \n",
      "  & p = 0.000 \\\\ \n",
      "  Chemistry & $-$0.990$^{***}$ \\\\ \n",
      "  & p = 0.000 \\\\ \n",
      "  Biochemistry\\_\\_Genetics\\_and\\_Molecular\\_Biology & $-$0.116$^{***}$ \\\\ \n",
      "  & p = 0.000 \\\\ \n",
      "  Medicine & $-$0.103$^{***}$ \\\\ \n",
      "  & p = 0.000 \\\\ \n",
      "  Nursing & 0.155$^{***}$ \\\\ \n",
      "  & p = 0.000 \\\\ \n",
      "  Agricultural\\_and\\_Biological\\_Sciences & 0.429$^{***}$ \\\\ \n",
      "  & p = 0.000 \\\\ \n",
      "  Pharmacology\\_\\_Toxicology\\_and\\_Pharmaceutics & $-$0.480$^{***}$ \\\\ \n",
      "  & p = 0.000 \\\\ \n",
      "  Neuroscience & $-$0.008 \\\\ \n",
      "  & p = 0.343 \\\\ \n",
      "  Business\\_\\_Management\\_and\\_Accounting & $-$0.389$^{***}$ \\\\ \n",
      "  & p = 0.000 \\\\ \n",
      "  Economics\\_\\_Econometrics\\_and\\_Finance & $-$0.080$^{***}$ \\\\ \n",
      "  & p = 0.00001 \\\\ \n",
      "  Chemical\\_Engineering & 0.121$^{***}$ \\\\ \n",
      "  & p = 0.000 \\\\ \n",
      "  Physics\\_and\\_Astronomy & $-$0.613$^{***}$ \\\\ \n",
      "  & p = 0.000 \\\\ \n",
      "  Computer\\_Science & $-$0.147$^{***}$ \\\\ \n",
      "  & p = 0.000 \\\\ \n",
      "  Decision\\_Sciences & $-$0.485$^{***}$ \\\\ \n",
      "  & p = 0.000 \\\\ \n",
      "  Health\\_Professions & 0.726$^{***}$ \\\\ \n",
      "  & p = 0.000 \\\\ \n",
      "  Psychology & $-$0.191$^{***}$ \\\\ \n",
      "  & p = 0.000 \\\\ \n",
      "  Immunology\\_and\\_Microbiology & $-$0.014 \\\\ \n",
      "  & p = 0.164 \\\\ \n",
      "  Dentistry & $-$0.691$^{***}$ \\\\ \n",
      "  & p = 0.000 \\\\ \n",
      "  Earth\\_and\\_Planetary\\_Sciences & $-$0.484$^{***}$ \\\\ \n",
      "  & p = 0.000 \\\\ \n",
      "  Environmental\\_Science & $-$0.251$^{***}$ \\\\ \n",
      "  & p = 0.000 \\\\ \n",
      "  Mathematics & 0.557$^{***}$ \\\\ \n",
      "  & p = 0.000 \\\\ \n",
      "  Arts\\_and\\_Humanities & $-$0.147$^{***}$ \\\\ \n",
      "  & p = 0.000 \\\\ \n",
      "  Energy & $-$0.367$^{***}$ \\\\ \n",
      "  & p = 0.000 \\\\ \n",
      "  Veterinary & $-$0.801$^{***}$ \\\\ \n",
      "  & p = 0.000 \\\\ \n",
      "  General & 0.478$^{***}$ \\\\ \n",
      "  & p = 0.000 \\\\ \n",
      "  genderFemale:self\\_promotion\\_defTrue & $-$0.089$^{***}$ \\\\ \n",
      "  & p = 0.000 \\\\ \n",
      "  Constant & 0.599$^{***}$ \\\\ \n",
      "  & p = 0.000 \\\\ \n",
      " \\hline \\\\[-1.8ex] \n",
      "Observations & 618,742 \\\\ \n",
      "Log Likelihood & $-$2,367,462.000 \\\\ \n",
      "$\\theta$ & 0.516$^{***}$  (0.001) \\\\ \n",
      "Akaike Inf. Crit. & 4,735,016.000 \\\\ \n",
      "\\hline \n",
      "\\hline \\\\[-1.8ex] \n",
      "\\textit{Note:}  & \\multicolumn{1}{r}{$^{*}$p$<$0.05; $^{**}$p$<$0.01; $^{***}$p$<$0.001} \\\\ \n",
      "\\end{tabular} \n",
      "\\end{table} \n"
     ]
    }
   ],
   "source": [
    "# use this search string in Sublime: \" \\\\\\\\ \\n  &\" with \" &\"\n",
    "stargazer(m_yes, type = \"latex\", single.row=TRUE, ci = FALSE, report = ('vc*p'), star.cutoffs = c(0.05, 0.01, 0.001))"
   ]
  },
  {
   "cell_type": "code",
   "execution_count": null,
   "id": "a2cb6bf0",
   "metadata": {},
   "outputs": [],
   "source": []
  }
 ],
 "metadata": {
  "kernelspec": {
   "display_name": "R",
   "language": "R",
   "name": "ir"
  },
  "language_info": {
   "codemirror_mode": "r",
   "file_extension": ".r",
   "mimetype": "text/x-r-source",
   "name": "R",
   "pygments_lexer": "r",
   "version": "4.2.0"
  }
 },
 "nbformat": 4,
 "nbformat_minor": 5
}
