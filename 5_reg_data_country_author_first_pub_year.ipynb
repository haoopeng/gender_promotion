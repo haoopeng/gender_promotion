{
 "cells": [
  {
   "cell_type": "code",
   "execution_count": 3,
   "metadata": {},
   "outputs": [],
   "source": [
    "import os\n",
    "import math\n",
    "import json\n",
    "import csv\n",
    "import time\n",
    "import random\n",
    "import requests\n",
    "import numpy as np\n",
    "import pandas as pd\n",
    "import seaborn as sns\n",
    "import reverse_geocode\n",
    "import matplotlib.colors\n",
    "import matplotlib.cm as cm\n",
    "import matplotlib.pyplot as plt\n",
    "import matplotlib.ticker as ticker\n",
    "from collections import defaultdict, Counter\n",
    "from datetime import datetime"
   ]
  },
  {
   "cell_type": "code",
   "execution_count": 4,
   "metadata": {},
   "outputs": [],
   "source": [
    "Data_Root = '/Data/Promotion/'"
   ]
  },
  {
   "cell_type": "code",
   "execution_count": 5,
   "metadata": {},
   "outputs": [],
   "source": [
    "# pd.options.display.precision = 20"
   ]
  },
  {
   "cell_type": "code",
   "execution_count": 6,
   "metadata": {},
   "outputs": [],
   "source": [
    "CIs = {'90': 1.645, '95': 1.96, '99': 2.576}"
   ]
  },
  {
   "cell_type": "code",
   "execution_count": 7,
   "metadata": {},
   "outputs": [],
   "source": [
    "def yield_one_line(filename, delimiter = '\\t', quote = csv.QUOTE_NONE):\n",
    "    '''a generator which produce one line of a given file'''\n",
    "    with open(filename, 'r') as file:\n",
    "        print('processing %s...' %(filename))\n",
    "        reader = csv.reader(file, delimiter=delimiter, quoting=quote)\n",
    "        for row in reader:\n",
    "            yield row"
   ]
  },
  {
   "cell_type": "code",
   "execution_count": 8,
   "metadata": {},
   "outputs": [],
   "source": [
    "labels = ['Male', 'Female']"
   ]
  },
  {
   "cell_type": "code",
   "execution_count": 9,
   "metadata": {},
   "outputs": [],
   "source": [
    "colors = sns.color_palette()[:len(labels)]"
   ]
  },
  {
   "cell_type": "code",
   "execution_count": 40,
   "metadata": {},
   "outputs": [],
   "source": [
    "utype = {'author_id': str, 'matched_tid': str, 'matched_tid_original': str, 'matched_tid_retweet': str}\n",
    "reg_data = pd.read_csv(Data_Root + \"revision/reg_data_drop_missing.csv\", header=0, dtype=utype)"
   ]
  },
  {
   "cell_type": "code",
   "execution_count": 41,
   "metadata": {
    "scrolled": false
   },
   "outputs": [
    {
     "data": {
      "text/plain": [
       "(14552304, 83)"
      ]
     },
     "execution_count": 41,
     "metadata": {},
     "output_type": "execute_result"
    }
   ],
   "source": [
    "reg_data.shape"
   ]
  },
  {
   "cell_type": "code",
   "execution_count": 42,
   "metadata": {},
   "outputs": [
    {
     "data": {
      "text/html": [
       "<div>\n",
       "<style scoped>\n",
       "    .dataframe tbody tr th:only-of-type {\n",
       "        vertical-align: middle;\n",
       "    }\n",
       "\n",
       "    .dataframe tbody tr th {\n",
       "        vertical-align: top;\n",
       "    }\n",
       "\n",
       "    .dataframe thead th {\n",
       "        text-align: right;\n",
       "    }\n",
       "</style>\n",
       "<table border=\"1\" class=\"dataframe\">\n",
       "  <thead>\n",
       "    <tr style=\"text-align: right;\">\n",
       "      <th></th>\n",
       "      <th>doi</th>\n",
       "      <th>pub_year</th>\n",
       "      <th>author_name</th>\n",
       "      <th>authorship_seq</th>\n",
       "      <th>authorship_pos</th>\n",
       "      <th>author_id</th>\n",
       "      <th>affiliation_ids</th>\n",
       "      <th>self_promotion_original</th>\n",
       "      <th>matched_tid_original</th>\n",
       "      <th>self_promotion_retweet</th>\n",
       "      <th>...</th>\n",
       "      <th>is_active_on_twitter</th>\n",
       "      <th>follower_cn_snapshot</th>\n",
       "      <th>matched_uid</th>\n",
       "      <th>is_active_on_twitter_ours</th>\n",
       "      <th>follower_cn_snapshot_ours</th>\n",
       "      <th>is_active_on_twitter_combine</th>\n",
       "      <th>follower_cn_snapshot_combine</th>\n",
       "      <th>self_promotion_first</th>\n",
       "      <th>matched_tid_retweet_cn</th>\n",
       "      <th>matched_tid_likes_cn</th>\n",
       "    </tr>\n",
       "  </thead>\n",
       "  <tbody>\n",
       "    <tr>\n",
       "      <th>0</th>\n",
       "      <td>10.4202/app.00261.2016</td>\n",
       "      <td>2016</td>\n",
       "      <td>Michal Zaton</td>\n",
       "      <td>2</td>\n",
       "      <td>last_position</td>\n",
       "      <td>2064717215</td>\n",
       "      <td>864159182</td>\n",
       "      <td>False</td>\n",
       "      <td>NaN</td>\n",
       "      <td>False</td>\n",
       "      <td>...</td>\n",
       "      <td>False</td>\n",
       "      <td>-1</td>\n",
       "      <td>NaN</td>\n",
       "      <td>False</td>\n",
       "      <td>-1</td>\n",
       "      <td>False</td>\n",
       "      <td>-1</td>\n",
       "      <td>False</td>\n",
       "      <td>-1</td>\n",
       "      <td>-1</td>\n",
       "    </tr>\n",
       "    <tr>\n",
       "      <th>1</th>\n",
       "      <td>10.1016/j.foodchem.2013.11.152</td>\n",
       "      <td>2014</td>\n",
       "      <td>Hee-Woong Kim</td>\n",
       "      <td>2</td>\n",
       "      <td>middle_position</td>\n",
       "      <td>2099457132</td>\n",
       "      <td>165507594</td>\n",
       "      <td>False</td>\n",
       "      <td>NaN</td>\n",
       "      <td>False</td>\n",
       "      <td>...</td>\n",
       "      <td>False</td>\n",
       "      <td>-1</td>\n",
       "      <td>NaN</td>\n",
       "      <td>False</td>\n",
       "      <td>-1</td>\n",
       "      <td>False</td>\n",
       "      <td>-1</td>\n",
       "      <td>False</td>\n",
       "      <td>-1</td>\n",
       "      <td>-1</td>\n",
       "    </tr>\n",
       "    <tr>\n",
       "      <th>2</th>\n",
       "      <td>10.1016/j.foodchem.2013.11.152</td>\n",
       "      <td>2014</td>\n",
       "      <td>Deug-Chan Lee</td>\n",
       "      <td>4</td>\n",
       "      <td>middle_position</td>\n",
       "      <td>2322741405</td>\n",
       "      <td>165507594</td>\n",
       "      <td>False</td>\n",
       "      <td>NaN</td>\n",
       "      <td>False</td>\n",
       "      <td>...</td>\n",
       "      <td>False</td>\n",
       "      <td>-1</td>\n",
       "      <td>NaN</td>\n",
       "      <td>False</td>\n",
       "      <td>-1</td>\n",
       "      <td>False</td>\n",
       "      <td>-1</td>\n",
       "      <td>False</td>\n",
       "      <td>-1</td>\n",
       "      <td>-1</td>\n",
       "    </tr>\n",
       "  </tbody>\n",
       "</table>\n",
       "<p>3 rows × 83 columns</p>\n",
       "</div>"
      ],
      "text/plain": [
       "                              doi  pub_year    author_name  authorship_seq  \\\n",
       "0          10.4202/app.00261.2016      2016   Michal Zaton               2   \n",
       "1  10.1016/j.foodchem.2013.11.152      2014  Hee-Woong Kim               2   \n",
       "2  10.1016/j.foodchem.2013.11.152      2014  Deug-Chan Lee               4   \n",
       "\n",
       "    authorship_pos   author_id affiliation_ids  self_promotion_original  \\\n",
       "0    last_position  2064717215       864159182                    False   \n",
       "1  middle_position  2099457132       165507594                    False   \n",
       "2  middle_position  2322741405       165507594                    False   \n",
       "\n",
       "  matched_tid_original  self_promotion_retweet  ... is_active_on_twitter  \\\n",
       "0                  NaN                   False  ...                False   \n",
       "1                  NaN                   False  ...                False   \n",
       "2                  NaN                   False  ...                False   \n",
       "\n",
       "   follower_cn_snapshot matched_uid is_active_on_twitter_ours  \\\n",
       "0                    -1         NaN                     False   \n",
       "1                    -1         NaN                     False   \n",
       "2                    -1         NaN                     False   \n",
       "\n",
       "   follower_cn_snapshot_ours  is_active_on_twitter_combine  \\\n",
       "0                         -1                         False   \n",
       "1                         -1                         False   \n",
       "2                         -1                         False   \n",
       "\n",
       "   follower_cn_snapshot_combine  self_promotion_first matched_tid_retweet_cn  \\\n",
       "0                            -1                 False                     -1   \n",
       "1                            -1                 False                     -1   \n",
       "2                            -1                 False                     -1   \n",
       "\n",
       "  matched_tid_likes_cn  \n",
       "0                   -1  \n",
       "1                   -1  \n",
       "2                   -1  \n",
       "\n",
       "[3 rows x 83 columns]"
      ]
     },
     "execution_count": 42,
     "metadata": {},
     "output_type": "execute_result"
    }
   ],
   "source": [
    "reg_data.head(3)"
   ]
  },
  {
   "cell_type": "markdown",
   "metadata": {},
   "source": [
    "Add author first publication year"
   ]
  },
  {
   "cell_type": "code",
   "execution_count": 43,
   "metadata": {},
   "outputs": [],
   "source": [
    "aid_first_pub_year = {}\n",
    "\n",
    "with open(Data_Root + 'revision/aid_year_paper_list.json', 'r') as ifile:\n",
    "    for line in ifile:\n",
    "        line = json.loads(line)\n",
    "        aid = line['aid']\n",
    "        first_year = sorted(line['year_pids'])[0]\n",
    "        aid_first_pub_year[aid] = first_year"
   ]
  },
  {
   "cell_type": "code",
   "execution_count": 44,
   "metadata": {},
   "outputs": [],
   "source": [
    "reg_data['aut_first_pub_year'] = reg_data['author_id'].map(aid_first_pub_year)"
   ]
  },
  {
   "cell_type": "code",
   "execution_count": 45,
   "metadata": {},
   "outputs": [
    {
     "data": {
      "text/plain": [
       "2013    868354\n",
       "2014    816915\n",
       "2015    769534\n",
       "2016    681486\n",
       "2012    642743\n",
       "         ...  \n",
       "1824         2\n",
       "1801         2\n",
       "1826         1\n",
       "1817         1\n",
       "1802         1\n",
       "Name: aut_first_pub_year, Length: 212, dtype: int64"
      ]
     },
     "execution_count": 45,
     "metadata": {},
     "output_type": "execute_result"
    }
   ],
   "source": [
    "reg_data['aut_first_pub_year'].value_counts()"
   ]
  },
  {
   "cell_type": "code",
   "execution_count": 12,
   "metadata": {},
   "outputs": [],
   "source": [
    "reg_data['no_years_after_first_pub'] = reg_data['pub_year'] - reg_data['aut_first_pub_year']"
   ]
  },
  {
   "cell_type": "code",
   "execution_count": 15,
   "metadata": {},
   "outputs": [],
   "source": [
    "# 14978 rows\n",
    "reg_data.loc[reg_data['no_years_after_first_pub'] < 0, 'no_years_after_first_pub'] = 0"
   ]
  },
  {
   "cell_type": "code",
   "execution_count": 21,
   "metadata": {},
   "outputs": [],
   "source": [
    "out, bins = pd.qcut(reg_data['no_years_after_first_pub'], q=11, labels=False, duplicates='drop', retbins=True)\n"
   ]
  },
  {
   "cell_type": "code",
   "execution_count": 22,
   "metadata": {},
   "outputs": [
    {
     "data": {
      "text/plain": [
       "array([  0.,   2.,   3.,   6.,   8.,  11.,  15.,  19.,  24.,  31., 218.])"
      ]
     },
     "execution_count": 22,
     "metadata": {},
     "output_type": "execute_result"
    }
   ],
   "source": [
    "np.set_printoptions(suppress=True)\n",
    "bins"
   ]
  },
  {
   "cell_type": "code",
   "execution_count": 23,
   "metadata": {},
   "outputs": [],
   "source": [
    "reg_data['author_career_year_cate'] = pd.qcut(reg_data['no_years_after_first_pub'], q=11, labels=False, duplicates='drop')\n"
   ]
  },
  {
   "cell_type": "code",
   "execution_count": 24,
   "metadata": {
    "scrolled": true
   },
   "outputs": [
    {
     "data": {
      "text/plain": [
       "0    3283264\n",
       "2    1735067\n",
       "5    1510601\n",
       "7    1332487\n",
       "4    1305369\n",
       "6    1271282\n",
       "8    1236010\n",
       "9    1218489\n",
       "3     973235\n",
       "1     686500\n",
       "Name: author_career_year_cate, dtype: int64"
      ]
     },
     "execution_count": 24,
     "metadata": {},
     "output_type": "execute_result"
    }
   ],
   "source": [
    "reg_data.author_career_year_cate.value_counts()"
   ]
  },
  {
   "cell_type": "code",
   "execution_count": null,
   "metadata": {},
   "outputs": [],
   "source": []
  },
  {
   "cell_type": "markdown",
   "metadata": {},
   "source": [
    "Add author affiliation country"
   ]
  },
  {
   "cell_type": "code",
   "execution_count": null,
   "metadata": {},
   "outputs": [],
   "source": [
    "affi_rank = {}\n",
    "affi_country = {}\n",
    "affi_name = {}\n",
    "for line in yield_one_line(Data_Root+'Affiliations.txt'):\n",
    "    affi_id, rank, dname, lat, lon = line[0], line[1], line[3], line[9], line[10]\n",
    "    affi_rank[affi_id] = int(rank)\n",
    "    affi_name[affi_id] = dname\n",
    "    if lat != \"\" and lon != \"\":\n",
    "        lat, lon = float(lat), float(lon)\n",
    "        res = reverse_geocode.search([(lat, lon)])\n",
    "        country = res[0]['country']\n",
    "        affi_country[affi_id] = country"
   ]
  },
  {
   "cell_type": "code",
   "execution_count": 47,
   "metadata": {},
   "outputs": [],
   "source": [
    "def get_affi_country(affis):\n",
    "    affi_li = affis.split('|')\n",
    "    cns = []\n",
    "    for affi_id in affi_li:\n",
    "        # many affi ids in MAG do not have latitude and longitude info for us to infer their country\n",
    "        if affi_id in affi_country:\n",
    "            country = affi_country[affi_id]\n",
    "            cns.append(country)\n",
    "    if len(cns) > 0:\n",
    "        if 'United States' in cns:\n",
    "            return 'United States'\n",
    "        else:\n",
    "            return cns[0]\n",
    "    else:\n",
    "        return 'unknown'"
   ]
  },
  {
   "cell_type": "code",
   "execution_count": 48,
   "metadata": {},
   "outputs": [],
   "source": [
    "reg_data['affiliation_country'] = reg_data['affiliation_ids'].apply(get_affi_country)"
   ]
  },
  {
   "cell_type": "code",
   "execution_count": 49,
   "metadata": {},
   "outputs": [
    {
     "data": {
      "text/plain": [
       "United States         4818093\n",
       "China                 1230968\n",
       "United Kingdom        1164938\n",
       "Australia              680220\n",
       "Germany                674825\n",
       "Japan                  563090\n",
       "Canada                 520958\n",
       "France                 427215\n",
       "Italy                  388833\n",
       "Netherlands            368337\n",
       "Korea, Republic of     314694\n",
       "Spain                  299167\n",
       "Brazil                 243030\n",
       "Switzerland            210782\n",
       "India                  208746\n",
       "Sweden                 203101\n",
       "Belgium                190848\n",
       "Denmark                136993\n",
       "Taiwan                 127730\n",
       "Finland                 93212\n",
       "Name: affiliation_country, dtype: int64"
      ]
     },
     "execution_count": 49,
     "metadata": {},
     "output_type": "execute_result"
    }
   ],
   "source": [
    "reg_data['affiliation_country'].value_counts()[:20]"
   ]
  },
  {
   "cell_type": "code",
   "execution_count": 51,
   "metadata": {},
   "outputs": [
    {
     "data": {
      "text/plain": [
       "14552304"
      ]
     },
     "execution_count": 51,
     "metadata": {},
     "output_type": "execute_result"
    }
   ],
   "source": [
    "len(reg_data)"
   ]
  },
  {
   "cell_type": "code",
   "execution_count": 26,
   "metadata": {},
   "outputs": [],
   "source": [
    "reg_data.to_csv(Data_Root+\"revision/reg_data_drop_missing.csv\", index=False, header=True, encoding='utf-8')\n"
   ]
  },
  {
   "cell_type": "code",
   "execution_count": 10,
   "metadata": {},
   "outputs": [],
   "source": [
    "utype = {'author_id': str, 'matched_tid': 'str', 'matched_tid_original': 'str', 'matched_tid_retweet': 'str'}\n",
    "reg_data = pd.read_csv(Data_Root+\"revision/reg_data_drop_missing.csv\", header=0, dtype=utype)\n"
   ]
  },
  {
   "cell_type": "code",
   "execution_count": 11,
   "metadata": {},
   "outputs": [
    {
     "data": {
      "text/plain": [
       "14552304"
      ]
     },
     "execution_count": 11,
     "metadata": {},
     "output_type": "execute_result"
    }
   ],
   "source": [
    "len(reg_data)"
   ]
  },
  {
   "cell_type": "code",
   "execution_count": null,
   "metadata": {},
   "outputs": [],
   "source": []
  }
 ],
 "metadata": {
  "kernelspec": {
   "display_name": "Python 3 (ipykernel)",
   "language": "python",
   "name": "python3"
  },
  "language_info": {
   "codemirror_mode": {
    "name": "ipython",
    "version": 3
   },
   "file_extension": ".py",
   "mimetype": "text/x-python",
   "name": "python",
   "nbconvert_exporter": "python",
   "pygments_lexer": "ipython3",
   "version": "3.8.13"
  }
 },
 "nbformat": 4,
 "nbformat_minor": 4
}
