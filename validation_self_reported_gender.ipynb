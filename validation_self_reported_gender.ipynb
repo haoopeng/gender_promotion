{
 "cells": [
  {
   "cell_type": "code",
   "execution_count": 2,
   "id": "bd4b93d3",
   "metadata": {},
   "outputs": [],
   "source": [
    "import re\n",
    "import json\n",
    "import csv\n",
    "import random\n",
    "import requests\n",
    "import pprint\n",
    "import pickle\n",
    "import unidecode\n",
    "import numpy as np\n",
    "import pandas as pd\n",
    "from random import sample\n",
    "import reverse_geocode\n",
    "import seaborn as sns\n",
    "from sklearn import metrics\n",
    "from fuzzywuzzy import fuzz\n",
    "import matplotlib.pyplot as plt\n",
    "from collections import Counter\n",
    "from scipy.stats import chisquare\n",
    "from collections import Counter, defaultdict\n",
    "from sklearn.metrics import cohen_kappa_score"
   ]
  },
  {
   "cell_type": "code",
   "execution_count": 79,
   "id": "e88853b9",
   "metadata": {},
   "outputs": [],
   "source": [
    "iop_clean_name_self_gender_ford = pd.read_csv('/Data/Promotion/iop_clean_name_self_gender_ford.csv')"
   ]
  },
  {
   "cell_type": "code",
   "execution_count": 63,
   "id": "df8e8414",
   "metadata": {},
   "outputs": [],
   "source": [
    "iop_clean_name_self_gender_ford = iop_clean_name_self_gender_ford.loc[~iop_clean_name_self_gender_ford['gender_ford'].isin(['invalid', 'Unisex', 'Unknown'])]\n",
    "iop_clean_name_self_gender_ford.index = range(len(iop_clean_name_self_gender_ford))\n"
   ]
  },
  {
   "cell_type": "code",
   "execution_count": 64,
   "id": "ce734981",
   "metadata": {},
   "outputs": [
    {
     "data": {
      "text/plain": [
       "Male                 350969\n",
       "Female                81919\n",
       "Prefer not to say      9660\n",
       "Non-binary              388\n",
       "Name: Contact Confirmed Gender, dtype: int64"
      ]
     },
     "execution_count": 64,
     "metadata": {},
     "output_type": "execute_result"
    }
   ],
   "source": [
    "iop_clean_name_self_gender_ford['Contact Confirmed Gender'].value_counts()"
   ]
  },
  {
   "cell_type": "code",
   "execution_count": 84,
   "id": "fddd4dcd",
   "metadata": {},
   "outputs": [],
   "source": [
    "iop_clean_name_self_gender_ford = iop_clean_name_self_gender_ford.loc[~iop_clean_name_self_gender_ford['Contact Confirmed Gender'].isin(['Non-binary', 'Prefer not to say'])]\n",
    "iop_clean_name_self_gender_ford.index = range(len(iop_clean_name_self_gender_ford))\n"
   ]
  },
  {
   "cell_type": "code",
   "execution_count": 66,
   "id": "69be10a8",
   "metadata": {},
   "outputs": [
    {
     "data": {
      "text/plain": [
       "Male      350969\n",
       "Female     81919\n",
       "Name: Contact Confirmed Gender, dtype: int64"
      ]
     },
     "execution_count": 66,
     "metadata": {},
     "output_type": "execute_result"
    }
   ],
   "source": [
    "iop_clean_name_self_gender_ford['Contact Confirmed Gender'].value_counts()"
   ]
  },
  {
   "cell_type": "code",
   "execution_count": 67,
   "id": "0517cfd4",
   "metadata": {},
   "outputs": [
    {
     "data": {
      "text/plain": [
       "Male      329681\n",
       "Female    103207\n",
       "Name: gender_ford, dtype: int64"
      ]
     },
     "execution_count": 67,
     "metadata": {},
     "output_type": "execute_result"
    }
   ],
   "source": [
    "iop_clean_name_self_gender_ford['gender_ford'].value_counts()"
   ]
  },
  {
   "cell_type": "code",
   "execution_count": 68,
   "id": "f75a5aa8",
   "metadata": {},
   "outputs": [
    {
     "data": {
      "text/plain": [
       "432888"
      ]
     },
     "execution_count": 68,
     "metadata": {},
     "output_type": "execute_result"
    }
   ],
   "source": [
    "len(iop_clean_name_self_gender_ford)"
   ]
  },
  {
   "cell_type": "code",
   "execution_count": 69,
   "id": "164b2a61",
   "metadata": {},
   "outputs": [
    {
     "name": "stdout",
     "output_type": "stream",
     "text": [
      "              precision    recall  f1-score   support\n",
      "\n",
      "      Female       0.74      0.93      0.83     81919\n",
      "        Male       0.98      0.92      0.95    350969\n",
      "\n",
      "    accuracy                           0.93    432888\n",
      "   macro avg       0.86      0.93      0.89    432888\n",
      "weighted avg       0.94      0.93      0.93    432888\n",
      "\n"
     ]
    }
   ],
   "source": [
    "# remove 'invalid', 'Unisex', 'Unknown'\n",
    "# remove 'Non-binary', 'Prefer not to say'\n",
    "print(metrics.classification_report(iop_clean_name_self_gender_ford['Contact Confirmed Gender'], iop_clean_name_self_gender_ford['gender_ford']))\n"
   ]
  },
  {
   "cell_type": "code",
   "execution_count": 75,
   "id": "4b9c3efe",
   "metadata": {},
   "outputs": [
    {
     "data": {
      "text/plain": [
       "China                         71869\n",
       "India                         47706\n",
       "United States of America      43871\n",
       "Iran (Islamic Republic of)    23713\n",
       "Germany                       20452\n",
       "                              ...  \n",
       "Palau                             1\n",
       "Jersey                            1\n",
       "Djibouti                          1\n",
       "Saint Barthélemy                  1\n",
       "Namibia                           1\n",
       "Name: Task Country (at time of activity), Length: 153, dtype: int64"
      ]
     },
     "execution_count": 75,
     "metadata": {},
     "output_type": "execute_result"
    }
   ],
   "source": [
    "iop_clean_name_self_gender_ford['Task Country (at time of activity)'].value_counts()"
   ]
  },
  {
   "cell_type": "code",
   "execution_count": 76,
   "id": "39378a2e",
   "metadata": {},
   "outputs": [
    {
     "name": "stdout",
     "output_type": "stream",
     "text": [
      "              precision    recall  f1-score   support\n",
      "\n",
      "      Female       0.49      0.83      0.61     17925\n",
      "        Male       0.93      0.71      0.80     53944\n",
      "\n",
      "    accuracy                           0.74     71869\n",
      "   macro avg       0.71      0.77      0.71     71869\n",
      "weighted avg       0.82      0.74      0.76     71869\n",
      "\n"
     ]
    }
   ],
   "source": [
    "# remove 'invalid', 'Unisex', 'Unknown'\n",
    "# remove 'Non-binary', 'Prefer not to say'\n",
    "\n",
    "# Names from China\n",
    "tem_df = iop_clean_name_self_gender_ford.loc[iop_clean_name_self_gender_ford['Task Country (at time of activity)'] == 'China']\n",
    "print(metrics.classification_report(tem_df['Contact Confirmed Gender'], tem_df['gender_ford']))"
   ]
  },
  {
   "cell_type": "code",
   "execution_count": 77,
   "id": "9cf16492",
   "metadata": {},
   "outputs": [
    {
     "name": "stdout",
     "output_type": "stream",
     "text": [
      "              precision    recall  f1-score   support\n",
      "\n",
      "      Female       0.85      0.96      0.90     63994\n",
      "        Male       0.99      0.96      0.98    297025\n",
      "\n",
      "    accuracy                           0.96    361019\n",
      "   macro avg       0.92      0.96      0.94    361019\n",
      "weighted avg       0.97      0.96      0.96    361019\n",
      "\n"
     ]
    }
   ],
   "source": [
    "# remove 'invalid', 'Unisex', 'Unknown'\n",
    "# remove 'Non-binary', 'Prefer not to say'\n",
    "\n",
    "# Names not from China\n",
    "tem_df = iop_clean_name_self_gender_ford.loc[iop_clean_name_self_gender_ford['Task Country (at time of activity)'] != 'China']\n",
    "print(metrics.classification_report(tem_df['Contact Confirmed Gender'], tem_df['gender_ford']))"
   ]
  },
  {
   "cell_type": "code",
   "execution_count": null,
   "id": "257cdd6a",
   "metadata": {},
   "outputs": [],
   "source": []
  }
 ],
 "metadata": {
  "kernelspec": {
   "display_name": "Python 3 (ipykernel)",
   "language": "python",
   "name": "python3"
  },
  "language_info": {
   "codemirror_mode": {
    "name": "ipython",
    "version": 3
   },
   "file_extension": ".py",
   "mimetype": "text/x-python",
   "name": "python",
   "nbconvert_exporter": "python",
   "pygments_lexer": "ipython3",
   "version": "3.8.13"
  }
 },
 "nbformat": 4,
 "nbformat_minor": 5
}
