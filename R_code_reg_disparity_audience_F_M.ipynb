{
 "cells": [
  {
   "cell_type": "code",
   "execution_count": 34,
   "id": "20faa31c",
   "metadata": {
    "scrolled": true
   },
   "outputs": [],
   "source": [
    "library(\"lme4\")\n",
    "library(\"margins\")\n",
    "library(\"stargazer\")\n",
    "library(\"emmeans\")\n",
    "library(\"ggeffects\")\n",
    "library(\"broom\")\n",
    "library(\"broom.mixed\")\n",
    "library(\"MASS\")\n",
    "library(\"pscl\")"
   ]
  },
  {
   "cell_type": "code",
   "execution_count": 2,
   "id": "2145d0a3",
   "metadata": {},
   "outputs": [],
   "source": [
    "options(repr.matrix.max.rows=500, repr.matrix.max.cols=200)"
   ]
  },
  {
   "cell_type": "code",
   "execution_count": 3,
   "id": "dc8c6d6c",
   "metadata": {},
   "outputs": [],
   "source": [
    "options(dplyr.print_max = 100)"
   ]
  },
  {
   "cell_type": "code",
   "execution_count": 4,
   "id": "49cd412c",
   "metadata": {},
   "outputs": [],
   "source": [
    "Data_Root <- \"/Data/Promotion/revision/\"\n",
    "data_root <- \"/Data/Promotion/revision/reg_results_F_M/\""
   ]
  },
  {
   "cell_type": "code",
   "execution_count": 5,
   "id": "b0c845a6",
   "metadata": {},
   "outputs": [],
   "source": [
    "mydata <- read.csv(paste(Data_Root, \"reg_data_drop_missing.csv\", sep = ''), header = TRUE, stringsAsFactors = TRUE)"
   ]
  },
  {
   "cell_type": "code",
   "execution_count": 6,
   "id": "9f6c2a04",
   "metadata": {
    "scrolled": true
   },
   "outputs": [
    {
     "data": {
      "text/html": [
       "14552304"
      ],
      "text/latex": [
       "14552304"
      ],
      "text/markdown": [
       "14552304"
      ],
      "text/plain": [
       "[1] 14552304"
      ]
     },
     "metadata": {},
     "output_type": "display_data"
    }
   ],
   "source": [
    "nrow(mydata)"
   ]
  },
  {
   "cell_type": "code",
   "execution_count": 7,
   "id": "85ff3ef1",
   "metadata": {
    "scrolled": false
   },
   "outputs": [
    {
     "data": {
      "text/html": [
       "81"
      ],
      "text/latex": [
       "81"
      ],
      "text/markdown": [
       "81"
      ],
      "text/plain": [
       "[1] 81"
      ]
     },
     "metadata": {},
     "output_type": "display_data"
    }
   ],
   "source": [
    "ncol(mydata)"
   ]
  },
  {
   "cell_type": "code",
   "execution_count": 8,
   "id": "30e42c81",
   "metadata": {},
   "outputs": [],
   "source": [
    "mydata = mydata[mydata$gender %in% c(\"Male\", \"Female\"), ]"
   ]
  },
  {
   "cell_type": "code",
   "execution_count": 9,
   "id": "5be5b2b3",
   "metadata": {},
   "outputs": [],
   "source": [
    "mydata = mydata[mydata$affiliation_cate != 'unknown', ]"
   ]
  },
  {
   "cell_type": "code",
   "execution_count": 10,
   "id": "8520197d",
   "metadata": {
    "scrolled": false
   },
   "outputs": [
    {
     "data": {
      "text/html": [
       "11396752"
      ],
      "text/latex": [
       "11396752"
      ],
      "text/markdown": [
       "11396752"
      ],
      "text/plain": [
       "[1] 11396752"
      ]
     },
     "metadata": {},
     "output_type": "display_data"
    }
   ],
   "source": [
    "nrow(mydata)"
   ]
  },
  {
   "cell_type": "code",
   "execution_count": 25,
   "id": "3ca825de",
   "metadata": {},
   "outputs": [],
   "source": [
    "mydata$pub_year <- as.factor(mydata$pub_year)"
   ]
  },
  {
   "cell_type": "code",
   "execution_count": 11,
   "id": "ea404342",
   "metadata": {},
   "outputs": [],
   "source": [
    "mydata <- within(mydata, gender <- relevel(gender, ref = 'Male'))\n",
    "mydata <- within(mydata, authorship_pos <- relevel(authorship_pos, ref = 'last_position'))\n",
    "mydata <- within(mydata, affiliation_cate <- relevel(affiliation_cate, ref = 'domestic'))"
   ]
  },
  {
   "cell_type": "code",
   "execution_count": 12,
   "id": "22406164",
   "metadata": {},
   "outputs": [],
   "source": [
    "keywords <- \" + Social_Sciences + Materials_Science + Engineering + Chemistry + \\\n",
    "        Biochemistry__Genetics_and_Molecular_Biology + Medicine + Nursing + Agricultural_and_Biological_Sciences + \\\n",
    "        Pharmacology__Toxicology_and_Pharmaceutics + Neuroscience + Business__Management_and_Accounting + \\\n",
    "        Economics__Econometrics_and_Finance + Chemical_Engineering + Physics_and_Astronomy + Computer_Science + \\\n",
    "        Decision_Sciences + Health_Professions + Psychology + Immunology_and_Microbiology + Dentistry + \\\n",
    "        Earth_and_Planetary_Sciences + Environmental_Science + Mathematics + Arts_and_Humanities + Energy + \\\n",
    "        Veterinary + General\""
   ]
  },
  {
   "cell_type": "code",
   "execution_count": 13,
   "id": "51d8b0dd",
   "metadata": {},
   "outputs": [],
   "source": [
    "mydata$author_citation_log <- log2(1 + mydata$author_citation)"
   ]
  },
  {
   "cell_type": "code",
   "execution_count": 14,
   "id": "02c847da",
   "metadata": {},
   "outputs": [],
   "source": [
    "mydata$total_num_tweets_log <- log2(1 + mydata$total_num_tweets)"
   ]
  },
  {
   "cell_type": "code",
   "execution_count": 15,
   "id": "b4650681",
   "metadata": {},
   "outputs": [],
   "source": [
    "mydata$follower_cn_snapshot_log <- log2(1 + mydata$follower_cn_snapshot)\n",
    "mydata$follower_cn_snapshot_ours_log <- log2(1 + mydata$follower_cn_snapshot_ours)\n",
    "mydata$follower_cn_snapshot_combine_log <- log2(1 + mydata$follower_cn_snapshot_combine)"
   ]
  },
  {
   "cell_type": "markdown",
   "id": "905776de",
   "metadata": {},
   "source": [
    "## Num of scientists"
   ]
  },
  {
   "cell_type": "markdown",
   "id": "769b376e",
   "metadata": {},
   "source": [
    "### Active subset"
   ]
  },
  {
   "cell_type": "code",
   "execution_count": 16,
   "id": "39e7e391",
   "metadata": {
    "scrolled": true
   },
   "outputs": [
    {
     "data": {
      "text/html": [
       "618742"
      ],
      "text/latex": [
       "618742"
      ],
      "text/markdown": [
       "618742"
      ],
      "text/plain": [
       "[1] 618742"
      ]
     },
     "metadata": {},
     "output_type": "display_data"
    }
   ],
   "source": [
    "nrow(mydata[mydata$is_active_on_twitter == \"True\", ])"
   ]
  },
  {
   "cell_type": "markdown",
   "id": "e952524d",
   "metadata": {},
   "source": [
    "Negative Binomial Regression"
   ]
  },
  {
   "cell_type": "code",
   "execution_count": 26,
   "id": "4113fa14",
   "metadata": {},
   "outputs": [],
   "source": [
    "base_str <- \"researcher ~ 1 + gender * self_promotion + authorship_pos + follower_cn_snapshot_log + \\\n",
    "        author_pub_count_cate + affiliation_rank_cate + affiliation_cate + num_authors + journal_impact + \\\n",
    "        author_citation_log + pub_year\"\n",
    "equation <- as.formula(paste(base_str, keywords, sep = \" \"))\n",
    "m_yes <- glm.nb(equation, data = mydata[mydata$is_active_on_twitter == \"True\", ])"
   ]
  },
  {
   "cell_type": "code",
   "execution_count": 27,
   "id": "50c5560a",
   "metadata": {
    "scrolled": true
   },
   "outputs": [
    {
     "data": {
      "text/html": [
       "<table class=\"dataframe\">\n",
       "<caption>A tibble: 46 × 5</caption>\n",
       "<thead>\n",
       "\t<tr><th scope=col>term</th><th scope=col>estimate</th><th scope=col>std.error</th><th scope=col>statistic</th><th scope=col>p.value</th></tr>\n",
       "\t<tr><th scope=col>&lt;chr&gt;</th><th scope=col>&lt;dbl&gt;</th><th scope=col>&lt;dbl&gt;</th><th scope=col>&lt;dbl&gt;</th><th scope=col>&lt;dbl&gt;</th></tr>\n",
       "</thead>\n",
       "<tbody>\n",
       "\t<tr><td>(Intercept)                                 </td><td>-1.0863132302</td><td>0.0169117219</td><td>-64.234336</td><td> 0.000000e+00</td></tr>\n",
       "\t<tr><td>genderFemale                                </td><td> 0.1357222726</td><td>0.0058153946</td><td> 23.338446</td><td>1.805720e-120</td></tr>\n",
       "\t<tr><td>self_promotionTrue                          </td><td> 1.2716122186</td><td>0.0048341140</td><td>263.049695</td><td> 0.000000e+00</td></tr>\n",
       "\t<tr><td>authorship_posfirst_position                </td><td> 0.0618635652</td><td>0.0063306594</td><td>  9.772057</td><td> 1.484076e-22</td></tr>\n",
       "\t<tr><td>authorship_posmiddle_position               </td><td> 0.3039535696</td><td>0.0049154764</td><td> 61.836034</td><td> 0.000000e+00</td></tr>\n",
       "\t<tr><td>authorship_possolo_author                   </td><td>-0.2620250172</td><td>0.0119059613</td><td>-22.007884</td><td>2.420265e-107</td></tr>\n",
       "\t<tr><td>follower_cn_snapshot_log                    </td><td> 0.0959089444</td><td>0.0010402839</td><td> 92.194974</td><td> 0.000000e+00</td></tr>\n",
       "\t<tr><td>author_pub_count_cate                       </td><td>-0.1887934776</td><td>0.0020472970</td><td>-92.215968</td><td> 0.000000e+00</td></tr>\n",
       "\t<tr><td>affiliation_rank_cate                       </td><td>-0.0198679448</td><td>0.0007318678</td><td>-27.146905</td><td>2.754286e-162</td></tr>\n",
       "\t<tr><td>affiliation_cateinternational               </td><td> 0.0445921754</td><td>0.0042713970</td><td> 10.439717</td><td> 1.632968e-25</td></tr>\n",
       "\t<tr><td>num_authors                                 </td><td> 0.0009398634</td><td>0.0000172604</td><td> 54.452011</td><td> 0.000000e+00</td></tr>\n",
       "\t<tr><td>journal_impact                              </td><td> 0.0619346308</td><td>0.0002576049</td><td>240.424867</td><td> 0.000000e+00</td></tr>\n",
       "\t<tr><td>author_citation_log                         </td><td> 0.0979754940</td><td>0.0012062753</td><td> 81.221507</td><td> 0.000000e+00</td></tr>\n",
       "\t<tr><td>pub_year2014                                </td><td> 0.3084884683</td><td>0.0125611032</td><td> 24.559027</td><td>3.463923e-133</td></tr>\n",
       "\t<tr><td>pub_year2015                                </td><td> 0.4556132231</td><td>0.0116909979</td><td> 38.971286</td><td> 0.000000e+00</td></tr>\n",
       "\t<tr><td>pub_year2016                                </td><td> 0.6233015067</td><td>0.0112950526</td><td> 55.183586</td><td> 0.000000e+00</td></tr>\n",
       "\t<tr><td>pub_year2017                                </td><td> 0.9250334327</td><td>0.0110716088</td><td> 83.550047</td><td> 0.000000e+00</td></tr>\n",
       "\t<tr><td>pub_year2018                                </td><td> 1.0993221230</td><td>0.0109255312</td><td>100.619559</td><td> 0.000000e+00</td></tr>\n",
       "\t<tr><td>Social_Sciences                             </td><td>-0.0914495742</td><td>0.0087261347</td><td>-10.479964</td><td> 1.067848e-25</td></tr>\n",
       "\t<tr><td>Materials_Science                           </td><td>-0.4872034852</td><td>0.0185307632</td><td>-26.291604</td><td>2.392256e-152</td></tr>\n",
       "\t<tr><td>Engineering                                 </td><td>-0.4534010393</td><td>0.0146824506</td><td>-30.880474</td><td>2.184688e-209</td></tr>\n",
       "\t<tr><td>Chemistry                                   </td><td>-0.6964150512</td><td>0.0136820420</td><td>-50.899935</td><td> 0.000000e+00</td></tr>\n",
       "\t<tr><td>Biochemistry__Genetics_and_Molecular_Biology</td><td> 0.1765493723</td><td>0.0054937034</td><td> 32.136677</td><td>1.355916e-226</td></tr>\n",
       "\t<tr><td>Medicine                                    </td><td>-0.4227969246</td><td>0.0044501626</td><td>-95.007074</td><td> 0.000000e+00</td></tr>\n",
       "\t<tr><td>Nursing                                     </td><td> 0.2679795174</td><td>0.0121134898</td><td> 22.122404</td><td>1.923972e-108</td></tr>\n",
       "\t<tr><td>Agricultural_and_Biological_Sciences        </td><td> 0.4009679091</td><td>0.0063408968</td><td> 63.235205</td><td> 0.000000e+00</td></tr>\n",
       "\t<tr><td>Pharmacology__Toxicology_and_Pharmaceutics  </td><td>-0.5679592041</td><td>0.0148219214</td><td>-38.318865</td><td> 0.000000e+00</td></tr>\n",
       "\t<tr><td>Neuroscience                                </td><td>-0.0356742804</td><td>0.0092152421</td><td> -3.871226</td><td> 1.082895e-04</td></tr>\n",
       "\t<tr><td>Business__Management_and_Accounting         </td><td>-0.3800146586</td><td>0.0181378328</td><td>-20.951492</td><td> 1.818442e-97</td></tr>\n",
       "\t<tr><td>Economics__Econometrics_and_Finance         </td><td>-0.2004083530</td><td>0.0196220726</td><td>-10.213414</td><td> 1.726797e-24</td></tr>\n",
       "\t<tr><td>Chemical_Engineering                        </td><td> 0.1222164860</td><td>0.0197326971</td><td>  6.193603</td><td> 5.880434e-10</td></tr>\n",
       "\t<tr><td>Physics_and_Astronomy                       </td><td>-0.2542905422</td><td>0.0145492835</td><td>-17.477874</td><td> 2.112295e-68</td></tr>\n",
       "\t<tr><td>Computer_Science                            </td><td>-0.1009100586</td><td>0.0136455250</td><td> -7.395103</td><td> 1.412990e-13</td></tr>\n",
       "\t<tr><td>Decision_Sciences                           </td><td>-0.1489836640</td><td>0.0297411777</td><td> -5.009340</td><td> 5.461708e-07</td></tr>\n",
       "\t<tr><td>Health_Professions                          </td><td> 0.8792981259</td><td>0.0133093062</td><td> 66.066413</td><td> 0.000000e+00</td></tr>\n",
       "\t<tr><td>Psychology                                  </td><td>-0.1130371846</td><td>0.0126068645</td><td> -8.966320</td><td> 3.065856e-19</td></tr>\n",
       "\t<tr><td>Immunology_and_Microbiology                 </td><td> 0.1069423981</td><td>0.0104369306</td><td> 10.246537</td><td> 1.226593e-24</td></tr>\n",
       "\t<tr><td>Dentistry                                   </td><td>-1.4399627096</td><td>0.0677316460</td><td>-21.259822</td><td>2.674310e-100</td></tr>\n",
       "\t<tr><td>Earth_and_Planetary_Sciences                </td><td>-0.3854458073</td><td>0.0113218979</td><td>-34.044275</td><td>4.933091e-254</td></tr>\n",
       "\t<tr><td>Environmental_Science                       </td><td>-0.1298559962</td><td>0.0081842538</td><td>-15.866565</td><td> 1.079914e-56</td></tr>\n",
       "\t<tr><td>Mathematics                                 </td><td> 0.3944888718</td><td>0.0182003841</td><td> 21.674755</td><td>3.551197e-104</td></tr>\n",
       "\t<tr><td>Arts_and_Humanities                         </td><td>-0.2296916005</td><td>0.0246550333</td><td> -9.316215</td><td> 1.205642e-20</td></tr>\n",
       "\t<tr><td>Energy                                      </td><td>-0.9035752307</td><td>0.0266725019</td><td>-33.876658</td><td>1.470328e-251</td></tr>\n",
       "\t<tr><td>Veterinary                                  </td><td>-1.0534746202</td><td>0.0336793183</td><td>-31.279571</td><td>8.848489e-215</td></tr>\n",
       "\t<tr><td>General                                     </td><td> 0.5724619157</td><td>0.0132843727</td><td> 43.092883</td><td> 0.000000e+00</td></tr>\n",
       "\t<tr><td>genderFemale:self_promotionTrue             </td><td>-0.0876155196</td><td>0.0083365254</td><td>-10.509837</td><td> 7.782831e-26</td></tr>\n",
       "</tbody>\n",
       "</table>\n"
      ],
      "text/latex": [
       "A tibble: 46 × 5\n",
       "\\begin{tabular}{lllll}\n",
       " term & estimate & std.error & statistic & p.value\\\\\n",
       " <chr> & <dbl> & <dbl> & <dbl> & <dbl>\\\\\n",
       "\\hline\n",
       "\t (Intercept)                                  & -1.0863132302 & 0.0169117219 & -64.234336 &  0.000000e+00\\\\\n",
       "\t genderFemale                                 &  0.1357222726 & 0.0058153946 &  23.338446 & 1.805720e-120\\\\\n",
       "\t self\\_promotionTrue                           &  1.2716122186 & 0.0048341140 & 263.049695 &  0.000000e+00\\\\\n",
       "\t authorship\\_posfirst\\_position                 &  0.0618635652 & 0.0063306594 &   9.772057 &  1.484076e-22\\\\\n",
       "\t authorship\\_posmiddle\\_position                &  0.3039535696 & 0.0049154764 &  61.836034 &  0.000000e+00\\\\\n",
       "\t authorship\\_possolo\\_author                    & -0.2620250172 & 0.0119059613 & -22.007884 & 2.420265e-107\\\\\n",
       "\t follower\\_cn\\_snapshot\\_log                     &  0.0959089444 & 0.0010402839 &  92.194974 &  0.000000e+00\\\\\n",
       "\t author\\_pub\\_count\\_cate                        & -0.1887934776 & 0.0020472970 & -92.215968 &  0.000000e+00\\\\\n",
       "\t affiliation\\_rank\\_cate                        & -0.0198679448 & 0.0007318678 & -27.146905 & 2.754286e-162\\\\\n",
       "\t affiliation\\_cateinternational                &  0.0445921754 & 0.0042713970 &  10.439717 &  1.632968e-25\\\\\n",
       "\t num\\_authors                                  &  0.0009398634 & 0.0000172604 &  54.452011 &  0.000000e+00\\\\\n",
       "\t journal\\_impact                               &  0.0619346308 & 0.0002576049 & 240.424867 &  0.000000e+00\\\\\n",
       "\t author\\_citation\\_log                          &  0.0979754940 & 0.0012062753 &  81.221507 &  0.000000e+00\\\\\n",
       "\t pub\\_year2014                                 &  0.3084884683 & 0.0125611032 &  24.559027 & 3.463923e-133\\\\\n",
       "\t pub\\_year2015                                 &  0.4556132231 & 0.0116909979 &  38.971286 &  0.000000e+00\\\\\n",
       "\t pub\\_year2016                                 &  0.6233015067 & 0.0112950526 &  55.183586 &  0.000000e+00\\\\\n",
       "\t pub\\_year2017                                 &  0.9250334327 & 0.0110716088 &  83.550047 &  0.000000e+00\\\\\n",
       "\t pub\\_year2018                                 &  1.0993221230 & 0.0109255312 & 100.619559 &  0.000000e+00\\\\\n",
       "\t Social\\_Sciences                              & -0.0914495742 & 0.0087261347 & -10.479964 &  1.067848e-25\\\\\n",
       "\t Materials\\_Science                            & -0.4872034852 & 0.0185307632 & -26.291604 & 2.392256e-152\\\\\n",
       "\t Engineering                                  & -0.4534010393 & 0.0146824506 & -30.880474 & 2.184688e-209\\\\\n",
       "\t Chemistry                                    & -0.6964150512 & 0.0136820420 & -50.899935 &  0.000000e+00\\\\\n",
       "\t Biochemistry\\_\\_Genetics\\_and\\_Molecular\\_Biology &  0.1765493723 & 0.0054937034 &  32.136677 & 1.355916e-226\\\\\n",
       "\t Medicine                                     & -0.4227969246 & 0.0044501626 & -95.007074 &  0.000000e+00\\\\\n",
       "\t Nursing                                      &  0.2679795174 & 0.0121134898 &  22.122404 & 1.923972e-108\\\\\n",
       "\t Agricultural\\_and\\_Biological\\_Sciences         &  0.4009679091 & 0.0063408968 &  63.235205 &  0.000000e+00\\\\\n",
       "\t Pharmacology\\_\\_Toxicology\\_and\\_Pharmaceutics   & -0.5679592041 & 0.0148219214 & -38.318865 &  0.000000e+00\\\\\n",
       "\t Neuroscience                                 & -0.0356742804 & 0.0092152421 &  -3.871226 &  1.082895e-04\\\\\n",
       "\t Business\\_\\_Management\\_and\\_Accounting          & -0.3800146586 & 0.0181378328 & -20.951492 &  1.818442e-97\\\\\n",
       "\t Economics\\_\\_Econometrics\\_and\\_Finance          & -0.2004083530 & 0.0196220726 & -10.213414 &  1.726797e-24\\\\\n",
       "\t Chemical\\_Engineering                         &  0.1222164860 & 0.0197326971 &   6.193603 &  5.880434e-10\\\\\n",
       "\t Physics\\_and\\_Astronomy                        & -0.2542905422 & 0.0145492835 & -17.477874 &  2.112295e-68\\\\\n",
       "\t Computer\\_Science                             & -0.1009100586 & 0.0136455250 &  -7.395103 &  1.412990e-13\\\\\n",
       "\t Decision\\_Sciences                            & -0.1489836640 & 0.0297411777 &  -5.009340 &  5.461708e-07\\\\\n",
       "\t Health\\_Professions                           &  0.8792981259 & 0.0133093062 &  66.066413 &  0.000000e+00\\\\\n",
       "\t Psychology                                   & -0.1130371846 & 0.0126068645 &  -8.966320 &  3.065856e-19\\\\\n",
       "\t Immunology\\_and\\_Microbiology                  &  0.1069423981 & 0.0104369306 &  10.246537 &  1.226593e-24\\\\\n",
       "\t Dentistry                                    & -1.4399627096 & 0.0677316460 & -21.259822 & 2.674310e-100\\\\\n",
       "\t Earth\\_and\\_Planetary\\_Sciences                 & -0.3854458073 & 0.0113218979 & -34.044275 & 4.933091e-254\\\\\n",
       "\t Environmental\\_Science                        & -0.1298559962 & 0.0081842538 & -15.866565 &  1.079914e-56\\\\\n",
       "\t Mathematics                                  &  0.3944888718 & 0.0182003841 &  21.674755 & 3.551197e-104\\\\\n",
       "\t Arts\\_and\\_Humanities                          & -0.2296916005 & 0.0246550333 &  -9.316215 &  1.205642e-20\\\\\n",
       "\t Energy                                       & -0.9035752307 & 0.0266725019 & -33.876658 & 1.470328e-251\\\\\n",
       "\t Veterinary                                   & -1.0534746202 & 0.0336793183 & -31.279571 & 8.848489e-215\\\\\n",
       "\t General                                      &  0.5724619157 & 0.0132843727 &  43.092883 &  0.000000e+00\\\\\n",
       "\t genderFemale:self\\_promotionTrue              & -0.0876155196 & 0.0083365254 & -10.509837 &  7.782831e-26\\\\\n",
       "\\end{tabular}\n"
      ],
      "text/markdown": [
       "\n",
       "A tibble: 46 × 5\n",
       "\n",
       "| term &lt;chr&gt; | estimate &lt;dbl&gt; | std.error &lt;dbl&gt; | statistic &lt;dbl&gt; | p.value &lt;dbl&gt; |\n",
       "|---|---|---|---|---|\n",
       "| (Intercept)                                  | -1.0863132302 | 0.0169117219 | -64.234336 |  0.000000e+00 |\n",
       "| genderFemale                                 |  0.1357222726 | 0.0058153946 |  23.338446 | 1.805720e-120 |\n",
       "| self_promotionTrue                           |  1.2716122186 | 0.0048341140 | 263.049695 |  0.000000e+00 |\n",
       "| authorship_posfirst_position                 |  0.0618635652 | 0.0063306594 |   9.772057 |  1.484076e-22 |\n",
       "| authorship_posmiddle_position                |  0.3039535696 | 0.0049154764 |  61.836034 |  0.000000e+00 |\n",
       "| authorship_possolo_author                    | -0.2620250172 | 0.0119059613 | -22.007884 | 2.420265e-107 |\n",
       "| follower_cn_snapshot_log                     |  0.0959089444 | 0.0010402839 |  92.194974 |  0.000000e+00 |\n",
       "| author_pub_count_cate                        | -0.1887934776 | 0.0020472970 | -92.215968 |  0.000000e+00 |\n",
       "| affiliation_rank_cate                        | -0.0198679448 | 0.0007318678 | -27.146905 | 2.754286e-162 |\n",
       "| affiliation_cateinternational                |  0.0445921754 | 0.0042713970 |  10.439717 |  1.632968e-25 |\n",
       "| num_authors                                  |  0.0009398634 | 0.0000172604 |  54.452011 |  0.000000e+00 |\n",
       "| journal_impact                               |  0.0619346308 | 0.0002576049 | 240.424867 |  0.000000e+00 |\n",
       "| author_citation_log                          |  0.0979754940 | 0.0012062753 |  81.221507 |  0.000000e+00 |\n",
       "| pub_year2014                                 |  0.3084884683 | 0.0125611032 |  24.559027 | 3.463923e-133 |\n",
       "| pub_year2015                                 |  0.4556132231 | 0.0116909979 |  38.971286 |  0.000000e+00 |\n",
       "| pub_year2016                                 |  0.6233015067 | 0.0112950526 |  55.183586 |  0.000000e+00 |\n",
       "| pub_year2017                                 |  0.9250334327 | 0.0110716088 |  83.550047 |  0.000000e+00 |\n",
       "| pub_year2018                                 |  1.0993221230 | 0.0109255312 | 100.619559 |  0.000000e+00 |\n",
       "| Social_Sciences                              | -0.0914495742 | 0.0087261347 | -10.479964 |  1.067848e-25 |\n",
       "| Materials_Science                            | -0.4872034852 | 0.0185307632 | -26.291604 | 2.392256e-152 |\n",
       "| Engineering                                  | -0.4534010393 | 0.0146824506 | -30.880474 | 2.184688e-209 |\n",
       "| Chemistry                                    | -0.6964150512 | 0.0136820420 | -50.899935 |  0.000000e+00 |\n",
       "| Biochemistry__Genetics_and_Molecular_Biology |  0.1765493723 | 0.0054937034 |  32.136677 | 1.355916e-226 |\n",
       "| Medicine                                     | -0.4227969246 | 0.0044501626 | -95.007074 |  0.000000e+00 |\n",
       "| Nursing                                      |  0.2679795174 | 0.0121134898 |  22.122404 | 1.923972e-108 |\n",
       "| Agricultural_and_Biological_Sciences         |  0.4009679091 | 0.0063408968 |  63.235205 |  0.000000e+00 |\n",
       "| Pharmacology__Toxicology_and_Pharmaceutics   | -0.5679592041 | 0.0148219214 | -38.318865 |  0.000000e+00 |\n",
       "| Neuroscience                                 | -0.0356742804 | 0.0092152421 |  -3.871226 |  1.082895e-04 |\n",
       "| Business__Management_and_Accounting          | -0.3800146586 | 0.0181378328 | -20.951492 |  1.818442e-97 |\n",
       "| Economics__Econometrics_and_Finance          | -0.2004083530 | 0.0196220726 | -10.213414 |  1.726797e-24 |\n",
       "| Chemical_Engineering                         |  0.1222164860 | 0.0197326971 |   6.193603 |  5.880434e-10 |\n",
       "| Physics_and_Astronomy                        | -0.2542905422 | 0.0145492835 | -17.477874 |  2.112295e-68 |\n",
       "| Computer_Science                             | -0.1009100586 | 0.0136455250 |  -7.395103 |  1.412990e-13 |\n",
       "| Decision_Sciences                            | -0.1489836640 | 0.0297411777 |  -5.009340 |  5.461708e-07 |\n",
       "| Health_Professions                           |  0.8792981259 | 0.0133093062 |  66.066413 |  0.000000e+00 |\n",
       "| Psychology                                   | -0.1130371846 | 0.0126068645 |  -8.966320 |  3.065856e-19 |\n",
       "| Immunology_and_Microbiology                  |  0.1069423981 | 0.0104369306 |  10.246537 |  1.226593e-24 |\n",
       "| Dentistry                                    | -1.4399627096 | 0.0677316460 | -21.259822 | 2.674310e-100 |\n",
       "| Earth_and_Planetary_Sciences                 | -0.3854458073 | 0.0113218979 | -34.044275 | 4.933091e-254 |\n",
       "| Environmental_Science                        | -0.1298559962 | 0.0081842538 | -15.866565 |  1.079914e-56 |\n",
       "| Mathematics                                  |  0.3944888718 | 0.0182003841 |  21.674755 | 3.551197e-104 |\n",
       "| Arts_and_Humanities                          | -0.2296916005 | 0.0246550333 |  -9.316215 |  1.205642e-20 |\n",
       "| Energy                                       | -0.9035752307 | 0.0266725019 | -33.876658 | 1.470328e-251 |\n",
       "| Veterinary                                   | -1.0534746202 | 0.0336793183 | -31.279571 | 8.848489e-215 |\n",
       "| General                                      |  0.5724619157 | 0.0132843727 |  43.092883 |  0.000000e+00 |\n",
       "| genderFemale:self_promotionTrue              | -0.0876155196 | 0.0083365254 | -10.509837 |  7.782831e-26 |\n",
       "\n"
      ],
      "text/plain": [
       "   term                                         estimate      std.error   \n",
       "1  (Intercept)                                  -1.0863132302 0.0169117219\n",
       "2  genderFemale                                  0.1357222726 0.0058153946\n",
       "3  self_promotionTrue                            1.2716122186 0.0048341140\n",
       "4  authorship_posfirst_position                  0.0618635652 0.0063306594\n",
       "5  authorship_posmiddle_position                 0.3039535696 0.0049154764\n",
       "6  authorship_possolo_author                    -0.2620250172 0.0119059613\n",
       "7  follower_cn_snapshot_log                      0.0959089444 0.0010402839\n",
       "8  author_pub_count_cate                        -0.1887934776 0.0020472970\n",
       "9  affiliation_rank_cate                        -0.0198679448 0.0007318678\n",
       "10 affiliation_cateinternational                 0.0445921754 0.0042713970\n",
       "11 num_authors                                   0.0009398634 0.0000172604\n",
       "12 journal_impact                                0.0619346308 0.0002576049\n",
       "13 author_citation_log                           0.0979754940 0.0012062753\n",
       "14 pub_year2014                                  0.3084884683 0.0125611032\n",
       "15 pub_year2015                                  0.4556132231 0.0116909979\n",
       "16 pub_year2016                                  0.6233015067 0.0112950526\n",
       "17 pub_year2017                                  0.9250334327 0.0110716088\n",
       "18 pub_year2018                                  1.0993221230 0.0109255312\n",
       "19 Social_Sciences                              -0.0914495742 0.0087261347\n",
       "20 Materials_Science                            -0.4872034852 0.0185307632\n",
       "21 Engineering                                  -0.4534010393 0.0146824506\n",
       "22 Chemistry                                    -0.6964150512 0.0136820420\n",
       "23 Biochemistry__Genetics_and_Molecular_Biology  0.1765493723 0.0054937034\n",
       "24 Medicine                                     -0.4227969246 0.0044501626\n",
       "25 Nursing                                       0.2679795174 0.0121134898\n",
       "26 Agricultural_and_Biological_Sciences          0.4009679091 0.0063408968\n",
       "27 Pharmacology__Toxicology_and_Pharmaceutics   -0.5679592041 0.0148219214\n",
       "28 Neuroscience                                 -0.0356742804 0.0092152421\n",
       "29 Business__Management_and_Accounting          -0.3800146586 0.0181378328\n",
       "30 Economics__Econometrics_and_Finance          -0.2004083530 0.0196220726\n",
       "31 Chemical_Engineering                          0.1222164860 0.0197326971\n",
       "32 Physics_and_Astronomy                        -0.2542905422 0.0145492835\n",
       "33 Computer_Science                             -0.1009100586 0.0136455250\n",
       "34 Decision_Sciences                            -0.1489836640 0.0297411777\n",
       "35 Health_Professions                            0.8792981259 0.0133093062\n",
       "36 Psychology                                   -0.1130371846 0.0126068645\n",
       "37 Immunology_and_Microbiology                   0.1069423981 0.0104369306\n",
       "38 Dentistry                                    -1.4399627096 0.0677316460\n",
       "39 Earth_and_Planetary_Sciences                 -0.3854458073 0.0113218979\n",
       "40 Environmental_Science                        -0.1298559962 0.0081842538\n",
       "41 Mathematics                                   0.3944888718 0.0182003841\n",
       "42 Arts_and_Humanities                          -0.2296916005 0.0246550333\n",
       "43 Energy                                       -0.9035752307 0.0266725019\n",
       "44 Veterinary                                   -1.0534746202 0.0336793183\n",
       "45 General                                       0.5724619157 0.0132843727\n",
       "46 genderFemale:self_promotionTrue              -0.0876155196 0.0083365254\n",
       "   statistic  p.value      \n",
       "1  -64.234336  0.000000e+00\n",
       "2   23.338446 1.805720e-120\n",
       "3  263.049695  0.000000e+00\n",
       "4    9.772057  1.484076e-22\n",
       "5   61.836034  0.000000e+00\n",
       "6  -22.007884 2.420265e-107\n",
       "7   92.194974  0.000000e+00\n",
       "8  -92.215968  0.000000e+00\n",
       "9  -27.146905 2.754286e-162\n",
       "10  10.439717  1.632968e-25\n",
       "11  54.452011  0.000000e+00\n",
       "12 240.424867  0.000000e+00\n",
       "13  81.221507  0.000000e+00\n",
       "14  24.559027 3.463923e-133\n",
       "15  38.971286  0.000000e+00\n",
       "16  55.183586  0.000000e+00\n",
       "17  83.550047  0.000000e+00\n",
       "18 100.619559  0.000000e+00\n",
       "19 -10.479964  1.067848e-25\n",
       "20 -26.291604 2.392256e-152\n",
       "21 -30.880474 2.184688e-209\n",
       "22 -50.899935  0.000000e+00\n",
       "23  32.136677 1.355916e-226\n",
       "24 -95.007074  0.000000e+00\n",
       "25  22.122404 1.923972e-108\n",
       "26  63.235205  0.000000e+00\n",
       "27 -38.318865  0.000000e+00\n",
       "28  -3.871226  1.082895e-04\n",
       "29 -20.951492  1.818442e-97\n",
       "30 -10.213414  1.726797e-24\n",
       "31   6.193603  5.880434e-10\n",
       "32 -17.477874  2.112295e-68\n",
       "33  -7.395103  1.412990e-13\n",
       "34  -5.009340  5.461708e-07\n",
       "35  66.066413  0.000000e+00\n",
       "36  -8.966320  3.065856e-19\n",
       "37  10.246537  1.226593e-24\n",
       "38 -21.259822 2.674310e-100\n",
       "39 -34.044275 4.933091e-254\n",
       "40 -15.866565  1.079914e-56\n",
       "41  21.674755 3.551197e-104\n",
       "42  -9.316215  1.205642e-20\n",
       "43 -33.876658 1.470328e-251\n",
       "44 -31.279571 8.848489e-215\n",
       "45  43.092883  0.000000e+00\n",
       "46 -10.509837  7.782831e-26"
      ]
     },
     "metadata": {},
     "output_type": "display_data"
    }
   ],
   "source": [
    "tidy(m_yes)"
   ]
  },
  {
   "cell_type": "code",
   "execution_count": 28,
   "id": "baac9ea9",
   "metadata": {
    "scrolled": true
   },
   "outputs": [
    {
     "data": {
      "text/html": [
       "0.363781463642314"
      ],
      "text/latex": [
       "0.363781463642314"
      ],
      "text/markdown": [
       "0.363781463642314"
      ],
      "text/plain": [
       "[1] 0.3637815"
      ]
     },
     "metadata": {},
     "output_type": "display_data"
    }
   ],
   "source": [
    "# you're trying to measure the ratio of the deviance in your model to the null; how much better your model is (residual deviance) than just the intercept (null deviance). If that ratio is tiny, you're 'explaining' most of the deviance in the null; 1 minus that gets you your R-squared.\n",
    "with(summary(m_yes), 1 - deviance/null.deviance)\n"
   ]
  },
  {
   "cell_type": "code",
   "execution_count": 29,
   "id": "74b7cb06",
   "metadata": {
    "scrolled": true
   },
   "outputs": [
    {
     "name": "stdout",
     "output_type": "stream",
     "text": [
      "\n",
      "% Table created by stargazer v.5.2.3 by Marek Hlavac, Social Policy Institute. E-mail: marek.hlavac at gmail.com\n",
      "% Date and time: Wed, Nov 23, 2022 - 11:59:06 PM\n",
      "\\begin{table}[!htbp] \\centering \n",
      "  \\caption{} \n",
      "  \\label{} \n",
      "\\begin{tabular}{@{\\extracolsep{5pt}}lc} \n",
      "\\\\[-1.8ex]\\hline \n",
      "\\hline \\\\[-1.8ex] \n",
      " & \\multicolumn{1}{c}{\\textit{Dependent variable:}} \\\\ \n",
      "\\cline{2-2} \n",
      "\\\\[-1.8ex] & researcher \\\\ \n",
      "\\hline \\\\[-1.8ex] \n",
      " genderFemale & 0.136$^{***}$ \\\\ \n",
      "  & p = 0.000 \\\\ \n",
      "  self\\_promotionTrue & 1.272$^{***}$ \\\\ \n",
      "  & p = 0.000 \\\\ \n",
      "  authorship\\_posfirst\\_position & 0.062$^{***}$ \\\\ \n",
      "  & p = 0.000 \\\\ \n",
      "  authorship\\_posmiddle\\_position & 0.304$^{***}$ \\\\ \n",
      "  & p = 0.000 \\\\ \n",
      "  authorship\\_possolo\\_author & $-$0.262$^{***}$ \\\\ \n",
      "  & p = 0.000 \\\\ \n",
      "  follower\\_cn\\_snapshot\\_log & 0.096$^{***}$ \\\\ \n",
      "  & p = 0.000 \\\\ \n",
      "  author\\_pub\\_count\\_cate & $-$0.189$^{***}$ \\\\ \n",
      "  & p = 0.000 \\\\ \n",
      "  affiliation\\_rank\\_cate & $-$0.020$^{***}$ \\\\ \n",
      "  & p = 0.000 \\\\ \n",
      "  affiliation\\_cateinternational & 0.045$^{***}$ \\\\ \n",
      "  & p = 0.000 \\\\ \n",
      "  num\\_authors & 0.001$^{***}$ \\\\ \n",
      "  & p = 0.000 \\\\ \n",
      "  journal\\_impact & 0.062$^{***}$ \\\\ \n",
      "  & p = 0.000 \\\\ \n",
      "  author\\_citation\\_log & 0.098$^{***}$ \\\\ \n",
      "  & p = 0.000 \\\\ \n",
      "  pub\\_year2014 & 0.308$^{***}$ \\\\ \n",
      "  & p = 0.000 \\\\ \n",
      "  pub\\_year2015 & 0.456$^{***}$ \\\\ \n",
      "  & p = 0.000 \\\\ \n",
      "  pub\\_year2016 & 0.623$^{***}$ \\\\ \n",
      "  & p = 0.000 \\\\ \n",
      "  pub\\_year2017 & 0.925$^{***}$ \\\\ \n",
      "  & p = 0.000 \\\\ \n",
      "  pub\\_year2018 & 1.099$^{***}$ \\\\ \n",
      "  & p = 0.000 \\\\ \n",
      "  Social\\_Sciences & $-$0.091$^{***}$ \\\\ \n",
      "  & p = 0.000 \\\\ \n",
      "  Materials\\_Science & $-$0.487$^{***}$ \\\\ \n",
      "  & p = 0.000 \\\\ \n",
      "  Engineering & $-$0.453$^{***}$ \\\\ \n",
      "  & p = 0.000 \\\\ \n",
      "  Chemistry & $-$0.696$^{***}$ \\\\ \n",
      "  & p = 0.000 \\\\ \n",
      "  Biochemistry\\_\\_Genetics\\_and\\_Molecular\\_Biology & 0.177$^{***}$ \\\\ \n",
      "  & p = 0.000 \\\\ \n",
      "  Medicine & $-$0.423$^{***}$ \\\\ \n",
      "  & p = 0.000 \\\\ \n",
      "  Nursing & 0.268$^{***}$ \\\\ \n",
      "  & p = 0.000 \\\\ \n",
      "  Agricultural\\_and\\_Biological\\_Sciences & 0.401$^{***}$ \\\\ \n",
      "  & p = 0.000 \\\\ \n",
      "  Pharmacology\\_\\_Toxicology\\_and\\_Pharmaceutics & $-$0.568$^{***}$ \\\\ \n",
      "  & p = 0.000 \\\\ \n",
      "  Neuroscience & $-$0.036$^{***}$ \\\\ \n",
      "  & p = 0.0002 \\\\ \n",
      "  Business\\_\\_Management\\_and\\_Accounting & $-$0.380$^{***}$ \\\\ \n",
      "  & p = 0.000 \\\\ \n",
      "  Economics\\_\\_Econometrics\\_and\\_Finance & $-$0.200$^{***}$ \\\\ \n",
      "  & p = 0.000 \\\\ \n",
      "  Chemical\\_Engineering & 0.122$^{***}$ \\\\ \n",
      "  & p = 0.000 \\\\ \n",
      "  Physics\\_and\\_Astronomy & $-$0.254$^{***}$ \\\\ \n",
      "  & p = 0.000 \\\\ \n",
      "  Computer\\_Science & $-$0.101$^{***}$ \\\\ \n",
      "  & p = 0.000 \\\\ \n",
      "  Decision\\_Sciences & $-$0.149$^{***}$ \\\\ \n",
      "  & p = 0.00000 \\\\ \n",
      "  Health\\_Professions & 0.879$^{***}$ \\\\ \n",
      "  & p = 0.000 \\\\ \n",
      "  Psychology & $-$0.113$^{***}$ \\\\ \n",
      "  & p = 0.000 \\\\ \n",
      "  Immunology\\_and\\_Microbiology & 0.107$^{***}$ \\\\ \n",
      "  & p = 0.000 \\\\ \n",
      "  Dentistry & $-$1.440$^{***}$ \\\\ \n",
      "  & p = 0.000 \\\\ \n",
      "  Earth\\_and\\_Planetary\\_Sciences & $-$0.385$^{***}$ \\\\ \n",
      "  & p = 0.000 \\\\ \n",
      "  Environmental\\_Science & $-$0.130$^{***}$ \\\\ \n",
      "  & p = 0.000 \\\\ \n",
      "  Mathematics & 0.394$^{***}$ \\\\ \n",
      "  & p = 0.000 \\\\ \n",
      "  Arts\\_and\\_Humanities & $-$0.230$^{***}$ \\\\ \n",
      "  & p = 0.000 \\\\ \n",
      "  Energy & $-$0.904$^{***}$ \\\\ \n",
      "  & p = 0.000 \\\\ \n",
      "  Veterinary & $-$1.053$^{***}$ \\\\ \n",
      "  & p = 0.000 \\\\ \n",
      "  General & 0.572$^{***}$ \\\\ \n",
      "  & p = 0.000 \\\\ \n",
      "  genderFemale:self\\_promotionTrue & $-$0.088$^{***}$ \\\\ \n",
      "  & p = 0.000 \\\\ \n",
      "  Constant & $-$1.086$^{***}$ \\\\ \n",
      "  & p = 0.000 \\\\ \n",
      " \\hline \\\\[-1.8ex] \n",
      "Observations & 618,742 \\\\ \n",
      "Log Likelihood & $-$1,479,922.000 \\\\ \n",
      "$\\theta$ & 0.534$^{***}$  (0.001) \\\\ \n",
      "Akaike Inf. Crit. & 2,959,936.000 \\\\ \n",
      "\\hline \n",
      "\\hline \\\\[-1.8ex] \n",
      "\\textit{Note:}  & \\multicolumn{1}{r}{$^{*}$p$<$0.05; $^{**}$p$<$0.01; $^{***}$p$<$0.001} \\\\ \n",
      "\\end{tabular} \n",
      "\\end{table} \n"
     ]
    }
   ],
   "source": [
    "# use this search string in Sublime: \" \\\\\\\\ \\n  &\" with \" &\"\n",
    "stargazer(m_yes, type = \"latex\", single.row=TRUE, ci = FALSE, report = ('vc*p'), star.cutoffs = c(0.05, 0.01, 0.001))"
   ]
  },
  {
   "cell_type": "markdown",
   "id": "2186f96c",
   "metadata": {},
   "source": [
    "## Num of non-scientists"
   ]
  },
  {
   "cell_type": "markdown",
   "id": "45a6004f",
   "metadata": {},
   "source": [
    "### Active subset"
   ]
  },
  {
   "cell_type": "markdown",
   "id": "1f58de98",
   "metadata": {},
   "source": [
    "Negative Binomial Regression"
   ]
  },
  {
   "cell_type": "code",
   "execution_count": 30,
   "id": "74230280",
   "metadata": {},
   "outputs": [],
   "source": [
    "base_str <- \"num_non_scientists ~ 1 + gender * self_promotion + authorship_pos + follower_cn_snapshot_log + \\\n",
    "        author_pub_count_cate + affiliation_rank_cate + affiliation_cate + num_authors + journal_impact + \\\n",
    "        author_citation_log + pub_year\"\n",
    "equation <- as.formula(paste(base_str, keywords, sep = \" \"))\n",
    "m_yes <- glm.nb(equation, data = mydata[mydata$is_active_on_twitter == \"True\", ])"
   ]
  },
  {
   "cell_type": "code",
   "execution_count": 31,
   "id": "6a8fa280",
   "metadata": {
    "scrolled": true
   },
   "outputs": [
    {
     "data": {
      "text/html": [
       "<table class=\"dataframe\">\n",
       "<caption>A tibble: 46 × 5</caption>\n",
       "<thead>\n",
       "\t<tr><th scope=col>term</th><th scope=col>estimate</th><th scope=col>std.error</th><th scope=col>statistic</th><th scope=col>p.value</th></tr>\n",
       "\t<tr><th scope=col>&lt;chr&gt;</th><th scope=col>&lt;dbl&gt;</th><th scope=col>&lt;dbl&gt;</th><th scope=col>&lt;dbl&gt;</th><th scope=col>&lt;dbl&gt;</th></tr>\n",
       "</thead>\n",
       "<tbody>\n",
       "\t<tr><td>(Intercept)                                 </td><td> 0.035674698</td><td>1.520275e-02</td><td>  2.3465953</td><td> 1.894582e-02</td></tr>\n",
       "\t<tr><td>genderFemale                                </td><td> 0.145484229</td><td>5.210922e-03</td><td> 27.9190929</td><td>1.564857e-171</td></tr>\n",
       "\t<tr><td>self_promotionTrue                          </td><td> 1.120696627</td><td>4.471013e-03</td><td>250.6583263</td><td> 0.000000e+00</td></tr>\n",
       "\t<tr><td>authorship_posfirst_position                </td><td> 0.126166871</td><td>5.810908e-03</td><td> 21.7120738</td><td>1.577760e-104</td></tr>\n",
       "\t<tr><td>authorship_posmiddle_position               </td><td> 0.277811146</td><td>4.492993e-03</td><td> 61.8320860</td><td> 0.000000e+00</td></tr>\n",
       "\t<tr><td>authorship_possolo_author                   </td><td>-0.181863672</td><td>1.084153e-02</td><td>-16.7747257</td><td> 3.735800e-63</td></tr>\n",
       "\t<tr><td>follower_cn_snapshot_log                    </td><td> 0.092311363</td><td>9.540098e-04</td><td> 96.7614379</td><td> 0.000000e+00</td></tr>\n",
       "\t<tr><td>author_pub_count_cate                       </td><td>-0.078904653</td><td>1.882757e-03</td><td>-41.9090985</td><td> 0.000000e+00</td></tr>\n",
       "\t<tr><td>affiliation_rank_cate                       </td><td>-0.009664552</td><td>6.725818e-04</td><td>-14.3693335</td><td> 8.060322e-47</td></tr>\n",
       "\t<tr><td>affiliation_cateinternational               </td><td> 0.065791220</td><td>3.932545e-03</td><td> 16.7299352</td><td> 7.932457e-63</td></tr>\n",
       "\t<tr><td>num_authors                                 </td><td> 0.001029887</td><td>1.656477e-05</td><td> 62.1733264</td><td> 0.000000e+00</td></tr>\n",
       "\t<tr><td>journal_impact                              </td><td> 0.064308318</td><td>2.470266e-04</td><td>260.3295297</td><td> 0.000000e+00</td></tr>\n",
       "\t<tr><td>author_citation_log                         </td><td> 0.040033028</td><td>1.106664e-03</td><td> 36.1745095</td><td>1.532435e-286</td></tr>\n",
       "\t<tr><td>pub_year2014                                </td><td> 0.228456656</td><td>1.102702e-02</td><td> 20.7179015</td><td> 2.388717e-95</td></tr>\n",
       "\t<tr><td>pub_year2015                                </td><td> 0.378251997</td><td>1.025429e-02</td><td> 36.8871825</td><td>7.417573e-298</td></tr>\n",
       "\t<tr><td>pub_year2016                                </td><td> 0.495064585</td><td>9.906883e-03</td><td> 49.9717788</td><td> 0.000000e+00</td></tr>\n",
       "\t<tr><td>pub_year2017                                </td><td> 0.734361324</td><td>9.718832e-03</td><td> 75.5606577</td><td> 0.000000e+00</td></tr>\n",
       "\t<tr><td>pub_year2018                                </td><td> 0.863923886</td><td>9.585483e-03</td><td> 90.1283621</td><td> 0.000000e+00</td></tr>\n",
       "\t<tr><td>Social_Sciences                             </td><td>-0.140268479</td><td>7.972307e-03</td><td>-17.5944646</td><td> 2.716104e-69</td></tr>\n",
       "\t<tr><td>Materials_Science                           </td><td>-0.621191552</td><td>1.695934e-02</td><td>-36.6282844</td><td>1.014571e-293</td></tr>\n",
       "\t<tr><td>Engineering                                 </td><td>-0.188040994</td><td>1.303397e-02</td><td>-14.4269938</td><td> 3.500071e-47</td></tr>\n",
       "\t<tr><td>Chemistry                                   </td><td>-1.176078686</td><td>1.271793e-02</td><td>-92.4740318</td><td> 0.000000e+00</td></tr>\n",
       "\t<tr><td>Biochemistry__Genetics_and_Molecular_Biology</td><td>-0.219523048</td><td>5.119711e-03</td><td>-42.8780174</td><td> 0.000000e+00</td></tr>\n",
       "\t<tr><td>Medicine                                    </td><td> 0.046477525</td><td>4.076406e-03</td><td> 11.4015933</td><td> 4.105358e-30</td></tr>\n",
       "\t<tr><td>Nursing                                     </td><td> 0.293331447</td><td>1.103881e-02</td><td> 26.5727487</td><td>1.402301e-155</td></tr>\n",
       "\t<tr><td>Agricultural_and_Biological_Sciences        </td><td> 0.337564196</td><td>5.951641e-03</td><td> 56.7178373</td><td> 0.000000e+00</td></tr>\n",
       "\t<tr><td>Pharmacology__Toxicology_and_Pharmaceutics  </td><td>-0.343879630</td><td>1.283794e-02</td><td>-26.7862057</td><td>4.678466e-158</td></tr>\n",
       "\t<tr><td>Neuroscience                                </td><td> 0.067847664</td><td>8.432516e-03</td><td>  8.0459577</td><td> 8.557352e-16</td></tr>\n",
       "\t<tr><td>Business__Management_and_Accounting         </td><td>-0.458870194</td><td>1.630671e-02</td><td>-28.1399697</td><td>3.179162e-174</td></tr>\n",
       "\t<tr><td>Economics__Econometrics_and_Finance         </td><td>-0.018847459</td><td>1.776165e-02</td><td> -1.0611322</td><td> 2.886298e-01</td></tr>\n",
       "\t<tr><td>Chemical_Engineering                        </td><td> 0.071325320</td><td>1.835687e-02</td><td>  3.8854827</td><td> 1.021268e-04</td></tr>\n",
       "\t<tr><td>Physics_and_Astronomy                       </td><td>-0.576785887</td><td>1.331792e-02</td><td>-43.3090037</td><td> 0.000000e+00</td></tr>\n",
       "\t<tr><td>Computer_Science                            </td><td>-0.213115683</td><td>1.250137e-02</td><td>-17.0473863</td><td> 3.655165e-65</td></tr>\n",
       "\t<tr><td>Decision_Sciences                           </td><td>-0.402199507</td><td>2.738611e-02</td><td>-14.6862575</td><td> 7.895579e-49</td></tr>\n",
       "\t<tr><td>Health_Professions                          </td><td> 0.645955381</td><td>1.253309e-02</td><td> 51.5399959</td><td> 0.000000e+00</td></tr>\n",
       "\t<tr><td>Psychology                                  </td><td>-0.007718987</td><td>1.140924e-02</td><td> -0.6765556</td><td> 4.986879e-01</td></tr>\n",
       "\t<tr><td>Immunology_and_Microbiology                 </td><td>-0.075629736</td><td>9.719120e-03</td><td> -7.7815415</td><td> 7.164612e-15</td></tr>\n",
       "\t<tr><td>Dentistry                                   </td><td>-0.752661819</td><td>5.004737e-02</td><td>-15.0389881</td><td> 4.077352e-51</td></tr>\n",
       "\t<tr><td>Earth_and_Planetary_Sciences                </td><td>-0.385536004</td><td>1.037225e-02</td><td>-37.1699445</td><td>2.088184e-302</td></tr>\n",
       "\t<tr><td>Environmental_Science                       </td><td>-0.192416989</td><td>7.617901e-03</td><td>-25.2585313</td><td>9.127384e-141</td></tr>\n",
       "\t<tr><td>Mathematics                                 </td><td> 0.284948233</td><td>1.700888e-02</td><td> 16.7529056</td><td> 5.392683e-63</td></tr>\n",
       "\t<tr><td>Arts_and_Humanities                         </td><td>-0.115654748</td><td>2.228156e-02</td><td> -5.1906033</td><td> 2.096138e-07</td></tr>\n",
       "\t<tr><td>Energy                                      </td><td>-0.660338999</td><td>2.296850e-02</td><td>-28.7497689</td><td>9.118019e-182</td></tr>\n",
       "\t<tr><td>Veterinary                                  </td><td>-0.518011310</td><td>2.796350e-02</td><td>-18.5245509</td><td> 1.308907e-76</td></tr>\n",
       "\t<tr><td>General                                     </td><td> 0.505450493</td><td>1.279499e-02</td><td> 39.5037899</td><td> 0.000000e+00</td></tr>\n",
       "\t<tr><td>genderFemale:self_promotionTrue             </td><td>-0.125330166</td><td>7.718855e-03</td><td>-16.2368851</td><td> 2.766177e-59</td></tr>\n",
       "</tbody>\n",
       "</table>\n"
      ],
      "text/latex": [
       "A tibble: 46 × 5\n",
       "\\begin{tabular}{lllll}\n",
       " term & estimate & std.error & statistic & p.value\\\\\n",
       " <chr> & <dbl> & <dbl> & <dbl> & <dbl>\\\\\n",
       "\\hline\n",
       "\t (Intercept)                                  &  0.035674698 & 1.520275e-02 &   2.3465953 &  1.894582e-02\\\\\n",
       "\t genderFemale                                 &  0.145484229 & 5.210922e-03 &  27.9190929 & 1.564857e-171\\\\\n",
       "\t self\\_promotionTrue                           &  1.120696627 & 4.471013e-03 & 250.6583263 &  0.000000e+00\\\\\n",
       "\t authorship\\_posfirst\\_position                 &  0.126166871 & 5.810908e-03 &  21.7120738 & 1.577760e-104\\\\\n",
       "\t authorship\\_posmiddle\\_position                &  0.277811146 & 4.492993e-03 &  61.8320860 &  0.000000e+00\\\\\n",
       "\t authorship\\_possolo\\_author                    & -0.181863672 & 1.084153e-02 & -16.7747257 &  3.735800e-63\\\\\n",
       "\t follower\\_cn\\_snapshot\\_log                     &  0.092311363 & 9.540098e-04 &  96.7614379 &  0.000000e+00\\\\\n",
       "\t author\\_pub\\_count\\_cate                        & -0.078904653 & 1.882757e-03 & -41.9090985 &  0.000000e+00\\\\\n",
       "\t affiliation\\_rank\\_cate                        & -0.009664552 & 6.725818e-04 & -14.3693335 &  8.060322e-47\\\\\n",
       "\t affiliation\\_cateinternational                &  0.065791220 & 3.932545e-03 &  16.7299352 &  7.932457e-63\\\\\n",
       "\t num\\_authors                                  &  0.001029887 & 1.656477e-05 &  62.1733264 &  0.000000e+00\\\\\n",
       "\t journal\\_impact                               &  0.064308318 & 2.470266e-04 & 260.3295297 &  0.000000e+00\\\\\n",
       "\t author\\_citation\\_log                          &  0.040033028 & 1.106664e-03 &  36.1745095 & 1.532435e-286\\\\\n",
       "\t pub\\_year2014                                 &  0.228456656 & 1.102702e-02 &  20.7179015 &  2.388717e-95\\\\\n",
       "\t pub\\_year2015                                 &  0.378251997 & 1.025429e-02 &  36.8871825 & 7.417573e-298\\\\\n",
       "\t pub\\_year2016                                 &  0.495064585 & 9.906883e-03 &  49.9717788 &  0.000000e+00\\\\\n",
       "\t pub\\_year2017                                 &  0.734361324 & 9.718832e-03 &  75.5606577 &  0.000000e+00\\\\\n",
       "\t pub\\_year2018                                 &  0.863923886 & 9.585483e-03 &  90.1283621 &  0.000000e+00\\\\\n",
       "\t Social\\_Sciences                              & -0.140268479 & 7.972307e-03 & -17.5944646 &  2.716104e-69\\\\\n",
       "\t Materials\\_Science                            & -0.621191552 & 1.695934e-02 & -36.6282844 & 1.014571e-293\\\\\n",
       "\t Engineering                                  & -0.188040994 & 1.303397e-02 & -14.4269938 &  3.500071e-47\\\\\n",
       "\t Chemistry                                    & -1.176078686 & 1.271793e-02 & -92.4740318 &  0.000000e+00\\\\\n",
       "\t Biochemistry\\_\\_Genetics\\_and\\_Molecular\\_Biology & -0.219523048 & 5.119711e-03 & -42.8780174 &  0.000000e+00\\\\\n",
       "\t Medicine                                     &  0.046477525 & 4.076406e-03 &  11.4015933 &  4.105358e-30\\\\\n",
       "\t Nursing                                      &  0.293331447 & 1.103881e-02 &  26.5727487 & 1.402301e-155\\\\\n",
       "\t Agricultural\\_and\\_Biological\\_Sciences         &  0.337564196 & 5.951641e-03 &  56.7178373 &  0.000000e+00\\\\\n",
       "\t Pharmacology\\_\\_Toxicology\\_and\\_Pharmaceutics   & -0.343879630 & 1.283794e-02 & -26.7862057 & 4.678466e-158\\\\\n",
       "\t Neuroscience                                 &  0.067847664 & 8.432516e-03 &   8.0459577 &  8.557352e-16\\\\\n",
       "\t Business\\_\\_Management\\_and\\_Accounting          & -0.458870194 & 1.630671e-02 & -28.1399697 & 3.179162e-174\\\\\n",
       "\t Economics\\_\\_Econometrics\\_and\\_Finance          & -0.018847459 & 1.776165e-02 &  -1.0611322 &  2.886298e-01\\\\\n",
       "\t Chemical\\_Engineering                         &  0.071325320 & 1.835687e-02 &   3.8854827 &  1.021268e-04\\\\\n",
       "\t Physics\\_and\\_Astronomy                        & -0.576785887 & 1.331792e-02 & -43.3090037 &  0.000000e+00\\\\\n",
       "\t Computer\\_Science                             & -0.213115683 & 1.250137e-02 & -17.0473863 &  3.655165e-65\\\\\n",
       "\t Decision\\_Sciences                            & -0.402199507 & 2.738611e-02 & -14.6862575 &  7.895579e-49\\\\\n",
       "\t Health\\_Professions                           &  0.645955381 & 1.253309e-02 &  51.5399959 &  0.000000e+00\\\\\n",
       "\t Psychology                                   & -0.007718987 & 1.140924e-02 &  -0.6765556 &  4.986879e-01\\\\\n",
       "\t Immunology\\_and\\_Microbiology                  & -0.075629736 & 9.719120e-03 &  -7.7815415 &  7.164612e-15\\\\\n",
       "\t Dentistry                                    & -0.752661819 & 5.004737e-02 & -15.0389881 &  4.077352e-51\\\\\n",
       "\t Earth\\_and\\_Planetary\\_Sciences                 & -0.385536004 & 1.037225e-02 & -37.1699445 & 2.088184e-302\\\\\n",
       "\t Environmental\\_Science                        & -0.192416989 & 7.617901e-03 & -25.2585313 & 9.127384e-141\\\\\n",
       "\t Mathematics                                  &  0.284948233 & 1.700888e-02 &  16.7529056 &  5.392683e-63\\\\\n",
       "\t Arts\\_and\\_Humanities                          & -0.115654748 & 2.228156e-02 &  -5.1906033 &  2.096138e-07\\\\\n",
       "\t Energy                                       & -0.660338999 & 2.296850e-02 & -28.7497689 & 9.118019e-182\\\\\n",
       "\t Veterinary                                   & -0.518011310 & 2.796350e-02 & -18.5245509 &  1.308907e-76\\\\\n",
       "\t General                                      &  0.505450493 & 1.279499e-02 &  39.5037899 &  0.000000e+00\\\\\n",
       "\t genderFemale:self\\_promotionTrue              & -0.125330166 & 7.718855e-03 & -16.2368851 &  2.766177e-59\\\\\n",
       "\\end{tabular}\n"
      ],
      "text/markdown": [
       "\n",
       "A tibble: 46 × 5\n",
       "\n",
       "| term &lt;chr&gt; | estimate &lt;dbl&gt; | std.error &lt;dbl&gt; | statistic &lt;dbl&gt; | p.value &lt;dbl&gt; |\n",
       "|---|---|---|---|---|\n",
       "| (Intercept)                                  |  0.035674698 | 1.520275e-02 |   2.3465953 |  1.894582e-02 |\n",
       "| genderFemale                                 |  0.145484229 | 5.210922e-03 |  27.9190929 | 1.564857e-171 |\n",
       "| self_promotionTrue                           |  1.120696627 | 4.471013e-03 | 250.6583263 |  0.000000e+00 |\n",
       "| authorship_posfirst_position                 |  0.126166871 | 5.810908e-03 |  21.7120738 | 1.577760e-104 |\n",
       "| authorship_posmiddle_position                |  0.277811146 | 4.492993e-03 |  61.8320860 |  0.000000e+00 |\n",
       "| authorship_possolo_author                    | -0.181863672 | 1.084153e-02 | -16.7747257 |  3.735800e-63 |\n",
       "| follower_cn_snapshot_log                     |  0.092311363 | 9.540098e-04 |  96.7614379 |  0.000000e+00 |\n",
       "| author_pub_count_cate                        | -0.078904653 | 1.882757e-03 | -41.9090985 |  0.000000e+00 |\n",
       "| affiliation_rank_cate                        | -0.009664552 | 6.725818e-04 | -14.3693335 |  8.060322e-47 |\n",
       "| affiliation_cateinternational                |  0.065791220 | 3.932545e-03 |  16.7299352 |  7.932457e-63 |\n",
       "| num_authors                                  |  0.001029887 | 1.656477e-05 |  62.1733264 |  0.000000e+00 |\n",
       "| journal_impact                               |  0.064308318 | 2.470266e-04 | 260.3295297 |  0.000000e+00 |\n",
       "| author_citation_log                          |  0.040033028 | 1.106664e-03 |  36.1745095 | 1.532435e-286 |\n",
       "| pub_year2014                                 |  0.228456656 | 1.102702e-02 |  20.7179015 |  2.388717e-95 |\n",
       "| pub_year2015                                 |  0.378251997 | 1.025429e-02 |  36.8871825 | 7.417573e-298 |\n",
       "| pub_year2016                                 |  0.495064585 | 9.906883e-03 |  49.9717788 |  0.000000e+00 |\n",
       "| pub_year2017                                 |  0.734361324 | 9.718832e-03 |  75.5606577 |  0.000000e+00 |\n",
       "| pub_year2018                                 |  0.863923886 | 9.585483e-03 |  90.1283621 |  0.000000e+00 |\n",
       "| Social_Sciences                              | -0.140268479 | 7.972307e-03 | -17.5944646 |  2.716104e-69 |\n",
       "| Materials_Science                            | -0.621191552 | 1.695934e-02 | -36.6282844 | 1.014571e-293 |\n",
       "| Engineering                                  | -0.188040994 | 1.303397e-02 | -14.4269938 |  3.500071e-47 |\n",
       "| Chemistry                                    | -1.176078686 | 1.271793e-02 | -92.4740318 |  0.000000e+00 |\n",
       "| Biochemistry__Genetics_and_Molecular_Biology | -0.219523048 | 5.119711e-03 | -42.8780174 |  0.000000e+00 |\n",
       "| Medicine                                     |  0.046477525 | 4.076406e-03 |  11.4015933 |  4.105358e-30 |\n",
       "| Nursing                                      |  0.293331447 | 1.103881e-02 |  26.5727487 | 1.402301e-155 |\n",
       "| Agricultural_and_Biological_Sciences         |  0.337564196 | 5.951641e-03 |  56.7178373 |  0.000000e+00 |\n",
       "| Pharmacology__Toxicology_and_Pharmaceutics   | -0.343879630 | 1.283794e-02 | -26.7862057 | 4.678466e-158 |\n",
       "| Neuroscience                                 |  0.067847664 | 8.432516e-03 |   8.0459577 |  8.557352e-16 |\n",
       "| Business__Management_and_Accounting          | -0.458870194 | 1.630671e-02 | -28.1399697 | 3.179162e-174 |\n",
       "| Economics__Econometrics_and_Finance          | -0.018847459 | 1.776165e-02 |  -1.0611322 |  2.886298e-01 |\n",
       "| Chemical_Engineering                         |  0.071325320 | 1.835687e-02 |   3.8854827 |  1.021268e-04 |\n",
       "| Physics_and_Astronomy                        | -0.576785887 | 1.331792e-02 | -43.3090037 |  0.000000e+00 |\n",
       "| Computer_Science                             | -0.213115683 | 1.250137e-02 | -17.0473863 |  3.655165e-65 |\n",
       "| Decision_Sciences                            | -0.402199507 | 2.738611e-02 | -14.6862575 |  7.895579e-49 |\n",
       "| Health_Professions                           |  0.645955381 | 1.253309e-02 |  51.5399959 |  0.000000e+00 |\n",
       "| Psychology                                   | -0.007718987 | 1.140924e-02 |  -0.6765556 |  4.986879e-01 |\n",
       "| Immunology_and_Microbiology                  | -0.075629736 | 9.719120e-03 |  -7.7815415 |  7.164612e-15 |\n",
       "| Dentistry                                    | -0.752661819 | 5.004737e-02 | -15.0389881 |  4.077352e-51 |\n",
       "| Earth_and_Planetary_Sciences                 | -0.385536004 | 1.037225e-02 | -37.1699445 | 2.088184e-302 |\n",
       "| Environmental_Science                        | -0.192416989 | 7.617901e-03 | -25.2585313 | 9.127384e-141 |\n",
       "| Mathematics                                  |  0.284948233 | 1.700888e-02 |  16.7529056 |  5.392683e-63 |\n",
       "| Arts_and_Humanities                          | -0.115654748 | 2.228156e-02 |  -5.1906033 |  2.096138e-07 |\n",
       "| Energy                                       | -0.660338999 | 2.296850e-02 | -28.7497689 | 9.118019e-182 |\n",
       "| Veterinary                                   | -0.518011310 | 2.796350e-02 | -18.5245509 |  1.308907e-76 |\n",
       "| General                                      |  0.505450493 | 1.279499e-02 |  39.5037899 |  0.000000e+00 |\n",
       "| genderFemale:self_promotionTrue              | -0.125330166 | 7.718855e-03 | -16.2368851 |  2.766177e-59 |\n",
       "\n"
      ],
      "text/plain": [
       "   term                                         estimate     std.error   \n",
       "1  (Intercept)                                   0.035674698 1.520275e-02\n",
       "2  genderFemale                                  0.145484229 5.210922e-03\n",
       "3  self_promotionTrue                            1.120696627 4.471013e-03\n",
       "4  authorship_posfirst_position                  0.126166871 5.810908e-03\n",
       "5  authorship_posmiddle_position                 0.277811146 4.492993e-03\n",
       "6  authorship_possolo_author                    -0.181863672 1.084153e-02\n",
       "7  follower_cn_snapshot_log                      0.092311363 9.540098e-04\n",
       "8  author_pub_count_cate                        -0.078904653 1.882757e-03\n",
       "9  affiliation_rank_cate                        -0.009664552 6.725818e-04\n",
       "10 affiliation_cateinternational                 0.065791220 3.932545e-03\n",
       "11 num_authors                                   0.001029887 1.656477e-05\n",
       "12 journal_impact                                0.064308318 2.470266e-04\n",
       "13 author_citation_log                           0.040033028 1.106664e-03\n",
       "14 pub_year2014                                  0.228456656 1.102702e-02\n",
       "15 pub_year2015                                  0.378251997 1.025429e-02\n",
       "16 pub_year2016                                  0.495064585 9.906883e-03\n",
       "17 pub_year2017                                  0.734361324 9.718832e-03\n",
       "18 pub_year2018                                  0.863923886 9.585483e-03\n",
       "19 Social_Sciences                              -0.140268479 7.972307e-03\n",
       "20 Materials_Science                            -0.621191552 1.695934e-02\n",
       "21 Engineering                                  -0.188040994 1.303397e-02\n",
       "22 Chemistry                                    -1.176078686 1.271793e-02\n",
       "23 Biochemistry__Genetics_and_Molecular_Biology -0.219523048 5.119711e-03\n",
       "24 Medicine                                      0.046477525 4.076406e-03\n",
       "25 Nursing                                       0.293331447 1.103881e-02\n",
       "26 Agricultural_and_Biological_Sciences          0.337564196 5.951641e-03\n",
       "27 Pharmacology__Toxicology_and_Pharmaceutics   -0.343879630 1.283794e-02\n",
       "28 Neuroscience                                  0.067847664 8.432516e-03\n",
       "29 Business__Management_and_Accounting          -0.458870194 1.630671e-02\n",
       "30 Economics__Econometrics_and_Finance          -0.018847459 1.776165e-02\n",
       "31 Chemical_Engineering                          0.071325320 1.835687e-02\n",
       "32 Physics_and_Astronomy                        -0.576785887 1.331792e-02\n",
       "33 Computer_Science                             -0.213115683 1.250137e-02\n",
       "34 Decision_Sciences                            -0.402199507 2.738611e-02\n",
       "35 Health_Professions                            0.645955381 1.253309e-02\n",
       "36 Psychology                                   -0.007718987 1.140924e-02\n",
       "37 Immunology_and_Microbiology                  -0.075629736 9.719120e-03\n",
       "38 Dentistry                                    -0.752661819 5.004737e-02\n",
       "39 Earth_and_Planetary_Sciences                 -0.385536004 1.037225e-02\n",
       "40 Environmental_Science                        -0.192416989 7.617901e-03\n",
       "41 Mathematics                                   0.284948233 1.700888e-02\n",
       "42 Arts_and_Humanities                          -0.115654748 2.228156e-02\n",
       "43 Energy                                       -0.660338999 2.296850e-02\n",
       "44 Veterinary                                   -0.518011310 2.796350e-02\n",
       "45 General                                       0.505450493 1.279499e-02\n",
       "46 genderFemale:self_promotionTrue              -0.125330166 7.718855e-03\n",
       "   statistic   p.value      \n",
       "1    2.3465953  1.894582e-02\n",
       "2   27.9190929 1.564857e-171\n",
       "3  250.6583263  0.000000e+00\n",
       "4   21.7120738 1.577760e-104\n",
       "5   61.8320860  0.000000e+00\n",
       "6  -16.7747257  3.735800e-63\n",
       "7   96.7614379  0.000000e+00\n",
       "8  -41.9090985  0.000000e+00\n",
       "9  -14.3693335  8.060322e-47\n",
       "10  16.7299352  7.932457e-63\n",
       "11  62.1733264  0.000000e+00\n",
       "12 260.3295297  0.000000e+00\n",
       "13  36.1745095 1.532435e-286\n",
       "14  20.7179015  2.388717e-95\n",
       "15  36.8871825 7.417573e-298\n",
       "16  49.9717788  0.000000e+00\n",
       "17  75.5606577  0.000000e+00\n",
       "18  90.1283621  0.000000e+00\n",
       "19 -17.5944646  2.716104e-69\n",
       "20 -36.6282844 1.014571e-293\n",
       "21 -14.4269938  3.500071e-47\n",
       "22 -92.4740318  0.000000e+00\n",
       "23 -42.8780174  0.000000e+00\n",
       "24  11.4015933  4.105358e-30\n",
       "25  26.5727487 1.402301e-155\n",
       "26  56.7178373  0.000000e+00\n",
       "27 -26.7862057 4.678466e-158\n",
       "28   8.0459577  8.557352e-16\n",
       "29 -28.1399697 3.179162e-174\n",
       "30  -1.0611322  2.886298e-01\n",
       "31   3.8854827  1.021268e-04\n",
       "32 -43.3090037  0.000000e+00\n",
       "33 -17.0473863  3.655165e-65\n",
       "34 -14.6862575  7.895579e-49\n",
       "35  51.5399959  0.000000e+00\n",
       "36  -0.6765556  4.986879e-01\n",
       "37  -7.7815415  7.164612e-15\n",
       "38 -15.0389881  4.077352e-51\n",
       "39 -37.1699445 2.088184e-302\n",
       "40 -25.2585313 9.127384e-141\n",
       "41  16.7529056  5.392683e-63\n",
       "42  -5.1906033  2.096138e-07\n",
       "43 -28.7497689 9.118019e-182\n",
       "44 -18.5245509  1.308907e-76\n",
       "45  39.5037899  0.000000e+00\n",
       "46 -16.2368851  2.766177e-59"
      ]
     },
     "metadata": {},
     "output_type": "display_data"
    }
   ],
   "source": [
    "tidy(m_yes)"
   ]
  },
  {
   "cell_type": "code",
   "execution_count": 32,
   "id": "ac9d85e9",
   "metadata": {
    "scrolled": true
   },
   "outputs": [
    {
     "data": {
      "text/html": [
       "0.32209729978297"
      ],
      "text/latex": [
       "0.32209729978297"
      ],
      "text/markdown": [
       "0.32209729978297"
      ],
      "text/plain": [
       "[1] 0.3220973"
      ]
     },
     "metadata": {},
     "output_type": "display_data"
    }
   ],
   "source": [
    "# you're trying to measure the ratio of the deviance in your model to the null; how much better your model is (residual deviance) than just the intercept (null deviance). If that ratio is tiny, you're 'explaining' most of the deviance in the null; 1 minus that gets you your R-squared.\n",
    "with(summary(m_yes), 1 - deviance/null.deviance)\n"
   ]
  },
  {
   "cell_type": "code",
   "execution_count": 33,
   "id": "fdbcc005",
   "metadata": {
    "scrolled": true
   },
   "outputs": [
    {
     "name": "stdout",
     "output_type": "stream",
     "text": [
      "\n",
      "% Table created by stargazer v.5.2.3 by Marek Hlavac, Social Policy Institute. E-mail: marek.hlavac at gmail.com\n",
      "% Date and time: Thu, Nov 24, 2022 - 12:00:36 AM\n",
      "\\begin{table}[!htbp] \\centering \n",
      "  \\caption{} \n",
      "  \\label{} \n",
      "\\begin{tabular}{@{\\extracolsep{5pt}}lc} \n",
      "\\\\[-1.8ex]\\hline \n",
      "\\hline \\\\[-1.8ex] \n",
      " & \\multicolumn{1}{c}{\\textit{Dependent variable:}} \\\\ \n",
      "\\cline{2-2} \n",
      "\\\\[-1.8ex] & num\\_non\\_scientists \\\\ \n",
      "\\hline \\\\[-1.8ex] \n",
      " genderFemale & 0.145$^{***}$ \\\\ \n",
      "  & p = 0.000 \\\\ \n",
      "  self\\_promotionTrue & 1.121$^{***}$ \\\\ \n",
      "  & p = 0.000 \\\\ \n",
      "  authorship\\_posfirst\\_position & 0.126$^{***}$ \\\\ \n",
      "  & p = 0.000 \\\\ \n",
      "  authorship\\_posmiddle\\_position & 0.278$^{***}$ \\\\ \n",
      "  & p = 0.000 \\\\ \n",
      "  authorship\\_possolo\\_author & $-$0.182$^{***}$ \\\\ \n",
      "  & p = 0.000 \\\\ \n",
      "  follower\\_cn\\_snapshot\\_log & 0.092$^{***}$ \\\\ \n",
      "  & p = 0.000 \\\\ \n",
      "  author\\_pub\\_count\\_cate & $-$0.079$^{***}$ \\\\ \n",
      "  & p = 0.000 \\\\ \n",
      "  affiliation\\_rank\\_cate & $-$0.010$^{***}$ \\\\ \n",
      "  & p = 0.000 \\\\ \n",
      "  affiliation\\_cateinternational & 0.066$^{***}$ \\\\ \n",
      "  & p = 0.000 \\\\ \n",
      "  num\\_authors & 0.001$^{***}$ \\\\ \n",
      "  & p = 0.000 \\\\ \n",
      "  journal\\_impact & 0.064$^{***}$ \\\\ \n",
      "  & p = 0.000 \\\\ \n",
      "  author\\_citation\\_log & 0.040$^{***}$ \\\\ \n",
      "  & p = 0.000 \\\\ \n",
      "  pub\\_year2014 & 0.228$^{***}$ \\\\ \n",
      "  & p = 0.000 \\\\ \n",
      "  pub\\_year2015 & 0.378$^{***}$ \\\\ \n",
      "  & p = 0.000 \\\\ \n",
      "  pub\\_year2016 & 0.495$^{***}$ \\\\ \n",
      "  & p = 0.000 \\\\ \n",
      "  pub\\_year2017 & 0.734$^{***}$ \\\\ \n",
      "  & p = 0.000 \\\\ \n",
      "  pub\\_year2018 & 0.864$^{***}$ \\\\ \n",
      "  & p = 0.000 \\\\ \n",
      "  Social\\_Sciences & $-$0.140$^{***}$ \\\\ \n",
      "  & p = 0.000 \\\\ \n",
      "  Materials\\_Science & $-$0.621$^{***}$ \\\\ \n",
      "  & p = 0.000 \\\\ \n",
      "  Engineering & $-$0.188$^{***}$ \\\\ \n",
      "  & p = 0.000 \\\\ \n",
      "  Chemistry & $-$1.176$^{***}$ \\\\ \n",
      "  & p = 0.000 \\\\ \n",
      "  Biochemistry\\_\\_Genetics\\_and\\_Molecular\\_Biology & $-$0.220$^{***}$ \\\\ \n",
      "  & p = 0.000 \\\\ \n",
      "  Medicine & 0.046$^{***}$ \\\\ \n",
      "  & p = 0.000 \\\\ \n",
      "  Nursing & 0.293$^{***}$ \\\\ \n",
      "  & p = 0.000 \\\\ \n",
      "  Agricultural\\_and\\_Biological\\_Sciences & 0.338$^{***}$ \\\\ \n",
      "  & p = 0.000 \\\\ \n",
      "  Pharmacology\\_\\_Toxicology\\_and\\_Pharmaceutics & $-$0.344$^{***}$ \\\\ \n",
      "  & p = 0.000 \\\\ \n",
      "  Neuroscience & 0.068$^{***}$ \\\\ \n",
      "  & p = 0.000 \\\\ \n",
      "  Business\\_\\_Management\\_and\\_Accounting & $-$0.459$^{***}$ \\\\ \n",
      "  & p = 0.000 \\\\ \n",
      "  Economics\\_\\_Econometrics\\_and\\_Finance & $-$0.019 \\\\ \n",
      "  & p = 0.289 \\\\ \n",
      "  Chemical\\_Engineering & 0.071$^{***}$ \\\\ \n",
      "  & p = 0.0002 \\\\ \n",
      "  Physics\\_and\\_Astronomy & $-$0.577$^{***}$ \\\\ \n",
      "  & p = 0.000 \\\\ \n",
      "  Computer\\_Science & $-$0.213$^{***}$ \\\\ \n",
      "  & p = 0.000 \\\\ \n",
      "  Decision\\_Sciences & $-$0.402$^{***}$ \\\\ \n",
      "  & p = 0.000 \\\\ \n",
      "  Health\\_Professions & 0.646$^{***}$ \\\\ \n",
      "  & p = 0.000 \\\\ \n",
      "  Psychology & $-$0.008 \\\\ \n",
      "  & p = 0.499 \\\\ \n",
      "  Immunology\\_and\\_Microbiology & $-$0.076$^{***}$ \\\\ \n",
      "  & p = 0.000 \\\\ \n",
      "  Dentistry & $-$0.753$^{***}$ \\\\ \n",
      "  & p = 0.000 \\\\ \n",
      "  Earth\\_and\\_Planetary\\_Sciences & $-$0.386$^{***}$ \\\\ \n",
      "  & p = 0.000 \\\\ \n",
      "  Environmental\\_Science & $-$0.192$^{***}$ \\\\ \n",
      "  & p = 0.000 \\\\ \n",
      "  Mathematics & 0.285$^{***}$ \\\\ \n",
      "  & p = 0.000 \\\\ \n",
      "  Arts\\_and\\_Humanities & $-$0.116$^{***}$ \\\\ \n",
      "  & p = 0.00000 \\\\ \n",
      "  Energy & $-$0.660$^{***}$ \\\\ \n",
      "  & p = 0.000 \\\\ \n",
      "  Veterinary & $-$0.518$^{***}$ \\\\ \n",
      "  & p = 0.000 \\\\ \n",
      "  General & 0.505$^{***}$ \\\\ \n",
      "  & p = 0.000 \\\\ \n",
      "  genderFemale:self\\_promotionTrue & $-$0.125$^{***}$ \\\\ \n",
      "  & p = 0.000 \\\\ \n",
      "  Constant & 0.036$^{*}$ \\\\ \n",
      "  & p = 0.019 \\\\ \n",
      " \\hline \\\\[-1.8ex] \n",
      "Observations & 618,742 \\\\ \n",
      "Log Likelihood & $-$2,106,012.000 \\\\ \n",
      "$\\theta$ & 0.560$^{***}$  (0.001) \\\\ \n",
      "Akaike Inf. Crit. & 4,212,116.000 \\\\ \n",
      "\\hline \n",
      "\\hline \\\\[-1.8ex] \n",
      "\\textit{Note:}  & \\multicolumn{1}{r}{$^{*}$p$<$0.05; $^{**}$p$<$0.01; $^{***}$p$<$0.001} \\\\ \n",
      "\\end{tabular} \n",
      "\\end{table} \n"
     ]
    }
   ],
   "source": [
    "# use this search string in Sublime: \" \\\\\\\\ \\n  &\" with \" &\"\n",
    "stargazer(m_yes, type = \"latex\", single.row=TRUE, ci = FALSE, report = ('vc*p'), star.cutoffs = c(0.05, 0.01, 0.001))"
   ]
  },
  {
   "cell_type": "code",
   "execution_count": null,
   "id": "673b176a",
   "metadata": {},
   "outputs": [],
   "source": []
  }
 ],
 "metadata": {
  "kernelspec": {
   "display_name": "R",
   "language": "R",
   "name": "ir"
  },
  "language_info": {
   "codemirror_mode": "r",
   "file_extension": ".r",
   "mimetype": "text/x-r-source",
   "name": "R",
   "pygments_lexer": "r",
   "version": "4.2.0"
  }
 },
 "nbformat": 4,
 "nbformat_minor": 5
}
