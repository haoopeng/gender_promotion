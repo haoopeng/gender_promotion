{
 "cells": [
  {
   "cell_type": "code",
   "execution_count": 12,
   "metadata": {},
   "outputs": [],
   "source": [
    "import os\n",
    "import csv\n",
    "import json\n",
    "import random\n",
    "import pickle\n",
    "import pandas as pd\n",
    "import numpy as np\n",
    "import matplotlib.pyplot as plt\n",
    "from collections import Counter\n",
    "from collections import defaultdict"
   ]
  },
  {
   "cell_type": "code",
   "execution_count": 2,
   "metadata": {},
   "outputs": [],
   "source": [
    "data_root = '/Data/Promotion/'\n",
    "mag_dir = '/Data/MAG_2019/'\n",
    "\n",
    "def fpath(filename):\n",
    "    return os.path.join(data_root, filename)\n",
    "\n",
    "def yield_one_line(filename, delimiter=',', quoting = csv.QUOTE_ALL):\n",
    "    '''a generator which produce one line of a given file'''\n",
    "    with open(filename, 'r') as file:\n",
    "        reader = csv.reader(file, delimiter=delimiter, quoting=quoting)\n",
    "        count = 0\n",
    "        for row in reader:\n",
    "            count += 1\n",
    "            if count % 10000000 == 0:\n",
    "                print('processed %d lines...' % (count))\n",
    "            yield row"
   ]
  },
  {
   "cell_type": "code",
   "execution_count": 3,
   "metadata": {},
   "outputs": [],
   "source": [
    "with open(data_root+'revision/alt_dois.pickle', 'rb') as ofile:\n",
    "    dois = pickle.load(ofile)\n",
    "dois = set(dois)"
   ]
  },
  {
   "cell_type": "code",
   "execution_count": 4,
   "metadata": {
    "scrolled": false
   },
   "outputs": [
    {
     "data": {
      "text/plain": [
       "6601528"
      ]
     },
     "execution_count": 4,
     "metadata": {},
     "output_type": "execute_result"
    }
   ],
   "source": [
    "len(dois)"
   ]
  },
  {
   "cell_type": "code",
   "execution_count": 18,
   "metadata": {},
   "outputs": [],
   "source": [
    "pid_to_doi = {}\n",
    "doi_to_pid = {}"
   ]
  },
  {
   "cell_type": "code",
   "execution_count": 19,
   "metadata": {
    "scrolled": true
   },
   "outputs": [
    {
     "name": "stdout",
     "output_type": "stream",
     "text": [
      "processed 10000000 lines...\n",
      "processed 20000000 lines...\n",
      "processed 30000000 lines...\n",
      "processed 40000000 lines...\n",
      "processed 50000000 lines...\n",
      "processed 60000000 lines...\n",
      "processed 70000000 lines...\n",
      "processed 80000000 lines...\n",
      "processed 90000000 lines...\n",
      "processed 100000000 lines...\n",
      "processed 110000000 lines...\n",
      "processed 120000000 lines...\n",
      "processed 130000000 lines...\n",
      "processed 140000000 lines...\n",
      "processed 150000000 lines...\n",
      "processed 160000000 lines...\n",
      "processed 170000000 lines...\n",
      "processed 180000000 lines...\n",
      "processed 190000000 lines...\n",
      "processed 200000000 lines...\n",
      "processed 210000000 lines...\n",
      "processed 220000000 lines...\n"
     ]
    }
   ],
   "source": [
    "for line in yield_one_line(mag_dir+'Papers.csv', delimiter=',', quoting=csv.QUOTE_ALL):\n",
    "    pid, doi = line[0], line[2]\n",
    "    # lowercase all DOIs\n",
    "    doi = doi.lower()\n",
    "    if doi in dois:\n",
    "        pid_to_doi[pid] = doi\n",
    "        doi_to_pid[doi] = pid"
   ]
  },
  {
   "cell_type": "markdown",
   "metadata": {},
   "source": [
    "MAG `pid` and `doi` is not uniquely matched"
   ]
  },
  {
   "cell_type": "code",
   "execution_count": 20,
   "metadata": {
    "scrolled": false
   },
   "outputs": [
    {
     "data": {
      "text/plain": [
       "6284420"
      ]
     },
     "execution_count": 20,
     "metadata": {},
     "output_type": "execute_result"
    }
   ],
   "source": [
    "len(pid_to_doi)"
   ]
  },
  {
   "cell_type": "code",
   "execution_count": 21,
   "metadata": {
    "scrolled": true
   },
   "outputs": [
    {
     "data": {
      "text/plain": [
       "6152934"
      ]
     },
     "execution_count": 21,
     "metadata": {},
     "output_type": "execute_result"
    }
   ],
   "source": [
    "len(doi_to_pid)"
   ]
  },
  {
   "cell_type": "code",
   "execution_count": 22,
   "metadata": {},
   "outputs": [
    {
     "data": {
      "text/plain": [
       "[('10.13039/501100003329', 1238),\n",
       " ('10.3968/%x', 991),\n",
       " ('10.13039/501100000780', 939),\n",
       " ('10.3968/n', 931),\n",
       " ('10.21615/ces', 671),\n",
       " ('10.13039/501100004837', 642),\n",
       " ('10.22264/clio', 551),\n",
       " ('10.1590/%x', 464),\n",
       " ('10.13039/501100003339', 309),\n",
       " ('10.1241/johokanri.58.389', 292)]"
      ]
     },
     "execution_count": 22,
     "metadata": {},
     "output_type": "execute_result"
    }
   ],
   "source": [
    "sorted(Counter(pid_to_doi.values()).items(), key=lambda x: x[1], reverse=True)[:10]"
   ]
  },
  {
   "cell_type": "code",
   "execution_count": 23,
   "metadata": {},
   "outputs": [],
   "source": [
    "dois_valid = set()\n",
    "\n",
    "for doi, cn in Counter(pid_to_doi.values()).items():\n",
    "    if cn == 1:\n",
    "        dois_valid.add(doi)"
   ]
  },
  {
   "cell_type": "code",
   "execution_count": 24,
   "metadata": {
    "scrolled": true
   },
   "outputs": [
    {
     "data": {
      "text/plain": [
       "6076674"
      ]
     },
     "execution_count": 24,
     "metadata": {},
     "output_type": "execute_result"
    }
   ],
   "source": [
    "len(dois_valid)"
   ]
  },
  {
   "cell_type": "code",
   "execution_count": 25,
   "metadata": {},
   "outputs": [],
   "source": [
    "for pid in list(pid_to_doi.keys()):\n",
    "    doi = pid_to_doi[pid]\n",
    "    if doi not in dois_valid:\n",
    "        del pid_to_doi[pid]\n",
    "        \n",
    "for doi in list(doi_to_pid.keys()):\n",
    "    if doi not in dois_valid:\n",
    "        del doi_to_pid[doi]"
   ]
  },
  {
   "cell_type": "code",
   "execution_count": 26,
   "metadata": {},
   "outputs": [
    {
     "data": {
      "text/plain": [
       "6076674"
      ]
     },
     "execution_count": 26,
     "metadata": {},
     "output_type": "execute_result"
    }
   ],
   "source": [
    "len(pid_to_doi)"
   ]
  },
  {
   "cell_type": "code",
   "execution_count": 27,
   "metadata": {
    "scrolled": true
   },
   "outputs": [
    {
     "data": {
      "text/plain": [
       "6076674"
      ]
     },
     "execution_count": 27,
     "metadata": {},
     "output_type": "execute_result"
    }
   ],
   "source": [
    "len(doi_to_pid)"
   ]
  },
  {
   "cell_type": "code",
   "execution_count": 28,
   "metadata": {
    "scrolled": true
   },
   "outputs": [
    {
     "data": {
      "text/plain": [
       "0.9204950732618267"
      ]
     },
     "execution_count": 28,
     "metadata": {},
     "output_type": "execute_result"
    }
   ],
   "source": [
    "len(pid_to_doi) / len(dois)"
   ]
  },
  {
   "cell_type": "code",
   "execution_count": 29,
   "metadata": {},
   "outputs": [],
   "source": [
    "del dois_valid"
   ]
  },
  {
   "cell_type": "markdown",
   "metadata": {},
   "source": [
    "(SI) - papers in MAG vs. in Altmetric"
   ]
  },
  {
   "cell_type": "code",
   "execution_count": 4,
   "metadata": {},
   "outputs": [],
   "source": [
    "years = set(['2013', '2014', '2015', '2016', '2017', '2018'])"
   ]
  },
  {
   "cell_type": "code",
   "execution_count": 5,
   "metadata": {
    "scrolled": false
   },
   "outputs": [
    {
     "data": {
      "text/plain": [
       "{'2013', '2014', '2015', '2016', '2017', '2018'}"
      ]
     },
     "execution_count": 5,
     "metadata": {},
     "output_type": "execute_result"
    }
   ],
   "source": [
    "years"
   ]
  },
  {
   "cell_type": "code",
   "execution_count": 6,
   "metadata": {
    "scrolled": true
   },
   "outputs": [
    {
     "name": "stdout",
     "output_type": "stream",
     "text": [
      "processed 10000000 lines...\n",
      "processed 20000000 lines...\n",
      "processed 30000000 lines...\n",
      "processed 40000000 lines...\n",
      "processed 50000000 lines...\n",
      "processed 60000000 lines...\n",
      "processed 70000000 lines...\n",
      "processed 80000000 lines...\n",
      "processed 90000000 lines...\n",
      "processed 100000000 lines...\n",
      "processed 110000000 lines...\n",
      "processed 120000000 lines...\n",
      "processed 130000000 lines...\n",
      "processed 140000000 lines...\n",
      "processed 150000000 lines...\n",
      "processed 160000000 lines...\n",
      "processed 170000000 lines...\n",
      "processed 180000000 lines...\n",
      "processed 190000000 lines...\n",
      "processed 200000000 lines...\n",
      "processed 210000000 lines...\n",
      "processed 220000000 lines...\n"
     ]
    }
   ],
   "source": [
    "year_cn = defaultdict(int)\n",
    "\n",
    "for line in yield_one_line(mag_dir+'Papers.csv', delimiter=',', quoting=csv.QUOTE_ALL):\n",
    "    pid, doi, doctype, year = line[0], line[2], line[3], line[7]\n",
    "    # lowercase all DOIs\n",
    "    doi = doi.lower()\n",
    "    if doi != \"\" and year in years:\n",
    "        # research papers\n",
    "        if doctype == \"Journal\" or doctype == \"Conference\":\n",
    "            year_cn[year] += 1"
   ]
  },
  {
   "cell_type": "code",
   "execution_count": 7,
   "metadata": {},
   "outputs": [
    {
     "data": {
      "text/plain": [
       "defaultdict(int,\n",
       "            {'2014': 2742706,\n",
       "             '2016': 2955871,\n",
       "             '2013': 2610680,\n",
       "             '2015': 2790025,\n",
       "             '2018': 2979206,\n",
       "             '2017': 3088340})"
      ]
     },
     "execution_count": 7,
     "metadata": {},
     "output_type": "execute_result"
    }
   ],
   "source": [
    "# research papers in MAG\n",
    "year_cn"
   ]
  },
  {
   "cell_type": "code",
   "execution_count": 8,
   "metadata": {
    "scrolled": true
   },
   "outputs": [
    {
     "data": {
      "text/plain": [
       "17166828"
      ]
     },
     "execution_count": 8,
     "metadata": {},
     "output_type": "execute_result"
    }
   ],
   "source": [
    "sum(year_cn.values())"
   ]
  },
  {
   "cell_type": "code",
   "execution_count": 10,
   "metadata": {},
   "outputs": [],
   "source": [
    "# papers in Altmetric\n",
    "alt_dic = {'2013': 875371,\n",
    "'2016': 1187604,\n",
    "'2014': 981578,\n",
    "'2017': 1232949,\n",
    "'2015': 1105317,\n",
    "'2018': 1218709}"
   ]
  },
  {
   "cell_type": "code",
   "execution_count": 28,
   "metadata": {},
   "outputs": [
    {
     "data": {
      "image/png": "[encoded data removed]",
      "text/plain": [
       "<Figure size 252x201.6 with 1 Axes>"
      ]
     },
     "metadata": {
      "needs_background": "light"
     },
     "output_type": "display_data"
    }
   ],
   "source": [
    "nrows = 1\n",
    "ncols = 1\n",
    "fig, ax = plt.subplots(nrows=nrows, ncols=ncols, figsize=(3.5, 2.8))\n",
    "\n",
    "xs = sorted(years)\n",
    "ys1 = [alt_dic[y] for y in xs]\n",
    "ys2 = [year_cn[y] for y in xs]\n",
    "\n",
    "ax.plot(xs, ys1, color='blue', marker = 'o', alpha=1, markersize=2, linewidth=1.5, label='Altmetric')\n",
    "ax.plot(xs, ys2, color='black', marker = 'o', alpha=1, markersize=2, linewidth=1.5, label='MAG')\n",
    "\n",
    "legend = ax.legend(bbox_to_anchor=(0.05, 0.7), loc='lower left', numpoints=2, labelspacing = 0.15, shadow=False, frameon = True, markerscale = 1)\n",
    "ax.set_xlabel('Publication year')\n",
    "ax.set_ylabel('Number of research papers')\n",
    "ax.set_yscale('log')\n",
    "ax.set_ylim([0.5e6, 1e7])\n",
    "\n",
    "# plt.tight_layout()\n",
    "plt.show()\n",
    "fig.savefig('./mag_vs_alt.pdf', bbox_inches='tight', pad_inches=0.02)"
   ]
  },
  {
   "cell_type": "code",
   "execution_count": null,
   "metadata": {},
   "outputs": [],
   "source": []
  },
  {
   "cell_type": "markdown",
   "metadata": {},
   "source": [
    "Authors"
   ]
  },
  {
   "cell_type": "code",
   "execution_count": 28,
   "metadata": {},
   "outputs": [],
   "source": [
    "dois_authors_mag = defaultdict(list)"
   ]
  },
  {
   "cell_type": "code",
   "execution_count": 29,
   "metadata": {
    "scrolled": true
   },
   "outputs": [
    {
     "name": "stdout",
     "output_type": "stream",
     "text": [
      "processed 10000000 lines...\n",
      "processed 20000000 lines...\n",
      "processed 30000000 lines...\n",
      "processed 40000000 lines...\n",
      "processed 50000000 lines...\n",
      "processed 60000000 lines...\n",
      "processed 70000000 lines...\n",
      "processed 80000000 lines...\n",
      "processed 90000000 lines...\n",
      "processed 100000000 lines...\n",
      "processed 110000000 lines...\n",
      "processed 120000000 lines...\n",
      "processed 130000000 lines...\n",
      "processed 140000000 lines...\n",
      "processed 150000000 lines...\n",
      "processed 160000000 lines...\n",
      "processed 170000000 lines...\n",
      "processed 180000000 lines...\n",
      "processed 190000000 lines...\n",
      "processed 200000000 lines...\n",
      "processed 210000000 lines...\n",
      "processed 220000000 lines...\n",
      "processed 230000000 lines...\n",
      "processed 240000000 lines...\n",
      "processed 250000000 lines...\n",
      "processed 260000000 lines...\n",
      "processed 270000000 lines...\n",
      "processed 280000000 lines...\n",
      "processed 290000000 lines...\n",
      "processed 300000000 lines...\n",
      "processed 310000000 lines...\n",
      "processed 320000000 lines...\n",
      "processed 330000000 lines...\n",
      "processed 340000000 lines...\n",
      "processed 350000000 lines...\n",
      "processed 360000000 lines...\n",
      "processed 370000000 lines...\n",
      "processed 380000000 lines...\n",
      "processed 390000000 lines...\n",
      "processed 400000000 lines...\n",
      "processed 410000000 lines...\n",
      "processed 420000000 lines...\n",
      "processed 430000000 lines...\n",
      "processed 440000000 lines...\n",
      "processed 450000000 lines...\n",
      "processed 460000000 lines...\n",
      "processed 470000000 lines...\n",
      "processed 480000000 lines...\n",
      "processed 490000000 lines...\n",
      "processed 500000000 lines...\n",
      "processed 510000000 lines...\n",
      "processed 520000000 lines...\n",
      "processed 530000000 lines...\n",
      "processed 540000000 lines...\n",
      "processed 550000000 lines...\n",
      "processed 560000000 lines...\n",
      "processed 570000000 lines...\n",
      "processed 580000000 lines...\n",
      "processed 590000000 lines...\n"
     ]
    }
   ],
   "source": [
    "for line in yield_one_line(mag_dir+'PaperAuthorAffiliations.txt', delimiter='\\t', quoting=csv.QUOTE_NONE):\n",
    "    pid, aid, aff_id, seq, name = line[:5]\n",
    "    if pid in pid_to_doi:\n",
    "        doi = pid_to_doi[pid]\n",
    "        dois_authors_mag[doi].append((aid, aff_id, seq, name))"
   ]
  },
  {
   "cell_type": "code",
   "execution_count": 30,
   "metadata": {
    "scrolled": true
   },
   "outputs": [
    {
     "data": {
      "text/plain": [
       "6076669"
      ]
     },
     "execution_count": 30,
     "metadata": {},
     "output_type": "execute_result"
    }
   ],
   "source": [
    "len(dois_authors_mag)"
   ]
  },
  {
   "cell_type": "code",
   "execution_count": 32,
   "metadata": {},
   "outputs": [],
   "source": [
    "with open(fpath('revision/dois_authors_mag.json'), 'w') as ofile:\n",
    "    for doi in dois_authors_mag:\n",
    "        pid = doi_to_pid[doi]\n",
    "        authors = dois_authors_mag[doi]\n",
    "        row = {'doi': doi, 'mag_pid': pid, 'authors': authors}\n",
    "        ofile.write(json.dumps(row) + '\\n')"
   ]
  },
  {
   "cell_type": "code",
   "execution_count": 6,
   "metadata": {},
   "outputs": [],
   "source": [
    "dois_authors_mag = {}\n",
    "\n",
    "with open(fpath('revision/dois_authors_mag.json'), 'r') as ofile:\n",
    "    for row in ofile:\n",
    "        row = json.loads(row)\n",
    "        doi, authors = row['doi'], row['authors']\n",
    "        dois_authors_mag[doi] = authors"
   ]
  },
  {
   "cell_type": "code",
   "execution_count": 33,
   "metadata": {},
   "outputs": [],
   "source": [
    "all_aids = set()\n",
    "for doi in dois_authors_mag:\n",
    "    authors = dois_authors_mag[doi]\n",
    "    for aid, aff_id, seq, name in authors:\n",
    "#         seq = int(seq)\n",
    "#         if seq == 1:\n",
    "        all_aids.add(aid)"
   ]
  },
  {
   "cell_type": "code",
   "execution_count": 34,
   "metadata": {
    "scrolled": false
   },
   "outputs": [
    {
     "data": {
      "text/plain": [
       "9777945"
      ]
     },
     "execution_count": 34,
     "metadata": {},
     "output_type": "execute_result"
    }
   ],
   "source": [
    "len(all_aids)"
   ]
  },
  {
   "cell_type": "code",
   "execution_count": 35,
   "metadata": {
    "scrolled": true
   },
   "outputs": [
    {
     "name": "stdout",
     "output_type": "stream",
     "text": [
      "processed 10000000 lines...\n",
      "processed 20000000 lines...\n",
      "processed 30000000 lines...\n",
      "processed 40000000 lines...\n",
      "processed 50000000 lines...\n",
      "processed 60000000 lines...\n",
      "processed 70000000 lines...\n",
      "processed 80000000 lines...\n",
      "processed 90000000 lines...\n",
      "processed 100000000 lines...\n",
      "processed 110000000 lines...\n",
      "processed 120000000 lines...\n",
      "processed 130000000 lines...\n",
      "processed 140000000 lines...\n",
      "processed 150000000 lines...\n",
      "processed 160000000 lines...\n",
      "processed 170000000 lines...\n",
      "processed 180000000 lines...\n",
      "processed 190000000 lines...\n",
      "processed 200000000 lines...\n",
      "processed 210000000 lines...\n",
      "processed 220000000 lines...\n",
      "processed 230000000 lines...\n",
      "processed 240000000 lines...\n"
     ]
    }
   ],
   "source": [
    "aids_metric = dict()\n",
    "\n",
    "for line in yield_one_line(mag_dir+'Authors.txt', delimiter='\\t', quoting=csv.QUOTE_NONE):\n",
    "    aid, rank, num_paper, num_cite = line[0], line[1], line[5], line[6]\n",
    "    if aid in all_aids:\n",
    "        aids_metric[aid] = (rank, num_paper, num_cite)"
   ]
  },
  {
   "cell_type": "code",
   "execution_count": 36,
   "metadata": {
    "scrolled": false
   },
   "outputs": [
    {
     "data": {
      "text/plain": [
       "9777945"
      ]
     },
     "execution_count": 36,
     "metadata": {},
     "output_type": "execute_result"
    }
   ],
   "source": [
    "len(aids_metric)"
   ]
  },
  {
   "cell_type": "code",
   "execution_count": 37,
   "metadata": {},
   "outputs": [],
   "source": [
    "with open(fpath('revision/aids_metric_mag.json'), 'w') as ofile:\n",
    "    for aid, info in aids_metric.items():\n",
    "        row = {'aid': aid, 'metric': info}\n",
    "        ofile.write(json.dumps(row) + '\\n')"
   ]
  },
  {
   "cell_type": "markdown",
   "metadata": {},
   "source": [
    "Author paper counts"
   ]
  },
  {
   "cell_type": "code",
   "execution_count": 38,
   "metadata": {
    "scrolled": false
   },
   "outputs": [
    {
     "name": "stdout",
     "output_type": "stream",
     "text": [
      "processed 10000000 lines...\n",
      "processed 20000000 lines...\n",
      "processed 30000000 lines...\n",
      "processed 40000000 lines...\n",
      "processed 50000000 lines...\n",
      "processed 60000000 lines...\n",
      "processed 70000000 lines...\n",
      "processed 90000000 lines...\n",
      "processed 100000000 lines...\n",
      "processed 110000000 lines...\n",
      "processed 120000000 lines...\n",
      "processed 130000000 lines...\n",
      "processed 140000000 lines...\n",
      "processed 150000000 lines...\n",
      "processed 160000000 lines...\n",
      "processed 170000000 lines...\n",
      "processed 180000000 lines...\n",
      "processed 190000000 lines...\n",
      "processed 200000000 lines...\n",
      "processed 210000000 lines...\n",
      "processed 220000000 lines...\n"
     ]
    }
   ],
   "source": [
    "pid_year = {}\n",
    "\n",
    "for line in yield_one_line(mag_dir+'Papers.csv', delimiter=',', quoting=csv.QUOTE_ALL):\n",
    "    pid, year = line[0], line[7]\n",
    "    # lowercase all DOIs\n",
    "    # doi = doi.lower()\n",
    "    if year != '' and int(year) <= 2018:\n",
    "        pid_year[pid] = year"
   ]
  },
  {
   "cell_type": "code",
   "execution_count": 39,
   "metadata": {},
   "outputs": [
    {
     "data": {
      "text/plain": [
       "219618489"
      ]
     },
     "execution_count": 39,
     "metadata": {},
     "output_type": "execute_result"
    }
   ],
   "source": [
    "len(pid_year)"
   ]
  },
  {
   "cell_type": "code",
   "execution_count": 40,
   "metadata": {
    "scrolled": true
   },
   "outputs": [
    {
     "name": "stdout",
     "output_type": "stream",
     "text": [
      "processed 10000000 lines...\n",
      "processed 20000000 lines...\n",
      "processed 30000000 lines...\n",
      "processed 40000000 lines...\n",
      "processed 50000000 lines...\n",
      "processed 60000000 lines...\n",
      "processed 70000000 lines...\n",
      "processed 80000000 lines...\n",
      "processed 90000000 lines...\n",
      "processed 100000000 lines...\n",
      "processed 110000000 lines...\n",
      "processed 120000000 lines...\n",
      "processed 130000000 lines...\n",
      "processed 140000000 lines...\n",
      "processed 150000000 lines...\n",
      "processed 160000000 lines...\n",
      "processed 170000000 lines...\n",
      "processed 180000000 lines...\n",
      "processed 190000000 lines...\n",
      "processed 200000000 lines...\n",
      "processed 210000000 lines...\n",
      "processed 220000000 lines...\n",
      "processed 230000000 lines...\n",
      "processed 240000000 lines...\n",
      "processed 250000000 lines...\n",
      "processed 260000000 lines...\n",
      "processed 270000000 lines...\n",
      "processed 280000000 lines...\n",
      "processed 290000000 lines...\n",
      "processed 300000000 lines...\n",
      "processed 310000000 lines...\n",
      "processed 320000000 lines...\n",
      "processed 330000000 lines...\n",
      "processed 340000000 lines...\n",
      "processed 350000000 lines...\n",
      "processed 360000000 lines...\n",
      "processed 370000000 lines...\n",
      "processed 380000000 lines...\n",
      "processed 390000000 lines...\n",
      "processed 400000000 lines...\n",
      "processed 410000000 lines...\n",
      "processed 420000000 lines...\n",
      "processed 430000000 lines...\n",
      "processed 440000000 lines...\n",
      "processed 450000000 lines...\n",
      "processed 460000000 lines...\n",
      "processed 470000000 lines...\n",
      "processed 480000000 lines...\n",
      "processed 490000000 lines...\n",
      "processed 500000000 lines...\n",
      "processed 510000000 lines...\n",
      "processed 520000000 lines...\n",
      "processed 530000000 lines...\n",
      "processed 540000000 lines...\n",
      "processed 550000000 lines...\n",
      "processed 560000000 lines...\n",
      "processed 570000000 lines...\n",
      "processed 580000000 lines...\n",
      "processed 590000000 lines...\n"
     ]
    }
   ],
   "source": [
    "aid_year_paper_list = defaultdict(lambda: defaultdict(list))\n",
    "\n",
    "for line in yield_one_line(mag_dir+'PaperAuthorAffiliations.txt', delimiter='\\t', quoting=csv.QUOTE_NONE):\n",
    "    pid, aid = line[:2]\n",
    "    if pid in pid_year:\n",
    "        year = pid_year[pid]\n",
    "        if aid in all_aids:\n",
    "            if int(year) <= 2018:\n",
    "                aid_year_paper_list[aid][year].append(pid)"
   ]
  },
  {
   "cell_type": "code",
   "execution_count": 41,
   "metadata": {
    "scrolled": false
   },
   "outputs": [
    {
     "data": {
      "text/plain": [
       "9776277"
      ]
     },
     "execution_count": 41,
     "metadata": {},
     "output_type": "execute_result"
    }
   ],
   "source": [
    "len(aid_year_paper_list)"
   ]
  },
  {
   "cell_type": "code",
   "execution_count": 42,
   "metadata": {},
   "outputs": [],
   "source": [
    "# this counts pubs in all years.\n",
    "with open(fpath('revision/aid_year_paper_list.json'), 'w') as ofile:\n",
    "    for aid, info in aid_year_paper_list.items():\n",
    "        row = {'aid': aid, 'year_pids': info}\n",
    "        ofile.write(json.dumps(row) + '\\n')"
   ]
  },
  {
   "cell_type": "code",
   "execution_count": 43,
   "metadata": {},
   "outputs": [],
   "source": [
    "pids_track = set()\n",
    "for aid in aid_year_paper_list:\n",
    "    for year, pids in aid_year_paper_list[aid].items():\n",
    "        for pid in pids:\n",
    "            pids_track.add(pid)"
   ]
  },
  {
   "cell_type": "code",
   "execution_count": 44,
   "metadata": {
    "scrolled": false
   },
   "outputs": [
    {
     "data": {
      "text/plain": [
       "55144374"
      ]
     },
     "execution_count": 44,
     "metadata": {},
     "output_type": "execute_result"
    }
   ],
   "source": [
    "len(pids_track)"
   ]
  },
  {
   "cell_type": "code",
   "execution_count": 45,
   "metadata": {},
   "outputs": [
    {
     "name": "stdout",
     "output_type": "stream",
     "text": [
      "processed 10000000 lines...\n",
      "processed 20000000 lines...\n",
      "processed 30000000 lines...\n",
      "processed 40000000 lines...\n",
      "processed 50000000 lines...\n",
      "processed 60000000 lines...\n",
      "processed 70000000 lines...\n",
      "processed 80000000 lines...\n",
      "processed 90000000 lines...\n",
      "processed 100000000 lines...\n",
      "processed 110000000 lines...\n",
      "processed 120000000 lines...\n",
      "processed 130000000 lines...\n",
      "processed 140000000 lines...\n",
      "processed 150000000 lines...\n",
      "processed 160000000 lines...\n",
      "processed 170000000 lines...\n",
      "processed 180000000 lines...\n",
      "processed 190000000 lines...\n",
      "processed 200000000 lines...\n",
      "processed 210000000 lines...\n",
      "processed 220000000 lines...\n",
      "processed 230000000 lines...\n",
      "processed 240000000 lines...\n",
      "processed 250000000 lines...\n",
      "processed 260000000 lines...\n",
      "processed 270000000 lines...\n",
      "processed 280000000 lines...\n",
      "processed 290000000 lines...\n",
      "processed 300000000 lines...\n",
      "processed 310000000 lines...\n",
      "processed 320000000 lines...\n",
      "processed 330000000 lines...\n",
      "processed 340000000 lines...\n",
      "processed 350000000 lines...\n",
      "processed 360000000 lines...\n",
      "processed 370000000 lines...\n",
      "processed 380000000 lines...\n",
      "processed 390000000 lines...\n",
      "processed 400000000 lines...\n",
      "processed 410000000 lines...\n",
      "processed 420000000 lines...\n",
      "processed 430000000 lines...\n",
      "processed 440000000 lines...\n",
      "processed 450000000 lines...\n",
      "processed 460000000 lines...\n",
      "processed 470000000 lines...\n",
      "processed 480000000 lines...\n",
      "processed 490000000 lines...\n",
      "processed 500000000 lines...\n",
      "processed 510000000 lines...\n",
      "processed 520000000 lines...\n",
      "processed 530000000 lines...\n",
      "processed 540000000 lines...\n",
      "processed 550000000 lines...\n",
      "processed 560000000 lines...\n",
      "processed 570000000 lines...\n",
      "processed 580000000 lines...\n",
      "processed 590000000 lines...\n",
      "processed 600000000 lines...\n",
      "processed 610000000 lines...\n",
      "processed 620000000 lines...\n",
      "processed 630000000 lines...\n",
      "processed 640000000 lines...\n",
      "processed 650000000 lines...\n",
      "processed 660000000 lines...\n",
      "processed 670000000 lines...\n",
      "processed 680000000 lines...\n",
      "processed 690000000 lines...\n",
      "processed 700000000 lines...\n",
      "processed 710000000 lines...\n",
      "processed 720000000 lines...\n",
      "processed 730000000 lines...\n",
      "processed 740000000 lines...\n",
      "processed 750000000 lines...\n",
      "processed 760000000 lines...\n",
      "processed 770000000 lines...\n",
      "processed 780000000 lines...\n",
      "processed 790000000 lines...\n",
      "processed 800000000 lines...\n",
      "processed 810000000 lines...\n",
      "processed 820000000 lines...\n",
      "processed 830000000 lines...\n",
      "processed 840000000 lines...\n",
      "processed 850000000 lines...\n",
      "processed 860000000 lines...\n",
      "processed 870000000 lines...\n",
      "processed 880000000 lines...\n",
      "processed 890000000 lines...\n",
      "processed 900000000 lines...\n",
      "processed 910000000 lines...\n",
      "processed 920000000 lines...\n",
      "processed 930000000 lines...\n",
      "processed 940000000 lines...\n",
      "processed 950000000 lines...\n",
      "processed 960000000 lines...\n",
      "processed 970000000 lines...\n",
      "processed 980000000 lines...\n",
      "processed 990000000 lines...\n",
      "processed 1000000000 lines...\n",
      "processed 1010000000 lines...\n",
      "processed 1020000000 lines...\n",
      "processed 1030000000 lines...\n",
      "processed 1040000000 lines...\n",
      "processed 1050000000 lines...\n",
      "processed 1060000000 lines...\n",
      "processed 1070000000 lines...\n",
      "processed 1080000000 lines...\n",
      "processed 1090000000 lines...\n",
      "processed 1100000000 lines...\n",
      "processed 1110000000 lines...\n",
      "processed 1120000000 lines...\n",
      "processed 1130000000 lines...\n",
      "processed 1140000000 lines...\n",
      "processed 1150000000 lines...\n",
      "processed 1160000000 lines...\n",
      "processed 1170000000 lines...\n",
      "processed 1180000000 lines...\n",
      "processed 1190000000 lines...\n",
      "processed 1200000000 lines...\n",
      "processed 1210000000 lines...\n",
      "processed 1220000000 lines...\n",
      "processed 1230000000 lines...\n",
      "processed 1240000000 lines...\n",
      "processed 1250000000 lines...\n",
      "processed 1260000000 lines...\n",
      "processed 1270000000 lines...\n",
      "processed 1280000000 lines...\n",
      "processed 1290000000 lines...\n",
      "processed 1300000000 lines...\n",
      "processed 1310000000 lines...\n",
      "processed 1320000000 lines...\n",
      "processed 1330000000 lines...\n",
      "processed 1340000000 lines...\n",
      "processed 1350000000 lines...\n",
      "processed 1360000000 lines...\n",
      "processed 1370000000 lines...\n",
      "processed 1380000000 lines...\n",
      "processed 1390000000 lines...\n",
      "processed 1400000000 lines...\n",
      "processed 1410000000 lines...\n",
      "processed 1420000000 lines...\n",
      "processed 1430000000 lines...\n",
      "processed 1440000000 lines...\n",
      "processed 1450000000 lines...\n",
      "processed 1460000000 lines...\n",
      "processed 1470000000 lines...\n"
     ]
    }
   ],
   "source": [
    "pid_yearly_cites = defaultdict(lambda: defaultdict(int))\n",
    "\n",
    "for line in yield_one_line(mag_dir+'PaperReferences.txt', delimiter='\\t', quoting=csv.QUOTE_NONE):\n",
    "    pid, rid = line[0], line[1]\n",
    "    if pid in pid_year:\n",
    "        year = pid_year[pid]\n",
    "        # citing paper has to be published before 2018.\n",
    "        if int(year) <= 2017 and rid in pids_track:\n",
    "            pid_yearly_cites[rid][year] += 1"
   ]
  },
  {
   "cell_type": "code",
   "execution_count": 46,
   "metadata": {
    "scrolled": true
   },
   "outputs": [
    {
     "data": {
      "text/plain": [
       "32579748"
      ]
     },
     "execution_count": 46,
     "metadata": {},
     "output_type": "execute_result"
    }
   ],
   "source": [
    "# some papers may have 0 citations, so they won't be in this dictionary\n",
    "len(pid_yearly_cites)"
   ]
  },
  {
   "cell_type": "code",
   "execution_count": 47,
   "metadata": {},
   "outputs": [],
   "source": [
    "with open(fpath('revision/pid_yearly_cites.json'), 'w') as ofile:\n",
    "    for pid, info in pid_yearly_cites.items():\n",
    "        row = {'pid': pid, 'y_cites': info}\n",
    "        ofile.write(json.dumps(row) + '\\n')"
   ]
  },
  {
   "cell_type": "code",
   "execution_count": 50,
   "metadata": {},
   "outputs": [],
   "source": [
    "aid_cites_upto_years = defaultdict(lambda: defaultdict(int))\n",
    "\n",
    "for aid in all_aids:\n",
    "    if aid in aid_year_paper_list:\n",
    "        for year, pids in aid_year_paper_list[aid].items():\n",
    "            year = int(year)\n",
    "            for pid in pids:\n",
    "                for i in range(year, 2017+1):\n",
    "                    cn = pid_yearly_cites[pid][str(i)]\n",
    "                    # only record citations up to these years:\n",
    "                    for record_year in [2012, 2013, 2014, 2015, 2016, 2017]:\n",
    "                        if i <= record_year:\n",
    "                            aid_cites_upto_years[aid][record_year] += cn"
   ]
  },
  {
   "cell_type": "code",
   "execution_count": 51,
   "metadata": {
    "scrolled": true
   },
   "outputs": [
    {
     "data": {
      "text/plain": [
       "8744877"
      ]
     },
     "execution_count": 51,
     "metadata": {},
     "output_type": "execute_result"
    }
   ],
   "source": [
    "len(aid_cites_upto_years)"
   ]
  },
  {
   "cell_type": "code",
   "execution_count": 53,
   "metadata": {},
   "outputs": [
    {
     "data": {
      "text/plain": [
       "defaultdict(int, {2012: 36, 2013: 38, 2014: 45, 2015: 51, 2016: 59, 2017: 67})"
      ]
     },
     "execution_count": 53,
     "metadata": {},
     "output_type": "execute_result"
    }
   ],
   "source": [
    "aid_cites_upto_years['1100005138']"
   ]
  },
  {
   "cell_type": "code",
   "execution_count": 52,
   "metadata": {},
   "outputs": [],
   "source": [
    "with open(fpath('revision/aid_cites_upto_years.json'), 'w') as ofile:\n",
    "    for aid, info in aid_cites_upto_years.items():\n",
    "        row = {'aid': aid, 'cum_cites': info}\n",
    "        ofile.write(json.dumps(row) + '\\n')"
   ]
  },
  {
   "cell_type": "code",
   "execution_count": null,
   "metadata": {},
   "outputs": [],
   "source": []
  },
  {
   "cell_type": "code",
   "execution_count": null,
   "metadata": {},
   "outputs": [],
   "source": []
  }
 ],
 "metadata": {
  "kernelspec": {
   "display_name": "Python 3 (ipykernel)",
   "language": "python",
   "name": "python3"
  },
  "language_info": {
   "codemirror_mode": {
    "name": "ipython",
    "version": 3
   },
   "file_extension": ".py",
   "mimetype": "text/x-python",
   "name": "python",
   "nbconvert_exporter": "python",
   "pygments_lexer": "ipython3",
   "version": "3.8.13"
  }
 },
 "nbformat": 4,
 "nbformat_minor": 2
}
