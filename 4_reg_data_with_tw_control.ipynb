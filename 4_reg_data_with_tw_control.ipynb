{
 "cells": [
  {
   "cell_type": "code",
   "execution_count": 2,
   "metadata": {},
   "outputs": [],
   "source": [
    "import os\n",
    "import math\n",
    "import json\n",
    "import csv\n",
    "import time\n",
    "import random\n",
    "import requests\n",
    "import numpy as np\n",
    "import pandas as pd\n",
    "import seaborn as sns\n",
    "import matplotlib.colors\n",
    "import matplotlib.cm as cm\n",
    "import matplotlib.pyplot as plt\n",
    "import matplotlib.ticker as ticker\n",
    "from collections import defaultdict, Counter\n",
    "from datetime import datetime"
   ]
  },
  {
   "cell_type": "code",
   "execution_count": 3,
   "metadata": {},
   "outputs": [],
   "source": [
    "Data_Root = '/Data/Promotion/'"
   ]
  },
  {
   "cell_type": "code",
   "execution_count": 4,
   "metadata": {},
   "outputs": [],
   "source": [
    "# pd.options.display.precision = 20"
   ]
  },
  {
   "cell_type": "code",
   "execution_count": 4,
   "metadata": {},
   "outputs": [],
   "source": [
    "CIs = {'90': 1.645, '95': 1.96, '99': 2.576}"
   ]
  },
  {
   "cell_type": "code",
   "execution_count": 5,
   "metadata": {},
   "outputs": [],
   "source": [
    "labels = ['Male', 'Female']"
   ]
  },
  {
   "cell_type": "code",
   "execution_count": 6,
   "metadata": {},
   "outputs": [],
   "source": [
    "colors = sns.color_palette()[:len(labels)]"
   ]
  },
  {
   "cell_type": "code",
   "execution_count": 7,
   "metadata": {},
   "outputs": [],
   "source": [
    "utype = {'author_id': str, 'matched_tid': str, 'matched_tid_original': str, 'matched_tid_retweet': str}\n",
    "reg_data = pd.read_csv(Data_Root + \"revision/reg_data_drop_missing.csv\", header=0, dtype=utype)"
   ]
  },
  {
   "cell_type": "code",
   "execution_count": 49,
   "metadata": {
    "scrolled": false
   },
   "outputs": [
    {
     "data": {
      "text/plain": [
       "(14552304, 81)"
      ]
     },
     "execution_count": 49,
     "metadata": {},
     "output_type": "execute_result"
    }
   ],
   "source": [
    "reg_data.shape"
   ]
  },
  {
   "cell_type": "code",
   "execution_count": 8,
   "metadata": {},
   "outputs": [
    {
     "data": {
      "text/html": [
       "<div>\n",
       "<style scoped>\n",
       "    .dataframe tbody tr th:only-of-type {\n",
       "        vertical-align: middle;\n",
       "    }\n",
       "\n",
       "    .dataframe tbody tr th {\n",
       "        vertical-align: top;\n",
       "    }\n",
       "\n",
       "    .dataframe thead th {\n",
       "        text-align: right;\n",
       "    }\n",
       "</style>\n",
       "<table border=\"1\" class=\"dataframe\">\n",
       "  <thead>\n",
       "    <tr style=\"text-align: right;\">\n",
       "      <th></th>\n",
       "      <th>doi</th>\n",
       "      <th>pub_year</th>\n",
       "      <th>author_name</th>\n",
       "      <th>authorship_seq</th>\n",
       "      <th>authorship_pos</th>\n",
       "      <th>author_id</th>\n",
       "      <th>affiliation_ids</th>\n",
       "      <th>self_promotion_original</th>\n",
       "      <th>matched_tid_original</th>\n",
       "      <th>self_promotion_retweet</th>\n",
       "      <th>...</th>\n",
       "      <th>author_eth_ethnea_broad</th>\n",
       "      <th>pub_date</th>\n",
       "      <th>is_active_on_twitter</th>\n",
       "      <th>follower_cn_snapshot</th>\n",
       "      <th>matched_uid</th>\n",
       "      <th>is_active_on_twitter_ours</th>\n",
       "      <th>follower_cn_snapshot_ours</th>\n",
       "      <th>is_active_on_twitter_combine</th>\n",
       "      <th>follower_cn_snapshot_combine</th>\n",
       "      <th>self_promotion_first</th>\n",
       "    </tr>\n",
       "  </thead>\n",
       "  <tbody>\n",
       "    <tr>\n",
       "      <th>0</th>\n",
       "      <td>10.4202/app.00261.2016</td>\n",
       "      <td>2016</td>\n",
       "      <td>Michal Zaton</td>\n",
       "      <td>2</td>\n",
       "      <td>last_position</td>\n",
       "      <td>2064717215</td>\n",
       "      <td>864159182</td>\n",
       "      <td>False</td>\n",
       "      <td>NaN</td>\n",
       "      <td>False</td>\n",
       "      <td>...</td>\n",
       "      <td>EasternEuropean</td>\n",
       "      <td>2016-01-01</td>\n",
       "      <td>False</td>\n",
       "      <td>-1</td>\n",
       "      <td>NaN</td>\n",
       "      <td>False</td>\n",
       "      <td>-1</td>\n",
       "      <td>False</td>\n",
       "      <td>-1</td>\n",
       "      <td>False</td>\n",
       "    </tr>\n",
       "    <tr>\n",
       "      <th>1</th>\n",
       "      <td>10.1016/j.foodchem.2013.11.152</td>\n",
       "      <td>2014</td>\n",
       "      <td>Hee-Woong Kim</td>\n",
       "      <td>2</td>\n",
       "      <td>middle_position</td>\n",
       "      <td>2099457132</td>\n",
       "      <td>165507594</td>\n",
       "      <td>False</td>\n",
       "      <td>NaN</td>\n",
       "      <td>False</td>\n",
       "      <td>...</td>\n",
       "      <td>unknown</td>\n",
       "      <td>2014-06-01</td>\n",
       "      <td>False</td>\n",
       "      <td>-1</td>\n",
       "      <td>NaN</td>\n",
       "      <td>False</td>\n",
       "      <td>-1</td>\n",
       "      <td>False</td>\n",
       "      <td>-1</td>\n",
       "      <td>False</td>\n",
       "    </tr>\n",
       "    <tr>\n",
       "      <th>2</th>\n",
       "      <td>10.1016/j.foodchem.2013.11.152</td>\n",
       "      <td>2014</td>\n",
       "      <td>Deug-Chan Lee</td>\n",
       "      <td>4</td>\n",
       "      <td>middle_position</td>\n",
       "      <td>2322741405</td>\n",
       "      <td>165507594</td>\n",
       "      <td>False</td>\n",
       "      <td>NaN</td>\n",
       "      <td>False</td>\n",
       "      <td>...</td>\n",
       "      <td>unknown</td>\n",
       "      <td>2014-06-01</td>\n",
       "      <td>False</td>\n",
       "      <td>-1</td>\n",
       "      <td>NaN</td>\n",
       "      <td>False</td>\n",
       "      <td>-1</td>\n",
       "      <td>False</td>\n",
       "      <td>-1</td>\n",
       "      <td>False</td>\n",
       "    </tr>\n",
       "  </tbody>\n",
       "</table>\n",
       "<p>3 rows × 81 columns</p>\n",
       "</div>"
      ],
      "text/plain": [
       "                              doi  pub_year    author_name  authorship_seq  \\\n",
       "0          10.4202/app.00261.2016      2016   Michal Zaton               2   \n",
       "1  10.1016/j.foodchem.2013.11.152      2014  Hee-Woong Kim               2   \n",
       "2  10.1016/j.foodchem.2013.11.152      2014  Deug-Chan Lee               4   \n",
       "\n",
       "    authorship_pos   author_id affiliation_ids  self_promotion_original  \\\n",
       "0    last_position  2064717215       864159182                    False   \n",
       "1  middle_position  2099457132       165507594                    False   \n",
       "2  middle_position  2322741405       165507594                    False   \n",
       "\n",
       "  matched_tid_original  self_promotion_retweet  ... author_eth_ethnea_broad  \\\n",
       "0                  NaN                   False  ...         EasternEuropean   \n",
       "1                  NaN                   False  ...                 unknown   \n",
       "2                  NaN                   False  ...                 unknown   \n",
       "\n",
       "     pub_date is_active_on_twitter follower_cn_snapshot  matched_uid  \\\n",
       "0  2016-01-01                False                   -1          NaN   \n",
       "1  2014-06-01                False                   -1          NaN   \n",
       "2  2014-06-01                False                   -1          NaN   \n",
       "\n",
       "   is_active_on_twitter_ours  follower_cn_snapshot_ours  \\\n",
       "0                      False                         -1   \n",
       "1                      False                         -1   \n",
       "2                      False                         -1   \n",
       "\n",
       "   is_active_on_twitter_combine follower_cn_snapshot_combine  \\\n",
       "0                         False                           -1   \n",
       "1                         False                           -1   \n",
       "2                         False                           -1   \n",
       "\n",
       "  self_promotion_first  \n",
       "0                False  \n",
       "1                False  \n",
       "2                False  \n",
       "\n",
       "[3 rows x 81 columns]"
      ]
     },
     "execution_count": 8,
     "metadata": {},
     "output_type": "execute_result"
    }
   ],
   "source": [
    "reg_data.head(3)"
   ]
  },
  {
   "cell_type": "markdown",
   "metadata": {},
   "source": [
    "Add paper publication date"
   ]
  },
  {
   "cell_type": "code",
   "execution_count": 9,
   "metadata": {},
   "outputs": [],
   "source": [
    "doi_pub_date = {}\n",
    "with open(Data_Root+'revision/papers_2013_2018.json', 'r') as ifile:\n",
    "    for line in ifile:\n",
    "        res = json.loads(line)\n",
    "        doi_pub_date[res['doi']] = res['data']['pub_date']"
   ]
  },
  {
   "cell_type": "code",
   "execution_count": 10,
   "metadata": {},
   "outputs": [
    {
     "data": {
      "text/plain": [
       "6601528"
      ]
     },
     "execution_count": 10,
     "metadata": {},
     "output_type": "execute_result"
    }
   ],
   "source": [
    "len(doi_pub_date)"
   ]
  },
  {
   "cell_type": "code",
   "execution_count": 11,
   "metadata": {},
   "outputs": [
    {
     "data": {
      "text/plain": [
       "'2016-01-01T00:00:00+00:00'"
      ]
     },
     "execution_count": 11,
     "metadata": {},
     "output_type": "execute_result"
    }
   ],
   "source": [
    "doi_pub_date['10.4202/app.00261.2016']"
   ]
  },
  {
   "cell_type": "code",
   "execution_count": 12,
   "metadata": {},
   "outputs": [],
   "source": [
    "reg_data['pub_date'] = reg_data['doi'].apply(lambda doi: doi_pub_date[doi][:10])"
   ]
  },
  {
   "cell_type": "code",
   "execution_count": 13,
   "metadata": {
    "scrolled": true
   },
   "outputs": [
    {
     "data": {
      "text/html": [
       "<div>\n",
       "<style scoped>\n",
       "    .dataframe tbody tr th:only-of-type {\n",
       "        vertical-align: middle;\n",
       "    }\n",
       "\n",
       "    .dataframe tbody tr th {\n",
       "        vertical-align: top;\n",
       "    }\n",
       "\n",
       "    .dataframe thead th {\n",
       "        text-align: right;\n",
       "    }\n",
       "</style>\n",
       "<table border=\"1\" class=\"dataframe\">\n",
       "  <thead>\n",
       "    <tr style=\"text-align: right;\">\n",
       "      <th></th>\n",
       "      <th>author_id</th>\n",
       "      <th>author_name</th>\n",
       "    </tr>\n",
       "  </thead>\n",
       "  <tbody>\n",
       "    <tr>\n",
       "      <th>0</th>\n",
       "      <td>2064717215</td>\n",
       "      <td>Michal Zaton</td>\n",
       "    </tr>\n",
       "    <tr>\n",
       "      <th>1</th>\n",
       "      <td>2099457132</td>\n",
       "      <td>Hee-Woong Kim</td>\n",
       "    </tr>\n",
       "    <tr>\n",
       "      <th>2</th>\n",
       "      <td>2322741405</td>\n",
       "      <td>Deug-Chan Lee</td>\n",
       "    </tr>\n",
       "    <tr>\n",
       "      <th>3</th>\n",
       "      <td>2463841131</td>\n",
       "      <td>Hae-Ik Rhee</td>\n",
       "    </tr>\n",
       "    <tr>\n",
       "      <th>4</th>\n",
       "      <td>2569941301</td>\n",
       "      <td>He Li</td>\n",
       "    </tr>\n",
       "    <tr>\n",
       "      <th>...</th>\n",
       "      <td>...</td>\n",
       "      <td>...</td>\n",
       "    </tr>\n",
       "    <tr>\n",
       "      <th>14552299</th>\n",
       "      <td>2429127808</td>\n",
       "      <td>Michael J. Pennock</td>\n",
       "    </tr>\n",
       "    <tr>\n",
       "      <th>14552300</th>\n",
       "      <td>2135560445</td>\n",
       "      <td>Mark A. Cohen</td>\n",
       "    </tr>\n",
       "    <tr>\n",
       "      <th>14552301</th>\n",
       "      <td>2166563239</td>\n",
       "      <td>Sally S. Simpson</td>\n",
       "    </tr>\n",
       "    <tr>\n",
       "      <th>14552302</th>\n",
       "      <td>2240327441</td>\n",
       "      <td>Thomas A. Loughran</td>\n",
       "    </tr>\n",
       "    <tr>\n",
       "      <th>14552303</th>\n",
       "      <td>2751943235</td>\n",
       "      <td>Miranda A. Galvin</td>\n",
       "    </tr>\n",
       "  </tbody>\n",
       "</table>\n",
       "<p>14552304 rows × 2 columns</p>\n",
       "</div>"
      ],
      "text/plain": [
       "           author_id         author_name\n",
       "0         2064717215        Michal Zaton\n",
       "1         2099457132       Hee-Woong Kim\n",
       "2         2322741405       Deug-Chan Lee\n",
       "3         2463841131         Hae-Ik Rhee\n",
       "4         2569941301               He Li\n",
       "...              ...                 ...\n",
       "14552299  2429127808  Michael J. Pennock\n",
       "14552300  2135560445       Mark A. Cohen\n",
       "14552301  2166563239    Sally S. Simpson\n",
       "14552302  2240327441  Thomas A. Loughran\n",
       "14552303  2751943235   Miranda A. Galvin\n",
       "\n",
       "[14552304 rows x 2 columns]"
      ]
     },
     "execution_count": 13,
     "metadata": {},
     "output_type": "execute_result"
    }
   ],
   "source": [
    "# https://docs.openalex.org/about-the-data\n",
    "# manually check these ids on openAlex: https://api.openalex.org/authors/A2569941301\n",
    "reg_data[['author_id', 'author_name']]"
   ]
  },
  {
   "cell_type": "code",
   "execution_count": 2,
   "metadata": {
    "scrolled": true
   },
   "outputs": [],
   "source": [
    "# reg_data.isna().sum()"
   ]
  },
  {
   "cell_type": "markdown",
   "metadata": {},
   "source": [
    "### Using author-tweeter matching data from the external source"
   ]
  },
  {
   "cell_type": "markdown",
   "metadata": {},
   "source": [
    "Data: `Costas et al. 2020 - Large-scale identification and characterization of scholars on Twitter`"
   ]
  },
  {
   "cell_type": "code",
   "execution_count": 17,
   "metadata": {},
   "outputs": [],
   "source": [
    "aid_uid_df = pd.read_csv(Data_Root + \"revision/authors_tweeters_2022_08_21.csv\", header=0, \\\n",
    "                        dtype={'tweeter_id': str})"
   ]
  },
  {
   "cell_type": "code",
   "execution_count": 18,
   "metadata": {
    "scrolled": false
   },
   "outputs": [
    {
     "data": {
      "text/plain": [
       "498672"
      ]
     },
     "execution_count": 18,
     "metadata": {},
     "output_type": "execute_result"
    }
   ],
   "source": [
    "len(aid_uid_df)"
   ]
  },
  {
   "cell_type": "code",
   "execution_count": 19,
   "metadata": {},
   "outputs": [],
   "source": [
    "aid_uid_df['mag_aid'] = aid_uid_df['author_id'].apply(lambda url: url.split('https://openalex.org/A')[1])"
   ]
  },
  {
   "cell_type": "code",
   "execution_count": 20,
   "metadata": {
    "scrolled": true
   },
   "outputs": [
    {
     "data": {
      "text/html": [
       "<div>\n",
       "<style scoped>\n",
       "    .dataframe tbody tr th:only-of-type {\n",
       "        vertical-align: middle;\n",
       "    }\n",
       "\n",
       "    .dataframe tbody tr th {\n",
       "        vertical-align: top;\n",
       "    }\n",
       "\n",
       "    .dataframe thead th {\n",
       "        text-align: right;\n",
       "    }\n",
       "</style>\n",
       "<table border=\"1\" class=\"dataframe\">\n",
       "  <thead>\n",
       "    <tr style=\"text-align: right;\">\n",
       "      <th></th>\n",
       "      <th>author_id</th>\n",
       "      <th>tweeter_id</th>\n",
       "      <th>criteria</th>\n",
       "      <th>valid</th>\n",
       "      <th>mag_aid</th>\n",
       "    </tr>\n",
       "  </thead>\n",
       "  <tbody>\n",
       "    <tr>\n",
       "      <th>119559</th>\n",
       "      <td>https://openalex.org/A2257728130</td>\n",
       "      <td>839792430023000064</td>\n",
       "      <td>full name (profile name),full name substring (...</td>\n",
       "      <td>NaN</td>\n",
       "      <td>2257728130</td>\n",
       "    </tr>\n",
       "    <tr>\n",
       "      <th>23084</th>\n",
       "      <td>https://openalex.org/A3216699643</td>\n",
       "      <td>1126876446260125696</td>\n",
       "      <td>first initial + last name (profile name)</td>\n",
       "      <td>1.0</td>\n",
       "      <td>3216699643</td>\n",
       "    </tr>\n",
       "    <tr>\n",
       "      <th>345060</th>\n",
       "      <td>https://openalex.org/A2885259549</td>\n",
       "      <td>22415100</td>\n",
       "      <td>first token + last name (profile name),first i...</td>\n",
       "      <td>NaN</td>\n",
       "      <td>2885259549</td>\n",
       "    </tr>\n",
       "    <tr>\n",
       "      <th>125106</th>\n",
       "      <td>https://openalex.org/A2960088177</td>\n",
       "      <td>858154875556909056</td>\n",
       "      <td>full name (profile name),full name substring (...</td>\n",
       "      <td>NaN</td>\n",
       "      <td>2960088177</td>\n",
       "    </tr>\n",
       "    <tr>\n",
       "      <th>303909</th>\n",
       "      <td>https://openalex.org/A1446706271</td>\n",
       "      <td>1496755333586427904</td>\n",
       "      <td>full name (profile name),full name substring (...</td>\n",
       "      <td>NaN</td>\n",
       "      <td>1446706271</td>\n",
       "    </tr>\n",
       "    <tr>\n",
       "      <th>433025</th>\n",
       "      <td>https://openalex.org/A2086255120</td>\n",
       "      <td>357343726</td>\n",
       "      <td>full name (profile name),full name substring (...</td>\n",
       "      <td>NaN</td>\n",
       "      <td>2086255120</td>\n",
       "    </tr>\n",
       "    <tr>\n",
       "      <th>69292</th>\n",
       "      <td>https://openalex.org/A2133902455</td>\n",
       "      <td>635354503</td>\n",
       "      <td>first token + last name (profile name),all ini...</td>\n",
       "      <td>1.0</td>\n",
       "      <td>2133902455</td>\n",
       "    </tr>\n",
       "    <tr>\n",
       "      <th>190410</th>\n",
       "      <td>https://openalex.org/A2107328086</td>\n",
       "      <td>10547982</td>\n",
       "      <td>full name (profile name),full name substring (...</td>\n",
       "      <td>NaN</td>\n",
       "      <td>2107328086</td>\n",
       "    </tr>\n",
       "    <tr>\n",
       "      <th>184064</th>\n",
       "      <td>https://openalex.org/A3133699441</td>\n",
       "      <td>1035912728504938497</td>\n",
       "      <td>full name (profile name),full name substring (...</td>\n",
       "      <td>NaN</td>\n",
       "      <td>3133699441</td>\n",
       "    </tr>\n",
       "    <tr>\n",
       "      <th>109497</th>\n",
       "      <td>https://openalex.org/A2426007080</td>\n",
       "      <td>808463595755466752</td>\n",
       "      <td>full name (profile name),full name substring (...</td>\n",
       "      <td>NaN</td>\n",
       "      <td>2426007080</td>\n",
       "    </tr>\n",
       "  </tbody>\n",
       "</table>\n",
       "</div>"
      ],
      "text/plain": [
       "                               author_id           tweeter_id  \\\n",
       "119559  https://openalex.org/A2257728130   839792430023000064   \n",
       "23084   https://openalex.org/A3216699643  1126876446260125696   \n",
       "345060  https://openalex.org/A2885259549             22415100   \n",
       "125106  https://openalex.org/A2960088177   858154875556909056   \n",
       "303909  https://openalex.org/A1446706271  1496755333586427904   \n",
       "433025  https://openalex.org/A2086255120            357343726   \n",
       "69292   https://openalex.org/A2133902455            635354503   \n",
       "190410  https://openalex.org/A2107328086             10547982   \n",
       "184064  https://openalex.org/A3133699441  1035912728504938497   \n",
       "109497  https://openalex.org/A2426007080   808463595755466752   \n",
       "\n",
       "                                                 criteria  valid     mag_aid  \n",
       "119559  full name (profile name),full name substring (...    NaN  2257728130  \n",
       "23084            first initial + last name (profile name)    1.0  3216699643  \n",
       "345060  first token + last name (profile name),first i...    NaN  2885259549  \n",
       "125106  full name (profile name),full name substring (...    NaN  2960088177  \n",
       "303909  full name (profile name),full name substring (...    NaN  1446706271  \n",
       "433025  full name (profile name),full name substring (...    NaN  2086255120  \n",
       "69292   first token + last name (profile name),all ini...    1.0  2133902455  \n",
       "190410  full name (profile name),full name substring (...    NaN  2107328086  \n",
       "184064  full name (profile name),full name substring (...    NaN  3133699441  \n",
       "109497  full name (profile name),full name substring (...    NaN  2426007080  "
      ]
     },
     "execution_count": 20,
     "metadata": {},
     "output_type": "execute_result"
    }
   ],
   "source": [
    "aid_uid_df.sample(10)"
   ]
  },
  {
   "cell_type": "code",
   "execution_count": 21,
   "metadata": {},
   "outputs": [
    {
     "data": {
      "text/plain": [
       "author_id          0\n",
       "tweeter_id         0\n",
       "criteria           0\n",
       "valid         422693\n",
       "mag_aid            0\n",
       "dtype: int64"
      ]
     },
     "execution_count": 21,
     "metadata": {},
     "output_type": "execute_result"
    }
   ],
   "source": [
    "aid_uid_df.isna().sum()"
   ]
  },
  {
   "cell_type": "code",
   "execution_count": 22,
   "metadata": {},
   "outputs": [
    {
     "data": {
      "text/plain": [
       "NaN    422693\n",
       "1.0     69688\n",
       "0.0      6291\n",
       "Name: valid, dtype: int64"
      ]
     },
     "execution_count": 22,
     "metadata": {},
     "output_type": "execute_result"
    }
   ],
   "source": [
    "aid_uid_df['valid'].value_counts(dropna=False)"
   ]
  },
  {
   "cell_type": "code",
   "execution_count": 23,
   "metadata": {},
   "outputs": [
    {
     "data": {
      "text/plain": [
       "0.9172008054857264"
      ]
     },
     "execution_count": 23,
     "metadata": {},
     "output_type": "execute_result"
    }
   ],
   "source": [
    "np.mean(aid_uid_df['valid'])"
   ]
  },
  {
   "cell_type": "code",
   "execution_count": 24,
   "metadata": {
    "scrolled": true
   },
   "outputs": [
    {
     "data": {
      "text/plain": [
       "492381"
      ]
     },
     "execution_count": 24,
     "metadata": {},
     "output_type": "execute_result"
    }
   ],
   "source": [
    "len(aid_uid_df.loc[aid_uid_df['valid'] != 0])"
   ]
  },
  {
   "cell_type": "code",
   "execution_count": 25,
   "metadata": {},
   "outputs": [],
   "source": [
    "aid_uids = {}\n",
    "\n",
    "for aid, gp in aid_uid_df.loc[aid_uid_df['valid'] != 0].groupby('mag_aid'):\n",
    "    aid_uids[aid] = list(set(gp['tweeter_id']))"
   ]
  },
  {
   "cell_type": "code",
   "execution_count": 26,
   "metadata": {
    "scrolled": true
   },
   "outputs": [
    {
     "data": {
      "text/plain": [
       "488178"
      ]
     },
     "execution_count": 26,
     "metadata": {},
     "output_type": "execute_result"
    }
   ],
   "source": [
    "len(aid_uids)"
   ]
  },
  {
   "cell_type": "code",
   "execution_count": 32,
   "metadata": {},
   "outputs": [
    {
     "data": {
      "text/plain": [
       "201425"
      ]
     },
     "execution_count": 32,
     "metadata": {},
     "output_type": "execute_result"
    }
   ],
   "source": [
    "len(set(reg_data.loc[reg_data['author_id'].isin(aid_uids)]['author_id']))"
   ]
  },
  {
   "cell_type": "code",
   "execution_count": 27,
   "metadata": {},
   "outputs": [],
   "source": [
    "cn = 0\n",
    "for aid in aid_uids:\n",
    "    if len(aid_uids[aid]) > 1:\n",
    "        cn += 1"
   ]
  },
  {
   "cell_type": "code",
   "execution_count": 28,
   "metadata": {
    "scrolled": true
   },
   "outputs": [
    {
     "data": {
      "text/plain": [
       "3975"
      ]
     },
     "execution_count": 28,
     "metadata": {},
     "output_type": "execute_result"
    }
   ],
   "source": [
    "# some authors have matched to multiple tw accounts.\n",
    "cn"
   ]
  },
  {
   "cell_type": "code",
   "execution_count": 29,
   "metadata": {},
   "outputs": [],
   "source": [
    "all_uids = set()\n",
    "\n",
    "for aid in aid_uids:\n",
    "    for uid in aid_uids[aid]:\n",
    "        all_uids.add(uid)"
   ]
  },
  {
   "cell_type": "code",
   "execution_count": 30,
   "metadata": {
    "scrolled": true
   },
   "outputs": [
    {
     "data": {
      "text/plain": [
       "420813"
      ]
     },
     "execution_count": 30,
     "metadata": {},
     "output_type": "execute_result"
    }
   ],
   "source": [
    "# num of unique Tw user id\n",
    "len(all_uids)"
   ]
  },
  {
   "cell_type": "code",
   "execution_count": 106,
   "metadata": {},
   "outputs": [],
   "source": [
    "uid_account_creation_time_follower = {}\n",
    "uid_active_times = defaultdict(list)\n",
    "\n",
    "with open(Data_Root+'tweets_v2.json', 'r') as ifile:\n",
    "    for line in ifile:\n",
    "        line = json.loads(line)\n",
    "        uid = line['user']['id_str']\n",
    "        if uid in all_uids:\n",
    "            if uid not in uid_account_creation_time_follower:\n",
    "                creation_time = line['user']['created_at']\n",
    "                # this is counted at data collection time. All tweets are collected around the same time.\n",
    "                f_cn = line['user']['followers_count']\n",
    "                uid_account_creation_time_follower[uid] = (creation_time, f_cn)\n",
    "            tweet_time = line['created_at']\n",
    "            uid_active_times[uid].append(tweet_time)\n",
    "\n",
    "with open(Data_Root+'tweets_v2_non_full_text.json', 'r') as ifile:\n",
    "    for line in ifile:\n",
    "        line = json.loads(line)\n",
    "        uid = line['user']['id_str']\n",
    "        if uid in all_uids:\n",
    "            if uid not in uid_account_creation_time_follower:\n",
    "                creation_time = line['user']['created_at']\n",
    "                f_cn = line['user']['followers_count']\n",
    "                uid_account_creation_time_follower[uid] = (creation_time, f_cn)\n",
    "            tweet_time = line['created_at']\n",
    "            uid_active_times[uid].append(tweet_time)"
   ]
  },
  {
   "cell_type": "code",
   "execution_count": 124,
   "metadata": {
    "scrolled": false
   },
   "outputs": [],
   "source": [
    "uid_active_times = dict(uid_active_times)"
   ]
  },
  {
   "cell_type": "markdown",
   "metadata": {},
   "source": [
    "count how many of their uids are in our tw data."
   ]
  },
  {
   "cell_type": "code",
   "execution_count": 107,
   "metadata": {
    "scrolled": false
   },
   "outputs": [
    {
     "data": {
      "text/plain": [
       "288883"
      ]
     },
     "execution_count": 107,
     "metadata": {},
     "output_type": "execute_result"
    }
   ],
   "source": [
    "len(uid_account_creation_time_follower)"
   ]
  },
  {
   "cell_type": "code",
   "execution_count": 108,
   "metadata": {
    "scrolled": false
   },
   "outputs": [
    {
     "data": {
      "text/plain": [
       "288883"
      ]
     },
     "execution_count": 108,
     "metadata": {},
     "output_type": "execute_result"
    }
   ],
   "source": [
    "len(uid_active_times)"
   ]
  },
  {
   "cell_type": "code",
   "execution_count": 109,
   "metadata": {},
   "outputs": [],
   "source": [
    "with open(Data_Root+'revision/uid_account_info.json', 'w') as ofile:\n",
    "    for uid in uid_active_times:\n",
    "        creation_time, f_cn = uid_account_creation_time_follower[uid]\n",
    "        alist = uid_active_times[uid]\n",
    "        res = {'tweeter_id': uid, 'created_at': creation_time, 'follower_cn_snapshot': f_cn, 'active_time': alist}\n",
    "        ofile.write(json.dumps(res)+'\\n')"
   ]
  },
  {
   "cell_type": "code",
   "execution_count": 110,
   "metadata": {},
   "outputs": [],
   "source": [
    "for uid, alist in uid_active_times.items():\n",
    "    blist = []\n",
    "    for tdate in alist:\n",
    "        tdate = datetime.strptime(tdate, '%a %b %d %H:%M:%S +0000 %Y')\n",
    "        # reformat back to string\n",
    "        # tdate = tdate.strftime(\"%Y-%m-%dT%H:%M:%S\")\n",
    "        blist.append(tdate)\n",
    "    uid_active_times[uid] = sorted(blist)"
   ]
  },
  {
   "cell_type": "code",
   "execution_count": 111,
   "metadata": {
    "scrolled": true
   },
   "outputs": [
    {
     "data": {
      "text/plain": [
       "[datetime.datetime(2012, 6, 25, 18, 37, 17),\n",
       " datetime.datetime(2013, 9, 30, 15, 12, 34),\n",
       " datetime.datetime(2014, 6, 11, 10, 52, 48),\n",
       " datetime.datetime(2014, 11, 25, 14, 2, 7),\n",
       " datetime.datetime(2015, 9, 29, 15, 1, 50),\n",
       " datetime.datetime(2015, 10, 27, 14, 1, 53),\n",
       " datetime.datetime(2015, 11, 5, 16, 2, 9),\n",
       " datetime.datetime(2016, 4, 15, 11, 0, 22),\n",
       " datetime.datetime(2018, 1, 15, 15, 46, 9),\n",
       " datetime.datetime(2018, 1, 15, 16, 26, 49),\n",
       " datetime.datetime(2018, 1, 17, 14, 10, 26),\n",
       " datetime.datetime(2018, 7, 19, 8, 35),\n",
       " datetime.datetime(2018, 11, 5, 16, 53, 44),\n",
       " datetime.datetime(2019, 6, 30, 12, 42, 55),\n",
       " datetime.datetime(2019, 9, 25, 13, 0, 59)]"
      ]
     },
     "execution_count": 111,
     "metadata": {},
     "output_type": "execute_result"
    }
   ],
   "source": [
    "uid_active_times['11100372']"
   ]
  },
  {
   "cell_type": "code",
   "execution_count": 132,
   "metadata": {},
   "outputs": [],
   "source": [
    "def code_tw_active_status_fcn(row):\n",
    "    aid, pub_date = row['author_id'], row['pub_date']\n",
    "    pub_date = datetime.strptime(pub_date, '%Y-%m-%d')\n",
    "    flag = False\n",
    "    fcn = -1\n",
    "    if aid in aid_uids:\n",
    "        for uid in aid_uids[aid]:\n",
    "            # get the earliest active date\n",
    "            if uid in uid_active_times:\n",
    "                eatime = uid_active_times[uid][0]\n",
    "                if (pub_date - eatime).total_seconds() >= 0:\n",
    "                    flag = True\n",
    "                    fcn = uid_account_creation_time_follower[uid][1]\n",
    "                    break\n",
    "    return (flag, fcn)"
   ]
  },
  {
   "cell_type": "code",
   "execution_count": 134,
   "metadata": {},
   "outputs": [],
   "source": [
    "# an author_id could be active for some of their observations, but inactive for other obs.\n",
    "reg_data['Tem'] = reg_data.apply(lambda row: code_tw_active_status_fcn(row), axis = 1)"
   ]
  },
  {
   "cell_type": "code",
   "execution_count": 135,
   "metadata": {},
   "outputs": [],
   "source": [
    "reg_data[['is_active_on_twitter', 'follower_cn_snapshot']] = pd.DataFrame(reg_data['Tem'].values.tolist(), index = reg_data.index)\n",
    "reg_data = reg_data.drop(columns=['Tem'])\n"
   ]
  },
  {
   "cell_type": "code",
   "execution_count": 138,
   "metadata": {
    "scrolled": false
   },
   "outputs": [
    {
     "data": {
      "text/plain": [
       "False    13873164\n",
       "True       679140\n",
       "Name: is_active_on_twitter, dtype: int64"
      ]
     },
     "execution_count": 138,
     "metadata": {},
     "output_type": "execute_result"
    }
   ],
   "source": [
    "reg_data['is_active_on_twitter'].value_counts(dropna=False)"
   ]
  },
  {
   "cell_type": "code",
   "execution_count": 141,
   "metadata": {
    "scrolled": true
   },
   "outputs": [
    {
     "data": {
      "text/plain": [
       "True     285926\n",
       "False    239966\n",
       "Name: is_active_on_twitter, dtype: int64"
      ]
     },
     "execution_count": 141,
     "metadata": {},
     "output_type": "execute_result"
    }
   ],
   "source": [
    "# self_promotion is coded based on our heuristic, active status is coded based on the external data.\n",
    "# discrepency is expected due to different heuristics.\n",
    "reg_data.loc[reg_data['self_promotion'] == True]['is_active_on_twitter'].value_counts()"
   ]
  },
  {
   "cell_type": "code",
   "execution_count": 140,
   "metadata": {
    "scrolled": false
   },
   "outputs": [
    {
     "data": {
      "text/plain": [
       "833.0"
      ]
     },
     "execution_count": 140,
     "metadata": {},
     "output_type": "execute_result"
    }
   ],
   "source": [
    "np.median(reg_data.loc[reg_data['is_active_on_twitter']==True, 'follower_cn_snapshot'])"
   ]
  },
  {
   "cell_type": "code",
   "execution_count": 140,
   "metadata": {},
   "outputs": [
    {
     "name": "stdout",
     "output_type": "stream",
     "text": [
      "2013 0.3485364439936241\n",
      "2014 0.3630606757336035\n",
      "2015 0.378611831251473\n",
      "2016 0.3858121338808424\n",
      "2017 0.42856356092964054\n",
      "2018 0.471245501357713\n"
     ]
    }
   ],
   "source": [
    "for year, gp in reg_data.loc[reg_data['is_active_on_twitter'] == True].groupby('pub_year'):\n",
    "    print(year, np.mean(gp['self_promotion']))"
   ]
  },
  {
   "cell_type": "code",
   "execution_count": null,
   "metadata": {},
   "outputs": [],
   "source": []
  }
 ],
 "metadata": {
  "kernelspec": {
   "display_name": "Python 3 (ipykernel)",
   "language": "python",
   "name": "python3"
  },
  "language_info": {
   "codemirror_mode": {
    "name": "ipython",
    "version": 3
   },
   "file_extension": ".py",
   "mimetype": "text/x-python",
   "name": "python",
   "nbconvert_exporter": "python",
   "pygments_lexer": "ipython3",
   "version": "3.8.13"
  }
 },
 "nbformat": 4,
 "nbformat_minor": 4
}
