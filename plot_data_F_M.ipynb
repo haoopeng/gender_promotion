{
 "cells": [
  {
   "cell_type": "code",
   "execution_count": 5,
   "metadata": {},
   "outputs": [],
   "source": [
    "import os\n",
    "import math\n",
    "import json\n",
    "import numpy as np\n",
    "import pandas as pd\n",
    "import seaborn as sns\n",
    "from collections import Counter\n",
    "import matplotlib.colors\n",
    "import matplotlib.cm as cm\n",
    "import matplotlib.pyplot as plt\n",
    "import matplotlib.ticker as ticker\n",
    "from datetime import datetime"
   ]
  },
  {
   "cell_type": "code",
   "execution_count": 6,
   "metadata": {},
   "outputs": [],
   "source": [
    "Data_Root = '/Data/Promotion/'"
   ]
  },
  {
   "cell_type": "code",
   "execution_count": 7,
   "metadata": {},
   "outputs": [],
   "source": [
    "CIs = {'90': 1.645, '95': 1.96, '99': 2.576}"
   ]
  },
  {
   "cell_type": "code",
   "execution_count": 42,
   "metadata": {},
   "outputs": [],
   "source": [
    "gens = ['Male', 'Female']\n",
    "labels = ['Man', 'Woman']"
   ]
  },
  {
   "cell_type": "code",
   "execution_count": 9,
   "metadata": {},
   "outputs": [],
   "source": [
    "colors = sns.color_palette()[:len(labels)]"
   ]
  },
  {
   "cell_type": "code",
   "execution_count": 17,
   "metadata": {},
   "outputs": [],
   "source": [
    "reg_data = pd.read_csv(Data_Root+\"revision/reg_data_drop_missing.csv\", header=0, dtype={'matched_tid': str, 'matched_tid_retweet': str, 'matched_tid_original': str})\n"
   ]
  },
  {
   "cell_type": "code",
   "execution_count": 18,
   "metadata": {},
   "outputs": [
    {
     "data": {
      "text/plain": [
       "14552304"
      ]
     },
     "execution_count": 18,
     "metadata": {},
     "output_type": "execute_result"
    }
   ],
   "source": [
    "len(reg_data)"
   ]
  },
  {
   "cell_type": "code",
   "execution_count": 19,
   "metadata": {
    "scrolled": false
   },
   "outputs": [
    {
     "data": {
      "text/html": [
       "<div>\n",
       "<style scoped>\n",
       "    .dataframe tbody tr th:only-of-type {\n",
       "        vertical-align: middle;\n",
       "    }\n",
       "\n",
       "    .dataframe tbody tr th {\n",
       "        vertical-align: top;\n",
       "    }\n",
       "\n",
       "    .dataframe thead th {\n",
       "        text-align: right;\n",
       "    }\n",
       "</style>\n",
       "<table border=\"1\" class=\"dataframe\">\n",
       "  <thead>\n",
       "    <tr style=\"text-align: right;\">\n",
       "      <th></th>\n",
       "      <th>doi</th>\n",
       "      <th>pub_year</th>\n",
       "      <th>author_name</th>\n",
       "      <th>authorship_seq</th>\n",
       "      <th>authorship_pos</th>\n",
       "      <th>author_id</th>\n",
       "      <th>affiliation_ids</th>\n",
       "      <th>self_promotion_original</th>\n",
       "      <th>matched_tid_original</th>\n",
       "      <th>self_promotion_retweet</th>\n",
       "      <th>...</th>\n",
       "      <th>author_eth_ethnea_broad</th>\n",
       "      <th>pub_date</th>\n",
       "      <th>is_active_on_twitter</th>\n",
       "      <th>follower_cn_snapshot</th>\n",
       "      <th>matched_uid</th>\n",
       "      <th>is_active_on_twitter_ours</th>\n",
       "      <th>follower_cn_snapshot_ours</th>\n",
       "      <th>is_active_on_twitter_combine</th>\n",
       "      <th>follower_cn_snapshot_combine</th>\n",
       "      <th>self_promotion_first</th>\n",
       "    </tr>\n",
       "  </thead>\n",
       "  <tbody>\n",
       "    <tr>\n",
       "      <th>0</th>\n",
       "      <td>10.4202/app.00261.2016</td>\n",
       "      <td>2016</td>\n",
       "      <td>Michal Zaton</td>\n",
       "      <td>2</td>\n",
       "      <td>last_position</td>\n",
       "      <td>2064717215</td>\n",
       "      <td>864159182</td>\n",
       "      <td>False</td>\n",
       "      <td>NaN</td>\n",
       "      <td>False</td>\n",
       "      <td>...</td>\n",
       "      <td>EasternEuropean</td>\n",
       "      <td>2016-01-01</td>\n",
       "      <td>False</td>\n",
       "      <td>-1</td>\n",
       "      <td>NaN</td>\n",
       "      <td>False</td>\n",
       "      <td>-1</td>\n",
       "      <td>False</td>\n",
       "      <td>-1</td>\n",
       "      <td>False</td>\n",
       "    </tr>\n",
       "    <tr>\n",
       "      <th>1</th>\n",
       "      <td>10.1016/j.foodchem.2013.11.152</td>\n",
       "      <td>2014</td>\n",
       "      <td>Hee-Woong Kim</td>\n",
       "      <td>2</td>\n",
       "      <td>middle_position</td>\n",
       "      <td>2099457132</td>\n",
       "      <td>165507594</td>\n",
       "      <td>False</td>\n",
       "      <td>NaN</td>\n",
       "      <td>False</td>\n",
       "      <td>...</td>\n",
       "      <td>unknown</td>\n",
       "      <td>2014-06-01</td>\n",
       "      <td>False</td>\n",
       "      <td>-1</td>\n",
       "      <td>NaN</td>\n",
       "      <td>False</td>\n",
       "      <td>-1</td>\n",
       "      <td>False</td>\n",
       "      <td>-1</td>\n",
       "      <td>False</td>\n",
       "    </tr>\n",
       "    <tr>\n",
       "      <th>2</th>\n",
       "      <td>10.1016/j.foodchem.2013.11.152</td>\n",
       "      <td>2014</td>\n",
       "      <td>Deug-Chan Lee</td>\n",
       "      <td>4</td>\n",
       "      <td>middle_position</td>\n",
       "      <td>2322741405</td>\n",
       "      <td>165507594</td>\n",
       "      <td>False</td>\n",
       "      <td>NaN</td>\n",
       "      <td>False</td>\n",
       "      <td>...</td>\n",
       "      <td>unknown</td>\n",
       "      <td>2014-06-01</td>\n",
       "      <td>False</td>\n",
       "      <td>-1</td>\n",
       "      <td>NaN</td>\n",
       "      <td>False</td>\n",
       "      <td>-1</td>\n",
       "      <td>False</td>\n",
       "      <td>-1</td>\n",
       "      <td>False</td>\n",
       "    </tr>\n",
       "  </tbody>\n",
       "</table>\n",
       "<p>3 rows × 81 columns</p>\n",
       "</div>"
      ],
      "text/plain": [
       "                              doi  pub_year    author_name  authorship_seq  \\\n",
       "0          10.4202/app.00261.2016      2016   Michal Zaton               2   \n",
       "1  10.1016/j.foodchem.2013.11.152      2014  Hee-Woong Kim               2   \n",
       "2  10.1016/j.foodchem.2013.11.152      2014  Deug-Chan Lee               4   \n",
       "\n",
       "    authorship_pos   author_id affiliation_ids  self_promotion_original  \\\n",
       "0    last_position  2064717215       864159182                    False   \n",
       "1  middle_position  2099457132       165507594                    False   \n",
       "2  middle_position  2322741405       165507594                    False   \n",
       "\n",
       "  matched_tid_original  self_promotion_retweet  ... author_eth_ethnea_broad  \\\n",
       "0                  NaN                   False  ...         EasternEuropean   \n",
       "1                  NaN                   False  ...                 unknown   \n",
       "2                  NaN                   False  ...                 unknown   \n",
       "\n",
       "     pub_date is_active_on_twitter follower_cn_snapshot  matched_uid  \\\n",
       "0  2016-01-01                False                   -1          NaN   \n",
       "1  2014-06-01                False                   -1          NaN   \n",
       "2  2014-06-01                False                   -1          NaN   \n",
       "\n",
       "   is_active_on_twitter_ours  follower_cn_snapshot_ours  \\\n",
       "0                      False                         -1   \n",
       "1                      False                         -1   \n",
       "2                      False                         -1   \n",
       "\n",
       "   is_active_on_twitter_combine follower_cn_snapshot_combine  \\\n",
       "0                         False                           -1   \n",
       "1                         False                           -1   \n",
       "2                         False                           -1   \n",
       "\n",
       "  self_promotion_first  \n",
       "0                False  \n",
       "1                False  \n",
       "2                False  \n",
       "\n",
       "[3 rows x 81 columns]"
      ]
     },
     "execution_count": 19,
     "metadata": {},
     "output_type": "execute_result"
    }
   ],
   "source": [
    "reg_data.head(n=3)"
   ]
  },
  {
   "cell_type": "code",
   "execution_count": 20,
   "metadata": {
    "scrolled": false
   },
   "outputs": [
    {
     "data": {
      "text/plain": [
       "Male       7386241\n",
       "Female     4033798\n",
       "Unknown    2322008\n",
       "Unisex      810257\n",
       "Name: gender, dtype: int64"
      ]
     },
     "execution_count": 20,
     "metadata": {},
     "output_type": "execute_result"
    }
   ],
   "source": [
    "reg_data.gender.value_counts()"
   ]
  },
  {
   "cell_type": "code",
   "execution_count": 21,
   "metadata": {
    "scrolled": false
   },
   "outputs": [
    {
     "data": {
      "text/plain": [
       "Male       0.507565\n",
       "Female     0.277193\n",
       "Unknown    0.159563\n",
       "Unisex     0.055679\n",
       "Name: gender, dtype: float64"
      ]
     },
     "execution_count": 21,
     "metadata": {},
     "output_type": "execute_result"
    }
   ],
   "source": [
    "reg_data.gender.value_counts()/len(reg_data)"
   ]
  },
  {
   "cell_type": "markdown",
   "metadata": {},
   "source": [
    "### Exclude unisex and unknown"
   ]
  },
  {
   "cell_type": "code",
   "execution_count": 22,
   "metadata": {},
   "outputs": [],
   "source": [
    "reg_data = reg_data.loc[reg_data['gender'].isin(['Female', 'Male'])]\n",
    "reg_data.index = range(len(reg_data))"
   ]
  },
  {
   "cell_type": "markdown",
   "metadata": {},
   "source": [
    "### Exclude unknown affiliation locations"
   ]
  },
  {
   "cell_type": "code",
   "execution_count": 24,
   "metadata": {
    "scrolled": true
   },
   "outputs": [
    {
     "data": {
      "text/plain": [
       "23287"
      ]
     },
     "execution_count": 24,
     "metadata": {},
     "output_type": "execute_result"
    }
   ],
   "source": [
    "len(reg_data.loc[reg_data.affiliation_cate == 'unknown'])"
   ]
  },
  {
   "cell_type": "code",
   "execution_count": 25,
   "metadata": {},
   "outputs": [],
   "source": [
    "reg_data = reg_data.loc[reg_data.affiliation_cate != 'unknown']\n",
    "reg_data.index = range(len(reg_data))"
   ]
  },
  {
   "cell_type": "code",
   "execution_count": 26,
   "metadata": {},
   "outputs": [
    {
     "data": {
      "text/plain": [
       "11396752"
      ]
     },
     "execution_count": 26,
     "metadata": {},
     "output_type": "execute_result"
    }
   ],
   "source": [
    "len(reg_data)"
   ]
  },
  {
   "cell_type": "code",
   "execution_count": 38,
   "metadata": {},
   "outputs": [],
   "source": [
    "dois_ = set(reg_data.doi)"
   ]
  },
  {
   "cell_type": "code",
   "execution_count": 39,
   "metadata": {},
   "outputs": [
    {
     "data": {
      "text/plain": [
       "2834829"
      ]
     },
     "execution_count": 39,
     "metadata": {},
     "output_type": "execute_result"
    }
   ],
   "source": [
    "len(dois_)"
   ]
  },
  {
   "cell_type": "code",
   "execution_count": 40,
   "metadata": {},
   "outputs": [],
   "source": [
    "i = 0\n",
    "\n",
    "with open(Data_Root+'revision/papers_2013_2018.json', 'r') as ifile:\n",
    "    for line in ifile:\n",
    "        res = json.loads(line)\n",
    "        if res['doi'] in dois_:\n",
    "            i += len(res['data']['tweets'])"
   ]
  },
  {
   "cell_type": "code",
   "execution_count": 41,
   "metadata": {},
   "outputs": [
    {
     "name": "stdout",
     "output_type": "stream",
     "text": [
      "23066929\n"
     ]
    }
   ],
   "source": [
    "# total num of tweet mentions\n",
    "print(i)"
   ]
  },
  {
   "cell_type": "code",
   "execution_count": null,
   "metadata": {},
   "outputs": [],
   "source": []
  },
  {
   "cell_type": "markdown",
   "metadata": {},
   "source": [
    "### Paper-level analysis in raw data"
   ]
  },
  {
   "cell_type": "code",
   "execution_count": 85,
   "metadata": {},
   "outputs": [],
   "source": [
    "# original and retweets\n",
    "tid_name = {}\n",
    "\n",
    "with open(Data_Root+'tweets_v2.json', 'r') as ifile:\n",
    "    for line in ifile:\n",
    "        line = json.loads(line)\n",
    "        tid = line['id_str']\n",
    "        tid_name[tid] = line['user']['name']\n",
    "        \n",
    "with open(Data_Root+'tweets_v2_non_full_text.json', 'r') as ifile:\n",
    "    for line in ifile:\n",
    "        line = json.loads(line)\n",
    "        tid = line['id_str']\n",
    "        tid_name[tid] = line['user']['name']"
   ]
  },
  {
   "cell_type": "code",
   "execution_count": 86,
   "metadata": {
    "scrolled": false
   },
   "outputs": [
    {
     "data": {
      "text/plain": [
       "77497304"
      ]
     },
     "execution_count": 86,
     "metadata": {},
     "output_type": "execute_result"
    }
   ],
   "source": [
    "len(tid_name)"
   ]
  },
  {
   "cell_type": "code",
   "execution_count": 92,
   "metadata": {},
   "outputs": [],
   "source": [
    "dois = set(reg_data.doi)\n",
    "\n",
    "doi_tids = {}\n",
    "with open(Data_Root+'revision/papers_2013_2018.json', 'r') as ifile:\n",
    "    for line in ifile:\n",
    "        res = json.loads(line)\n",
    "        if res['doi'] in dois:\n",
    "            doi_tids[res['doi']] = [tweet['tweet_id'] for tweet in res['data']['tweets'] if tweet['tweet_id'] in tid_name]\n",
    "del dois"
   ]
  },
  {
   "cell_type": "code",
   "execution_count": 93,
   "metadata": {
    "scrolled": false
   },
   "outputs": [
    {
     "data": {
      "text/plain": [
       "2834829"
      ]
     },
     "execution_count": 93,
     "metadata": {},
     "output_type": "execute_result"
    }
   ],
   "source": [
    "len(doi_tids)"
   ]
  },
  {
   "cell_type": "code",
   "execution_count": 94,
   "metadata": {},
   "outputs": [
    {
     "data": {
      "image/png": "[encoded data removed]",
      "text/plain": [
       "<Figure size 216x180 with 1 Axes>"
      ]
     },
     "metadata": {
      "needs_background": "light"
     },
     "output_type": "display_data"
    }
   ],
   "source": [
    "fig, ax = plt.subplots(figsize = (3, 2.5))\n",
    "\n",
    "ax.hist([len(doi_tids[doi]) for doi in doi_tids], bins = 30, color='k', alpha=1, linewidth=1.5, histtype='step')\n",
    "ax.set_ylabel('Number of papers')\n",
    "ax.set_xlabel('Number of tweet mentions')\n",
    "ax.set_yscale('log')\n",
    "ax.set_xscale('log')\n",
    "ax.set_xlim(right=1e4)\n",
    "# legend = ax.legend(loc=[0.55, 0.7], numpoints=2, labelspacing = 0.15, shadow=False, frameon = False)\n",
    "plt.show()\n",
    "fig.savefig('./paper_tweets_hist.pdf', bbox_inches='tight', pad_inches=0.02)"
   ]
  },
  {
   "cell_type": "markdown",
   "metadata": {},
   "source": [
    "Popularity"
   ]
  },
  {
   "cell_type": "code",
   "execution_count": 95,
   "metadata": {},
   "outputs": [],
   "source": [
    "doi_frac_self_promo = []\n",
    "for doi, sub_df in reg_data.groupby('doi'):\n",
    "    total = len(doi_tids[doi])\n",
    "    if total > 0:\n",
    "        promo_users = set([tid_name[str(tid)] for tid in sub_df.loc[sub_df.self_promotion == True]['matched_tid']])\n",
    "        num_self_promo = 0\n",
    "        for tid in doi_tids[doi]:\n",
    "            if tid_name[tid] in promo_users:\n",
    "                num_self_promo += 1\n",
    "        doi_frac_self_promo.append((doi, total, num_self_promo))"
   ]
  },
  {
   "cell_type": "code",
   "execution_count": 96,
   "metadata": {
    "scrolled": false
   },
   "outputs": [
    {
     "data": {
      "text/plain": [
       "2046732"
      ]
     },
     "execution_count": 96,
     "metadata": {},
     "output_type": "execute_result"
    }
   ],
   "source": [
    "len(doi_frac_self_promo)"
   ]
  },
  {
   "cell_type": "code",
   "execution_count": 97,
   "metadata": {
    "scrolled": true
   },
   "outputs": [
    {
     "data": {
      "text/plain": [
       "0.04367299188803496"
      ]
     },
     "execution_count": 97,
     "metadata": {},
     "output_type": "execute_result"
    }
   ],
   "source": [
    "np.mean([num_self_promo/total for doi, total, num_self_promo in doi_frac_self_promo if total > 0])"
   ]
  },
  {
   "cell_type": "code",
   "execution_count": 98,
   "metadata": {
    "scrolled": true
   },
   "outputs": [
    {
     "name": "stdout",
     "output_type": "stream",
     "text": [
      "0 < x <= 10 0.042127076550066006 0.0\n",
      "10 < x <= 20 0.055990710812375985 0.0\n",
      "20 < x <= 30 0.053717550649167084 0.0\n",
      "30 < x <= 40 0.051178454860133525 0.02631578947368421\n",
      "40 < x <= 50 0.04806262710830598 0.021739130434782608\n",
      "50 < x <= 60 0.04523749933032134 0.018518518518518517\n",
      "60 < x <= 70 0.04237157211533122 0.015873015873015872\n",
      "70 < x <= 80 0.04286691107962363 0.013888888888888888\n",
      "80 < x <= 90 0.04117621429600945 0.022222222222222223\n",
      "90 < x <= 100 0.038804285951398475 0.020202020202020204\n",
      "100 < x <= 110 0.040295779149073604 0.018691588785046728\n"
     ]
    }
   ],
   "source": [
    "for i in range(0, 101, 10):\n",
    "    tem = []\n",
    "    for doi, total, num_self_promo in doi_frac_self_promo:\n",
    "        if total > i and total <= (i+10):\n",
    "            tem.append(num_self_promo/total)\n",
    "    print(\"%d < x <= %d\"%(i, i+10), np.mean(tem), np.median(tem))"
   ]
  },
  {
   "cell_type": "code",
   "execution_count": 104,
   "metadata": {
    "scrolled": false
   },
   "outputs": [
    {
     "data": {
      "image/png": "[encoded data removed]",
      "text/plain": [
       "<Figure size 216x180 with 1 Axes>"
      ]
     },
     "metadata": {
      "needs_background": "light"
     },
     "output_type": "display_data"
    }
   ],
   "source": [
    "nrows = 1\n",
    "ncols = 1\n",
    "fig, ax = plt.subplots(nrows=nrows, ncols=ncols, figsize=(3, 2.5))\n",
    "\n",
    "\n",
    "xs, ys, confs = [], [], []\n",
    "\n",
    "step = 10\n",
    "for i in range(0, 91, step):\n",
    "    xs.append(i)\n",
    "    tem = []\n",
    "    for doi, total, num_self_promo in doi_frac_self_promo:\n",
    "        if total > i and total <= (i+step):\n",
    "            tem.append(num_self_promo/total)\n",
    "    ys.append(np.mean(tem))\n",
    "    confs.append(CIs['95'] * np.std(tem) / np.sqrt(len(tem)))\n",
    "                    \n",
    "ax.errorbar(xs, ys, yerr=confs, color='k', fmt='-o', markersize=2, linewidth=1.5)\n",
    "ax.set_yticks([0.01, 0.03, 0.05, 0.07, 0.09])\n",
    "ax.set_xticks(xs)\n",
    "ax.set_xticklabels(['(0, 10]', '(10, 20]', '(20, 30]', '(30, 40]', '(40, 50]', '(50, 60]', '(60, 70]', '(70, 80]', '(80, 90]', '(90, 100]'])\n",
    "for tick in ax.get_xticklabels():\n",
    "    tick.set_ha('right')\n",
    "    tick.set_fontsize(8)\n",
    "    tick.set_rotation(30)\n",
    "ax.set_xlabel('Number of tweet mentions')\n",
    "ax.set_ylabel('Avg. fraction of self-promotion')\n",
    "ax.set_ylim([0.01, 0.07])\n",
    "\n",
    "# plt.tight_layout()\n",
    "plt.show()\n",
    "fig.savefig('./avg_perc_promo_paper_tweets.pdf', bbox_inches='tight', pad_inches=0.01)\n"
   ]
  },
  {
   "cell_type": "markdown",
   "metadata": {},
   "source": [
    "Discipline"
   ]
  },
  {
   "cell_type": "code",
   "execution_count": 100,
   "metadata": {},
   "outputs": [],
   "source": [
    "name_map = {'Social Sciences': 'Social_Sciences',\n",
    "            'Life Sciences': 'Life_Sciences',\n",
    "            'Health Sciences': 'Health_Sciences',\n",
    "            'Physical Sciences': 'Physical_Sciences'}"
   ]
  },
  {
   "cell_type": "code",
   "execution_count": 101,
   "metadata": {},
   "outputs": [],
   "source": [
    "xs, ys, confs = [], [], []\n",
    "for disc in name_map:\n",
    "    tem = []\n",
    "    dois_ = set(reg_data.loc[reg_data[name_map[disc]] == 1]['doi'])\n",
    "    for doi, total, num_self_promo in doi_frac_self_promo:\n",
    "        if doi in dois_:\n",
    "            tem.append(num_self_promo/total)\n",
    "    xs.append(np.mean(tem))\n",
    "    ys.append(disc)\n",
    "    confs.append(CIs['95'] * np.std(tem) / np.sqrt(len(tem)))"
   ]
  },
  {
   "cell_type": "code",
   "execution_count": 102,
   "metadata": {},
   "outputs": [
    {
     "data": {
      "image/png": "[encoded data removed]",
      "text/plain": [
       "<Figure size 180x144 with 1 Axes>"
      ]
     },
     "metadata": {
      "needs_background": "light"
     },
     "output_type": "display_data"
    }
   ],
   "source": [
    "nrows = 1\n",
    "ncols = 1\n",
    "fig, ax = plt.subplots(nrows=nrows, ncols=ncols, figsize=(2.5, 2))\n",
    "ax.errorbar(xs, ys, xerr=confs, color='k', alpha=1, fmt='o', markersize=3, linewidth=3)\n",
    "ax.set_xlabel('Avg. frac. of self-promotion')\n",
    "plt.show()\n",
    "fig.savefig('./avg_perc_promo_paper_disc.pdf', bbox_inches='tight', pad_inches=0.01)"
   ]
  },
  {
   "cell_type": "markdown",
   "metadata": {},
   "source": [
    "### Author-level analysis in raw data"
   ]
  },
  {
   "cell_type": "code",
   "execution_count": 43,
   "metadata": {},
   "outputs": [
    {
     "data": {
      "text/plain": [
       "3503674"
      ]
     },
     "execution_count": 43,
     "metadata": {},
     "output_type": "execute_result"
    }
   ],
   "source": [
    "len(set(reg_data.author_id))"
   ]
  },
  {
   "cell_type": "code",
   "execution_count": 44,
   "metadata": {
    "scrolled": true
   },
   "outputs": [],
   "source": [
    "tem = dict(Counter(dict(zip(reg_data['author_id'], reg_data['gender'])).values()))"
   ]
  },
  {
   "cell_type": "code",
   "execution_count": 45,
   "metadata": {},
   "outputs": [
    {
     "data": {
      "text/plain": [
       "{'Male': 2029762, 'Female': 1473912}"
      ]
     },
     "execution_count": 45,
     "metadata": {},
     "output_type": "execute_result"
    }
   ],
   "source": [
    "tem"
   ]
  },
  {
   "cell_type": "code",
   "execution_count": 46,
   "metadata": {},
   "outputs": [
    {
     "data": {
      "text/plain": [
       "0.5793238754518828"
      ]
     },
     "execution_count": 46,
     "metadata": {},
     "output_type": "execute_result"
    }
   ],
   "source": [
    "# Frac of males\n",
    "tem['Male'] / (tem['Male'] + tem['Female'])"
   ]
  },
  {
   "cell_type": "code",
   "execution_count": 47,
   "metadata": {},
   "outputs": [
    {
     "data": {
      "text/plain": [
       "0.4206761245481172"
      ]
     },
     "execution_count": 47,
     "metadata": {},
     "output_type": "execute_result"
    }
   ],
   "source": [
    "tem['Female'] / (tem['Male'] + tem['Female'])"
   ]
  },
  {
   "cell_type": "code",
   "execution_count": 44,
   "metadata": {},
   "outputs": [
    {
     "data": {
      "image/png": "[encoded data removed]",
      "text/plain": [
       "<Figure size 216x180 with 1 Axes>"
      ]
     },
     "metadata": {
      "needs_background": "light"
     },
     "output_type": "display_data"
    }
   ],
   "source": [
    "fig, ax = plt.subplots(figsize = (3, 2.5))\n",
    "\n",
    "for lab, gender, color in zip(labels, gens, colors):\n",
    "    sub_df = reg_data.loc[reg_data['gender'] == gender, ['author_id', 'author_self_promotion_rate']]\n",
    "    sub_df = sub_df.drop_duplicates()\n",
    "    n = len(sub_df)\n",
    "    ax.hist(sub_df['author_self_promotion_rate'].tolist(), bins = 5, alpha=1, linewidth=1.5, \\\n",
    "            color=color, label=lab, histtype='step', weights=np.ones(n)/n)\n",
    "# ax.set_ylabel('Number of authors')\n",
    "ax.set_ylabel('Fraction of authors')\n",
    "ax.set_xlabel(\"Author's rate of self-promotion\")\n",
    "ax.set_yscale('log')\n",
    "legend = ax.legend(loc=[0.55, 0.7], numpoints=2, labelspacing = 0.15, shadow=False, frameon = False)\n",
    "plt.show()\n",
    "fig.savefig('gender_rate_hist_all_authors.pdf', bbox_inches='tight', pad_inches=0.02)"
   ]
  },
  {
   "cell_type": "code",
   "execution_count": 45,
   "metadata": {
    "scrolled": true
   },
   "outputs": [
    {
     "data": {
      "image/png": "[encoded data removed]",
      "text/plain": [
       "<Figure size 216x180 with 1 Axes>"
      ]
     },
     "metadata": {
      "needs_background": "light"
     },
     "output_type": "display_data"
    }
   ],
   "source": [
    "fig, ax = plt.subplots(figsize = (3, 2.5))\n",
    "\n",
    "for lab, gender, color in zip(labels, gens, colors):\n",
    "    mask = (reg_data['gender'] == gender) & (reg_data['author_num_papers_in_data'] >= 5)\n",
    "    sub_df = reg_data.loc[mask, ['author_id', 'author_self_promotion_rate']]\n",
    "    sub_df = sub_df.drop_duplicates()\n",
    "    n = len(sub_df)\n",
    "    ax.hist(sub_df['author_self_promotion_rate'].tolist(), bins = 5, alpha=1, linewidth=1.5, \\\n",
    "            color=color, label=lab, histtype='step', weights=np.ones(n)/n)\n",
    "# ax.set_ylabel('Number of authors')\n",
    "ax.set_ylabel('Fraction of authors')\n",
    "ax.set_xlabel(\"Author's rate of self-promotion\")\n",
    "ax.set_yscale('log')\n",
    "legend = ax.legend(loc=[0.55, 0.7], numpoints=2, labelspacing = 0.15, shadow=False, frameon = False)\n",
    "plt.show()\n",
    "fig.savefig('gender_rate_hist_authors_5.pdf', bbox_inches='tight', pad_inches=0.02)"
   ]
  },
  {
   "cell_type": "markdown",
   "metadata": {},
   "source": [
    "### (paper, author) level"
   ]
  },
  {
   "cell_type": "code",
   "execution_count": 52,
   "metadata": {
    "scrolled": false
   },
   "outputs": [
    {
     "data": {
      "text/plain": [
       "Male      0.646772\n",
       "Female    0.353228\n",
       "Name: gender, dtype: float64"
      ]
     },
     "execution_count": 52,
     "metadata": {},
     "output_type": "execute_result"
    }
   ],
   "source": [
    "reg_data.gender.value_counts()/len(reg_data)"
   ]
  },
  {
   "cell_type": "code",
   "execution_count": 53,
   "metadata": {},
   "outputs": [
    {
     "data": {
      "text/plain": [
       "0.042171839836472706"
      ]
     },
     "execution_count": 53,
     "metadata": {},
     "output_type": "execute_result"
    }
   ],
   "source": [
    "np.mean(reg_data.self_promotion)"
   ]
  },
  {
   "cell_type": "code",
   "execution_count": 54,
   "metadata": {
    "scrolled": true
   },
   "outputs": [
    {
     "name": "stdout",
     "output_type": "stream",
     "text": [
      "Female 0.03473749580813036\n",
      "Male 0.04623202880654752\n"
     ]
    }
   ],
   "source": [
    "for gender, group in reg_data.groupby('gender'):\n",
    "    print(gender, np.mean(group.self_promotion))"
   ]
  },
  {
   "cell_type": "markdown",
   "metadata": {},
   "source": [
    "Author position"
   ]
  },
  {
   "cell_type": "code",
   "execution_count": 46,
   "metadata": {},
   "outputs": [],
   "source": [
    "name_pos = {'first_position': 'First Position', 'middle_position': 'Middle Position', 'last_position': 'Last Position'}\n"
   ]
  },
  {
   "cell_type": "code",
   "execution_count": 50,
   "metadata": {
    "scrolled": true
   },
   "outputs": [],
   "source": [
    "means = [[], []]\n",
    "confs = [[], []]\n",
    "aut_pos = []\n",
    "for pos, subgp in reg_data.groupby('authorship_pos'):\n",
    "    if pos != 'solo_author':\n",
    "        aut_pos.append(pos)\n",
    "        for i, gen in enumerate(gens):\n",
    "            gp = subgp.loc[subgp.gender==gen]\n",
    "            means[i].append(np.mean(gp['self_promotion']) * 100)\n",
    "            sigma = np.std(gp['self_promotion']) * 100\n",
    "            confs[i].append(CIs['95']*(sigma/np.sqrt(len(gp))))"
   ]
  },
  {
   "cell_type": "code",
   "execution_count": 51,
   "metadata": {},
   "outputs": [
    {
     "data": {
      "text/plain": [
       "[[7.464804377192448, 5.846980253665916, 3.4033408154695035],\n",
       " [5.8880009036739995, 4.982378943618129, 2.2634595327906073]]"
      ]
     },
     "execution_count": 51,
     "metadata": {},
     "output_type": "execute_result"
    }
   ],
   "source": [
    "means"
   ]
  },
  {
   "cell_type": "code",
   "execution_count": 52,
   "metadata": {},
   "outputs": [
    {
     "name": "stdout",
     "output_type": "stream",
     "text": [
      "0.2677994618741572\n",
      "0.17353182482340984\n",
      "0.5036013527812192\n"
     ]
    }
   ],
   "source": [
    "for i in range(3):\n",
    "    a = means[0][i]\n",
    "    b = means[1][i]\n",
    "    print((a-b)/b)"
   ]
  },
  {
   "cell_type": "code",
   "execution_count": 53,
   "metadata": {},
   "outputs": [
    {
     "data": {
      "image/png": "[encoded data removed]",
      "text/plain": [
       "<Figure size 259.2x180 with 1 Axes>"
      ]
     },
     "metadata": {
      "needs_background": "light"
     },
     "output_type": "display_data"
    }
   ],
   "source": [
    "step = 4\n",
    "ys_1 = 0.9 + np.arange(3) * step\n",
    "ys_2 = 2.1 + np.arange(3) * step\n",
    "y_pos = 1.5 + np.arange(3) * step\n",
    "\n",
    "fig, ax = plt.subplots(figsize = (3.6, 2.5))\n",
    "\n",
    "ax.barh(ys_1, width = means[0], height=1, xerr = confs[0], alpha = 1.0, capsize = 3, color=colors[0], label='Man')\n",
    "ax.barh(ys_2, width = means[1], height=1, xerr = confs[1], alpha = 1.0, capsize = 3, color=colors[1], label='Woman')\n",
    "\n",
    "legend = ax.legend(loc=[0.45, 0.7], numpoints=1, labelspacing = 0.15, shadow=False, frameon = True)\n",
    "ax.set_yticks(y_pos)\n",
    "ax.set_yticklabels([name_pos[pos] for pos in aut_pos], rotation=0, ha='right')\n",
    "ax.set_xlabel('Percentage of self-promotion')\n",
    "ax.set_xlim([0, 10])\n",
    "plt.tight_layout()\n",
    "plt.show()\n",
    "fig.savefig('./perc_promo_gender_pos.pdf', bbox_inches='tight', pad_inches=0.02)\n"
   ]
  },
  {
   "cell_type": "markdown",
   "metadata": {},
   "source": [
    "Discipline"
   ]
  },
  {
   "cell_type": "code",
   "execution_count": 54,
   "metadata": {},
   "outputs": [],
   "source": [
    "name_map = {'Social Sciences': 'Social_Sciences',\n",
    "            'Life Sciences': 'Life_Sciences',\n",
    "            'Health Sciences': 'Health_Sciences',\n",
    "            'Physical Sciences': 'Physical_Sciences'}"
   ]
  },
  {
   "cell_type": "code",
   "execution_count": 55,
   "metadata": {
    "scrolled": false
   },
   "outputs": [
    {
     "name": "stdout",
     "output_type": "stream",
     "text": [
      "Social_Sciences 0.07824941768713913\n",
      "Life_Sciences 0.03554151987445492\n",
      "Health_Sciences 0.03386756643618453\n",
      "Physical_Sciences 0.03339868393109221\n"
     ]
    }
   ],
   "source": [
    "for disc in name_map.values():\n",
    "    sub_df = reg_data.loc[reg_data[disc] == 1]\n",
    "    print(disc, np.mean(sub_df.self_promotion))"
   ]
  },
  {
   "cell_type": "code",
   "execution_count": 56,
   "metadata": {},
   "outputs": [],
   "source": [
    "means = [[], []]\n",
    "confs = [[], []]\n",
    "for disc in name_map:\n",
    "    subgp = reg_data.loc[reg_data[name_map[disc]] == 1]\n",
    "    for i, gen in enumerate(gens):\n",
    "        gp = subgp.loc[subgp.gender==gen]\n",
    "        means[i].append(np.mean(gp['self_promotion']) * 100)\n",
    "        sigma = np.std(gp['self_promotion']) * 100\n",
    "        confs[i].append(CIs['95']*(sigma/np.sqrt(len(gp))))"
   ]
  },
  {
   "cell_type": "code",
   "execution_count": 57,
   "metadata": {},
   "outputs": [
    {
     "data": {
      "text/plain": [
       "[[8.396830631443747, 4.170143540968367, 3.747922218847165, 3.456138624438304],\n",
       " [7.056924497900696,\n",
       "  2.5407740739434024,\n",
       "  2.8196011668102687,\n",
       "  3.0057598930586407]]"
      ]
     },
     "execution_count": 57,
     "metadata": {},
     "output_type": "execute_result"
    }
   ],
   "source": [
    "means"
   ]
  },
  {
   "cell_type": "code",
   "execution_count": 58,
   "metadata": {},
   "outputs": [
    {
     "name": "stdout",
     "output_type": "stream",
     "text": [
      "0.18987111650998215\n",
      "0.6412886071747835\n",
      "0.32923842668396897\n",
      "0.14983855910106011\n"
     ]
    }
   ],
   "source": [
    "for i in range(4):\n",
    "    a = means[0][i]\n",
    "    b = means[1][i]\n",
    "    print((a-b)/b)"
   ]
  },
  {
   "cell_type": "code",
   "execution_count": 59,
   "metadata": {},
   "outputs": [
    {
     "data": {
      "image/png": "[encoded data removed]",
      "text/plain": [
       "<Figure size 259.2x180 with 1 Axes>"
      ]
     },
     "metadata": {
      "needs_background": "light"
     },
     "output_type": "display_data"
    }
   ],
   "source": [
    "step = 2.5\n",
    "ys_1 = 1 + np.arange(4) * step\n",
    "ys_2 = 2 + np.arange(4) * step\n",
    "y_pos = 1.5 + np.arange(4) * step\n",
    "\n",
    "fig, ax = plt.subplots(figsize = (3.6, 2.5))\n",
    "\n",
    "ax.barh(ys_1, width = means[0], height=0.9, xerr = confs[0], alpha = 1.0, capsize = 3, color=colors[0], label='Man')\n",
    "ax.barh(ys_2, width = means[1], height=0.9, xerr = confs[1], alpha = 1.0, capsize = 3, color=colors[1], label='Woman')\n",
    "\n",
    "legend = ax.legend(loc=[0.42, 0.7], numpoints=1, labelspacing = 0.15, shadow=False, frameon = True)\n",
    "ax.set_yticks(y_pos)\n",
    "ax.set_yticklabels([disc for disc in name_map], rotation=0, ha='right')\n",
    "ax.set_xlabel('Percentage of self-promotion')\n",
    "ax.set_xlim([0, 10])\n",
    "plt.tight_layout()\n",
    "plt.show()\n",
    "fig.savefig('./perc_promo_gender_disc.pdf', bbox_inches='tight', pad_inches=0.02)"
   ]
  },
  {
   "cell_type": "markdown",
   "metadata": {},
   "source": [
    "By year"
   ]
  },
  {
   "cell_type": "code",
   "execution_count": 60,
   "metadata": {},
   "outputs": [],
   "source": [
    "gender_y_rate = {'Male': {}, 'Female': {}}\n",
    "\n",
    "for gender in gens:\n",
    "    tem = reg_data.loc[reg_data.gender==gender, ['pub_year', 'self_promotion']]\n",
    "    for year, sub_df in tem.groupby('pub_year'):\n",
    "        mu = np.mean(sub_df['self_promotion'])\n",
    "        std = np.std(sub_df['self_promotion'])\n",
    "        n = len(sub_df)\n",
    "        gender_y_rate[gender][year] = (mu, std, n)"
   ]
  },
  {
   "cell_type": "code",
   "execution_count": 61,
   "metadata": {},
   "outputs": [
    {
     "data": {
      "text/plain": [
       "{'Male': {2013: (0.02017481037794199, 0.14059796372691913, 983008),\n",
       "  2014: (0.026914707181600273, 0.16183419205757782, 1104712),\n",
       "  2015: (0.03575409338209638, 0.18567643412269833, 1238096),\n",
       "  2016: (0.04390702576006032, 0.20488825942197314, 1320882),\n",
       "  2017: (0.058158548230234114, 0.23404301206826417, 1358287),\n",
       "  2018: (0.08048871363140932, 0.27204830565429056, 1366117)},\n",
       " 'Female': {2013: (0.01220630626977829, 0.10980579382266972, 517929),\n",
       "  2014: (0.017476197835128434, 0.13103732424143846, 595324),\n",
       "  2015: (0.02447975462428289, 0.15453315578806312, 691837),\n",
       "  2016: (0.031770222585426736, 0.17538778618335768, 742771),\n",
       "  2017: (0.045048333352957104, 0.2074101757751484, 764379),\n",
       "  2018: (0.06748854095120618, 0.2508661750644824, 713410)}}"
      ]
     },
     "execution_count": 61,
     "metadata": {},
     "output_type": "execute_result"
    }
   ],
   "source": [
    "gender_y_rate"
   ]
  },
  {
   "cell_type": "code",
   "execution_count": 62,
   "metadata": {},
   "outputs": [
    {
     "name": "stdout",
     "output_type": "stream",
     "text": [
      "2013 0.6528186276869847\n",
      "2014 0.5400779640694926\n",
      "2015 0.4605576702402819\n",
      "2016 0.382018197763614\n",
      "2017 0.2910255252854192\n",
      "2018 0.19262785203197952\n"
     ]
    }
   ],
   "source": [
    "for y in list(range(2013, 2019)):\n",
    "    a = gender_y_rate['Male'][y][0]\n",
    "    b = gender_y_rate['Female'][y][0]\n",
    "    print(y, (a-b)/b)"
   ]
  },
  {
   "cell_type": "code",
   "execution_count": 63,
   "metadata": {
    "scrolled": false
   },
   "outputs": [
    {
     "data": {
      "image/png": "[encoded data removed]",
      "text/plain": [
       "<Figure size 252x201.6 with 1 Axes>"
      ]
     },
     "metadata": {
      "needs_background": "light"
     },
     "output_type": "display_data"
    }
   ],
   "source": [
    "nrows = 1\n",
    "ncols = 1\n",
    "fig, ax = plt.subplots(nrows=nrows, ncols=ncols, figsize=(3.5, 2.8))\n",
    "\n",
    "for i, lab, gender, color in zip(range(len(labels)), labels, gens, colors):\n",
    "    xs = list(range(2013, 2019))\n",
    "    ys = []\n",
    "    confs = []\n",
    "    for j in xs:\n",
    "        mu, std, n = gender_y_rate[gender][j]\n",
    "        ys.append(mu)\n",
    "        confs.append(CIs['95'] * std / np.sqrt(n))\n",
    "    ax.errorbar(xs, ys, yerr=confs, color=color, alpha=1, fmt='-o', markersize=2, linewidth=1.5, label=lab)\n",
    "\n",
    "legend = ax.legend(bbox_to_anchor=(0.05, 0.7), loc='lower left', numpoints=2, labelspacing = 0.15, shadow=False, frameon = True, markerscale = 1)\n",
    "ax.set_xlabel('Publication year')\n",
    "ax.set_ylabel('Average self-promotion rate')\n",
    "\n",
    "# plt.tight_layout()\n",
    "plt.show()\n",
    "fig.savefig('./gender_year_raw.pdf', bbox_inches='tight', pad_inches=0.01)\n"
   ]
  },
  {
   "cell_type": "code",
   "execution_count": 52,
   "metadata": {
    "scrolled": true
   },
   "outputs": [
    {
     "name": "stdout",
     "output_type": "stream",
     "text": [
      "2013 0.354429876837505\n",
      "2014 0.369352674292287\n",
      "2015 0.3842091705306543\n",
      "2016 0.39092126212187\n",
      "2017 0.4341819550792936\n",
      "2018 0.477156755210072\n"
     ]
    }
   ],
   "source": [
    "for year, gp in reg_data.loc[reg_data['is_active_on_twitter'] == True].groupby('pub_year'):\n",
    "    print(year, np.mean(gp['self_promotion']))"
   ]
  },
  {
   "cell_type": "markdown",
   "metadata": {},
   "source": [
    "By journal impact"
   ]
  },
  {
   "cell_type": "code",
   "execution_count": 64,
   "metadata": {},
   "outputs": [],
   "source": [
    "gender_jif_rate = {'Male': {}, 'Female': {}}\n",
    "\n",
    "for gender in gens:\n",
    "    tem = reg_data.loc[reg_data.gender==gender, ['journal_impact', 'self_promotion']]\n",
    "    # tem = tem.dropna()\n",
    "    tem['jif_bin'] = tem['journal_impact'].apply(lambda x: int(x//5))\n",
    "    tem['jif_bin'] = tem['jif_bin'].apply(lambda x: x if x <= 8 else 9)\n",
    "    for jif, sub_df in tem.groupby('jif_bin'):\n",
    "        mu = np.mean(sub_df['self_promotion'])\n",
    "        std = np.std(sub_df['self_promotion'])\n",
    "        n = len(sub_df)\n",
    "        gender_jif_rate[gender][jif] = (mu, std, n)"
   ]
  },
  {
   "cell_type": "code",
   "execution_count": 65,
   "metadata": {},
   "outputs": [
    {
     "data": {
      "text/plain": [
       "{'Male': {0: (0.03960319826621017, 0.19502508800997237, 5027599),\n",
       "  1: (0.047001103303449844, 0.21164120485318616, 1594303),\n",
       "  2: (0.07634592943684901, 0.26555080209871834, 347065),\n",
       "  3: (0.06374213661415132, 0.24429301388704136, 125741),\n",
       "  4: (0.09832948526415863, 0.2977596305610354, 66267),\n",
       "  5: (0.059756388280301054, 0.23703493907016102, 88091),\n",
       "  6: (0.09879891514916699, 0.29839183888725024, 15486),\n",
       "  7: (0.12523350234455416, 0.33098349239058844, 26231),\n",
       "  8: (0.18241516399261679, 0.38618631764753586, 56344),\n",
       "  9: (0.223274244004171, 0.4164406992220344, 23975)},\n",
       " 'Female': {0: (0.03268474301229658, 0.17781015321549196, 2888932),\n",
       "  1: (0.033202761158268125, 0.17916567140424838, 778369),\n",
       "  2: (0.049151412292399076, 0.21618406731778753, 164980),\n",
       "  3: (0.03747859824387792, 0.18993144267748802, 63663),\n",
       "  4: (0.07107818261781522, 0.25695539413206275, 29559),\n",
       "  5: (0.03029492271913396, 0.1713976090165078, 48589),\n",
       "  6: (0.06954397394136808, 0.25437690467062923, 6140),\n",
       "  7: (0.06699306405548755, 0.2500099866484235, 12255),\n",
       "  8: (0.12398148148148148, 0.32956042500752203, 21600),\n",
       "  9: (0.13655625702672317, 0.3433782836662428, 11563)}}"
      ]
     },
     "execution_count": 65,
     "metadata": {},
     "output_type": "execute_result"
    }
   ],
   "source": [
    "gender_jif_rate"
   ]
  },
  {
   "cell_type": "code",
   "execution_count": 66,
   "metadata": {
    "scrolled": false
   },
   "outputs": [
    {
     "data": {
      "image/png": "[encoded data removed]",
      "text/plain": [
       "<Figure size 252x201.6 with 1 Axes>"
      ]
     },
     "metadata": {
      "needs_background": "light"
     },
     "output_type": "display_data"
    }
   ],
   "source": [
    "nrows = 1\n",
    "ncols = 1\n",
    "fig, ax = plt.subplots(nrows=nrows, ncols=ncols, figsize=(3.5, 2.8))\n",
    "\n",
    "for i, lab, gender, color in zip(range(len(labels)), labels, gens, colors):\n",
    "    xs = list(range(10))\n",
    "    ys = []\n",
    "    confs = []\n",
    "    for j in xs:\n",
    "        mu, std, n = gender_jif_rate[gender][j]\n",
    "        ys.append(mu)\n",
    "        confs.append(CIs['95'] * std / np.sqrt(n))\n",
    "    ax.errorbar(xs, ys, yerr=confs, color=color, alpha=1, fmt='-o', markersize=2, linewidth=1.5, label=lab)\n",
    "    \n",
    "# ax.legend(bbox_to_anchor=(1, -0.03), loc='lower left', labelspacing = 1.05, frameon = True)\n",
    "legend = ax.legend(bbox_to_anchor=(0.05, 0.7), loc='lower left', numpoints=2, labelspacing = 0.15, shadow=False, frameon = True, markerscale = 1)\n",
    "# ax.margins(0,0)\n",
    "# ax.set_yticks([0.2, 0.4, 0.6, 0.8])\n",
    "ax.set_xticks([0, 1, 2, 3, 4, 5, 6, 7, 8, 9])\n",
    "ax.set_xticklabels(['[0, 5)', '[5, 10)', '[10, 15)', '[15, 20)', '[20, 25)', '[25, 30)', '[30, 35)', '[35, 40)', \\\n",
    "                    '[40, 45)', '[45, +)'])\n",
    "for tick in ax.get_xticklabels():\n",
    "    tick.set_ha('right')\n",
    "    tick.set_fontsize(8)\n",
    "    tick.set_rotation(30)\n",
    "ax.set_xlabel('Journal Impact Factor')\n",
    "ax.set_ylabel('Average self-promotion rate')\n",
    "\n",
    "# plt.tight_layout()\n",
    "plt.show()\n",
    "fig.savefig('./gender_jif_raw.pdf', bbox_inches='tight', pad_inches=0.01)"
   ]
  },
  {
   "cell_type": "markdown",
   "metadata": {},
   "source": [
    "By affiliation rank"
   ]
  },
  {
   "cell_type": "code",
   "execution_count": 67,
   "metadata": {},
   "outputs": [],
   "source": [
    "gender_affi_rate = {'Male': {}, 'Female': {}}\n",
    "\n",
    "for gender in gens:\n",
    "    tem = reg_data.loc[reg_data.gender==gender, ['affiliation_rank_cate', 'self_promotion']]\n",
    "    # tem = tem.dropna()\n",
    "    # tem['affi_bin'] = tem['affiliation_rank'].apply(lambda x: int(x//2000))\n",
    "    for affi, sub_df in tem.groupby('affiliation_rank_cate'):\n",
    "        mu = np.mean(sub_df['self_promotion'])\n",
    "        std = np.std(sub_df['self_promotion'])\n",
    "        n = len(sub_df)\n",
    "        gender_affi_rate[gender][affi] = (mu, std, n)"
   ]
  },
  {
   "cell_type": "code",
   "execution_count": 68,
   "metadata": {},
   "outputs": [
    {
     "data": {
      "text/plain": [
       "{'Male': {0.0: (0.06192244403896991, 0.24101463640868484, 781526),\n",
       "  1.0: (0.05633711964928807, 0.2305715693638526, 821643),\n",
       "  2.0: (0.04469021075738475, 0.20662283470092377, 800399),\n",
       "  3.0: (0.05011821425723113, 0.21818886052431138, 777402),\n",
       "  4.0: (0.04272879730125758, 0.202245017694987, 774583),\n",
       "  5.0: (0.04520512940284277, 0.20775376212842697, 727882),\n",
       "  6.0: (0.03938829542891983, 0.19451698540776324, 718386),\n",
       "  7.0: (0.034215424479932414, 0.18178209264828712, 669961),\n",
       "  8.0: (0.039655973393470816, 0.19514962763911992, 650066),\n",
       "  9.0: (0.04369168307010816, 0.20440821876971918, 649254)},\n",
       " 'Female': {0.0: (0.04304108082189849, 0.20294961488897015, 425454),\n",
       "  1.0: (0.045412259161314694, 0.2082065942259761, 423520),\n",
       "  2.0: (0.034949681870623577, 0.1836523934169272, 437715),\n",
       "  3.0: (0.04211136486896641, 0.2008432170072945, 401958),\n",
       "  4.0: (0.031871037855460964, 0.17565669586291535, 414075),\n",
       "  5.0: (0.03377488708579492, 0.18064922941473274, 402518),\n",
       "  6.0: (0.030451883276368445, 0.17182714011846578, 407561),\n",
       "  7.0: (0.024350179538024545, 0.15413386485289504, 373180),\n",
       "  8.0: (0.029256776356076965, 0.1685254206145988, 372324),\n",
       "  9.0: (0.02963971198736882, 0.16959127177032024, 367345)}}"
      ]
     },
     "execution_count": 68,
     "metadata": {},
     "output_type": "execute_result"
    }
   ],
   "source": [
    "gender_affi_rate"
   ]
  },
  {
   "cell_type": "code",
   "execution_count": 69,
   "metadata": {},
   "outputs": [
    {
     "data": {
      "image/png": "[encoded data removed]",
      "text/plain": [
       "<Figure size 252x201.6 with 1 Axes>"
      ]
     },
     "metadata": {
      "needs_background": "light"
     },
     "output_type": "display_data"
    }
   ],
   "source": [
    "nrows = 1\n",
    "ncols = 1\n",
    "fig, ax = plt.subplots(nrows=nrows, ncols=ncols, figsize=(3.5, 2.8))\n",
    "\n",
    "xs = [0, 1, 2, 3, 4, 5, 6, 7, 8, 9]\n",
    "\n",
    "for i, lab, gender, color in zip(range(len(labels)), labels, gens, colors):\n",
    "    ys = []\n",
    "    confs = []\n",
    "    for j in xs:\n",
    "        mu, std, n = gender_affi_rate[gender][j]\n",
    "        ys.append(mu)\n",
    "        confs.append(CIs['95'] * std / np.sqrt(n))\n",
    "    ax.errorbar(xs, ys, yerr=confs, color=color, alpha=1, fmt='-o', markersize=2, linewidth=1.5, label=lab)\n",
    "    \n",
    "# ax.legend(bbox_to_anchor=(1, -0.03), loc='lower left', labelspacing = 1.05, frameon = True)\n",
    "legend = ax.legend(bbox_to_anchor=(0.53, 0.7), loc='lower left', numpoints=2, labelspacing = 0.15, shadow=False, frameon = True, markerscale = 1)\n",
    "# ax.margins(0,0)\n",
    "# ax.set_yticks([0.2, 0.4, 0.6, 0.8])\n",
    "ax.set_xticks(xs)\n",
    "ax.set_xticklabels(list(range(1, 11)))\n",
    "# for tick in ax.get_xticklabels():\n",
    "#     tick.set_ha('right')\n",
    "#     tick.set_fontsize(8)\n",
    "#     tick.set_rotation(30)\n",
    "ax.set_xlabel('Affiliation rank category')\n",
    "ax.set_ylabel('Average self-promotion rate')\n",
    "\n",
    "# plt.tight_layout()\n",
    "plt.show()\n",
    "fig.savefig('./gender_affi_raw.pdf', bbox_inches='tight', pad_inches=0.01)\n"
   ]
  },
  {
   "cell_type": "markdown",
   "metadata": {},
   "source": [
    "By previous num. publications"
   ]
  },
  {
   "cell_type": "code",
   "execution_count": 70,
   "metadata": {},
   "outputs": [],
   "source": [
    "gender_pub_rate = {'Male': {}, 'Female': {}}\n",
    "\n",
    "for gender in gens:\n",
    "    tem = reg_data.loc[reg_data.gender==gender, ['author_pub_count_cate', 'self_promotion']]\n",
    "    # tem = tem.dropna()\n",
    "    # tem['pub_bin'] = tem['author_pub_count'].apply(lambda x: int(x//10))\n",
    "    for pub, sub_df in tem.groupby('author_pub_count_cate'):\n",
    "        mu = np.mean(sub_df['self_promotion'])\n",
    "        std = np.std(sub_df['self_promotion'])\n",
    "        n = len(sub_df)\n",
    "        gender_pub_rate[gender][pub] = (mu, std, n)"
   ]
  },
  {
   "cell_type": "code",
   "execution_count": 71,
   "metadata": {},
   "outputs": [
    {
     "data": {
      "text/plain": [
       "{'Male': {0.0: (0.02420530476792262, 0.15368606959973502, 401978),\n",
       "  1.0: (0.034062262481360704, 0.18138915280691842, 448649),\n",
       "  2.0: (0.04053287919814202, 0.19720538760908854, 456839),\n",
       "  3.0: (0.04683624344327082, 0.21128797822733197, 695850),\n",
       "  4.0: (0.052593923688379784, 0.22322142119304023, 658327),\n",
       "  5.0: (0.05555466330301185, 0.2290596924129185, 809437),\n",
       "  6.0: (0.05483019691410214, 0.22764851508512615, 838589),\n",
       "  7.0: (0.0511002828613892, 0.2202022796268813, 917764),\n",
       "  8.0: (0.04626174606913726, 0.2100514149435131, 1010338),\n",
       "  9.0: (0.04010390609627726, 0.19620291234356907, 1133331)},\n",
       " 'Female': {0.0: (0.017285923765041778, 0.13033464851922894, 386673),\n",
       "  1.0: (0.024666470102876002, 0.15510652905516237, 437517),\n",
       "  2.0: (0.029919444883719816, 0.17036511292389023, 417354),\n",
       "  3.0: (0.03534322574963674, 0.1846458289354162, 567775),\n",
       "  4.0: (0.04090790955557481, 0.1980768853030755, 461720),\n",
       "  5.0: (0.043678804274593946, 0.20437946651201447, 482385),\n",
       "  6.0: (0.04242458068022985, 0.20155578789589876, 412096),\n",
       "  7.0: (0.040592173450236704, 0.19734347950926223, 356990),\n",
       "  8.0: (0.039318017764613786, 0.19435048557612428, 295081),\n",
       "  9.0: (0.03016932696975377, 0.17105302885346949, 208059)}}"
      ]
     },
     "execution_count": 71,
     "metadata": {},
     "output_type": "execute_result"
    }
   ],
   "source": [
    "gender_pub_rate"
   ]
  },
  {
   "cell_type": "code",
   "execution_count": 72,
   "metadata": {
    "scrolled": true
   },
   "outputs": [
    {
     "data": {
      "image/png": "[encoded data removed]",
      "text/plain": [
       "<Figure size 252x201.6 with 1 Axes>"
      ]
     },
     "metadata": {
      "needs_background": "light"
     },
     "output_type": "display_data"
    }
   ],
   "source": [
    "nrows = 1\n",
    "ncols = 1\n",
    "fig, ax = plt.subplots(nrows=nrows, ncols=ncols, figsize=(3.5, 2.8))\n",
    "\n",
    "# xs = np.arange(0, 101, 10)\n",
    "xs = [0, 1, 2, 3, 4, 5, 6, 7, 8, 9]\n",
    "\n",
    "for i, lab, gender, color in zip(range(len(labels)), labels, gens, colors):\n",
    "    ys = []\n",
    "    confs = []\n",
    "    for j in xs:\n",
    "        mu, std, n = gender_pub_rate[gender][j]\n",
    "        ys.append(mu)\n",
    "        confs.append(CIs['95'] * std / np.sqrt(n))\n",
    "    ax.errorbar(xs, ys, yerr=confs, color=color, alpha=1, fmt='-o', markersize=2, linewidth=1.5, label=lab)\n",
    "    \n",
    "# ax.legend(bbox_to_anchor=(1, -0.03), loc='lower left', labelspacing = 1.05, frameon = True)\n",
    "legend = ax.legend(bbox_to_anchor=(0.3, 0.1), loc='lower left', numpoints=2, labelspacing = 0.15, shadow=False, frameon = True, markerscale = 1)\n",
    "ax.set_xticks(xs)\n",
    "ax.set_xticklabels([1, 3, 6, 13, 23, 41, 69, 118, 229, 4871])\n",
    "for tick in ax.get_xticklabels():\n",
    "    tick.set_ha('right')\n",
    "    tick.set_fontsize(8)\n",
    "    tick.set_rotation(20)\n",
    "ax.set_xlabel('Previous num. of publications')\n",
    "ax.set_ylabel('Average self-promotion rate')\n",
    "\n",
    "# plt.tight_layout()\n",
    "plt.show()\n",
    "fig.savefig('./gender_pub_raw.pdf', bbox_inches='tight', pad_inches=0.01)\n"
   ]
  },
  {
   "cell_type": "markdown",
   "metadata": {},
   "source": [
    "By previous num. publications (active subset)"
   ]
  },
  {
   "cell_type": "markdown",
   "metadata": {},
   "source": [
    "Note: the relationship among this subset is more linear, instead of quadratic."
   ]
  },
  {
   "cell_type": "code",
   "execution_count": 73,
   "metadata": {},
   "outputs": [],
   "source": [
    "gender_pub_rate = {'Male': {}, 'Female': {}}\n",
    "\n",
    "for gender in gens:\n",
    "    tem = reg_data.loc[(reg_data['is_active_on_twitter'] == True) & (reg_data.gender==gender), ['author_pub_count_cate', 'self_promotion']]\n",
    "    # tem = tem.dropna()\n",
    "    for pub, sub_df in tem.groupby('author_pub_count_cate'):\n",
    "        mu = np.mean(sub_df['self_promotion'])\n",
    "        std = np.std(sub_df['self_promotion'])\n",
    "        n = len(sub_df)\n",
    "        gender_pub_rate[gender][pub] = (mu, std, n)"
   ]
  },
  {
   "cell_type": "code",
   "execution_count": 74,
   "metadata": {},
   "outputs": [
    {
     "data": {
      "text/plain": [
       "{'Male': {0.0: (0.6525183927560838, 0.4761702845318059, 1767),\n",
       "  1.0: (0.6317439366441181, 0.4823313541099216, 6061),\n",
       "  2.0: (0.5980604381331717, 0.49028986372668415, 11549),\n",
       "  3.0: (0.5668829964769145, 0.49550647299734546, 26965),\n",
       "  4.0: (0.5316604587335817, 0.4989966085583941, 35707),\n",
       "  5.0: (0.5021341920023963, 0.4999954452037508, 53416),\n",
       "  6.0: (0.4643520479650689, 0.49872760452547166, 61378),\n",
       "  7.0: (0.42304178208344817, 0.49404193414639264, 68953),\n",
       "  8.0: (0.36522173034110395, 0.4814922824176457, 78158),\n",
       "  9.0: (0.2865996556894541, 0.4521728574872009, 90035)},\n",
       " 'Female': {0.0: (0.6237148732008225, 0.48445291840271165, 1459),\n",
       "  1.0: (0.6339389253962119, 0.4817264413167582, 5174),\n",
       "  2.0: (0.5767431499220317, 0.4940753879116471, 8978),\n",
       "  3.0: (0.5420743639921722, 0.49822660295758414, 19418),\n",
       "  4.0: (0.4996979373435747, 0.4999999087581433, 23174),\n",
       "  5.0: (0.45729273201148096, 0.498172750419929, 30311),\n",
       "  6.0: (0.4099634210067932, 0.49182661014141976, 28705),\n",
       "  7.0: (0.36153817793016996, 0.48044596348507573, 27123),\n",
       "  8.0: (0.32016099524332237, 0.46653824319998427, 24597),\n",
       "  9.0: (0.26305804982926523, 0.4402936659200188, 15814)}}"
      ]
     },
     "execution_count": 74,
     "metadata": {},
     "output_type": "execute_result"
    }
   ],
   "source": [
    "gender_pub_rate"
   ]
  },
  {
   "cell_type": "code",
   "execution_count": 75,
   "metadata": {},
   "outputs": [
    {
     "data": {
      "image/png": "[encoded data removed]",
      "text/plain": [
       "<Figure size 252x201.6 with 1 Axes>"
      ]
     },
     "metadata": {
      "needs_background": "light"
     },
     "output_type": "display_data"
    }
   ],
   "source": [
    "nrows = 1\n",
    "ncols = 1\n",
    "fig, ax = plt.subplots(nrows=nrows, ncols=ncols, figsize=(3.5, 2.8))\n",
    "\n",
    "# xs = np.arange(0, 101, 10)\n",
    "xs = [0, 1, 2, 3, 4, 5, 6, 7, 8, 9]\n",
    "\n",
    "for i, lab, gender, color in zip(range(len(labels)), labels, gens, colors):\n",
    "    ys = []\n",
    "    confs = []\n",
    "    for j in xs:\n",
    "        mu, std, n = gender_pub_rate[gender][j]\n",
    "        ys.append(mu)\n",
    "        confs.append(CIs['95'] * std / np.sqrt(n))\n",
    "    ax.errorbar(xs, ys, yerr=confs, color=color, alpha=1, fmt='-o', markersize=2, linewidth=1.5, label=lab)\n",
    "    \n",
    "# ax.legend(bbox_to_anchor=(1, -0.03), loc='lower left', labelspacing = 1.05, frameon = True)\n",
    "legend = ax.legend(bbox_to_anchor=(0.3, 0.1), loc='lower left', numpoints=2, labelspacing = 0.15, shadow=False, frameon = True, markerscale = 1)\n",
    "ax.set_xticks(xs)\n",
    "ax.set_xticklabels([1, 3, 6, 13, 23, 41, 69, 118, 229, 4871])\n",
    "for tick in ax.get_xticklabels():\n",
    "    tick.set_ha('right')\n",
    "    tick.set_fontsize(8)\n",
    "    tick.set_rotation(20)\n",
    "ax.set_xlabel('Previous num. of publications')\n",
    "ax.set_ylabel('Average self-promotion rate')\n",
    "\n",
    "# plt.tight_layout()\n",
    "plt.show()\n",
    "fig.savefig('./gender_pub_active_sub_raw.pdf', bbox_inches='tight', pad_inches=0.01)\n"
   ]
  },
  {
   "cell_type": "code",
   "execution_count": null,
   "metadata": {},
   "outputs": [],
   "source": []
  }
 ],
 "metadata": {
  "kernelspec": {
   "display_name": "Python 3 (ipykernel)",
   "language": "python",
   "name": "python3"
  },
  "language_info": {
   "codemirror_mode": {
    "name": "ipython",
    "version": 3
   },
   "file_extension": ".py",
   "mimetype": "text/x-python",
   "name": "python",
   "nbconvert_exporter": "python",
   "pygments_lexer": "ipython3",
   "version": "3.8.13"
  }
 },
 "nbformat": 4,
 "nbformat_minor": 4
}
