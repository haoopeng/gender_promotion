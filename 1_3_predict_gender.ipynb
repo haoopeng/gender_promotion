{
 "cells": [
  {
   "cell_type": "markdown",
   "metadata": {},
   "source": [
    "Use the library from here: https://github.com/alt-code/Research/tree/master/SimpleGenderComputer\n",
    "\n",
    "Please use it with Python 2.7"
   ]
  },
  {
   "cell_type": "code",
   "execution_count": 1,
   "metadata": {},
   "outputs": [],
   "source": [
    "import pickle\n",
    "import pandas as pd\n",
    "from simpleGenderComputer import SimpleGenderComputer"
   ]
  },
  {
   "cell_type": "code",
   "execution_count": 2,
   "metadata": {},
   "outputs": [],
   "source": [
    "# get the data from the library provided in the first link.\n",
    "\n",
    "gc = SimpleGenderComputer('./namelists')"
   ]
  },
  {
   "cell_type": "code",
   "execution_count": 5,
   "metadata": {},
   "outputs": [],
   "source": [
    "def get_author_name(name):\n",
    "    words = name.split()\n",
    "    # must has first and last name to query the API\n",
    "    if len(words) <= 1:\n",
    "        payload = 'invalid'\n",
    "    else:\n",
    "        payload = {'Fname': words[0], 'Lname': words[-1]}\n",
    "    return payload"
   ]
  },
  {
   "cell_type": "markdown",
   "metadata": {},
   "source": [
    "### Authors in self-promotion data"
   ]
  },
  {
   "cell_type": "code",
   "execution_count": 6,
   "metadata": {},
   "outputs": [
    {
     "name": "stdout",
     "output_type": "stream",
     "text": [
      " 8507860 ./author_names.txt\r\n"
     ]
    }
   ],
   "source": [
    "! wc -l ./author_names.txt"
   ]
  },
  {
   "cell_type": "code",
   "execution_count": null,
   "metadata": {},
   "outputs": [],
   "source": [
    "name_gender = {}\n",
    "with open('./author_names.txt', 'r') as ifile:\n",
    "    for name in ifile:\n",
    "        # name is already normalized\n",
    "        # get rid of '\\n' at the end of each line\n",
    "        name = name.strip()\n",
    "        name_tupe = get_author_name(name)\n",
    "        if type(name_tupe) == dict:\n",
    "            fname = name_tupe['Fname']\n",
    "            fname = fname.decode('utf-8', 'ignore')\n",
    "            gender = gc.simpleLookup(fname)\n",
    "            name_gender[name] = gender"
   ]
  },
  {
   "cell_type": "code",
   "execution_count": 10,
   "metadata": {},
   "outputs": [
    {
     "data": {
      "text/plain": [
       "8454095"
      ]
     },
     "execution_count": 10,
     "metadata": {},
     "output_type": "execute_result"
    }
   ],
   "source": [
    "len(name_gender)"
   ]
  },
  {
   "cell_type": "code",
   "execution_count": null,
   "metadata": {},
   "outputs": [],
   "source": [
    "with open(\"./name_gender.txt\", 'w') as ofile:\n",
    "    for name, gender in name_gender.items():\n",
    "        ofile.write(name + '||' + gender + '\\n')"
   ]
  },
  {
   "cell_type": "markdown",
   "metadata": {},
   "source": [
    "### Authors in IOP data"
   ]
  },
  {
   "cell_type": "code",
   "execution_count": 7,
   "metadata": {},
   "outputs": [],
   "source": [
    "iop_clean_name_self_gender = pd.read_csv('./iop_clean_name_self_gender.csv')"
   ]
  },
  {
   "cell_type": "code",
   "execution_count": 9,
   "metadata": {},
   "outputs": [],
   "source": [
    "def pred_gender_ford(name):\n",
    "    if type(name) == str:\n",
    "        name = name.strip()\n",
    "        name_tupe = get_author_name(name)\n",
    "        if type(name_tupe) == dict:\n",
    "            fname = name_tupe['Fname']\n",
    "            fname = fname.decode('utf-8', 'ignore')\n",
    "            if len(fname) > 1:\n",
    "                gender = gc.simpleLookup(fname)\n",
    "                return gender\n",
    "            else:\n",
    "                return 'invalid'\n",
    "        else:\n",
    "            return 'invalid'\n",
    "    else:\n",
    "        return 'invalid'"
   ]
  },
  {
   "cell_type": "code",
   "execution_count": 10,
   "metadata": {},
   "outputs": [],
   "source": [
    "iop_clean_name_self_gender['gender_ford'] = iop_clean_name_self_gender['clean_name'].apply(pred_gender_ford)"
   ]
  },
  {
   "cell_type": "code",
   "execution_count": 12,
   "metadata": {},
   "outputs": [],
   "source": [
    "iop_clean_name_self_gender.to_csv(\"./iop_clean_name_self_gender_ford.csv\", index=False, header=True, encoding='utf-8')"
   ]
  },
  {
   "cell_type": "code",
   "execution_count": null,
   "metadata": {},
   "outputs": [],
   "source": []
  }
 ],
 "metadata": {
  "kernelspec": {
   "display_name": "Python 3 (ipykernel)",
   "language": "python",
   "name": "python3"
  },
  "language_info": {
   "codemirror_mode": {
    "name": "ipython",
    "version": 3
   },
   "file_extension": ".py",
   "mimetype": "text/x-python",
   "name": "python",
   "nbconvert_exporter": "python",
   "pygments_lexer": "ipython3",
   "version": "3.8.13"
  }
 },
 "nbformat": 4,
 "nbformat_minor": 2
}
