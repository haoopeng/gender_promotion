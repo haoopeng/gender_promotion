{
 "cells": [
  {
   "cell_type": "code",
   "execution_count": 1,
   "id": "9bd0bc0a",
   "metadata": {},
   "outputs": [],
   "source": [
    "import re\n",
    "import time\n",
    "import json\n",
    "import csv\n",
    "import random\n",
    "import requests\n",
    "import pprint\n",
    "import pickle\n",
    "import unidecode\n",
    "import numpy as np\n",
    "import pandas as pd\n",
    "from random import sample\n",
    "import reverse_geocode\n",
    "import seaborn as sns\n",
    "import scipy.stats as stat\n",
    "from sklearn import metrics\n",
    "from fuzzywuzzy import fuzz\n",
    "import matplotlib.pyplot as plt\n",
    "from collections import Counter\n",
    "from scipy.stats import chisquare\n",
    "from collections import Counter, defaultdict\n",
    "from sklearn.metrics import cohen_kappa_score\n",
    "from vaderSentiment.vaderSentiment import SentimentIntensityAnalyzer"
   ]
  },
  {
   "cell_type": "code",
   "execution_count": 2,
   "id": "41bdd9ce",
   "metadata": {},
   "outputs": [],
   "source": [
    "Data_Root = '/Data/Promotion/revision/'"
   ]
  },
  {
   "cell_type": "code",
   "execution_count": 3,
   "id": "d051246a",
   "metadata": {},
   "outputs": [],
   "source": [
    "def yield_one_line(filename, delimiter = '\\t', quote = csv.QUOTE_NONE):\n",
    "    '''a generator which produce one line of a given file'''\n",
    "    with open(filename, 'r') as file:\n",
    "        print('processing %s...' %(filename))\n",
    "        reader = csv.reader(file, delimiter=delimiter, quoting=quote)\n",
    "        for row in reader:\n",
    "            yield row"
   ]
  },
  {
   "cell_type": "code",
   "execution_count": 4,
   "id": "593f64ab",
   "metadata": {
    "scrolled": true
   },
   "outputs": [],
   "source": [
    "utype = {'author_id': str, 'matched_tid': 'str', 'matched_tid_original': 'str', 'matched_tid_retweet': 'str'}\n",
    "reg_data = pd.read_csv(Data_Root+\"reg_data_drop_missing.csv\", header=0, dtype=utype)"
   ]
  },
  {
   "cell_type": "code",
   "execution_count": 5,
   "id": "4ceac790",
   "metadata": {
    "scrolled": false
   },
   "outputs": [
    {
     "data": {
      "text/plain": [
       "14552304"
      ]
     },
     "execution_count": 5,
     "metadata": {},
     "output_type": "execute_result"
    }
   ],
   "source": [
    "len(reg_data)"
   ]
  },
  {
   "cell_type": "code",
   "execution_count": 6,
   "id": "6b75ca08",
   "metadata": {},
   "outputs": [],
   "source": [
    "# focus on Male and Female\n",
    "reg_data = reg_data.loc[reg_data['gender'].isin(['Female', 'Male'])]\n",
    "reg_data.index = range(len(reg_data))"
   ]
  },
  {
   "cell_type": "code",
   "execution_count": 7,
   "id": "b4620dc4",
   "metadata": {},
   "outputs": [
    {
     "data": {
      "text/plain": [
       "11420039"
      ]
     },
     "execution_count": 7,
     "metadata": {},
     "output_type": "execute_result"
    }
   ],
   "source": [
    "len(reg_data)"
   ]
  },
  {
   "cell_type": "code",
   "execution_count": 8,
   "id": "5be5b2b3",
   "metadata": {},
   "outputs": [],
   "source": [
    "reg_data = reg_data.loc[reg_data['affiliation_cate'] != 'unknown']\n",
    "reg_data.index = range(len(reg_data))"
   ]
  },
  {
   "cell_type": "code",
   "execution_count": 9,
   "id": "8520197d",
   "metadata": {
    "scrolled": false
   },
   "outputs": [
    {
     "data": {
      "text/plain": [
       "11396752"
      ]
     },
     "execution_count": 9,
     "metadata": {},
     "output_type": "execute_result"
    }
   ],
   "source": [
    "len(reg_data)"
   ]
  },
  {
   "cell_type": "code",
   "execution_count": 10,
   "id": "0d8b984f",
   "metadata": {},
   "outputs": [
    {
     "data": {
      "text/html": [
       "<div>\n",
       "<style scoped>\n",
       "    .dataframe tbody tr th:only-of-type {\n",
       "        vertical-align: middle;\n",
       "    }\n",
       "\n",
       "    .dataframe tbody tr th {\n",
       "        vertical-align: top;\n",
       "    }\n",
       "\n",
       "    .dataframe thead th {\n",
       "        text-align: right;\n",
       "    }\n",
       "</style>\n",
       "<table border=\"1\" class=\"dataframe\">\n",
       "  <thead>\n",
       "    <tr style=\"text-align: right;\">\n",
       "      <th></th>\n",
       "      <th>doi</th>\n",
       "      <th>pub_year</th>\n",
       "      <th>author_name</th>\n",
       "      <th>authorship_seq</th>\n",
       "      <th>authorship_pos</th>\n",
       "      <th>author_id</th>\n",
       "      <th>affiliation_ids</th>\n",
       "      <th>self_promotion_original</th>\n",
       "      <th>matched_tid_original</th>\n",
       "      <th>self_promotion_retweet</th>\n",
       "      <th>...</th>\n",
       "      <th>author_eth_ethnea_broad</th>\n",
       "      <th>pub_date</th>\n",
       "      <th>is_active_on_twitter</th>\n",
       "      <th>follower_cn_snapshot</th>\n",
       "      <th>matched_uid</th>\n",
       "      <th>is_active_on_twitter_ours</th>\n",
       "      <th>follower_cn_snapshot_ours</th>\n",
       "      <th>is_active_on_twitter_combine</th>\n",
       "      <th>follower_cn_snapshot_combine</th>\n",
       "      <th>self_promotion_first</th>\n",
       "    </tr>\n",
       "  </thead>\n",
       "  <tbody>\n",
       "    <tr>\n",
       "      <th>0</th>\n",
       "      <td>10.4202/app.00261.2016</td>\n",
       "      <td>2016</td>\n",
       "      <td>Michal Zaton</td>\n",
       "      <td>2</td>\n",
       "      <td>last_position</td>\n",
       "      <td>2064717215</td>\n",
       "      <td>864159182</td>\n",
       "      <td>False</td>\n",
       "      <td>NaN</td>\n",
       "      <td>False</td>\n",
       "      <td>...</td>\n",
       "      <td>EasternEuropean</td>\n",
       "      <td>2016-01-01</td>\n",
       "      <td>False</td>\n",
       "      <td>-1</td>\n",
       "      <td>NaN</td>\n",
       "      <td>False</td>\n",
       "      <td>-1</td>\n",
       "      <td>False</td>\n",
       "      <td>-1</td>\n",
       "      <td>False</td>\n",
       "    </tr>\n",
       "    <tr>\n",
       "      <th>1</th>\n",
       "      <td>10.1016/j.foodchem.2013.11.152</td>\n",
       "      <td>2014</td>\n",
       "      <td>He Li</td>\n",
       "      <td>3</td>\n",
       "      <td>middle_position</td>\n",
       "      <td>2569941301</td>\n",
       "      <td>4750791</td>\n",
       "      <td>False</td>\n",
       "      <td>NaN</td>\n",
       "      <td>False</td>\n",
       "      <td>...</td>\n",
       "      <td>Chinese</td>\n",
       "      <td>2014-06-01</td>\n",
       "      <td>False</td>\n",
       "      <td>-1</td>\n",
       "      <td>NaN</td>\n",
       "      <td>False</td>\n",
       "      <td>-1</td>\n",
       "      <td>False</td>\n",
       "      <td>-1</td>\n",
       "      <td>False</td>\n",
       "    </tr>\n",
       "    <tr>\n",
       "      <th>2</th>\n",
       "      <td>10.1145/2785956.2787504</td>\n",
       "      <td>2015</td>\n",
       "      <td>Omid Abari</td>\n",
       "      <td>1</td>\n",
       "      <td>first_position</td>\n",
       "      <td>27058069</td>\n",
       "      <td>63966007</td>\n",
       "      <td>False</td>\n",
       "      <td>NaN</td>\n",
       "      <td>False</td>\n",
       "      <td>...</td>\n",
       "      <td>MiddleEastern</td>\n",
       "      <td>2015-09-22</td>\n",
       "      <td>False</td>\n",
       "      <td>-1</td>\n",
       "      <td>NaN</td>\n",
       "      <td>False</td>\n",
       "      <td>-1</td>\n",
       "      <td>False</td>\n",
       "      <td>-1</td>\n",
       "      <td>False</td>\n",
       "    </tr>\n",
       "  </tbody>\n",
       "</table>\n",
       "<p>3 rows × 81 columns</p>\n",
       "</div>"
      ],
      "text/plain": [
       "                              doi  pub_year   author_name  authorship_seq  \\\n",
       "0          10.4202/app.00261.2016      2016  Michal Zaton               2   \n",
       "1  10.1016/j.foodchem.2013.11.152      2014         He Li               3   \n",
       "2         10.1145/2785956.2787504      2015    Omid Abari               1   \n",
       "\n",
       "    authorship_pos   author_id affiliation_ids  self_promotion_original  \\\n",
       "0    last_position  2064717215       864159182                    False   \n",
       "1  middle_position  2569941301         4750791                    False   \n",
       "2   first_position    27058069        63966007                    False   \n",
       "\n",
       "  matched_tid_original  self_promotion_retweet  ... author_eth_ethnea_broad  \\\n",
       "0                  NaN                   False  ...         EasternEuropean   \n",
       "1                  NaN                   False  ...                 Chinese   \n",
       "2                  NaN                   False  ...           MiddleEastern   \n",
       "\n",
       "     pub_date is_active_on_twitter follower_cn_snapshot  matched_uid  \\\n",
       "0  2016-01-01                False                   -1          NaN   \n",
       "1  2014-06-01                False                   -1          NaN   \n",
       "2  2015-09-22                False                   -1          NaN   \n",
       "\n",
       "   is_active_on_twitter_ours  follower_cn_snapshot_ours  \\\n",
       "0                      False                         -1   \n",
       "1                      False                         -1   \n",
       "2                      False                         -1   \n",
       "\n",
       "   is_active_on_twitter_combine follower_cn_snapshot_combine  \\\n",
       "0                         False                           -1   \n",
       "1                         False                           -1   \n",
       "2                         False                           -1   \n",
       "\n",
       "  self_promotion_first  \n",
       "0                False  \n",
       "1                False  \n",
       "2                False  \n",
       "\n",
       "[3 rows x 81 columns]"
      ]
     },
     "execution_count": 10,
     "metadata": {},
     "output_type": "execute_result"
    }
   ],
   "source": [
    "reg_data.head(3)"
   ]
  },
  {
   "cell_type": "code",
   "execution_count": 11,
   "id": "b18f8956",
   "metadata": {},
   "outputs": [
    {
     "data": {
      "text/plain": [
       "480622"
      ]
     },
     "execution_count": 11,
     "metadata": {},
     "output_type": "execute_result"
    }
   ],
   "source": [
    "len(reg_data.loc[~reg_data.matched_tid.isnull()])"
   ]
  },
  {
   "cell_type": "code",
   "execution_count": 12,
   "id": "3fd44a11",
   "metadata": {
    "scrolled": true
   },
   "outputs": [
    {
     "data": {
      "text/plain": [
       "480622"
      ]
     },
     "execution_count": 12,
     "metadata": {},
     "output_type": "execute_result"
    }
   ],
   "source": [
    "len(reg_data.loc[reg_data.self_promotion == True])"
   ]
  },
  {
   "cell_type": "code",
   "execution_count": 13,
   "id": "5bc85568",
   "metadata": {},
   "outputs": [],
   "source": [
    "reg_data = reg_data.loc[reg_data.self_promotion == True]\n",
    "reg_data.index = range(len(reg_data))"
   ]
  },
  {
   "cell_type": "code",
   "execution_count": 14,
   "id": "30f1ba88",
   "metadata": {},
   "outputs": [
    {
     "data": {
      "text/plain": [
       "480622"
      ]
     },
     "execution_count": 14,
     "metadata": {},
     "output_type": "execute_result"
    }
   ],
   "source": [
    "len(reg_data)"
   ]
  },
  {
   "cell_type": "code",
   "execution_count": 15,
   "id": "b09c7e7c",
   "metadata": {
    "scrolled": true
   },
   "outputs": [
    {
     "data": {
      "text/plain": [
       "0"
      ]
     },
     "execution_count": 15,
     "metadata": {},
     "output_type": "execute_result"
    }
   ],
   "source": [
    "len(reg_data.loc[reg_data.matched_tid.isnull()])"
   ]
  },
  {
   "cell_type": "code",
   "execution_count": 16,
   "id": "826e2b2f",
   "metadata": {
    "scrolled": false
   },
   "outputs": [
    {
     "data": {
      "text/plain": [
       "Male      340781\n",
       "Female    139841\n",
       "Name: gender, dtype: int64"
      ]
     },
     "execution_count": 16,
     "metadata": {},
     "output_type": "execute_result"
    }
   ],
   "source": [
    "reg_data['gender'].value_counts()"
   ]
  },
  {
   "cell_type": "code",
   "execution_count": 17,
   "id": "7b571c0f",
   "metadata": {},
   "outputs": [],
   "source": [
    "target_tids = set(reg_data['matched_tid'].tolist())"
   ]
  },
  {
   "cell_type": "code",
   "execution_count": 18,
   "id": "006b0d22",
   "metadata": {
    "scrolled": true
   },
   "outputs": [
    {
     "data": {
      "text/plain": [
       "465323"
      ]
     },
     "execution_count": 18,
     "metadata": {},
     "output_type": "execute_result"
    }
   ],
   "source": [
    "len(target_tids)"
   ]
  },
  {
   "cell_type": "code",
   "execution_count": 19,
   "id": "9305d023",
   "metadata": {},
   "outputs": [],
   "source": [
    "tid_text = {}\n",
    "\n",
    "with open('/Data/Promotion/tweets_v2.json', 'r') as ifile:\n",
    "    for line in ifile:\n",
    "        line = json.loads(line)\n",
    "        tid, tdate, text = line['id_str'], line['created_at'], line['full_text']\n",
    "        if tid in target_tids:\n",
    "            tid_text[tid] = text"
   ]
  },
  {
   "cell_type": "code",
   "execution_count": 20,
   "id": "3cece590",
   "metadata": {
    "scrolled": false
   },
   "outputs": [
    {
     "data": {
      "text/plain": [
       "460906"
      ]
     },
     "execution_count": 20,
     "metadata": {},
     "output_type": "execute_result"
    }
   ],
   "source": [
    "len(tid_text)"
   ]
  },
  {
   "cell_type": "code",
   "execution_count": 21,
   "id": "9177d1bd",
   "metadata": {},
   "outputs": [],
   "source": [
    "reg_data = reg_data.loc[reg_data.matched_tid.isin(tid_text)]\n",
    "reg_data.index = range(len(reg_data))"
   ]
  },
  {
   "cell_type": "code",
   "execution_count": 22,
   "id": "8c8ca69d",
   "metadata": {
    "scrolled": true
   },
   "outputs": [
    {
     "data": {
      "text/plain": [
       "Male      337230\n",
       "Female    138666\n",
       "Name: gender, dtype: int64"
      ]
     },
     "execution_count": 22,
     "metadata": {},
     "output_type": "execute_result"
    }
   ],
   "source": [
    "reg_data['gender'].value_counts()"
   ]
  },
  {
   "cell_type": "code",
   "execution_count": 23,
   "id": "73b4e6d7",
   "metadata": {},
   "outputs": [],
   "source": [
    "analyzer = SentimentIntensityAnalyzer()"
   ]
  },
  {
   "cell_type": "code",
   "execution_count": 24,
   "id": "7e6ca20f",
   "metadata": {},
   "outputs": [],
   "source": [
    "event_sen_count = defaultdict(lambda: defaultdict(int))\n",
    "\n",
    "for tid in reg_data.loc[reg_data['gender'] == 'Male']['matched_tid']:\n",
    "    if tid in tid_text:\n",
    "        res = analyzer.polarity_scores(tid_text[tid])\n",
    "        comp = res['compound']\n",
    "        sen_label = \"Neu.\"\n",
    "        if comp < -0.05:\n",
    "            sen_label = \"Neg.\"\n",
    "        if comp > 0.05:\n",
    "            sen_label = \"Pos.\"\n",
    "        event_sen_count[sen_label]['Male'] += 1\n",
    "        \n",
    "for tid in reg_data.loc[reg_data['gender'] == 'Female']['matched_tid']:\n",
    "    if tid in tid_text:\n",
    "        res = analyzer.polarity_scores(tid_text[tid])\n",
    "        comp = res['compound']\n",
    "        sen_label = \"Neu.\"\n",
    "        if comp < -0.05:\n",
    "            sen_label = \"Neg.\"\n",
    "        if comp > 0.05:\n",
    "            sen_label = \"Pos.\"\n",
    "        event_sen_count[sen_label]['Female'] += 1"
   ]
  },
  {
   "cell_type": "code",
   "execution_count": 25,
   "id": "373c6498",
   "metadata": {},
   "outputs": [],
   "source": [
    "sen_df = pd.DataFrame.from_dict(event_sen_count)"
   ]
  },
  {
   "cell_type": "code",
   "execution_count": 26,
   "id": "2ff067c0",
   "metadata": {},
   "outputs": [
    {
     "data": {
      "text/html": [
       "<div>\n",
       "<style scoped>\n",
       "    .dataframe tbody tr th:only-of-type {\n",
       "        vertical-align: middle;\n",
       "    }\n",
       "\n",
       "    .dataframe tbody tr th {\n",
       "        vertical-align: top;\n",
       "    }\n",
       "\n",
       "    .dataframe thead th {\n",
       "        text-align: right;\n",
       "    }\n",
       "</style>\n",
       "<table border=\"1\" class=\"dataframe\">\n",
       "  <thead>\n",
       "    <tr style=\"text-align: right;\">\n",
       "      <th></th>\n",
       "      <th>Neu.</th>\n",
       "      <th>Pos.</th>\n",
       "      <th>Neg.</th>\n",
       "    </tr>\n",
       "  </thead>\n",
       "  <tbody>\n",
       "    <tr>\n",
       "      <th>Male</th>\n",
       "      <td>156282</td>\n",
       "      <td>128127</td>\n",
       "      <td>52821</td>\n",
       "    </tr>\n",
       "    <tr>\n",
       "      <th>Female</th>\n",
       "      <td>60396</td>\n",
       "      <td>56853</td>\n",
       "      <td>21417</td>\n",
       "    </tr>\n",
       "  </tbody>\n",
       "</table>\n",
       "</div>"
      ],
      "text/plain": [
       "          Neu.    Pos.   Neg.\n",
       "Male    156282  128127  52821\n",
       "Female   60396   56853  21417"
      ]
     },
     "execution_count": 26,
     "metadata": {},
     "output_type": "execute_result"
    }
   ],
   "source": [
    "sen_df"
   ]
  },
  {
   "cell_type": "code",
   "execution_count": 27,
   "id": "e99b1529",
   "metadata": {},
   "outputs": [
    {
     "data": {
      "text/html": [
       "<div>\n",
       "<style scoped>\n",
       "    .dataframe tbody tr th:only-of-type {\n",
       "        vertical-align: middle;\n",
       "    }\n",
       "\n",
       "    .dataframe tbody tr th {\n",
       "        vertical-align: top;\n",
       "    }\n",
       "\n",
       "    .dataframe thead th {\n",
       "        text-align: right;\n",
       "    }\n",
       "</style>\n",
       "<table border=\"1\" class=\"dataframe\">\n",
       "  <thead>\n",
       "    <tr style=\"text-align: right;\">\n",
       "      <th></th>\n",
       "      <th>Neu.</th>\n",
       "      <th>Pos.</th>\n",
       "      <th>Neg.</th>\n",
       "    </tr>\n",
       "  </thead>\n",
       "  <tbody>\n",
       "    <tr>\n",
       "      <th>Male</th>\n",
       "      <td>0.463429</td>\n",
       "      <td>0.37994</td>\n",
       "      <td>0.156632</td>\n",
       "    </tr>\n",
       "    <tr>\n",
       "      <th>Female</th>\n",
       "      <td>0.435550</td>\n",
       "      <td>0.41000</td>\n",
       "      <td>0.154450</td>\n",
       "    </tr>\n",
       "  </tbody>\n",
       "</table>\n",
       "</div>"
      ],
      "text/plain": [
       "            Neu.     Pos.      Neg.\n",
       "Male    0.463429  0.37994  0.156632\n",
       "Female  0.435550  0.41000  0.154450"
      ]
     },
     "execution_count": 27,
     "metadata": {},
     "output_type": "execute_result"
    }
   ],
   "source": [
    "sen_df.div(sen_df.sum(axis=1), axis=0)"
   ]
  },
  {
   "cell_type": "code",
   "execution_count": 28,
   "id": "63d2d3d6",
   "metadata": {},
   "outputs": [],
   "source": [
    "g, p, dof, expctd = stat.chi2_contingency(sen_df)"
   ]
  },
  {
   "cell_type": "code",
   "execution_count": 29,
   "id": "ed1a1168",
   "metadata": {
    "scrolled": true
   },
   "outputs": [
    {
     "data": {
      "text/plain": [
       "2.107303027211385e-87"
      ]
     },
     "execution_count": 29,
     "metadata": {},
     "output_type": "execute_result"
    }
   ],
   "source": [
    "p"
   ]
  },
  {
   "cell_type": "code",
   "execution_count": 47,
   "id": "016185f2",
   "metadata": {},
   "outputs": [
    {
     "data": {
      "image/png": "[encoded data removed]",
      "text/plain": [
       "<Figure size 360x252 with 2 Axes>"
      ]
     },
     "metadata": {},
     "output_type": "display_data"
    }
   ],
   "source": [
    "fig, axes = plt.subplots(nrows=1, ncols=2, figsize=(5, 3.5))\n",
    "\n",
    "# ax1\n",
    "ax = axes[0]\n",
    "sns.set(font_scale=1)\n",
    "# categories = sen_df.index.tolist()\n",
    "categories = ['Man', 'Woman']\n",
    "\n",
    "neg_count = sen_df['Neg.'].values\n",
    "neu_count = sen_df['Neu.'].values\n",
    "pos_count = sen_df['Pos.'].values\n",
    "\n",
    "p1 = ax.bar(categories, neg_count, 0.3, color='red')\n",
    "p2 = ax.bar(categories, neu_count, 0.3, color='blue', bottom = neg_count)\n",
    "p3 = ax.bar(categories, pos_count, 0.3, color='green', bottom = neg_count + neu_count)\n",
    "ax.legend((p3[0], p2[0], p1[0]), ('Pos.', 'Neu.', 'Neg.'))\n",
    "ax.set_ylabel(r'Num. of self-promotion tweets')\n",
    "ax.ticklabel_format(axis='y', style='sci', scilimits=(0,0))\n",
    "# ax.get_yaxis().set_major_formatter(mtick.FuncFormatter(lambda x, p: format(int(x/1000000), ',')))\n",
    "ax.text(-0.4, 1.1, 'A', fontsize=12, ha='left', va='top', transform=ax.transAxes)\n",
    "\n",
    "# ax2\n",
    "# Plots the bar chart\n",
    "# bar_width = 1\n",
    "bar_l = [i for i in range(len(sen_df))] \n",
    "totals = sen_df.sum(axis=1).tolist()\n",
    "pos_rel = sen_df['Pos.'] * 100 / totals\n",
    "neu_rel = sen_df['Neu.'] * 100 / totals\n",
    "neg_rel = sen_df['Neg.'] * 100 / totals\n",
    "\n",
    "ax = axes[1]\n",
    "p1 = ax.bar(categories, neg_rel, 0.3, color='red')\n",
    "p2 = ax.bar(categories, neu_rel, 0.3, color='blue', bottom = neg_rel)\n",
    "p3 = ax.bar(categories, pos_rel, 0.3, color='green', bottom = neg_rel + neu_rel)\n",
    "\n",
    "ax.set_ylabel(\"Percentage\")\n",
    "ax.set_xlabel(\"\")\n",
    "# ax.legend(loc='right', fontsize = 10, frameon = False, ncol=1)\n",
    "# plt.setp(plt.gca().get_xticklabels(), rotation=15, horizontalalignment='right')\n",
    "# ax.set_xlim([min(bar_l)-bar_width, max(bar_l)+bar_width])\n",
    "ax.set_ylim(0, 105)\n",
    "ax.text(-0.4, 1.1, 'B', fontsize=12, ha='left', va='top', transform=ax.transAxes)\n",
    "\n",
    "\n",
    "plt.subplots_adjust(wspace=0.6)\n",
    "plt.show()\n",
    "fig.savefig(\"sentiment.pdf\", bbox_inches='tight', pad_inches=0)"
   ]
  },
  {
   "cell_type": "code",
   "execution_count": 31,
   "id": "710b4c5b",
   "metadata": {},
   "outputs": [],
   "source": [
    "#'favorable',\n",
    "#'favourable',\n",
    "pos_words = ['amazing',\n",
    " 'assuring',\n",
    " 'astonishing',\n",
    " 'bright',\n",
    " 'creative',\n",
    " 'encouraging',\n",
    " 'enormous',\n",
    " 'excellent',\n",
    " 'favorable',\n",
    " 'groundbreaking',\n",
    " 'hopeful',\n",
    " 'innovative',\n",
    " 'inspiring',\n",
    " 'inventive',\n",
    " 'novel',\n",
    " 'phenomenal',\n",
    " 'prominent',\n",
    " 'promising',\n",
    " 'reassuring',\n",
    " 'remarkable',\n",
    " 'robust',\n",
    " 'spectacular',\n",
    " 'supportive',\n",
    " 'unique',\n",
    " 'unprecedented']"
   ]
  },
  {
   "cell_type": "code",
   "execution_count": 32,
   "id": "a9baf2da",
   "metadata": {
    "scrolled": true
   },
   "outputs": [
    {
     "data": {
      "text/plain": [
       "25"
      ]
     },
     "execution_count": 32,
     "metadata": {},
     "output_type": "execute_result"
    }
   ],
   "source": [
    "len(pos_words)"
   ]
  },
  {
   "cell_type": "code",
   "execution_count": 33,
   "id": "343a4150",
   "metadata": {},
   "outputs": [],
   "source": [
    "def check_word_occur(tid, word):\n",
    "    sss_ = tid_text[tid].lower()\n",
    "    if word in sss_:\n",
    "        return 1\n",
    "    else:\n",
    "        return 0"
   ]
  },
  {
   "cell_type": "code",
   "execution_count": 34,
   "id": "5dd95f31",
   "metadata": {
    "scrolled": false
   },
   "outputs": [],
   "source": [
    "for word in pos_words:\n",
    "    reg_data[word] = reg_data['matched_tid'].apply(lambda tid: check_word_occur(tid, word))"
   ]
  },
  {
   "cell_type": "code",
   "execution_count": 35,
   "id": "c6f99848",
   "metadata": {},
   "outputs": [
    {
     "name": "stdout",
     "output_type": "stream",
     "text": [
      "amazing \n",
      "\n",
      "gender     Female      Male\n",
      "amazing                    \n",
      "0        0.996344  0.997011\n",
      "1        0.003656  0.002989\n",
      "\n",
      "assuring \n",
      "\n",
      "gender      Female      Male\n",
      "assuring                    \n",
      "0         0.999921  0.999923\n",
      "1         0.000079  0.000077\n",
      "\n",
      "astonishing \n",
      "\n",
      "gender         Female      Male\n",
      "astonishing                    \n",
      "0            0.999935  0.999938\n",
      "1            0.000065  0.000062\n",
      "\n",
      "bright \n",
      "\n",
      "gender    Female      Male\n",
      "bright                    \n",
      "0       0.999228  0.999244\n",
      "1       0.000772  0.000756\n",
      "\n",
      "creative \n",
      "\n",
      "gender      Female      Male\n",
      "creative                    \n",
      "0         0.999344  0.999534\n",
      "1         0.000656  0.000466\n",
      "\n",
      "encouraging \n",
      "\n",
      "gender         Female      Male\n",
      "encouraging                    \n",
      "0            0.999856  0.999772\n",
      "1            0.000144  0.000228\n",
      "\n",
      "enormous \n",
      "\n",
      "gender      Female      Male\n",
      "enormous                    \n",
      "0         0.999885  0.999887\n",
      "1         0.000115  0.000113\n",
      "\n",
      "excellent \n",
      "\n",
      "gender       Female      Male\n",
      "excellent                    \n",
      "0          0.996776  0.996216\n",
      "1          0.003224  0.003784\n",
      "\n",
      "favorable \n",
      "\n",
      "gender       Female      Male\n",
      "favorable                    \n",
      "0          0.999877  0.999772\n",
      "1          0.000123  0.000228\n",
      "\n",
      "groundbreaking \n",
      "\n",
      "gender            Female      Male\n",
      "groundbreaking                    \n",
      "0               0.999885  0.999843\n",
      "1               0.000115  0.000157\n",
      "\n",
      "hopeful \n",
      "\n",
      "gender     Female      Male\n",
      "hopeful                    \n",
      "0        0.999221  0.999033\n",
      "1        0.000779  0.000967\n",
      "\n",
      "innovative \n",
      "\n",
      "gender        Female      Male\n",
      "innovative                    \n",
      "0           0.999005  0.999265\n",
      "1           0.000995  0.000735\n",
      "\n",
      "inspiring \n",
      "\n",
      "gender       Female      Male\n",
      "inspiring                    \n",
      "0          0.999762  0.999843\n",
      "1          0.000238  0.000157\n",
      "\n",
      "inventive \n",
      "\n",
      "gender       Female      Male\n",
      "inventive                    \n",
      "0          0.999993  0.999964\n",
      "1          0.000007  0.000036\n",
      "\n",
      "novel \n",
      "\n",
      "gender    Female      Male\n",
      "novel                     \n",
      "0       0.994353  0.992471\n",
      "1       0.005647  0.007529\n",
      "\n",
      "phenomenal \n",
      "\n",
      "gender        Female      Male\n",
      "phenomenal                    \n",
      "0           0.999935  0.999908\n",
      "1           0.000065  0.000092\n",
      "\n",
      "prominent \n",
      "\n",
      "gender       Female      Male\n",
      "prominent                    \n",
      "0          0.999913  0.999861\n",
      "1          0.000087  0.000139\n",
      "\n",
      "promising \n",
      "\n",
      "gender       Female      Male\n",
      "promising                    \n",
      "0          0.999257  0.999102\n",
      "1          0.000743  0.000898\n",
      "\n",
      "reassuring \n",
      "\n",
      "gender        Female      Male\n",
      "reassuring                    \n",
      "0           0.999942  0.999941\n",
      "1           0.000058  0.000059\n",
      "\n",
      "remarkable \n",
      "\n",
      "gender        Female      Male\n",
      "remarkable                    \n",
      "0           0.999784  0.999523\n",
      "1           0.000216  0.000477\n",
      "\n",
      "robust \n",
      "\n",
      "gender    Female      Male\n",
      "robust                    \n",
      "0       0.998752  0.998333\n",
      "1       0.001248  0.001667\n",
      "\n",
      "spectacular \n",
      "\n",
      "gender         Female      Male\n",
      "spectacular                    \n",
      "0            0.999928  0.999902\n",
      "1            0.000072  0.000098\n",
      "\n",
      "supportive \n",
      "\n",
      "gender        Female      Male\n",
      "supportive                    \n",
      "0           0.999394  0.999766\n",
      "1           0.000606  0.000234\n",
      "\n",
      "unique \n",
      "\n",
      "gender    Female      Male\n",
      "unique                    \n",
      "0       0.998767  0.998674\n",
      "1       0.001233  0.001326\n",
      "\n",
      "unprecedented \n",
      "\n",
      "gender           Female      Male\n",
      "unprecedented                    \n",
      "0              0.999892  0.999784\n",
      "1              0.000108  0.000216\n",
      "\n"
     ]
    }
   ],
   "source": [
    "for word in pos_words:\n",
    "    tem_df = pd.crosstab(reg_data[word], reg_data['gender'])\n",
    "    tem_df = tem_df.div(tem_df.sum(axis=0), axis=1)\n",
    "    print(word, '\\n')\n",
    "    print(tem_df)\n",
    "    print()"
   ]
  },
  {
   "cell_type": "code",
   "execution_count": 36,
   "id": "22118a47",
   "metadata": {},
   "outputs": [],
   "source": [
    "colors = sns.color_palette()[:2]"
   ]
  },
  {
   "cell_type": "code",
   "execution_count": 37,
   "id": "584ff585",
   "metadata": {
    "scrolled": false
   },
   "outputs": [],
   "source": [
    "plot_data = []\n",
    "\n",
    "for word in pos_words:\n",
    "    perc = reg_data[word].sum()/len(reg_data)\n",
    "    male_seq = reg_data.loc[reg_data['gender'] == 'Male'][word]\n",
    "    female_seq = reg_data.loc[reg_data['gender'] == 'Female'][word]\n",
    "    if np.mean(male_seq) >= np.mean(female_seq):\n",
    "        color = colors[0]\n",
    "        _, p_u = stat.mannwhitneyu(male_seq, female_seq, alternative='greater')\n",
    "    else:\n",
    "        color = colors[1]\n",
    "        _, p_u = stat.mannwhitneyu(male_seq, female_seq, alternative='less')\n",
    "    star = ''\n",
    "    if p_u < 0.001:\n",
    "        star = '***'\n",
    "    elif p_u < 0.01:\n",
    "        star = '**'\n",
    "    elif p_u < 0.05:\n",
    "        star = '*'\n",
    "    plot_data.append([word, perc, color, star])"
   ]
  },
  {
   "cell_type": "code",
   "execution_count": 38,
   "id": "263649d1",
   "metadata": {},
   "outputs": [],
   "source": [
    "plot_data = sorted(plot_data, key = lambda x: -1 * x[1])"
   ]
  },
  {
   "cell_type": "code",
   "execution_count": 39,
   "id": "e5153707",
   "metadata": {},
   "outputs": [
    {
     "name": "stdout",
     "output_type": "stream",
     "text": [
      "0.00698 novel ***\n",
      "0.00362 excellent **\n",
      "0.00318 amazing ***\n",
      "0.00154 robust ***\n",
      "0.00130 unique \n",
      "0.00091 hopeful *\n",
      "0.00085 promising *\n",
      "0.00081 innovative **\n",
      "0.00076 bright \n",
      "0.00052 creative **\n",
      "0.00040 remarkable ***\n",
      "0.00034 supportive ***\n",
      "0.00020 encouraging *\n",
      "0.00020 favorable **\n",
      "0.00018 unprecedented **\n",
      "0.00018 inspiring *\n",
      "0.00014 groundbreaking \n",
      "0.00012 prominent \n",
      "0.00011 enormous \n",
      "0.00009 spectacular \n",
      "0.00008 phenomenal \n",
      "0.00008 assuring \n",
      "0.00006 astonishing \n",
      "0.00006 reassuring \n",
      "0.00003 inventive *\n"
     ]
    }
   ],
   "source": [
    "for word, perc, color, star in plot_data:\n",
    "    print('%.5f'%perc, word, star)"
   ]
  },
  {
   "cell_type": "code",
   "execution_count": 40,
   "id": "7de9d0ab",
   "metadata": {},
   "outputs": [
    {
     "data": {
      "image/png": "[encoded data removed]",
      "text/plain": [
       "<Figure size 720x252 with 1 Axes>"
      ]
     },
     "metadata": {},
     "output_type": "display_data"
    }
   ],
   "source": [
    "fig, ax = plt.subplots(nrows=1, ncols=1, figsize=(10, 3.5))\n",
    "\n",
    "xs_1, percs_1, color_1 = [], [], []\n",
    "xs_2, percs_2, color_2 = [], [], []\n",
    "\n",
    "for i in range(len(plot_data)):\n",
    "    word, perc, color, star = plot_data[i]\n",
    "    if color == colors[0]:\n",
    "        xs_1.append(i)\n",
    "        percs_1.append(perc)\n",
    "        color_1.append(color)\n",
    "    else:\n",
    "        xs_2.append(i)\n",
    "        percs_2.append(perc)\n",
    "        color_2.append(color)\n",
    "ax.bar(xs_1, percs_1, 0.5, color=color_1, label='Greater use by men')\n",
    "ax.bar(xs_2, percs_2, 0.5, color=color_2, label='Greater use by women')\n",
    "legend = ax.legend(loc=[0.6, 0.73], numpoints=2, labelspacing = 0.2, shadow=False, frameon = True)\n",
    "\n",
    "words_ = [word for word, perc, color, star in plot_data]\n",
    "\n",
    "for i in range(len(plot_data)):\n",
    "    word, perc, color, star = plot_data[i]\n",
    "    ax.annotate(star, xy=(i, perc), xycoords='data', xytext=(3.5, 4), textcoords='offset points', \\\n",
    "                ha='center', va='bottom', rotation=90)\n",
    "ax.set_ylabel(\"Percent of self-promotion tweets\")\n",
    "ax.set_xticks(list(range(len(words_))))\n",
    "ax.set_xticklabels(words_)\n",
    "for label in ax.get_xticklabels():\n",
    "    label.set_ha(\"right\")\n",
    "    label.set_rotation(40)\n",
    "ax.set_yscale('log')\n",
    "ax.set_ylim(0.00001, 0.02)\n",
    "ax.grid(visible=False)\n",
    "# ax.set_facecolor('white')\n",
    "# ax.spines['right'].set_visible(True)\n",
    "# ax.spines['left'].set_visible(True)\n",
    "# ax.spines['top'].set_visible(True)\n",
    "# ax.spines['bottom'].set_visible(True)\n",
    "plt.show()\n",
    "fig.savefig(\"pos_word.pdf\", bbox_inches='tight', pad_inches=0)"
   ]
  },
  {
   "cell_type": "code",
   "execution_count": null,
   "id": "9c1344a9",
   "metadata": {},
   "outputs": [],
   "source": []
  }
 ],
 "metadata": {
  "kernelspec": {
   "display_name": "Python 3 (ipykernel)",
   "language": "python",
   "name": "python3"
  },
  "language_info": {
   "codemirror_mode": {
    "name": "ipython",
    "version": 3
   },
   "file_extension": ".py",
   "mimetype": "text/x-python",
   "name": "python",
   "nbconvert_exporter": "python",
   "pygments_lexer": "ipython3",
   "version": "3.8.13"
  }
 },
 "nbformat": 4,
 "nbformat_minor": 5
}
